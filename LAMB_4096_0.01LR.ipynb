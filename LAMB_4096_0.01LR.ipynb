{
  "nbformat": 4,
  "nbformat_minor": 0,
  "metadata": {
    "colab": {
      "provenance": [],
      "gpuType": "T4",
      "authorship_tag": "ABX9TyMeuVg2UV+b5i3Vx/JX1rxQ",
      "include_colab_link": true
    },
    "kernelspec": {
      "name": "python3",
      "display_name": "Python 3"
    },
    "language_info": {
      "name": "python"
    },
    "accelerator": "GPU"
  },
  "cells": [
    {
      "cell_type": "markdown",
      "metadata": {
        "id": "view-in-github",
        "colab_type": "text"
      },
      "source": [
        "<a href=\"https://colab.research.google.com/github/Zurehma/AML_Project/blob/zurehma/LAMB_4096_0.01LR.ipynb\" target=\"_parent\"><img src=\"https://colab.research.google.com/assets/colab-badge.svg\" alt=\"Open In Colab\"/></a>"
      ]
    },
    {
      "cell_type": "code",
      "execution_count": null,
      "metadata": {
        "id": "TVNT8mgH0h-t"
      },
      "outputs": [],
      "source": [
        "!pip install torch-optimizer"
      ]
    },
    {
      "cell_type": "code",
      "source": [
        "import torch\n",
        "import torch.nn as nn\n",
        "import torchvision.transforms as transforms\n",
        "import torch.nn.functional as F\n",
        "from torchvision.datasets import CIFAR10, CIFAR100\n",
        "import torchvision.models as models\n",
        "from torch.utils.data import DataLoader\n",
        "\n",
        "from tqdm import tqdm\n",
        "import matplotlib.pyplot as plt\n",
        "import time\n",
        "import pickle\n",
        "import numpy as np\n",
        "import random\n",
        "\n",
        "# ─── Import LAMB from torch-optimizer ───────────────────────────────────────\n",
        "from torch_optimizer import Lamb\n",
        "# ───────────────────────────────────────────────────────────────────────────────\n",
        "\n",
        "import math\n",
        "\n",
        "print(\"PyTorch version:\", torch.__version__)\n",
        "device = torch.device(\"cuda:0\" if torch.cuda.is_available() else \"cpu\")\n",
        "print(f\"Using device: {device}\")\n",
        "\n",
        "# Seeding for reproducibility\n",
        "seed = 2025\n",
        "torch.manual_seed(seed)\n",
        "torch.cuda.manual_seed(seed)\n",
        "np.random.seed(seed)\n",
        "random.seed(seed)\n",
        "\n",
        "# transforms\n",
        "train_transform = transforms.Compose(\n",
        "    [\n",
        "        transforms.RandomCrop(32, padding=4),\n",
        "        transforms.RandomHorizontalFlip(),\n",
        "        transforms.ToTensor(),\n",
        "        transforms.Normalize((0.4914, 0.4822, 0.4465),\n",
        "                             (0.2023, 0.1994, 0.2010)),\n",
        "    ]\n",
        ")\n",
        "\n",
        "test_transform = transforms.Compose(\n",
        "    [\n",
        "        transforms.ToTensor(),\n",
        "        transforms.Normalize((0.4914, 0.4822, 0.4465),\n",
        "                             (0.2023, 0.1994, 0.2010)),\n",
        "    ]\n",
        ")\n",
        "\n",
        "\n",
        "# load data\n",
        "def load_data(dataset_name=\"cifar100\", batch_size=128, num_workers=2):\n",
        "    \"\"\"Enhanced data loading with stronger augmentation for CIFAR-100\"\"\"\n",
        "\n",
        "    train_transform = transforms.Compose(\n",
        "        [\n",
        "            transforms.RandomCrop(32, padding=4),\n",
        "            transforms.RandomHorizontalFlip(),\n",
        "            transforms.ToTensor(),\n",
        "            transforms.Normalize((0.4914, 0.4822, 0.4465),\n",
        "                                 (0.2023, 0.1994, 0.2010)),\n",
        "        ]\n",
        "    )\n",
        "    test_transform = transforms.Compose(\n",
        "        [\n",
        "            transforms.ToTensor(),\n",
        "            transforms.Normalize((0.4914, 0.4822, 0.4465),\n",
        "                                 (0.2023, 0.1994, 0.2010)),\n",
        "        ]\n",
        "    )\n",
        "\n",
        "    if dataset_name.lower() == \"cifar100\":\n",
        "        train_dataset = CIFAR100(\n",
        "            root=\"./data\", train=True, download=True, transform=train_transform\n",
        "        )\n",
        "        test_dataset = CIFAR100(\n",
        "            root=\"./data\", train=False, download=True, transform=test_transform\n",
        "        )\n",
        "        num_classes = 100\n",
        "    else:\n",
        "        raise ValueError(f\"Dataset {dataset_name} not supported in enhanced version\")\n",
        "\n",
        "    train_loader = DataLoader(\n",
        "        train_dataset,\n",
        "        batch_size=batch_size,\n",
        "        shuffle=True,\n",
        "        num_workers=num_workers,\n",
        "    )\n",
        "    test_loader = DataLoader(\n",
        "        test_dataset,\n",
        "        batch_size=batch_size,\n",
        "        shuffle=False,\n",
        "        num_workers=num_workers,\n",
        "    )\n",
        "    return train_loader, test_loader, num_classes\n",
        "\n",
        "\n",
        "# model - LeNet5 from the paper [11]\n",
        "class LeNet5(nn.Module):\n",
        "    def __init__(self, num_classes=10):\n",
        "        super(LeNet5, self).__init__()\n",
        "        # Input: 3x32x32 (CIFAR has 3 color channels)\n",
        "        self.conv1 = nn.Conv2d(3, 6, kernel_size=5)  # Output: 6x28x28\n",
        "        self.pool1 = nn.MaxPool2d(kernel_size=2, stride=2)  # Output: 6x14x14\n",
        "        self.conv2 = nn.Conv2d(6, 16, kernel_size=5)  # Output: 16x10x10\n",
        "        self.pool2 = nn.MaxPool2d(kernel_size=2, stride=2)  # Output: 16x5x5\n",
        "\n",
        "        # fc layers\n",
        "        self.fc1 = nn.Linear(16 * 5 * 5, 120)\n",
        "        self.fc2 = nn.Linear(120, 84)\n",
        "        self.fc3 = nn.Linear(84, num_classes)\n",
        "\n",
        "    def forward(self, x):\n",
        "        x = self.pool1(F.relu(self.conv1(x)))\n",
        "        x = self.pool2(F.relu(self.conv2(x)))\n",
        "        x = x.view(-1, 16 * 5 * 5)  # flatten\n",
        "        x = F.relu(self.fc1(x))\n",
        "        x = F.relu(self.fc2(x))\n",
        "        x = self.fc3(x)\n",
        "        return x\n",
        "\n",
        "\n",
        "class ImprovedCNN(nn.Module):\n",
        "    def __init__(self, num_classes=100):\n",
        "        super(ImprovedCNN, self).__init__()\n",
        "        # First conv block\n",
        "        self.conv1 = nn.Conv2d(3, 64, kernel_size=5, padding=2)\n",
        "        self.bn1 = nn.BatchNorm2d(64)  # using BatchNorm for better training stability\n",
        "        self.pool1 = nn.MaxPool2d(kernel_size=2, stride=2)\n",
        "\n",
        "        # Second conv block\n",
        "        self.conv2 = nn.Conv2d(64, 64, kernel_size=5, padding=2)\n",
        "        self.bn2 = nn.BatchNorm2d(64)\n",
        "        self.pool2 = nn.MaxPool2d(kernel_size=2, stride=2)\n",
        "\n",
        "        # Fully connected layers\n",
        "        self.fc1 = nn.Linear(64 * 8 * 8, 384)\n",
        "        self.dropout1 = nn.Dropout(0.5)\n",
        "        self.fc2 = nn.Linear(384, 192)\n",
        "        self.dropout2 = nn.Dropout(0.5)\n",
        "        self.fc3 = nn.Linear(192, num_classes)\n",
        "\n",
        "    def forward(self, x):\n",
        "        # First conv block\n",
        "        x = self.pool1(F.relu(self.bn1(self.conv1(x))))\n",
        "        # Second conv block\n",
        "        x = self.pool2(F.relu(self.bn2(self.conv2(x))))\n",
        "        # Flatten and FC\n",
        "        x = x.view(-1, 64 * 8 * 8)\n",
        "        x = F.relu(self.fc1(x))\n",
        "        x = self.dropout1(x)\n",
        "        x = F.relu(self.fc2(x))\n",
        "        x = self.dropout2(x)\n",
        "        x = self.fc3(x)\n",
        "        return x\n",
        "\n",
        "\n",
        "def create_model(model_name, num_classes=100):\n",
        "    if model_name.lower() == \"improved_cnn\":\n",
        "        return ImprovedCNN(num_classes=num_classes)\n",
        "    elif model_name.lower() == \"lenet5\":\n",
        "        return LeNet5(num_classes=num_classes)\n",
        "    else:\n",
        "        raise ValueError(f\"Unknown model: {model_name}\")\n",
        "\n",
        "\n",
        "# train\n",
        "def train_epoch(model, train_loader, criterion, optimizer, device):\n",
        "    model.train()\n",
        "    running_loss = 0.0\n",
        "    correct = 0\n",
        "    total = 0\n",
        "\n",
        "    pbar = tqdm(train_loader, desc=\"Training\")\n",
        "    for inputs, labels in pbar:\n",
        "        inputs, labels = inputs.to(device), labels.to(device)\n",
        "\n",
        "        optimizer.zero_grad()\n",
        "        outputs = model(inputs)\n",
        "        loss = criterion(outputs, labels)\n",
        "        loss.backward()\n",
        "        optimizer.step()\n",
        "\n",
        "        running_loss += loss.item() * inputs.size(0)\n",
        "        _, predicted = outputs.max(1)\n",
        "        total += labels.size(0)\n",
        "        correct += predicted.eq(labels).sum().item()\n",
        "        pbar.set_postfix({\"loss\": running_loss / total,\n",
        "                          \"acc\": 100.0 * correct / total})\n",
        "\n",
        "    train_loss = running_loss / total\n",
        "    train_acc = 100.0 * correct / total\n",
        "    return train_loss, train_acc\n",
        "\n",
        "\n",
        "# eval\n",
        "def evaluate(model, test_loader, criterion, device):\n",
        "    model.eval()\n",
        "    running_loss = 0.0\n",
        "    correct = 0\n",
        "    total = 0\n",
        "\n",
        "    with torch.no_grad():\n",
        "        for inputs, labels in test_loader:\n",
        "            inputs, labels = inputs.to(device), labels.to(device)\n",
        "            outputs = model(inputs)\n",
        "            loss = criterion(outputs, labels)\n",
        "\n",
        "            running_loss += loss.item() * inputs.size(0)\n",
        "            _, predicted = outputs.max(1)\n",
        "            total += labels.size(0)\n",
        "            correct += predicted.eq(labels).sum().item()\n",
        "\n",
        "    test_loss = running_loss / total\n",
        "    test_acc = 100.0 * correct / total\n",
        "    return test_loss, test_acc\n",
        "\n",
        "\n",
        "# train config\n",
        "def train_centralized_model(\n",
        "    model_name=\"improved_cnn\",\n",
        "    dataset_name=\"cifar100\",\n",
        "    batch_size=8192,\n",
        "    epochs=100,\n",
        "    lr=0.01,\n",
        "    momentum=0.9,\n",
        "    weight_decay=4e-4,\n",
        "    lr_scheduler=\"lamb\",\n",
        "    save_path=\"improved_cnn_model.pth\",\n",
        "):\n",
        "    # Load data\n",
        "    train_loader, test_loader, num_classes = load_data(\n",
        "        dataset_name=dataset_name, batch_size=batch_size\n",
        "    )\n",
        "\n",
        "    # Create model\n",
        "    model = create_model(model_name, num_classes=num_classes).to(device)\n",
        "\n",
        "    # Print total parameters\n",
        "    total_params = sum(p.numel() for p in model.parameters())\n",
        "    print(f\"Total parameters: {total_params:,}\")\n",
        "\n",
        "    # Loss\n",
        "    criterion = nn.CrossEntropyLoss()\n",
        "\n",
        "    # Linear‐scaling rule for LR\n",
        "    scaled_lr = lr * (batch_size / 8192)\n",
        "\n",
        "    # Separate parameters into decay vs. no‐decay groups\n",
        "    decay_params = []\n",
        "    no_decay_params = []\n",
        "    for name, param in model.named_parameters():\n",
        "        if not param.requires_grad:\n",
        "            continue\n",
        "        if param.ndim == 1:\n",
        "            no_decay_params.append(param)\n",
        "        else:\n",
        "            decay_params.append(param)\n",
        "\n",
        "    # ─── Instantiate LAMB ─────────────────────────────────────────────────────────\n",
        "    #\n",
        "    # We set global weight_decay=0.0 because we're handling it per‐group.\n",
        "    #\n",
        "    optimizer = Lamb(\n",
        "        [\n",
        "            {\"params\": decay_params,    \"weight_decay\": weight_decay},\n",
        "            {\"params\": no_decay_params, \"weight_decay\": 0.0}\n",
        "        ],\n",
        "        lr=scaled_lr,\n",
        "        betas=(0.9, 0.999),\n",
        "        eps=1e-6,\n",
        "        weight_decay=0.0  # global default; per-group overrides actual decay\n",
        "    )\n",
        "    # ────────────────────────────────────────────────────────────────────────────────\n",
        "\n",
        "    # Learning‐rate scheduler: warmup + cosine, same as LARS code\n",
        "    if lr_scheduler == \"lamb\":\n",
        "        warmup_epochs = 10\n",
        "\n",
        "        def lr_lambda(epoch):\n",
        "            if epoch < warmup_epochs:\n",
        "                return float(epoch + 1) / float(warmup_epochs)\n",
        "            return 0.5 * (\n",
        "                1.0\n",
        "                + math.cos(\n",
        "                    math.pi * (epoch - warmup_epochs) / (epochs - warmup_epochs)\n",
        "                )\n",
        "            )\n",
        "\n",
        "        scheduler = torch.optim.lr_scheduler.LambdaLR(optimizer, lr_lambda)\n",
        "\n",
        "    elif lr_scheduler == \"step\":\n",
        "        scheduler = torch.optim.lr_scheduler.MultiStepLR(\n",
        "            optimizer,\n",
        "            milestones=[int(epochs * 0.5), int(epochs * 0.75)],\n",
        "            gamma=0.1\n",
        "        )\n",
        "    else:\n",
        "        raise ValueError(f\"Unknown scheduler: {lr_scheduler}\")\n",
        "\n",
        "    # Training history\n",
        "    history = {\n",
        "        \"train_loss\": [],\n",
        "        \"train_acc\": [],\n",
        "        \"test_loss\": [],\n",
        "        \"test_acc\": [],\n",
        "        \"lr\": [],\n",
        "    }\n",
        "\n",
        "    best_acc = 0.0\n",
        "\n",
        "    # Training loop\n",
        "    for epoch in range(epochs):\n",
        "        current_lr = optimizer.param_groups[0][\"lr\"]\n",
        "        print(f\"\\nEpoch [{epoch + 1}/{epochs}] - Learning Rate: {current_lr:.6f}\")\n",
        "\n",
        "        # Train for one epoch\n",
        "        start_time = time.time()\n",
        "        train_loss, train_acc = train_epoch(\n",
        "            model, train_loader, criterion, optimizer, device\n",
        "        )\n",
        "        train_time = time.time() - start_time\n",
        "\n",
        "        # Evaluate\n",
        "        test_loss, test_acc = evaluate(model, test_loader, criterion, device)\n",
        "        scheduler.step()\n",
        "\n",
        "        print(\n",
        "            f\"Train Loss: {train_loss:.4f}, Train Acc: {train_acc:.2f}%, \"\n",
        "            f\"Test Loss: {test_loss:.4f}, Test Acc: {test_acc:.2f}%, \"\n",
        "            f\"Time: {train_time:.2f}s\"\n",
        "        )\n",
        "\n",
        "        if test_acc > best_acc:\n",
        "            best_acc = test_acc\n",
        "            torch.save(\n",
        "                {\n",
        "                    \"epoch\": epoch,\n",
        "                    \"model_state_dict\": model.state_dict(),\n",
        "                    \"optimizer_state_dict\": optimizer.state_dict(),\n",
        "                    \"test_acc\": test_acc,\n",
        "                },\n",
        "                save_path,\n",
        "            )\n",
        "            print(f\"New best model saved with accuracy: {test_acc:.2f}%\")\n",
        "\n",
        "        history[\"train_loss\"].append(train_loss)\n",
        "        history[\"train_acc\"].append(train_acc)\n",
        "        history[\"test_loss\"].append(test_loss)\n",
        "        history[\"test_acc\"].append(test_acc)\n",
        "        history[\"lr\"].append(current_lr)\n",
        "\n",
        "    # Load best model\n",
        "    checkpoint = torch.load(save_path)\n",
        "    model.load_state_dict(checkpoint[\"model_state_dict\"])\n",
        "    print(f\"Best model loaded with accuracy: {checkpoint['test_acc']:.2f}%\")\n",
        "\n",
        "    return model, history\n",
        "\n",
        "\n",
        "# visualization of model performance\n",
        "def plot_training_history(history):\n",
        "    fig, (ax1, ax2, ax3) = plt.subplots(1, 3, figsize=(18, 5))\n",
        "\n",
        "    ax1.plot(history[\"train_loss\"], label=\"Train Loss\")\n",
        "    ax1.plot(history[\"test_loss\"], label=\"Test Loss\")\n",
        "    ax1.set_xlabel(\"Epoch\")\n",
        "    ax1.set_ylabel(\"Loss\")\n",
        "    ax1.legend()\n",
        "    ax1.set_title(\"Loss Curves\")\n",
        "    ax1.grid(True)\n",
        "\n",
        "    ax2.plot(history[\"train_acc\"], label=\"Train Accuracy\")\n",
        "    ax2.plot(history[\"test_acc\"], label=\"Test Accuracy\")\n",
        "    ax2.set_xlabel(\"Epoch\")\n",
        "    ax2.set_ylabel(\"Accuracy (%)\")\n",
        "    ax2.legend()\n",
        "    ax2.set_title(\"Accuracy Curves\")\n",
        "    ax2.grid(True)\n",
        "\n",
        "    ax3.plot(history[\"lr\"])\n",
        "    ax3.set_xlabel(\"Epoch\")\n",
        "    ax3.set_ylabel(\"Learning Rate\")\n",
        "    ax3.set_title(\"Learning Rate Schedule\")\n",
        "    ax3.set_yscale(\"log\")\n",
        "    ax3.grid(True)\n",
        "\n",
        "    plt.tight_layout()\n",
        "    plt.show()\n",
        "\n",
        "\n",
        "# run benchmark\n",
        "def run_centralized_benchmark():\n",
        "    config = {\n",
        "        \"model_name\": \"improved_cnn\",\n",
        "        \"dataset_name\": \"cifar100\",\n",
        "        \"batch_size\": 8192,\n",
        "        \"epochs\": 100,\n",
        "        \"lr\": 0.01,\n",
        "        \"momentum\": 0.9,\n",
        "        \"weight_decay\": 4e-4,\n",
        "        \"lr_scheduler\": \"lamb\",\n",
        "        \"save_path\": \"improved_cnn_model_lamb.pth\",\n",
        "    }\n",
        "\n",
        "    print(\n",
        "        f\"Running LAMB benchmark with {config['model_name']} on {config['dataset_name']}...\"\n",
        "    )\n",
        "\n",
        "    model, history = train_centralized_model(**config)\n",
        "    plot_training_history(history)\n",
        "\n",
        "    with open(\"history_lamb.pkl\", \"wb\") as f:\n",
        "        pickle.dump(history, f)\n",
        "\n",
        "    print(\"LAMB benchmark completed!\")\n",
        "    return model, history\n",
        "\n",
        "\n",
        "def main():\n",
        "    model, history = run_centralized_benchmark()\n",
        "    return model, history\n",
        "\n",
        "\n",
        "if __name__ == \"__main__\":\n",
        "    main()\n"
      ],
      "metadata": {
        "colab": {
          "base_uri": "https://localhost:8080/",
          "height": 1000
        },
        "id": "8F8FNuUj0nGV",
        "outputId": "f13a0990-4e09-4525-c6e5-fb096606ed68"
      },
      "execution_count": 7,
      "outputs": [
        {
          "output_type": "stream",
          "name": "stdout",
          "text": [
            "PyTorch version: 2.6.0+cu124\n",
            "Using device: cuda:0\n",
            "Running LAMB benchmark with improved_cnn on cifar100...\n",
            "Total parameters: 1,774,052\n",
            "\n",
            "Epoch [1/100] - Learning Rate: 0.001000\n"
          ]
        },
        {
          "output_type": "stream",
          "name": "stderr",
          "text": [
            "Training: 100%|██████████| 7/7 [00:17<00:00,  2.55s/it, loss=4.62, acc=1.09]\n"
          ]
        },
        {
          "output_type": "stream",
          "name": "stdout",
          "text": [
            "Train Loss: 4.6200, Train Acc: 1.09%, Test Loss: 4.6039, Test Acc: 1.48%, Time: 17.86s\n",
            "New best model saved with accuracy: 1.48%\n",
            "\n",
            "Epoch [2/100] - Learning Rate: 0.002000\n"
          ]
        },
        {
          "output_type": "stream",
          "name": "stderr",
          "text": [
            "Training: 100%|██████████| 7/7 [00:17<00:00,  2.54s/it, loss=4.6, acc=1.24]\n"
          ]
        },
        {
          "output_type": "stream",
          "name": "stdout",
          "text": [
            "Train Loss: 4.6020, Train Acc: 1.24%, Test Loss: 4.5935, Test Acc: 2.77%, Time: 17.76s\n",
            "New best model saved with accuracy: 2.77%\n",
            "\n",
            "Epoch [3/100] - Learning Rate: 0.003000\n"
          ]
        },
        {
          "output_type": "stream",
          "name": "stderr",
          "text": [
            "Training: 100%|██████████| 7/7 [00:19<00:00,  2.74s/it, loss=4.58, acc=1.96]\n"
          ]
        },
        {
          "output_type": "stream",
          "name": "stdout",
          "text": [
            "Train Loss: 4.5815, Train Acc: 1.96%, Test Loss: 4.5584, Test Acc: 4.28%, Time: 19.21s\n",
            "New best model saved with accuracy: 4.28%\n",
            "\n",
            "Epoch [4/100] - Learning Rate: 0.004000\n"
          ]
        },
        {
          "output_type": "stream",
          "name": "stderr",
          "text": [
            "Training: 100%|██████████| 7/7 [00:18<00:00,  2.59s/it, loss=4.54, acc=2.59]\n"
          ]
        },
        {
          "output_type": "stream",
          "name": "stdout",
          "text": [
            "Train Loss: 4.5392, Train Acc: 2.59%, Test Loss: 4.4523, Test Acc: 4.44%, Time: 18.12s\n",
            "New best model saved with accuracy: 4.44%\n",
            "\n",
            "Epoch [5/100] - Learning Rate: 0.005000\n"
          ]
        },
        {
          "output_type": "stream",
          "name": "stderr",
          "text": [
            "Training: 100%|██████████| 7/7 [00:18<00:00,  2.60s/it, loss=4.47, acc=3.28]\n"
          ]
        },
        {
          "output_type": "stream",
          "name": "stdout",
          "text": [
            "Train Loss: 4.4671, Train Acc: 3.28%, Test Loss: 4.3189, Test Acc: 4.74%, Time: 18.21s\n",
            "New best model saved with accuracy: 4.74%\n",
            "\n",
            "Epoch [6/100] - Learning Rate: 0.006000\n"
          ]
        },
        {
          "output_type": "stream",
          "name": "stderr",
          "text": [
            "Training: 100%|██████████| 7/7 [00:18<00:00,  2.70s/it, loss=4.39, acc=3.88]\n"
          ]
        },
        {
          "output_type": "stream",
          "name": "stdout",
          "text": [
            "Train Loss: 4.3893, Train Acc: 3.88%, Test Loss: 4.2126, Test Acc: 6.07%, Time: 18.93s\n",
            "New best model saved with accuracy: 6.07%\n",
            "\n",
            "Epoch [7/100] - Learning Rate: 0.007000\n"
          ]
        },
        {
          "output_type": "stream",
          "name": "stderr",
          "text": [
            "Training: 100%|██████████| 7/7 [00:18<00:00,  2.62s/it, loss=4.3, acc=5.08]\n"
          ]
        },
        {
          "output_type": "stream",
          "name": "stdout",
          "text": [
            "Train Loss: 4.3002, Train Acc: 5.08%, Test Loss: 4.0901, Test Acc: 7.97%, Time: 18.33s\n",
            "New best model saved with accuracy: 7.97%\n",
            "\n",
            "Epoch [8/100] - Learning Rate: 0.008000\n"
          ]
        },
        {
          "output_type": "stream",
          "name": "stderr",
          "text": [
            "Training: 100%|██████████| 7/7 [00:18<00:00,  2.58s/it, loss=4.2, acc=5.89]\n"
          ]
        },
        {
          "output_type": "stream",
          "name": "stdout",
          "text": [
            "Train Loss: 4.2015, Train Acc: 5.89%, Test Loss: 3.9969, Test Acc: 10.01%, Time: 18.05s\n",
            "New best model saved with accuracy: 10.01%\n",
            "\n",
            "Epoch [9/100] - Learning Rate: 0.009000\n"
          ]
        },
        {
          "output_type": "stream",
          "name": "stderr",
          "text": [
            "Training: 100%|██████████| 7/7 [00:19<00:00,  2.82s/it, loss=4.09, acc=6.99]\n"
          ]
        },
        {
          "output_type": "stream",
          "name": "stdout",
          "text": [
            "Train Loss: 4.0901, Train Acc: 6.99%, Test Loss: 3.8598, Test Acc: 12.40%, Time: 19.74s\n",
            "New best model saved with accuracy: 12.40%\n",
            "\n",
            "Epoch [10/100] - Learning Rate: 0.010000\n"
          ]
        },
        {
          "output_type": "stream",
          "name": "stderr",
          "text": [
            "Training: 100%|██████████| 7/7 [00:19<00:00,  2.75s/it, loss=3.99, acc=8.22]\n"
          ]
        },
        {
          "output_type": "stream",
          "name": "stdout",
          "text": [
            "Train Loss: 3.9905, Train Acc: 8.22%, Test Loss: 3.7101, Test Acc: 14.59%, Time: 19.24s\n",
            "New best model saved with accuracy: 14.59%\n",
            "\n",
            "Epoch [11/100] - Learning Rate: 0.010000\n"
          ]
        },
        {
          "output_type": "stream",
          "name": "stderr",
          "text": [
            "Training: 100%|██████████| 7/7 [00:18<00:00,  2.64s/it, loss=3.9, acc=9.41]\n"
          ]
        },
        {
          "output_type": "stream",
          "name": "stdout",
          "text": [
            "Train Loss: 3.9042, Train Acc: 9.41%, Test Loss: 3.6208, Test Acc: 15.54%, Time: 18.48s\n",
            "New best model saved with accuracy: 15.54%\n",
            "\n",
            "Epoch [12/100] - Learning Rate: 0.009997\n"
          ]
        },
        {
          "output_type": "stream",
          "name": "stderr",
          "text": [
            "Training: 100%|██████████| 7/7 [00:18<00:00,  2.65s/it, loss=3.83, acc=10.3]\n"
          ]
        },
        {
          "output_type": "stream",
          "name": "stdout",
          "text": [
            "Train Loss: 3.8279, Train Acc: 10.26%, Test Loss: 3.5156, Test Acc: 17.75%, Time: 18.58s\n",
            "New best model saved with accuracy: 17.75%\n",
            "\n",
            "Epoch [13/100] - Learning Rate: 0.009988\n"
          ]
        },
        {
          "output_type": "stream",
          "name": "stderr",
          "text": [
            "Training: 100%|██████████| 7/7 [00:19<00:00,  2.82s/it, loss=3.76, acc=11.5]\n"
          ]
        },
        {
          "output_type": "stream",
          "name": "stdout",
          "text": [
            "Train Loss: 3.7553, Train Acc: 11.47%, Test Loss: 3.4352, Test Acc: 18.24%, Time: 19.71s\n",
            "New best model saved with accuracy: 18.24%\n",
            "\n",
            "Epoch [14/100] - Learning Rate: 0.009973\n"
          ]
        },
        {
          "output_type": "stream",
          "name": "stderr",
          "text": [
            "Training: 100%|██████████| 7/7 [00:18<00:00,  2.70s/it, loss=3.68, acc=12.8]\n"
          ]
        },
        {
          "output_type": "stream",
          "name": "stdout",
          "text": [
            "Train Loss: 3.6775, Train Acc: 12.78%, Test Loss: 3.3290, Test Acc: 20.28%, Time: 18.92s\n",
            "New best model saved with accuracy: 20.28%\n",
            "\n",
            "Epoch [15/100] - Learning Rate: 0.009951\n"
          ]
        },
        {
          "output_type": "stream",
          "name": "stderr",
          "text": [
            "Training: 100%|██████████| 7/7 [00:18<00:00,  2.64s/it, loss=3.6, acc=13.9]\n"
          ]
        },
        {
          "output_type": "stream",
          "name": "stdout",
          "text": [
            "Train Loss: 3.6035, Train Acc: 13.87%, Test Loss: 3.2736, Test Acc: 21.14%, Time: 18.51s\n",
            "New best model saved with accuracy: 21.14%\n",
            "\n",
            "Epoch [16/100] - Learning Rate: 0.009924\n"
          ]
        },
        {
          "output_type": "stream",
          "name": "stderr",
          "text": [
            "Training: 100%|██████████| 7/7 [00:18<00:00,  2.71s/it, loss=3.54, acc=15]\n"
          ]
        },
        {
          "output_type": "stream",
          "name": "stdout",
          "text": [
            "Train Loss: 3.5375, Train Acc: 14.99%, Test Loss: 3.2232, Test Acc: 21.88%, Time: 19.00s\n",
            "New best model saved with accuracy: 21.88%\n",
            "\n",
            "Epoch [17/100] - Learning Rate: 0.009891\n"
          ]
        },
        {
          "output_type": "stream",
          "name": "stderr",
          "text": [
            "Training: 100%|██████████| 7/7 [00:19<00:00,  2.78s/it, loss=3.47, acc=16.1]\n"
          ]
        },
        {
          "output_type": "stream",
          "name": "stdout",
          "text": [
            "Train Loss: 3.4651, Train Acc: 16.07%, Test Loss: 3.2191, Test Acc: 22.11%, Time: 19.50s\n",
            "New best model saved with accuracy: 22.11%\n",
            "\n",
            "Epoch [18/100] - Learning Rate: 0.009851\n"
          ]
        },
        {
          "output_type": "stream",
          "name": "stderr",
          "text": [
            "Training: 100%|██████████| 7/7 [00:18<00:00,  2.58s/it, loss=3.43, acc=17]\n"
          ]
        },
        {
          "output_type": "stream",
          "name": "stdout",
          "text": [
            "Train Loss: 3.4274, Train Acc: 17.05%, Test Loss: 3.1475, Test Acc: 23.52%, Time: 18.07s\n",
            "New best model saved with accuracy: 23.52%\n",
            "\n",
            "Epoch [19/100] - Learning Rate: 0.009806\n"
          ]
        },
        {
          "output_type": "stream",
          "name": "stderr",
          "text": [
            "Training: 100%|██████████| 7/7 [00:18<00:00,  2.62s/it, loss=3.39, acc=18]\n"
          ]
        },
        {
          "output_type": "stream",
          "name": "stdout",
          "text": [
            "Train Loss: 3.3879, Train Acc: 18.03%, Test Loss: 3.0992, Test Acc: 24.59%, Time: 18.35s\n",
            "New best model saved with accuracy: 24.59%\n",
            "\n",
            "Epoch [20/100] - Learning Rate: 0.009755\n"
          ]
        },
        {
          "output_type": "stream",
          "name": "stderr",
          "text": [
            "Training: 100%|██████████| 7/7 [00:19<00:00,  2.82s/it, loss=3.35, acc=18.5]\n"
          ]
        },
        {
          "output_type": "stream",
          "name": "stdout",
          "text": [
            "Train Loss: 3.3512, Train Acc: 18.45%, Test Loss: 3.0218, Test Acc: 24.89%, Time: 19.73s\n",
            "New best model saved with accuracy: 24.89%\n",
            "\n",
            "Epoch [21/100] - Learning Rate: 0.009698\n"
          ]
        },
        {
          "output_type": "stream",
          "name": "stderr",
          "text": [
            "Training: 100%|██████████| 7/7 [00:18<00:00,  2.64s/it, loss=3.29, acc=19.4]\n"
          ]
        },
        {
          "output_type": "stream",
          "name": "stdout",
          "text": [
            "Train Loss: 3.2897, Train Acc: 19.37%, Test Loss: 2.9827, Test Acc: 25.91%, Time: 18.52s\n",
            "New best model saved with accuracy: 25.91%\n",
            "\n",
            "Epoch [22/100] - Learning Rate: 0.009636\n"
          ]
        },
        {
          "output_type": "stream",
          "name": "stderr",
          "text": [
            "Training: 100%|██████████| 7/7 [00:18<00:00,  2.64s/it, loss=3.3, acc=19.4]\n"
          ]
        },
        {
          "output_type": "stream",
          "name": "stdout",
          "text": [
            "Train Loss: 3.3030, Train Acc: 19.40%, Test Loss: 2.9153, Test Acc: 27.11%, Time: 18.51s\n",
            "New best model saved with accuracy: 27.11%\n",
            "\n",
            "Epoch [23/100] - Learning Rate: 0.009568\n"
          ]
        },
        {
          "output_type": "stream",
          "name": "stderr",
          "text": [
            "Training: 100%|██████████| 7/7 [00:19<00:00,  2.75s/it, loss=3.24, acc=20.7]\n"
          ]
        },
        {
          "output_type": "stream",
          "name": "stdout",
          "text": [
            "Train Loss: 3.2429, Train Acc: 20.68%, Test Loss: 2.8869, Test Acc: 27.54%, Time: 19.26s\n",
            "New best model saved with accuracy: 27.54%\n",
            "\n",
            "Epoch [24/100] - Learning Rate: 0.009494\n"
          ]
        },
        {
          "output_type": "stream",
          "name": "stderr",
          "text": [
            "Training: 100%|██████████| 7/7 [00:19<00:00,  2.75s/it, loss=3.21, acc=20.8]\n"
          ]
        },
        {
          "output_type": "stream",
          "name": "stdout",
          "text": [
            "Train Loss: 3.2064, Train Acc: 20.75%, Test Loss: 2.8647, Test Acc: 28.49%, Time: 19.29s\n",
            "New best model saved with accuracy: 28.49%\n",
            "\n",
            "Epoch [25/100] - Learning Rate: 0.009415\n"
          ]
        },
        {
          "output_type": "stream",
          "name": "stderr",
          "text": [
            "Training: 100%|██████████| 7/7 [00:18<00:00,  2.64s/it, loss=3.16, acc=21.8]\n"
          ]
        },
        {
          "output_type": "stream",
          "name": "stdout",
          "text": [
            "Train Loss: 3.1641, Train Acc: 21.76%, Test Loss: 2.7811, Test Acc: 29.48%, Time: 18.51s\n",
            "New best model saved with accuracy: 29.48%\n",
            "\n",
            "Epoch [26/100] - Learning Rate: 0.009330\n"
          ]
        },
        {
          "output_type": "stream",
          "name": "stderr",
          "text": [
            "Training: 100%|██████████| 7/7 [00:18<00:00,  2.61s/it, loss=3.11, acc=22.6]\n"
          ]
        },
        {
          "output_type": "stream",
          "name": "stdout",
          "text": [
            "Train Loss: 3.1141, Train Acc: 22.60%, Test Loss: 2.7588, Test Acc: 29.93%, Time: 18.27s\n",
            "New best model saved with accuracy: 29.93%\n",
            "\n",
            "Epoch [27/100] - Learning Rate: 0.009240\n"
          ]
        },
        {
          "output_type": "stream",
          "name": "stderr",
          "text": [
            "Training: 100%|██████████| 7/7 [00:19<00:00,  2.79s/it, loss=3.11, acc=22.8]\n"
          ]
        },
        {
          "output_type": "stream",
          "name": "stdout",
          "text": [
            "Train Loss: 3.1077, Train Acc: 22.83%, Test Loss: 2.7292, Test Acc: 30.67%, Time: 19.54s\n",
            "New best model saved with accuracy: 30.67%\n",
            "\n",
            "Epoch [28/100] - Learning Rate: 0.009145\n"
          ]
        },
        {
          "output_type": "stream",
          "name": "stderr",
          "text": [
            "Training: 100%|██████████| 7/7 [00:18<00:00,  2.67s/it, loss=3.07, acc=23.6]\n"
          ]
        },
        {
          "output_type": "stream",
          "name": "stdout",
          "text": [
            "Train Loss: 3.0683, Train Acc: 23.56%, Test Loss: 2.6933, Test Acc: 30.77%, Time: 18.67s\n",
            "New best model saved with accuracy: 30.77%\n",
            "\n",
            "Epoch [29/100] - Learning Rate: 0.009045\n"
          ]
        },
        {
          "output_type": "stream",
          "name": "stderr",
          "text": [
            "Training: 100%|██████████| 7/7 [00:18<00:00,  2.63s/it, loss=3.04, acc=24.2]\n"
          ]
        },
        {
          "output_type": "stream",
          "name": "stdout",
          "text": [
            "Train Loss: 3.0367, Train Acc: 24.22%, Test Loss: 2.7230, Test Acc: 30.41%, Time: 18.43s\n",
            "\n",
            "Epoch [30/100] - Learning Rate: 0.008940\n"
          ]
        },
        {
          "output_type": "stream",
          "name": "stderr",
          "text": [
            "Training: 100%|██████████| 7/7 [00:19<00:00,  2.73s/it, loss=3.02, acc=24.4]\n"
          ]
        },
        {
          "output_type": "stream",
          "name": "stdout",
          "text": [
            "Train Loss: 3.0191, Train Acc: 24.44%, Test Loss: 2.7224, Test Acc: 30.43%, Time: 19.09s\n",
            "\n",
            "Epoch [31/100] - Learning Rate: 0.008830\n"
          ]
        },
        {
          "output_type": "stream",
          "name": "stderr",
          "text": [
            "Training: 100%|██████████| 7/7 [00:18<00:00,  2.71s/it, loss=3.01, acc=24.7]\n"
          ]
        },
        {
          "output_type": "stream",
          "name": "stdout",
          "text": [
            "Train Loss: 3.0064, Train Acc: 24.73%, Test Loss: 2.7458, Test Acc: 30.24%, Time: 18.97s\n",
            "\n",
            "Epoch [32/100] - Learning Rate: 0.008716\n"
          ]
        },
        {
          "output_type": "stream",
          "name": "stderr",
          "text": [
            "Training: 100%|██████████| 7/7 [00:18<00:00,  2.59s/it, loss=2.99, acc=25.1]\n"
          ]
        },
        {
          "output_type": "stream",
          "name": "stdout",
          "text": [
            "Train Loss: 2.9862, Train Acc: 25.07%, Test Loss: 2.6365, Test Acc: 32.58%, Time: 18.13s\n",
            "New best model saved with accuracy: 32.58%\n",
            "\n",
            "Epoch [33/100] - Learning Rate: 0.008597\n"
          ]
        },
        {
          "output_type": "stream",
          "name": "stderr",
          "text": [
            "Training: 100%|██████████| 7/7 [00:18<00:00,  2.61s/it, loss=2.98, acc=25.3]\n"
          ]
        },
        {
          "output_type": "stream",
          "name": "stdout",
          "text": [
            "Train Loss: 2.9830, Train Acc: 25.34%, Test Loss: 2.6520, Test Acc: 32.22%, Time: 18.30s\n",
            "\n",
            "Epoch [34/100] - Learning Rate: 0.008473\n"
          ]
        },
        {
          "output_type": "stream",
          "name": "stderr",
          "text": [
            "Training: 100%|██████████| 7/7 [00:19<00:00,  2.73s/it, loss=2.95, acc=25.9]\n"
          ]
        },
        {
          "output_type": "stream",
          "name": "stdout",
          "text": [
            "Train Loss: 2.9545, Train Acc: 25.86%, Test Loss: 2.5800, Test Acc: 33.36%, Time: 19.14s\n",
            "New best model saved with accuracy: 33.36%\n",
            "\n",
            "Epoch [35/100] - Learning Rate: 0.008346\n"
          ]
        },
        {
          "output_type": "stream",
          "name": "stderr",
          "text": [
            "Training: 100%|██████████| 7/7 [00:18<00:00,  2.59s/it, loss=2.92, acc=26.4]\n"
          ]
        },
        {
          "output_type": "stream",
          "name": "stdout",
          "text": [
            "Train Loss: 2.9199, Train Acc: 26.43%, Test Loss: 2.5663, Test Acc: 33.76%, Time: 18.15s\n",
            "New best model saved with accuracy: 33.76%\n",
            "\n",
            "Epoch [36/100] - Learning Rate: 0.008214\n"
          ]
        },
        {
          "output_type": "stream",
          "name": "stderr",
          "text": [
            "Training: 100%|██████████| 7/7 [00:18<00:00,  2.58s/it, loss=2.92, acc=26.6]\n"
          ]
        },
        {
          "output_type": "stream",
          "name": "stdout",
          "text": [
            "Train Loss: 2.9155, Train Acc: 26.57%, Test Loss: 2.5419, Test Acc: 34.52%, Time: 18.06s\n",
            "New best model saved with accuracy: 34.52%\n",
            "\n",
            "Epoch [37/100] - Learning Rate: 0.008078\n"
          ]
        },
        {
          "output_type": "stream",
          "name": "stderr",
          "text": [
            "Training: 100%|██████████| 7/7 [00:19<00:00,  2.76s/it, loss=2.91, acc=26.5]\n"
          ]
        },
        {
          "output_type": "stream",
          "name": "stdout",
          "text": [
            "Train Loss: 2.9055, Train Acc: 26.55%, Test Loss: 2.5430, Test Acc: 34.54%, Time: 19.34s\n",
            "New best model saved with accuracy: 34.54%\n",
            "\n",
            "Epoch [38/100] - Learning Rate: 0.007939\n"
          ]
        },
        {
          "output_type": "stream",
          "name": "stderr",
          "text": [
            "Training: 100%|██████████| 7/7 [00:18<00:00,  2.58s/it, loss=2.88, acc=27.2]\n"
          ]
        },
        {
          "output_type": "stream",
          "name": "stdout",
          "text": [
            "Train Loss: 2.8821, Train Acc: 27.15%, Test Loss: 2.5006, Test Acc: 35.60%, Time: 18.05s\n",
            "New best model saved with accuracy: 35.60%\n",
            "\n",
            "Epoch [39/100] - Learning Rate: 0.007796\n"
          ]
        },
        {
          "output_type": "stream",
          "name": "stderr",
          "text": [
            "Training: 100%|██████████| 7/7 [00:18<00:00,  2.58s/it, loss=2.87, acc=27.4]\n"
          ]
        },
        {
          "output_type": "stream",
          "name": "stdout",
          "text": [
            "Train Loss: 2.8745, Train Acc: 27.45%, Test Loss: 2.4764, Test Acc: 35.96%, Time: 18.10s\n",
            "New best model saved with accuracy: 35.96%\n",
            "\n",
            "Epoch [40/100] - Learning Rate: 0.007650\n"
          ]
        },
        {
          "output_type": "stream",
          "name": "stderr",
          "text": [
            "Training: 100%|██████████| 7/7 [00:19<00:00,  2.79s/it, loss=2.85, acc=28.2]\n"
          ]
        },
        {
          "output_type": "stream",
          "name": "stdout",
          "text": [
            "Train Loss: 2.8494, Train Acc: 28.20%, Test Loss: 2.5314, Test Acc: 35.12%, Time: 19.53s\n",
            "\n",
            "Epoch [41/100] - Learning Rate: 0.007500\n"
          ]
        },
        {
          "output_type": "stream",
          "name": "stderr",
          "text": [
            "Training: 100%|██████████| 7/7 [00:18<00:00,  2.64s/it, loss=2.83, acc=28.2]\n"
          ]
        },
        {
          "output_type": "stream",
          "name": "stdout",
          "text": [
            "Train Loss: 2.8252, Train Acc: 28.23%, Test Loss: 2.5932, Test Acc: 32.95%, Time: 18.52s\n",
            "\n",
            "Epoch [42/100] - Learning Rate: 0.007347\n"
          ]
        },
        {
          "output_type": "stream",
          "name": "stderr",
          "text": [
            "Training: 100%|██████████| 7/7 [00:18<00:00,  2.60s/it, loss=2.83, acc=28.2]\n"
          ]
        },
        {
          "output_type": "stream",
          "name": "stdout",
          "text": [
            "Train Loss: 2.8346, Train Acc: 28.18%, Test Loss: 2.5444, Test Acc: 34.84%, Time: 18.21s\n",
            "\n",
            "Epoch [43/100] - Learning Rate: 0.007192\n"
          ]
        },
        {
          "output_type": "stream",
          "name": "stderr",
          "text": [
            "Training: 100%|██████████| 7/7 [00:19<00:00,  2.75s/it, loss=2.85, acc=27.9]\n"
          ]
        },
        {
          "output_type": "stream",
          "name": "stdout",
          "text": [
            "Train Loss: 2.8539, Train Acc: 27.92%, Test Loss: 2.4947, Test Acc: 34.92%, Time: 19.25s\n",
            "\n",
            "Epoch [44/100] - Learning Rate: 0.007034\n"
          ]
        },
        {
          "output_type": "stream",
          "name": "stderr",
          "text": [
            "Training: 100%|██████████| 7/7 [00:18<00:00,  2.67s/it, loss=2.82, acc=28.5]\n"
          ]
        },
        {
          "output_type": "stream",
          "name": "stdout",
          "text": [
            "Train Loss: 2.8183, Train Acc: 28.50%, Test Loss: 2.4390, Test Acc: 36.44%, Time: 18.72s\n",
            "New best model saved with accuracy: 36.44%\n",
            "\n",
            "Epoch [45/100] - Learning Rate: 0.006873\n"
          ]
        },
        {
          "output_type": "stream",
          "name": "stderr",
          "text": [
            "Training: 100%|██████████| 7/7 [00:18<00:00,  2.63s/it, loss=2.78, acc=29.1]\n"
          ]
        },
        {
          "output_type": "stream",
          "name": "stdout",
          "text": [
            "Train Loss: 2.7834, Train Acc: 29.08%, Test Loss: 2.3928, Test Acc: 37.57%, Time: 18.39s\n",
            "New best model saved with accuracy: 37.57%\n",
            "\n",
            "Epoch [46/100] - Learning Rate: 0.006710\n"
          ]
        },
        {
          "output_type": "stream",
          "name": "stderr",
          "text": [
            "Training: 100%|██████████| 7/7 [00:18<00:00,  2.59s/it, loss=2.77, acc=29.3]\n"
          ]
        },
        {
          "output_type": "stream",
          "name": "stdout",
          "text": [
            "Train Loss: 2.7689, Train Acc: 29.33%, Test Loss: 2.4307, Test Acc: 37.16%, Time: 18.13s\n",
            "\n",
            "Epoch [47/100] - Learning Rate: 0.006545\n"
          ]
        },
        {
          "output_type": "stream",
          "name": "stderr",
          "text": [
            "Training: 100%|██████████| 7/7 [00:19<00:00,  2.73s/it, loss=2.75, acc=29.9]\n"
          ]
        },
        {
          "output_type": "stream",
          "name": "stdout",
          "text": [
            "Train Loss: 2.7467, Train Acc: 29.92%, Test Loss: 2.4806, Test Acc: 35.17%, Time: 19.10s\n",
            "\n",
            "Epoch [48/100] - Learning Rate: 0.006378\n"
          ]
        },
        {
          "output_type": "stream",
          "name": "stderr",
          "text": [
            "Training: 100%|██████████| 7/7 [00:18<00:00,  2.60s/it, loss=2.75, acc=30.1]\n"
          ]
        },
        {
          "output_type": "stream",
          "name": "stdout",
          "text": [
            "Train Loss: 2.7475, Train Acc: 30.13%, Test Loss: 2.4658, Test Acc: 36.15%, Time: 18.17s\n",
            "\n",
            "Epoch [49/100] - Learning Rate: 0.006210\n"
          ]
        },
        {
          "output_type": "stream",
          "name": "stderr",
          "text": [
            "Training: 100%|██████████| 7/7 [00:18<00:00,  2.58s/it, loss=2.73, acc=30.1]\n"
          ]
        },
        {
          "output_type": "stream",
          "name": "stdout",
          "text": [
            "Train Loss: 2.7266, Train Acc: 30.15%, Test Loss: 2.3779, Test Acc: 37.99%, Time: 18.10s\n",
            "New best model saved with accuracy: 37.99%\n",
            "\n",
            "Epoch [50/100] - Learning Rate: 0.006040\n"
          ]
        },
        {
          "output_type": "stream",
          "name": "stderr",
          "text": [
            "Training: 100%|██████████| 7/7 [00:19<00:00,  2.73s/it, loss=2.72, acc=30.3]\n"
          ]
        },
        {
          "output_type": "stream",
          "name": "stdout",
          "text": [
            "Train Loss: 2.7216, Train Acc: 30.31%, Test Loss: 2.3713, Test Acc: 37.95%, Time: 19.09s\n",
            "\n",
            "Epoch [51/100] - Learning Rate: 0.005868\n"
          ]
        },
        {
          "output_type": "stream",
          "name": "stderr",
          "text": [
            "Training: 100%|██████████| 7/7 [00:18<00:00,  2.58s/it, loss=2.71, acc=30.5]\n"
          ]
        },
        {
          "output_type": "stream",
          "name": "stdout",
          "text": [
            "Train Loss: 2.7111, Train Acc: 30.54%, Test Loss: 2.3394, Test Acc: 39.00%, Time: 18.05s\n",
            "New best model saved with accuracy: 39.00%\n",
            "\n",
            "Epoch [52/100] - Learning Rate: 0.005696\n"
          ]
        },
        {
          "output_type": "stream",
          "name": "stderr",
          "text": [
            "Training: 100%|██████████| 7/7 [00:18<00:00,  2.63s/it, loss=2.71, acc=30.6]\n"
          ]
        },
        {
          "output_type": "stream",
          "name": "stdout",
          "text": [
            "Train Loss: 2.7074, Train Acc: 30.64%, Test Loss: 2.3650, Test Acc: 38.43%, Time: 18.39s\n",
            "\n",
            "Epoch [53/100] - Learning Rate: 0.005523\n"
          ]
        },
        {
          "output_type": "stream",
          "name": "stderr",
          "text": [
            "Training: 100%|██████████| 7/7 [00:19<00:00,  2.76s/it, loss=2.7, acc=30.6]\n"
          ]
        },
        {
          "output_type": "stream",
          "name": "stdout",
          "text": [
            "Train Loss: 2.7003, Train Acc: 30.61%, Test Loss: 2.3331, Test Acc: 39.39%, Time: 19.31s\n",
            "New best model saved with accuracy: 39.39%\n",
            "\n",
            "Epoch [54/100] - Learning Rate: 0.005349\n"
          ]
        },
        {
          "output_type": "stream",
          "name": "stderr",
          "text": [
            "Training: 100%|██████████| 7/7 [00:18<00:00,  2.61s/it, loss=2.68, acc=31]\n"
          ]
        },
        {
          "output_type": "stream",
          "name": "stdout",
          "text": [
            "Train Loss: 2.6772, Train Acc: 31.00%, Test Loss: 2.2815, Test Acc: 39.95%, Time: 18.27s\n",
            "New best model saved with accuracy: 39.95%\n",
            "\n",
            "Epoch [55/100] - Learning Rate: 0.005174\n"
          ]
        },
        {
          "output_type": "stream",
          "name": "stderr",
          "text": [
            "Training: 100%|██████████| 7/7 [00:18<00:00,  2.61s/it, loss=2.66, acc=31.4]\n"
          ]
        },
        {
          "output_type": "stream",
          "name": "stdout",
          "text": [
            "Train Loss: 2.6612, Train Acc: 31.45%, Test Loss: 2.3110, Test Acc: 39.68%, Time: 18.31s\n",
            "\n",
            "Epoch [56/100] - Learning Rate: 0.005000\n"
          ]
        },
        {
          "output_type": "stream",
          "name": "stderr",
          "text": [
            "Training: 100%|██████████| 7/7 [00:18<00:00,  2.66s/it, loss=2.67, acc=31.4]\n"
          ]
        },
        {
          "output_type": "stream",
          "name": "stdout",
          "text": [
            "Train Loss: 2.6678, Train Acc: 31.44%, Test Loss: 2.3021, Test Acc: 40.35%, Time: 18.66s\n",
            "New best model saved with accuracy: 40.35%\n",
            "\n",
            "Epoch [57/100] - Learning Rate: 0.004826\n"
          ]
        },
        {
          "output_type": "stream",
          "name": "stderr",
          "text": [
            "Training: 100%|██████████| 7/7 [00:18<00:00,  2.62s/it, loss=2.66, acc=31.7]\n"
          ]
        },
        {
          "output_type": "stream",
          "name": "stdout",
          "text": [
            "Train Loss: 2.6594, Train Acc: 31.74%, Test Loss: 2.2670, Test Acc: 41.06%, Time: 18.38s\n",
            "New best model saved with accuracy: 41.06%\n",
            "\n",
            "Epoch [58/100] - Learning Rate: 0.004651\n"
          ]
        },
        {
          "output_type": "stream",
          "name": "stderr",
          "text": [
            "Training: 100%|██████████| 7/7 [00:17<00:00,  2.51s/it, loss=2.65, acc=31.9]\n"
          ]
        },
        {
          "output_type": "stream",
          "name": "stdout",
          "text": [
            "Train Loss: 2.6506, Train Acc: 31.91%, Test Loss: 2.2961, Test Acc: 40.15%, Time: 17.56s\n",
            "\n",
            "Epoch [59/100] - Learning Rate: 0.004477\n"
          ]
        },
        {
          "output_type": "stream",
          "name": "stderr",
          "text": [
            "Training: 100%|██████████| 7/7 [00:18<00:00,  2.58s/it, loss=2.63, acc=32.4]\n"
          ]
        },
        {
          "output_type": "stream",
          "name": "stdout",
          "text": [
            "Train Loss: 2.6277, Train Acc: 32.42%, Test Loss: 2.2883, Test Acc: 39.39%, Time: 18.10s\n",
            "\n",
            "Epoch [60/100] - Learning Rate: 0.004304\n"
          ]
        },
        {
          "output_type": "stream",
          "name": "stderr",
          "text": [
            "Training: 100%|██████████| 7/7 [00:17<00:00,  2.48s/it, loss=2.62, acc=32.3]\n"
          ]
        },
        {
          "output_type": "stream",
          "name": "stdout",
          "text": [
            "Train Loss: 2.6164, Train Acc: 32.30%, Test Loss: 2.2802, Test Acc: 40.32%, Time: 17.36s\n",
            "\n",
            "Epoch [61/100] - Learning Rate: 0.004132\n"
          ]
        },
        {
          "output_type": "stream",
          "name": "stderr",
          "text": [
            "Training: 100%|██████████| 7/7 [00:18<00:00,  2.57s/it, loss=2.63, acc=32.4]\n"
          ]
        },
        {
          "output_type": "stream",
          "name": "stdout",
          "text": [
            "Train Loss: 2.6304, Train Acc: 32.38%, Test Loss: 2.3372, Test Acc: 39.25%, Time: 18.01s\n",
            "\n",
            "Epoch [62/100] - Learning Rate: 0.003960\n"
          ]
        },
        {
          "output_type": "stream",
          "name": "stderr",
          "text": [
            "Training: 100%|██████████| 7/7 [00:19<00:00,  2.78s/it, loss=2.61, acc=32.6]\n"
          ]
        },
        {
          "output_type": "stream",
          "name": "stdout",
          "text": [
            "Train Loss: 2.6112, Train Acc: 32.58%, Test Loss: 2.2511, Test Acc: 40.68%, Time: 19.48s\n",
            "\n",
            "Epoch [63/100] - Learning Rate: 0.003790\n"
          ]
        },
        {
          "output_type": "stream",
          "name": "stderr",
          "text": [
            "Training: 100%|██████████| 7/7 [00:18<00:00,  2.70s/it, loss=2.6, acc=32.6]\n"
          ]
        },
        {
          "output_type": "stream",
          "name": "stdout",
          "text": [
            "Train Loss: 2.6026, Train Acc: 32.62%, Test Loss: 2.2350, Test Acc: 41.42%, Time: 18.91s\n",
            "New best model saved with accuracy: 41.42%\n",
            "\n",
            "Epoch [64/100] - Learning Rate: 0.003622\n"
          ]
        },
        {
          "output_type": "stream",
          "name": "stderr",
          "text": [
            "Training: 100%|██████████| 7/7 [00:18<00:00,  2.61s/it, loss=2.59, acc=33]\n"
          ]
        },
        {
          "output_type": "stream",
          "name": "stdout",
          "text": [
            "Train Loss: 2.5899, Train Acc: 32.99%, Test Loss: 2.2230, Test Acc: 41.28%, Time: 18.27s\n",
            "\n",
            "Epoch [65/100] - Learning Rate: 0.003455\n"
          ]
        },
        {
          "output_type": "stream",
          "name": "stderr",
          "text": [
            "Training: 100%|██████████| 7/7 [00:17<00:00,  2.56s/it, loss=2.58, acc=33.2]\n"
          ]
        },
        {
          "output_type": "stream",
          "name": "stdout",
          "text": [
            "Train Loss: 2.5790, Train Acc: 33.21%, Test Loss: 2.2185, Test Acc: 41.48%, Time: 17.94s\n",
            "New best model saved with accuracy: 41.48%\n",
            "\n",
            "Epoch [66/100] - Learning Rate: 0.003290\n"
          ]
        },
        {
          "output_type": "stream",
          "name": "stderr",
          "text": [
            "Training: 100%|██████████| 7/7 [00:18<00:00,  2.62s/it, loss=2.58, acc=33.2]\n"
          ]
        },
        {
          "output_type": "stream",
          "name": "stdout",
          "text": [
            "Train Loss: 2.5830, Train Acc: 33.22%, Test Loss: 2.2064, Test Acc: 41.94%, Time: 18.36s\n",
            "New best model saved with accuracy: 41.94%\n",
            "\n",
            "Epoch [67/100] - Learning Rate: 0.003127\n"
          ]
        },
        {
          "output_type": "stream",
          "name": "stderr",
          "text": [
            "Training: 100%|██████████| 7/7 [00:18<00:00,  2.60s/it, loss=2.56, acc=33.7]\n"
          ]
        },
        {
          "output_type": "stream",
          "name": "stdout",
          "text": [
            "Train Loss: 2.5599, Train Acc: 33.67%, Test Loss: 2.2245, Test Acc: 42.14%, Time: 18.21s\n",
            "New best model saved with accuracy: 42.14%\n",
            "\n",
            "Epoch [68/100] - Learning Rate: 0.002966\n"
          ]
        },
        {
          "output_type": "stream",
          "name": "stderr",
          "text": [
            "Training: 100%|██████████| 7/7 [00:18<00:00,  2.60s/it, loss=2.56, acc=34]\n"
          ]
        },
        {
          "output_type": "stream",
          "name": "stdout",
          "text": [
            "Train Loss: 2.5564, Train Acc: 33.97%, Test Loss: 2.1982, Test Acc: 42.21%, Time: 18.24s\n",
            "New best model saved with accuracy: 42.21%\n",
            "\n",
            "Epoch [69/100] - Learning Rate: 0.002808\n"
          ]
        },
        {
          "output_type": "stream",
          "name": "stderr",
          "text": [
            "Training: 100%|██████████| 7/7 [00:19<00:00,  2.74s/it, loss=2.55, acc=33.5]\n"
          ]
        },
        {
          "output_type": "stream",
          "name": "stdout",
          "text": [
            "Train Loss: 2.5533, Train Acc: 33.55%, Test Loss: 2.1985, Test Acc: 42.52%, Time: 19.20s\n",
            "New best model saved with accuracy: 42.52%\n",
            "\n",
            "Epoch [70/100] - Learning Rate: 0.002653\n"
          ]
        },
        {
          "output_type": "stream",
          "name": "stderr",
          "text": [
            "Training: 100%|██████████| 7/7 [00:18<00:00,  2.60s/it, loss=2.55, acc=33.9]\n"
          ]
        },
        {
          "output_type": "stream",
          "name": "stdout",
          "text": [
            "Train Loss: 2.5491, Train Acc: 33.94%, Test Loss: 2.2040, Test Acc: 41.91%, Time: 18.18s\n",
            "\n",
            "Epoch [71/100] - Learning Rate: 0.002500\n"
          ]
        },
        {
          "output_type": "stream",
          "name": "stderr",
          "text": [
            "Training: 100%|██████████| 7/7 [00:17<00:00,  2.57s/it, loss=2.54, acc=34.1]\n"
          ]
        },
        {
          "output_type": "stream",
          "name": "stdout",
          "text": [
            "Train Loss: 2.5430, Train Acc: 34.08%, Test Loss: 2.1822, Test Acc: 42.63%, Time: 17.99s\n",
            "New best model saved with accuracy: 42.63%\n",
            "\n",
            "Epoch [72/100] - Learning Rate: 0.002350\n"
          ]
        },
        {
          "output_type": "stream",
          "name": "stderr",
          "text": [
            "Training: 100%|██████████| 7/7 [00:19<00:00,  2.72s/it, loss=2.53, acc=34.2]\n"
          ]
        },
        {
          "output_type": "stream",
          "name": "stdout",
          "text": [
            "Train Loss: 2.5294, Train Acc: 34.17%, Test Loss: 2.1855, Test Acc: 42.73%, Time: 19.06s\n",
            "New best model saved with accuracy: 42.73%\n",
            "\n",
            "Epoch [73/100] - Learning Rate: 0.002204\n"
          ]
        },
        {
          "output_type": "stream",
          "name": "stderr",
          "text": [
            "Training: 100%|██████████| 7/7 [00:17<00:00,  2.56s/it, loss=2.53, acc=34.4]\n"
          ]
        },
        {
          "output_type": "stream",
          "name": "stdout",
          "text": [
            "Train Loss: 2.5324, Train Acc: 34.45%, Test Loss: 2.1678, Test Acc: 42.85%, Time: 17.96s\n",
            "New best model saved with accuracy: 42.85%\n",
            "\n",
            "Epoch [74/100] - Learning Rate: 0.002061\n"
          ]
        },
        {
          "output_type": "stream",
          "name": "stderr",
          "text": [
            "Training: 100%|██████████| 7/7 [00:17<00:00,  2.56s/it, loss=2.52, acc=34.6]\n"
          ]
        },
        {
          "output_type": "stream",
          "name": "stdout",
          "text": [
            "Train Loss: 2.5218, Train Acc: 34.63%, Test Loss: 2.1780, Test Acc: 42.95%, Time: 17.91s\n",
            "New best model saved with accuracy: 42.95%\n",
            "\n",
            "Epoch [75/100] - Learning Rate: 0.001922\n"
          ]
        },
        {
          "output_type": "stream",
          "name": "stderr",
          "text": [
            "Training: 100%|██████████| 7/7 [00:18<00:00,  2.71s/it, loss=2.52, acc=34.4]\n"
          ]
        },
        {
          "output_type": "stream",
          "name": "stdout",
          "text": [
            "Train Loss: 2.5231, Train Acc: 34.37%, Test Loss: 2.1641, Test Acc: 42.56%, Time: 18.96s\n",
            "\n",
            "Epoch [76/100] - Learning Rate: 0.001786\n"
          ]
        },
        {
          "output_type": "stream",
          "name": "stderr",
          "text": [
            "Training: 100%|██████████| 7/7 [00:18<00:00,  2.62s/it, loss=2.51, acc=34.7]\n"
          ]
        },
        {
          "output_type": "stream",
          "name": "stdout",
          "text": [
            "Train Loss: 2.5149, Train Acc: 34.75%, Test Loss: 2.1698, Test Acc: 42.72%, Time: 18.33s\n",
            "\n",
            "Epoch [77/100] - Learning Rate: 0.001654\n"
          ]
        },
        {
          "output_type": "stream",
          "name": "stderr",
          "text": [
            "Training: 100%|██████████| 7/7 [00:18<00:00,  2.59s/it, loss=2.51, acc=34.7]\n"
          ]
        },
        {
          "output_type": "stream",
          "name": "stdout",
          "text": [
            "Train Loss: 2.5115, Train Acc: 34.68%, Test Loss: 2.1505, Test Acc: 43.23%, Time: 18.14s\n",
            "New best model saved with accuracy: 43.23%\n",
            "\n",
            "Epoch [78/100] - Learning Rate: 0.001527\n"
          ]
        },
        {
          "output_type": "stream",
          "name": "stderr",
          "text": [
            "Training: 100%|██████████| 7/7 [00:19<00:00,  2.78s/it, loss=2.5, acc=34.9]\n"
          ]
        },
        {
          "output_type": "stream",
          "name": "stdout",
          "text": [
            "Train Loss: 2.4969, Train Acc: 34.90%, Test Loss: 2.1571, Test Acc: 43.25%, Time: 19.49s\n",
            "New best model saved with accuracy: 43.25%\n",
            "\n",
            "Epoch [79/100] - Learning Rate: 0.001403\n"
          ]
        },
        {
          "output_type": "stream",
          "name": "stderr",
          "text": [
            "Training: 100%|██████████| 7/7 [00:18<00:00,  2.66s/it, loss=2.5, acc=34.8]\n"
          ]
        },
        {
          "output_type": "stream",
          "name": "stdout",
          "text": [
            "Train Loss: 2.4963, Train Acc: 34.83%, Test Loss: 2.1523, Test Acc: 43.26%, Time: 18.65s\n",
            "New best model saved with accuracy: 43.26%\n",
            "\n",
            "Epoch [80/100] - Learning Rate: 0.001284\n"
          ]
        },
        {
          "output_type": "stream",
          "name": "stderr",
          "text": [
            "Training: 100%|██████████| 7/7 [00:17<00:00,  2.55s/it, loss=2.5, acc=34.9]\n"
          ]
        },
        {
          "output_type": "stream",
          "name": "stdout",
          "text": [
            "Train Loss: 2.4986, Train Acc: 34.89%, Test Loss: 2.1385, Test Acc: 43.30%, Time: 17.84s\n",
            "New best model saved with accuracy: 43.30%\n",
            "\n",
            "Epoch [81/100] - Learning Rate: 0.001170\n"
          ]
        },
        {
          "output_type": "stream",
          "name": "stderr",
          "text": [
            "Training: 100%|██████████| 7/7 [00:18<00:00,  2.65s/it, loss=2.5, acc=35]\n"
          ]
        },
        {
          "output_type": "stream",
          "name": "stdout",
          "text": [
            "Train Loss: 2.4991, Train Acc: 35.02%, Test Loss: 2.1401, Test Acc: 43.38%, Time: 18.57s\n",
            "New best model saved with accuracy: 43.38%\n",
            "\n",
            "Epoch [82/100] - Learning Rate: 0.001060\n"
          ]
        },
        {
          "output_type": "stream",
          "name": "stderr",
          "text": [
            "Training: 100%|██████████| 7/7 [00:18<00:00,  2.64s/it, loss=2.49, acc=35]\n"
          ]
        },
        {
          "output_type": "stream",
          "name": "stdout",
          "text": [
            "Train Loss: 2.4945, Train Acc: 34.96%, Test Loss: 2.1390, Test Acc: 43.68%, Time: 18.52s\n",
            "New best model saved with accuracy: 43.68%\n",
            "\n",
            "Epoch [83/100] - Learning Rate: 0.000955\n"
          ]
        },
        {
          "output_type": "stream",
          "name": "stderr",
          "text": [
            "Training: 100%|██████████| 7/7 [00:17<00:00,  2.55s/it, loss=2.49, acc=35.4]\n"
          ]
        },
        {
          "output_type": "stream",
          "name": "stdout",
          "text": [
            "Train Loss: 2.4890, Train Acc: 35.41%, Test Loss: 2.1357, Test Acc: 43.65%, Time: 17.83s\n",
            "\n",
            "Epoch [84/100] - Learning Rate: 0.000855\n"
          ]
        },
        {
          "output_type": "stream",
          "name": "stderr",
          "text": [
            "Training: 100%|██████████| 7/7 [00:18<00:00,  2.64s/it, loss=2.48, acc=35.3]\n"
          ]
        },
        {
          "output_type": "stream",
          "name": "stdout",
          "text": [
            "Train Loss: 2.4844, Train Acc: 35.26%, Test Loss: 2.1332, Test Acc: 43.83%, Time: 18.51s\n",
            "New best model saved with accuracy: 43.83%\n",
            "\n",
            "Epoch [85/100] - Learning Rate: 0.000760\n"
          ]
        },
        {
          "output_type": "stream",
          "name": "stderr",
          "text": [
            "Training: 100%|██████████| 7/7 [00:18<00:00,  2.68s/it, loss=2.49, acc=35.3]\n"
          ]
        },
        {
          "output_type": "stream",
          "name": "stdout",
          "text": [
            "Train Loss: 2.4866, Train Acc: 35.29%, Test Loss: 2.1315, Test Acc: 43.94%, Time: 18.80s\n",
            "New best model saved with accuracy: 43.94%\n",
            "\n",
            "Epoch [86/100] - Learning Rate: 0.000670\n"
          ]
        },
        {
          "output_type": "stream",
          "name": "stderr",
          "text": [
            "Training: 100%|██████████| 7/7 [00:17<00:00,  2.54s/it, loss=2.48, acc=35.4]\n"
          ]
        },
        {
          "output_type": "stream",
          "name": "stdout",
          "text": [
            "Train Loss: 2.4772, Train Acc: 35.40%, Test Loss: 2.1312, Test Acc: 43.63%, Time: 17.77s\n",
            "\n",
            "Epoch [87/100] - Learning Rate: 0.000585\n"
          ]
        },
        {
          "output_type": "stream",
          "name": "stderr",
          "text": [
            "Training: 100%|██████████| 7/7 [00:18<00:00,  2.60s/it, loss=2.48, acc=35.5]\n"
          ]
        },
        {
          "output_type": "stream",
          "name": "stdout",
          "text": [
            "Train Loss: 2.4784, Train Acc: 35.50%, Test Loss: 2.1270, Test Acc: 43.72%, Time: 18.21s\n",
            "\n",
            "Epoch [88/100] - Learning Rate: 0.000506\n"
          ]
        },
        {
          "output_type": "stream",
          "name": "stderr",
          "text": [
            "Training: 100%|██████████| 7/7 [00:18<00:00,  2.61s/it, loss=2.47, acc=35.4]\n"
          ]
        },
        {
          "output_type": "stream",
          "name": "stdout",
          "text": [
            "Train Loss: 2.4744, Train Acc: 35.42%, Test Loss: 2.1279, Test Acc: 43.60%, Time: 18.27s\n",
            "\n",
            "Epoch [89/100] - Learning Rate: 0.000432\n"
          ]
        },
        {
          "output_type": "stream",
          "name": "stderr",
          "text": [
            "Training: 100%|██████████| 7/7 [00:17<00:00,  2.48s/it, loss=2.48, acc=35.5]\n"
          ]
        },
        {
          "output_type": "stream",
          "name": "stdout",
          "text": [
            "Train Loss: 2.4809, Train Acc: 35.47%, Test Loss: 2.1286, Test Acc: 43.89%, Time: 17.36s\n",
            "\n",
            "Epoch [90/100] - Learning Rate: 0.000364\n"
          ]
        },
        {
          "output_type": "stream",
          "name": "stderr",
          "text": [
            "Training: 100%|██████████| 7/7 [00:18<00:00,  2.65s/it, loss=2.47, acc=35.6]\n"
          ]
        },
        {
          "output_type": "stream",
          "name": "stdout",
          "text": [
            "Train Loss: 2.4714, Train Acc: 35.61%, Test Loss: 2.1235, Test Acc: 43.89%, Time: 18.58s\n",
            "\n",
            "Epoch [91/100] - Learning Rate: 0.000302\n"
          ]
        },
        {
          "output_type": "stream",
          "name": "stderr",
          "text": [
            "Training: 100%|██████████| 7/7 [00:17<00:00,  2.53s/it, loss=2.47, acc=35.5]\n"
          ]
        },
        {
          "output_type": "stream",
          "name": "stdout",
          "text": [
            "Train Loss: 2.4674, Train Acc: 35.55%, Test Loss: 2.1208, Test Acc: 43.94%, Time: 17.74s\n",
            "\n",
            "Epoch [92/100] - Learning Rate: 0.000245\n"
          ]
        },
        {
          "output_type": "stream",
          "name": "stderr",
          "text": [
            "Training: 100%|██████████| 7/7 [00:18<00:00,  2.59s/it, loss=2.46, acc=35.8]\n"
          ]
        },
        {
          "output_type": "stream",
          "name": "stdout",
          "text": [
            "Train Loss: 2.4636, Train Acc: 35.83%, Test Loss: 2.1195, Test Acc: 43.90%, Time: 18.16s\n",
            "\n",
            "Epoch [93/100] - Learning Rate: 0.000194\n"
          ]
        },
        {
          "output_type": "stream",
          "name": "stderr",
          "text": [
            "Training: 100%|██████████| 7/7 [00:19<00:00,  2.73s/it, loss=2.47, acc=35.6]\n"
          ]
        },
        {
          "output_type": "stream",
          "name": "stdout",
          "text": [
            "Train Loss: 2.4744, Train Acc: 35.58%, Test Loss: 2.1197, Test Acc: 44.01%, Time: 19.09s\n",
            "New best model saved with accuracy: 44.01%\n",
            "\n",
            "Epoch [94/100] - Learning Rate: 0.000149\n"
          ]
        },
        {
          "output_type": "stream",
          "name": "stderr",
          "text": [
            "Training: 100%|██████████| 7/7 [00:18<00:00,  2.68s/it, loss=2.47, acc=35.6]\n"
          ]
        },
        {
          "output_type": "stream",
          "name": "stdout",
          "text": [
            "Train Loss: 2.4658, Train Acc: 35.59%, Test Loss: 2.1202, Test Acc: 43.95%, Time: 18.79s\n",
            "\n",
            "Epoch [95/100] - Learning Rate: 0.000109\n"
          ]
        },
        {
          "output_type": "stream",
          "name": "stderr",
          "text": [
            "Training: 100%|██████████| 7/7 [00:18<00:00,  2.61s/it, loss=2.47, acc=35.7]\n"
          ]
        },
        {
          "output_type": "stream",
          "name": "stdout",
          "text": [
            "Train Loss: 2.4732, Train Acc: 35.71%, Test Loss: 2.1203, Test Acc: 44.00%, Time: 18.30s\n",
            "\n",
            "Epoch [96/100] - Learning Rate: 0.000076\n"
          ]
        },
        {
          "output_type": "stream",
          "name": "stderr",
          "text": [
            "Training: 100%|██████████| 7/7 [00:18<00:00,  2.65s/it, loss=2.46, acc=35.7]\n"
          ]
        },
        {
          "output_type": "stream",
          "name": "stdout",
          "text": [
            "Train Loss: 2.4614, Train Acc: 35.74%, Test Loss: 2.1196, Test Acc: 44.04%, Time: 18.53s\n",
            "New best model saved with accuracy: 44.04%\n",
            "\n",
            "Epoch [97/100] - Learning Rate: 0.000049\n"
          ]
        },
        {
          "output_type": "stream",
          "name": "stderr",
          "text": [
            "Training: 100%|██████████| 7/7 [00:18<00:00,  2.71s/it, loss=2.46, acc=35.7]\n"
          ]
        },
        {
          "output_type": "stream",
          "name": "stdout",
          "text": [
            "Train Loss: 2.4644, Train Acc: 35.74%, Test Loss: 2.1191, Test Acc: 44.10%, Time: 18.99s\n",
            "New best model saved with accuracy: 44.10%\n",
            "\n",
            "Epoch [98/100] - Learning Rate: 0.000027\n"
          ]
        },
        {
          "output_type": "stream",
          "name": "stderr",
          "text": [
            "Training: 100%|██████████| 7/7 [00:17<00:00,  2.55s/it, loss=2.46, acc=35.8]\n"
          ]
        },
        {
          "output_type": "stream",
          "name": "stdout",
          "text": [
            "Train Loss: 2.4634, Train Acc: 35.84%, Test Loss: 2.1195, Test Acc: 44.04%, Time: 17.88s\n",
            "\n",
            "Epoch [99/100] - Learning Rate: 0.000012\n"
          ]
        },
        {
          "output_type": "stream",
          "name": "stderr",
          "text": [
            "Training: 100%|██████████| 7/7 [00:17<00:00,  2.53s/it, loss=2.46, acc=35.7]\n"
          ]
        },
        {
          "output_type": "stream",
          "name": "stdout",
          "text": [
            "Train Loss: 2.4632, Train Acc: 35.73%, Test Loss: 2.1193, Test Acc: 43.99%, Time: 17.73s\n",
            "\n",
            "Epoch [100/100] - Learning Rate: 0.000003\n"
          ]
        },
        {
          "output_type": "stream",
          "name": "stderr",
          "text": [
            "Training: 100%|██████████| 7/7 [00:19<00:00,  2.74s/it, loss=2.46, acc=35.4]\n"
          ]
        },
        {
          "output_type": "stream",
          "name": "stdout",
          "text": [
            "Train Loss: 2.4613, Train Acc: 35.41%, Test Loss: 2.1189, Test Acc: 43.99%, Time: 19.21s\n",
            "Best model loaded with accuracy: 44.10%\n"
          ]
        },
        {
          "output_type": "display_data",
          "data": {
            "text/plain": [
              "<Figure size 1800x500 with 3 Axes>"
            ],
            "image/png": "[encoded data removed]"
          },
          "metadata": {}
        },
        {
          "output_type": "stream",
          "name": "stdout",
          "text": [
            "LAMB benchmark completed!\n"
          ]
        }
      ]
    }
  ]
}