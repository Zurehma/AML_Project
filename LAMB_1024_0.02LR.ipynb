{
  "nbformat": 4,
  "nbformat_minor": 0,
  "metadata": {
    "colab": {
      "provenance": [],
      "gpuType": "T4",
      "include_colab_link": true
    },
    "kernelspec": {
      "name": "python3",
      "display_name": "Python 3"
    },
    "language_info": {
      "name": "python"
    },
    "accelerator": "GPU"
  },
  "cells": [
    {
      "cell_type": "markdown",
      "metadata": {
        "id": "view-in-github",
        "colab_type": "text"
      },
      "source": [
        "<a href=\"https://colab.research.google.com/github/Zurehma/AML_Project/blob/zurehma/LAMB_1024_0.02LR.ipynb\" target=\"_parent\"><img src=\"https://colab.research.google.com/assets/colab-badge.svg\" alt=\"Open In Colab\"/></a>"
      ]
    },
    {
      "cell_type": "code",
      "source": [
        "!pip install torch-optimizer"
      ],
      "metadata": {
        "id": "NXyk6PmVw6X8"
      },
      "execution_count": null,
      "outputs": []
    },
    {
      "cell_type": "code",
      "execution_count": 6,
      "metadata": {
        "id": "HqQ4KqXLwvW_",
        "colab": {
          "base_uri": "https://localhost:8080/",
          "height": 1000
        },
        "outputId": "20db1a3c-e287-49eb-cea5-281f402f346b"
      },
      "outputs": [
        {
          "output_type": "stream",
          "name": "stdout",
          "text": [
            "PyTorch version: 2.6.0+cu124\n",
            "Using device: cuda:0\n",
            "Running LAMB benchmark with improved_cnn on cifar100...\n",
            "Total parameters: 1,774,052\n",
            "\n",
            "Epoch [1/100] - Learning Rate: 0.002000\n"
          ]
        },
        {
          "output_type": "stream",
          "name": "stderr",
          "text": [
            "Training: 100%|██████████| 49/49 [00:18<00:00,  2.67it/s, loss=4.57, acc=2.03]\n"
          ]
        },
        {
          "output_type": "stream",
          "name": "stdout",
          "text": [
            "Train Loss: 4.5692, Train Acc: 2.03%, Test Loss: 4.4139, Test Acc: 4.23%, Time: 18.36s\n",
            "New best model saved with accuracy: 4.23%\n",
            "\n",
            "Epoch [2/100] - Learning Rate: 0.004000\n"
          ]
        },
        {
          "output_type": "stream",
          "name": "stderr",
          "text": [
            "Training: 100%|██████████| 49/49 [00:19<00:00,  2.51it/s, loss=4.32, acc=4.58]\n"
          ]
        },
        {
          "output_type": "stream",
          "name": "stdout",
          "text": [
            "Train Loss: 4.3215, Train Acc: 4.58%, Test Loss: 3.9939, Test Acc: 9.48%, Time: 19.52s\n",
            "New best model saved with accuracy: 9.48%\n",
            "\n",
            "Epoch [3/100] - Learning Rate: 0.006000\n"
          ]
        },
        {
          "output_type": "stream",
          "name": "stderr",
          "text": [
            "Training: 100%|██████████| 49/49 [00:19<00:00,  2.55it/s, loss=4, acc=7.93]\n"
          ]
        },
        {
          "output_type": "stream",
          "name": "stdout",
          "text": [
            "Train Loss: 4.0047, Train Acc: 7.93%, Test Loss: 3.6152, Test Acc: 15.47%, Time: 19.19s\n",
            "New best model saved with accuracy: 15.47%\n",
            "\n",
            "Epoch [4/100] - Learning Rate: 0.008000\n"
          ]
        },
        {
          "output_type": "stream",
          "name": "stderr",
          "text": [
            "Training: 100%|██████████| 49/49 [00:18<00:00,  2.70it/s, loss=3.76, acc=11.2]\n"
          ]
        },
        {
          "output_type": "stream",
          "name": "stdout",
          "text": [
            "Train Loss: 3.7577, Train Acc: 11.23%, Test Loss: 3.3820, Test Acc: 19.20%, Time: 18.12s\n",
            "New best model saved with accuracy: 19.20%\n",
            "\n",
            "Epoch [5/100] - Learning Rate: 0.010000\n"
          ]
        },
        {
          "output_type": "stream",
          "name": "stderr",
          "text": [
            "Training: 100%|██████████| 49/49 [00:19<00:00,  2.55it/s, loss=3.56, acc=14.7]\n"
          ]
        },
        {
          "output_type": "stream",
          "name": "stdout",
          "text": [
            "Train Loss: 3.5560, Train Acc: 14.71%, Test Loss: 3.2075, Test Acc: 22.17%, Time: 19.19s\n",
            "New best model saved with accuracy: 22.17%\n",
            "\n",
            "Epoch [6/100] - Learning Rate: 0.012000\n"
          ]
        },
        {
          "output_type": "stream",
          "name": "stderr",
          "text": [
            "Training: 100%|██████████| 49/49 [00:18<00:00,  2.62it/s, loss=3.43, acc=17]\n"
          ]
        },
        {
          "output_type": "stream",
          "name": "stdout",
          "text": [
            "Train Loss: 3.4335, Train Acc: 16.98%, Test Loss: 3.0997, Test Acc: 23.94%, Time: 18.69s\n",
            "New best model saved with accuracy: 23.94%\n",
            "\n",
            "Epoch [7/100] - Learning Rate: 0.014000\n"
          ]
        },
        {
          "output_type": "stream",
          "name": "stderr",
          "text": [
            "Training: 100%|██████████| 49/49 [00:18<00:00,  2.64it/s, loss=3.35, acc=18.1]\n"
          ]
        },
        {
          "output_type": "stream",
          "name": "stdout",
          "text": [
            "Train Loss: 3.3525, Train Acc: 18.07%, Test Loss: 2.9723, Test Acc: 25.65%, Time: 18.58s\n",
            "New best model saved with accuracy: 25.65%\n",
            "\n",
            "Epoch [8/100] - Learning Rate: 0.016000\n"
          ]
        },
        {
          "output_type": "stream",
          "name": "stderr",
          "text": [
            "Training: 100%|██████████| 49/49 [00:19<00:00,  2.56it/s, loss=3.29, acc=19.3]\n"
          ]
        },
        {
          "output_type": "stream",
          "name": "stdout",
          "text": [
            "Train Loss: 3.2868, Train Acc: 19.30%, Test Loss: 3.0349, Test Acc: 24.35%, Time: 19.13s\n",
            "\n",
            "Epoch [9/100] - Learning Rate: 0.018000\n"
          ]
        },
        {
          "output_type": "stream",
          "name": "stderr",
          "text": [
            "Training: 100%|██████████| 49/49 [00:17<00:00,  2.73it/s, loss=3.26, acc=20.1]\n"
          ]
        },
        {
          "output_type": "stream",
          "name": "stdout",
          "text": [
            "Train Loss: 3.2613, Train Acc: 20.08%, Test Loss: 2.9972, Test Acc: 25.38%, Time: 17.95s\n",
            "\n",
            "Epoch [10/100] - Learning Rate: 0.020000\n"
          ]
        },
        {
          "output_type": "stream",
          "name": "stderr",
          "text": [
            "Training: 100%|██████████| 49/49 [00:18<00:00,  2.60it/s, loss=3.22, acc=20.7]\n"
          ]
        },
        {
          "output_type": "stream",
          "name": "stdout",
          "text": [
            "Train Loss: 3.2157, Train Acc: 20.72%, Test Loss: 2.7788, Test Acc: 29.11%, Time: 18.87s\n",
            "New best model saved with accuracy: 29.11%\n",
            "\n",
            "Epoch [11/100] - Learning Rate: 0.020000\n"
          ]
        },
        {
          "output_type": "stream",
          "name": "stderr",
          "text": [
            "Training: 100%|██████████| 49/49 [00:18<00:00,  2.62it/s, loss=3.12, acc=22.3]\n"
          ]
        },
        {
          "output_type": "stream",
          "name": "stdout",
          "text": [
            "Train Loss: 3.1229, Train Acc: 22.27%, Test Loss: 2.7740, Test Acc: 29.06%, Time: 18.73s\n",
            "\n",
            "Epoch [12/100] - Learning Rate: 0.019994\n"
          ]
        },
        {
          "output_type": "stream",
          "name": "stderr",
          "text": [
            "Training: 100%|██████████| 49/49 [00:18<00:00,  2.70it/s, loss=3.04, acc=24.1]\n"
          ]
        },
        {
          "output_type": "stream",
          "name": "stdout",
          "text": [
            "Train Loss: 3.0403, Train Acc: 24.06%, Test Loss: 2.7321, Test Acc: 31.04%, Time: 18.18s\n",
            "New best model saved with accuracy: 31.04%\n",
            "\n",
            "Epoch [13/100] - Learning Rate: 0.019976\n"
          ]
        },
        {
          "output_type": "stream",
          "name": "stderr",
          "text": [
            "Training: 100%|██████████| 49/49 [00:19<00:00,  2.53it/s, loss=2.97, acc=25.4]\n"
          ]
        },
        {
          "output_type": "stream",
          "name": "stdout",
          "text": [
            "Train Loss: 2.9698, Train Acc: 25.40%, Test Loss: 2.6563, Test Acc: 31.85%, Time: 19.37s\n",
            "New best model saved with accuracy: 31.85%\n",
            "\n",
            "Epoch [14/100] - Learning Rate: 0.019945\n"
          ]
        },
        {
          "output_type": "stream",
          "name": "stderr",
          "text": [
            "Training: 100%|██████████| 49/49 [00:18<00:00,  2.65it/s, loss=2.92, acc=26.1]\n"
          ]
        },
        {
          "output_type": "stream",
          "name": "stdout",
          "text": [
            "Train Loss: 2.9243, Train Acc: 26.10%, Test Loss: 2.5822, Test Acc: 33.26%, Time: 18.52s\n",
            "New best model saved with accuracy: 33.26%\n",
            "\n",
            "Epoch [15/100] - Learning Rate: 0.019903\n"
          ]
        },
        {
          "output_type": "stream",
          "name": "stderr",
          "text": [
            "Training: 100%|██████████| 49/49 [00:17<00:00,  2.74it/s, loss=2.87, acc=27.3]\n"
          ]
        },
        {
          "output_type": "stream",
          "name": "stdout",
          "text": [
            "Train Loss: 2.8684, Train Acc: 27.32%, Test Loss: 2.5233, Test Acc: 34.77%, Time: 17.86s\n",
            "New best model saved with accuracy: 34.77%\n",
            "\n",
            "Epoch [16/100] - Learning Rate: 0.019848\n"
          ]
        },
        {
          "output_type": "stream",
          "name": "stderr",
          "text": [
            "Training: 100%|██████████| 49/49 [00:18<00:00,  2.62it/s, loss=2.81, acc=28.5]\n"
          ]
        },
        {
          "output_type": "stream",
          "name": "stdout",
          "text": [
            "Train Loss: 2.8133, Train Acc: 28.48%, Test Loss: 2.4159, Test Acc: 36.80%, Time: 18.69s\n",
            "New best model saved with accuracy: 36.80%\n",
            "\n",
            "Epoch [17/100] - Learning Rate: 0.019781\n"
          ]
        },
        {
          "output_type": "stream",
          "name": "stderr",
          "text": [
            "Training: 100%|██████████| 49/49 [00:17<00:00,  2.72it/s, loss=2.79, acc=28.9]\n"
          ]
        },
        {
          "output_type": "stream",
          "name": "stdout",
          "text": [
            "Train Loss: 2.7881, Train Acc: 28.93%, Test Loss: 2.4199, Test Acc: 36.59%, Time: 18.00s\n",
            "\n",
            "Epoch [18/100] - Learning Rate: 0.019703\n"
          ]
        },
        {
          "output_type": "stream",
          "name": "stderr",
          "text": [
            "Training: 100%|██████████| 49/49 [00:19<00:00,  2.55it/s, loss=2.77, acc=29.2]\n"
          ]
        },
        {
          "output_type": "stream",
          "name": "stdout",
          "text": [
            "Train Loss: 2.7693, Train Acc: 29.23%, Test Loss: 2.5208, Test Acc: 35.59%, Time: 19.24s\n",
            "\n",
            "Epoch [19/100] - Learning Rate: 0.019613\n"
          ]
        },
        {
          "output_type": "stream",
          "name": "stderr",
          "text": [
            "Training: 100%|██████████| 49/49 [00:18<00:00,  2.67it/s, loss=2.72, acc=29.9]\n"
          ]
        },
        {
          "output_type": "stream",
          "name": "stdout",
          "text": [
            "Train Loss: 2.7235, Train Acc: 29.90%, Test Loss: 2.3729, Test Acc: 37.53%, Time: 18.38s\n",
            "New best model saved with accuracy: 37.53%\n",
            "\n",
            "Epoch [20/100] - Learning Rate: 0.019511\n"
          ]
        },
        {
          "output_type": "stream",
          "name": "stderr",
          "text": [
            "Training: 100%|██████████| 49/49 [00:18<00:00,  2.70it/s, loss=2.71, acc=30.4]\n"
          ]
        },
        {
          "output_type": "stream",
          "name": "stdout",
          "text": [
            "Train Loss: 2.7085, Train Acc: 30.36%, Test Loss: 2.6195, Test Acc: 32.80%, Time: 18.17s\n",
            "\n",
            "Epoch [21/100] - Learning Rate: 0.019397\n"
          ]
        },
        {
          "output_type": "stream",
          "name": "stderr",
          "text": [
            "Training: 100%|██████████| 49/49 [00:19<00:00,  2.52it/s, loss=2.68, acc=31.3]\n"
          ]
        },
        {
          "output_type": "stream",
          "name": "stdout",
          "text": [
            "Train Loss: 2.6752, Train Acc: 31.34%, Test Loss: 2.5401, Test Acc: 34.47%, Time: 19.41s\n",
            "\n",
            "Epoch [22/100] - Learning Rate: 0.019272\n"
          ]
        },
        {
          "output_type": "stream",
          "name": "stderr",
          "text": [
            "Training: 100%|██████████| 49/49 [00:17<00:00,  2.76it/s, loss=2.66, acc=31.6]\n"
          ]
        },
        {
          "output_type": "stream",
          "name": "stdout",
          "text": [
            "Train Loss: 2.6618, Train Acc: 31.63%, Test Loss: 2.4109, Test Acc: 37.12%, Time: 17.74s\n",
            "\n",
            "Epoch [23/100] - Learning Rate: 0.019135\n"
          ]
        },
        {
          "output_type": "stream",
          "name": "stderr",
          "text": [
            "Training: 100%|██████████| 49/49 [00:18<00:00,  2.70it/s, loss=2.66, acc=31.5]\n"
          ]
        },
        {
          "output_type": "stream",
          "name": "stdout",
          "text": [
            "Train Loss: 2.6598, Train Acc: 31.47%, Test Loss: 2.4751, Test Acc: 36.02%, Time: 18.14s\n",
            "\n",
            "Epoch [24/100] - Learning Rate: 0.018988\n"
          ]
        },
        {
          "output_type": "stream",
          "name": "stderr",
          "text": [
            "Training: 100%|██████████| 49/49 [00:17<00:00,  2.73it/s, loss=2.63, acc=32.4]\n"
          ]
        },
        {
          "output_type": "stream",
          "name": "stdout",
          "text": [
            "Train Loss: 2.6329, Train Acc: 32.35%, Test Loss: 2.4382, Test Acc: 36.73%, Time: 17.93s\n",
            "\n",
            "Epoch [25/100] - Learning Rate: 0.018829\n"
          ]
        },
        {
          "output_type": "stream",
          "name": "stderr",
          "text": [
            "Training: 100%|██████████| 49/49 [00:17<00:00,  2.74it/s, loss=2.6, acc=32.8]\n"
          ]
        },
        {
          "output_type": "stream",
          "name": "stdout",
          "text": [
            "Train Loss: 2.6036, Train Acc: 32.84%, Test Loss: 2.3720, Test Acc: 38.38%, Time: 17.91s\n",
            "New best model saved with accuracy: 38.38%\n",
            "\n",
            "Epoch [26/100] - Learning Rate: 0.018660\n"
          ]
        },
        {
          "output_type": "stream",
          "name": "stderr",
          "text": [
            "Training: 100%|██████████| 49/49 [00:19<00:00,  2.46it/s, loss=2.59, acc=33]\n"
          ]
        },
        {
          "output_type": "stream",
          "name": "stdout",
          "text": [
            "Train Loss: 2.5932, Train Acc: 32.98%, Test Loss: 2.3433, Test Acc: 38.70%, Time: 19.92s\n",
            "New best model saved with accuracy: 38.70%\n",
            "\n",
            "Epoch [27/100] - Learning Rate: 0.018480\n"
          ]
        },
        {
          "output_type": "stream",
          "name": "stderr",
          "text": [
            "Training: 100%|██████████| 49/49 [00:18<00:00,  2.67it/s, loss=2.58, acc=33.4]\n"
          ]
        },
        {
          "output_type": "stream",
          "name": "stdout",
          "text": [
            "Train Loss: 2.5776, Train Acc: 33.44%, Test Loss: 2.5513, Test Acc: 35.31%, Time: 18.38s\n",
            "\n",
            "Epoch [28/100] - Learning Rate: 0.018290\n"
          ]
        },
        {
          "output_type": "stream",
          "name": "stderr",
          "text": [
            "Training: 100%|██████████| 49/49 [00:18<00:00,  2.66it/s, loss=2.55, acc=33.9]\n"
          ]
        },
        {
          "output_type": "stream",
          "name": "stdout",
          "text": [
            "Train Loss: 2.5547, Train Acc: 33.90%, Test Loss: 2.4379, Test Acc: 37.28%, Time: 18.44s\n",
            "\n",
            "Epoch [29/100] - Learning Rate: 0.018090\n"
          ]
        },
        {
          "output_type": "stream",
          "name": "stderr",
          "text": [
            "Training: 100%|██████████| 49/49 [00:19<00:00,  2.53it/s, loss=2.54, acc=34.2]\n"
          ]
        },
        {
          "output_type": "stream",
          "name": "stdout",
          "text": [
            "Train Loss: 2.5362, Train Acc: 34.22%, Test Loss: 2.3783, Test Acc: 38.44%, Time: 19.39s\n",
            "\n",
            "Epoch [30/100] - Learning Rate: 0.017880\n"
          ]
        },
        {
          "output_type": "stream",
          "name": "stderr",
          "text": [
            "Training: 100%|██████████| 49/49 [00:18<00:00,  2.69it/s, loss=2.51, acc=34.3]\n"
          ]
        },
        {
          "output_type": "stream",
          "name": "stdout",
          "text": [
            "Train Loss: 2.5148, Train Acc: 34.33%, Test Loss: 2.2731, Test Acc: 40.47%, Time: 18.19s\n",
            "New best model saved with accuracy: 40.47%\n",
            "\n",
            "Epoch [31/100] - Learning Rate: 0.017660\n"
          ]
        },
        {
          "output_type": "stream",
          "name": "stderr",
          "text": [
            "Training: 100%|██████████| 49/49 [00:19<00:00,  2.57it/s, loss=2.48, acc=35.3]\n"
          ]
        },
        {
          "output_type": "stream",
          "name": "stdout",
          "text": [
            "Train Loss: 2.4781, Train Acc: 35.32%, Test Loss: 2.7695, Test Acc: 32.82%, Time: 19.08s\n",
            "\n",
            "Epoch [32/100] - Learning Rate: 0.017431\n"
          ]
        },
        {
          "output_type": "stream",
          "name": "stderr",
          "text": [
            "Training: 100%|██████████| 49/49 [00:19<00:00,  2.57it/s, loss=2.49, acc=35.5]\n"
          ]
        },
        {
          "output_type": "stream",
          "name": "stdout",
          "text": [
            "Train Loss: 2.4876, Train Acc: 35.53%, Test Loss: 2.3233, Test Acc: 39.92%, Time: 19.05s\n",
            "\n",
            "Epoch [33/100] - Learning Rate: 0.017193\n"
          ]
        },
        {
          "output_type": "stream",
          "name": "stderr",
          "text": [
            "Training: 100%|██████████| 49/49 [00:18<00:00,  2.66it/s, loss=2.46, acc=36.1]\n"
          ]
        },
        {
          "output_type": "stream",
          "name": "stdout",
          "text": [
            "Train Loss: 2.4575, Train Acc: 36.11%, Test Loss: 3.6669, Test Acc: 22.76%, Time: 18.41s\n",
            "\n",
            "Epoch [34/100] - Learning Rate: 0.016947\n"
          ]
        },
        {
          "output_type": "stream",
          "name": "stderr",
          "text": [
            "Training: 100%|██████████| 49/49 [00:19<00:00,  2.55it/s, loss=2.45, acc=36.1]\n"
          ]
        },
        {
          "output_type": "stream",
          "name": "stdout",
          "text": [
            "Train Loss: 2.4456, Train Acc: 36.05%, Test Loss: 2.1916, Test Acc: 42.34%, Time: 19.26s\n",
            "New best model saved with accuracy: 42.34%\n",
            "\n",
            "Epoch [35/100] - Learning Rate: 0.016691\n"
          ]
        },
        {
          "output_type": "stream",
          "name": "stderr",
          "text": [
            "Training: 100%|██████████| 49/49 [00:18<00:00,  2.62it/s, loss=2.43, acc=36.4]\n"
          ]
        },
        {
          "output_type": "stream",
          "name": "stdout",
          "text": [
            "Train Loss: 2.4293, Train Acc: 36.43%, Test Loss: 2.1924, Test Acc: 42.50%, Time: 18.71s\n",
            "New best model saved with accuracy: 42.50%\n",
            "\n",
            "Epoch [36/100] - Learning Rate: 0.016428\n"
          ]
        },
        {
          "output_type": "stream",
          "name": "stderr",
          "text": [
            "Training: 100%|██████████| 49/49 [00:18<00:00,  2.65it/s, loss=2.4, acc=37.2]\n"
          ]
        },
        {
          "output_type": "stream",
          "name": "stdout",
          "text": [
            "Train Loss: 2.4025, Train Acc: 37.20%, Test Loss: 3.7143, Test Acc: 25.45%, Time: 18.50s\n",
            "\n",
            "Epoch [37/100] - Learning Rate: 0.016157\n"
          ]
        },
        {
          "output_type": "stream",
          "name": "stderr",
          "text": [
            "Training: 100%|██████████| 49/49 [00:19<00:00,  2.53it/s, loss=2.39, acc=37.3]\n"
          ]
        },
        {
          "output_type": "stream",
          "name": "stdout",
          "text": [
            "Train Loss: 2.3929, Train Acc: 37.26%, Test Loss: 2.9990, Test Acc: 32.11%, Time: 19.36s\n",
            "\n",
            "Epoch [38/100] - Learning Rate: 0.015878\n"
          ]
        },
        {
          "output_type": "stream",
          "name": "stderr",
          "text": [
            "Training: 100%|██████████| 49/49 [00:18<00:00,  2.67it/s, loss=2.39, acc=37.2]\n"
          ]
        },
        {
          "output_type": "stream",
          "name": "stdout",
          "text": [
            "Train Loss: 2.3892, Train Acc: 37.23%, Test Loss: 2.0787, Test Acc: 44.68%, Time: 18.33s\n",
            "New best model saved with accuracy: 44.68%\n",
            "\n",
            "Epoch [39/100] - Learning Rate: 0.015592\n"
          ]
        },
        {
          "output_type": "stream",
          "name": "stderr",
          "text": [
            "Training: 100%|██████████| 49/49 [00:17<00:00,  2.74it/s, loss=2.37, acc=38]\n"
          ]
        },
        {
          "output_type": "stream",
          "name": "stdout",
          "text": [
            "Train Loss: 2.3654, Train Acc: 37.98%, Test Loss: 3.9723, Test Acc: 24.07%, Time: 17.91s\n",
            "\n",
            "Epoch [40/100] - Learning Rate: 0.015299\n"
          ]
        },
        {
          "output_type": "stream",
          "name": "stderr",
          "text": [
            "Training: 100%|██████████| 49/49 [00:18<00:00,  2.64it/s, loss=2.35, acc=37.9]\n"
          ]
        },
        {
          "output_type": "stream",
          "name": "stdout",
          "text": [
            "Train Loss: 2.3547, Train Acc: 37.87%, Test Loss: 2.1871, Test Acc: 43.09%, Time: 18.60s\n",
            "\n",
            "Epoch [41/100] - Learning Rate: 0.015000\n"
          ]
        },
        {
          "output_type": "stream",
          "name": "stderr",
          "text": [
            "Training: 100%|██████████| 49/49 [00:18<00:00,  2.72it/s, loss=2.35, acc=38.3]\n"
          ]
        },
        {
          "output_type": "stream",
          "name": "stdout",
          "text": [
            "Train Loss: 2.3458, Train Acc: 38.26%, Test Loss: 2.1125, Test Acc: 44.67%, Time: 18.01s\n",
            "\n",
            "Epoch [42/100] - Learning Rate: 0.014695\n"
          ]
        },
        {
          "output_type": "stream",
          "name": "stderr",
          "text": [
            "Training: 100%|██████████| 49/49 [00:19<00:00,  2.52it/s, loss=2.32, acc=38.8]\n"
          ]
        },
        {
          "output_type": "stream",
          "name": "stdout",
          "text": [
            "Train Loss: 2.3159, Train Acc: 38.82%, Test Loss: 3.3779, Test Acc: 26.92%, Time: 19.42s\n",
            "\n",
            "Epoch [43/100] - Learning Rate: 0.014384\n"
          ]
        },
        {
          "output_type": "stream",
          "name": "stderr",
          "text": [
            "Training: 100%|██████████| 49/49 [00:18<00:00,  2.70it/s, loss=2.3, acc=39.3]\n"
          ]
        },
        {
          "output_type": "stream",
          "name": "stdout",
          "text": [
            "Train Loss: 2.3029, Train Acc: 39.27%, Test Loss: 2.1638, Test Acc: 43.18%, Time: 18.18s\n",
            "\n",
            "Epoch [44/100] - Learning Rate: 0.014067\n"
          ]
        },
        {
          "output_type": "stream",
          "name": "stderr",
          "text": [
            "Training: 100%|██████████| 49/49 [00:18<00:00,  2.69it/s, loss=2.29, acc=39.5]\n"
          ]
        },
        {
          "output_type": "stream",
          "name": "stdout",
          "text": [
            "Train Loss: 2.2879, Train Acc: 39.49%, Test Loss: 3.0228, Test Acc: 30.57%, Time: 18.25s\n",
            "\n",
            "Epoch [45/100] - Learning Rate: 0.013746\n"
          ]
        },
        {
          "output_type": "stream",
          "name": "stderr",
          "text": [
            "Training: 100%|██████████| 49/49 [00:19<00:00,  2.55it/s, loss=2.28, acc=39.4]\n"
          ]
        },
        {
          "output_type": "stream",
          "name": "stdout",
          "text": [
            "Train Loss: 2.2788, Train Acc: 39.40%, Test Loss: 2.6284, Test Acc: 35.25%, Time: 19.26s\n",
            "\n",
            "Epoch [46/100] - Learning Rate: 0.013420\n"
          ]
        },
        {
          "output_type": "stream",
          "name": "stderr",
          "text": [
            "Training: 100%|██████████| 49/49 [00:18<00:00,  2.69it/s, loss=2.28, acc=40]\n"
          ]
        },
        {
          "output_type": "stream",
          "name": "stdout",
          "text": [
            "Train Loss: 2.2809, Train Acc: 39.99%, Test Loss: 2.0326, Test Acc: 46.17%, Time: 18.20s\n",
            "New best model saved with accuracy: 46.17%\n",
            "\n",
            "Epoch [47/100] - Learning Rate: 0.013090\n"
          ]
        },
        {
          "output_type": "stream",
          "name": "stderr",
          "text": [
            "Training: 100%|██████████| 49/49 [00:18<00:00,  2.62it/s, loss=2.26, acc=40.1]\n"
          ]
        },
        {
          "output_type": "stream",
          "name": "stdout",
          "text": [
            "Train Loss: 2.2647, Train Acc: 40.12%, Test Loss: 2.8286, Test Acc: 32.74%, Time: 18.72s\n",
            "\n",
            "Epoch [48/100] - Learning Rate: 0.012756\n"
          ]
        },
        {
          "output_type": "stream",
          "name": "stderr",
          "text": [
            "Training: 100%|██████████| 49/49 [00:19<00:00,  2.54it/s, loss=2.24, acc=40.8]\n"
          ]
        },
        {
          "output_type": "stream",
          "name": "stdout",
          "text": [
            "Train Loss: 2.2433, Train Acc: 40.75%, Test Loss: 2.0328, Test Acc: 46.70%, Time: 19.30s\n",
            "New best model saved with accuracy: 46.70%\n",
            "\n",
            "Epoch [49/100] - Learning Rate: 0.012419\n"
          ]
        },
        {
          "output_type": "stream",
          "name": "stderr",
          "text": [
            "Training: 100%|██████████| 49/49 [00:18<00:00,  2.70it/s, loss=2.23, acc=41.1]\n"
          ]
        },
        {
          "output_type": "stream",
          "name": "stdout",
          "text": [
            "Train Loss: 2.2278, Train Acc: 41.10%, Test Loss: 3.0947, Test Acc: 30.62%, Time: 18.13s\n",
            "\n",
            "Epoch [50/100] - Learning Rate: 0.012079\n"
          ]
        },
        {
          "output_type": "stream",
          "name": "stderr",
          "text": [
            "Training: 100%|██████████| 49/49 [00:19<00:00,  2.57it/s, loss=2.22, acc=40.9]\n"
          ]
        },
        {
          "output_type": "stream",
          "name": "stdout",
          "text": [
            "Train Loss: 2.2158, Train Acc: 40.86%, Test Loss: 2.9638, Test Acc: 33.20%, Time: 19.10s\n",
            "\n",
            "Epoch [51/100] - Learning Rate: 0.011736\n"
          ]
        },
        {
          "output_type": "stream",
          "name": "stderr",
          "text": [
            "Training: 100%|██████████| 49/49 [00:18<00:00,  2.69it/s, loss=2.21, acc=41.4]\n"
          ]
        },
        {
          "output_type": "stream",
          "name": "stdout",
          "text": [
            "Train Loss: 2.2121, Train Acc: 41.36%, Test Loss: 2.4558, Test Acc: 38.95%, Time: 18.22s\n",
            "\n",
            "Epoch [52/100] - Learning Rate: 0.011392\n"
          ]
        },
        {
          "output_type": "stream",
          "name": "stderr",
          "text": [
            "Training: 100%|██████████| 49/49 [00:18<00:00,  2.71it/s, loss=2.19, acc=41.9]\n"
          ]
        },
        {
          "output_type": "stream",
          "name": "stdout",
          "text": [
            "Train Loss: 2.1938, Train Acc: 41.89%, Test Loss: 2.2130, Test Acc: 43.00%, Time: 18.07s\n",
            "\n",
            "Epoch [53/100] - Learning Rate: 0.011045\n"
          ]
        },
        {
          "output_type": "stream",
          "name": "stderr",
          "text": [
            "Training: 100%|██████████| 49/49 [00:19<00:00,  2.57it/s, loss=2.17, acc=41.9]\n"
          ]
        },
        {
          "output_type": "stream",
          "name": "stdout",
          "text": [
            "Train Loss: 2.1741, Train Acc: 41.94%, Test Loss: 2.0134, Test Acc: 47.04%, Time: 19.11s\n",
            "New best model saved with accuracy: 47.04%\n",
            "\n",
            "Epoch [54/100] - Learning Rate: 0.010698\n"
          ]
        },
        {
          "output_type": "stream",
          "name": "stderr",
          "text": [
            "Training: 100%|██████████| 49/49 [00:18<00:00,  2.67it/s, loss=2.17, acc=42.1]\n"
          ]
        },
        {
          "output_type": "stream",
          "name": "stdout",
          "text": [
            "Train Loss: 2.1697, Train Acc: 42.14%, Test Loss: 2.5654, Test Acc: 37.03%, Time: 18.39s\n",
            "\n",
            "Epoch [55/100] - Learning Rate: 0.010349\n"
          ]
        },
        {
          "output_type": "stream",
          "name": "stderr",
          "text": [
            "Training: 100%|██████████| 49/49 [00:18<00:00,  2.61it/s, loss=2.15, acc=42.4]\n"
          ]
        },
        {
          "output_type": "stream",
          "name": "stdout",
          "text": [
            "Train Loss: 2.1526, Train Acc: 42.35%, Test Loss: 2.0401, Test Acc: 46.46%, Time: 18.76s\n",
            "\n",
            "Epoch [56/100] - Learning Rate: 0.010000\n"
          ]
        },
        {
          "output_type": "stream",
          "name": "stderr",
          "text": [
            "Training: 100%|██████████| 49/49 [00:18<00:00,  2.67it/s, loss=2.14, acc=42.5]\n"
          ]
        },
        {
          "output_type": "stream",
          "name": "stdout",
          "text": [
            "Train Loss: 2.1431, Train Acc: 42.53%, Test Loss: 2.0227, Test Acc: 46.79%, Time: 18.38s\n",
            "\n",
            "Epoch [57/100] - Learning Rate: 0.009651\n"
          ]
        },
        {
          "output_type": "stream",
          "name": "stderr",
          "text": [
            "Training: 100%|██████████| 49/49 [00:18<00:00,  2.69it/s, loss=2.13, acc=43]\n"
          ]
        },
        {
          "output_type": "stream",
          "name": "stdout",
          "text": [
            "Train Loss: 2.1322, Train Acc: 43.02%, Test Loss: 1.9046, Test Acc: 49.47%, Time: 18.20s\n",
            "New best model saved with accuracy: 49.47%\n",
            "\n",
            "Epoch [58/100] - Learning Rate: 0.009302\n"
          ]
        },
        {
          "output_type": "stream",
          "name": "stderr",
          "text": [
            "Training: 100%|██████████| 49/49 [00:19<00:00,  2.56it/s, loss=2.12, acc=43.2]\n"
          ]
        },
        {
          "output_type": "stream",
          "name": "stdout",
          "text": [
            "Train Loss: 2.1175, Train Acc: 43.20%, Test Loss: 2.0134, Test Acc: 46.69%, Time: 19.15s\n",
            "\n",
            "Epoch [59/100] - Learning Rate: 0.008955\n"
          ]
        },
        {
          "output_type": "stream",
          "name": "stderr",
          "text": [
            "Training: 100%|██████████| 49/49 [00:18<00:00,  2.70it/s, loss=2.11, acc=43.3]\n"
          ]
        },
        {
          "output_type": "stream",
          "name": "stdout",
          "text": [
            "Train Loss: 2.1135, Train Acc: 43.34%, Test Loss: 2.0970, Test Acc: 44.84%, Time: 18.15s\n",
            "\n",
            "Epoch [60/100] - Learning Rate: 0.008608\n"
          ]
        },
        {
          "output_type": "stream",
          "name": "stderr",
          "text": [
            "Training: 100%|██████████| 49/49 [00:18<00:00,  2.65it/s, loss=2.11, acc=43.2]\n"
          ]
        },
        {
          "output_type": "stream",
          "name": "stdout",
          "text": [
            "Train Loss: 2.1139, Train Acc: 43.23%, Test Loss: 2.0102, Test Acc: 46.98%, Time: 18.53s\n",
            "\n",
            "Epoch [61/100] - Learning Rate: 0.008264\n"
          ]
        },
        {
          "output_type": "stream",
          "name": "stderr",
          "text": [
            "Training: 100%|██████████| 49/49 [00:19<00:00,  2.57it/s, loss=2.1, acc=43.7]\n"
          ]
        },
        {
          "output_type": "stream",
          "name": "stdout",
          "text": [
            "Train Loss: 2.0985, Train Acc: 43.70%, Test Loss: 2.1864, Test Acc: 44.64%, Time: 19.04s\n",
            "\n",
            "Epoch [62/100] - Learning Rate: 0.007921\n"
          ]
        },
        {
          "output_type": "stream",
          "name": "stderr",
          "text": [
            "Training: 100%|██████████| 49/49 [00:18<00:00,  2.70it/s, loss=2.06, acc=44.4]\n"
          ]
        },
        {
          "output_type": "stream",
          "name": "stdout",
          "text": [
            "Train Loss: 2.0595, Train Acc: 44.36%, Test Loss: 1.8244, Test Acc: 50.88%, Time: 18.19s\n",
            "New best model saved with accuracy: 50.88%\n",
            "\n",
            "Epoch [63/100] - Learning Rate: 0.007581\n"
          ]
        },
        {
          "output_type": "stream",
          "name": "stderr",
          "text": [
            "Training: 100%|██████████| 49/49 [00:19<00:00,  2.54it/s, loss=2.06, acc=44.5]\n"
          ]
        },
        {
          "output_type": "stream",
          "name": "stdout",
          "text": [
            "Train Loss: 2.0617, Train Acc: 44.47%, Test Loss: 1.8634, Test Acc: 49.63%, Time: 19.32s\n",
            "\n",
            "Epoch [64/100] - Learning Rate: 0.007244\n"
          ]
        },
        {
          "output_type": "stream",
          "name": "stderr",
          "text": [
            "Training: 100%|██████████| 49/49 [00:18<00:00,  2.62it/s, loss=2.06, acc=44.4]\n"
          ]
        },
        {
          "output_type": "stream",
          "name": "stdout",
          "text": [
            "Train Loss: 2.0592, Train Acc: 44.44%, Test Loss: 1.8180, Test Acc: 50.87%, Time: 18.73s\n",
            "\n",
            "Epoch [65/100] - Learning Rate: 0.006910\n"
          ]
        },
        {
          "output_type": "stream",
          "name": "stderr",
          "text": [
            "Training: 100%|██████████| 49/49 [00:18<00:00,  2.67it/s, loss=2.06, acc=44.5]\n"
          ]
        },
        {
          "output_type": "stream",
          "name": "stdout",
          "text": [
            "Train Loss: 2.0561, Train Acc: 44.47%, Test Loss: 1.9152, Test Acc: 49.34%, Time: 18.37s\n",
            "\n",
            "Epoch [66/100] - Learning Rate: 0.006580\n"
          ]
        },
        {
          "output_type": "stream",
          "name": "stderr",
          "text": [
            "Training: 100%|██████████| 49/49 [00:19<00:00,  2.55it/s, loss=2.03, acc=44.9]\n"
          ]
        },
        {
          "output_type": "stream",
          "name": "stdout",
          "text": [
            "Train Loss: 2.0323, Train Acc: 44.91%, Test Loss: 1.8348, Test Acc: 50.79%, Time: 19.20s\n",
            "\n",
            "Epoch [67/100] - Learning Rate: 0.006254\n"
          ]
        },
        {
          "output_type": "stream",
          "name": "stderr",
          "text": [
            "Training: 100%|██████████| 49/49 [00:18<00:00,  2.68it/s, loss=2.03, acc=45.1]\n"
          ]
        },
        {
          "output_type": "stream",
          "name": "stdout",
          "text": [
            "Train Loss: 2.0306, Train Acc: 45.13%, Test Loss: 1.8867, Test Acc: 50.13%, Time: 18.27s\n",
            "\n",
            "Epoch [68/100] - Learning Rate: 0.005933\n"
          ]
        },
        {
          "output_type": "stream",
          "name": "stderr",
          "text": [
            "Training: 100%|██████████| 49/49 [00:18<00:00,  2.70it/s, loss=2.02, acc=45.2]\n"
          ]
        },
        {
          "output_type": "stream",
          "name": "stdout",
          "text": [
            "Train Loss: 2.0196, Train Acc: 45.19%, Test Loss: 1.9017, Test Acc: 50.09%, Time: 18.15s\n",
            "\n",
            "Epoch [69/100] - Learning Rate: 0.005616\n"
          ]
        },
        {
          "output_type": "stream",
          "name": "stderr",
          "text": [
            "Training: 100%|██████████| 49/49 [00:19<00:00,  2.58it/s, loss=2.02, acc=45.6]\n"
          ]
        },
        {
          "output_type": "stream",
          "name": "stdout",
          "text": [
            "Train Loss: 2.0153, Train Acc: 45.63%, Test Loss: 1.8246, Test Acc: 51.61%, Time: 19.02s\n",
            "New best model saved with accuracy: 51.61%\n",
            "\n",
            "Epoch [70/100] - Learning Rate: 0.005305\n"
          ]
        },
        {
          "output_type": "stream",
          "name": "stderr",
          "text": [
            "Training: 100%|██████████| 49/49 [00:18<00:00,  2.66it/s, loss=2, acc=45.4]\n"
          ]
        },
        {
          "output_type": "stream",
          "name": "stdout",
          "text": [
            "Train Loss: 2.0032, Train Acc: 45.44%, Test Loss: 1.8434, Test Acc: 50.55%, Time: 18.44s\n",
            "\n",
            "Epoch [71/100] - Learning Rate: 0.005000\n"
          ]
        },
        {
          "output_type": "stream",
          "name": "stderr",
          "text": [
            "Training: 100%|██████████| 49/49 [00:19<00:00,  2.50it/s, loss=2, acc=45.8]\n"
          ]
        },
        {
          "output_type": "stream",
          "name": "stdout",
          "text": [
            "Train Loss: 2.0022, Train Acc: 45.76%, Test Loss: 1.9518, Test Acc: 48.44%, Time: 19.58s\n",
            "\n",
            "Epoch [72/100] - Learning Rate: 0.004701\n"
          ]
        },
        {
          "output_type": "stream",
          "name": "stderr",
          "text": [
            "Training: 100%|██████████| 49/49 [00:19<00:00,  2.51it/s, loss=1.98, acc=46.5]\n"
          ]
        },
        {
          "output_type": "stream",
          "name": "stdout",
          "text": [
            "Train Loss: 1.9802, Train Acc: 46.54%, Test Loss: 1.7924, Test Acc: 52.17%, Time: 19.55s\n",
            "New best model saved with accuracy: 52.17%\n",
            "\n",
            "Epoch [73/100] - Learning Rate: 0.004408\n"
          ]
        },
        {
          "output_type": "stream",
          "name": "stderr",
          "text": [
            "Training: 100%|██████████| 49/49 [00:18<00:00,  2.63it/s, loss=1.98, acc=46.3]\n"
          ]
        },
        {
          "output_type": "stream",
          "name": "stdout",
          "text": [
            "Train Loss: 1.9771, Train Acc: 46.28%, Test Loss: 1.8542, Test Acc: 50.85%, Time: 18.63s\n",
            "\n",
            "Epoch [74/100] - Learning Rate: 0.004122\n"
          ]
        },
        {
          "output_type": "stream",
          "name": "stderr",
          "text": [
            "Training: 100%|██████████| 49/49 [00:19<00:00,  2.49it/s, loss=1.96, acc=46.7]\n"
          ]
        },
        {
          "output_type": "stream",
          "name": "stdout",
          "text": [
            "Train Loss: 1.9628, Train Acc: 46.66%, Test Loss: 1.7546, Test Acc: 52.74%, Time: 19.68s\n",
            "New best model saved with accuracy: 52.74%\n",
            "\n",
            "Epoch [75/100] - Learning Rate: 0.003843\n"
          ]
        },
        {
          "output_type": "stream",
          "name": "stderr",
          "text": [
            "Training: 100%|██████████| 49/49 [00:19<00:00,  2.52it/s, loss=1.95, acc=46.9]\n"
          ]
        },
        {
          "output_type": "stream",
          "name": "stdout",
          "text": [
            "Train Loss: 1.9507, Train Acc: 46.89%, Test Loss: 1.7479, Test Acc: 52.87%, Time: 19.47s\n",
            "New best model saved with accuracy: 52.87%\n",
            "\n",
            "Epoch [76/100] - Learning Rate: 0.003572\n"
          ]
        },
        {
          "output_type": "stream",
          "name": "stderr",
          "text": [
            "Training: 100%|██████████| 49/49 [00:18<00:00,  2.64it/s, loss=1.96, acc=47]\n"
          ]
        },
        {
          "output_type": "stream",
          "name": "stdout",
          "text": [
            "Train Loss: 1.9565, Train Acc: 46.97%, Test Loss: 1.7879, Test Acc: 52.57%, Time: 18.58s\n",
            "\n",
            "Epoch [77/100] - Learning Rate: 0.003309\n"
          ]
        },
        {
          "output_type": "stream",
          "name": "stderr",
          "text": [
            "Training: 100%|██████████| 49/49 [00:19<00:00,  2.47it/s, loss=1.95, acc=47.3]\n"
          ]
        },
        {
          "output_type": "stream",
          "name": "stdout",
          "text": [
            "Train Loss: 1.9462, Train Acc: 47.25%, Test Loss: 1.7583, Test Acc: 52.72%, Time: 19.87s\n",
            "\n",
            "Epoch [78/100] - Learning Rate: 0.003053\n"
          ]
        },
        {
          "output_type": "stream",
          "name": "stderr",
          "text": [
            "Training: 100%|██████████| 49/49 [00:19<00:00,  2.50it/s, loss=1.94, acc=47]\n"
          ]
        },
        {
          "output_type": "stream",
          "name": "stdout",
          "text": [
            "Train Loss: 1.9364, Train Acc: 47.01%, Test Loss: 1.7332, Test Acc: 53.09%, Time: 19.58s\n",
            "New best model saved with accuracy: 53.09%\n",
            "\n",
            "Epoch [79/100] - Learning Rate: 0.002807\n"
          ]
        },
        {
          "output_type": "stream",
          "name": "stderr",
          "text": [
            "Training: 100%|██████████| 49/49 [00:18<00:00,  2.64it/s, loss=1.93, acc=47.5]\n"
          ]
        },
        {
          "output_type": "stream",
          "name": "stdout",
          "text": [
            "Train Loss: 1.9274, Train Acc: 47.47%, Test Loss: 1.8398, Test Acc: 51.36%, Time: 18.58s\n",
            "\n",
            "Epoch [80/100] - Learning Rate: 0.002569\n"
          ]
        },
        {
          "output_type": "stream",
          "name": "stderr",
          "text": [
            "Training: 100%|██████████| 49/49 [00:19<00:00,  2.47it/s, loss=1.92, acc=47.5]\n"
          ]
        },
        {
          "output_type": "stream",
          "name": "stdout",
          "text": [
            "Train Loss: 1.9222, Train Acc: 47.47%, Test Loss: 1.7476, Test Acc: 52.75%, Time: 19.86s\n",
            "\n",
            "Epoch [81/100] - Learning Rate: 0.002340\n"
          ]
        },
        {
          "output_type": "stream",
          "name": "stderr",
          "text": [
            "Training: 100%|██████████| 49/49 [00:19<00:00,  2.55it/s, loss=1.92, acc=47.5]\n"
          ]
        },
        {
          "output_type": "stream",
          "name": "stdout",
          "text": [
            "Train Loss: 1.9246, Train Acc: 47.46%, Test Loss: 1.7690, Test Acc: 52.09%, Time: 19.20s\n",
            "\n",
            "Epoch [82/100] - Learning Rate: 0.002120\n"
          ]
        },
        {
          "output_type": "stream",
          "name": "stderr",
          "text": [
            "Training: 100%|██████████| 49/49 [00:18<00:00,  2.67it/s, loss=1.92, acc=47.7]\n"
          ]
        },
        {
          "output_type": "stream",
          "name": "stdout",
          "text": [
            "Train Loss: 1.9182, Train Acc: 47.70%, Test Loss: 1.7588, Test Acc: 53.15%, Time: 18.34s\n",
            "New best model saved with accuracy: 53.15%\n",
            "\n",
            "Epoch [83/100] - Learning Rate: 0.001910\n"
          ]
        },
        {
          "output_type": "stream",
          "name": "stderr",
          "text": [
            "Training: 100%|██████████| 49/49 [00:19<00:00,  2.50it/s, loss=1.91, acc=47.8]\n"
          ]
        },
        {
          "output_type": "stream",
          "name": "stdout",
          "text": [
            "Train Loss: 1.9117, Train Acc: 47.84%, Test Loss: 1.7384, Test Acc: 53.31%, Time: 19.59s\n",
            "New best model saved with accuracy: 53.31%\n",
            "\n",
            "Epoch [84/100] - Learning Rate: 0.001710\n"
          ]
        },
        {
          "output_type": "stream",
          "name": "stderr",
          "text": [
            "Training: 100%|██████████| 49/49 [00:18<00:00,  2.58it/s, loss=1.9, acc=48]\n"
          ]
        },
        {
          "output_type": "stream",
          "name": "stdout",
          "text": [
            "Train Loss: 1.9029, Train Acc: 48.04%, Test Loss: 1.7229, Test Acc: 53.51%, Time: 18.99s\n",
            "New best model saved with accuracy: 53.51%\n",
            "\n",
            "Epoch [85/100] - Learning Rate: 0.001520\n"
          ]
        },
        {
          "output_type": "stream",
          "name": "stderr",
          "text": [
            "Training: 100%|██████████| 49/49 [00:18<00:00,  2.61it/s, loss=1.9, acc=48]\n"
          ]
        },
        {
          "output_type": "stream",
          "name": "stdout",
          "text": [
            "Train Loss: 1.9005, Train Acc: 47.96%, Test Loss: 1.7205, Test Acc: 53.64%, Time: 18.80s\n",
            "New best model saved with accuracy: 53.64%\n",
            "\n",
            "Epoch [86/100] - Learning Rate: 0.001340\n"
          ]
        },
        {
          "output_type": "stream",
          "name": "stderr",
          "text": [
            "Training: 100%|██████████| 49/49 [00:19<00:00,  2.48it/s, loss=1.89, acc=48.1]\n"
          ]
        },
        {
          "output_type": "stream",
          "name": "stdout",
          "text": [
            "Train Loss: 1.8946, Train Acc: 48.14%, Test Loss: 1.7172, Test Acc: 53.88%, Time: 19.73s\n",
            "New best model saved with accuracy: 53.88%\n",
            "\n",
            "Epoch [87/100] - Learning Rate: 0.001171\n"
          ]
        },
        {
          "output_type": "stream",
          "name": "stderr",
          "text": [
            "Training: 100%|██████████| 49/49 [00:18<00:00,  2.64it/s, loss=1.9, acc=48]\n"
          ]
        },
        {
          "output_type": "stream",
          "name": "stdout",
          "text": [
            "Train Loss: 1.8954, Train Acc: 47.98%, Test Loss: 1.7189, Test Acc: 53.67%, Time: 18.60s\n",
            "\n",
            "Epoch [88/100] - Learning Rate: 0.001012\n"
          ]
        },
        {
          "output_type": "stream",
          "name": "stderr",
          "text": [
            "Training: 100%|██████████| 49/49 [00:18<00:00,  2.64it/s, loss=1.9, acc=48]\n"
          ]
        },
        {
          "output_type": "stream",
          "name": "stdout",
          "text": [
            "Train Loss: 1.9026, Train Acc: 48.01%, Test Loss: 1.7168, Test Acc: 53.75%, Time: 18.60s\n",
            "\n",
            "Epoch [89/100] - Learning Rate: 0.000865\n"
          ]
        },
        {
          "output_type": "stream",
          "name": "stderr",
          "text": [
            "Training: 100%|██████████| 49/49 [00:19<00:00,  2.48it/s, loss=1.89, acc=48.2]\n"
          ]
        },
        {
          "output_type": "stream",
          "name": "stdout",
          "text": [
            "Train Loss: 1.8928, Train Acc: 48.20%, Test Loss: 1.7233, Test Acc: 53.92%, Time: 19.75s\n",
            "New best model saved with accuracy: 53.92%\n",
            "\n",
            "Epoch [90/100] - Learning Rate: 0.000728\n"
          ]
        },
        {
          "output_type": "stream",
          "name": "stderr",
          "text": [
            "Training: 100%|██████████| 49/49 [00:18<00:00,  2.61it/s, loss=1.88, acc=48.4]\n"
          ]
        },
        {
          "output_type": "stream",
          "name": "stdout",
          "text": [
            "Train Loss: 1.8819, Train Acc: 48.39%, Test Loss: 1.7139, Test Acc: 54.01%, Time: 18.78s\n",
            "New best model saved with accuracy: 54.01%\n",
            "\n",
            "Epoch [91/100] - Learning Rate: 0.000603\n"
          ]
        },
        {
          "output_type": "stream",
          "name": "stderr",
          "text": [
            "Training: 100%|██████████| 49/49 [00:18<00:00,  2.63it/s, loss=1.88, acc=48.5]\n"
          ]
        },
        {
          "output_type": "stream",
          "name": "stdout",
          "text": [
            "Train Loss: 1.8798, Train Acc: 48.49%, Test Loss: 1.7115, Test Acc: 53.87%, Time: 18.60s\n",
            "\n",
            "Epoch [92/100] - Learning Rate: 0.000489\n"
          ]
        },
        {
          "output_type": "stream",
          "name": "stderr",
          "text": [
            "Training: 100%|██████████| 49/49 [00:19<00:00,  2.53it/s, loss=1.89, acc=48.4]\n"
          ]
        },
        {
          "output_type": "stream",
          "name": "stdout",
          "text": [
            "Train Loss: 1.8862, Train Acc: 48.38%, Test Loss: 1.7119, Test Acc: 53.99%, Time: 19.39s\n",
            "\n",
            "Epoch [93/100] - Learning Rate: 0.000387\n"
          ]
        },
        {
          "output_type": "stream",
          "name": "stderr",
          "text": [
            "Training: 100%|██████████| 49/49 [00:18<00:00,  2.67it/s, loss=1.87, acc=48.5]\n"
          ]
        },
        {
          "output_type": "stream",
          "name": "stdout",
          "text": [
            "Train Loss: 1.8725, Train Acc: 48.54%, Test Loss: 1.7130, Test Acc: 54.19%, Time: 18.35s\n",
            "New best model saved with accuracy: 54.19%\n",
            "\n",
            "Epoch [94/100] - Learning Rate: 0.000297\n"
          ]
        },
        {
          "output_type": "stream",
          "name": "stderr",
          "text": [
            "Training: 100%|██████████| 49/49 [00:18<00:00,  2.66it/s, loss=1.88, acc=48.6]\n"
          ]
        },
        {
          "output_type": "stream",
          "name": "stdout",
          "text": [
            "Train Loss: 1.8780, Train Acc: 48.64%, Test Loss: 1.7115, Test Acc: 54.28%, Time: 18.42s\n",
            "New best model saved with accuracy: 54.28%\n",
            "\n",
            "Epoch [95/100] - Learning Rate: 0.000219\n"
          ]
        },
        {
          "output_type": "stream",
          "name": "stderr",
          "text": [
            "Training: 100%|██████████| 49/49 [00:19<00:00,  2.50it/s, loss=1.87, acc=48.7]\n"
          ]
        },
        {
          "output_type": "stream",
          "name": "stdout",
          "text": [
            "Train Loss: 1.8728, Train Acc: 48.72%, Test Loss: 1.7093, Test Acc: 54.04%, Time: 19.60s\n",
            "\n",
            "Epoch [96/100] - Learning Rate: 0.000152\n"
          ]
        },
        {
          "output_type": "stream",
          "name": "stderr",
          "text": [
            "Training: 100%|██████████| 49/49 [00:18<00:00,  2.64it/s, loss=1.88, acc=48.4]\n"
          ]
        },
        {
          "output_type": "stream",
          "name": "stdout",
          "text": [
            "Train Loss: 1.8756, Train Acc: 48.37%, Test Loss: 1.7085, Test Acc: 54.25%, Time: 18.55s\n",
            "\n",
            "Epoch [97/100] - Learning Rate: 0.000097\n"
          ]
        },
        {
          "output_type": "stream",
          "name": "stderr",
          "text": [
            "Training: 100%|██████████| 49/49 [00:18<00:00,  2.61it/s, loss=1.87, acc=48.7]\n"
          ]
        },
        {
          "output_type": "stream",
          "name": "stdout",
          "text": [
            "Train Loss: 1.8727, Train Acc: 48.66%, Test Loss: 1.7080, Test Acc: 54.05%, Time: 18.77s\n",
            "\n",
            "Epoch [98/100] - Learning Rate: 0.000055\n"
          ]
        },
        {
          "output_type": "stream",
          "name": "stderr",
          "text": [
            "Training: 100%|██████████| 49/49 [00:19<00:00,  2.51it/s, loss=1.87, acc=48.6]\n"
          ]
        },
        {
          "output_type": "stream",
          "name": "stdout",
          "text": [
            "Train Loss: 1.8702, Train Acc: 48.55%, Test Loss: 1.7088, Test Acc: 54.05%, Time: 19.56s\n",
            "\n",
            "Epoch [99/100] - Learning Rate: 0.000024\n"
          ]
        },
        {
          "output_type": "stream",
          "name": "stderr",
          "text": [
            "Training: 100%|██████████| 49/49 [00:18<00:00,  2.65it/s, loss=1.87, acc=48.4]\n"
          ]
        },
        {
          "output_type": "stream",
          "name": "stdout",
          "text": [
            "Train Loss: 1.8745, Train Acc: 48.43%, Test Loss: 1.7084, Test Acc: 54.12%, Time: 18.46s\n",
            "\n",
            "Epoch [100/100] - Learning Rate: 0.000006\n"
          ]
        },
        {
          "output_type": "stream",
          "name": "stderr",
          "text": [
            "Training: 100%|██████████| 49/49 [00:18<00:00,  2.66it/s, loss=1.87, acc=48.9]\n"
          ]
        },
        {
          "output_type": "stream",
          "name": "stdout",
          "text": [
            "Train Loss: 1.8740, Train Acc: 48.94%, Test Loss: 1.7079, Test Acc: 54.03%, Time: 18.45s\n",
            "Best model loaded with accuracy: 54.28%\n"
          ]
        },
        {
          "output_type": "display_data",
          "data": {
            "text/plain": [
              "<Figure size 1800x500 with 3 Axes>"
            ],
            "image/png": "[encoded data removed]"
          },
          "metadata": {}
        },
        {
          "output_type": "stream",
          "name": "stdout",
          "text": [
            "LAMB benchmark completed!\n"
          ]
        }
      ],
      "source": [
        "import torch\n",
        "import torch.nn as nn\n",
        "import torchvision.transforms as transforms\n",
        "import torch.nn.functional as F\n",
        "from torchvision.datasets import CIFAR10, CIFAR100\n",
        "import torchvision.models as models\n",
        "from torch.utils.data import DataLoader\n",
        "\n",
        "from tqdm import tqdm\n",
        "import matplotlib.pyplot as plt\n",
        "import time\n",
        "import pickle\n",
        "import numpy as np\n",
        "import random\n",
        "\n",
        "# ─── Import LAMB from torch-optimizer ───────────────────────────────────────\n",
        "from torch_optimizer import Lamb\n",
        "# ───────────────────────────────────────────────────────────────────────────────\n",
        "\n",
        "import math\n",
        "\n",
        "print(\"PyTorch version:\", torch.__version__)\n",
        "device = torch.device(\"cuda:0\" if torch.cuda.is_available() else \"cpu\")\n",
        "print(f\"Using device: {device}\")\n",
        "\n",
        "# Seeding for reproducibility\n",
        "seed = 2025\n",
        "torch.manual_seed(seed)\n",
        "torch.cuda.manual_seed(seed)\n",
        "np.random.seed(seed)\n",
        "random.seed(seed)\n",
        "\n",
        "# transforms\n",
        "train_transform = transforms.Compose(\n",
        "    [\n",
        "        transforms.RandomCrop(32, padding=4),\n",
        "        transforms.RandomHorizontalFlip(),\n",
        "        transforms.ToTensor(),\n",
        "        transforms.Normalize((0.4914, 0.4822, 0.4465),\n",
        "                             (0.2023, 0.1994, 0.2010)),\n",
        "    ]\n",
        ")\n",
        "\n",
        "test_transform = transforms.Compose(\n",
        "    [\n",
        "        transforms.ToTensor(),\n",
        "        transforms.Normalize((0.4914, 0.4822, 0.4465),\n",
        "                             (0.2023, 0.1994, 0.2010)),\n",
        "    ]\n",
        ")\n",
        "\n",
        "\n",
        "# load data\n",
        "def load_data(dataset_name=\"cifar100\", batch_size=128, num_workers=2):\n",
        "    \"\"\"Enhanced data loading with stronger augmentation for CIFAR-100\"\"\"\n",
        "\n",
        "    train_transform = transforms.Compose(\n",
        "        [\n",
        "            transforms.RandomCrop(32, padding=4),\n",
        "            transforms.RandomHorizontalFlip(),\n",
        "            transforms.ToTensor(),\n",
        "            transforms.Normalize((0.4914, 0.4822, 0.4465),\n",
        "                                 (0.2023, 0.1994, 0.2010)),\n",
        "        ]\n",
        "    )\n",
        "    test_transform = transforms.Compose(\n",
        "        [\n",
        "            transforms.ToTensor(),\n",
        "            transforms.Normalize((0.4914, 0.4822, 0.4465),\n",
        "                                 (0.2023, 0.1994, 0.2010)),\n",
        "        ]\n",
        "    )\n",
        "\n",
        "    if dataset_name.lower() == \"cifar100\":\n",
        "        train_dataset = CIFAR100(\n",
        "            root=\"./data\", train=True, download=True, transform=train_transform\n",
        "        )\n",
        "        test_dataset = CIFAR100(\n",
        "            root=\"./data\", train=False, download=True, transform=test_transform\n",
        "        )\n",
        "        num_classes = 100\n",
        "    else:\n",
        "        raise ValueError(f\"Dataset {dataset_name} not supported in enhanced version\")\n",
        "\n",
        "    train_loader = DataLoader(\n",
        "        train_dataset,\n",
        "        batch_size=batch_size,\n",
        "        shuffle=True,\n",
        "        num_workers=num_workers,\n",
        "    )\n",
        "    test_loader = DataLoader(\n",
        "        test_dataset,\n",
        "        batch_size=batch_size,\n",
        "        shuffle=False,\n",
        "        num_workers=num_workers,\n",
        "    )\n",
        "    return train_loader, test_loader, num_classes\n",
        "\n",
        "\n",
        "# model - LeNet5 from the paper [11]\n",
        "class LeNet5(nn.Module):\n",
        "    def __init__(self, num_classes=10):\n",
        "        super(LeNet5, self).__init__()\n",
        "        # Input: 3x32x32 (CIFAR has 3 color channels)\n",
        "        self.conv1 = nn.Conv2d(3, 6, kernel_size=5)  # Output: 6x28x28\n",
        "        self.pool1 = nn.MaxPool2d(kernel_size=2, stride=2)  # Output: 6x14x14\n",
        "        self.conv2 = nn.Conv2d(6, 16, kernel_size=5)  # Output: 16x10x10\n",
        "        self.pool2 = nn.MaxPool2d(kernel_size=2, stride=2)  # Output: 16x5x5\n",
        "\n",
        "        # fc layers\n",
        "        self.fc1 = nn.Linear(16 * 5 * 5, 120)\n",
        "        self.fc2 = nn.Linear(120, 84)\n",
        "        self.fc3 = nn.Linear(84, num_classes)\n",
        "\n",
        "    def forward(self, x):\n",
        "        x = self.pool1(F.relu(self.conv1(x)))\n",
        "        x = self.pool2(F.relu(self.conv2(x)))\n",
        "        x = x.view(-1, 16 * 5 * 5)  # flatten\n",
        "        x = F.relu(self.fc1(x))\n",
        "        x = F.relu(self.fc2(x))\n",
        "        x = self.fc3(x)\n",
        "        return x\n",
        "\n",
        "\n",
        "class ImprovedCNN(nn.Module):\n",
        "    def __init__(self, num_classes=100):\n",
        "        super(ImprovedCNN, self).__init__()\n",
        "        # First conv block\n",
        "        self.conv1 = nn.Conv2d(3, 64, kernel_size=5, padding=2)\n",
        "        self.bn1 = nn.BatchNorm2d(64)  # using BatchNorm for better training stability\n",
        "        self.pool1 = nn.MaxPool2d(kernel_size=2, stride=2)\n",
        "\n",
        "        # Second conv block\n",
        "        self.conv2 = nn.Conv2d(64, 64, kernel_size=5, padding=2)\n",
        "        self.bn2 = nn.BatchNorm2d(64)\n",
        "        self.pool2 = nn.MaxPool2d(kernel_size=2, stride=2)\n",
        "\n",
        "        # Fully connected layers\n",
        "        self.fc1 = nn.Linear(64 * 8 * 8, 384)\n",
        "        self.dropout1 = nn.Dropout(0.5)\n",
        "        self.fc2 = nn.Linear(384, 192)\n",
        "        self.dropout2 = nn.Dropout(0.5)\n",
        "        self.fc3 = nn.Linear(192, num_classes)\n",
        "\n",
        "    def forward(self, x):\n",
        "        # First conv block\n",
        "        x = self.pool1(F.relu(self.bn1(self.conv1(x))))\n",
        "        # Second conv block\n",
        "        x = self.pool2(F.relu(self.bn2(self.conv2(x))))\n",
        "        # Flatten and FC\n",
        "        x = x.view(-1, 64 * 8 * 8)\n",
        "        x = F.relu(self.fc1(x))\n",
        "        x = self.dropout1(x)\n",
        "        x = F.relu(self.fc2(x))\n",
        "        x = self.dropout2(x)\n",
        "        x = self.fc3(x)\n",
        "        return x\n",
        "\n",
        "\n",
        "def create_model(model_name, num_classes=100):\n",
        "    if model_name.lower() == \"improved_cnn\":\n",
        "        return ImprovedCNN(num_classes=num_classes)\n",
        "    elif model_name.lower() == \"lenet5\":\n",
        "        return LeNet5(num_classes=num_classes)\n",
        "    else:\n",
        "        raise ValueError(f\"Unknown model: {model_name}\")\n",
        "\n",
        "\n",
        "# train\n",
        "def train_epoch(model, train_loader, criterion, optimizer, device):\n",
        "    model.train()\n",
        "    running_loss = 0.0\n",
        "    correct = 0\n",
        "    total = 0\n",
        "\n",
        "    pbar = tqdm(train_loader, desc=\"Training\")\n",
        "    for inputs, labels in pbar:\n",
        "        inputs, labels = inputs.to(device), labels.to(device)\n",
        "\n",
        "        optimizer.zero_grad()\n",
        "        outputs = model(inputs)\n",
        "        loss = criterion(outputs, labels)\n",
        "        loss.backward()\n",
        "        optimizer.step()\n",
        "\n",
        "        running_loss += loss.item() * inputs.size(0)\n",
        "        _, predicted = outputs.max(1)\n",
        "        total += labels.size(0)\n",
        "        correct += predicted.eq(labels).sum().item()\n",
        "        pbar.set_postfix({\"loss\": running_loss / total,\n",
        "                          \"acc\": 100.0 * correct / total})\n",
        "\n",
        "    train_loss = running_loss / total\n",
        "    train_acc = 100.0 * correct / total\n",
        "    return train_loss, train_acc\n",
        "\n",
        "\n",
        "# eval\n",
        "def evaluate(model, test_loader, criterion, device):\n",
        "    model.eval()\n",
        "    running_loss = 0.0\n",
        "    correct = 0\n",
        "    total = 0\n",
        "\n",
        "    with torch.no_grad():\n",
        "        for inputs, labels in test_loader:\n",
        "            inputs, labels = inputs.to(device), labels.to(device)\n",
        "            outputs = model(inputs)\n",
        "            loss = criterion(outputs, labels)\n",
        "\n",
        "            running_loss += loss.item() * inputs.size(0)\n",
        "            _, predicted = outputs.max(1)\n",
        "            total += labels.size(0)\n",
        "            correct += predicted.eq(labels).sum().item()\n",
        "\n",
        "    test_loss = running_loss / total\n",
        "    test_acc = 100.0 * correct / total\n",
        "    return test_loss, test_acc\n",
        "\n",
        "\n",
        "# train config\n",
        "def train_centralized_model(\n",
        "    model_name=\"improved_cnn\",\n",
        "    dataset_name=\"cifar100\",\n",
        "    batch_size=1024,\n",
        "    epochs=100,\n",
        "    lr=0.01,\n",
        "    momentum=0.9,\n",
        "    weight_decay=4e-4,\n",
        "    lr_scheduler=\"lamb\",\n",
        "    save_path=\"improved_cnn_model.pth\",\n",
        "):\n",
        "    # Load data\n",
        "    train_loader, test_loader, num_classes = load_data(\n",
        "        dataset_name=dataset_name, batch_size=batch_size\n",
        "    )\n",
        "\n",
        "    # Create model\n",
        "    model = create_model(model_name, num_classes=num_classes).to(device)\n",
        "\n",
        "    # Print total parameters\n",
        "    total_params = sum(p.numel() for p in model.parameters())\n",
        "    print(f\"Total parameters: {total_params:,}\")\n",
        "\n",
        "    # Loss\n",
        "    criterion = nn.CrossEntropyLoss()\n",
        "\n",
        "    # Linear‐scaling rule for LR\n",
        "    scaled_lr = lr * (batch_size / 512)\n",
        "\n",
        "    # Separate parameters into decay vs. no‐decay groups\n",
        "    decay_params = []\n",
        "    no_decay_params = []\n",
        "    for name, param in model.named_parameters():\n",
        "        if not param.requires_grad:\n",
        "            continue\n",
        "        if param.ndim == 1:\n",
        "            no_decay_params.append(param)\n",
        "        else:\n",
        "            decay_params.append(param)\n",
        "\n",
        "    # ─── Instantiate LAMB ─────────────────────────────────────────────────────────\n",
        "    #\n",
        "    # We set global weight_decay=0.0 because we're handling it per‐group.\n",
        "    #\n",
        "    optimizer = Lamb(\n",
        "        [\n",
        "            {\"params\": decay_params,    \"weight_decay\": weight_decay},\n",
        "            {\"params\": no_decay_params, \"weight_decay\": 0.0}\n",
        "        ],\n",
        "        lr=scaled_lr,\n",
        "        betas=(0.9, 0.999),\n",
        "        eps=1e-6,\n",
        "        weight_decay=0.0  # global default; per-group overrides actual decay\n",
        "    )\n",
        "    # ────────────────────────────────────────────────────────────────────────────────\n",
        "\n",
        "    # Learning‐rate scheduler: warmup + cosine, same as LARS code\n",
        "    if lr_scheduler == \"lamb\":\n",
        "        warmup_epochs = 10\n",
        "\n",
        "        def lr_lambda(epoch):\n",
        "            if epoch < warmup_epochs:\n",
        "                return float(epoch + 1) / float(warmup_epochs)\n",
        "            return 0.5 * (\n",
        "                1.0\n",
        "                + math.cos(\n",
        "                    math.pi * (epoch - warmup_epochs) / (epochs - warmup_epochs)\n",
        "                )\n",
        "            )\n",
        "\n",
        "        scheduler = torch.optim.lr_scheduler.LambdaLR(optimizer, lr_lambda)\n",
        "\n",
        "    elif lr_scheduler == \"step\":\n",
        "        scheduler = torch.optim.lr_scheduler.MultiStepLR(\n",
        "            optimizer,\n",
        "            milestones=[int(epochs * 0.5), int(epochs * 0.75)],\n",
        "            gamma=0.1\n",
        "        )\n",
        "    else:\n",
        "        raise ValueError(f\"Unknown scheduler: {lr_scheduler}\")\n",
        "\n",
        "    # Training history\n",
        "    history = {\n",
        "        \"train_loss\": [],\n",
        "        \"train_acc\": [],\n",
        "        \"test_loss\": [],\n",
        "        \"test_acc\": [],\n",
        "        \"lr\": [],\n",
        "    }\n",
        "\n",
        "    best_acc = 0.0\n",
        "\n",
        "    # Training loop\n",
        "    for epoch in range(epochs):\n",
        "        current_lr = optimizer.param_groups[0][\"lr\"]\n",
        "        print(f\"\\nEpoch [{epoch + 1}/{epochs}] - Learning Rate: {current_lr:.6f}\")\n",
        "\n",
        "        # Train for one epoch\n",
        "        start_time = time.time()\n",
        "        train_loss, train_acc = train_epoch(\n",
        "            model, train_loader, criterion, optimizer, device\n",
        "        )\n",
        "        train_time = time.time() - start_time\n",
        "\n",
        "        # Evaluate\n",
        "        test_loss, test_acc = evaluate(model, test_loader, criterion, device)\n",
        "        scheduler.step()\n",
        "\n",
        "        print(\n",
        "            f\"Train Loss: {train_loss:.4f}, Train Acc: {train_acc:.2f}%, \"\n",
        "            f\"Test Loss: {test_loss:.4f}, Test Acc: {test_acc:.2f}%, \"\n",
        "            f\"Time: {train_time:.2f}s\"\n",
        "        )\n",
        "\n",
        "        if test_acc > best_acc:\n",
        "            best_acc = test_acc\n",
        "            torch.save(\n",
        "                {\n",
        "                    \"epoch\": epoch,\n",
        "                    \"model_state_dict\": model.state_dict(),\n",
        "                    \"optimizer_state_dict\": optimizer.state_dict(),\n",
        "                    \"test_acc\": test_acc,\n",
        "                },\n",
        "                save_path,\n",
        "            )\n",
        "            print(f\"New best model saved with accuracy: {test_acc:.2f}%\")\n",
        "\n",
        "        history[\"train_loss\"].append(train_loss)\n",
        "        history[\"train_acc\"].append(train_acc)\n",
        "        history[\"test_loss\"].append(test_loss)\n",
        "        history[\"test_acc\"].append(test_acc)\n",
        "        history[\"lr\"].append(current_lr)\n",
        "\n",
        "    # Load best model\n",
        "    checkpoint = torch.load(save_path)\n",
        "    model.load_state_dict(checkpoint[\"model_state_dict\"])\n",
        "    print(f\"Best model loaded with accuracy: {checkpoint['test_acc']:.2f}%\")\n",
        "\n",
        "    return model, history\n",
        "\n",
        "\n",
        "# visualization of model performance\n",
        "def plot_training_history(history):\n",
        "    fig, (ax1, ax2, ax3) = plt.subplots(1, 3, figsize=(18, 5))\n",
        "\n",
        "    ax1.plot(history[\"train_loss\"], label=\"Train Loss\")\n",
        "    ax1.plot(history[\"test_loss\"], label=\"Test Loss\")\n",
        "    ax1.set_xlabel(\"Epoch\")\n",
        "    ax1.set_ylabel(\"Loss\")\n",
        "    ax1.legend()\n",
        "    ax1.set_title(\"Loss Curves\")\n",
        "    ax1.grid(True)\n",
        "\n",
        "    ax2.plot(history[\"train_acc\"], label=\"Train Accuracy\")\n",
        "    ax2.plot(history[\"test_acc\"], label=\"Test Accuracy\")\n",
        "    ax2.set_xlabel(\"Epoch\")\n",
        "    ax2.set_ylabel(\"Accuracy (%)\")\n",
        "    ax2.legend()\n",
        "    ax2.set_title(\"Accuracy Curves\")\n",
        "    ax2.grid(True)\n",
        "\n",
        "    ax3.plot(history[\"lr\"])\n",
        "    ax3.set_xlabel(\"Epoch\")\n",
        "    ax3.set_ylabel(\"Learning Rate\")\n",
        "    ax3.set_title(\"Learning Rate Schedule\")\n",
        "    ax3.set_yscale(\"log\")\n",
        "    ax3.grid(True)\n",
        "\n",
        "    plt.tight_layout()\n",
        "    plt.show()\n",
        "\n",
        "\n",
        "# run benchmark\n",
        "def run_centralized_benchmark():\n",
        "    config = {\n",
        "        \"model_name\": \"improved_cnn\",\n",
        "        \"dataset_name\": \"cifar100\",\n",
        "        \"batch_size\": 1024,\n",
        "        \"epochs\": 100,\n",
        "        \"lr\": 0.01,\n",
        "        \"momentum\": 0.9,\n",
        "        \"weight_decay\": 4e-4,\n",
        "        \"lr_scheduler\": \"lamb\",\n",
        "        \"save_path\": \"improved_cnn_model_lamb.pth\",\n",
        "    }\n",
        "\n",
        "    print(\n",
        "        f\"Running LAMB benchmark with {config['model_name']} on {config['dataset_name']}...\"\n",
        "    )\n",
        "\n",
        "    model, history = train_centralized_model(**config)\n",
        "    plot_training_history(history)\n",
        "\n",
        "    with open(\"history_lamb.pkl\", \"wb\") as f:\n",
        "        pickle.dump(history, f)\n",
        "\n",
        "    print(\"LAMB benchmark completed!\")\n",
        "    return model, history\n",
        "\n",
        "\n",
        "def main():\n",
        "    model, history = run_centralized_benchmark()\n",
        "    return model, history\n",
        "\n",
        "\n",
        "if __name__ == \"__main__\":\n",
        "    main()\n"
      ]
    }
  ]
}