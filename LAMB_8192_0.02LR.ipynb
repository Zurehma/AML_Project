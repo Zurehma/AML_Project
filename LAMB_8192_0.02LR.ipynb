{
  "nbformat": 4,
  "nbformat_minor": 0,
  "metadata": {
    "colab": {
      "provenance": [],
      "gpuType": "T4",
      "authorship_tag": "ABX9TyPtbEFKytBTk0S60aW5fbEu",
      "include_colab_link": true
    },
    "kernelspec": {
      "name": "python3",
      "display_name": "Python 3"
    },
    "language_info": {
      "name": "python"
    },
    "accelerator": "GPU"
  },
  "cells": [
    {
      "cell_type": "markdown",
      "metadata": {
        "id": "view-in-github",
        "colab_type": "text"
      },
      "source": [
        "<a href=\"https://colab.research.google.com/github/Zurehma/AML_Project/blob/zurehma/LAMB_8192_0.02LR.ipynb\" target=\"_parent\"><img src=\"https://colab.research.google.com/assets/colab-badge.svg\" alt=\"Open In Colab\"/></a>"
      ]
    },
    {
      "cell_type": "code",
      "execution_count": null,
      "metadata": {
        "id": "TVNT8mgH0h-t"
      },
      "outputs": [],
      "source": [
        "!pip install torch-optimizer"
      ]
    },
    {
      "cell_type": "code",
      "source": [
        "import torch\n",
        "import torch.nn as nn\n",
        "import torchvision.transforms as transforms\n",
        "import torch.nn.functional as F\n",
        "from torchvision.datasets import CIFAR10, CIFAR100\n",
        "import torchvision.models as models\n",
        "from torch.utils.data import DataLoader\n",
        "\n",
        "from tqdm import tqdm\n",
        "import matplotlib.pyplot as plt\n",
        "import time\n",
        "import pickle\n",
        "import numpy as np\n",
        "import random\n",
        "\n",
        "# ─── Import LAMB from torch-optimizer ───────────────────────────────────────\n",
        "from torch_optimizer import Lamb\n",
        "# ───────────────────────────────────────────────────────────────────────────────\n",
        "\n",
        "import math\n",
        "\n",
        "print(\"PyTorch version:\", torch.__version__)\n",
        "device = torch.device(\"cuda:0\" if torch.cuda.is_available() else \"cpu\")\n",
        "print(f\"Using device: {device}\")\n",
        "\n",
        "# Seeding for reproducibility\n",
        "seed = 2025\n",
        "torch.manual_seed(seed)\n",
        "torch.cuda.manual_seed(seed)\n",
        "np.random.seed(seed)\n",
        "random.seed(seed)\n",
        "\n",
        "# transforms\n",
        "train_transform = transforms.Compose(\n",
        "    [\n",
        "        transforms.RandomCrop(32, padding=4),\n",
        "        transforms.RandomHorizontalFlip(),\n",
        "        transforms.ToTensor(),\n",
        "        transforms.Normalize((0.4914, 0.4822, 0.4465),\n",
        "                             (0.2023, 0.1994, 0.2010)),\n",
        "    ]\n",
        ")\n",
        "\n",
        "test_transform = transforms.Compose(\n",
        "    [\n",
        "        transforms.ToTensor(),\n",
        "        transforms.Normalize((0.4914, 0.4822, 0.4465),\n",
        "                             (0.2023, 0.1994, 0.2010)),\n",
        "    ]\n",
        ")\n",
        "\n",
        "\n",
        "# load data\n",
        "def load_data(dataset_name=\"cifar100\", batch_size=128, num_workers=2):\n",
        "    \"\"\"Enhanced data loading with stronger augmentation for CIFAR-100\"\"\"\n",
        "\n",
        "    train_transform = transforms.Compose(\n",
        "        [\n",
        "            transforms.RandomCrop(32, padding=4),\n",
        "            transforms.RandomHorizontalFlip(),\n",
        "            transforms.ToTensor(),\n",
        "            transforms.Normalize((0.4914, 0.4822, 0.4465),\n",
        "                                 (0.2023, 0.1994, 0.2010)),\n",
        "        ]\n",
        "    )\n",
        "    test_transform = transforms.Compose(\n",
        "        [\n",
        "            transforms.ToTensor(),\n",
        "            transforms.Normalize((0.4914, 0.4822, 0.4465),\n",
        "                                 (0.2023, 0.1994, 0.2010)),\n",
        "        ]\n",
        "    )\n",
        "\n",
        "    if dataset_name.lower() == \"cifar100\":\n",
        "        train_dataset = CIFAR100(\n",
        "            root=\"./data\", train=True, download=True, transform=train_transform\n",
        "        )\n",
        "        test_dataset = CIFAR100(\n",
        "            root=\"./data\", train=False, download=True, transform=test_transform\n",
        "        )\n",
        "        num_classes = 100\n",
        "    else:\n",
        "        raise ValueError(f\"Dataset {dataset_name} not supported in enhanced version\")\n",
        "\n",
        "    train_loader = DataLoader(\n",
        "        train_dataset,\n",
        "        batch_size=batch_size,\n",
        "        shuffle=True,\n",
        "        num_workers=num_workers,\n",
        "    )\n",
        "    test_loader = DataLoader(\n",
        "        test_dataset,\n",
        "        batch_size=batch_size,\n",
        "        shuffle=False,\n",
        "        num_workers=num_workers,\n",
        "    )\n",
        "    return train_loader, test_loader, num_classes\n",
        "\n",
        "\n",
        "# model - LeNet5 from the paper [11]\n",
        "class LeNet5(nn.Module):\n",
        "    def __init__(self, num_classes=10):\n",
        "        super(LeNet5, self).__init__()\n",
        "        # Input: 3x32x32 (CIFAR has 3 color channels)\n",
        "        self.conv1 = nn.Conv2d(3, 6, kernel_size=5)  # Output: 6x28x28\n",
        "        self.pool1 = nn.MaxPool2d(kernel_size=2, stride=2)  # Output: 6x14x14\n",
        "        self.conv2 = nn.Conv2d(6, 16, kernel_size=5)  # Output: 16x10x10\n",
        "        self.pool2 = nn.MaxPool2d(kernel_size=2, stride=2)  # Output: 16x5x5\n",
        "\n",
        "        # fc layers\n",
        "        self.fc1 = nn.Linear(16 * 5 * 5, 120)\n",
        "        self.fc2 = nn.Linear(120, 84)\n",
        "        self.fc3 = nn.Linear(84, num_classes)\n",
        "\n",
        "    def forward(self, x):\n",
        "        x = self.pool1(F.relu(self.conv1(x)))\n",
        "        x = self.pool2(F.relu(self.conv2(x)))\n",
        "        x = x.view(-1, 16 * 5 * 5)  # flatten\n",
        "        x = F.relu(self.fc1(x))\n",
        "        x = F.relu(self.fc2(x))\n",
        "        x = self.fc3(x)\n",
        "        return x\n",
        "\n",
        "\n",
        "class ImprovedCNN(nn.Module):\n",
        "    def __init__(self, num_classes=100):\n",
        "        super(ImprovedCNN, self).__init__()\n",
        "        # First conv block\n",
        "        self.conv1 = nn.Conv2d(3, 64, kernel_size=5, padding=2)\n",
        "        self.bn1 = nn.BatchNorm2d(64)  # using BatchNorm for better training stability\n",
        "        self.pool1 = nn.MaxPool2d(kernel_size=2, stride=2)\n",
        "\n",
        "        # Second conv block\n",
        "        self.conv2 = nn.Conv2d(64, 64, kernel_size=5, padding=2)\n",
        "        self.bn2 = nn.BatchNorm2d(64)\n",
        "        self.pool2 = nn.MaxPool2d(kernel_size=2, stride=2)\n",
        "\n",
        "        # Fully connected layers\n",
        "        self.fc1 = nn.Linear(64 * 8 * 8, 384)\n",
        "        self.dropout1 = nn.Dropout(0.5)\n",
        "        self.fc2 = nn.Linear(384, 192)\n",
        "        self.dropout2 = nn.Dropout(0.5)\n",
        "        self.fc3 = nn.Linear(192, num_classes)\n",
        "\n",
        "    def forward(self, x):\n",
        "        # First conv block\n",
        "        x = self.pool1(F.relu(self.bn1(self.conv1(x))))\n",
        "        # Second conv block\n",
        "        x = self.pool2(F.relu(self.bn2(self.conv2(x))))\n",
        "        # Flatten and FC\n",
        "        x = x.view(-1, 64 * 8 * 8)\n",
        "        x = F.relu(self.fc1(x))\n",
        "        x = self.dropout1(x)\n",
        "        x = F.relu(self.fc2(x))\n",
        "        x = self.dropout2(x)\n",
        "        x = self.fc3(x)\n",
        "        return x\n",
        "\n",
        "\n",
        "def create_model(model_name, num_classes=100):\n",
        "    if model_name.lower() == \"improved_cnn\":\n",
        "        return ImprovedCNN(num_classes=num_classes)\n",
        "    elif model_name.lower() == \"lenet5\":\n",
        "        return LeNet5(num_classes=num_classes)\n",
        "    else:\n",
        "        raise ValueError(f\"Unknown model: {model_name}\")\n",
        "\n",
        "\n",
        "# train\n",
        "def train_epoch(model, train_loader, criterion, optimizer, device):\n",
        "    model.train()\n",
        "    running_loss = 0.0\n",
        "    correct = 0\n",
        "    total = 0\n",
        "\n",
        "    pbar = tqdm(train_loader, desc=\"Training\")\n",
        "    for inputs, labels in pbar:\n",
        "        inputs, labels = inputs.to(device), labels.to(device)\n",
        "\n",
        "        optimizer.zero_grad()\n",
        "        outputs = model(inputs)\n",
        "        loss = criterion(outputs, labels)\n",
        "        loss.backward()\n",
        "        optimizer.step()\n",
        "\n",
        "        running_loss += loss.item() * inputs.size(0)\n",
        "        _, predicted = outputs.max(1)\n",
        "        total += labels.size(0)\n",
        "        correct += predicted.eq(labels).sum().item()\n",
        "        pbar.set_postfix({\"loss\": running_loss / total,\n",
        "                          \"acc\": 100.0 * correct / total})\n",
        "\n",
        "    train_loss = running_loss / total\n",
        "    train_acc = 100.0 * correct / total\n",
        "    return train_loss, train_acc\n",
        "\n",
        "\n",
        "# eval\n",
        "def evaluate(model, test_loader, criterion, device):\n",
        "    model.eval()\n",
        "    running_loss = 0.0\n",
        "    correct = 0\n",
        "    total = 0\n",
        "\n",
        "    with torch.no_grad():\n",
        "        for inputs, labels in test_loader:\n",
        "            inputs, labels = inputs.to(device), labels.to(device)\n",
        "            outputs = model(inputs)\n",
        "            loss = criterion(outputs, labels)\n",
        "\n",
        "            running_loss += loss.item() * inputs.size(0)\n",
        "            _, predicted = outputs.max(1)\n",
        "            total += labels.size(0)\n",
        "            correct += predicted.eq(labels).sum().item()\n",
        "\n",
        "    test_loss = running_loss / total\n",
        "    test_acc = 100.0 * correct / total\n",
        "    return test_loss, test_acc\n",
        "\n",
        "\n",
        "# train config\n",
        "def train_centralized_model(\n",
        "    model_name=\"improved_cnn\",\n",
        "    dataset_name=\"cifar100\",\n",
        "    batch_size=8192,\n",
        "    epochs=100,\n",
        "    lr=0.01,\n",
        "    momentum=0.9,\n",
        "    weight_decay=4e-4,\n",
        "    lr_scheduler=\"lamb\",\n",
        "    save_path=\"improved_cnn_model.pth\",\n",
        "):\n",
        "    # Load data\n",
        "    train_loader, test_loader, num_classes = load_data(\n",
        "        dataset_name=dataset_name, batch_size=batch_size\n",
        "    )\n",
        "\n",
        "    # Create model\n",
        "    model = create_model(model_name, num_classes=num_classes).to(device)\n",
        "\n",
        "    # Print total parameters\n",
        "    total_params = sum(p.numel() for p in model.parameters())\n",
        "    print(f\"Total parameters: {total_params:,}\")\n",
        "\n",
        "    # Loss\n",
        "    criterion = nn.CrossEntropyLoss()\n",
        "\n",
        "    # Linear‐scaling rule for LR\n",
        "    scaled_lr = lr * (batch_size / 4096)\n",
        "\n",
        "    # Separate parameters into decay vs. no‐decay groups\n",
        "    decay_params = []\n",
        "    no_decay_params = []\n",
        "    for name, param in model.named_parameters():\n",
        "        if not param.requires_grad:\n",
        "            continue\n",
        "        if param.ndim == 1:\n",
        "            no_decay_params.append(param)\n",
        "        else:\n",
        "            decay_params.append(param)\n",
        "\n",
        "    # ─── Instantiate LAMB ─────────────────────────────────────────────────────────\n",
        "    #\n",
        "    # We set global weight_decay=0.0 because we're handling it per‐group.\n",
        "    #\n",
        "    optimizer = Lamb(\n",
        "        [\n",
        "            {\"params\": decay_params,    \"weight_decay\": weight_decay},\n",
        "            {\"params\": no_decay_params, \"weight_decay\": 0.0}\n",
        "        ],\n",
        "        lr=scaled_lr,\n",
        "        betas=(0.9, 0.999),\n",
        "        eps=1e-6,\n",
        "        weight_decay=0.0  # global default; per-group overrides actual decay\n",
        "    )\n",
        "    # ────────────────────────────────────────────────────────────────────────────────\n",
        "\n",
        "    # Learning‐rate scheduler: warmup + cosine, same as LARS code\n",
        "    if lr_scheduler == \"lamb\":\n",
        "        warmup_epochs = 10\n",
        "\n",
        "        def lr_lambda(epoch):\n",
        "            if epoch < warmup_epochs:\n",
        "                return float(epoch + 1) / float(warmup_epochs)\n",
        "            return 0.5 * (\n",
        "                1.0\n",
        "                + math.cos(\n",
        "                    math.pi * (epoch - warmup_epochs) / (epochs - warmup_epochs)\n",
        "                )\n",
        "            )\n",
        "\n",
        "        scheduler = torch.optim.lr_scheduler.LambdaLR(optimizer, lr_lambda)\n",
        "\n",
        "    elif lr_scheduler == \"step\":\n",
        "        scheduler = torch.optim.lr_scheduler.MultiStepLR(\n",
        "            optimizer,\n",
        "            milestones=[int(epochs * 0.5), int(epochs * 0.75)],\n",
        "            gamma=0.1\n",
        "        )\n",
        "    else:\n",
        "        raise ValueError(f\"Unknown scheduler: {lr_scheduler}\")\n",
        "\n",
        "    # Training history\n",
        "    history = {\n",
        "        \"train_loss\": [],\n",
        "        \"train_acc\": [],\n",
        "        \"test_loss\": [],\n",
        "        \"test_acc\": [],\n",
        "        \"lr\": [],\n",
        "    }\n",
        "\n",
        "    best_acc = 0.0\n",
        "\n",
        "    # Training loop\n",
        "    for epoch in range(epochs):\n",
        "        current_lr = optimizer.param_groups[0][\"lr\"]\n",
        "        print(f\"\\nEpoch [{epoch + 1}/{epochs}] - Learning Rate: {current_lr:.6f}\")\n",
        "\n",
        "        # Train for one epoch\n",
        "        start_time = time.time()\n",
        "        train_loss, train_acc = train_epoch(\n",
        "            model, train_loader, criterion, optimizer, device\n",
        "        )\n",
        "        train_time = time.time() - start_time\n",
        "\n",
        "        # Evaluate\n",
        "        test_loss, test_acc = evaluate(model, test_loader, criterion, device)\n",
        "        scheduler.step()\n",
        "\n",
        "        print(\n",
        "            f\"Train Loss: {train_loss:.4f}, Train Acc: {train_acc:.2f}%, \"\n",
        "            f\"Test Loss: {test_loss:.4f}, Test Acc: {test_acc:.2f}%, \"\n",
        "            f\"Time: {train_time:.2f}s\"\n",
        "        )\n",
        "\n",
        "        if test_acc > best_acc:\n",
        "            best_acc = test_acc\n",
        "            torch.save(\n",
        "                {\n",
        "                    \"epoch\": epoch,\n",
        "                    \"model_state_dict\": model.state_dict(),\n",
        "                    \"optimizer_state_dict\": optimizer.state_dict(),\n",
        "                    \"test_acc\": test_acc,\n",
        "                },\n",
        "                save_path,\n",
        "            )\n",
        "            print(f\"New best model saved with accuracy: {test_acc:.2f}%\")\n",
        "\n",
        "        history[\"train_loss\"].append(train_loss)\n",
        "        history[\"train_acc\"].append(train_acc)\n",
        "        history[\"test_loss\"].append(test_loss)\n",
        "        history[\"test_acc\"].append(test_acc)\n",
        "        history[\"lr\"].append(current_lr)\n",
        "\n",
        "    # Load best model\n",
        "    checkpoint = torch.load(save_path)\n",
        "    model.load_state_dict(checkpoint[\"model_state_dict\"])\n",
        "    print(f\"Best model loaded with accuracy: {checkpoint['test_acc']:.2f}%\")\n",
        "\n",
        "    return model, history\n",
        "\n",
        "\n",
        "# visualization of model performance\n",
        "def plot_training_history(history):\n",
        "    fig, (ax1, ax2, ax3) = plt.subplots(1, 3, figsize=(18, 5))\n",
        "\n",
        "    ax1.plot(history[\"train_loss\"], label=\"Train Loss\")\n",
        "    ax1.plot(history[\"test_loss\"], label=\"Test Loss\")\n",
        "    ax1.set_xlabel(\"Epoch\")\n",
        "    ax1.set_ylabel(\"Loss\")\n",
        "    ax1.legend()\n",
        "    ax1.set_title(\"Loss Curves\")\n",
        "    ax1.grid(True)\n",
        "\n",
        "    ax2.plot(history[\"train_acc\"], label=\"Train Accuracy\")\n",
        "    ax2.plot(history[\"test_acc\"], label=\"Test Accuracy\")\n",
        "    ax2.set_xlabel(\"Epoch\")\n",
        "    ax2.set_ylabel(\"Accuracy (%)\")\n",
        "    ax2.legend()\n",
        "    ax2.set_title(\"Accuracy Curves\")\n",
        "    ax2.grid(True)\n",
        "\n",
        "    ax3.plot(history[\"lr\"])\n",
        "    ax3.set_xlabel(\"Epoch\")\n",
        "    ax3.set_ylabel(\"Learning Rate\")\n",
        "    ax3.set_title(\"Learning Rate Schedule\")\n",
        "    ax3.set_yscale(\"log\")\n",
        "    ax3.grid(True)\n",
        "\n",
        "    plt.tight_layout()\n",
        "    plt.show()\n",
        "\n",
        "\n",
        "# run benchmark\n",
        "def run_centralized_benchmark():\n",
        "    config = {\n",
        "        \"model_name\": \"improved_cnn\",\n",
        "        \"dataset_name\": \"cifar100\",\n",
        "        \"batch_size\": 8192,\n",
        "        \"epochs\": 100,\n",
        "        \"lr\": 0.01,\n",
        "        \"momentum\": 0.9,\n",
        "        \"weight_decay\": 4e-4,\n",
        "        \"lr_scheduler\": \"lamb\",\n",
        "        \"save_path\": \"improved_cnn_model_lamb.pth\",\n",
        "    }\n",
        "\n",
        "    print(\n",
        "        f\"Running LAMB benchmark with {config['model_name']} on {config['dataset_name']}...\"\n",
        "    )\n",
        "\n",
        "    model, history = train_centralized_model(**config)\n",
        "    plot_training_history(history)\n",
        "\n",
        "    with open(\"history_lamb.pkl\", \"wb\") as f:\n",
        "        pickle.dump(history, f)\n",
        "\n",
        "    print(\"LAMB benchmark completed!\")\n",
        "    return model, history\n",
        "\n",
        "\n",
        "def main():\n",
        "    model, history = run_centralized_benchmark()\n",
        "    return model, history\n",
        "\n",
        "\n",
        "if __name__ == \"__main__\":\n",
        "    main()\n"
      ],
      "metadata": {
        "colab": {
          "base_uri": "https://localhost:8080/",
          "height": 1000
        },
        "id": "8F8FNuUj0nGV",
        "outputId": "34393f92-3b3a-4fc2-9814-d5095a251511"
      },
      "execution_count": 6,
      "outputs": [
        {
          "output_type": "stream",
          "name": "stdout",
          "text": [
            "PyTorch version: 2.6.0+cu124\n",
            "Using device: cuda:0\n",
            "Running LAMB benchmark with improved_cnn on cifar100...\n",
            "Total parameters: 1,774,052\n",
            "\n",
            "Epoch [1/100] - Learning Rate: 0.002000\n"
          ]
        },
        {
          "output_type": "stream",
          "name": "stderr",
          "text": [
            "Training: 100%|██████████| 7/7 [00:18<00:00,  2.61s/it, loss=4.62, acc=1.1]\n"
          ]
        },
        {
          "output_type": "stream",
          "name": "stdout",
          "text": [
            "Train Loss: 4.6153, Train Acc: 1.10%, Test Loss: 4.6008, Test Acc: 1.73%, Time: 18.31s\n",
            "New best model saved with accuracy: 1.73%\n",
            "\n",
            "Epoch [2/100] - Learning Rate: 0.004000\n"
          ]
        },
        {
          "output_type": "stream",
          "name": "stderr",
          "text": [
            "Training: 100%|██████████| 7/7 [00:18<00:00,  2.59s/it, loss=4.59, acc=1.61]\n"
          ]
        },
        {
          "output_type": "stream",
          "name": "stdout",
          "text": [
            "Train Loss: 4.5899, Train Acc: 1.61%, Test Loss: 4.5734, Test Acc: 3.41%, Time: 18.16s\n",
            "New best model saved with accuracy: 3.41%\n",
            "\n",
            "Epoch [3/100] - Learning Rate: 0.006000\n"
          ]
        },
        {
          "output_type": "stream",
          "name": "stderr",
          "text": [
            "Training: 100%|██████████| 7/7 [00:20<00:00,  2.89s/it, loss=4.54, acc=2.68]\n"
          ]
        },
        {
          "output_type": "stream",
          "name": "stdout",
          "text": [
            "Train Loss: 4.5401, Train Acc: 2.68%, Test Loss: 4.4423, Test Acc: 4.23%, Time: 20.26s\n",
            "New best model saved with accuracy: 4.23%\n",
            "\n",
            "Epoch [4/100] - Learning Rate: 0.008000\n"
          ]
        },
        {
          "output_type": "stream",
          "name": "stderr",
          "text": [
            "Training: 100%|██████████| 7/7 [00:18<00:00,  2.64s/it, loss=4.44, acc=3.31]\n"
          ]
        },
        {
          "output_type": "stream",
          "name": "stdout",
          "text": [
            "Train Loss: 4.4446, Train Acc: 3.31%, Test Loss: 4.2780, Test Acc: 4.99%, Time: 18.49s\n",
            "New best model saved with accuracy: 4.99%\n",
            "\n",
            "Epoch [5/100] - Learning Rate: 0.010000\n"
          ]
        },
        {
          "output_type": "stream",
          "name": "stderr",
          "text": [
            "Training: 100%|██████████| 7/7 [00:18<00:00,  2.61s/it, loss=4.33, acc=4.56]\n"
          ]
        },
        {
          "output_type": "stream",
          "name": "stdout",
          "text": [
            "Train Loss: 4.3333, Train Acc: 4.56%, Test Loss: 4.1234, Test Acc: 6.72%, Time: 18.28s\n",
            "New best model saved with accuracy: 6.72%\n",
            "\n",
            "Epoch [6/100] - Learning Rate: 0.012000\n"
          ]
        },
        {
          "output_type": "stream",
          "name": "stderr",
          "text": [
            "Training: 100%|██████████| 7/7 [00:18<00:00,  2.68s/it, loss=4.2, acc=5.67]\n"
          ]
        },
        {
          "output_type": "stream",
          "name": "stdout",
          "text": [
            "Train Loss: 4.2042, Train Acc: 5.67%, Test Loss: 3.9844, Test Acc: 9.02%, Time: 18.77s\n",
            "New best model saved with accuracy: 9.02%\n",
            "\n",
            "Epoch [7/100] - Learning Rate: 0.014000\n"
          ]
        },
        {
          "output_type": "stream",
          "name": "stderr",
          "text": [
            "Training: 100%|██████████| 7/7 [00:19<00:00,  2.75s/it, loss=4.07, acc=7.22]\n"
          ]
        },
        {
          "output_type": "stream",
          "name": "stdout",
          "text": [
            "Train Loss: 4.0732, Train Acc: 7.22%, Test Loss: 3.7947, Test Acc: 11.99%, Time: 19.27s\n",
            "New best model saved with accuracy: 11.99%\n",
            "\n",
            "Epoch [8/100] - Learning Rate: 0.016000\n"
          ]
        },
        {
          "output_type": "stream",
          "name": "stderr",
          "text": [
            "Training: 100%|██████████| 7/7 [00:18<00:00,  2.59s/it, loss=3.95, acc=8.83]\n"
          ]
        },
        {
          "output_type": "stream",
          "name": "stdout",
          "text": [
            "Train Loss: 3.9533, Train Acc: 8.83%, Test Loss: 3.6601, Test Acc: 14.74%, Time: 18.13s\n",
            "New best model saved with accuracy: 14.74%\n",
            "\n",
            "Epoch [9/100] - Learning Rate: 0.018000\n"
          ]
        },
        {
          "output_type": "stream",
          "name": "stderr",
          "text": [
            "Training: 100%|██████████| 7/7 [00:18<00:00,  2.62s/it, loss=3.85, acc=10.1]\n"
          ]
        },
        {
          "output_type": "stream",
          "name": "stdout",
          "text": [
            "Train Loss: 3.8482, Train Acc: 10.15%, Test Loss: 3.5281, Test Acc: 16.16%, Time: 18.37s\n",
            "New best model saved with accuracy: 16.16%\n",
            "\n",
            "Epoch [10/100] - Learning Rate: 0.020000\n"
          ]
        },
        {
          "output_type": "stream",
          "name": "stderr",
          "text": [
            "Training: 100%|██████████| 7/7 [00:19<00:00,  2.72s/it, loss=3.75, acc=11.8]\n"
          ]
        },
        {
          "output_type": "stream",
          "name": "stdout",
          "text": [
            "Train Loss: 3.7535, Train Acc: 11.77%, Test Loss: 3.4569, Test Acc: 17.66%, Time: 19.05s\n",
            "New best model saved with accuracy: 17.66%\n",
            "\n",
            "Epoch [11/100] - Learning Rate: 0.020000\n"
          ]
        },
        {
          "output_type": "stream",
          "name": "stderr",
          "text": [
            "Training: 100%|██████████| 7/7 [00:18<00:00,  2.60s/it, loss=3.65, acc=13]\n"
          ]
        },
        {
          "output_type": "stream",
          "name": "stdout",
          "text": [
            "Train Loss: 3.6537, Train Acc: 13.02%, Test Loss: 3.3693, Test Acc: 19.67%, Time: 18.22s\n",
            "New best model saved with accuracy: 19.67%\n",
            "\n",
            "Epoch [12/100] - Learning Rate: 0.019994\n"
          ]
        },
        {
          "output_type": "stream",
          "name": "stderr",
          "text": [
            "Training: 100%|██████████| 7/7 [00:18<00:00,  2.62s/it, loss=3.6, acc=13.8]\n"
          ]
        },
        {
          "output_type": "stream",
          "name": "stdout",
          "text": [
            "Train Loss: 3.6036, Train Acc: 13.83%, Test Loss: 3.2705, Test Acc: 20.41%, Time: 18.37s\n",
            "New best model saved with accuracy: 20.41%\n",
            "\n",
            "Epoch [13/100] - Learning Rate: 0.019976\n"
          ]
        },
        {
          "output_type": "stream",
          "name": "stderr",
          "text": [
            "Training: 100%|██████████| 7/7 [00:18<00:00,  2.61s/it, loss=3.52, acc=15.4]\n"
          ]
        },
        {
          "output_type": "stream",
          "name": "stdout",
          "text": [
            "Train Loss: 3.5224, Train Acc: 15.36%, Test Loss: 3.2780, Test Acc: 20.38%, Time: 18.26s\n",
            "\n",
            "Epoch [14/100] - Learning Rate: 0.019945\n"
          ]
        },
        {
          "output_type": "stream",
          "name": "stderr",
          "text": [
            "Training: 100%|██████████| 7/7 [00:18<00:00,  2.71s/it, loss=3.47, acc=16.1]\n"
          ]
        },
        {
          "output_type": "stream",
          "name": "stdout",
          "text": [
            "Train Loss: 3.4663, Train Acc: 16.08%, Test Loss: 3.1754, Test Acc: 22.15%, Time: 18.95s\n",
            "New best model saved with accuracy: 22.15%\n",
            "\n",
            "Epoch [15/100] - Learning Rate: 0.019903\n"
          ]
        },
        {
          "output_type": "stream",
          "name": "stderr",
          "text": [
            "Training: 100%|██████████| 7/7 [00:18<00:00,  2.57s/it, loss=3.44, acc=17]\n"
          ]
        },
        {
          "output_type": "stream",
          "name": "stdout",
          "text": [
            "Train Loss: 3.4428, Train Acc: 16.97%, Test Loss: 3.1209, Test Acc: 23.13%, Time: 18.02s\n",
            "New best model saved with accuracy: 23.13%\n",
            "\n",
            "Epoch [16/100] - Learning Rate: 0.019848\n"
          ]
        },
        {
          "output_type": "stream",
          "name": "stderr",
          "text": [
            "Training: 100%|██████████| 7/7 [00:17<00:00,  2.57s/it, loss=3.37, acc=18.1]\n"
          ]
        },
        {
          "output_type": "stream",
          "name": "stdout",
          "text": [
            "Train Loss: 3.3730, Train Acc: 18.06%, Test Loss: 3.1064, Test Acc: 23.33%, Time: 17.99s\n",
            "New best model saved with accuracy: 23.33%\n",
            "\n",
            "Epoch [17/100] - Learning Rate: 0.019781\n"
          ]
        },
        {
          "output_type": "stream",
          "name": "stderr",
          "text": [
            "Training: 100%|██████████| 7/7 [00:19<00:00,  2.74s/it, loss=3.38, acc=17.8]\n"
          ]
        },
        {
          "output_type": "stream",
          "name": "stdout",
          "text": [
            "Train Loss: 3.3848, Train Acc: 17.79%, Test Loss: 3.2208, Test Acc: 21.34%, Time: 19.18s\n",
            "\n",
            "Epoch [18/100] - Learning Rate: 0.019703\n"
          ]
        },
        {
          "output_type": "stream",
          "name": "stderr",
          "text": [
            "Training: 100%|██████████| 7/7 [00:18<00:00,  2.60s/it, loss=3.33, acc=18.9]\n"
          ]
        },
        {
          "output_type": "stream",
          "name": "stdout",
          "text": [
            "Train Loss: 3.3345, Train Acc: 18.89%, Test Loss: 3.1535, Test Acc: 23.09%, Time: 18.24s\n",
            "\n",
            "Epoch [19/100] - Learning Rate: 0.019613\n"
          ]
        },
        {
          "output_type": "stream",
          "name": "stderr",
          "text": [
            "Training: 100%|██████████| 7/7 [00:18<00:00,  2.59s/it, loss=3.27, acc=19.8]\n"
          ]
        },
        {
          "output_type": "stream",
          "name": "stdout",
          "text": [
            "Train Loss: 3.2729, Train Acc: 19.76%, Test Loss: 3.0273, Test Acc: 25.71%, Time: 18.10s\n",
            "New best model saved with accuracy: 25.71%\n",
            "\n",
            "Epoch [20/100] - Learning Rate: 0.019511\n"
          ]
        },
        {
          "output_type": "stream",
          "name": "stderr",
          "text": [
            "Training: 100%|██████████| 7/7 [00:18<00:00,  2.61s/it, loss=3.25, acc=20.2]\n"
          ]
        },
        {
          "output_type": "stream",
          "name": "stdout",
          "text": [
            "Train Loss: 3.2506, Train Acc: 20.20%, Test Loss: 2.9843, Test Acc: 25.97%, Time: 18.26s\n",
            "New best model saved with accuracy: 25.97%\n",
            "\n",
            "Epoch [21/100] - Learning Rate: 0.019397\n"
          ]
        },
        {
          "output_type": "stream",
          "name": "stderr",
          "text": [
            "Training: 100%|██████████| 7/7 [00:18<00:00,  2.64s/it, loss=3.24, acc=20.5]\n"
          ]
        },
        {
          "output_type": "stream",
          "name": "stdout",
          "text": [
            "Train Loss: 3.2389, Train Acc: 20.49%, Test Loss: 2.8989, Test Acc: 27.44%, Time: 18.46s\n",
            "New best model saved with accuracy: 27.44%\n",
            "\n",
            "Epoch [22/100] - Learning Rate: 0.019272\n"
          ]
        },
        {
          "output_type": "stream",
          "name": "stderr",
          "text": [
            "Training: 100%|██████████| 7/7 [00:18<00:00,  2.60s/it, loss=3.2, acc=21.2]\n"
          ]
        },
        {
          "output_type": "stream",
          "name": "stdout",
          "text": [
            "Train Loss: 3.1953, Train Acc: 21.19%, Test Loss: 2.9998, Test Acc: 25.57%, Time: 18.17s\n",
            "\n",
            "Epoch [23/100] - Learning Rate: 0.019135\n"
          ]
        },
        {
          "output_type": "stream",
          "name": "stderr",
          "text": [
            "Training: 100%|██████████| 7/7 [00:18<00:00,  2.63s/it, loss=3.21, acc=21]\n"
          ]
        },
        {
          "output_type": "stream",
          "name": "stdout",
          "text": [
            "Train Loss: 3.2058, Train Acc: 21.03%, Test Loss: 3.0109, Test Acc: 25.01%, Time: 18.40s\n",
            "\n",
            "Epoch [24/100] - Learning Rate: 0.018988\n"
          ]
        },
        {
          "output_type": "stream",
          "name": "stderr",
          "text": [
            "Training: 100%|██████████| 7/7 [00:19<00:00,  2.77s/it, loss=3.17, acc=21.5]\n"
          ]
        },
        {
          "output_type": "stream",
          "name": "stdout",
          "text": [
            "Train Loss: 3.1716, Train Acc: 21.53%, Test Loss: 2.9370, Test Acc: 27.61%, Time: 19.42s\n",
            "New best model saved with accuracy: 27.61%\n",
            "\n",
            "Epoch [25/100] - Learning Rate: 0.018829\n"
          ]
        },
        {
          "output_type": "stream",
          "name": "stderr",
          "text": [
            "Training: 100%|██████████| 7/7 [00:18<00:00,  2.61s/it, loss=3.13, acc=22.4]\n"
          ]
        },
        {
          "output_type": "stream",
          "name": "stdout",
          "text": [
            "Train Loss: 3.1276, Train Acc: 22.43%, Test Loss: 3.0385, Test Acc: 25.44%, Time: 18.30s\n",
            "\n",
            "Epoch [26/100] - Learning Rate: 0.018660\n"
          ]
        },
        {
          "output_type": "stream",
          "name": "stderr",
          "text": [
            "Training: 100%|██████████| 7/7 [00:18<00:00,  2.62s/it, loss=3.15, acc=22.2]\n"
          ]
        },
        {
          "output_type": "stream",
          "name": "stdout",
          "text": [
            "Train Loss: 3.1476, Train Acc: 22.22%, Test Loss: 2.9242, Test Acc: 26.55%, Time: 18.33s\n",
            "\n",
            "Epoch [27/100] - Learning Rate: 0.018480\n"
          ]
        },
        {
          "output_type": "stream",
          "name": "stderr",
          "text": [
            "Training: 100%|██████████| 7/7 [00:19<00:00,  2.76s/it, loss=3.11, acc=22.7]\n"
          ]
        },
        {
          "output_type": "stream",
          "name": "stdout",
          "text": [
            "Train Loss: 3.1055, Train Acc: 22.72%, Test Loss: 2.9572, Test Acc: 26.19%, Time: 19.36s\n",
            "\n",
            "Epoch [28/100] - Learning Rate: 0.018290\n"
          ]
        },
        {
          "output_type": "stream",
          "name": "stderr",
          "text": [
            "Training: 100%|██████████| 7/7 [00:19<00:00,  2.76s/it, loss=3.06, acc=23.6]\n"
          ]
        },
        {
          "output_type": "stream",
          "name": "stdout",
          "text": [
            "Train Loss: 3.0568, Train Acc: 23.64%, Test Loss: 2.7011, Test Acc: 30.92%, Time: 19.35s\n",
            "New best model saved with accuracy: 30.92%\n",
            "\n",
            "Epoch [29/100] - Learning Rate: 0.018090\n"
          ]
        },
        {
          "output_type": "stream",
          "name": "stderr",
          "text": [
            "Training: 100%|██████████| 7/7 [00:18<00:00,  2.66s/it, loss=3.05, acc=23.9]\n"
          ]
        },
        {
          "output_type": "stream",
          "name": "stdout",
          "text": [
            "Train Loss: 3.0540, Train Acc: 23.85%, Test Loss: 2.8233, Test Acc: 28.79%, Time: 18.66s\n",
            "\n",
            "Epoch [30/100] - Learning Rate: 0.017880\n"
          ]
        },
        {
          "output_type": "stream",
          "name": "stderr",
          "text": [
            "Training: 100%|██████████| 7/7 [00:18<00:00,  2.67s/it, loss=3.08, acc=23.5]\n"
          ]
        },
        {
          "output_type": "stream",
          "name": "stdout",
          "text": [
            "Train Loss: 3.0805, Train Acc: 23.50%, Test Loss: 2.6940, Test Acc: 30.65%, Time: 18.73s\n",
            "\n",
            "Epoch [31/100] - Learning Rate: 0.017660\n"
          ]
        },
        {
          "output_type": "stream",
          "name": "stderr",
          "text": [
            "Training: 100%|██████████| 7/7 [00:19<00:00,  2.79s/it, loss=3.03, acc=24.3]\n"
          ]
        },
        {
          "output_type": "stream",
          "name": "stdout",
          "text": [
            "Train Loss: 3.0266, Train Acc: 24.31%, Test Loss: 2.7081, Test Acc: 31.24%, Time: 19.52s\n",
            "New best model saved with accuracy: 31.24%\n",
            "\n",
            "Epoch [32/100] - Learning Rate: 0.017431\n"
          ]
        },
        {
          "output_type": "stream",
          "name": "stderr",
          "text": [
            "Training: 100%|██████████| 7/7 [00:19<00:00,  2.77s/it, loss=3.03, acc=24.3]\n"
          ]
        },
        {
          "output_type": "stream",
          "name": "stdout",
          "text": [
            "Train Loss: 3.0276, Train Acc: 24.35%, Test Loss: 2.9924, Test Acc: 25.82%, Time: 19.39s\n",
            "\n",
            "Epoch [33/100] - Learning Rate: 0.017193\n"
          ]
        },
        {
          "output_type": "stream",
          "name": "stderr",
          "text": [
            "Training: 100%|██████████| 7/7 [00:18<00:00,  2.67s/it, loss=3, acc=24.7]\n"
          ]
        },
        {
          "output_type": "stream",
          "name": "stdout",
          "text": [
            "Train Loss: 3.0022, Train Acc: 24.66%, Test Loss: 2.8206, Test Acc: 28.88%, Time: 18.68s\n",
            "\n",
            "Epoch [34/100] - Learning Rate: 0.016947\n"
          ]
        },
        {
          "output_type": "stream",
          "name": "stderr",
          "text": [
            "Training: 100%|██████████| 7/7 [00:18<00:00,  2.65s/it, loss=2.98, acc=25.4]\n"
          ]
        },
        {
          "output_type": "stream",
          "name": "stdout",
          "text": [
            "Train Loss: 2.9753, Train Acc: 25.38%, Test Loss: 2.6544, Test Acc: 32.49%, Time: 18.57s\n",
            "New best model saved with accuracy: 32.49%\n",
            "\n",
            "Epoch [35/100] - Learning Rate: 0.016691\n"
          ]
        },
        {
          "output_type": "stream",
          "name": "stderr",
          "text": [
            "Training: 100%|██████████| 7/7 [00:19<00:00,  2.82s/it, loss=2.96, acc=25.5]\n"
          ]
        },
        {
          "output_type": "stream",
          "name": "stdout",
          "text": [
            "Train Loss: 2.9592, Train Acc: 25.48%, Test Loss: 2.5869, Test Acc: 33.54%, Time: 19.77s\n",
            "New best model saved with accuracy: 33.54%\n",
            "\n",
            "Epoch [36/100] - Learning Rate: 0.016428\n"
          ]
        },
        {
          "output_type": "stream",
          "name": "stderr",
          "text": [
            "Training: 100%|██████████| 7/7 [00:19<00:00,  2.72s/it, loss=2.94, acc=26]\n"
          ]
        },
        {
          "output_type": "stream",
          "name": "stdout",
          "text": [
            "Train Loss: 2.9441, Train Acc: 26.03%, Test Loss: 2.6045, Test Acc: 32.70%, Time: 19.02s\n",
            "\n",
            "Epoch [37/100] - Learning Rate: 0.016157\n"
          ]
        },
        {
          "output_type": "stream",
          "name": "stderr",
          "text": [
            "Training: 100%|██████████| 7/7 [00:18<00:00,  2.62s/it, loss=2.93, acc=26.4]\n"
          ]
        },
        {
          "output_type": "stream",
          "name": "stdout",
          "text": [
            "Train Loss: 2.9252, Train Acc: 26.38%, Test Loss: 2.5813, Test Acc: 33.94%, Time: 18.34s\n",
            "New best model saved with accuracy: 33.94%\n",
            "\n",
            "Epoch [38/100] - Learning Rate: 0.015878\n"
          ]
        },
        {
          "output_type": "stream",
          "name": "stderr",
          "text": [
            "Training: 100%|██████████| 7/7 [00:18<00:00,  2.64s/it, loss=2.9, acc=26.8]\n"
          ]
        },
        {
          "output_type": "stream",
          "name": "stdout",
          "text": [
            "Train Loss: 2.8999, Train Acc: 26.84%, Test Loss: 2.5605, Test Acc: 33.84%, Time: 18.51s\n",
            "\n",
            "Epoch [39/100] - Learning Rate: 0.015592\n"
          ]
        },
        {
          "output_type": "stream",
          "name": "stderr",
          "text": [
            "Training: 100%|██████████| 7/7 [00:19<00:00,  2.78s/it, loss=2.88, acc=27.2]\n"
          ]
        },
        {
          "output_type": "stream",
          "name": "stdout",
          "text": [
            "Train Loss: 2.8773, Train Acc: 27.16%, Test Loss: 2.5243, Test Acc: 34.51%, Time: 19.46s\n",
            "New best model saved with accuracy: 34.51%\n",
            "\n",
            "Epoch [40/100] - Learning Rate: 0.015299\n"
          ]
        },
        {
          "output_type": "stream",
          "name": "stderr",
          "text": [
            "Training: 100%|██████████| 7/7 [00:18<00:00,  2.62s/it, loss=2.85, acc=28]\n"
          ]
        },
        {
          "output_type": "stream",
          "name": "stdout",
          "text": [
            "Train Loss: 2.8487, Train Acc: 28.01%, Test Loss: 2.6053, Test Acc: 33.38%, Time: 18.36s\n",
            "\n",
            "Epoch [41/100] - Learning Rate: 0.015000\n"
          ]
        },
        {
          "output_type": "stream",
          "name": "stderr",
          "text": [
            "Training: 100%|██████████| 7/7 [00:18<00:00,  2.65s/it, loss=2.83, acc=28.1]\n"
          ]
        },
        {
          "output_type": "stream",
          "name": "stdout",
          "text": [
            "Train Loss: 2.8304, Train Acc: 28.13%, Test Loss: 2.6619, Test Acc: 32.04%, Time: 18.56s\n",
            "\n",
            "Epoch [42/100] - Learning Rate: 0.014695\n"
          ]
        },
        {
          "output_type": "stream",
          "name": "stderr",
          "text": [
            "Training: 100%|██████████| 7/7 [00:18<00:00,  2.70s/it, loss=2.82, acc=28.4]\n"
          ]
        },
        {
          "output_type": "stream",
          "name": "stdout",
          "text": [
            "Train Loss: 2.8175, Train Acc: 28.41%, Test Loss: 2.4766, Test Acc: 36.09%, Time: 18.88s\n",
            "New best model saved with accuracy: 36.09%\n",
            "\n",
            "Epoch [43/100] - Learning Rate: 0.014384\n"
          ]
        },
        {
          "output_type": "stream",
          "name": "stderr",
          "text": [
            "Training: 100%|██████████| 7/7 [00:18<00:00,  2.71s/it, loss=2.81, acc=28.4]\n"
          ]
        },
        {
          "output_type": "stream",
          "name": "stdout",
          "text": [
            "Train Loss: 2.8102, Train Acc: 28.40%, Test Loss: 2.5723, Test Acc: 34.54%, Time: 18.97s\n",
            "\n",
            "Epoch [44/100] - Learning Rate: 0.014067\n"
          ]
        },
        {
          "output_type": "stream",
          "name": "stderr",
          "text": [
            "Training: 100%|██████████| 7/7 [00:18<00:00,  2.62s/it, loss=2.78, acc=29.3]\n"
          ]
        },
        {
          "output_type": "stream",
          "name": "stdout",
          "text": [
            "Train Loss: 2.7783, Train Acc: 29.32%, Test Loss: 2.4261, Test Acc: 36.79%, Time: 18.32s\n",
            "New best model saved with accuracy: 36.79%\n",
            "\n",
            "Epoch [45/100] - Learning Rate: 0.013746\n"
          ]
        },
        {
          "output_type": "stream",
          "name": "stderr",
          "text": [
            "Training: 100%|██████████| 7/7 [00:18<00:00,  2.61s/it, loss=2.75, acc=29.5]\n"
          ]
        },
        {
          "output_type": "stream",
          "name": "stdout",
          "text": [
            "Train Loss: 2.7512, Train Acc: 29.53%, Test Loss: 2.4278, Test Acc: 37.13%, Time: 18.26s\n",
            "New best model saved with accuracy: 37.13%\n",
            "\n",
            "Epoch [46/100] - Learning Rate: 0.013420\n"
          ]
        },
        {
          "output_type": "stream",
          "name": "stderr",
          "text": [
            "Training: 100%|██████████| 7/7 [00:19<00:00,  2.76s/it, loss=2.74, acc=29.8]\n"
          ]
        },
        {
          "output_type": "stream",
          "name": "stdout",
          "text": [
            "Train Loss: 2.7422, Train Acc: 29.78%, Test Loss: 2.4775, Test Acc: 36.12%, Time: 19.32s\n",
            "\n",
            "Epoch [47/100] - Learning Rate: 0.013090\n"
          ]
        },
        {
          "output_type": "stream",
          "name": "stderr",
          "text": [
            "Training: 100%|██████████| 7/7 [00:18<00:00,  2.60s/it, loss=2.75, acc=29.6]\n"
          ]
        },
        {
          "output_type": "stream",
          "name": "stdout",
          "text": [
            "Train Loss: 2.7529, Train Acc: 29.59%, Test Loss: 2.4693, Test Acc: 36.44%, Time: 18.22s\n",
            "\n",
            "Epoch [48/100] - Learning Rate: 0.012756\n"
          ]
        },
        {
          "output_type": "stream",
          "name": "stderr",
          "text": [
            "Training: 100%|██████████| 7/7 [00:17<00:00,  2.57s/it, loss=2.75, acc=29.7]\n"
          ]
        },
        {
          "output_type": "stream",
          "name": "stdout",
          "text": [
            "Train Loss: 2.7471, Train Acc: 29.74%, Test Loss: 2.3788, Test Acc: 38.04%, Time: 17.99s\n",
            "New best model saved with accuracy: 38.04%\n",
            "\n",
            "Epoch [49/100] - Learning Rate: 0.012419\n"
          ]
        },
        {
          "output_type": "stream",
          "name": "stderr",
          "text": [
            "Training: 100%|██████████| 7/7 [00:18<00:00,  2.67s/it, loss=2.71, acc=30.6]\n"
          ]
        },
        {
          "output_type": "stream",
          "name": "stdout",
          "text": [
            "Train Loss: 2.7128, Train Acc: 30.56%, Test Loss: 2.3401, Test Acc: 38.96%, Time: 18.68s\n",
            "New best model saved with accuracy: 38.96%\n",
            "\n",
            "Epoch [50/100] - Learning Rate: 0.012079\n"
          ]
        },
        {
          "output_type": "stream",
          "name": "stderr",
          "text": [
            "Training: 100%|██████████| 7/7 [00:18<00:00,  2.71s/it, loss=2.68, acc=31.3]\n"
          ]
        },
        {
          "output_type": "stream",
          "name": "stdout",
          "text": [
            "Train Loss: 2.6753, Train Acc: 31.26%, Test Loss: 2.3475, Test Acc: 38.28%, Time: 18.99s\n",
            "\n",
            "Epoch [51/100] - Learning Rate: 0.011736\n"
          ]
        },
        {
          "output_type": "stream",
          "name": "stderr",
          "text": [
            "Training: 100%|██████████| 7/7 [00:17<00:00,  2.57s/it, loss=2.66, acc=31.3]\n"
          ]
        },
        {
          "output_type": "stream",
          "name": "stdout",
          "text": [
            "Train Loss: 2.6641, Train Acc: 31.28%, Test Loss: 2.3076, Test Acc: 39.32%, Time: 17.97s\n",
            "New best model saved with accuracy: 39.32%\n",
            "\n",
            "Epoch [52/100] - Learning Rate: 0.011392\n"
          ]
        },
        {
          "output_type": "stream",
          "name": "stderr",
          "text": [
            "Training: 100%|██████████| 7/7 [00:17<00:00,  2.57s/it, loss=2.64, acc=32]\n"
          ]
        },
        {
          "output_type": "stream",
          "name": "stdout",
          "text": [
            "Train Loss: 2.6448, Train Acc: 32.04%, Test Loss: 2.2962, Test Acc: 38.99%, Time: 17.97s\n",
            "\n",
            "Epoch [53/100] - Learning Rate: 0.011045\n"
          ]
        },
        {
          "output_type": "stream",
          "name": "stderr",
          "text": [
            "Training: 100%|██████████| 7/7 [00:18<00:00,  2.70s/it, loss=2.63, acc=32]\n"
          ]
        },
        {
          "output_type": "stream",
          "name": "stdout",
          "text": [
            "Train Loss: 2.6346, Train Acc: 31.99%, Test Loss: 2.2784, Test Acc: 39.84%, Time: 18.89s\n",
            "New best model saved with accuracy: 39.84%\n",
            "\n",
            "Epoch [54/100] - Learning Rate: 0.010698\n"
          ]
        },
        {
          "output_type": "stream",
          "name": "stderr",
          "text": [
            "Training: 100%|██████████| 7/7 [00:17<00:00,  2.56s/it, loss=2.61, acc=32.2]\n"
          ]
        },
        {
          "output_type": "stream",
          "name": "stdout",
          "text": [
            "Train Loss: 2.6142, Train Acc: 32.22%, Test Loss: 2.3156, Test Acc: 39.38%, Time: 17.95s\n",
            "\n",
            "Epoch [55/100] - Learning Rate: 0.010349\n"
          ]
        },
        {
          "output_type": "stream",
          "name": "stderr",
          "text": [
            "Training: 100%|██████████| 7/7 [00:17<00:00,  2.57s/it, loss=2.62, acc=32.4]\n"
          ]
        },
        {
          "output_type": "stream",
          "name": "stdout",
          "text": [
            "Train Loss: 2.6156, Train Acc: 32.39%, Test Loss: 2.2666, Test Acc: 40.34%, Time: 17.97s\n",
            "New best model saved with accuracy: 40.34%\n",
            "\n",
            "Epoch [56/100] - Learning Rate: 0.010000\n"
          ]
        },
        {
          "output_type": "stream",
          "name": "stderr",
          "text": [
            "Training: 100%|██████████| 7/7 [00:18<00:00,  2.67s/it, loss=2.63, acc=32.2]\n"
          ]
        },
        {
          "output_type": "stream",
          "name": "stdout",
          "text": [
            "Train Loss: 2.6275, Train Acc: 32.23%, Test Loss: 2.2485, Test Acc: 40.78%, Time: 18.69s\n",
            "New best model saved with accuracy: 40.78%\n",
            "\n",
            "Epoch [57/100] - Learning Rate: 0.009651\n"
          ]
        },
        {
          "output_type": "stream",
          "name": "stderr",
          "text": [
            "Training: 100%|██████████| 7/7 [00:18<00:00,  2.58s/it, loss=2.6, acc=32.5]\n"
          ]
        },
        {
          "output_type": "stream",
          "name": "stdout",
          "text": [
            "Train Loss: 2.6034, Train Acc: 32.49%, Test Loss: 2.2727, Test Acc: 40.93%, Time: 18.09s\n",
            "New best model saved with accuracy: 40.93%\n",
            "\n",
            "Epoch [58/100] - Learning Rate: 0.009302\n"
          ]
        },
        {
          "output_type": "stream",
          "name": "stderr",
          "text": [
            "Training: 100%|██████████| 7/7 [00:17<00:00,  2.54s/it, loss=2.59, acc=32.9]\n"
          ]
        },
        {
          "output_type": "stream",
          "name": "stdout",
          "text": [
            "Train Loss: 2.5911, Train Acc: 32.91%, Test Loss: 2.2358, Test Acc: 40.96%, Time: 17.80s\n",
            "New best model saved with accuracy: 40.96%\n",
            "\n",
            "Epoch [59/100] - Learning Rate: 0.008955\n"
          ]
        },
        {
          "output_type": "stream",
          "name": "stderr",
          "text": [
            "Training: 100%|██████████| 7/7 [00:18<00:00,  2.59s/it, loss=2.57, acc=33.3]\n"
          ]
        },
        {
          "output_type": "stream",
          "name": "stdout",
          "text": [
            "Train Loss: 2.5656, Train Acc: 33.28%, Test Loss: 2.3263, Test Acc: 38.95%, Time: 18.11s\n",
            "\n",
            "Epoch [60/100] - Learning Rate: 0.008608\n"
          ]
        },
        {
          "output_type": "stream",
          "name": "stderr",
          "text": [
            "Training: 100%|██████████| 7/7 [00:18<00:00,  2.70s/it, loss=2.55, acc=33.6]\n"
          ]
        },
        {
          "output_type": "stream",
          "name": "stdout",
          "text": [
            "Train Loss: 2.5508, Train Acc: 33.61%, Test Loss: 2.2498, Test Acc: 40.54%, Time: 18.92s\n",
            "\n",
            "Epoch [61/100] - Learning Rate: 0.008264\n"
          ]
        },
        {
          "output_type": "stream",
          "name": "stderr",
          "text": [
            "Training: 100%|██████████| 7/7 [00:18<00:00,  2.57s/it, loss=2.55, acc=33.6]\n"
          ]
        },
        {
          "output_type": "stream",
          "name": "stdout",
          "text": [
            "Train Loss: 2.5547, Train Acc: 33.56%, Test Loss: 2.2365, Test Acc: 41.70%, Time: 18.01s\n",
            "New best model saved with accuracy: 41.70%\n",
            "\n",
            "Epoch [62/100] - Learning Rate: 0.007921\n"
          ]
        },
        {
          "output_type": "stream",
          "name": "stderr",
          "text": [
            "Training: 100%|██████████| 7/7 [00:18<00:00,  2.60s/it, loss=2.54, acc=33.9]\n"
          ]
        },
        {
          "output_type": "stream",
          "name": "stdout",
          "text": [
            "Train Loss: 2.5382, Train Acc: 33.92%, Test Loss: 2.2222, Test Acc: 40.82%, Time: 18.22s\n",
            "\n",
            "Epoch [63/100] - Learning Rate: 0.007581\n"
          ]
        },
        {
          "output_type": "stream",
          "name": "stderr",
          "text": [
            "Training: 100%|██████████| 7/7 [00:19<00:00,  2.77s/it, loss=2.53, acc=34.1]\n"
          ]
        },
        {
          "output_type": "stream",
          "name": "stdout",
          "text": [
            "Train Loss: 2.5269, Train Acc: 34.06%, Test Loss: 2.1911, Test Acc: 41.91%, Time: 19.36s\n",
            "New best model saved with accuracy: 41.91%\n",
            "\n",
            "Epoch [64/100] - Learning Rate: 0.007244\n"
          ]
        },
        {
          "output_type": "stream",
          "name": "stderr",
          "text": [
            "Training: 100%|██████████| 7/7 [00:18<00:00,  2.57s/it, loss=2.51, acc=34.6]\n"
          ]
        },
        {
          "output_type": "stream",
          "name": "stdout",
          "text": [
            "Train Loss: 2.5066, Train Acc: 34.58%, Test Loss: 2.1674, Test Acc: 42.80%, Time: 18.03s\n",
            "New best model saved with accuracy: 42.80%\n",
            "\n",
            "Epoch [65/100] - Learning Rate: 0.006910\n"
          ]
        },
        {
          "output_type": "stream",
          "name": "stderr",
          "text": [
            "Training: 100%|██████████| 7/7 [00:18<00:00,  2.59s/it, loss=2.5, acc=34.5]\n"
          ]
        },
        {
          "output_type": "stream",
          "name": "stdout",
          "text": [
            "Train Loss: 2.4991, Train Acc: 34.52%, Test Loss: 2.1459, Test Acc: 42.73%, Time: 18.16s\n",
            "\n",
            "Epoch [66/100] - Learning Rate: 0.006580\n"
          ]
        },
        {
          "output_type": "stream",
          "name": "stderr",
          "text": [
            "Training: 100%|██████████| 7/7 [00:19<00:00,  2.73s/it, loss=2.49, acc=35]\n"
          ]
        },
        {
          "output_type": "stream",
          "name": "stdout",
          "text": [
            "Train Loss: 2.4947, Train Acc: 35.02%, Test Loss: 2.1422, Test Acc: 43.23%, Time: 19.08s\n",
            "New best model saved with accuracy: 43.23%\n",
            "\n",
            "Epoch [67/100] - Learning Rate: 0.006254\n"
          ]
        },
        {
          "output_type": "stream",
          "name": "stderr",
          "text": [
            "Training: 100%|██████████| 7/7 [00:19<00:00,  2.76s/it, loss=2.47, acc=35.4]\n"
          ]
        },
        {
          "output_type": "stream",
          "name": "stdout",
          "text": [
            "Train Loss: 2.4725, Train Acc: 35.36%, Test Loss: 2.1434, Test Acc: 43.25%, Time: 19.35s\n",
            "New best model saved with accuracy: 43.25%\n",
            "\n",
            "Epoch [68/100] - Learning Rate: 0.005933\n"
          ]
        },
        {
          "output_type": "stream",
          "name": "stderr",
          "text": [
            "Training: 100%|██████████| 7/7 [00:18<00:00,  2.61s/it, loss=2.47, acc=35.6]\n"
          ]
        },
        {
          "output_type": "stream",
          "name": "stdout",
          "text": [
            "Train Loss: 2.4697, Train Acc: 35.60%, Test Loss: 2.1371, Test Acc: 43.16%, Time: 18.29s\n",
            "\n",
            "Epoch [69/100] - Learning Rate: 0.005616\n"
          ]
        },
        {
          "output_type": "stream",
          "name": "stderr",
          "text": [
            "Training: 100%|██████████| 7/7 [00:17<00:00,  2.57s/it, loss=2.47, acc=35.2]\n"
          ]
        },
        {
          "output_type": "stream",
          "name": "stdout",
          "text": [
            "Train Loss: 2.4701, Train Acc: 35.17%, Test Loss: 2.1355, Test Acc: 43.21%, Time: 18.00s\n",
            "\n",
            "Epoch [70/100] - Learning Rate: 0.005305\n"
          ]
        },
        {
          "output_type": "stream",
          "name": "stderr",
          "text": [
            "Training: 100%|██████████| 7/7 [00:19<00:00,  2.74s/it, loss=2.46, acc=35.5]\n"
          ]
        },
        {
          "output_type": "stream",
          "name": "stdout",
          "text": [
            "Train Loss: 2.4642, Train Acc: 35.49%, Test Loss: 2.1192, Test Acc: 43.30%, Time: 19.21s\n",
            "New best model saved with accuracy: 43.30%\n",
            "\n",
            "Epoch [71/100] - Learning Rate: 0.005000\n"
          ]
        },
        {
          "output_type": "stream",
          "name": "stderr",
          "text": [
            "Training: 100%|██████████| 7/7 [00:18<00:00,  2.58s/it, loss=2.46, acc=35.7]\n"
          ]
        },
        {
          "output_type": "stream",
          "name": "stdout",
          "text": [
            "Train Loss: 2.4579, Train Acc: 35.69%, Test Loss: 2.1088, Test Acc: 44.08%, Time: 18.08s\n",
            "New best model saved with accuracy: 44.08%\n",
            "\n",
            "Epoch [72/100] - Learning Rate: 0.004701\n"
          ]
        },
        {
          "output_type": "stream",
          "name": "stderr",
          "text": [
            "Training: 100%|██████████| 7/7 [00:18<00:00,  2.59s/it, loss=2.44, acc=36.2]\n"
          ]
        },
        {
          "output_type": "stream",
          "name": "stdout",
          "text": [
            "Train Loss: 2.4386, Train Acc: 36.22%, Test Loss: 2.0987, Test Acc: 44.10%, Time: 18.17s\n",
            "New best model saved with accuracy: 44.10%\n",
            "\n",
            "Epoch [73/100] - Learning Rate: 0.004408\n"
          ]
        },
        {
          "output_type": "stream",
          "name": "stderr",
          "text": [
            "Training: 100%|██████████| 7/7 [00:18<00:00,  2.69s/it, loss=2.44, acc=36]\n"
          ]
        },
        {
          "output_type": "stream",
          "name": "stdout",
          "text": [
            "Train Loss: 2.4352, Train Acc: 36.03%, Test Loss: 2.0863, Test Acc: 44.25%, Time: 18.80s\n",
            "New best model saved with accuracy: 44.25%\n",
            "\n",
            "Epoch [74/100] - Learning Rate: 0.004122\n"
          ]
        },
        {
          "output_type": "stream",
          "name": "stderr",
          "text": [
            "Training: 100%|██████████| 7/7 [00:18<00:00,  2.70s/it, loss=2.42, acc=36.4]\n"
          ]
        },
        {
          "output_type": "stream",
          "name": "stdout",
          "text": [
            "Train Loss: 2.4230, Train Acc: 36.39%, Test Loss: 2.0898, Test Acc: 44.45%, Time: 18.91s\n",
            "New best model saved with accuracy: 44.45%\n",
            "\n",
            "Epoch [75/100] - Learning Rate: 0.003843\n"
          ]
        },
        {
          "output_type": "stream",
          "name": "stderr",
          "text": [
            "Training: 100%|██████████| 7/7 [00:18<00:00,  2.61s/it, loss=2.43, acc=36.4]\n"
          ]
        },
        {
          "output_type": "stream",
          "name": "stdout",
          "text": [
            "Train Loss: 2.4288, Train Acc: 36.41%, Test Loss: 2.0849, Test Acc: 44.60%, Time: 18.30s\n",
            "New best model saved with accuracy: 44.60%\n",
            "\n",
            "Epoch [76/100] - Learning Rate: 0.003572\n"
          ]
        },
        {
          "output_type": "stream",
          "name": "stderr",
          "text": [
            "Training: 100%|██████████| 7/7 [00:17<00:00,  2.56s/it, loss=2.42, acc=36.4]\n"
          ]
        },
        {
          "output_type": "stream",
          "name": "stdout",
          "text": [
            "Train Loss: 2.4198, Train Acc: 36.44%, Test Loss: 2.0829, Test Acc: 44.84%, Time: 17.90s\n",
            "New best model saved with accuracy: 44.84%\n",
            "\n",
            "Epoch [77/100] - Learning Rate: 0.003309\n"
          ]
        },
        {
          "output_type": "stream",
          "name": "stderr",
          "text": [
            "Training: 100%|██████████| 7/7 [00:18<00:00,  2.71s/it, loss=2.41, acc=36.7]\n"
          ]
        },
        {
          "output_type": "stream",
          "name": "stdout",
          "text": [
            "Train Loss: 2.4058, Train Acc: 36.70%, Test Loss: 2.0852, Test Acc: 44.48%, Time: 18.95s\n",
            "\n",
            "Epoch [78/100] - Learning Rate: 0.003053\n"
          ]
        },
        {
          "output_type": "stream",
          "name": "stderr",
          "text": [
            "Training: 100%|██████████| 7/7 [00:18<00:00,  2.60s/it, loss=2.4, acc=36.8]\n"
          ]
        },
        {
          "output_type": "stream",
          "name": "stdout",
          "text": [
            "Train Loss: 2.4017, Train Acc: 36.80%, Test Loss: 2.0723, Test Acc: 44.90%, Time: 18.22s\n",
            "New best model saved with accuracy: 44.90%\n",
            "\n",
            "Epoch [79/100] - Learning Rate: 0.002807\n"
          ]
        },
        {
          "output_type": "stream",
          "name": "stderr",
          "text": [
            "Training: 100%|██████████| 7/7 [00:18<00:00,  2.60s/it, loss=2.4, acc=36.8]\n"
          ]
        },
        {
          "output_type": "stream",
          "name": "stdout",
          "text": [
            "Train Loss: 2.4023, Train Acc: 36.77%, Test Loss: 2.0756, Test Acc: 44.83%, Time: 18.20s\n",
            "\n",
            "Epoch [80/100] - Learning Rate: 0.002569\n"
          ]
        },
        {
          "output_type": "stream",
          "name": "stderr",
          "text": [
            "Training: 100%|██████████| 7/7 [00:19<00:00,  2.73s/it, loss=2.39, acc=37.1]\n"
          ]
        },
        {
          "output_type": "stream",
          "name": "stdout",
          "text": [
            "Train Loss: 2.3882, Train Acc: 37.09%, Test Loss: 2.0626, Test Acc: 45.21%, Time: 19.09s\n",
            "New best model saved with accuracy: 45.21%\n",
            "\n",
            "Epoch [81/100] - Learning Rate: 0.002340\n"
          ]
        },
        {
          "output_type": "stream",
          "name": "stderr",
          "text": [
            "Training: 100%|██████████| 7/7 [00:18<00:00,  2.70s/it, loss=2.4, acc=36.8]\n"
          ]
        },
        {
          "output_type": "stream",
          "name": "stdout",
          "text": [
            "Train Loss: 2.4017, Train Acc: 36.80%, Test Loss: 2.0554, Test Acc: 45.36%, Time: 18.90s\n",
            "New best model saved with accuracy: 45.36%\n",
            "\n",
            "Epoch [82/100] - Learning Rate: 0.002120\n"
          ]
        },
        {
          "output_type": "stream",
          "name": "stderr",
          "text": [
            "Training: 100%|██████████| 7/7 [00:18<00:00,  2.60s/it, loss=2.39, acc=37.3]\n"
          ]
        },
        {
          "output_type": "stream",
          "name": "stdout",
          "text": [
            "Train Loss: 2.3908, Train Acc: 37.28%, Test Loss: 2.0539, Test Acc: 45.29%, Time: 18.23s\n",
            "\n",
            "Epoch [83/100] - Learning Rate: 0.001910\n"
          ]
        },
        {
          "output_type": "stream",
          "name": "stderr",
          "text": [
            "Training: 100%|██████████| 7/7 [00:18<00:00,  2.58s/it, loss=2.39, acc=37.1]\n"
          ]
        },
        {
          "output_type": "stream",
          "name": "stdout",
          "text": [
            "Train Loss: 2.3870, Train Acc: 37.10%, Test Loss: 2.0439, Test Acc: 45.41%, Time: 18.09s\n",
            "New best model saved with accuracy: 45.41%\n",
            "\n",
            "Epoch [84/100] - Learning Rate: 0.001710\n"
          ]
        },
        {
          "output_type": "stream",
          "name": "stderr",
          "text": [
            "Training: 100%|██████████| 7/7 [00:18<00:00,  2.70s/it, loss=2.38, acc=37.2]\n"
          ]
        },
        {
          "output_type": "stream",
          "name": "stdout",
          "text": [
            "Train Loss: 2.3805, Train Acc: 37.16%, Test Loss: 2.0460, Test Acc: 45.47%, Time: 18.91s\n",
            "New best model saved with accuracy: 45.47%\n",
            "\n",
            "Epoch [85/100] - Learning Rate: 0.001520\n"
          ]
        },
        {
          "output_type": "stream",
          "name": "stderr",
          "text": [
            "Training: 100%|██████████| 7/7 [00:17<00:00,  2.56s/it, loss=2.38, acc=37.3]\n"
          ]
        },
        {
          "output_type": "stream",
          "name": "stdout",
          "text": [
            "Train Loss: 2.3809, Train Acc: 37.31%, Test Loss: 2.0451, Test Acc: 45.31%, Time: 17.95s\n",
            "\n",
            "Epoch [86/100] - Learning Rate: 0.001340\n"
          ]
        },
        {
          "output_type": "stream",
          "name": "stderr",
          "text": [
            "Training: 100%|██████████| 7/7 [00:17<00:00,  2.55s/it, loss=2.38, acc=37.6]\n"
          ]
        },
        {
          "output_type": "stream",
          "name": "stdout",
          "text": [
            "Train Loss: 2.3770, Train Acc: 37.57%, Test Loss: 2.0431, Test Acc: 45.41%, Time: 17.88s\n",
            "\n",
            "Epoch [87/100] - Learning Rate: 0.001171\n"
          ]
        },
        {
          "output_type": "stream",
          "name": "stderr",
          "text": [
            "Training: 100%|██████████| 7/7 [00:19<00:00,  2.72s/it, loss=2.37, acc=37.4]\n"
          ]
        },
        {
          "output_type": "stream",
          "name": "stdout",
          "text": [
            "Train Loss: 2.3709, Train Acc: 37.40%, Test Loss: 2.0367, Test Acc: 45.55%, Time: 19.08s\n",
            "New best model saved with accuracy: 45.55%\n",
            "\n",
            "Epoch [88/100] - Learning Rate: 0.001012\n"
          ]
        },
        {
          "output_type": "stream",
          "name": "stderr",
          "text": [
            "Training: 100%|██████████| 7/7 [00:18<00:00,  2.58s/it, loss=2.37, acc=37.5]\n"
          ]
        },
        {
          "output_type": "stream",
          "name": "stdout",
          "text": [
            "Train Loss: 2.3668, Train Acc: 37.54%, Test Loss: 2.0394, Test Acc: 45.54%, Time: 18.06s\n",
            "\n",
            "Epoch [89/100] - Learning Rate: 0.000865\n"
          ]
        },
        {
          "output_type": "stream",
          "name": "stderr",
          "text": [
            "Training: 100%|██████████| 7/7 [00:18<00:00,  2.62s/it, loss=2.37, acc=37.5]\n"
          ]
        },
        {
          "output_type": "stream",
          "name": "stdout",
          "text": [
            "Train Loss: 2.3694, Train Acc: 37.48%, Test Loss: 2.0329, Test Acc: 45.77%, Time: 18.33s\n",
            "New best model saved with accuracy: 45.77%\n",
            "\n",
            "Epoch [90/100] - Learning Rate: 0.000728\n"
          ]
        },
        {
          "output_type": "stream",
          "name": "stderr",
          "text": [
            "Training: 100%|██████████| 7/7 [00:19<00:00,  2.75s/it, loss=2.36, acc=37.7]\n"
          ]
        },
        {
          "output_type": "stream",
          "name": "stdout",
          "text": [
            "Train Loss: 2.3650, Train Acc: 37.74%, Test Loss: 2.0314, Test Acc: 45.75%, Time: 19.22s\n",
            "\n",
            "Epoch [91/100] - Learning Rate: 0.000603\n"
          ]
        },
        {
          "output_type": "stream",
          "name": "stderr",
          "text": [
            "Training: 100%|██████████| 7/7 [00:19<00:00,  2.75s/it, loss=2.36, acc=37.5]\n"
          ]
        },
        {
          "output_type": "stream",
          "name": "stdout",
          "text": [
            "Train Loss: 2.3631, Train Acc: 37.46%, Test Loss: 2.0321, Test Acc: 45.75%, Time: 19.25s\n",
            "\n",
            "Epoch [92/100] - Learning Rate: 0.000489\n"
          ]
        },
        {
          "output_type": "stream",
          "name": "stderr",
          "text": [
            "Training: 100%|██████████| 7/7 [00:17<00:00,  2.56s/it, loss=2.36, acc=37.9]\n"
          ]
        },
        {
          "output_type": "stream",
          "name": "stdout",
          "text": [
            "Train Loss: 2.3568, Train Acc: 37.87%, Test Loss: 2.0289, Test Acc: 45.93%, Time: 17.96s\n",
            "New best model saved with accuracy: 45.93%\n",
            "\n",
            "Epoch [93/100] - Learning Rate: 0.000387\n"
          ]
        },
        {
          "output_type": "stream",
          "name": "stderr",
          "text": [
            "Training: 100%|██████████| 7/7 [00:18<00:00,  2.58s/it, loss=2.36, acc=37.8]\n"
          ]
        },
        {
          "output_type": "stream",
          "name": "stdout",
          "text": [
            "Train Loss: 2.3584, Train Acc: 37.77%, Test Loss: 2.0278, Test Acc: 45.84%, Time: 18.09s\n",
            "\n",
            "Epoch [94/100] - Learning Rate: 0.000297\n"
          ]
        },
        {
          "output_type": "stream",
          "name": "stderr",
          "text": [
            "Training: 100%|██████████| 7/7 [00:19<00:00,  2.74s/it, loss=2.36, acc=37.8]\n"
          ]
        },
        {
          "output_type": "stream",
          "name": "stdout",
          "text": [
            "Train Loss: 2.3551, Train Acc: 37.82%, Test Loss: 2.0270, Test Acc: 45.98%, Time: 19.18s\n",
            "New best model saved with accuracy: 45.98%\n",
            "\n",
            "Epoch [95/100] - Learning Rate: 0.000219\n"
          ]
        },
        {
          "output_type": "stream",
          "name": "stderr",
          "text": [
            "Training: 100%|██████████| 7/7 [00:18<00:00,  2.70s/it, loss=2.36, acc=37.8]\n"
          ]
        },
        {
          "output_type": "stream",
          "name": "stdout",
          "text": [
            "Train Loss: 2.3594, Train Acc: 37.83%, Test Loss: 2.0285, Test Acc: 45.93%, Time: 18.92s\n",
            "\n",
            "Epoch [96/100] - Learning Rate: 0.000152\n"
          ]
        },
        {
          "output_type": "stream",
          "name": "stderr",
          "text": [
            "Training: 100%|██████████| 7/7 [00:18<00:00,  2.60s/it, loss=2.36, acc=37.6]\n"
          ]
        },
        {
          "output_type": "stream",
          "name": "stdout",
          "text": [
            "Train Loss: 2.3625, Train Acc: 37.59%, Test Loss: 2.0266, Test Acc: 45.95%, Time: 18.17s\n",
            "\n",
            "Epoch [97/100] - Learning Rate: 0.000097\n"
          ]
        },
        {
          "output_type": "stream",
          "name": "stderr",
          "text": [
            "Training: 100%|██████████| 7/7 [00:18<00:00,  2.62s/it, loss=2.35, acc=37.9]\n"
          ]
        },
        {
          "output_type": "stream",
          "name": "stdout",
          "text": [
            "Train Loss: 2.3502, Train Acc: 37.90%, Test Loss: 2.0260, Test Acc: 46.00%, Time: 18.33s\n",
            "New best model saved with accuracy: 46.00%\n",
            "\n",
            "Epoch [98/100] - Learning Rate: 0.000055\n"
          ]
        },
        {
          "output_type": "stream",
          "name": "stderr",
          "text": [
            "Training: 100%|██████████| 7/7 [00:19<00:00,  2.73s/it, loss=2.36, acc=37.6]\n"
          ]
        },
        {
          "output_type": "stream",
          "name": "stdout",
          "text": [
            "Train Loss: 2.3553, Train Acc: 37.61%, Test Loss: 2.0261, Test Acc: 45.93%, Time: 19.14s\n",
            "\n",
            "Epoch [99/100] - Learning Rate: 0.000024\n"
          ]
        },
        {
          "output_type": "stream",
          "name": "stderr",
          "text": [
            "Training: 100%|██████████| 7/7 [00:18<00:00,  2.61s/it, loss=2.36, acc=37.7]\n"
          ]
        },
        {
          "output_type": "stream",
          "name": "stdout",
          "text": [
            "Train Loss: 2.3555, Train Acc: 37.69%, Test Loss: 2.0255, Test Acc: 45.98%, Time: 18.25s\n",
            "\n",
            "Epoch [100/100] - Learning Rate: 0.000006\n"
          ]
        },
        {
          "output_type": "stream",
          "name": "stderr",
          "text": [
            "Training: 100%|██████████| 7/7 [00:18<00:00,  2.61s/it, loss=2.35, acc=37.7]\n"
          ]
        },
        {
          "output_type": "stream",
          "name": "stdout",
          "text": [
            "Train Loss: 2.3545, Train Acc: 37.71%, Test Loss: 2.0252, Test Acc: 45.93%, Time: 18.27s\n",
            "Best model loaded with accuracy: 46.00%\n"
          ]
        },
        {
          "output_type": "display_data",
          "data": {
            "text/plain": [
              "<Figure size 1800x500 with 3 Axes>"
            ],
            "image/png": "[encoded data removed]"
          },
          "metadata": {}
        },
        {
          "output_type": "stream",
          "name": "stdout",
          "text": [
            "LAMB benchmark completed!\n"
          ]
        }
      ]
    }
  ]
}