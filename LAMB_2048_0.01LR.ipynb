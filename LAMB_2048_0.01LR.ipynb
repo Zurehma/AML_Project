{
  "nbformat": 4,
  "nbformat_minor": 0,
  "metadata": {
    "colab": {
      "provenance": [],
      "gpuType": "T4",
      "include_colab_link": true
    },
    "kernelspec": {
      "name": "python3",
      "display_name": "Python 3"
    },
    "language_info": {
      "name": "python"
    },
    "accelerator": "GPU"
  },
  "cells": [
    {
      "cell_type": "markdown",
      "metadata": {
        "id": "view-in-github",
        "colab_type": "text"
      },
      "source": [
        "<a href=\"https://colab.research.google.com/github/Zurehma/AML_Project/blob/zurehma/LAMB_2048_0.01LR.ipynb\" target=\"_parent\"><img src=\"https://colab.research.google.com/assets/colab-badge.svg\" alt=\"Open In Colab\"/></a>"
      ]
    },
    {
      "cell_type": "code",
      "source": [
        "!pip install torch-optimizer"
      ],
      "metadata": {
        "id": "NXyk6PmVw6X8"
      },
      "execution_count": null,
      "outputs": []
    },
    {
      "cell_type": "code",
      "execution_count": 4,
      "metadata": {
        "id": "HqQ4KqXLwvW_",
        "colab": {
          "base_uri": "https://localhost:8080/",
          "height": 1000
        },
        "outputId": "698f8ffd-5056-416b-cf84-6b02109f0afe"
      },
      "outputs": [
        {
          "output_type": "stream",
          "name": "stdout",
          "text": [
            "PyTorch version: 2.6.0+cu124\n",
            "Using device: cuda:0\n",
            "Running LAMB benchmark with improved_cnn on cifar100...\n",
            "Total parameters: 1,774,052\n",
            "\n",
            "Epoch [1/100] - Learning Rate: 0.001000\n"
          ]
        },
        {
          "output_type": "stream",
          "name": "stderr",
          "text": [
            "Training: 100%|██████████| 25/25 [00:18<00:00,  1.35it/s, loss=4.61, acc=1.28]\n"
          ]
        },
        {
          "output_type": "stream",
          "name": "stdout",
          "text": [
            "Train Loss: 4.6069, Train Acc: 1.28%, Test Loss: 4.5857, Test Acc: 2.77%, Time: 18.58s\n",
            "New best model saved with accuracy: 2.77%\n",
            "\n",
            "Epoch [2/100] - Learning Rate: 0.002000\n"
          ]
        },
        {
          "output_type": "stream",
          "name": "stderr",
          "text": [
            "Training: 100%|██████████| 25/25 [00:17<00:00,  1.44it/s, loss=4.55, acc=2.41]\n"
          ]
        },
        {
          "output_type": "stream",
          "name": "stdout",
          "text": [
            "Train Loss: 4.5487, Train Acc: 2.41%, Test Loss: 4.4248, Test Acc: 4.31%, Time: 17.41s\n",
            "New best model saved with accuracy: 4.31%\n",
            "\n",
            "Epoch [3/100] - Learning Rate: 0.003000\n"
          ]
        },
        {
          "output_type": "stream",
          "name": "stderr",
          "text": [
            "Training: 100%|██████████| 25/25 [00:18<00:00,  1.35it/s, loss=4.41, acc=3.67]\n"
          ]
        },
        {
          "output_type": "stream",
          "name": "stdout",
          "text": [
            "Train Loss: 4.4145, Train Acc: 3.67%, Test Loss: 4.2021, Test Acc: 7.04%, Time: 18.56s\n",
            "New best model saved with accuracy: 7.04%\n",
            "\n",
            "Epoch [4/100] - Learning Rate: 0.004000\n"
          ]
        },
        {
          "output_type": "stream",
          "name": "stderr",
          "text": [
            "Training: 100%|██████████| 25/25 [00:17<00:00,  1.43it/s, loss=4.24, acc=5.57]\n"
          ]
        },
        {
          "output_type": "stream",
          "name": "stdout",
          "text": [
            "Train Loss: 4.2354, Train Acc: 5.57%, Test Loss: 3.9914, Test Acc: 10.38%, Time: 17.53s\n",
            "New best model saved with accuracy: 10.38%\n",
            "\n",
            "Epoch [5/100] - Learning Rate: 0.005000\n"
          ]
        },
        {
          "output_type": "stream",
          "name": "stderr",
          "text": [
            "Training: 100%|██████████| 25/25 [00:17<00:00,  1.41it/s, loss=4.05, acc=7.54]\n"
          ]
        },
        {
          "output_type": "stream",
          "name": "stdout",
          "text": [
            "Train Loss: 4.0519, Train Acc: 7.54%, Test Loss: 3.7603, Test Acc: 14.84%, Time: 17.74s\n",
            "New best model saved with accuracy: 14.84%\n",
            "\n",
            "Epoch [6/100] - Learning Rate: 0.006000\n"
          ]
        },
        {
          "output_type": "stream",
          "name": "stderr",
          "text": [
            "Training: 100%|██████████| 25/25 [00:17<00:00,  1.39it/s, loss=3.87, acc=9.82]\n"
          ]
        },
        {
          "output_type": "stream",
          "name": "stdout",
          "text": [
            "Train Loss: 3.8729, Train Acc: 9.82%, Test Loss: 3.5051, Test Acc: 17.41%, Time: 17.94s\n",
            "New best model saved with accuracy: 17.41%\n",
            "\n",
            "Epoch [7/100] - Learning Rate: 0.007000\n"
          ]
        },
        {
          "output_type": "stream",
          "name": "stderr",
          "text": [
            "Training: 100%|██████████| 25/25 [00:17<00:00,  1.42it/s, loss=3.72, acc=12.1]\n"
          ]
        },
        {
          "output_type": "stream",
          "name": "stdout",
          "text": [
            "Train Loss: 3.7160, Train Acc: 12.08%, Test Loss: 3.3684, Test Acc: 19.35%, Time: 17.60s\n",
            "New best model saved with accuracy: 19.35%\n",
            "\n",
            "Epoch [8/100] - Learning Rate: 0.008000\n"
          ]
        },
        {
          "output_type": "stream",
          "name": "stderr",
          "text": [
            "Training: 100%|██████████| 25/25 [00:18<00:00,  1.34it/s, loss=3.56, acc=14.6]\n"
          ]
        },
        {
          "output_type": "stream",
          "name": "stdout",
          "text": [
            "Train Loss: 3.5609, Train Acc: 14.62%, Test Loss: 3.2114, Test Acc: 22.15%, Time: 18.65s\n",
            "New best model saved with accuracy: 22.15%\n",
            "\n",
            "Epoch [9/100] - Learning Rate: 0.009000\n"
          ]
        },
        {
          "output_type": "stream",
          "name": "stderr",
          "text": [
            "Training: 100%|██████████| 25/25 [00:17<00:00,  1.42it/s, loss=3.44, acc=16.8]\n"
          ]
        },
        {
          "output_type": "stream",
          "name": "stdout",
          "text": [
            "Train Loss: 3.4373, Train Acc: 16.82%, Test Loss: 3.0849, Test Acc: 23.47%, Time: 17.63s\n",
            "New best model saved with accuracy: 23.47%\n",
            "\n",
            "Epoch [10/100] - Learning Rate: 0.010000\n"
          ]
        },
        {
          "output_type": "stream",
          "name": "stderr",
          "text": [
            "Training: 100%|██████████| 25/25 [00:18<00:00,  1.34it/s, loss=3.33, acc=18.7]\n"
          ]
        },
        {
          "output_type": "stream",
          "name": "stdout",
          "text": [
            "Train Loss: 3.3299, Train Acc: 18.67%, Test Loss: 2.9569, Test Acc: 26.07%, Time: 18.66s\n",
            "New best model saved with accuracy: 26.07%\n",
            "\n",
            "Epoch [11/100] - Learning Rate: 0.010000\n"
          ]
        },
        {
          "output_type": "stream",
          "name": "stderr",
          "text": [
            "Training: 100%|██████████| 25/25 [00:17<00:00,  1.42it/s, loss=3.24, acc=20.1]\n"
          ]
        },
        {
          "output_type": "stream",
          "name": "stdout",
          "text": [
            "Train Loss: 3.2427, Train Acc: 20.14%, Test Loss: 2.8510, Test Acc: 28.26%, Time: 17.62s\n",
            "New best model saved with accuracy: 28.26%\n",
            "\n",
            "Epoch [12/100] - Learning Rate: 0.009997\n"
          ]
        },
        {
          "output_type": "stream",
          "name": "stderr",
          "text": [
            "Training: 100%|██████████| 25/25 [00:17<00:00,  1.41it/s, loss=3.17, acc=21.7]\n"
          ]
        },
        {
          "output_type": "stream",
          "name": "stdout",
          "text": [
            "Train Loss: 3.1687, Train Acc: 21.71%, Test Loss: 2.7640, Test Acc: 30.30%, Time: 17.69s\n",
            "New best model saved with accuracy: 30.30%\n",
            "\n",
            "Epoch [13/100] - Learning Rate: 0.009988\n"
          ]
        },
        {
          "output_type": "stream",
          "name": "stderr",
          "text": [
            "Training: 100%|██████████| 25/25 [00:18<00:00,  1.35it/s, loss=3.11, acc=22.3]\n"
          ]
        },
        {
          "output_type": "stream",
          "name": "stdout",
          "text": [
            "Train Loss: 3.1147, Train Acc: 22.29%, Test Loss: 2.8030, Test Acc: 28.87%, Time: 18.53s\n",
            "\n",
            "Epoch [14/100] - Learning Rate: 0.009973\n"
          ]
        },
        {
          "output_type": "stream",
          "name": "stderr",
          "text": [
            "Training: 100%|██████████| 25/25 [00:17<00:00,  1.42it/s, loss=3.07, acc=23.4]\n"
          ]
        },
        {
          "output_type": "stream",
          "name": "stdout",
          "text": [
            "Train Loss: 3.0658, Train Acc: 23.38%, Test Loss: 2.6823, Test Acc: 31.67%, Time: 17.65s\n",
            "New best model saved with accuracy: 31.67%\n",
            "\n",
            "Epoch [15/100] - Learning Rate: 0.009951\n"
          ]
        },
        {
          "output_type": "stream",
          "name": "stderr",
          "text": [
            "Training: 100%|██████████| 25/25 [00:18<00:00,  1.33it/s, loss=3.01, acc=24.6]\n"
          ]
        },
        {
          "output_type": "stream",
          "name": "stdout",
          "text": [
            "Train Loss: 3.0115, Train Acc: 24.63%, Test Loss: 2.6617, Test Acc: 32.09%, Time: 18.82s\n",
            "New best model saved with accuracy: 32.09%\n",
            "\n",
            "Epoch [16/100] - Learning Rate: 0.009924\n"
          ]
        },
        {
          "output_type": "stream",
          "name": "stderr",
          "text": [
            "Training: 100%|██████████| 25/25 [00:17<00:00,  1.39it/s, loss=2.99, acc=25.3]\n"
          ]
        },
        {
          "output_type": "stream",
          "name": "stdout",
          "text": [
            "Train Loss: 2.9874, Train Acc: 25.29%, Test Loss: 2.5914, Test Acc: 33.25%, Time: 18.00s\n",
            "New best model saved with accuracy: 33.25%\n",
            "\n",
            "Epoch [17/100] - Learning Rate: 0.009891\n"
          ]
        },
        {
          "output_type": "stream",
          "name": "stderr",
          "text": [
            "Training: 100%|██████████| 25/25 [00:17<00:00,  1.42it/s, loss=2.93, acc=26.2]\n"
          ]
        },
        {
          "output_type": "stream",
          "name": "stdout",
          "text": [
            "Train Loss: 2.9267, Train Acc: 26.16%, Test Loss: 2.5388, Test Acc: 35.05%, Time: 17.66s\n",
            "New best model saved with accuracy: 35.05%\n",
            "\n",
            "Epoch [18/100] - Learning Rate: 0.009851\n"
          ]
        },
        {
          "output_type": "stream",
          "name": "stderr",
          "text": [
            "Training: 100%|██████████| 25/25 [00:18<00:00,  1.35it/s, loss=2.9, acc=26.9]\n"
          ]
        },
        {
          "output_type": "stream",
          "name": "stdout",
          "text": [
            "Train Loss: 2.8964, Train Acc: 26.90%, Test Loss: 2.5349, Test Acc: 33.82%, Time: 18.50s\n",
            "\n",
            "Epoch [19/100] - Learning Rate: 0.009806\n"
          ]
        },
        {
          "output_type": "stream",
          "name": "stderr",
          "text": [
            "Training: 100%|██████████| 25/25 [00:17<00:00,  1.43it/s, loss=2.88, acc=27.2]\n"
          ]
        },
        {
          "output_type": "stream",
          "name": "stdout",
          "text": [
            "Train Loss: 2.8810, Train Acc: 27.19%, Test Loss: 2.4867, Test Acc: 35.77%, Time: 17.52s\n",
            "New best model saved with accuracy: 35.77%\n",
            "\n",
            "Epoch [20/100] - Learning Rate: 0.009755\n"
          ]
        },
        {
          "output_type": "stream",
          "name": "stderr",
          "text": [
            "Training: 100%|██████████| 25/25 [00:18<00:00,  1.34it/s, loss=2.84, acc=27.9]\n"
          ]
        },
        {
          "output_type": "stream",
          "name": "stdout",
          "text": [
            "Train Loss: 2.8442, Train Acc: 27.91%, Test Loss: 2.5324, Test Acc: 35.86%, Time: 18.60s\n",
            "New best model saved with accuracy: 35.86%\n",
            "\n",
            "Epoch [21/100] - Learning Rate: 0.009698\n"
          ]
        },
        {
          "output_type": "stream",
          "name": "stderr",
          "text": [
            "Training: 100%|██████████| 25/25 [00:17<00:00,  1.42it/s, loss=2.81, acc=28.5]\n"
          ]
        },
        {
          "output_type": "stream",
          "name": "stdout",
          "text": [
            "Train Loss: 2.8149, Train Acc: 28.52%, Test Loss: 2.4876, Test Acc: 34.98%, Time: 17.61s\n",
            "\n",
            "Epoch [22/100] - Learning Rate: 0.009636\n"
          ]
        },
        {
          "output_type": "stream",
          "name": "stderr",
          "text": [
            "Training: 100%|██████████| 25/25 [00:17<00:00,  1.39it/s, loss=2.8, acc=28.8]\n"
          ]
        },
        {
          "output_type": "stream",
          "name": "stdout",
          "text": [
            "Train Loss: 2.7968, Train Acc: 28.79%, Test Loss: 2.4200, Test Acc: 37.06%, Time: 17.99s\n",
            "New best model saved with accuracy: 37.06%\n",
            "\n",
            "Epoch [23/100] - Learning Rate: 0.009568\n"
          ]
        },
        {
          "output_type": "stream",
          "name": "stderr",
          "text": [
            "Training: 100%|██████████| 25/25 [00:17<00:00,  1.40it/s, loss=2.77, acc=29.4]\n"
          ]
        },
        {
          "output_type": "stream",
          "name": "stdout",
          "text": [
            "Train Loss: 2.7695, Train Acc: 29.45%, Test Loss: 2.4543, Test Acc: 36.15%, Time: 17.88s\n",
            "\n",
            "Epoch [24/100] - Learning Rate: 0.009494\n"
          ]
        },
        {
          "output_type": "stream",
          "name": "stderr",
          "text": [
            "Training: 100%|██████████| 25/25 [00:17<00:00,  1.41it/s, loss=2.75, acc=29.6]\n"
          ]
        },
        {
          "output_type": "stream",
          "name": "stdout",
          "text": [
            "Train Loss: 2.7525, Train Acc: 29.62%, Test Loss: 2.4813, Test Acc: 35.65%, Time: 17.68s\n",
            "\n",
            "Epoch [25/100] - Learning Rate: 0.009415\n"
          ]
        },
        {
          "output_type": "stream",
          "name": "stderr",
          "text": [
            "Training: 100%|██████████| 25/25 [00:18<00:00,  1.34it/s, loss=2.73, acc=30.2]\n"
          ]
        },
        {
          "output_type": "stream",
          "name": "stdout",
          "text": [
            "Train Loss: 2.7274, Train Acc: 30.21%, Test Loss: 2.4100, Test Acc: 37.12%, Time: 18.63s\n",
            "New best model saved with accuracy: 37.12%\n",
            "\n",
            "Epoch [26/100] - Learning Rate: 0.009330\n"
          ]
        },
        {
          "output_type": "stream",
          "name": "stderr",
          "text": [
            "Training: 100%|██████████| 25/25 [00:17<00:00,  1.44it/s, loss=2.71, acc=30.7]\n"
          ]
        },
        {
          "output_type": "stream",
          "name": "stdout",
          "text": [
            "Train Loss: 2.7129, Train Acc: 30.72%, Test Loss: 2.3513, Test Acc: 37.78%, Time: 17.40s\n",
            "New best model saved with accuracy: 37.78%\n",
            "\n",
            "Epoch [27/100] - Learning Rate: 0.009240\n"
          ]
        },
        {
          "output_type": "stream",
          "name": "stderr",
          "text": [
            "Training: 100%|██████████| 25/25 [00:18<00:00,  1.36it/s, loss=2.69, acc=31.1]\n"
          ]
        },
        {
          "output_type": "stream",
          "name": "stdout",
          "text": [
            "Train Loss: 2.6874, Train Acc: 31.09%, Test Loss: 2.3626, Test Acc: 39.00%, Time: 18.42s\n",
            "New best model saved with accuracy: 39.00%\n",
            "\n",
            "Epoch [28/100] - Learning Rate: 0.009145\n"
          ]
        },
        {
          "output_type": "stream",
          "name": "stderr",
          "text": [
            "Training: 100%|██████████| 25/25 [00:17<00:00,  1.44it/s, loss=2.66, acc=31.6]\n"
          ]
        },
        {
          "output_type": "stream",
          "name": "stdout",
          "text": [
            "Train Loss: 2.6623, Train Acc: 31.55%, Test Loss: 2.3155, Test Acc: 39.61%, Time: 17.38s\n",
            "New best model saved with accuracy: 39.61%\n",
            "\n",
            "Epoch [29/100] - Learning Rate: 0.009045\n"
          ]
        },
        {
          "output_type": "stream",
          "name": "stderr",
          "text": [
            "Training: 100%|██████████| 25/25 [00:17<00:00,  1.44it/s, loss=2.64, acc=31.8]\n"
          ]
        },
        {
          "output_type": "stream",
          "name": "stdout",
          "text": [
            "Train Loss: 2.6431, Train Acc: 31.82%, Test Loss: 2.3464, Test Acc: 38.67%, Time: 17.32s\n",
            "\n",
            "Epoch [30/100] - Learning Rate: 0.008940\n"
          ]
        },
        {
          "output_type": "stream",
          "name": "stderr",
          "text": [
            "Training: 100%|██████████| 25/25 [00:17<00:00,  1.40it/s, loss=2.64, acc=32.1]\n"
          ]
        },
        {
          "output_type": "stream",
          "name": "stdout",
          "text": [
            "Train Loss: 2.6350, Train Acc: 32.09%, Test Loss: 2.2313, Test Acc: 40.93%, Time: 17.86s\n",
            "New best model saved with accuracy: 40.93%\n",
            "\n",
            "Epoch [31/100] - Learning Rate: 0.008830\n"
          ]
        },
        {
          "output_type": "stream",
          "name": "stderr",
          "text": [
            "Training: 100%|██████████| 25/25 [00:17<00:00,  1.44it/s, loss=2.59, acc=33.1]\n"
          ]
        },
        {
          "output_type": "stream",
          "name": "stdout",
          "text": [
            "Train Loss: 2.5883, Train Acc: 33.06%, Test Loss: 2.2086, Test Acc: 41.44%, Time: 17.41s\n",
            "New best model saved with accuracy: 41.44%\n",
            "\n",
            "Epoch [32/100] - Learning Rate: 0.008716\n"
          ]
        },
        {
          "output_type": "stream",
          "name": "stderr",
          "text": [
            "Training: 100%|██████████| 25/25 [00:18<00:00,  1.36it/s, loss=2.6, acc=32.8]\n"
          ]
        },
        {
          "output_type": "stream",
          "name": "stdout",
          "text": [
            "Train Loss: 2.5965, Train Acc: 32.79%, Test Loss: 2.3458, Test Acc: 39.08%, Time: 18.45s\n",
            "\n",
            "Epoch [33/100] - Learning Rate: 0.008597\n"
          ]
        },
        {
          "output_type": "stream",
          "name": "stderr",
          "text": [
            "Training: 100%|██████████| 25/25 [00:17<00:00,  1.43it/s, loss=2.56, acc=33.6]\n"
          ]
        },
        {
          "output_type": "stream",
          "name": "stdout",
          "text": [
            "Train Loss: 2.5634, Train Acc: 33.60%, Test Loss: 2.1929, Test Acc: 41.54%, Time: 17.43s\n",
            "New best model saved with accuracy: 41.54%\n",
            "\n",
            "Epoch [34/100] - Learning Rate: 0.008473\n"
          ]
        },
        {
          "output_type": "stream",
          "name": "stderr",
          "text": [
            "Training: 100%|██████████| 25/25 [00:18<00:00,  1.35it/s, loss=2.54, acc=34.2]\n"
          ]
        },
        {
          "output_type": "stream",
          "name": "stdout",
          "text": [
            "Train Loss: 2.5355, Train Acc: 34.21%, Test Loss: 2.1961, Test Acc: 41.31%, Time: 18.55s\n",
            "\n",
            "Epoch [35/100] - Learning Rate: 0.008346\n"
          ]
        },
        {
          "output_type": "stream",
          "name": "stderr",
          "text": [
            "Training: 100%|██████████| 25/25 [00:17<00:00,  1.44it/s, loss=2.52, acc=34.3]\n"
          ]
        },
        {
          "output_type": "stream",
          "name": "stdout",
          "text": [
            "Train Loss: 2.5202, Train Acc: 34.29%, Test Loss: 2.2036, Test Acc: 42.41%, Time: 17.41s\n",
            "New best model saved with accuracy: 42.41%\n",
            "\n",
            "Epoch [36/100] - Learning Rate: 0.008214\n"
          ]
        },
        {
          "output_type": "stream",
          "name": "stderr",
          "text": [
            "Training: 100%|██████████| 25/25 [00:17<00:00,  1.42it/s, loss=2.51, acc=34.6]\n"
          ]
        },
        {
          "output_type": "stream",
          "name": "stdout",
          "text": [
            "Train Loss: 2.5066, Train Acc: 34.59%, Test Loss: 2.1513, Test Acc: 42.13%, Time: 17.66s\n",
            "\n",
            "Epoch [37/100] - Learning Rate: 0.008078\n"
          ]
        },
        {
          "output_type": "stream",
          "name": "stderr",
          "text": [
            "Training: 100%|██████████| 25/25 [00:18<00:00,  1.38it/s, loss=2.51, acc=34.5]\n"
          ]
        },
        {
          "output_type": "stream",
          "name": "stdout",
          "text": [
            "Train Loss: 2.5080, Train Acc: 34.52%, Test Loss: 2.2431, Test Acc: 40.60%, Time: 18.07s\n",
            "\n",
            "Epoch [38/100] - Learning Rate: 0.007939\n"
          ]
        },
        {
          "output_type": "stream",
          "name": "stderr",
          "text": [
            "Training: 100%|██████████| 25/25 [00:17<00:00,  1.43it/s, loss=2.47, acc=35.2]\n"
          ]
        },
        {
          "output_type": "stream",
          "name": "stdout",
          "text": [
            "Train Loss: 2.4739, Train Acc: 35.20%, Test Loss: 2.1089, Test Acc: 43.85%, Time: 17.45s\n",
            "New best model saved with accuracy: 43.85%\n",
            "\n",
            "Epoch [39/100] - Learning Rate: 0.007796\n"
          ]
        },
        {
          "output_type": "stream",
          "name": "stderr",
          "text": [
            "Training: 100%|██████████| 25/25 [00:18<00:00,  1.33it/s, loss=2.44, acc=36]\n"
          ]
        },
        {
          "output_type": "stream",
          "name": "stdout",
          "text": [
            "Train Loss: 2.4435, Train Acc: 35.98%, Test Loss: 2.0810, Test Acc: 44.91%, Time: 18.77s\n",
            "New best model saved with accuracy: 44.91%\n",
            "\n",
            "Epoch [40/100] - Learning Rate: 0.007650\n"
          ]
        },
        {
          "output_type": "stream",
          "name": "stderr",
          "text": [
            "Training: 100%|██████████| 25/25 [00:17<00:00,  1.43it/s, loss=2.43, acc=36.2]\n"
          ]
        },
        {
          "output_type": "stream",
          "name": "stdout",
          "text": [
            "Train Loss: 2.4286, Train Acc: 36.18%, Test Loss: 2.1245, Test Acc: 43.41%, Time: 17.52s\n",
            "\n",
            "Epoch [41/100] - Learning Rate: 0.007500\n"
          ]
        },
        {
          "output_type": "stream",
          "name": "stderr",
          "text": [
            "Training: 100%|██████████| 25/25 [00:18<00:00,  1.35it/s, loss=2.42, acc=36.5]\n"
          ]
        },
        {
          "output_type": "stream",
          "name": "stdout",
          "text": [
            "Train Loss: 2.4215, Train Acc: 36.54%, Test Loss: 2.1321, Test Acc: 43.15%, Time: 18.56s\n",
            "\n",
            "Epoch [42/100] - Learning Rate: 0.007347\n"
          ]
        },
        {
          "output_type": "stream",
          "name": "stderr",
          "text": [
            "Training: 100%|██████████| 25/25 [00:17<00:00,  1.44it/s, loss=2.42, acc=36.8]\n"
          ]
        },
        {
          "output_type": "stream",
          "name": "stdout",
          "text": [
            "Train Loss: 2.4159, Train Acc: 36.85%, Test Loss: 2.1830, Test Acc: 42.54%, Time: 17.40s\n",
            "\n",
            "Epoch [43/100] - Learning Rate: 0.007192\n"
          ]
        },
        {
          "output_type": "stream",
          "name": "stderr",
          "text": [
            "Training: 100%|██████████| 25/25 [00:17<00:00,  1.43it/s, loss=2.4, acc=37.1]\n"
          ]
        },
        {
          "output_type": "stream",
          "name": "stdout",
          "text": [
            "Train Loss: 2.3999, Train Acc: 37.11%, Test Loss: 2.0464, Test Acc: 45.11%, Time: 17.55s\n",
            "New best model saved with accuracy: 45.11%\n",
            "\n",
            "Epoch [44/100] - Learning Rate: 0.007034\n"
          ]
        },
        {
          "output_type": "stream",
          "name": "stderr",
          "text": [
            "Training: 100%|██████████| 25/25 [00:18<00:00,  1.37it/s, loss=2.37, acc=37.6]\n"
          ]
        },
        {
          "output_type": "stream",
          "name": "stdout",
          "text": [
            "Train Loss: 2.3672, Train Acc: 37.65%, Test Loss: 2.0168, Test Acc: 46.30%, Time: 18.32s\n",
            "New best model saved with accuracy: 46.30%\n",
            "\n",
            "Epoch [45/100] - Learning Rate: 0.006873\n"
          ]
        },
        {
          "output_type": "stream",
          "name": "stderr",
          "text": [
            "Training: 100%|██████████| 25/25 [00:17<00:00,  1.41it/s, loss=2.35, acc=37.9]\n"
          ]
        },
        {
          "output_type": "stream",
          "name": "stdout",
          "text": [
            "Train Loss: 2.3510, Train Acc: 37.86%, Test Loss: 2.1240, Test Acc: 44.04%, Time: 17.71s\n",
            "\n",
            "Epoch [46/100] - Learning Rate: 0.006710\n"
          ]
        },
        {
          "output_type": "stream",
          "name": "stderr",
          "text": [
            "Training: 100%|██████████| 25/25 [00:18<00:00,  1.34it/s, loss=2.36, acc=37.8]\n"
          ]
        },
        {
          "output_type": "stream",
          "name": "stdout",
          "text": [
            "Train Loss: 2.3564, Train Acc: 37.77%, Test Loss: 2.0066, Test Acc: 46.12%, Time: 18.69s\n",
            "\n",
            "Epoch [47/100] - Learning Rate: 0.006545\n"
          ]
        },
        {
          "output_type": "stream",
          "name": "stderr",
          "text": [
            "Training: 100%|██████████| 25/25 [00:17<00:00,  1.41it/s, loss=2.33, acc=38.3]\n"
          ]
        },
        {
          "output_type": "stream",
          "name": "stdout",
          "text": [
            "Train Loss: 2.3284, Train Acc: 38.25%, Test Loss: 2.0592, Test Acc: 45.89%, Time: 17.70s\n",
            "\n",
            "Epoch [48/100] - Learning Rate: 0.006378\n"
          ]
        },
        {
          "output_type": "stream",
          "name": "stderr",
          "text": [
            "Training: 100%|██████████| 25/25 [00:18<00:00,  1.32it/s, loss=2.32, acc=38.6]\n"
          ]
        },
        {
          "output_type": "stream",
          "name": "stdout",
          "text": [
            "Train Loss: 2.3194, Train Acc: 38.62%, Test Loss: 2.0110, Test Acc: 45.90%, Time: 18.94s\n",
            "\n",
            "Epoch [49/100] - Learning Rate: 0.006210\n"
          ]
        },
        {
          "output_type": "stream",
          "name": "stderr",
          "text": [
            "Training: 100%|██████████| 25/25 [00:17<00:00,  1.39it/s, loss=2.3, acc=38.9]\n"
          ]
        },
        {
          "output_type": "stream",
          "name": "stdout",
          "text": [
            "Train Loss: 2.2964, Train Acc: 38.89%, Test Loss: 1.9982, Test Acc: 46.48%, Time: 17.96s\n",
            "New best model saved with accuracy: 46.48%\n",
            "\n",
            "Epoch [50/100] - Learning Rate: 0.006040\n"
          ]
        },
        {
          "output_type": "stream",
          "name": "stderr",
          "text": [
            "Training: 100%|██████████| 25/25 [00:17<00:00,  1.41it/s, loss=2.29, acc=39.2]\n"
          ]
        },
        {
          "output_type": "stream",
          "name": "stdout",
          "text": [
            "Train Loss: 2.2923, Train Acc: 39.24%, Test Loss: 2.0147, Test Acc: 45.74%, Time: 17.73s\n",
            "\n",
            "Epoch [51/100] - Learning Rate: 0.005868\n"
          ]
        },
        {
          "output_type": "stream",
          "name": "stderr",
          "text": [
            "Training: 100%|██████████| 25/25 [00:18<00:00,  1.33it/s, loss=2.27, acc=39.4]\n"
          ]
        },
        {
          "output_type": "stream",
          "name": "stdout",
          "text": [
            "Train Loss: 2.2742, Train Acc: 39.44%, Test Loss: 1.9503, Test Acc: 47.51%, Time: 18.76s\n",
            "New best model saved with accuracy: 47.51%\n",
            "\n",
            "Epoch [52/100] - Learning Rate: 0.005696\n"
          ]
        },
        {
          "output_type": "stream",
          "name": "stderr",
          "text": [
            "Training: 100%|██████████| 25/25 [00:17<00:00,  1.41it/s, loss=2.26, acc=40]\n"
          ]
        },
        {
          "output_type": "stream",
          "name": "stdout",
          "text": [
            "Train Loss: 2.2575, Train Acc: 40.02%, Test Loss: 1.9897, Test Acc: 46.55%, Time: 17.76s\n",
            "\n",
            "Epoch [53/100] - Learning Rate: 0.005523\n"
          ]
        },
        {
          "output_type": "stream",
          "name": "stderr",
          "text": [
            "Training: 100%|██████████| 25/25 [00:18<00:00,  1.34it/s, loss=2.25, acc=39.8]\n"
          ]
        },
        {
          "output_type": "stream",
          "name": "stdout",
          "text": [
            "Train Loss: 2.2547, Train Acc: 39.83%, Test Loss: 1.9265, Test Acc: 48.33%, Time: 18.70s\n",
            "New best model saved with accuracy: 48.33%\n",
            "\n",
            "Epoch [54/100] - Learning Rate: 0.005349\n"
          ]
        },
        {
          "output_type": "stream",
          "name": "stderr",
          "text": [
            "Training: 100%|██████████| 25/25 [00:18<00:00,  1.39it/s, loss=2.25, acc=40.3]\n"
          ]
        },
        {
          "output_type": "stream",
          "name": "stdout",
          "text": [
            "Train Loss: 2.2502, Train Acc: 40.32%, Test Loss: 1.9534, Test Acc: 47.16%, Time: 18.04s\n",
            "\n",
            "Epoch [55/100] - Learning Rate: 0.005174\n"
          ]
        },
        {
          "output_type": "stream",
          "name": "stderr",
          "text": [
            "Training: 100%|██████████| 25/25 [00:17<00:00,  1.40it/s, loss=2.23, acc=40.5]\n"
          ]
        },
        {
          "output_type": "stream",
          "name": "stdout",
          "text": [
            "Train Loss: 2.2282, Train Acc: 40.53%, Test Loss: 1.9127, Test Acc: 48.45%, Time: 17.92s\n",
            "New best model saved with accuracy: 48.45%\n",
            "\n",
            "Epoch [56/100] - Learning Rate: 0.005000\n"
          ]
        },
        {
          "output_type": "stream",
          "name": "stderr",
          "text": [
            "Training: 100%|██████████| 25/25 [00:19<00:00,  1.32it/s, loss=2.21, acc=41]\n"
          ]
        },
        {
          "output_type": "stream",
          "name": "stdout",
          "text": [
            "Train Loss: 2.2093, Train Acc: 41.01%, Test Loss: 1.9296, Test Acc: 47.68%, Time: 19.01s\n",
            "\n",
            "Epoch [57/100] - Learning Rate: 0.004826\n"
          ]
        },
        {
          "output_type": "stream",
          "name": "stderr",
          "text": [
            "Training: 100%|██████████| 25/25 [00:17<00:00,  1.42it/s, loss=2.21, acc=41.1]\n"
          ]
        },
        {
          "output_type": "stream",
          "name": "stdout",
          "text": [
            "Train Loss: 2.2089, Train Acc: 41.09%, Test Loss: 1.8940, Test Acc: 49.02%, Time: 17.68s\n",
            "New best model saved with accuracy: 49.02%\n",
            "\n",
            "Epoch [58/100] - Learning Rate: 0.004651\n"
          ]
        },
        {
          "output_type": "stream",
          "name": "stderr",
          "text": [
            "Training: 100%|██████████| 25/25 [00:19<00:00,  1.31it/s, loss=2.2, acc=41.3]\n"
          ]
        },
        {
          "output_type": "stream",
          "name": "stdout",
          "text": [
            "Train Loss: 2.1984, Train Acc: 41.33%, Test Loss: 1.9171, Test Acc: 48.43%, Time: 19.10s\n",
            "\n",
            "Epoch [59/100] - Learning Rate: 0.004477\n"
          ]
        },
        {
          "output_type": "stream",
          "name": "stderr",
          "text": [
            "Training: 100%|██████████| 25/25 [00:18<00:00,  1.39it/s, loss=2.18, acc=41.7]\n"
          ]
        },
        {
          "output_type": "stream",
          "name": "stdout",
          "text": [
            "Train Loss: 2.1829, Train Acc: 41.73%, Test Loss: 1.8814, Test Acc: 48.95%, Time: 18.04s\n",
            "\n",
            "Epoch [60/100] - Learning Rate: 0.004304\n"
          ]
        },
        {
          "output_type": "stream",
          "name": "stderr",
          "text": [
            "Training: 100%|██████████| 25/25 [00:17<00:00,  1.40it/s, loss=2.16, acc=42.2]\n"
          ]
        },
        {
          "output_type": "stream",
          "name": "stdout",
          "text": [
            "Train Loss: 2.1587, Train Acc: 42.24%, Test Loss: 1.8854, Test Acc: 48.71%, Time: 17.91s\n",
            "\n",
            "Epoch [61/100] - Learning Rate: 0.004132\n"
          ]
        },
        {
          "output_type": "stream",
          "name": "stderr",
          "text": [
            "Training: 100%|██████████| 25/25 [00:18<00:00,  1.33it/s, loss=2.17, acc=42]\n"
          ]
        },
        {
          "output_type": "stream",
          "name": "stdout",
          "text": [
            "Train Loss: 2.1704, Train Acc: 42.03%, Test Loss: 1.8745, Test Acc: 49.46%, Time: 18.82s\n",
            "New best model saved with accuracy: 49.46%\n",
            "\n",
            "Epoch [62/100] - Learning Rate: 0.003960\n"
          ]
        },
        {
          "output_type": "stream",
          "name": "stderr",
          "text": [
            "Training: 100%|██████████| 25/25 [00:17<00:00,  1.40it/s, loss=2.16, acc=42.3]\n"
          ]
        },
        {
          "output_type": "stream",
          "name": "stdout",
          "text": [
            "Train Loss: 2.1649, Train Acc: 42.28%, Test Loss: 1.8679, Test Acc: 49.65%, Time: 17.92s\n",
            "New best model saved with accuracy: 49.65%\n",
            "\n",
            "Epoch [63/100] - Learning Rate: 0.003790\n"
          ]
        },
        {
          "output_type": "stream",
          "name": "stderr",
          "text": [
            "Training: 100%|██████████| 25/25 [00:18<00:00,  1.36it/s, loss=2.14, acc=42.4]\n"
          ]
        },
        {
          "output_type": "stream",
          "name": "stdout",
          "text": [
            "Train Loss: 2.1424, Train Acc: 42.38%, Test Loss: 1.8588, Test Acc: 49.29%, Time: 18.40s\n",
            "\n",
            "Epoch [64/100] - Learning Rate: 0.003622\n"
          ]
        },
        {
          "output_type": "stream",
          "name": "stderr",
          "text": [
            "Training: 100%|██████████| 25/25 [00:17<00:00,  1.43it/s, loss=2.13, acc=42.7]\n"
          ]
        },
        {
          "output_type": "stream",
          "name": "stdout",
          "text": [
            "Train Loss: 2.1297, Train Acc: 42.71%, Test Loss: 1.8603, Test Acc: 49.60%, Time: 17.46s\n",
            "\n",
            "Epoch [65/100] - Learning Rate: 0.003455\n"
          ]
        },
        {
          "output_type": "stream",
          "name": "stderr",
          "text": [
            "Training: 100%|██████████| 25/25 [00:17<00:00,  1.43it/s, loss=2.12, acc=42.6]\n"
          ]
        },
        {
          "output_type": "stream",
          "name": "stdout",
          "text": [
            "Train Loss: 2.1249, Train Acc: 42.62%, Test Loss: 1.8718, Test Acc: 49.51%, Time: 17.50s\n",
            "\n",
            "Epoch [66/100] - Learning Rate: 0.003290\n"
          ]
        },
        {
          "output_type": "stream",
          "name": "stderr",
          "text": [
            "Training: 100%|██████████| 25/25 [00:18<00:00,  1.37it/s, loss=2.12, acc=42.9]\n"
          ]
        },
        {
          "output_type": "stream",
          "name": "stdout",
          "text": [
            "Train Loss: 2.1172, Train Acc: 42.91%, Test Loss: 1.8426, Test Acc: 49.79%, Time: 18.26s\n",
            "New best model saved with accuracy: 49.79%\n",
            "\n",
            "Epoch [67/100] - Learning Rate: 0.003127\n"
          ]
        },
        {
          "output_type": "stream",
          "name": "stderr",
          "text": [
            "Training: 100%|██████████| 25/25 [00:17<00:00,  1.41it/s, loss=2.11, acc=43.2]\n"
          ]
        },
        {
          "output_type": "stream",
          "name": "stdout",
          "text": [
            "Train Loss: 2.1056, Train Acc: 43.19%, Test Loss: 1.8470, Test Acc: 49.69%, Time: 17.70s\n",
            "\n",
            "Epoch [68/100] - Learning Rate: 0.002966\n"
          ]
        },
        {
          "output_type": "stream",
          "name": "stderr",
          "text": [
            "Training: 100%|██████████| 25/25 [00:18<00:00,  1.35it/s, loss=2.1, acc=43.4]\n"
          ]
        },
        {
          "output_type": "stream",
          "name": "stdout",
          "text": [
            "Train Loss: 2.0974, Train Acc: 43.40%, Test Loss: 1.8353, Test Acc: 50.06%, Time: 18.51s\n",
            "New best model saved with accuracy: 50.06%\n",
            "\n",
            "Epoch [69/100] - Learning Rate: 0.002808\n"
          ]
        },
        {
          "output_type": "stream",
          "name": "stderr",
          "text": [
            "Training: 100%|██████████| 25/25 [00:17<00:00,  1.45it/s, loss=2.09, acc=43.6]\n"
          ]
        },
        {
          "output_type": "stream",
          "name": "stdout",
          "text": [
            "Train Loss: 2.0892, Train Acc: 43.63%, Test Loss: 1.8155, Test Acc: 50.98%, Time: 17.25s\n",
            "New best model saved with accuracy: 50.98%\n",
            "\n",
            "Epoch [70/100] - Learning Rate: 0.002653\n"
          ]
        },
        {
          "output_type": "stream",
          "name": "stderr",
          "text": [
            "Training: 100%|██████████| 25/25 [00:18<00:00,  1.36it/s, loss=2.08, acc=44]\n"
          ]
        },
        {
          "output_type": "stream",
          "name": "stdout",
          "text": [
            "Train Loss: 2.0841, Train Acc: 44.00%, Test Loss: 1.8143, Test Acc: 50.71%, Time: 18.42s\n",
            "\n",
            "Epoch [71/100] - Learning Rate: 0.002500\n"
          ]
        },
        {
          "output_type": "stream",
          "name": "stderr",
          "text": [
            "Training: 100%|██████████| 25/25 [00:17<00:00,  1.41it/s, loss=2.07, acc=44.2]\n"
          ]
        },
        {
          "output_type": "stream",
          "name": "stdout",
          "text": [
            "Train Loss: 2.0717, Train Acc: 44.17%, Test Loss: 1.8065, Test Acc: 50.94%, Time: 17.72s\n",
            "\n",
            "Epoch [72/100] - Learning Rate: 0.002350\n"
          ]
        },
        {
          "output_type": "stream",
          "name": "stderr",
          "text": [
            "Training: 100%|██████████| 25/25 [00:17<00:00,  1.43it/s, loss=2.07, acc=44.3]\n"
          ]
        },
        {
          "output_type": "stream",
          "name": "stdout",
          "text": [
            "Train Loss: 2.0656, Train Acc: 44.27%, Test Loss: 1.8134, Test Acc: 50.71%, Time: 17.55s\n",
            "\n",
            "Epoch [73/100] - Learning Rate: 0.002204\n"
          ]
        },
        {
          "output_type": "stream",
          "name": "stderr",
          "text": [
            "Training: 100%|██████████| 25/25 [00:18<00:00,  1.35it/s, loss=2.06, acc=43.9]\n"
          ]
        },
        {
          "output_type": "stream",
          "name": "stdout",
          "text": [
            "Train Loss: 2.0646, Train Acc: 43.93%, Test Loss: 1.8187, Test Acc: 50.36%, Time: 18.54s\n",
            "\n",
            "Epoch [74/100] - Learning Rate: 0.002061\n"
          ]
        },
        {
          "output_type": "stream",
          "name": "stderr",
          "text": [
            "Training: 100%|██████████| 25/25 [00:17<00:00,  1.42it/s, loss=2.06, acc=44.1]\n"
          ]
        },
        {
          "output_type": "stream",
          "name": "stdout",
          "text": [
            "Train Loss: 2.0623, Train Acc: 44.11%, Test Loss: 1.7938, Test Acc: 50.92%, Time: 17.56s\n",
            "\n",
            "Epoch [75/100] - Learning Rate: 0.001922\n"
          ]
        },
        {
          "output_type": "stream",
          "name": "stderr",
          "text": [
            "Training: 100%|██████████| 25/25 [00:18<00:00,  1.36it/s, loss=2.05, acc=44.7]\n"
          ]
        },
        {
          "output_type": "stream",
          "name": "stdout",
          "text": [
            "Train Loss: 2.0509, Train Acc: 44.68%, Test Loss: 1.7907, Test Acc: 51.03%, Time: 18.37s\n",
            "New best model saved with accuracy: 51.03%\n",
            "\n",
            "Epoch [76/100] - Learning Rate: 0.001786\n"
          ]
        },
        {
          "output_type": "stream",
          "name": "stderr",
          "text": [
            "Training: 100%|██████████| 25/25 [00:17<00:00,  1.42it/s, loss=2.05, acc=44.6]\n"
          ]
        },
        {
          "output_type": "stream",
          "name": "stdout",
          "text": [
            "Train Loss: 2.0457, Train Acc: 44.59%, Test Loss: 1.8071, Test Acc: 51.03%, Time: 17.66s\n",
            "\n",
            "Epoch [77/100] - Learning Rate: 0.001654\n"
          ]
        },
        {
          "output_type": "stream",
          "name": "stderr",
          "text": [
            "Training: 100%|██████████| 25/25 [00:17<00:00,  1.39it/s, loss=2.04, acc=44.8]\n"
          ]
        },
        {
          "output_type": "stream",
          "name": "stdout",
          "text": [
            "Train Loss: 2.0373, Train Acc: 44.79%, Test Loss: 1.7839, Test Acc: 51.24%, Time: 17.94s\n",
            "New best model saved with accuracy: 51.24%\n",
            "\n",
            "Epoch [78/100] - Learning Rate: 0.001527\n"
          ]
        },
        {
          "output_type": "stream",
          "name": "stderr",
          "text": [
            "Training: 100%|██████████| 25/25 [00:17<00:00,  1.44it/s, loss=2.03, acc=44.7]\n"
          ]
        },
        {
          "output_type": "stream",
          "name": "stdout",
          "text": [
            "Train Loss: 2.0347, Train Acc: 44.71%, Test Loss: 1.7849, Test Acc: 51.41%, Time: 17.40s\n",
            "New best model saved with accuracy: 51.41%\n",
            "\n",
            "Epoch [79/100] - Learning Rate: 0.001403\n"
          ]
        },
        {
          "output_type": "stream",
          "name": "stderr",
          "text": [
            "Training: 100%|██████████| 25/25 [00:17<00:00,  1.42it/s, loss=2.02, acc=45]\n"
          ]
        },
        {
          "output_type": "stream",
          "name": "stdout",
          "text": [
            "Train Loss: 2.0247, Train Acc: 44.98%, Test Loss: 1.7772, Test Acc: 51.46%, Time: 17.64s\n",
            "New best model saved with accuracy: 51.46%\n",
            "\n",
            "Epoch [80/100] - Learning Rate: 0.001284\n"
          ]
        },
        {
          "output_type": "stream",
          "name": "stderr",
          "text": [
            "Training: 100%|██████████| 25/25 [00:18<00:00,  1.36it/s, loss=2.02, acc=45.3]\n"
          ]
        },
        {
          "output_type": "stream",
          "name": "stdout",
          "text": [
            "Train Loss: 2.0202, Train Acc: 45.35%, Test Loss: 1.7663, Test Acc: 51.99%, Time: 18.39s\n",
            "New best model saved with accuracy: 51.99%\n",
            "\n",
            "Epoch [81/100] - Learning Rate: 0.001170\n"
          ]
        },
        {
          "output_type": "stream",
          "name": "stderr",
          "text": [
            "Training: 100%|██████████| 25/25 [00:17<00:00,  1.45it/s, loss=2.02, acc=45.2]\n"
          ]
        },
        {
          "output_type": "stream",
          "name": "stdout",
          "text": [
            "Train Loss: 2.0170, Train Acc: 45.20%, Test Loss: 1.7771, Test Acc: 51.80%, Time: 17.25s\n",
            "\n",
            "Epoch [82/100] - Learning Rate: 0.001060\n"
          ]
        },
        {
          "output_type": "stream",
          "name": "stderr",
          "text": [
            "Training: 100%|██████████| 25/25 [00:18<00:00,  1.35it/s, loss=2.01, acc=45.4]\n"
          ]
        },
        {
          "output_type": "stream",
          "name": "stdout",
          "text": [
            "Train Loss: 2.0110, Train Acc: 45.40%, Test Loss: 1.7651, Test Acc: 51.86%, Time: 18.52s\n",
            "\n",
            "Epoch [83/100] - Learning Rate: 0.000955\n"
          ]
        },
        {
          "output_type": "stream",
          "name": "stderr",
          "text": [
            "Training: 100%|██████████| 25/25 [00:17<00:00,  1.43it/s, loss=2.01, acc=45.4]\n"
          ]
        },
        {
          "output_type": "stream",
          "name": "stdout",
          "text": [
            "Train Loss: 2.0102, Train Acc: 45.38%, Test Loss: 1.7661, Test Acc: 51.91%, Time: 17.44s\n",
            "\n",
            "Epoch [84/100] - Learning Rate: 0.000855\n"
          ]
        },
        {
          "output_type": "stream",
          "name": "stderr",
          "text": [
            "Training: 100%|██████████| 25/25 [00:18<00:00,  1.38it/s, loss=2.01, acc=45.6]\n"
          ]
        },
        {
          "output_type": "stream",
          "name": "stdout",
          "text": [
            "Train Loss: 2.0056, Train Acc: 45.59%, Test Loss: 1.7634, Test Acc: 51.97%, Time: 18.18s\n",
            "\n",
            "Epoch [85/100] - Learning Rate: 0.000760\n"
          ]
        },
        {
          "output_type": "stream",
          "name": "stderr",
          "text": [
            "Training: 100%|██████████| 25/25 [00:17<00:00,  1.43it/s, loss=2, acc=45.5]\n"
          ]
        },
        {
          "output_type": "stream",
          "name": "stdout",
          "text": [
            "Train Loss: 2.0045, Train Acc: 45.53%, Test Loss: 1.7639, Test Acc: 52.08%, Time: 17.44s\n",
            "New best model saved with accuracy: 52.08%\n",
            "\n",
            "Epoch [86/100] - Learning Rate: 0.000670\n"
          ]
        },
        {
          "output_type": "stream",
          "name": "stderr",
          "text": [
            "Training: 100%|██████████| 25/25 [00:17<00:00,  1.43it/s, loss=2.01, acc=45.5]\n"
          ]
        },
        {
          "output_type": "stream",
          "name": "stdout",
          "text": [
            "Train Loss: 2.0061, Train Acc: 45.52%, Test Loss: 1.7591, Test Acc: 51.97%, Time: 17.53s\n",
            "\n",
            "Epoch [87/100] - Learning Rate: 0.000585\n"
          ]
        },
        {
          "output_type": "stream",
          "name": "stderr",
          "text": [
            "Training: 100%|██████████| 25/25 [00:18<00:00,  1.38it/s, loss=2.01, acc=45.6]\n"
          ]
        },
        {
          "output_type": "stream",
          "name": "stdout",
          "text": [
            "Train Loss: 2.0101, Train Acc: 45.57%, Test Loss: 1.7562, Test Acc: 52.05%, Time: 18.19s\n",
            "\n",
            "Epoch [88/100] - Learning Rate: 0.000506\n"
          ]
        },
        {
          "output_type": "stream",
          "name": "stderr",
          "text": [
            "Training: 100%|██████████| 25/25 [00:17<00:00,  1.44it/s, loss=1.99, acc=46.1]\n"
          ]
        },
        {
          "output_type": "stream",
          "name": "stdout",
          "text": [
            "Train Loss: 1.9911, Train Acc: 46.07%, Test Loss: 1.7592, Test Acc: 52.12%, Time: 17.38s\n",
            "New best model saved with accuracy: 52.12%\n",
            "\n",
            "Epoch [89/100] - Learning Rate: 0.000432\n"
          ]
        },
        {
          "output_type": "stream",
          "name": "stderr",
          "text": [
            "Training: 100%|██████████| 25/25 [00:18<00:00,  1.35it/s, loss=1.99, acc=45.9]\n"
          ]
        },
        {
          "output_type": "stream",
          "name": "stdout",
          "text": [
            "Train Loss: 1.9940, Train Acc: 45.87%, Test Loss: 1.7533, Test Acc: 52.20%, Time: 18.48s\n",
            "New best model saved with accuracy: 52.20%\n",
            "\n",
            "Epoch [90/100] - Learning Rate: 0.000364\n"
          ]
        },
        {
          "output_type": "stream",
          "name": "stderr",
          "text": [
            "Training: 100%|██████████| 25/25 [00:17<00:00,  1.44it/s, loss=1.99, acc=45.8]\n"
          ]
        },
        {
          "output_type": "stream",
          "name": "stdout",
          "text": [
            "Train Loss: 1.9933, Train Acc: 45.79%, Test Loss: 1.7522, Test Acc: 52.20%, Time: 17.32s\n",
            "\n",
            "Epoch [91/100] - Learning Rate: 0.000302\n"
          ]
        },
        {
          "output_type": "stream",
          "name": "stderr",
          "text": [
            "Training: 100%|██████████| 25/25 [00:18<00:00,  1.37it/s, loss=2, acc=45.8]\n"
          ]
        },
        {
          "output_type": "stream",
          "name": "stdout",
          "text": [
            "Train Loss: 1.9973, Train Acc: 45.78%, Test Loss: 1.7489, Test Acc: 52.42%, Time: 18.22s\n",
            "New best model saved with accuracy: 52.42%\n",
            "\n",
            "Epoch [92/100] - Learning Rate: 0.000245\n"
          ]
        },
        {
          "output_type": "stream",
          "name": "stderr",
          "text": [
            "Training: 100%|██████████| 25/25 [00:17<00:00,  1.41it/s, loss=1.99, acc=45.9]\n"
          ]
        },
        {
          "output_type": "stream",
          "name": "stdout",
          "text": [
            "Train Loss: 1.9897, Train Acc: 45.94%, Test Loss: 1.7524, Test Acc: 52.39%, Time: 17.69s\n",
            "\n",
            "Epoch [93/100] - Learning Rate: 0.000194\n"
          ]
        },
        {
          "output_type": "stream",
          "name": "stderr",
          "text": [
            "Training: 100%|██████████| 25/25 [00:17<00:00,  1.43it/s, loss=1.98, acc=46]\n"
          ]
        },
        {
          "output_type": "stream",
          "name": "stdout",
          "text": [
            "Train Loss: 1.9847, Train Acc: 45.96%, Test Loss: 1.7479, Test Acc: 52.28%, Time: 17.54s\n",
            "\n",
            "Epoch [94/100] - Learning Rate: 0.000149\n"
          ]
        },
        {
          "output_type": "stream",
          "name": "stderr",
          "text": [
            "Training: 100%|██████████| 25/25 [00:18<00:00,  1.34it/s, loss=1.98, acc=45.8]\n"
          ]
        },
        {
          "output_type": "stream",
          "name": "stdout",
          "text": [
            "Train Loss: 1.9807, Train Acc: 45.81%, Test Loss: 1.7484, Test Acc: 52.31%, Time: 18.68s\n",
            "\n",
            "Epoch [95/100] - Learning Rate: 0.000109\n"
          ]
        },
        {
          "output_type": "stream",
          "name": "stderr",
          "text": [
            "Training: 100%|██████████| 25/25 [00:17<00:00,  1.40it/s, loss=1.98, acc=46]\n"
          ]
        },
        {
          "output_type": "stream",
          "name": "stdout",
          "text": [
            "Train Loss: 1.9811, Train Acc: 46.02%, Test Loss: 1.7476, Test Acc: 52.33%, Time: 17.85s\n",
            "\n",
            "Epoch [96/100] - Learning Rate: 0.000076\n"
          ]
        },
        {
          "output_type": "stream",
          "name": "stderr",
          "text": [
            "Training: 100%|██████████| 25/25 [00:18<00:00,  1.33it/s, loss=1.98, acc=46.3]\n"
          ]
        },
        {
          "output_type": "stream",
          "name": "stdout",
          "text": [
            "Train Loss: 1.9807, Train Acc: 46.33%, Test Loss: 1.7483, Test Acc: 52.35%, Time: 18.83s\n",
            "\n",
            "Epoch [97/100] - Learning Rate: 0.000049\n"
          ]
        },
        {
          "output_type": "stream",
          "name": "stderr",
          "text": [
            "Training: 100%|██████████| 25/25 [00:17<00:00,  1.44it/s, loss=1.98, acc=45.9]\n"
          ]
        },
        {
          "output_type": "stream",
          "name": "stdout",
          "text": [
            "Train Loss: 1.9811, Train Acc: 45.91%, Test Loss: 1.7468, Test Acc: 52.38%, Time: 17.42s\n",
            "\n",
            "Epoch [98/100] - Learning Rate: 0.000027\n"
          ]
        },
        {
          "output_type": "stream",
          "name": "stderr",
          "text": [
            "Training: 100%|██████████| 25/25 [00:17<00:00,  1.41it/s, loss=1.98, acc=45.9]\n"
          ]
        },
        {
          "output_type": "stream",
          "name": "stdout",
          "text": [
            "Train Loss: 1.9801, Train Acc: 45.85%, Test Loss: 1.7478, Test Acc: 52.38%, Time: 17.78s\n",
            "\n",
            "Epoch [99/100] - Learning Rate: 0.000012\n"
          ]
        },
        {
          "output_type": "stream",
          "name": "stderr",
          "text": [
            "Training: 100%|██████████| 25/25 [00:17<00:00,  1.40it/s, loss=1.99, acc=46.1]\n"
          ]
        },
        {
          "output_type": "stream",
          "name": "stdout",
          "text": [
            "Train Loss: 1.9888, Train Acc: 46.12%, Test Loss: 1.7472, Test Acc: 52.42%, Time: 17.81s\n",
            "\n",
            "Epoch [100/100] - Learning Rate: 0.000003\n"
          ]
        },
        {
          "output_type": "stream",
          "name": "stderr",
          "text": [
            "Training: 100%|██████████| 25/25 [00:17<00:00,  1.43it/s, loss=1.97, acc=46.3]\n"
          ]
        },
        {
          "output_type": "stream",
          "name": "stdout",
          "text": [
            "Train Loss: 1.9711, Train Acc: 46.32%, Test Loss: 1.7471, Test Acc: 52.38%, Time: 17.48s\n",
            "Best model loaded with accuracy: 52.42%\n"
          ]
        },
        {
          "output_type": "display_data",
          "data": {
            "text/plain": [
              "<Figure size 1800x500 with 3 Axes>"
            ],
            "image/png": "[encoded data removed]"
          },
          "metadata": {}
        },
        {
          "output_type": "stream",
          "name": "stdout",
          "text": [
            "LAMB benchmark completed!\n"
          ]
        }
      ],
      "source": [
        "import torch\n",
        "import torch.nn as nn\n",
        "import torchvision.transforms as transforms\n",
        "import torch.nn.functional as F\n",
        "from torchvision.datasets import CIFAR10, CIFAR100\n",
        "import torchvision.models as models\n",
        "from torch.utils.data import DataLoader\n",
        "\n",
        "from tqdm import tqdm\n",
        "import matplotlib.pyplot as plt\n",
        "import time\n",
        "import pickle\n",
        "import numpy as np\n",
        "import random\n",
        "\n",
        "# ─── Import LAMB from torch-optimizer ───────────────────────────────────────\n",
        "from torch_optimizer import Lamb\n",
        "# ───────────────────────────────────────────────────────────────────────────────\n",
        "\n",
        "import math\n",
        "\n",
        "print(\"PyTorch version:\", torch.__version__)\n",
        "device = torch.device(\"cuda:0\" if torch.cuda.is_available() else \"cpu\")\n",
        "print(f\"Using device: {device}\")\n",
        "\n",
        "# Seeding for reproducibility\n",
        "seed = 2025\n",
        "torch.manual_seed(seed)\n",
        "torch.cuda.manual_seed(seed)\n",
        "np.random.seed(seed)\n",
        "random.seed(seed)\n",
        "\n",
        "# transforms\n",
        "train_transform = transforms.Compose(\n",
        "    [\n",
        "        transforms.RandomCrop(32, padding=4),\n",
        "        transforms.RandomHorizontalFlip(),\n",
        "        transforms.ToTensor(),\n",
        "        transforms.Normalize((0.4914, 0.4822, 0.4465),\n",
        "                             (0.2023, 0.1994, 0.2010)),\n",
        "    ]\n",
        ")\n",
        "\n",
        "test_transform = transforms.Compose(\n",
        "    [\n",
        "        transforms.ToTensor(),\n",
        "        transforms.Normalize((0.4914, 0.4822, 0.4465),\n",
        "                             (0.2023, 0.1994, 0.2010)),\n",
        "    ]\n",
        ")\n",
        "\n",
        "\n",
        "# load data\n",
        "def load_data(dataset_name=\"cifar100\", batch_size=128, num_workers=2):\n",
        "    \"\"\"Enhanced data loading with stronger augmentation for CIFAR-100\"\"\"\n",
        "\n",
        "    train_transform = transforms.Compose(\n",
        "        [\n",
        "            transforms.RandomCrop(32, padding=4),\n",
        "            transforms.RandomHorizontalFlip(),\n",
        "            transforms.ToTensor(),\n",
        "            transforms.Normalize((0.4914, 0.4822, 0.4465),\n",
        "                                 (0.2023, 0.1994, 0.2010)),\n",
        "        ]\n",
        "    )\n",
        "    test_transform = transforms.Compose(\n",
        "        [\n",
        "            transforms.ToTensor(),\n",
        "            transforms.Normalize((0.4914, 0.4822, 0.4465),\n",
        "                                 (0.2023, 0.1994, 0.2010)),\n",
        "        ]\n",
        "    )\n",
        "\n",
        "    if dataset_name.lower() == \"cifar100\":\n",
        "        train_dataset = CIFAR100(\n",
        "            root=\"./data\", train=True, download=True, transform=train_transform\n",
        "        )\n",
        "        test_dataset = CIFAR100(\n",
        "            root=\"./data\", train=False, download=True, transform=test_transform\n",
        "        )\n",
        "        num_classes = 100\n",
        "    else:\n",
        "        raise ValueError(f\"Dataset {dataset_name} not supported in enhanced version\")\n",
        "\n",
        "    train_loader = DataLoader(\n",
        "        train_dataset,\n",
        "        batch_size=batch_size,\n",
        "        shuffle=True,\n",
        "        num_workers=num_workers,\n",
        "    )\n",
        "    test_loader = DataLoader(\n",
        "        test_dataset,\n",
        "        batch_size=batch_size,\n",
        "        shuffle=False,\n",
        "        num_workers=num_workers,\n",
        "    )\n",
        "    return train_loader, test_loader, num_classes\n",
        "\n",
        "\n",
        "# model - LeNet5 from the paper [11]\n",
        "class LeNet5(nn.Module):\n",
        "    def __init__(self, num_classes=10):\n",
        "        super(LeNet5, self).__init__()\n",
        "        # Input: 3x32x32 (CIFAR has 3 color channels)\n",
        "        self.conv1 = nn.Conv2d(3, 6, kernel_size=5)  # Output: 6x28x28\n",
        "        self.pool1 = nn.MaxPool2d(kernel_size=2, stride=2)  # Output: 6x14x14\n",
        "        self.conv2 = nn.Conv2d(6, 16, kernel_size=5)  # Output: 16x10x10\n",
        "        self.pool2 = nn.MaxPool2d(kernel_size=2, stride=2)  # Output: 16x5x5\n",
        "\n",
        "        # fc layers\n",
        "        self.fc1 = nn.Linear(16 * 5 * 5, 120)\n",
        "        self.fc2 = nn.Linear(120, 84)\n",
        "        self.fc3 = nn.Linear(84, num_classes)\n",
        "\n",
        "    def forward(self, x):\n",
        "        x = self.pool1(F.relu(self.conv1(x)))\n",
        "        x = self.pool2(F.relu(self.conv2(x)))\n",
        "        x = x.view(-1, 16 * 5 * 5)  # flatten\n",
        "        x = F.relu(self.fc1(x))\n",
        "        x = F.relu(self.fc2(x))\n",
        "        x = self.fc3(x)\n",
        "        return x\n",
        "\n",
        "\n",
        "class ImprovedCNN(nn.Module):\n",
        "    def __init__(self, num_classes=100):\n",
        "        super(ImprovedCNN, self).__init__()\n",
        "        # First conv block\n",
        "        self.conv1 = nn.Conv2d(3, 64, kernel_size=5, padding=2)\n",
        "        self.bn1 = nn.BatchNorm2d(64)  # using BatchNorm for better training stability\n",
        "        self.pool1 = nn.MaxPool2d(kernel_size=2, stride=2)\n",
        "\n",
        "        # Second conv block\n",
        "        self.conv2 = nn.Conv2d(64, 64, kernel_size=5, padding=2)\n",
        "        self.bn2 = nn.BatchNorm2d(64)\n",
        "        self.pool2 = nn.MaxPool2d(kernel_size=2, stride=2)\n",
        "\n",
        "        # Fully connected layers\n",
        "        self.fc1 = nn.Linear(64 * 8 * 8, 384)\n",
        "        self.dropout1 = nn.Dropout(0.5)\n",
        "        self.fc2 = nn.Linear(384, 192)\n",
        "        self.dropout2 = nn.Dropout(0.5)\n",
        "        self.fc3 = nn.Linear(192, num_classes)\n",
        "\n",
        "    def forward(self, x):\n",
        "        # First conv block\n",
        "        x = self.pool1(F.relu(self.bn1(self.conv1(x))))\n",
        "        # Second conv block\n",
        "        x = self.pool2(F.relu(self.bn2(self.conv2(x))))\n",
        "        # Flatten and FC\n",
        "        x = x.view(-1, 64 * 8 * 8)\n",
        "        x = F.relu(self.fc1(x))\n",
        "        x = self.dropout1(x)\n",
        "        x = F.relu(self.fc2(x))\n",
        "        x = self.dropout2(x)\n",
        "        x = self.fc3(x)\n",
        "        return x\n",
        "\n",
        "\n",
        "def create_model(model_name, num_classes=100):\n",
        "    if model_name.lower() == \"improved_cnn\":\n",
        "        return ImprovedCNN(num_classes=num_classes)\n",
        "    elif model_name.lower() == \"lenet5\":\n",
        "        return LeNet5(num_classes=num_classes)\n",
        "    else:\n",
        "        raise ValueError(f\"Unknown model: {model_name}\")\n",
        "\n",
        "\n",
        "# train\n",
        "def train_epoch(model, train_loader, criterion, optimizer, device):\n",
        "    model.train()\n",
        "    running_loss = 0.0\n",
        "    correct = 0\n",
        "    total = 0\n",
        "\n",
        "    pbar = tqdm(train_loader, desc=\"Training\")\n",
        "    for inputs, labels in pbar:\n",
        "        inputs, labels = inputs.to(device), labels.to(device)\n",
        "\n",
        "        optimizer.zero_grad()\n",
        "        outputs = model(inputs)\n",
        "        loss = criterion(outputs, labels)\n",
        "        loss.backward()\n",
        "        optimizer.step()\n",
        "\n",
        "        running_loss += loss.item() * inputs.size(0)\n",
        "        _, predicted = outputs.max(1)\n",
        "        total += labels.size(0)\n",
        "        correct += predicted.eq(labels).sum().item()\n",
        "        pbar.set_postfix({\"loss\": running_loss / total,\n",
        "                          \"acc\": 100.0 * correct / total})\n",
        "\n",
        "    train_loss = running_loss / total\n",
        "    train_acc = 100.0 * correct / total\n",
        "    return train_loss, train_acc\n",
        "\n",
        "\n",
        "# eval\n",
        "def evaluate(model, test_loader, criterion, device):\n",
        "    model.eval()\n",
        "    running_loss = 0.0\n",
        "    correct = 0\n",
        "    total = 0\n",
        "\n",
        "    with torch.no_grad():\n",
        "        for inputs, labels in test_loader:\n",
        "            inputs, labels = inputs.to(device), labels.to(device)\n",
        "            outputs = model(inputs)\n",
        "            loss = criterion(outputs, labels)\n",
        "\n",
        "            running_loss += loss.item() * inputs.size(0)\n",
        "            _, predicted = outputs.max(1)\n",
        "            total += labels.size(0)\n",
        "            correct += predicted.eq(labels).sum().item()\n",
        "\n",
        "    test_loss = running_loss / total\n",
        "    test_acc = 100.0 * correct / total\n",
        "    return test_loss, test_acc\n",
        "\n",
        "\n",
        "# train config\n",
        "def train_centralized_model(\n",
        "    model_name=\"improved_cnn\",\n",
        "    dataset_name=\"cifar100\",\n",
        "    batch_size=2048,\n",
        "    epochs=100,\n",
        "    lr=0.01,\n",
        "    momentum=0.9,\n",
        "    weight_decay=4e-4,\n",
        "    lr_scheduler=\"lamb\",\n",
        "    save_path=\"improved_cnn_model.pth\",\n",
        "):\n",
        "    # Load data\n",
        "    train_loader, test_loader, num_classes = load_data(\n",
        "        dataset_name=dataset_name, batch_size=batch_size\n",
        "    )\n",
        "\n",
        "    # Create model\n",
        "    model = create_model(model_name, num_classes=num_classes).to(device)\n",
        "\n",
        "    # Print total parameters\n",
        "    total_params = sum(p.numel() for p in model.parameters())\n",
        "    print(f\"Total parameters: {total_params:,}\")\n",
        "\n",
        "    # Loss\n",
        "    criterion = nn.CrossEntropyLoss()\n",
        "\n",
        "    # Linear‐scaling rule for LR\n",
        "    scaled_lr = lr * (batch_size / 2048)\n",
        "\n",
        "    # Separate parameters into decay vs. no‐decay groups\n",
        "    decay_params = []\n",
        "    no_decay_params = []\n",
        "    for name, param in model.named_parameters():\n",
        "        if not param.requires_grad:\n",
        "            continue\n",
        "        if param.ndim == 1:\n",
        "            no_decay_params.append(param)\n",
        "        else:\n",
        "            decay_params.append(param)\n",
        "\n",
        "    # ─── Instantiate LAMB ─────────────────────────────────────────────────────────\n",
        "    #\n",
        "    # We set global weight_decay=0.0 because we're handling it per‐group.\n",
        "    #\n",
        "    optimizer = Lamb(\n",
        "        [\n",
        "            {\"params\": decay_params,    \"weight_decay\": weight_decay},\n",
        "            {\"params\": no_decay_params, \"weight_decay\": 0.0}\n",
        "        ],\n",
        "        lr=scaled_lr,\n",
        "        betas=(0.9, 0.999),\n",
        "        eps=1e-6,\n",
        "        weight_decay=0.0  # global default; per-group overrides actual decay\n",
        "    )\n",
        "    # ────────────────────────────────────────────────────────────────────────────────\n",
        "\n",
        "    # Learning‐rate scheduler: warmup + cosine, same as LARS code\n",
        "    if lr_scheduler == \"lamb\":\n",
        "        warmup_epochs = 10\n",
        "\n",
        "        def lr_lambda(epoch):\n",
        "            if epoch < warmup_epochs:\n",
        "                return float(epoch + 1) / float(warmup_epochs)\n",
        "            return 0.5 * (\n",
        "                1.0\n",
        "                + math.cos(\n",
        "                    math.pi * (epoch - warmup_epochs) / (epochs - warmup_epochs)\n",
        "                )\n",
        "            )\n",
        "\n",
        "        scheduler = torch.optim.lr_scheduler.LambdaLR(optimizer, lr_lambda)\n",
        "\n",
        "    elif lr_scheduler == \"step\":\n",
        "        scheduler = torch.optim.lr_scheduler.MultiStepLR(\n",
        "            optimizer,\n",
        "            milestones=[int(epochs * 0.5), int(epochs * 0.75)],\n",
        "            gamma=0.1\n",
        "        )\n",
        "    else:\n",
        "        raise ValueError(f\"Unknown scheduler: {lr_scheduler}\")\n",
        "\n",
        "    # Training history\n",
        "    history = {\n",
        "        \"train_loss\": [],\n",
        "        \"train_acc\": [],\n",
        "        \"test_loss\": [],\n",
        "        \"test_acc\": [],\n",
        "        \"lr\": [],\n",
        "    }\n",
        "\n",
        "    best_acc = 0.0\n",
        "\n",
        "    # Training loop\n",
        "    for epoch in range(epochs):\n",
        "        current_lr = optimizer.param_groups[0][\"lr\"]\n",
        "        print(f\"\\nEpoch [{epoch + 1}/{epochs}] - Learning Rate: {current_lr:.6f}\")\n",
        "\n",
        "        # Train for one epoch\n",
        "        start_time = time.time()\n",
        "        train_loss, train_acc = train_epoch(\n",
        "            model, train_loader, criterion, optimizer, device\n",
        "        )\n",
        "        train_time = time.time() - start_time\n",
        "\n",
        "        # Evaluate\n",
        "        test_loss, test_acc = evaluate(model, test_loader, criterion, device)\n",
        "        scheduler.step()\n",
        "\n",
        "        print(\n",
        "            f\"Train Loss: {train_loss:.4f}, Train Acc: {train_acc:.2f}%, \"\n",
        "            f\"Test Loss: {test_loss:.4f}, Test Acc: {test_acc:.2f}%, \"\n",
        "            f\"Time: {train_time:.2f}s\"\n",
        "        )\n",
        "\n",
        "        if test_acc > best_acc:\n",
        "            best_acc = test_acc\n",
        "            torch.save(\n",
        "                {\n",
        "                    \"epoch\": epoch,\n",
        "                    \"model_state_dict\": model.state_dict(),\n",
        "                    \"optimizer_state_dict\": optimizer.state_dict(),\n",
        "                    \"test_acc\": test_acc,\n",
        "                },\n",
        "                save_path,\n",
        "            )\n",
        "            print(f\"New best model saved with accuracy: {test_acc:.2f}%\")\n",
        "\n",
        "        history[\"train_loss\"].append(train_loss)\n",
        "        history[\"train_acc\"].append(train_acc)\n",
        "        history[\"test_loss\"].append(test_loss)\n",
        "        history[\"test_acc\"].append(test_acc)\n",
        "        history[\"lr\"].append(current_lr)\n",
        "\n",
        "    # Load best model\n",
        "    checkpoint = torch.load(save_path)\n",
        "    model.load_state_dict(checkpoint[\"model_state_dict\"])\n",
        "    print(f\"Best model loaded with accuracy: {checkpoint['test_acc']:.2f}%\")\n",
        "\n",
        "    return model, history\n",
        "\n",
        "\n",
        "# visualization of model performance\n",
        "def plot_training_history(history):\n",
        "    fig, (ax1, ax2, ax3) = plt.subplots(1, 3, figsize=(18, 5))\n",
        "\n",
        "    ax1.plot(history[\"train_loss\"], label=\"Train Loss\")\n",
        "    ax1.plot(history[\"test_loss\"], label=\"Test Loss\")\n",
        "    ax1.set_xlabel(\"Epoch\")\n",
        "    ax1.set_ylabel(\"Loss\")\n",
        "    ax1.legend()\n",
        "    ax1.set_title(\"Loss Curves\")\n",
        "    ax1.grid(True)\n",
        "\n",
        "    ax2.plot(history[\"train_acc\"], label=\"Train Accuracy\")\n",
        "    ax2.plot(history[\"test_acc\"], label=\"Test Accuracy\")\n",
        "    ax2.set_xlabel(\"Epoch\")\n",
        "    ax2.set_ylabel(\"Accuracy (%)\")\n",
        "    ax2.legend()\n",
        "    ax2.set_title(\"Accuracy Curves\")\n",
        "    ax2.grid(True)\n",
        "\n",
        "    ax3.plot(history[\"lr\"])\n",
        "    ax3.set_xlabel(\"Epoch\")\n",
        "    ax3.set_ylabel(\"Learning Rate\")\n",
        "    ax3.set_title(\"Learning Rate Schedule\")\n",
        "    ax3.set_yscale(\"log\")\n",
        "    ax3.grid(True)\n",
        "\n",
        "    plt.tight_layout()\n",
        "    plt.show()\n",
        "\n",
        "\n",
        "# run benchmark\n",
        "def run_centralized_benchmark():\n",
        "    config = {\n",
        "        \"model_name\": \"improved_cnn\",\n",
        "        \"dataset_name\": \"cifar100\",\n",
        "        \"batch_size\": 2048,\n",
        "        \"epochs\": 100,\n",
        "        \"lr\": 0.01,\n",
        "        \"momentum\": 0.9,\n",
        "        \"weight_decay\": 4e-4,\n",
        "        \"lr_scheduler\": \"lamb\",\n",
        "        \"save_path\": \"improved_cnn_model_lamb.pth\",\n",
        "    }\n",
        "\n",
        "    print(\n",
        "        f\"Running LAMB benchmark with {config['model_name']} on {config['dataset_name']}...\"\n",
        "    )\n",
        "\n",
        "    model, history = train_centralized_model(**config)\n",
        "    plot_training_history(history)\n",
        "\n",
        "    with open(\"history_lamb.pkl\", \"wb\") as f:\n",
        "        pickle.dump(history, f)\n",
        "\n",
        "    print(\"LAMB benchmark completed!\")\n",
        "    return model, history\n",
        "\n",
        "\n",
        "def main():\n",
        "    model, history = run_centralized_benchmark()\n",
        "    return model, history\n",
        "\n",
        "\n",
        "if __name__ == \"__main__\":\n",
        "    main()\n"
      ]
    }
  ]
}