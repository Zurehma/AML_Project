{
  "cells": [
    {
      "cell_type": "markdown",
      "metadata": {
        "id": "view-in-github",
        "colab_type": "text"
      },
      "source": [
        "<a href=\"https://colab.research.google.com/github/Zurehma/AML_Project/blob/main/Centralized/benchmarks/batch_1024.ipynb\" target=\"_parent\"><img src=\"https://colab.research.google.com/assets/colab-badge.svg\" alt=\"Open In Colab\"/></a>"
      ]
    },
    {
      "cell_type": "code",
      "execution_count": null,
      "metadata": {
        "colab": {
          "base_uri": "https://localhost:8080/",
          "height": 1000
        },
        "id": "rmTV2T84dLgD",
        "outputId": "1f0322d4-bf02-40fc-8fb6-b99fd44f44e9"
      },
      "outputs": [
        {
          "output_type": "stream",
          "name": "stdout",
          "text": [
            "PyTorch version: 2.6.0+cu124\n",
            "Using device: cuda:0\n",
            "Running centralized benchmark with improved_cnn on cifar100...\n"
          ]
        },
        {
          "output_type": "stream",
          "name": "stderr",
          "text": [
            "100%|██████████| 169M/169M [00:15<00:00, 10.8MB/s]\n"
          ]
        },
        {
          "output_type": "stream",
          "name": "stdout",
          "text": [
            "Total parameters: 1,774,052\n",
            "\n",
            "Epoch [1/100] - Learning Rate: 0.010000\n"
          ]
        },
        {
          "output_type": "stream",
          "name": "stderr",
          "text": [
            "Training: 100%|██████████| 49/49 [00:17<00:00,  2.79it/s, loss=4.59, acc=1.65]\n"
          ]
        },
        {
          "output_type": "stream",
          "name": "stdout",
          "text": [
            "Train Loss: 4.5890, Train Acc: 1.65%, Test Loss: 4.5131, Test Acc: 3.98%, Time: 17.58s\n",
            "New best model saved with accuracy: 3.98%\n",
            "\n",
            "Epoch [2/100] - Learning Rate: 0.010000\n"
          ]
        },
        {
          "output_type": "stream",
          "name": "stderr",
          "text": [
            "Training: 100%|██████████| 49/49 [00:16<00:00,  2.88it/s, loss=4.46, acc=3.28]\n"
          ]
        },
        {
          "output_type": "stream",
          "name": "stdout",
          "text": [
            "Train Loss: 4.4563, Train Acc: 3.28%, Test Loss: 4.2720, Test Acc: 5.40%, Time: 17.00s\n",
            "New best model saved with accuracy: 5.40%\n",
            "\n",
            "Epoch [3/100] - Learning Rate: 0.010000\n"
          ]
        },
        {
          "output_type": "stream",
          "name": "stderr",
          "text": [
            "Training: 100%|██████████| 49/49 [00:16<00:00,  2.92it/s, loss=4.28, acc=4.84]\n"
          ]
        },
        {
          "output_type": "stream",
          "name": "stdout",
          "text": [
            "Train Loss: 4.2784, Train Acc: 4.84%, Test Loss: 4.0655, Test Acc: 8.63%, Time: 16.79s\n",
            "New best model saved with accuracy: 8.63%\n",
            "\n",
            "Epoch [4/100] - Learning Rate: 0.010000\n"
          ]
        },
        {
          "output_type": "stream",
          "name": "stderr",
          "text": [
            "Training: 100%|██████████| 49/49 [00:17<00:00,  2.87it/s, loss=4.12, acc=6.39]\n"
          ]
        },
        {
          "output_type": "stream",
          "name": "stdout",
          "text": [
            "Train Loss: 4.1197, Train Acc: 6.39%, Test Loss: 3.8823, Test Acc: 11.09%, Time: 17.07s\n",
            "New best model saved with accuracy: 11.09%\n",
            "\n",
            "Epoch [5/100] - Learning Rate: 0.010000\n"
          ]
        },
        {
          "output_type": "stream",
          "name": "stderr",
          "text": [
            "Training: 100%|██████████| 49/49 [00:18<00:00,  2.71it/s, loss=3.98, acc=8.06]\n"
          ]
        },
        {
          "output_type": "stream",
          "name": "stdout",
          "text": [
            "Train Loss: 3.9800, Train Acc: 8.06%, Test Loss: 3.7434, Test Acc: 13.93%, Time: 18.10s\n",
            "New best model saved with accuracy: 13.93%\n",
            "\n",
            "Epoch [6/100] - Learning Rate: 0.010000\n"
          ]
        },
        {
          "output_type": "stream",
          "name": "stderr",
          "text": [
            "Training: 100%|██████████| 49/49 [00:16<00:00,  2.90it/s, loss=3.87, acc=9.58]\n"
          ]
        },
        {
          "output_type": "stream",
          "name": "stdout",
          "text": [
            "Train Loss: 3.8738, Train Acc: 9.58%, Test Loss: 3.6157, Test Acc: 15.16%, Time: 16.93s\n",
            "New best model saved with accuracy: 15.16%\n",
            "\n",
            "Epoch [7/100] - Learning Rate: 0.010000\n"
          ]
        },
        {
          "output_type": "stream",
          "name": "stderr",
          "text": [
            "Training: 100%|██████████| 49/49 [00:17<00:00,  2.75it/s, loss=3.78, acc=10.7]\n"
          ]
        },
        {
          "output_type": "stream",
          "name": "stdout",
          "text": [
            "Train Loss: 3.7837, Train Acc: 10.71%, Test Loss: 3.5192, Test Acc: 16.64%, Time: 17.84s\n",
            "New best model saved with accuracy: 16.64%\n",
            "\n",
            "Epoch [8/100] - Learning Rate: 0.010000\n"
          ]
        },
        {
          "output_type": "stream",
          "name": "stderr",
          "text": [
            "Training: 100%|██████████| 49/49 [00:16<00:00,  2.89it/s, loss=3.7, acc=12]\n"
          ]
        },
        {
          "output_type": "stream",
          "name": "stdout",
          "text": [
            "Train Loss: 3.6989, Train Acc: 12.03%, Test Loss: 3.4277, Test Acc: 18.63%, Time: 16.98s\n",
            "New best model saved with accuracy: 18.63%\n",
            "\n",
            "Epoch [9/100] - Learning Rate: 0.010000\n"
          ]
        },
        {
          "output_type": "stream",
          "name": "stderr",
          "text": [
            "Training: 100%|██████████| 49/49 [00:18<00:00,  2.70it/s, loss=3.63, acc=13.2]\n"
          ]
        },
        {
          "output_type": "stream",
          "name": "stdout",
          "text": [
            "Train Loss: 3.6303, Train Acc: 13.18%, Test Loss: 3.3624, Test Acc: 18.89%, Time: 18.13s\n",
            "New best model saved with accuracy: 18.89%\n",
            "\n",
            "Epoch [10/100] - Learning Rate: 0.010000\n"
          ]
        },
        {
          "output_type": "stream",
          "name": "stderr",
          "text": [
            "Training: 100%|██████████| 49/49 [00:16<00:00,  2.91it/s, loss=3.54, acc=14.6]\n"
          ]
        },
        {
          "output_type": "stream",
          "name": "stdout",
          "text": [
            "Train Loss: 3.5446, Train Acc: 14.56%, Test Loss: 3.2617, Test Acc: 20.87%, Time: 16.84s\n",
            "New best model saved with accuracy: 20.87%\n",
            "\n",
            "Epoch [11/100] - Learning Rate: 0.010000\n"
          ]
        },
        {
          "output_type": "stream",
          "name": "stderr",
          "text": [
            "Training: 100%|██████████| 49/49 [00:18<00:00,  2.66it/s, loss=3.48, acc=15.5]\n"
          ]
        },
        {
          "output_type": "stream",
          "name": "stdout",
          "text": [
            "Train Loss: 3.4795, Train Acc: 15.54%, Test Loss: 3.1868, Test Acc: 21.73%, Time: 18.40s\n",
            "New best model saved with accuracy: 21.73%\n",
            "\n",
            "Epoch [12/100] - Learning Rate: 0.010000\n"
          ]
        },
        {
          "output_type": "stream",
          "name": "stderr",
          "text": [
            "Training: 100%|██████████| 49/49 [00:17<00:00,  2.88it/s, loss=3.41, acc=16.9]\n"
          ]
        },
        {
          "output_type": "stream",
          "name": "stdout",
          "text": [
            "Train Loss: 3.4054, Train Acc: 16.95%, Test Loss: 3.1402, Test Acc: 23.24%, Time: 17.04s\n",
            "New best model saved with accuracy: 23.24%\n",
            "\n",
            "Epoch [13/100] - Learning Rate: 0.010000\n"
          ]
        },
        {
          "output_type": "stream",
          "name": "stderr",
          "text": [
            "Training: 100%|██████████| 49/49 [00:17<00:00,  2.73it/s, loss=3.36, acc=17.8]\n"
          ]
        },
        {
          "output_type": "stream",
          "name": "stdout",
          "text": [
            "Train Loss: 3.3570, Train Acc: 17.79%, Test Loss: 3.0263, Test Acc: 24.90%, Time: 17.95s\n",
            "New best model saved with accuracy: 24.90%\n",
            "\n",
            "Epoch [14/100] - Learning Rate: 0.010000\n"
          ]
        },
        {
          "output_type": "stream",
          "name": "stderr",
          "text": [
            "Training: 100%|██████████| 49/49 [00:17<00:00,  2.84it/s, loss=3.3, acc=18.9]\n"
          ]
        },
        {
          "output_type": "stream",
          "name": "stdout",
          "text": [
            "Train Loss: 3.2965, Train Acc: 18.94%, Test Loss: 3.0085, Test Acc: 25.17%, Time: 17.23s\n",
            "New best model saved with accuracy: 25.17%\n",
            "\n",
            "Epoch [15/100] - Learning Rate: 0.010000\n"
          ]
        },
        {
          "output_type": "stream",
          "name": "stderr",
          "text": [
            "Training: 100%|██████████| 49/49 [00:16<00:00,  2.92it/s, loss=3.25, acc=19.6]\n"
          ]
        },
        {
          "output_type": "stream",
          "name": "stdout",
          "text": [
            "Train Loss: 3.2539, Train Acc: 19.64%, Test Loss: 3.1042, Test Acc: 23.38%, Time: 16.78s\n",
            "\n",
            "Epoch [16/100] - Learning Rate: 0.010000\n"
          ]
        },
        {
          "output_type": "stream",
          "name": "stderr",
          "text": [
            "Training: 100%|██████████| 49/49 [00:16<00:00,  2.91it/s, loss=3.23, acc=20.1]\n"
          ]
        },
        {
          "output_type": "stream",
          "name": "stdout",
          "text": [
            "Train Loss: 3.2316, Train Acc: 20.06%, Test Loss: 2.8662, Test Acc: 28.21%, Time: 16.85s\n",
            "New best model saved with accuracy: 28.21%\n",
            "\n",
            "Epoch [17/100] - Learning Rate: 0.010000\n"
          ]
        },
        {
          "output_type": "stream",
          "name": "stderr",
          "text": [
            "Training: 100%|██████████| 49/49 [00:17<00:00,  2.88it/s, loss=3.17, acc=20.9]\n"
          ]
        },
        {
          "output_type": "stream",
          "name": "stdout",
          "text": [
            "Train Loss: 3.1732, Train Acc: 20.91%, Test Loss: 2.8630, Test Acc: 28.51%, Time: 17.01s\n",
            "New best model saved with accuracy: 28.51%\n",
            "\n",
            "Epoch [18/100] - Learning Rate: 0.010000\n"
          ]
        },
        {
          "output_type": "stream",
          "name": "stderr",
          "text": [
            "Training: 100%|██████████| 49/49 [00:17<00:00,  2.80it/s, loss=3.13, acc=22]\n"
          ]
        },
        {
          "output_type": "stream",
          "name": "stdout",
          "text": [
            "Train Loss: 3.1311, Train Acc: 21.97%, Test Loss: 2.8598, Test Acc: 27.61%, Time: 17.50s\n",
            "\n",
            "Epoch [19/100] - Learning Rate: 0.010000\n"
          ]
        },
        {
          "output_type": "stream",
          "name": "stderr",
          "text": [
            "Training: 100%|██████████| 49/49 [00:17<00:00,  2.87it/s, loss=3.09, acc=22.6]\n"
          ]
        },
        {
          "output_type": "stream",
          "name": "stdout",
          "text": [
            "Train Loss: 3.0905, Train Acc: 22.61%, Test Loss: 2.7890, Test Acc: 29.20%, Time: 17.05s\n",
            "New best model saved with accuracy: 29.20%\n",
            "\n",
            "Epoch [20/100] - Learning Rate: 0.010000\n"
          ]
        },
        {
          "output_type": "stream",
          "name": "stderr",
          "text": [
            "Training: 100%|██████████| 49/49 [00:17<00:00,  2.77it/s, loss=3.07, acc=23.2]\n"
          ]
        },
        {
          "output_type": "stream",
          "name": "stdout",
          "text": [
            "Train Loss: 3.0706, Train Acc: 23.16%, Test Loss: 2.7075, Test Acc: 31.64%, Time: 17.71s\n",
            "New best model saved with accuracy: 31.64%\n",
            "\n",
            "Epoch [21/100] - Learning Rate: 0.010000\n"
          ]
        },
        {
          "output_type": "stream",
          "name": "stderr",
          "text": [
            "Training: 100%|██████████| 49/49 [00:16<00:00,  2.89it/s, loss=3.03, acc=24.1]\n"
          ]
        },
        {
          "output_type": "stream",
          "name": "stdout",
          "text": [
            "Train Loss: 3.0264, Train Acc: 24.11%, Test Loss: 2.6549, Test Acc: 31.77%, Time: 16.96s\n",
            "New best model saved with accuracy: 31.77%\n",
            "\n",
            "Epoch [22/100] - Learning Rate: 0.010000\n"
          ]
        },
        {
          "output_type": "stream",
          "name": "stderr",
          "text": [
            "Training: 100%|██████████| 49/49 [00:18<00:00,  2.70it/s, loss=3.02, acc=24.2]\n"
          ]
        },
        {
          "output_type": "stream",
          "name": "stdout",
          "text": [
            "Train Loss: 3.0179, Train Acc: 24.17%, Test Loss: 2.6452, Test Acc: 32.01%, Time: 18.15s\n",
            "New best model saved with accuracy: 32.01%\n",
            "\n",
            "Epoch [23/100] - Learning Rate: 0.010000\n"
          ]
        },
        {
          "output_type": "stream",
          "name": "stderr",
          "text": [
            "Training: 100%|██████████| 49/49 [00:17<00:00,  2.88it/s, loss=2.98, acc=24.9]\n"
          ]
        },
        {
          "output_type": "stream",
          "name": "stdout",
          "text": [
            "Train Loss: 2.9787, Train Acc: 24.92%, Test Loss: 2.6139, Test Acc: 33.05%, Time: 17.05s\n",
            "New best model saved with accuracy: 33.05%\n",
            "\n",
            "Epoch [24/100] - Learning Rate: 0.010000\n"
          ]
        },
        {
          "output_type": "stream",
          "name": "stderr",
          "text": [
            "Training: 100%|██████████| 49/49 [00:17<00:00,  2.74it/s, loss=2.95, acc=25.8]\n"
          ]
        },
        {
          "output_type": "stream",
          "name": "stdout",
          "text": [
            "Train Loss: 2.9451, Train Acc: 25.83%, Test Loss: 2.5880, Test Acc: 33.00%, Time: 17.89s\n",
            "\n",
            "Epoch [25/100] - Learning Rate: 0.010000\n"
          ]
        },
        {
          "output_type": "stream",
          "name": "stderr",
          "text": [
            "Training: 100%|██████████| 49/49 [00:16<00:00,  2.90it/s, loss=2.93, acc=26]\n"
          ]
        },
        {
          "output_type": "stream",
          "name": "stdout",
          "text": [
            "Train Loss: 2.9285, Train Acc: 26.01%, Test Loss: 2.5958, Test Acc: 33.17%, Time: 16.91s\n",
            "New best model saved with accuracy: 33.17%\n",
            "\n",
            "Epoch [26/100] - Learning Rate: 0.010000\n"
          ]
        },
        {
          "output_type": "stream",
          "name": "stderr",
          "text": [
            "Training: 100%|██████████| 49/49 [00:17<00:00,  2.72it/s, loss=2.9, acc=26.5]\n"
          ]
        },
        {
          "output_type": "stream",
          "name": "stdout",
          "text": [
            "Train Loss: 2.9009, Train Acc: 26.49%, Test Loss: 2.5518, Test Acc: 33.83%, Time: 17.99s\n",
            "New best model saved with accuracy: 33.83%\n",
            "\n",
            "Epoch [27/100] - Learning Rate: 0.010000\n"
          ]
        },
        {
          "output_type": "stream",
          "name": "stderr",
          "text": [
            "Training: 100%|██████████| 49/49 [00:17<00:00,  2.84it/s, loss=2.89, acc=26.7]\n"
          ]
        },
        {
          "output_type": "stream",
          "name": "stdout",
          "text": [
            "Train Loss: 2.8947, Train Acc: 26.72%, Test Loss: 2.5719, Test Acc: 34.12%, Time: 17.28s\n",
            "New best model saved with accuracy: 34.12%\n",
            "\n",
            "Epoch [28/100] - Learning Rate: 0.010000\n"
          ]
        },
        {
          "output_type": "stream",
          "name": "stderr",
          "text": [
            "Training: 100%|██████████| 49/49 [00:18<00:00,  2.68it/s, loss=2.86, acc=27.3]\n"
          ]
        },
        {
          "output_type": "stream",
          "name": "stdout",
          "text": [
            "Train Loss: 2.8580, Train Acc: 27.32%, Test Loss: 2.4796, Test Acc: 35.60%, Time: 18.29s\n",
            "New best model saved with accuracy: 35.60%\n",
            "\n",
            "Epoch [29/100] - Learning Rate: 0.010000\n"
          ]
        },
        {
          "output_type": "stream",
          "name": "stderr",
          "text": [
            "Training: 100%|██████████| 49/49 [00:17<00:00,  2.87it/s, loss=2.85, acc=27.6]\n"
          ]
        },
        {
          "output_type": "stream",
          "name": "stdout",
          "text": [
            "Train Loss: 2.8484, Train Acc: 27.60%, Test Loss: 2.4919, Test Acc: 35.32%, Time: 17.10s\n",
            "\n",
            "Epoch [30/100] - Learning Rate: 0.010000\n"
          ]
        },
        {
          "output_type": "stream",
          "name": "stderr",
          "text": [
            "Training: 100%|██████████| 49/49 [00:17<00:00,  2.75it/s, loss=2.83, acc=28.3]\n"
          ]
        },
        {
          "output_type": "stream",
          "name": "stdout",
          "text": [
            "Train Loss: 2.8259, Train Acc: 28.26%, Test Loss: 2.4358, Test Acc: 36.54%, Time: 17.86s\n",
            "New best model saved with accuracy: 36.54%\n",
            "\n",
            "Epoch [31/100] - Learning Rate: 0.010000\n"
          ]
        },
        {
          "output_type": "stream",
          "name": "stderr",
          "text": [
            "Training: 100%|██████████| 49/49 [00:17<00:00,  2.87it/s, loss=2.81, acc=28.4]\n"
          ]
        },
        {
          "output_type": "stream",
          "name": "stdout",
          "text": [
            "Train Loss: 2.8061, Train Acc: 28.38%, Test Loss: 2.4291, Test Acc: 36.32%, Time: 17.10s\n",
            "\n",
            "Epoch [32/100] - Learning Rate: 0.010000\n"
          ]
        },
        {
          "output_type": "stream",
          "name": "stderr",
          "text": [
            "Training: 100%|██████████| 49/49 [00:17<00:00,  2.86it/s, loss=2.78, acc=29.2]\n"
          ]
        },
        {
          "output_type": "stream",
          "name": "stdout",
          "text": [
            "Train Loss: 2.7786, Train Acc: 29.20%, Test Loss: 2.4533, Test Acc: 36.08%, Time: 17.17s\n",
            "\n",
            "Epoch [33/100] - Learning Rate: 0.010000\n"
          ]
        },
        {
          "output_type": "stream",
          "name": "stderr",
          "text": [
            "Training: 100%|██████████| 49/49 [00:16<00:00,  2.89it/s, loss=2.76, acc=29.5]\n"
          ]
        },
        {
          "output_type": "stream",
          "name": "stdout",
          "text": [
            "Train Loss: 2.7616, Train Acc: 29.46%, Test Loss: 2.5133, Test Acc: 34.56%, Time: 16.96s\n",
            "\n",
            "Epoch [34/100] - Learning Rate: 0.010000\n"
          ]
        },
        {
          "output_type": "stream",
          "name": "stderr",
          "text": [
            "Training: 100%|██████████| 49/49 [00:16<00:00,  2.94it/s, loss=2.75, acc=29.3]\n"
          ]
        },
        {
          "output_type": "stream",
          "name": "stdout",
          "text": [
            "Train Loss: 2.7534, Train Acc: 29.33%, Test Loss: 2.3763, Test Acc: 37.70%, Time: 16.68s\n",
            "New best model saved with accuracy: 37.70%\n",
            "\n",
            "Epoch [35/100] - Learning Rate: 0.010000\n"
          ]
        },
        {
          "output_type": "stream",
          "name": "stderr",
          "text": [
            "Training: 100%|██████████| 49/49 [00:17<00:00,  2.84it/s, loss=2.72, acc=30.3]\n"
          ]
        },
        {
          "output_type": "stream",
          "name": "stdout",
          "text": [
            "Train Loss: 2.7225, Train Acc: 30.35%, Test Loss: 2.3649, Test Acc: 38.67%, Time: 17.25s\n",
            "New best model saved with accuracy: 38.67%\n",
            "\n",
            "Epoch [36/100] - Learning Rate: 0.010000\n"
          ]
        },
        {
          "output_type": "stream",
          "name": "stderr",
          "text": [
            "Training: 100%|██████████| 49/49 [00:16<00:00,  2.94it/s, loss=2.73, acc=29.9]\n"
          ]
        },
        {
          "output_type": "stream",
          "name": "stdout",
          "text": [
            "Train Loss: 2.7325, Train Acc: 29.92%, Test Loss: 2.4673, Test Acc: 35.37%, Time: 16.66s\n",
            "\n",
            "Epoch [37/100] - Learning Rate: 0.010000\n"
          ]
        },
        {
          "output_type": "stream",
          "name": "stderr",
          "text": [
            "Training: 100%|██████████| 49/49 [00:16<00:00,  2.95it/s, loss=2.7, acc=30.6]\n"
          ]
        },
        {
          "output_type": "stream",
          "name": "stdout",
          "text": [
            "Train Loss: 2.7012, Train Acc: 30.60%, Test Loss: 2.3953, Test Acc: 37.56%, Time: 16.64s\n",
            "\n",
            "Epoch [38/100] - Learning Rate: 0.010000\n"
          ]
        },
        {
          "output_type": "stream",
          "name": "stderr",
          "text": [
            "Training: 100%|██████████| 49/49 [00:16<00:00,  2.94it/s, loss=2.7, acc=30.7]\n"
          ]
        },
        {
          "output_type": "stream",
          "name": "stdout",
          "text": [
            "Train Loss: 2.6980, Train Acc: 30.69%, Test Loss: 2.3463, Test Acc: 38.08%, Time: 16.68s\n",
            "\n",
            "Epoch [39/100] - Learning Rate: 0.010000\n"
          ]
        },
        {
          "output_type": "stream",
          "name": "stderr",
          "text": [
            "Training: 100%|██████████| 49/49 [00:17<00:00,  2.86it/s, loss=2.68, acc=31.1]\n"
          ]
        },
        {
          "output_type": "stream",
          "name": "stdout",
          "text": [
            "Train Loss: 2.6757, Train Acc: 31.10%, Test Loss: 2.3606, Test Acc: 38.64%, Time: 17.16s\n",
            "\n",
            "Epoch [40/100] - Learning Rate: 0.010000\n"
          ]
        },
        {
          "output_type": "stream",
          "name": "stderr",
          "text": [
            "Training: 100%|██████████| 49/49 [00:17<00:00,  2.88it/s, loss=2.66, acc=31.4]\n"
          ]
        },
        {
          "output_type": "stream",
          "name": "stdout",
          "text": [
            "Train Loss: 2.6610, Train Acc: 31.40%, Test Loss: 2.3179, Test Acc: 38.56%, Time: 17.02s\n",
            "\n",
            "Epoch [41/100] - Learning Rate: 0.010000\n"
          ]
        },
        {
          "output_type": "stream",
          "name": "stderr",
          "text": [
            "Training: 100%|██████████| 49/49 [00:17<00:00,  2.82it/s, loss=2.65, acc=31.9]\n"
          ]
        },
        {
          "output_type": "stream",
          "name": "stdout",
          "text": [
            "Train Loss: 2.6514, Train Acc: 31.87%, Test Loss: 2.3057, Test Acc: 39.59%, Time: 17.38s\n",
            "New best model saved with accuracy: 39.59%\n",
            "\n",
            "Epoch [42/100] - Learning Rate: 0.010000\n"
          ]
        },
        {
          "output_type": "stream",
          "name": "stderr",
          "text": [
            "Training: 100%|██████████| 49/49 [00:17<00:00,  2.84it/s, loss=2.64, acc=31.8]\n"
          ]
        },
        {
          "output_type": "stream",
          "name": "stdout",
          "text": [
            "Train Loss: 2.6376, Train Acc: 31.81%, Test Loss: 2.3600, Test Acc: 37.44%, Time: 17.23s\n",
            "\n",
            "Epoch [43/100] - Learning Rate: 0.010000\n"
          ]
        },
        {
          "output_type": "stream",
          "name": "stderr",
          "text": [
            "Training: 100%|██████████| 49/49 [00:18<00:00,  2.60it/s, loss=2.62, acc=32.3]\n"
          ]
        },
        {
          "output_type": "stream",
          "name": "stdout",
          "text": [
            "Train Loss: 2.6240, Train Acc: 32.26%, Test Loss: 2.2836, Test Acc: 39.96%, Time: 18.84s\n",
            "New best model saved with accuracy: 39.96%\n",
            "\n",
            "Epoch [44/100] - Learning Rate: 0.010000\n"
          ]
        },
        {
          "output_type": "stream",
          "name": "stderr",
          "text": [
            "Training: 100%|██████████| 49/49 [00:17<00:00,  2.76it/s, loss=2.61, acc=32.5]\n"
          ]
        },
        {
          "output_type": "stream",
          "name": "stdout",
          "text": [
            "Train Loss: 2.6149, Train Acc: 32.52%, Test Loss: 2.2428, Test Acc: 40.80%, Time: 17.78s\n",
            "New best model saved with accuracy: 40.80%\n",
            "\n",
            "Epoch [45/100] - Learning Rate: 0.010000\n"
          ]
        },
        {
          "output_type": "stream",
          "name": "stderr",
          "text": [
            "Training: 100%|██████████| 49/49 [00:17<00:00,  2.75it/s, loss=2.6, acc=32.5]\n"
          ]
        },
        {
          "output_type": "stream",
          "name": "stdout",
          "text": [
            "Train Loss: 2.6042, Train Acc: 32.46%, Test Loss: 2.2885, Test Acc: 39.86%, Time: 17.81s\n",
            "\n",
            "Epoch [46/100] - Learning Rate: 0.010000\n"
          ]
        },
        {
          "output_type": "stream",
          "name": "stderr",
          "text": [
            "Training: 100%|██████████| 49/49 [00:16<00:00,  2.94it/s, loss=2.59, acc=33]\n"
          ]
        },
        {
          "output_type": "stream",
          "name": "stdout",
          "text": [
            "Train Loss: 2.5896, Train Acc: 32.96%, Test Loss: 2.2315, Test Acc: 40.74%, Time: 16.67s\n",
            "\n",
            "Epoch [47/100] - Learning Rate: 0.010000\n"
          ]
        },
        {
          "output_type": "stream",
          "name": "stderr",
          "text": [
            "Training: 100%|██████████| 49/49 [00:17<00:00,  2.75it/s, loss=2.58, acc=33]\n"
          ]
        },
        {
          "output_type": "stream",
          "name": "stdout",
          "text": [
            "Train Loss: 2.5750, Train Acc: 33.00%, Test Loss: 2.2280, Test Acc: 41.17%, Time: 17.83s\n",
            "New best model saved with accuracy: 41.17%\n",
            "\n",
            "Epoch [48/100] - Learning Rate: 0.010000\n"
          ]
        },
        {
          "output_type": "stream",
          "name": "stderr",
          "text": [
            "Training: 100%|██████████| 49/49 [00:16<00:00,  2.90it/s, loss=2.56, acc=33.2]\n"
          ]
        },
        {
          "output_type": "stream",
          "name": "stdout",
          "text": [
            "Train Loss: 2.5626, Train Acc: 33.20%, Test Loss: 2.1860, Test Acc: 42.05%, Time: 16.90s\n",
            "New best model saved with accuracy: 42.05%\n",
            "\n",
            "Epoch [49/100] - Learning Rate: 0.010000\n"
          ]
        },
        {
          "output_type": "stream",
          "name": "stderr",
          "text": [
            "Training: 100%|██████████| 49/49 [00:17<00:00,  2.78it/s, loss=2.55, acc=33.5]\n"
          ]
        },
        {
          "output_type": "stream",
          "name": "stdout",
          "text": [
            "Train Loss: 2.5528, Train Acc: 33.46%, Test Loss: 2.1790, Test Acc: 41.62%, Time: 17.66s\n",
            "\n",
            "Epoch [50/100] - Learning Rate: 0.010000\n"
          ]
        },
        {
          "output_type": "stream",
          "name": "stderr",
          "text": [
            "Training: 100%|██████████| 49/49 [00:17<00:00,  2.86it/s, loss=2.55, acc=33.8]\n"
          ]
        },
        {
          "output_type": "stream",
          "name": "stdout",
          "text": [
            "Train Loss: 2.5466, Train Acc: 33.84%, Test Loss: 2.1990, Test Acc: 41.24%, Time: 17.14s\n",
            "\n",
            "Epoch [51/100] - Learning Rate: 0.001000\n"
          ]
        },
        {
          "output_type": "stream",
          "name": "stderr",
          "text": [
            "Training: 100%|██████████| 49/49 [00:17<00:00,  2.82it/s, loss=2.48, acc=35]\n"
          ]
        },
        {
          "output_type": "stream",
          "name": "stdout",
          "text": [
            "Train Loss: 2.4821, Train Acc: 34.98%, Test Loss: 2.1095, Test Acc: 43.68%, Time: 17.38s\n",
            "New best model saved with accuracy: 43.68%\n",
            "\n",
            "Epoch [52/100] - Learning Rate: 0.001000\n"
          ]
        },
        {
          "output_type": "stream",
          "name": "stderr",
          "text": [
            "Training: 100%|██████████| 49/49 [00:16<00:00,  2.89it/s, loss=2.45, acc=35.7]\n"
          ]
        },
        {
          "output_type": "stream",
          "name": "stdout",
          "text": [
            "Train Loss: 2.4536, Train Acc: 35.74%, Test Loss: 2.1043, Test Acc: 43.79%, Time: 16.95s\n",
            "New best model saved with accuracy: 43.79%\n",
            "\n",
            "Epoch [53/100] - Learning Rate: 0.001000\n"
          ]
        },
        {
          "output_type": "stream",
          "name": "stderr",
          "text": [
            "Training: 100%|██████████| 49/49 [00:17<00:00,  2.85it/s, loss=2.45, acc=35.7]\n"
          ]
        },
        {
          "output_type": "stream",
          "name": "stdout",
          "text": [
            "Train Loss: 2.4535, Train Acc: 35.69%, Test Loss: 2.1005, Test Acc: 43.63%, Time: 17.20s\n",
            "\n",
            "Epoch [54/100] - Learning Rate: 0.001000\n"
          ]
        },
        {
          "output_type": "stream",
          "name": "stderr",
          "text": [
            "Training: 100%|██████████| 49/49 [00:20<00:00,  2.42it/s, loss=2.45, acc=36]\n"
          ]
        },
        {
          "output_type": "stream",
          "name": "stdout",
          "text": [
            "Train Loss: 2.4484, Train Acc: 35.95%, Test Loss: 2.0895, Test Acc: 43.97%, Time: 20.29s\n",
            "New best model saved with accuracy: 43.97%\n",
            "\n",
            "Epoch [55/100] - Learning Rate: 0.001000\n"
          ]
        },
        {
          "output_type": "stream",
          "name": "stderr",
          "text": [
            "Training: 100%|██████████| 49/49 [00:17<00:00,  2.87it/s, loss=2.45, acc=35.9]\n"
          ]
        },
        {
          "output_type": "stream",
          "name": "stdout",
          "text": [
            "Train Loss: 2.4478, Train Acc: 35.89%, Test Loss: 2.0951, Test Acc: 43.94%, Time: 17.09s\n",
            "\n",
            "Epoch [56/100] - Learning Rate: 0.001000\n"
          ]
        },
        {
          "output_type": "stream",
          "name": "stderr",
          "text": [
            "Training: 100%|██████████| 49/49 [00:18<00:00,  2.68it/s, loss=2.44, acc=35.8]\n"
          ]
        },
        {
          "output_type": "stream",
          "name": "stdout",
          "text": [
            "Train Loss: 2.4409, Train Acc: 35.79%, Test Loss: 2.0927, Test Acc: 44.04%, Time: 18.26s\n",
            "New best model saved with accuracy: 44.04%\n",
            "\n",
            "Epoch [57/100] - Learning Rate: 0.001000\n"
          ]
        },
        {
          "output_type": "stream",
          "name": "stderr",
          "text": [
            "Training: 100%|██████████| 49/49 [00:16<00:00,  2.90it/s, loss=2.44, acc=35.9]\n"
          ]
        },
        {
          "output_type": "stream",
          "name": "stdout",
          "text": [
            "Train Loss: 2.4434, Train Acc: 35.93%, Test Loss: 2.0890, Test Acc: 44.09%, Time: 16.93s\n",
            "New best model saved with accuracy: 44.09%\n",
            "\n",
            "Epoch [58/100] - Learning Rate: 0.001000\n"
          ]
        },
        {
          "output_type": "stream",
          "name": "stderr",
          "text": [
            "Training: 100%|██████████| 49/49 [00:18<00:00,  2.71it/s, loss=2.44, acc=36.1]\n"
          ]
        },
        {
          "output_type": "stream",
          "name": "stdout",
          "text": [
            "Train Loss: 2.4396, Train Acc: 36.06%, Test Loss: 2.0839, Test Acc: 44.16%, Time: 18.08s\n",
            "New best model saved with accuracy: 44.16%\n",
            "\n",
            "Epoch [59/100] - Learning Rate: 0.001000\n"
          ]
        },
        {
          "output_type": "stream",
          "name": "stderr",
          "text": [
            "Training: 100%|██████████| 49/49 [00:17<00:00,  2.88it/s, loss=2.43, acc=36]\n"
          ]
        },
        {
          "output_type": "stream",
          "name": "stdout",
          "text": [
            "Train Loss: 2.4333, Train Acc: 36.05%, Test Loss: 2.0803, Test Acc: 44.26%, Time: 17.02s\n",
            "New best model saved with accuracy: 44.26%\n",
            "\n",
            "Epoch [60/100] - Learning Rate: 0.001000\n"
          ]
        },
        {
          "output_type": "stream",
          "name": "stderr",
          "text": [
            "Training: 100%|██████████| 49/49 [00:17<00:00,  2.80it/s, loss=2.44, acc=35.8]\n"
          ]
        },
        {
          "output_type": "stream",
          "name": "stdout",
          "text": [
            "Train Loss: 2.4387, Train Acc: 35.85%, Test Loss: 2.0783, Test Acc: 44.28%, Time: 17.52s\n",
            "New best model saved with accuracy: 44.28%\n",
            "\n",
            "Epoch [61/100] - Learning Rate: 0.000100\n"
          ]
        },
        {
          "output_type": "stream",
          "name": "stderr",
          "text": [
            "Training: 100%|██████████| 49/49 [00:17<00:00,  2.82it/s, loss=2.43, acc=36.2]\n"
          ]
        },
        {
          "output_type": "stream",
          "name": "stdout",
          "text": [
            "Train Loss: 2.4259, Train Acc: 36.25%, Test Loss: 2.0751, Test Acc: 44.33%, Time: 17.41s\n",
            "New best model saved with accuracy: 44.33%\n",
            "\n",
            "Epoch [62/100] - Learning Rate: 0.000100\n"
          ]
        },
        {
          "output_type": "stream",
          "name": "stderr",
          "text": [
            "Training: 100%|██████████| 49/49 [00:17<00:00,  2.88it/s, loss=2.42, acc=36.3]\n"
          ]
        },
        {
          "output_type": "stream",
          "name": "stdout",
          "text": [
            "Train Loss: 2.4205, Train Acc: 36.26%, Test Loss: 2.0755, Test Acc: 44.30%, Time: 17.04s\n",
            "\n",
            "Epoch [63/100] - Learning Rate: 0.000100\n"
          ]
        },
        {
          "output_type": "stream",
          "name": "stderr",
          "text": [
            "Training: 100%|██████████| 49/49 [00:17<00:00,  2.84it/s, loss=2.42, acc=36.2]\n"
          ]
        },
        {
          "output_type": "stream",
          "name": "stdout",
          "text": [
            "Train Loss: 2.4237, Train Acc: 36.19%, Test Loss: 2.0738, Test Acc: 44.32%, Time: 17.23s\n",
            "\n",
            "Epoch [64/100] - Learning Rate: 0.000100\n"
          ]
        },
        {
          "output_type": "stream",
          "name": "stderr",
          "text": [
            "Training: 100%|██████████| 49/49 [00:17<00:00,  2.85it/s, loss=2.42, acc=36.5]\n"
          ]
        },
        {
          "output_type": "stream",
          "name": "stdout",
          "text": [
            "Train Loss: 2.4207, Train Acc: 36.46%, Test Loss: 2.0743, Test Acc: 44.27%, Time: 17.23s\n",
            "\n",
            "Epoch [65/100] - Learning Rate: 0.000100\n"
          ]
        },
        {
          "output_type": "stream",
          "name": "stderr",
          "text": [
            "Training: 100%|██████████| 49/49 [00:17<00:00,  2.75it/s, loss=2.42, acc=36.2]\n"
          ]
        },
        {
          "output_type": "stream",
          "name": "stdout",
          "text": [
            "Train Loss: 2.4237, Train Acc: 36.24%, Test Loss: 2.0733, Test Acc: 44.35%, Time: 17.84s\n",
            "New best model saved with accuracy: 44.35%\n",
            "\n",
            "Epoch [66/100] - Learning Rate: 0.000100\n"
          ]
        },
        {
          "output_type": "stream",
          "name": "stderr",
          "text": [
            "Training: 100%|██████████| 49/49 [00:16<00:00,  2.89it/s, loss=2.42, acc=36.5]\n"
          ]
        },
        {
          "output_type": "stream",
          "name": "stdout",
          "text": [
            "Train Loss: 2.4188, Train Acc: 36.45%, Test Loss: 2.0719, Test Acc: 44.40%, Time: 16.94s\n",
            "New best model saved with accuracy: 44.40%\n",
            "\n",
            "Epoch [67/100] - Learning Rate: 0.000100\n"
          ]
        },
        {
          "output_type": "stream",
          "name": "stderr",
          "text": [
            "Training: 100%|██████████| 49/49 [00:17<00:00,  2.72it/s, loss=2.42, acc=36.5]\n"
          ]
        },
        {
          "output_type": "stream",
          "name": "stdout",
          "text": [
            "Train Loss: 2.4172, Train Acc: 36.50%, Test Loss: 2.0722, Test Acc: 44.37%, Time: 18.00s\n",
            "\n",
            "Epoch [68/100] - Learning Rate: 0.000100\n"
          ]
        },
        {
          "output_type": "stream",
          "name": "stderr",
          "text": [
            "Training: 100%|██████████| 49/49 [00:16<00:00,  2.92it/s, loss=2.42, acc=36.4]\n"
          ]
        },
        {
          "output_type": "stream",
          "name": "stdout",
          "text": [
            "Train Loss: 2.4172, Train Acc: 36.36%, Test Loss: 2.0719, Test Acc: 44.45%, Time: 16.77s\n",
            "New best model saved with accuracy: 44.45%\n",
            "\n",
            "Epoch [69/100] - Learning Rate: 0.000100\n"
          ]
        },
        {
          "output_type": "stream",
          "name": "stderr",
          "text": [
            "Training: 100%|██████████| 49/49 [00:17<00:00,  2.72it/s, loss=2.42, acc=36.5]\n"
          ]
        },
        {
          "output_type": "stream",
          "name": "stdout",
          "text": [
            "Train Loss: 2.4198, Train Acc: 36.51%, Test Loss: 2.0713, Test Acc: 44.33%, Time: 18.00s\n",
            "\n",
            "Epoch [70/100] - Learning Rate: 0.000100\n"
          ]
        },
        {
          "output_type": "stream",
          "name": "stderr",
          "text": [
            "Training: 100%|██████████| 49/49 [00:17<00:00,  2.86it/s, loss=2.42, acc=36.4]\n"
          ]
        },
        {
          "output_type": "stream",
          "name": "stdout",
          "text": [
            "Train Loss: 2.4185, Train Acc: 36.38%, Test Loss: 2.0727, Test Acc: 44.35%, Time: 17.12s\n",
            "\n",
            "Epoch [71/100] - Learning Rate: 0.000100\n"
          ]
        },
        {
          "output_type": "stream",
          "name": "stderr",
          "text": [
            "Training: 100%|██████████| 49/49 [00:17<00:00,  2.73it/s, loss=2.42, acc=36.4]\n"
          ]
        },
        {
          "output_type": "stream",
          "name": "stdout",
          "text": [
            "Train Loss: 2.4184, Train Acc: 36.40%, Test Loss: 2.0727, Test Acc: 44.28%, Time: 17.92s\n",
            "\n",
            "Epoch [72/100] - Learning Rate: 0.000100\n"
          ]
        },
        {
          "output_type": "stream",
          "name": "stderr",
          "text": [
            "Training: 100%|██████████| 49/49 [00:17<00:00,  2.87it/s, loss=2.42, acc=36.4]\n"
          ]
        },
        {
          "output_type": "stream",
          "name": "stdout",
          "text": [
            "Train Loss: 2.4198, Train Acc: 36.37%, Test Loss: 2.0724, Test Acc: 44.32%, Time: 17.09s\n",
            "\n",
            "Epoch [73/100] - Learning Rate: 0.000100\n"
          ]
        },
        {
          "output_type": "stream",
          "name": "stderr",
          "text": [
            "Training: 100%|██████████| 49/49 [00:18<00:00,  2.63it/s, loss=2.42, acc=36.5]\n"
          ]
        },
        {
          "output_type": "stream",
          "name": "stdout",
          "text": [
            "Train Loss: 2.4187, Train Acc: 36.53%, Test Loss: 2.0709, Test Acc: 44.36%, Time: 18.64s\n",
            "\n",
            "Epoch [74/100] - Learning Rate: 0.000100\n"
          ]
        },
        {
          "output_type": "stream",
          "name": "stderr",
          "text": [
            "Training: 100%|██████████| 49/49 [00:17<00:00,  2.83it/s, loss=2.41, acc=36.5]\n"
          ]
        },
        {
          "output_type": "stream",
          "name": "stdout",
          "text": [
            "Train Loss: 2.4141, Train Acc: 36.48%, Test Loss: 2.0720, Test Acc: 44.30%, Time: 17.32s\n",
            "\n",
            "Epoch [75/100] - Learning Rate: 0.000100\n"
          ]
        },
        {
          "output_type": "stream",
          "name": "stderr",
          "text": [
            "Training: 100%|██████████| 49/49 [00:17<00:00,  2.76it/s, loss=2.41, acc=36.5]\n"
          ]
        },
        {
          "output_type": "stream",
          "name": "stdout",
          "text": [
            "Train Loss: 2.4148, Train Acc: 36.49%, Test Loss: 2.0701, Test Acc: 44.30%, Time: 17.79s\n",
            "\n",
            "Epoch [76/100] - Learning Rate: 0.000100\n"
          ]
        },
        {
          "output_type": "stream",
          "name": "stderr",
          "text": [
            "Training: 100%|██████████| 49/49 [00:17<00:00,  2.83it/s, loss=2.42, acc=36.6]\n"
          ]
        },
        {
          "output_type": "stream",
          "name": "stdout",
          "text": [
            "Train Loss: 2.4201, Train Acc: 36.61%, Test Loss: 2.0697, Test Acc: 44.41%, Time: 17.34s\n",
            "\n",
            "Epoch [77/100] - Learning Rate: 0.000100\n"
          ]
        },
        {
          "output_type": "stream",
          "name": "stderr",
          "text": [
            "Training: 100%|██████████| 49/49 [00:16<00:00,  2.89it/s, loss=2.41, acc=36.5]\n"
          ]
        },
        {
          "output_type": "stream",
          "name": "stdout",
          "text": [
            "Train Loss: 2.4143, Train Acc: 36.54%, Test Loss: 2.0703, Test Acc: 44.37%, Time: 16.98s\n",
            "\n",
            "Epoch [78/100] - Learning Rate: 0.000100\n"
          ]
        },
        {
          "output_type": "stream",
          "name": "stderr",
          "text": [
            "Training: 100%|██████████| 49/49 [00:17<00:00,  2.78it/s, loss=2.41, acc=36.5]\n"
          ]
        },
        {
          "output_type": "stream",
          "name": "stdout",
          "text": [
            "Train Loss: 2.4117, Train Acc: 36.53%, Test Loss: 2.0692, Test Acc: 44.54%, Time: 17.66s\n",
            "New best model saved with accuracy: 44.54%\n",
            "\n",
            "Epoch [79/100] - Learning Rate: 0.000100\n"
          ]
        },
        {
          "output_type": "stream",
          "name": "stderr",
          "text": [
            "Training: 100%|██████████| 49/49 [00:17<00:00,  2.87it/s, loss=2.41, acc=36.7]\n"
          ]
        },
        {
          "output_type": "stream",
          "name": "stdout",
          "text": [
            "Train Loss: 2.4101, Train Acc: 36.73%, Test Loss: 2.0703, Test Acc: 44.51%, Time: 17.09s\n",
            "\n",
            "Epoch [80/100] - Learning Rate: 0.000100\n"
          ]
        },
        {
          "output_type": "stream",
          "name": "stderr",
          "text": [
            "Training: 100%|██████████| 49/49 [00:18<00:00,  2.67it/s, loss=2.41, acc=36.6]\n"
          ]
        },
        {
          "output_type": "stream",
          "name": "stdout",
          "text": [
            "Train Loss: 2.4126, Train Acc: 36.60%, Test Loss: 2.0695, Test Acc: 44.43%, Time: 18.38s\n",
            "\n",
            "Epoch [81/100] - Learning Rate: 0.000100\n"
          ]
        },
        {
          "output_type": "stream",
          "name": "stderr",
          "text": [
            "Training: 100%|██████████| 49/49 [00:17<00:00,  2.80it/s, loss=2.42, acc=36.2]\n"
          ]
        },
        {
          "output_type": "stream",
          "name": "stdout",
          "text": [
            "Train Loss: 2.4199, Train Acc: 36.18%, Test Loss: 2.0692, Test Acc: 44.40%, Time: 17.49s\n",
            "\n",
            "Epoch [82/100] - Learning Rate: 0.000100\n"
          ]
        },
        {
          "output_type": "stream",
          "name": "stderr",
          "text": [
            "Training: 100%|██████████| 49/49 [00:18<00:00,  2.63it/s, loss=2.41, acc=36.4]\n"
          ]
        },
        {
          "output_type": "stream",
          "name": "stdout",
          "text": [
            "Train Loss: 2.4142, Train Acc: 36.41%, Test Loss: 2.0693, Test Acc: 44.47%, Time: 18.62s\n",
            "\n",
            "Epoch [83/100] - Learning Rate: 0.000100\n"
          ]
        },
        {
          "output_type": "stream",
          "name": "stderr",
          "text": [
            "Training: 100%|██████████| 49/49 [00:16<00:00,  2.89it/s, loss=2.41, acc=36.4]\n"
          ]
        },
        {
          "output_type": "stream",
          "name": "stdout",
          "text": [
            "Train Loss: 2.4134, Train Acc: 36.41%, Test Loss: 2.0690, Test Acc: 44.38%, Time: 16.98s\n",
            "\n",
            "Epoch [84/100] - Learning Rate: 0.000100\n"
          ]
        },
        {
          "output_type": "stream",
          "name": "stderr",
          "text": [
            "Training: 100%|██████████| 49/49 [00:18<00:00,  2.70it/s, loss=2.42, acc=36.4]\n"
          ]
        },
        {
          "output_type": "stream",
          "name": "stdout",
          "text": [
            "Train Loss: 2.4176, Train Acc: 36.44%, Test Loss: 2.0699, Test Acc: 44.56%, Time: 18.18s\n",
            "New best model saved with accuracy: 44.56%\n",
            "\n",
            "Epoch [85/100] - Learning Rate: 0.000100\n"
          ]
        },
        {
          "output_type": "stream",
          "name": "stderr",
          "text": [
            "Training: 100%|██████████| 49/49 [00:17<00:00,  2.87it/s, loss=2.41, acc=36.6]\n"
          ]
        },
        {
          "output_type": "stream",
          "name": "stdout",
          "text": [
            "Train Loss: 2.4144, Train Acc: 36.63%, Test Loss: 2.0680, Test Acc: 44.49%, Time: 17.10s\n",
            "\n",
            "Epoch [86/100] - Learning Rate: 0.000100\n"
          ]
        },
        {
          "output_type": "stream",
          "name": "stderr",
          "text": [
            "Training: 100%|██████████| 49/49 [00:17<00:00,  2.79it/s, loss=2.42, acc=36.5]\n"
          ]
        },
        {
          "output_type": "stream",
          "name": "stdout",
          "text": [
            "Train Loss: 2.4159, Train Acc: 36.51%, Test Loss: 2.0685, Test Acc: 44.47%, Time: 17.60s\n",
            "\n",
            "Epoch [87/100] - Learning Rate: 0.000100\n"
          ]
        },
        {
          "output_type": "stream",
          "name": "stderr",
          "text": [
            "Training: 100%|██████████| 49/49 [00:16<00:00,  2.89it/s, loss=2.42, acc=36.4]\n"
          ]
        },
        {
          "output_type": "stream",
          "name": "stdout",
          "text": [
            "Train Loss: 2.4165, Train Acc: 36.41%, Test Loss: 2.0677, Test Acc: 44.47%, Time: 16.97s\n",
            "\n",
            "Epoch [88/100] - Learning Rate: 0.000100\n"
          ]
        },
        {
          "output_type": "stream",
          "name": "stderr",
          "text": [
            "Training: 100%|██████████| 49/49 [00:17<00:00,  2.79it/s, loss=2.42, acc=36.4]\n"
          ]
        },
        {
          "output_type": "stream",
          "name": "stdout",
          "text": [
            "Train Loss: 2.4233, Train Acc: 36.37%, Test Loss: 2.0692, Test Acc: 44.35%, Time: 17.56s\n",
            "\n",
            "Epoch [89/100] - Learning Rate: 0.000100\n"
          ]
        },
        {
          "output_type": "stream",
          "name": "stderr",
          "text": [
            "Training: 100%|██████████| 49/49 [00:17<00:00,  2.88it/s, loss=2.41, acc=36.5]\n"
          ]
        },
        {
          "output_type": "stream",
          "name": "stdout",
          "text": [
            "Train Loss: 2.4121, Train Acc: 36.52%, Test Loss: 2.0673, Test Acc: 44.46%, Time: 17.03s\n",
            "\n",
            "Epoch [90/100] - Learning Rate: 0.000100\n"
          ]
        },
        {
          "output_type": "stream",
          "name": "stderr",
          "text": [
            "Training: 100%|██████████| 49/49 [00:17<00:00,  2.87it/s, loss=2.42, acc=36.3]\n"
          ]
        },
        {
          "output_type": "stream",
          "name": "stdout",
          "text": [
            "Train Loss: 2.4200, Train Acc: 36.34%, Test Loss: 2.0679, Test Acc: 44.49%, Time: 17.06s\n",
            "\n",
            "Epoch [91/100] - Learning Rate: 0.000100\n"
          ]
        },
        {
          "output_type": "stream",
          "name": "stderr",
          "text": [
            "Training: 100%|██████████| 49/49 [00:17<00:00,  2.83it/s, loss=2.42, acc=36.4]\n"
          ]
        },
        {
          "output_type": "stream",
          "name": "stdout",
          "text": [
            "Train Loss: 2.4153, Train Acc: 36.40%, Test Loss: 2.0670, Test Acc: 44.55%, Time: 17.31s\n",
            "\n",
            "Epoch [92/100] - Learning Rate: 0.000100\n"
          ]
        },
        {
          "output_type": "stream",
          "name": "stderr",
          "text": [
            "Training: 100%|██████████| 49/49 [00:16<00:00,  2.90it/s, loss=2.41, acc=36.7]\n"
          ]
        },
        {
          "output_type": "stream",
          "name": "stdout",
          "text": [
            "Train Loss: 2.4114, Train Acc: 36.67%, Test Loss: 2.0683, Test Acc: 44.49%, Time: 16.91s\n",
            "\n",
            "Epoch [93/100] - Learning Rate: 0.000100\n"
          ]
        },
        {
          "output_type": "stream",
          "name": "stderr",
          "text": [
            "Training: 100%|██████████| 49/49 [00:17<00:00,  2.80it/s, loss=2.41, acc=36.6]\n"
          ]
        },
        {
          "output_type": "stream",
          "name": "stdout",
          "text": [
            "Train Loss: 2.4116, Train Acc: 36.55%, Test Loss: 2.0678, Test Acc: 44.54%, Time: 17.49s\n",
            "\n",
            "Epoch [94/100] - Learning Rate: 0.000100\n"
          ]
        },
        {
          "output_type": "stream",
          "name": "stderr",
          "text": [
            "Training: 100%|██████████| 49/49 [00:17<00:00,  2.88it/s, loss=2.41, acc=36.6]\n"
          ]
        },
        {
          "output_type": "stream",
          "name": "stdout",
          "text": [
            "Train Loss: 2.4112, Train Acc: 36.64%, Test Loss: 2.0669, Test Acc: 44.48%, Time: 17.01s\n",
            "\n",
            "Epoch [95/100] - Learning Rate: 0.000100\n"
          ]
        },
        {
          "output_type": "stream",
          "name": "stderr",
          "text": [
            "Training: 100%|██████████| 49/49 [00:17<00:00,  2.75it/s, loss=2.41, acc=36.6]\n"
          ]
        },
        {
          "output_type": "stream",
          "name": "stdout",
          "text": [
            "Train Loss: 2.4064, Train Acc: 36.58%, Test Loss: 2.0669, Test Acc: 44.48%, Time: 17.81s\n",
            "\n",
            "Epoch [96/100] - Learning Rate: 0.000100\n"
          ]
        },
        {
          "output_type": "stream",
          "name": "stderr",
          "text": [
            "Training: 100%|██████████| 49/49 [00:17<00:00,  2.86it/s, loss=2.41, acc=36.6]\n"
          ]
        },
        {
          "output_type": "stream",
          "name": "stdout",
          "text": [
            "Train Loss: 2.4146, Train Acc: 36.55%, Test Loss: 2.0669, Test Acc: 44.61%, Time: 17.12s\n",
            "New best model saved with accuracy: 44.61%\n",
            "\n",
            "Epoch [97/100] - Learning Rate: 0.000100\n"
          ]
        },
        {
          "output_type": "stream",
          "name": "stderr",
          "text": [
            "Training: 100%|██████████| 49/49 [00:17<00:00,  2.76it/s, loss=2.41, acc=36.8]\n"
          ]
        },
        {
          "output_type": "stream",
          "name": "stdout",
          "text": [
            "Train Loss: 2.4106, Train Acc: 36.83%, Test Loss: 2.0653, Test Acc: 44.52%, Time: 17.75s\n",
            "\n",
            "Epoch [98/100] - Learning Rate: 0.000100\n"
          ]
        },
        {
          "output_type": "stream",
          "name": "stderr",
          "text": [
            "Training: 100%|██████████| 49/49 [00:16<00:00,  2.90it/s, loss=2.41, acc=36.6]\n"
          ]
        },
        {
          "output_type": "stream",
          "name": "stdout",
          "text": [
            "Train Loss: 2.4085, Train Acc: 36.61%, Test Loss: 2.0658, Test Acc: 44.45%, Time: 16.91s\n",
            "\n",
            "Epoch [99/100] - Learning Rate: 0.000100\n"
          ]
        },
        {
          "output_type": "stream",
          "name": "stderr",
          "text": [
            "Training: 100%|██████████| 49/49 [00:17<00:00,  2.74it/s, loss=2.41, acc=36.9]\n"
          ]
        },
        {
          "output_type": "stream",
          "name": "stdout",
          "text": [
            "Train Loss: 2.4085, Train Acc: 36.87%, Test Loss: 2.0659, Test Acc: 44.61%, Time: 17.89s\n",
            "\n",
            "Epoch [100/100] - Learning Rate: 0.000100\n"
          ]
        },
        {
          "output_type": "stream",
          "name": "stderr",
          "text": [
            "Training: 100%|██████████| 49/49 [00:17<00:00,  2.88it/s, loss=2.42, acc=36.4]\n"
          ]
        },
        {
          "output_type": "stream",
          "name": "stdout",
          "text": [
            "Train Loss: 2.4189, Train Acc: 36.37%, Test Loss: 2.0661, Test Acc: 44.54%, Time: 17.01s\n",
            "Best model loaded with accuracy: 44.61%\n"
          ]
        },
        {
          "output_type": "display_data",
          "data": {
            "text/plain": [
              "<Figure size 1800x500 with 3 Axes>"
            ],
            "image/png": "[encoded data removed]"
          },
          "metadata": {}
        },
        {
          "output_type": "stream",
          "name": "stdout",
          "text": [
            "Centralized benchmark completed!\n"
          ]
        }
      ],
      "source": [
        "import torch\n",
        "import torch.nn as nn\n",
        "import torchvision.transforms as transforms\n",
        "import torch.nn.functional as F\n",
        "from torchvision.datasets import CIFAR10, CIFAR100\n",
        "import torchvision.models as models\n",
        "from torch.utils.data import DataLoader\n",
        "\n",
        "from tqdm import tqdm\n",
        "import matplotlib.pyplot as plt\n",
        "import time\n",
        "import pickle\n",
        "import numpy as np\n",
        "import random\n",
        "\n",
        "print(\"PyTorch version:\", torch.__version__)\n",
        "device = torch.device(\"cuda:0\" if torch.cuda.is_available() else \"cpu\")\n",
        "print(f\"Using device: {device}\")\n",
        "\n",
        "# Seeding for reproducibility\n",
        "seed = 2025\n",
        "torch.manual_seed(seed)\n",
        "torch.cuda.manual_seed(seed)\n",
        "np.random.seed(seed)\n",
        "random.seed(seed)\n",
        "\n",
        "# transforms\n",
        "train_transform = transforms.Compose(\n",
        "    [\n",
        "        transforms.RandomCrop(32, padding=4),\n",
        "        transforms.RandomHorizontalFlip(),\n",
        "        transforms.ToTensor(),\n",
        "        transforms.Normalize((0.4914, 0.4822, 0.4465), (0.2023, 0.1994, 0.2010)),\n",
        "    ]\n",
        ")\n",
        "\n",
        "test_transform = transforms.Compose(\n",
        "    [\n",
        "        transforms.ToTensor(),\n",
        "        transforms.Normalize((0.4914, 0.4822, 0.4465), (0.2023, 0.1994, 0.2010)),\n",
        "    ]\n",
        ")\n",
        "\n",
        "\n",
        "# load data\n",
        "\n",
        "\n",
        "def load_data(dataset_name=\"cifar100\", batch_size=128, num_workers=2):\n",
        "    \"\"\"Enhanced data loading with stronger augmentation for CIFAR-100\"\"\"\n",
        "\n",
        "    # Better augmentation for CIFAR-100\n",
        "    train_transform = transforms.Compose(\n",
        "        [\n",
        "            transforms.RandomCrop(32, padding=4),\n",
        "            transforms.RandomHorizontalFlip(),\n",
        "            transforms.ToTensor(),\n",
        "            transforms.Normalize((0.4914, 0.4822, 0.4465), (0.2023, 0.1994, 0.2010)),\n",
        "        ]\n",
        "    )\n",
        "\n",
        "    test_transform = transforms.Compose(\n",
        "        [\n",
        "            transforms.ToTensor(),\n",
        "            transforms.Normalize((0.4914, 0.4822, 0.4465), (0.2023, 0.1994, 0.2010)),\n",
        "        ]\n",
        "    )\n",
        "\n",
        "    if dataset_name.lower() == \"cifar100\":\n",
        "        train_dataset = CIFAR100(\n",
        "            root=\"./data\", train=True, download=True, transform=train_transform\n",
        "        )\n",
        "        test_dataset = CIFAR100(\n",
        "            root=\"./data\", train=False, download=True, transform=test_transform\n",
        "        )\n",
        "        num_classes = 100\n",
        "    else:\n",
        "        raise ValueError(f\"Dataset {dataset_name} not supported in enhanced version\")\n",
        "\n",
        "    # Data loaders\n",
        "    train_loader = DataLoader(\n",
        "        train_dataset,\n",
        "        batch_size=batch_size,\n",
        "        shuffle=True,\n",
        "        num_workers=num_workers,\n",
        "    )\n",
        "\n",
        "    test_loader = DataLoader(\n",
        "        test_dataset,\n",
        "        batch_size=batch_size,\n",
        "        shuffle=False,\n",
        "        num_workers=num_workers,\n",
        "    )\n",
        "\n",
        "    return train_loader, test_loader, num_classes\n",
        "\n",
        "\n",
        "# model - LeNet5 from the paper [11]\n",
        "class LeNet5(nn.Module):\n",
        "    def __init__(self, num_classes=10):\n",
        "        super(LeNet5, self).__init__()\n",
        "        # Input: 3x32x32 (CIFAR has 3 color channels)\n",
        "        self.conv1 = nn.Conv2d(3, 6, kernel_size=5)  # Output: 6x28x28\n",
        "        self.pool1 = nn.MaxPool2d(kernel_size=2, stride=2)  # Output: 6x14x14\n",
        "        self.conv2 = nn.Conv2d(6, 16, kernel_size=5)  # Output: 16x10x10\n",
        "        self.pool2 = nn.MaxPool2d(kernel_size=2, stride=2)  # Output: 16x5x5\n",
        "\n",
        "        # fc layers\n",
        "        self.fc1 = nn.Linear(16 * 5 * 5, 120)\n",
        "        self.fc2 = nn.Linear(120, 84)\n",
        "        self.fc3 = nn.Linear(84, num_classes)\n",
        "\n",
        "    def forward(self, x):\n",
        "        x = self.pool1(F.relu(self.conv1(x)))\n",
        "        x = self.pool2(F.relu(self.conv2(x)))\n",
        "        x = x.view(-1, 16 * 5 * 5)  # flatten\n",
        "        x = F.relu(self.fc1(x))\n",
        "        x = F.relu(self.fc2(x))\n",
        "        x = self.fc3(x)\n",
        "        return x\n",
        "\n",
        "\n",
        "class ImprovedCNN(nn.Module):\n",
        "    def __init__(self, num_classes=100):\n",
        "        super(ImprovedCNN, self).__init__()\n",
        "        # First conv block\n",
        "        self.conv1 = nn.Conv2d(3, 64, kernel_size=5, padding=2)\n",
        "        self.bn1 = nn.BatchNorm2d(64)  # using BatchNorm for better training stability\n",
        "        self.pool1 = nn.MaxPool2d(kernel_size=2, stride=2)\n",
        "\n",
        "        # Second conv block\n",
        "        self.conv2 = nn.Conv2d(64, 64, kernel_size=5, padding=2)\n",
        "        self.bn2 = nn.BatchNorm2d(64)\n",
        "        self.pool2 = nn.MaxPool2d(kernel_size=2, stride=2)\n",
        "\n",
        "        # Fully connected layers\n",
        "        self.fc1 = nn.Linear(64 * 8 * 8, 384)\n",
        "        self.dropout1 = nn.Dropout(0.5)\n",
        "        self.fc2 = nn.Linear(384, 192)\n",
        "        self.dropout2 = nn.Dropout(0.5)\n",
        "        self.fc3 = nn.Linear(192, num_classes)\n",
        "\n",
        "    def forward(self, x):\n",
        "        # First conv block\n",
        "        x = self.pool1(F.relu(self.bn1(self.conv1(x))))\n",
        "\n",
        "        # Second conv block\n",
        "        x = self.pool2(F.relu(self.bn2(self.conv2(x))))\n",
        "\n",
        "        # Flatten and fully connected layers\n",
        "        x = x.view(-1, 64 * 8 * 8)\n",
        "        x = F.relu(self.fc1(x))\n",
        "        x = self.dropout1(x)\n",
        "        x = F.relu(self.fc2(x))\n",
        "        x = self.dropout2(x)\n",
        "        x = self.fc3(x)\n",
        "\n",
        "        return x\n",
        "\n",
        "\n",
        "def create_model(model_name, num_classes=100):\n",
        "    if model_name.lower() == \"improved_cnn\":\n",
        "        return ImprovedCNN(num_classes=num_classes)\n",
        "    elif model_name.lower() == \"lenet5\":\n",
        "        return LeNet5(num_classes=num_classes)\n",
        "    else:\n",
        "        raise ValueError(f\"Unknown model: {model_name}\")\n",
        "\n",
        "\n",
        "# train\n",
        "def train_epoch(model, train_loader, criterion, optimizer, device):\n",
        "    model.train()\n",
        "    running_loss = 0.0\n",
        "    correct = 0\n",
        "    total = 0\n",
        "\n",
        "    pbar = tqdm(train_loader, desc=\"Training\")\n",
        "\n",
        "    for inputs, labels in pbar:\n",
        "        inputs, labels = inputs.to(device), labels.to(device)\n",
        "\n",
        "        optimizer.zero_grad()\n",
        "        outputs = model(inputs)\n",
        "        loss = criterion(outputs, labels)\n",
        "        loss.backward()\n",
        "        optimizer.step()\n",
        "\n",
        "        running_loss += loss.item() * inputs.size(0)\n",
        "        _, predicted = outputs.max(1)\n",
        "        total += labels.size(0)\n",
        "        correct += predicted.eq(labels).sum().item()\n",
        "\n",
        "        # just a progress bar\n",
        "        pbar.set_postfix({\"loss\": running_loss / total, \"acc\": 100.0 * correct / total})\n",
        "\n",
        "    train_loss = running_loss / total\n",
        "    train_acc = 100.0 * correct / total\n",
        "\n",
        "    return train_loss, train_acc\n",
        "\n",
        "\n",
        "# eval\n",
        "def evaluate(model, test_loader, criterion, device):\n",
        "    model.eval()\n",
        "    running_loss = 0.0\n",
        "    correct = 0\n",
        "    total = 0\n",
        "\n",
        "    with torch.no_grad():\n",
        "        for inputs, labels in test_loader:\n",
        "            inputs, labels = inputs.to(device), labels.to(device)\n",
        "\n",
        "            outputs = model(inputs)\n",
        "            loss = criterion(outputs, labels)\n",
        "\n",
        "            running_loss += loss.item() * inputs.size(0)\n",
        "            _, predicted = outputs.max(1)\n",
        "            total += labels.size(0)\n",
        "            correct += predicted.eq(labels).sum().item()\n",
        "\n",
        "    test_loss = running_loss / total\n",
        "    test_acc = 100.0 * correct / total\n",
        "\n",
        "    return test_loss, test_acc\n",
        "\n",
        "\n",
        "# train config\n",
        "def train_centralized_model(\n",
        "    model_name=\"improved_cnn\",\n",
        "    dataset_name=\"cifar100\",\n",
        "    batch_size=1024,\n",
        "    epochs=100,\n",
        "    lr=0.01,\n",
        "    momentum=0.9,\n",
        "    weight_decay=4e-4,\n",
        "    lr_scheduler=\"step\",\n",
        "    save_path=\"improved_cnn_model.pth\",\n",
        "):\n",
        "    # Load data\n",
        "    train_loader, test_loader, num_classes = load_data(\n",
        "        dataset_name=dataset_name, batch_size=batch_size\n",
        "    )\n",
        "\n",
        "    # Create model\n",
        "    model = create_model(model_name, num_classes=num_classes)\n",
        "    model = model.to(device)\n",
        "\n",
        "    # Print model parameters\n",
        "    total_params = sum(p.numel() for p in model.parameters())\n",
        "    print(f\"Total parameters: {total_params:,}\")\n",
        "\n",
        "    # Define loss function and optimizer\n",
        "    criterion = nn.CrossEntropyLoss()\n",
        "    optimizer = torch.optim.SGD(\n",
        "        model.parameters(), lr=lr, momentum=momentum, weight_decay=weight_decay\n",
        "    )\n",
        "\n",
        "    # Learning rate scheduler - step decay at specific epochs\n",
        "    if lr_scheduler == \"step\":\n",
        "        scheduler = torch.optim.lr_scheduler.MultiStepLR(\n",
        "            optimizer, milestones=[50, 60], gamma=0.1\n",
        "        )\n",
        "    elif lr_scheduler == \"cosine\":\n",
        "        scheduler = torch.optim.lr_scheduler.CosineAnnealingLR(optimizer, T_max=epochs)\n",
        "    else:\n",
        "        raise ValueError(f\"Unknown scheduler: {lr_scheduler}\")\n",
        "\n",
        "    # Training history\n",
        "    history = {\n",
        "        \"train_loss\": [],\n",
        "        \"train_acc\": [],\n",
        "        \"test_loss\": [],\n",
        "        \"test_acc\": [],\n",
        "        \"lr\": [],\n",
        "    }\n",
        "\n",
        "    # Track best accuracy\n",
        "    best_acc = 0.0\n",
        "\n",
        "    # Training loop\n",
        "    for epoch in range(epochs):\n",
        "        current_lr = optimizer.param_groups[0][\"lr\"]\n",
        "        print(f\"\\nEpoch [{epoch + 1}/{epochs}] - Learning Rate: {current_lr:.6f}\")\n",
        "\n",
        "        # Training for one epoch\n",
        "        start_time = time.time()\n",
        "        train_loss, train_acc = train_epoch(\n",
        "            model, train_loader, criterion, optimizer, device\n",
        "        )\n",
        "        train_time = time.time() - start_time\n",
        "\n",
        "        # Evaluate on test set\n",
        "        test_loss, test_acc = evaluate(model, test_loader, criterion, device)\n",
        "\n",
        "        # Step learning rate scheduler\n",
        "        scheduler.step()\n",
        "\n",
        "        # Print statistics\n",
        "        print(\n",
        "            f\"Train Loss: {train_loss:.4f}, Train Acc: {train_acc:.2f}%, \"\n",
        "            f\"Test Loss: {test_loss:.4f}, Test Acc: {test_acc:.2f}%, \"\n",
        "            f\"Time: {train_time:.2f}s\"\n",
        "        )\n",
        "\n",
        "        # Save best model\n",
        "        if test_acc > best_acc:\n",
        "            best_acc = test_acc\n",
        "            torch.save(\n",
        "                {\n",
        "                    \"epoch\": epoch,\n",
        "                    \"model_state_dict\": model.state_dict(),\n",
        "                    \"optimizer_state_dict\": optimizer.state_dict(),\n",
        "                    \"test_acc\": test_acc,\n",
        "                },\n",
        "                save_path,\n",
        "            )\n",
        "            print(f\"New best model saved with accuracy: {test_acc:.2f}%\")\n",
        "\n",
        "        # Update history\n",
        "        history[\"train_loss\"].append(train_loss)\n",
        "        history[\"train_acc\"].append(train_acc)\n",
        "        history[\"test_loss\"].append(test_loss)\n",
        "        history[\"test_acc\"].append(test_acc)\n",
        "        history[\"lr\"].append(current_lr)\n",
        "\n",
        "    # Load best model\n",
        "    checkpoint = torch.load(save_path)\n",
        "    model.load_state_dict(checkpoint[\"model_state_dict\"])\n",
        "    print(f\"Best model loaded with accuracy: {checkpoint['test_acc']:.2f}%\")\n",
        "\n",
        "    return model, history\n",
        "\n",
        "\n",
        "# visualization of model performance\n",
        "def plot_training_history(history):\n",
        "    fig, (ax1, ax2, ax3) = plt.subplots(1, 3, figsize=(18, 5))\n",
        "\n",
        "    # plot the loss\n",
        "    ax1.plot(history[\"train_loss\"], label=\"Train Loss\")\n",
        "    ax1.plot(history[\"test_loss\"], label=\"Test Loss\")\n",
        "    ax1.set_xlabel(\"Epoch\")\n",
        "    ax1.set_ylabel(\"Loss\")\n",
        "    ax1.legend()\n",
        "    ax1.set_title(\"Loss Curves\")\n",
        "    ax1.grid(True)\n",
        "\n",
        "    # plot accuracy\n",
        "    ax2.plot(history[\"train_acc\"], label=\"Train Accuracy\")\n",
        "    ax2.plot(history[\"test_acc\"], label=\"Test Accuracy\")\n",
        "    ax2.set_xlabel(\"Epoch\")\n",
        "    ax2.set_ylabel(\"Accuracy (%)\")\n",
        "    ax2.legend()\n",
        "    ax2.set_title(\"Accuracy Curves\")\n",
        "    ax2.grid(True)\n",
        "\n",
        "    # plot learning rate\n",
        "    ax3.plot(history[\"lr\"])\n",
        "    ax3.set_xlabel(\"Epoch\")\n",
        "    ax3.set_ylabel(\"Learning Rate\")\n",
        "    ax3.set_title(\"Learning Rate Schedule\")\n",
        "    ax3.set_yscale(\"log\")\n",
        "    ax3.grid(True)\n",
        "\n",
        "    plt.tight_layout()\n",
        "    plt.show()\n",
        "\n",
        "\n",
        "# run benchmark\n",
        "def run_centralized_benchmark():\n",
        "    # LeNet5 config\n",
        "    config = {\n",
        "        \"model_name\": \"improved_cnn\",\n",
        "        \"dataset_name\": \"cifar100\",\n",
        "        \"batch_size\": 1024,\n",
        "        \"epochs\": 100,\n",
        "        \"lr\": 0.01,\n",
        "        \"momentum\": 0.9,\n",
        "        \"weight_decay\": 4e-4,\n",
        "        \"lr_scheduler\": \"step\",\n",
        "        \"save_path\": \"improved_cnn_model.pth\",\n",
        "    }\n",
        "\n",
        "    print(\n",
        "        f\"Running centralized benchmark with {config['model_name']} on {config['dataset_name']}...\"\n",
        "    )\n",
        "\n",
        "    # Train model\n",
        "    model, history = train_centralized_model(**config)\n",
        "\n",
        "    # Plot results\n",
        "    plot_training_history(history)\n",
        "\n",
        "    # Save history\n",
        "    with open(\"lenet5_history.pkl\", \"wb\") as f:\n",
        "        pickle.dump(history, f)\n",
        "\n",
        "    print(\"Centralized benchmark completed!\")\n",
        "\n",
        "    return model, history\n",
        "\n",
        "\n",
        "def main():\n",
        "    model, history = run_centralized_benchmark()\n",
        "    return model, history\n",
        "\n",
        "\n",
        "if __name__ == \"__main__\":\n",
        "    main()\n",
        "\n"
      ]
    }
  ],
  "metadata": {
    "accelerator": "GPU",
    "colab": {
      "gpuType": "T4",
      "provenance": [],
      "include_colab_link": true
    },
    "kernelspec": {
      "display_name": "Python 3",
      "name": "python3"
    },
    "language_info": {
      "name": "python"
    }
  },
  "nbformat": 4,
  "nbformat_minor": 0
}