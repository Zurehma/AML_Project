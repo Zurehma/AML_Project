{
  "cells": [
    {
      "cell_type": "markdown",
      "metadata": {
        "id": "view-in-github",
        "colab_type": "text"
      },
      "source": [
        "<a href=\"https://colab.research.google.com/github/Zurehma/AML_Project/blob/main/Centralized/benchmarks/batch_4096.ipynb\" target=\"_parent\"><img src=\"https://colab.research.google.com/assets/colab-badge.svg\" alt=\"Open In Colab\"/></a>"
      ]
    },
    {
      "cell_type": "code",
      "execution_count": 2,
      "metadata": {
        "colab": {
          "base_uri": "https://localhost:8080/",
          "height": 1000
        },
        "id": "rmTV2T84dLgD",
        "outputId": "fd8b0e5d-4e16-467f-b81e-d74de62fa244"
      },
      "outputs": [
        {
          "output_type": "stream",
          "name": "stdout",
          "text": [
            "PyTorch version: 2.6.0+cu124\n",
            "Using device: cuda:0\n",
            "Running centralized benchmark with improved_cnn on cifar100...\n",
            "Total parameters: 1,774,052\n",
            "\n",
            "Epoch [1/100] - Learning Rate: 0.010000\n"
          ]
        },
        {
          "output_type": "stream",
          "name": "stderr",
          "text": [
            "Training: 100%|██████████| 13/13 [00:17<00:00,  1.34s/it, loss=4.61, acc=1.04]\n"
          ]
        },
        {
          "output_type": "stream",
          "name": "stdout",
          "text": [
            "Train Loss: 4.6140, Train Acc: 1.04%, Test Loss: 4.5994, Test Acc: 2.19%, Time: 17.40s\n",
            "New best model saved with accuracy: 2.19%\n",
            "\n",
            "Epoch [2/100] - Learning Rate: 0.010000\n"
          ]
        },
        {
          "output_type": "stream",
          "name": "stderr",
          "text": [
            "Training: 100%|██████████| 13/13 [00:16<00:00,  1.29s/it, loss=4.59, acc=1.45]\n"
          ]
        },
        {
          "output_type": "stream",
          "name": "stdout",
          "text": [
            "Train Loss: 4.5939, Train Acc: 1.45%, Test Loss: 4.5793, Test Acc: 2.96%, Time: 16.76s\n",
            "New best model saved with accuracy: 2.96%\n",
            "\n",
            "Epoch [3/100] - Learning Rate: 0.010000\n"
          ]
        },
        {
          "output_type": "stream",
          "name": "stderr",
          "text": [
            "Training: 100%|██████████| 13/13 [00:17<00:00,  1.32s/it, loss=4.57, acc=1.85]\n"
          ]
        },
        {
          "output_type": "stream",
          "name": "stdout",
          "text": [
            "Train Loss: 4.5743, Train Acc: 1.85%, Test Loss: 4.5422, Test Acc: 4.17%, Time: 17.20s\n",
            "New best model saved with accuracy: 4.17%\n",
            "\n",
            "Epoch [4/100] - Learning Rate: 0.010000\n"
          ]
        },
        {
          "output_type": "stream",
          "name": "stderr",
          "text": [
            "Training: 100%|██████████| 13/13 [00:16<00:00,  1.29s/it, loss=4.55, acc=2.43]\n"
          ]
        },
        {
          "output_type": "stream",
          "name": "stdout",
          "text": [
            "Train Loss: 4.5456, Train Acc: 2.43%, Test Loss: 4.4840, Test Acc: 4.47%, Time: 16.75s\n",
            "New best model saved with accuracy: 4.47%\n",
            "\n",
            "Epoch [5/100] - Learning Rate: 0.010000\n"
          ]
        },
        {
          "output_type": "stream",
          "name": "stderr",
          "text": [
            "Training: 100%|██████████| 13/13 [00:16<00:00,  1.28s/it, loss=4.5, acc=3.07]\n"
          ]
        },
        {
          "output_type": "stream",
          "name": "stdout",
          "text": [
            "Train Loss: 4.5024, Train Acc: 3.07%, Test Loss: 4.4065, Test Acc: 4.28%, Time: 16.64s\n",
            "\n",
            "Epoch [6/100] - Learning Rate: 0.010000\n"
          ]
        },
        {
          "output_type": "stream",
          "name": "stderr",
          "text": [
            "Training: 100%|██████████| 13/13 [00:16<00:00,  1.26s/it, loss=4.45, acc=3.42]\n"
          ]
        },
        {
          "output_type": "stream",
          "name": "stdout",
          "text": [
            "Train Loss: 4.4490, Train Acc: 3.42%, Test Loss: 4.3370, Test Acc: 4.55%, Time: 16.37s\n",
            "New best model saved with accuracy: 4.55%\n",
            "\n",
            "Epoch [7/100] - Learning Rate: 0.010000\n"
          ]
        },
        {
          "output_type": "stream",
          "name": "stderr",
          "text": [
            "Training: 100%|██████████| 13/13 [00:16<00:00,  1.27s/it, loss=4.4, acc=3.73]\n"
          ]
        },
        {
          "output_type": "stream",
          "name": "stdout",
          "text": [
            "Train Loss: 4.3988, Train Acc: 3.73%, Test Loss: 4.2760, Test Acc: 5.43%, Time: 16.47s\n",
            "New best model saved with accuracy: 5.43%\n",
            "\n",
            "Epoch [8/100] - Learning Rate: 0.010000\n"
          ]
        },
        {
          "output_type": "stream",
          "name": "stderr",
          "text": [
            "Training: 100%|██████████| 13/13 [00:16<00:00,  1.26s/it, loss=4.35, acc=4.25]\n"
          ]
        },
        {
          "output_type": "stream",
          "name": "stdout",
          "text": [
            "Train Loss: 4.3480, Train Acc: 4.25%, Test Loss: 4.2177, Test Acc: 6.56%, Time: 16.40s\n",
            "New best model saved with accuracy: 6.56%\n",
            "\n",
            "Epoch [9/100] - Learning Rate: 0.010000\n"
          ]
        },
        {
          "output_type": "stream",
          "name": "stderr",
          "text": [
            "Training: 100%|██████████| 13/13 [00:16<00:00,  1.28s/it, loss=4.29, acc=4.91]\n"
          ]
        },
        {
          "output_type": "stream",
          "name": "stdout",
          "text": [
            "Train Loss: 4.2947, Train Acc: 4.91%, Test Loss: 4.1661, Test Acc: 7.52%, Time: 16.70s\n",
            "New best model saved with accuracy: 7.52%\n",
            "\n",
            "Epoch [10/100] - Learning Rate: 0.010000\n"
          ]
        },
        {
          "output_type": "stream",
          "name": "stderr",
          "text": [
            "Training: 100%|██████████| 13/13 [00:16<00:00,  1.27s/it, loss=4.25, acc=5.18]\n"
          ]
        },
        {
          "output_type": "stream",
          "name": "stdout",
          "text": [
            "Train Loss: 4.2482, Train Acc: 5.18%, Test Loss: 4.1016, Test Acc: 8.09%, Time: 16.52s\n",
            "New best model saved with accuracy: 8.09%\n",
            "\n",
            "Epoch [11/100] - Learning Rate: 0.010000\n"
          ]
        },
        {
          "output_type": "stream",
          "name": "stderr",
          "text": [
            "Training: 100%|██████████| 13/13 [00:16<00:00,  1.27s/it, loss=4.2, acc=5.79]\n"
          ]
        },
        {
          "output_type": "stream",
          "name": "stdout",
          "text": [
            "Train Loss: 4.1996, Train Acc: 5.79%, Test Loss: 4.0488, Test Acc: 9.23%, Time: 16.53s\n",
            "New best model saved with accuracy: 9.23%\n",
            "\n",
            "Epoch [12/100] - Learning Rate: 0.010000\n"
          ]
        },
        {
          "output_type": "stream",
          "name": "stderr",
          "text": [
            "Training: 100%|██████████| 13/13 [00:16<00:00,  1.28s/it, loss=4.15, acc=6.37]\n"
          ]
        },
        {
          "output_type": "stream",
          "name": "stdout",
          "text": [
            "Train Loss: 4.1527, Train Acc: 6.37%, Test Loss: 3.9930, Test Acc: 10.07%, Time: 16.63s\n",
            "New best model saved with accuracy: 10.07%\n",
            "\n",
            "Epoch [13/100] - Learning Rate: 0.010000\n"
          ]
        },
        {
          "output_type": "stream",
          "name": "stderr",
          "text": [
            "Training: 100%|██████████| 13/13 [00:16<00:00,  1.27s/it, loss=4.11, acc=6.64]\n"
          ]
        },
        {
          "output_type": "stream",
          "name": "stdout",
          "text": [
            "Train Loss: 4.1081, Train Acc: 6.64%, Test Loss: 3.9403, Test Acc: 10.72%, Time: 16.46s\n",
            "New best model saved with accuracy: 10.72%\n",
            "\n",
            "Epoch [14/100] - Learning Rate: 0.010000\n"
          ]
        },
        {
          "output_type": "stream",
          "name": "stderr",
          "text": [
            "Training: 100%|██████████| 13/13 [00:16<00:00,  1.28s/it, loss=4.07, acc=7.11]\n"
          ]
        },
        {
          "output_type": "stream",
          "name": "stdout",
          "text": [
            "Train Loss: 4.0659, Train Acc: 7.11%, Test Loss: 3.8854, Test Acc: 11.67%, Time: 16.66s\n",
            "New best model saved with accuracy: 11.67%\n",
            "\n",
            "Epoch [15/100] - Learning Rate: 0.010000\n"
          ]
        },
        {
          "output_type": "stream",
          "name": "stderr",
          "text": [
            "Training: 100%|██████████| 13/13 [00:17<00:00,  1.31s/it, loss=4.03, acc=7.63]\n"
          ]
        },
        {
          "output_type": "stream",
          "name": "stdout",
          "text": [
            "Train Loss: 4.0287, Train Acc: 7.63%, Test Loss: 3.8371, Test Acc: 12.86%, Time: 17.05s\n",
            "New best model saved with accuracy: 12.86%\n",
            "\n",
            "Epoch [16/100] - Learning Rate: 0.010000\n"
          ]
        },
        {
          "output_type": "stream",
          "name": "stderr",
          "text": [
            "Training: 100%|██████████| 13/13 [00:17<00:00,  1.31s/it, loss=3.98, acc=7.92]\n"
          ]
        },
        {
          "output_type": "stream",
          "name": "stdout",
          "text": [
            "Train Loss: 3.9845, Train Acc: 7.92%, Test Loss: 3.7785, Test Acc: 13.49%, Time: 17.04s\n",
            "New best model saved with accuracy: 13.49%\n",
            "\n",
            "Epoch [17/100] - Learning Rate: 0.010000\n"
          ]
        },
        {
          "output_type": "stream",
          "name": "stderr",
          "text": [
            "Training: 100%|██████████| 13/13 [00:16<00:00,  1.26s/it, loss=3.95, acc=8.7]\n"
          ]
        },
        {
          "output_type": "stream",
          "name": "stdout",
          "text": [
            "Train Loss: 3.9467, Train Acc: 8.70%, Test Loss: 3.7413, Test Acc: 14.17%, Time: 16.40s\n",
            "New best model saved with accuracy: 14.17%\n",
            "\n",
            "Epoch [18/100] - Learning Rate: 0.010000\n"
          ]
        },
        {
          "output_type": "stream",
          "name": "stderr",
          "text": [
            "Training: 100%|██████████| 13/13 [00:17<00:00,  1.34s/it, loss=3.91, acc=9.2]\n"
          ]
        },
        {
          "output_type": "stream",
          "name": "stdout",
          "text": [
            "Train Loss: 3.9106, Train Acc: 9.20%, Test Loss: 3.7084, Test Acc: 14.86%, Time: 17.45s\n",
            "New best model saved with accuracy: 14.86%\n",
            "\n",
            "Epoch [19/100] - Learning Rate: 0.010000\n"
          ]
        },
        {
          "output_type": "stream",
          "name": "stderr",
          "text": [
            "Training: 100%|██████████| 13/13 [00:16<00:00,  1.28s/it, loss=3.89, acc=9.4]\n"
          ]
        },
        {
          "output_type": "stream",
          "name": "stdout",
          "text": [
            "Train Loss: 3.8869, Train Acc: 9.40%, Test Loss: 3.6546, Test Acc: 15.22%, Time: 16.68s\n",
            "New best model saved with accuracy: 15.22%\n",
            "\n",
            "Epoch [20/100] - Learning Rate: 0.010000\n"
          ]
        },
        {
          "output_type": "stream",
          "name": "stderr",
          "text": [
            "Training: 100%|██████████| 13/13 [00:17<00:00,  1.33s/it, loss=3.86, acc=9.86]\n"
          ]
        },
        {
          "output_type": "stream",
          "name": "stdout",
          "text": [
            "Train Loss: 3.8574, Train Acc: 9.86%, Test Loss: 3.6288, Test Acc: 15.60%, Time: 17.27s\n",
            "New best model saved with accuracy: 15.60%\n",
            "\n",
            "Epoch [21/100] - Learning Rate: 0.010000\n"
          ]
        },
        {
          "output_type": "stream",
          "name": "stderr",
          "text": [
            "Training: 100%|██████████| 13/13 [00:16<00:00,  1.28s/it, loss=3.82, acc=10.4]\n"
          ]
        },
        {
          "output_type": "stream",
          "name": "stdout",
          "text": [
            "Train Loss: 3.8227, Train Acc: 10.36%, Test Loss: 3.5885, Test Acc: 16.67%, Time: 16.64s\n",
            "New best model saved with accuracy: 16.67%\n",
            "\n",
            "Epoch [22/100] - Learning Rate: 0.010000\n"
          ]
        },
        {
          "output_type": "stream",
          "name": "stderr",
          "text": [
            "Training: 100%|██████████| 13/13 [00:17<00:00,  1.32s/it, loss=3.79, acc=10.8]\n"
          ]
        },
        {
          "output_type": "stream",
          "name": "stdout",
          "text": [
            "Train Loss: 3.7912, Train Acc: 10.77%, Test Loss: 3.5544, Test Acc: 16.80%, Time: 17.17s\n",
            "New best model saved with accuracy: 16.80%\n",
            "\n",
            "Epoch [23/100] - Learning Rate: 0.010000\n"
          ]
        },
        {
          "output_type": "stream",
          "name": "stderr",
          "text": [
            "Training: 100%|██████████| 13/13 [00:16<00:00,  1.27s/it, loss=3.77, acc=11.3]\n"
          ]
        },
        {
          "output_type": "stream",
          "name": "stdout",
          "text": [
            "Train Loss: 3.7672, Train Acc: 11.27%, Test Loss: 3.5485, Test Acc: 17.30%, Time: 16.56s\n",
            "New best model saved with accuracy: 17.30%\n",
            "\n",
            "Epoch [24/100] - Learning Rate: 0.010000\n"
          ]
        },
        {
          "output_type": "stream",
          "name": "stderr",
          "text": [
            "Training: 100%|██████████| 13/13 [00:17<00:00,  1.32s/it, loss=3.74, acc=11.6]\n"
          ]
        },
        {
          "output_type": "stream",
          "name": "stdout",
          "text": [
            "Train Loss: 3.7369, Train Acc: 11.63%, Test Loss: 3.4976, Test Acc: 17.56%, Time: 17.16s\n",
            "New best model saved with accuracy: 17.56%\n",
            "\n",
            "Epoch [25/100] - Learning Rate: 0.010000\n"
          ]
        },
        {
          "output_type": "stream",
          "name": "stderr",
          "text": [
            "Training: 100%|██████████| 13/13 [00:16<00:00,  1.25s/it, loss=3.72, acc=11.8]\n"
          ]
        },
        {
          "output_type": "stream",
          "name": "stdout",
          "text": [
            "Train Loss: 3.7164, Train Acc: 11.80%, Test Loss: 3.4732, Test Acc: 18.26%, Time: 16.26s\n",
            "New best model saved with accuracy: 18.26%\n",
            "\n",
            "Epoch [26/100] - Learning Rate: 0.010000\n"
          ]
        },
        {
          "output_type": "stream",
          "name": "stderr",
          "text": [
            "Training: 100%|██████████| 13/13 [00:17<00:00,  1.31s/it, loss=3.69, acc=12.3]\n"
          ]
        },
        {
          "output_type": "stream",
          "name": "stdout",
          "text": [
            "Train Loss: 3.6884, Train Acc: 12.28%, Test Loss: 3.4412, Test Acc: 18.44%, Time: 17.05s\n",
            "New best model saved with accuracy: 18.44%\n",
            "\n",
            "Epoch [27/100] - Learning Rate: 0.010000\n"
          ]
        },
        {
          "output_type": "stream",
          "name": "stderr",
          "text": [
            "Training: 100%|██████████| 13/13 [00:16<00:00,  1.27s/it, loss=3.66, acc=12.6]\n"
          ]
        },
        {
          "output_type": "stream",
          "name": "stdout",
          "text": [
            "Train Loss: 3.6615, Train Acc: 12.56%, Test Loss: 3.4141, Test Acc: 19.84%, Time: 16.47s\n",
            "New best model saved with accuracy: 19.84%\n",
            "\n",
            "Epoch [28/100] - Learning Rate: 0.010000\n"
          ]
        },
        {
          "output_type": "stream",
          "name": "stderr",
          "text": [
            "Training: 100%|██████████| 13/13 [00:17<00:00,  1.33s/it, loss=3.64, acc=12.9]\n"
          ]
        },
        {
          "output_type": "stream",
          "name": "stdout",
          "text": [
            "Train Loss: 3.6440, Train Acc: 12.92%, Test Loss: 3.3874, Test Acc: 19.19%, Time: 17.32s\n",
            "\n",
            "Epoch [29/100] - Learning Rate: 0.010000\n"
          ]
        },
        {
          "output_type": "stream",
          "name": "stderr",
          "text": [
            "Training: 100%|██████████| 13/13 [00:16<00:00,  1.26s/it, loss=3.61, acc=13.5]\n"
          ]
        },
        {
          "output_type": "stream",
          "name": "stdout",
          "text": [
            "Train Loss: 3.6141, Train Acc: 13.48%, Test Loss: 3.3809, Test Acc: 19.82%, Time: 16.37s\n",
            "\n",
            "Epoch [30/100] - Learning Rate: 0.010000\n"
          ]
        },
        {
          "output_type": "stream",
          "name": "stderr",
          "text": [
            "Training: 100%|██████████| 13/13 [00:17<00:00,  1.32s/it, loss=3.59, acc=13.6]\n"
          ]
        },
        {
          "output_type": "stream",
          "name": "stdout",
          "text": [
            "Train Loss: 3.5859, Train Acc: 13.61%, Test Loss: 3.3401, Test Acc: 19.87%, Time: 17.21s\n",
            "New best model saved with accuracy: 19.87%\n",
            "\n",
            "Epoch [31/100] - Learning Rate: 0.010000\n"
          ]
        },
        {
          "output_type": "stream",
          "name": "stderr",
          "text": [
            "Training: 100%|██████████| 13/13 [00:16<00:00,  1.28s/it, loss=3.55, acc=14.6]\n"
          ]
        },
        {
          "output_type": "stream",
          "name": "stdout",
          "text": [
            "Train Loss: 3.5515, Train Acc: 14.55%, Test Loss: 3.3604, Test Acc: 19.40%, Time: 16.69s\n",
            "\n",
            "Epoch [32/100] - Learning Rate: 0.010000\n"
          ]
        },
        {
          "output_type": "stream",
          "name": "stderr",
          "text": [
            "Training: 100%|██████████| 13/13 [00:17<00:00,  1.34s/it, loss=3.57, acc=14.3]\n"
          ]
        },
        {
          "output_type": "stream",
          "name": "stdout",
          "text": [
            "Train Loss: 3.5661, Train Acc: 14.29%, Test Loss: 3.3470, Test Acc: 20.17%, Time: 17.38s\n",
            "New best model saved with accuracy: 20.17%\n",
            "\n",
            "Epoch [33/100] - Learning Rate: 0.010000\n"
          ]
        },
        {
          "output_type": "stream",
          "name": "stderr",
          "text": [
            "Training: 100%|██████████| 13/13 [00:16<00:00,  1.27s/it, loss=3.52, acc=15.1]\n"
          ]
        },
        {
          "output_type": "stream",
          "name": "stdout",
          "text": [
            "Train Loss: 3.5211, Train Acc: 15.05%, Test Loss: 3.2771, Test Acc: 20.77%, Time: 16.49s\n",
            "New best model saved with accuracy: 20.77%\n",
            "\n",
            "Epoch [34/100] - Learning Rate: 0.010000\n"
          ]
        },
        {
          "output_type": "stream",
          "name": "stderr",
          "text": [
            "Training: 100%|██████████| 13/13 [00:17<00:00,  1.36s/it, loss=3.49, acc=15.6]\n"
          ]
        },
        {
          "output_type": "stream",
          "name": "stdout",
          "text": [
            "Train Loss: 3.4930, Train Acc: 15.62%, Test Loss: 3.2095, Test Acc: 22.61%, Time: 17.75s\n",
            "New best model saved with accuracy: 22.61%\n",
            "\n",
            "Epoch [35/100] - Learning Rate: 0.010000\n"
          ]
        },
        {
          "output_type": "stream",
          "name": "stderr",
          "text": [
            "Training: 100%|██████████| 13/13 [00:16<00:00,  1.27s/it, loss=3.47, acc=16]\n"
          ]
        },
        {
          "output_type": "stream",
          "name": "stdout",
          "text": [
            "Train Loss: 3.4656, Train Acc: 15.99%, Test Loss: 3.1767, Test Acc: 23.46%, Time: 16.50s\n",
            "New best model saved with accuracy: 23.46%\n",
            "\n",
            "Epoch [36/100] - Learning Rate: 0.010000\n"
          ]
        },
        {
          "output_type": "stream",
          "name": "stderr",
          "text": [
            "Training: 100%|██████████| 13/13 [00:17<00:00,  1.34s/it, loss=3.46, acc=16.1]\n"
          ]
        },
        {
          "output_type": "stream",
          "name": "stdout",
          "text": [
            "Train Loss: 3.4619, Train Acc: 16.10%, Test Loss: 3.1869, Test Acc: 22.37%, Time: 17.44s\n",
            "\n",
            "Epoch [37/100] - Learning Rate: 0.010000\n"
          ]
        },
        {
          "output_type": "stream",
          "name": "stderr",
          "text": [
            "Training: 100%|██████████| 13/13 [00:16<00:00,  1.28s/it, loss=3.45, acc=16.4]\n"
          ]
        },
        {
          "output_type": "stream",
          "name": "stdout",
          "text": [
            "Train Loss: 3.4451, Train Acc: 16.43%, Test Loss: 3.1303, Test Acc: 24.06%, Time: 16.59s\n",
            "New best model saved with accuracy: 24.06%\n",
            "\n",
            "Epoch [38/100] - Learning Rate: 0.010000\n"
          ]
        },
        {
          "output_type": "stream",
          "name": "stderr",
          "text": [
            "Training: 100%|██████████| 13/13 [00:17<00:00,  1.34s/it, loss=3.41, acc=16.9]\n"
          ]
        },
        {
          "output_type": "stream",
          "name": "stdout",
          "text": [
            "Train Loss: 3.4057, Train Acc: 16.89%, Test Loss: 3.0967, Test Acc: 24.48%, Time: 17.46s\n",
            "New best model saved with accuracy: 24.48%\n",
            "\n",
            "Epoch [39/100] - Learning Rate: 0.010000\n"
          ]
        },
        {
          "output_type": "stream",
          "name": "stderr",
          "text": [
            "Training: 100%|██████████| 13/13 [00:16<00:00,  1.27s/it, loss=3.38, acc=17.4]\n"
          ]
        },
        {
          "output_type": "stream",
          "name": "stdout",
          "text": [
            "Train Loss: 3.3772, Train Acc: 17.44%, Test Loss: 3.0880, Test Acc: 24.47%, Time: 16.47s\n",
            "\n",
            "Epoch [40/100] - Learning Rate: 0.010000\n"
          ]
        },
        {
          "output_type": "stream",
          "name": "stderr",
          "text": [
            "Training: 100%|██████████| 13/13 [00:17<00:00,  1.38s/it, loss=3.37, acc=17.7]\n"
          ]
        },
        {
          "output_type": "stream",
          "name": "stdout",
          "text": [
            "Train Loss: 3.3671, Train Acc: 17.67%, Test Loss: 3.0868, Test Acc: 24.36%, Time: 17.90s\n",
            "\n",
            "Epoch [41/100] - Learning Rate: 0.010000\n"
          ]
        },
        {
          "output_type": "stream",
          "name": "stderr",
          "text": [
            "Training: 100%|██████████| 13/13 [00:16<00:00,  1.27s/it, loss=3.35, acc=18]\n"
          ]
        },
        {
          "output_type": "stream",
          "name": "stdout",
          "text": [
            "Train Loss: 3.3511, Train Acc: 18.00%, Test Loss: 3.0574, Test Acc: 25.02%, Time: 16.47s\n",
            "New best model saved with accuracy: 25.02%\n",
            "\n",
            "Epoch [42/100] - Learning Rate: 0.010000\n"
          ]
        },
        {
          "output_type": "stream",
          "name": "stderr",
          "text": [
            "Training: 100%|██████████| 13/13 [00:17<00:00,  1.36s/it, loss=3.33, acc=18.3]\n"
          ]
        },
        {
          "output_type": "stream",
          "name": "stdout",
          "text": [
            "Train Loss: 3.3312, Train Acc: 18.30%, Test Loss: 3.0411, Test Acc: 24.85%, Time: 17.67s\n",
            "\n",
            "Epoch [43/100] - Learning Rate: 0.010000\n"
          ]
        },
        {
          "output_type": "stream",
          "name": "stderr",
          "text": [
            "Training: 100%|██████████| 13/13 [00:16<00:00,  1.26s/it, loss=3.31, acc=18.7]\n"
          ]
        },
        {
          "output_type": "stream",
          "name": "stdout",
          "text": [
            "Train Loss: 3.3127, Train Acc: 18.66%, Test Loss: 3.1503, Test Acc: 22.70%, Time: 16.44s\n",
            "\n",
            "Epoch [44/100] - Learning Rate: 0.010000\n"
          ]
        },
        {
          "output_type": "stream",
          "name": "stderr",
          "text": [
            "Training: 100%|██████████| 13/13 [00:17<00:00,  1.34s/it, loss=3.3, acc=18.8]\n"
          ]
        },
        {
          "output_type": "stream",
          "name": "stdout",
          "text": [
            "Train Loss: 3.3026, Train Acc: 18.85%, Test Loss: 3.0000, Test Acc: 25.72%, Time: 17.40s\n",
            "New best model saved with accuracy: 25.72%\n",
            "\n",
            "Epoch [45/100] - Learning Rate: 0.010000\n"
          ]
        },
        {
          "output_type": "stream",
          "name": "stderr",
          "text": [
            "Training: 100%|██████████| 13/13 [00:16<00:00,  1.27s/it, loss=3.27, acc=19.4]\n"
          ]
        },
        {
          "output_type": "stream",
          "name": "stdout",
          "text": [
            "Train Loss: 3.2673, Train Acc: 19.40%, Test Loss: 2.9597, Test Acc: 26.82%, Time: 16.57s\n",
            "New best model saved with accuracy: 26.82%\n",
            "\n",
            "Epoch [46/100] - Learning Rate: 0.010000\n"
          ]
        },
        {
          "output_type": "stream",
          "name": "stderr",
          "text": [
            "Training: 100%|██████████| 13/13 [00:17<00:00,  1.33s/it, loss=3.27, acc=19.4]\n"
          ]
        },
        {
          "output_type": "stream",
          "name": "stdout",
          "text": [
            "Train Loss: 3.2658, Train Acc: 19.35%, Test Loss: 2.9457, Test Acc: 26.77%, Time: 17.28s\n",
            "\n",
            "Epoch [47/100] - Learning Rate: 0.010000\n"
          ]
        },
        {
          "output_type": "stream",
          "name": "stderr",
          "text": [
            "Training: 100%|██████████| 13/13 [00:16<00:00,  1.25s/it, loss=3.24, acc=19.8]\n"
          ]
        },
        {
          "output_type": "stream",
          "name": "stdout",
          "text": [
            "Train Loss: 3.2403, Train Acc: 19.79%, Test Loss: 2.9458, Test Acc: 27.03%, Time: 16.28s\n",
            "New best model saved with accuracy: 27.03%\n",
            "\n",
            "Epoch [48/100] - Learning Rate: 0.010000\n"
          ]
        },
        {
          "output_type": "stream",
          "name": "stderr",
          "text": [
            "Training: 100%|██████████| 13/13 [00:17<00:00,  1.35s/it, loss=3.23, acc=20]\n"
          ]
        },
        {
          "output_type": "stream",
          "name": "stdout",
          "text": [
            "Train Loss: 3.2308, Train Acc: 20.02%, Test Loss: 2.9228, Test Acc: 26.64%, Time: 17.53s\n",
            "\n",
            "Epoch [49/100] - Learning Rate: 0.010000\n"
          ]
        },
        {
          "output_type": "stream",
          "name": "stderr",
          "text": [
            "Training: 100%|██████████| 13/13 [00:16<00:00,  1.28s/it, loss=3.21, acc=20.3]\n"
          ]
        },
        {
          "output_type": "stream",
          "name": "stdout",
          "text": [
            "Train Loss: 3.2069, Train Acc: 20.27%, Test Loss: 2.9307, Test Acc: 26.88%, Time: 16.61s\n",
            "\n",
            "Epoch [50/100] - Learning Rate: 0.010000\n"
          ]
        },
        {
          "output_type": "stream",
          "name": "stderr",
          "text": [
            "Training: 100%|██████████| 13/13 [00:17<00:00,  1.34s/it, loss=3.2, acc=20.3]\n"
          ]
        },
        {
          "output_type": "stream",
          "name": "stdout",
          "text": [
            "Train Loss: 3.2036, Train Acc: 20.34%, Test Loss: 2.9091, Test Acc: 27.61%, Time: 17.44s\n",
            "New best model saved with accuracy: 27.61%\n",
            "\n",
            "Epoch [51/100] - Learning Rate: 0.001000\n"
          ]
        },
        {
          "output_type": "stream",
          "name": "stderr",
          "text": [
            "Training: 100%|██████████| 13/13 [00:16<00:00,  1.29s/it, loss=3.19, acc=21.1]\n"
          ]
        },
        {
          "output_type": "stream",
          "name": "stdout",
          "text": [
            "Train Loss: 3.1862, Train Acc: 21.05%, Test Loss: 2.8625, Test Acc: 28.34%, Time: 16.82s\n",
            "New best model saved with accuracy: 28.34%\n",
            "\n",
            "Epoch [52/100] - Learning Rate: 0.001000\n"
          ]
        },
        {
          "output_type": "stream",
          "name": "stderr",
          "text": [
            "Training: 100%|██████████| 13/13 [00:17<00:00,  1.31s/it, loss=3.16, acc=21.5]\n"
          ]
        },
        {
          "output_type": "stream",
          "name": "stdout",
          "text": [
            "Train Loss: 3.1611, Train Acc: 21.49%, Test Loss: 2.8267, Test Acc: 29.11%, Time: 17.10s\n",
            "New best model saved with accuracy: 29.11%\n",
            "\n",
            "Epoch [53/100] - Learning Rate: 0.001000\n"
          ]
        },
        {
          "output_type": "stream",
          "name": "stderr",
          "text": [
            "Training: 100%|██████████| 13/13 [00:16<00:00,  1.26s/it, loss=3.14, acc=21.4]\n"
          ]
        },
        {
          "output_type": "stream",
          "name": "stdout",
          "text": [
            "Train Loss: 3.1444, Train Acc: 21.44%, Test Loss: 2.8288, Test Acc: 28.90%, Time: 16.44s\n",
            "\n",
            "Epoch [54/100] - Learning Rate: 0.001000\n"
          ]
        },
        {
          "output_type": "stream",
          "name": "stderr",
          "text": [
            "Training: 100%|██████████| 13/13 [00:17<00:00,  1.31s/it, loss=3.14, acc=21.6]\n"
          ]
        },
        {
          "output_type": "stream",
          "name": "stdout",
          "text": [
            "Train Loss: 3.1450, Train Acc: 21.63%, Test Loss: 2.8145, Test Acc: 29.43%, Time: 17.06s\n",
            "New best model saved with accuracy: 29.43%\n",
            "\n",
            "Epoch [55/100] - Learning Rate: 0.001000\n"
          ]
        },
        {
          "output_type": "stream",
          "name": "stderr",
          "text": [
            "Training: 100%|██████████| 13/13 [00:16<00:00,  1.27s/it, loss=3.14, acc=21.5]\n"
          ]
        },
        {
          "output_type": "stream",
          "name": "stdout",
          "text": [
            "Train Loss: 3.1442, Train Acc: 21.51%, Test Loss: 2.8157, Test Acc: 29.17%, Time: 16.56s\n",
            "\n",
            "Epoch [56/100] - Learning Rate: 0.001000\n"
          ]
        },
        {
          "output_type": "stream",
          "name": "stderr",
          "text": [
            "Training: 100%|██████████| 13/13 [00:17<00:00,  1.31s/it, loss=3.13, acc=22]\n"
          ]
        },
        {
          "output_type": "stream",
          "name": "stdout",
          "text": [
            "Train Loss: 3.1347, Train Acc: 22.04%, Test Loss: 2.8117, Test Acc: 29.54%, Time: 17.08s\n",
            "New best model saved with accuracy: 29.54%\n",
            "\n",
            "Epoch [57/100] - Learning Rate: 0.001000\n"
          ]
        },
        {
          "output_type": "stream",
          "name": "stderr",
          "text": [
            "Training: 100%|██████████| 13/13 [00:16<00:00,  1.25s/it, loss=3.14, acc=21.8]\n"
          ]
        },
        {
          "output_type": "stream",
          "name": "stdout",
          "text": [
            "Train Loss: 3.1418, Train Acc: 21.80%, Test Loss: 2.8066, Test Acc: 29.44%, Time: 16.28s\n",
            "\n",
            "Epoch [58/100] - Learning Rate: 0.001000\n"
          ]
        },
        {
          "output_type": "stream",
          "name": "stderr",
          "text": [
            "Training: 100%|██████████| 13/13 [00:16<00:00,  1.27s/it, loss=3.14, acc=21.7]\n"
          ]
        },
        {
          "output_type": "stream",
          "name": "stdout",
          "text": [
            "Train Loss: 3.1357, Train Acc: 21.71%, Test Loss: 2.8062, Test Acc: 29.45%, Time: 16.54s\n",
            "\n",
            "Epoch [59/100] - Learning Rate: 0.001000\n"
          ]
        },
        {
          "output_type": "stream",
          "name": "stderr",
          "text": [
            "Training: 100%|██████████| 13/13 [00:16<00:00,  1.28s/it, loss=3.13, acc=21.5]\n"
          ]
        },
        {
          "output_type": "stream",
          "name": "stdout",
          "text": [
            "Train Loss: 3.1342, Train Acc: 21.46%, Test Loss: 2.8047, Test Acc: 29.49%, Time: 16.69s\n",
            "\n",
            "Epoch [60/100] - Learning Rate: 0.001000\n"
          ]
        },
        {
          "output_type": "stream",
          "name": "stderr",
          "text": [
            "Training: 100%|██████████| 13/13 [00:16<00:00,  1.26s/it, loss=3.13, acc=21.8]\n"
          ]
        },
        {
          "output_type": "stream",
          "name": "stdout",
          "text": [
            "Train Loss: 3.1346, Train Acc: 21.77%, Test Loss: 2.7993, Test Acc: 29.63%, Time: 16.45s\n",
            "New best model saved with accuracy: 29.63%\n",
            "\n",
            "Epoch [61/100] - Learning Rate: 0.000100\n"
          ]
        },
        {
          "output_type": "stream",
          "name": "stderr",
          "text": [
            "Training: 100%|██████████| 13/13 [00:16<00:00,  1.27s/it, loss=3.13, acc=21.9]\n"
          ]
        },
        {
          "output_type": "stream",
          "name": "stdout",
          "text": [
            "Train Loss: 3.1315, Train Acc: 21.90%, Test Loss: 2.7994, Test Acc: 29.56%, Time: 16.54s\n",
            "\n",
            "Epoch [62/100] - Learning Rate: 0.000100\n"
          ]
        },
        {
          "output_type": "stream",
          "name": "stderr",
          "text": [
            "Training: 100%|██████████| 13/13 [00:16<00:00,  1.27s/it, loss=3.12, acc=22]\n"
          ]
        },
        {
          "output_type": "stream",
          "name": "stdout",
          "text": [
            "Train Loss: 3.1225, Train Acc: 21.98%, Test Loss: 2.7992, Test Acc: 29.51%, Time: 16.58s\n",
            "\n",
            "Epoch [63/100] - Learning Rate: 0.000100\n"
          ]
        },
        {
          "output_type": "stream",
          "name": "stderr",
          "text": [
            "Training: 100%|██████████| 13/13 [00:16<00:00,  1.28s/it, loss=3.13, acc=21.9]\n"
          ]
        },
        {
          "output_type": "stream",
          "name": "stdout",
          "text": [
            "Train Loss: 3.1255, Train Acc: 21.94%, Test Loss: 2.7991, Test Acc: 29.52%, Time: 16.71s\n",
            "\n",
            "Epoch [64/100] - Learning Rate: 0.000100\n"
          ]
        },
        {
          "output_type": "stream",
          "name": "stderr",
          "text": [
            "Training: 100%|██████████| 13/13 [00:16<00:00,  1.28s/it, loss=3.13, acc=22]\n"
          ]
        },
        {
          "output_type": "stream",
          "name": "stdout",
          "text": [
            "Train Loss: 3.1296, Train Acc: 22.02%, Test Loss: 2.7991, Test Acc: 29.49%, Time: 16.66s\n",
            "\n",
            "Epoch [65/100] - Learning Rate: 0.000100\n"
          ]
        },
        {
          "output_type": "stream",
          "name": "stderr",
          "text": [
            "Training: 100%|██████████| 13/13 [00:16<00:00,  1.29s/it, loss=3.13, acc=21.7]\n"
          ]
        },
        {
          "output_type": "stream",
          "name": "stdout",
          "text": [
            "Train Loss: 3.1288, Train Acc: 21.74%, Test Loss: 2.7977, Test Acc: 29.57%, Time: 16.84s\n",
            "\n",
            "Epoch [66/100] - Learning Rate: 0.000100\n"
          ]
        },
        {
          "output_type": "stream",
          "name": "stderr",
          "text": [
            "Training: 100%|██████████| 13/13 [00:16<00:00,  1.29s/it, loss=3.12, acc=22]\n"
          ]
        },
        {
          "output_type": "stream",
          "name": "stdout",
          "text": [
            "Train Loss: 3.1219, Train Acc: 22.01%, Test Loss: 2.7973, Test Acc: 29.47%, Time: 16.72s\n",
            "\n",
            "Epoch [67/100] - Learning Rate: 0.000100\n"
          ]
        },
        {
          "output_type": "stream",
          "name": "stderr",
          "text": [
            "Training: 100%|██████████| 13/13 [00:17<00:00,  1.33s/it, loss=3.12, acc=22]\n"
          ]
        },
        {
          "output_type": "stream",
          "name": "stdout",
          "text": [
            "Train Loss: 3.1238, Train Acc: 21.96%, Test Loss: 2.7960, Test Acc: 29.51%, Time: 17.30s\n",
            "\n",
            "Epoch [68/100] - Learning Rate: 0.000100\n"
          ]
        },
        {
          "output_type": "stream",
          "name": "stderr",
          "text": [
            "Training: 100%|██████████| 13/13 [00:16<00:00,  1.27s/it, loss=3.12, acc=22]\n"
          ]
        },
        {
          "output_type": "stream",
          "name": "stdout",
          "text": [
            "Train Loss: 3.1209, Train Acc: 21.97%, Test Loss: 2.7965, Test Acc: 29.47%, Time: 16.47s\n",
            "\n",
            "Epoch [69/100] - Learning Rate: 0.000100\n"
          ]
        },
        {
          "output_type": "stream",
          "name": "stderr",
          "text": [
            "Training: 100%|██████████| 13/13 [00:16<00:00,  1.29s/it, loss=3.13, acc=22]\n"
          ]
        },
        {
          "output_type": "stream",
          "name": "stdout",
          "text": [
            "Train Loss: 3.1267, Train Acc: 22.04%, Test Loss: 2.7957, Test Acc: 29.52%, Time: 16.74s\n",
            "\n",
            "Epoch [70/100] - Learning Rate: 0.000100\n"
          ]
        },
        {
          "output_type": "stream",
          "name": "stderr",
          "text": [
            "Training: 100%|██████████| 13/13 [00:16<00:00,  1.28s/it, loss=3.13, acc=22]\n"
          ]
        },
        {
          "output_type": "stream",
          "name": "stdout",
          "text": [
            "Train Loss: 3.1268, Train Acc: 22.02%, Test Loss: 2.7969, Test Acc: 29.50%, Time: 16.64s\n",
            "\n",
            "Epoch [71/100] - Learning Rate: 0.000100\n"
          ]
        },
        {
          "output_type": "stream",
          "name": "stderr",
          "text": [
            "Training: 100%|██████████| 13/13 [00:16<00:00,  1.30s/it, loss=3.13, acc=21.9]\n"
          ]
        },
        {
          "output_type": "stream",
          "name": "stdout",
          "text": [
            "Train Loss: 3.1312, Train Acc: 21.87%, Test Loss: 2.7967, Test Acc: 29.45%, Time: 16.96s\n",
            "\n",
            "Epoch [72/100] - Learning Rate: 0.000100\n"
          ]
        },
        {
          "output_type": "stream",
          "name": "stderr",
          "text": [
            "Training: 100%|██████████| 13/13 [00:16<00:00,  1.29s/it, loss=3.13, acc=22]\n"
          ]
        },
        {
          "output_type": "stream",
          "name": "stdout",
          "text": [
            "Train Loss: 3.1259, Train Acc: 21.97%, Test Loss: 2.7965, Test Acc: 29.43%, Time: 16.83s\n",
            "\n",
            "Epoch [73/100] - Learning Rate: 0.000100\n"
          ]
        },
        {
          "output_type": "stream",
          "name": "stderr",
          "text": [
            "Training: 100%|██████████| 13/13 [00:17<00:00,  1.32s/it, loss=3.13, acc=21.9]\n"
          ]
        },
        {
          "output_type": "stream",
          "name": "stdout",
          "text": [
            "Train Loss: 3.1267, Train Acc: 21.93%, Test Loss: 2.7959, Test Acc: 29.46%, Time: 17.16s\n",
            "\n",
            "Epoch [74/100] - Learning Rate: 0.000100\n"
          ]
        },
        {
          "output_type": "stream",
          "name": "stderr",
          "text": [
            "Training: 100%|██████████| 13/13 [00:16<00:00,  1.30s/it, loss=3.12, acc=22.2]\n"
          ]
        },
        {
          "output_type": "stream",
          "name": "stdout",
          "text": [
            "Train Loss: 3.1230, Train Acc: 22.22%, Test Loss: 2.7956, Test Acc: 29.54%, Time: 16.91s\n",
            "\n",
            "Epoch [75/100] - Learning Rate: 0.000100\n"
          ]
        },
        {
          "output_type": "stream",
          "name": "stderr",
          "text": [
            "Training: 100%|██████████| 13/13 [00:17<00:00,  1.32s/it, loss=3.13, acc=21.8]\n"
          ]
        },
        {
          "output_type": "stream",
          "name": "stdout",
          "text": [
            "Train Loss: 3.1288, Train Acc: 21.77%, Test Loss: 2.7946, Test Acc: 29.55%, Time: 17.16s\n",
            "\n",
            "Epoch [76/100] - Learning Rate: 0.000100\n"
          ]
        },
        {
          "output_type": "stream",
          "name": "stderr",
          "text": [
            "Training: 100%|██████████| 13/13 [00:16<00:00,  1.29s/it, loss=3.12, acc=21.7]\n"
          ]
        },
        {
          "output_type": "stream",
          "name": "stdout",
          "text": [
            "Train Loss: 3.1247, Train Acc: 21.75%, Test Loss: 2.7937, Test Acc: 29.59%, Time: 16.73s\n",
            "\n",
            "Epoch [77/100] - Learning Rate: 0.000100\n"
          ]
        },
        {
          "output_type": "stream",
          "name": "stderr",
          "text": [
            "Training: 100%|██████████| 13/13 [00:17<00:00,  1.37s/it, loss=3.12, acc=22.2]\n"
          ]
        },
        {
          "output_type": "stream",
          "name": "stdout",
          "text": [
            "Train Loss: 3.1190, Train Acc: 22.18%, Test Loss: 2.7945, Test Acc: 29.50%, Time: 17.80s\n",
            "\n",
            "Epoch [78/100] - Learning Rate: 0.000100\n"
          ]
        },
        {
          "output_type": "stream",
          "name": "stderr",
          "text": [
            "Training: 100%|██████████| 13/13 [00:16<00:00,  1.30s/it, loss=3.13, acc=22.1]\n"
          ]
        },
        {
          "output_type": "stream",
          "name": "stdout",
          "text": [
            "Train Loss: 3.1259, Train Acc: 22.11%, Test Loss: 2.7937, Test Acc: 29.50%, Time: 16.93s\n",
            "\n",
            "Epoch [79/100] - Learning Rate: 0.000100\n"
          ]
        },
        {
          "output_type": "stream",
          "name": "stderr",
          "text": [
            "Training: 100%|██████████| 13/13 [00:17<00:00,  1.36s/it, loss=3.12, acc=22.1]\n"
          ]
        },
        {
          "output_type": "stream",
          "name": "stdout",
          "text": [
            "Train Loss: 3.1245, Train Acc: 22.08%, Test Loss: 2.7938, Test Acc: 29.52%, Time: 17.64s\n",
            "\n",
            "Epoch [80/100] - Learning Rate: 0.000100\n"
          ]
        },
        {
          "output_type": "stream",
          "name": "stderr",
          "text": [
            "Training: 100%|██████████| 13/13 [00:16<00:00,  1.29s/it, loss=3.13, acc=21.8]\n"
          ]
        },
        {
          "output_type": "stream",
          "name": "stdout",
          "text": [
            "Train Loss: 3.1269, Train Acc: 21.77%, Test Loss: 2.7931, Test Acc: 29.53%, Time: 16.73s\n",
            "\n",
            "Epoch [81/100] - Learning Rate: 0.000100\n"
          ]
        },
        {
          "output_type": "stream",
          "name": "stderr",
          "text": [
            "Training: 100%|██████████| 13/13 [00:17<00:00,  1.38s/it, loss=3.13, acc=22]\n"
          ]
        },
        {
          "output_type": "stream",
          "name": "stdout",
          "text": [
            "Train Loss: 3.1254, Train Acc: 21.97%, Test Loss: 2.7933, Test Acc: 29.48%, Time: 17.95s\n",
            "\n",
            "Epoch [82/100] - Learning Rate: 0.000100\n"
          ]
        },
        {
          "output_type": "stream",
          "name": "stderr",
          "text": [
            "Training: 100%|██████████| 13/13 [00:16<00:00,  1.29s/it, loss=3.13, acc=21.9]\n"
          ]
        },
        {
          "output_type": "stream",
          "name": "stdout",
          "text": [
            "Train Loss: 3.1282, Train Acc: 21.95%, Test Loss: 2.7932, Test Acc: 29.57%, Time: 16.77s\n",
            "\n",
            "Epoch [83/100] - Learning Rate: 0.000100\n"
          ]
        },
        {
          "output_type": "stream",
          "name": "stderr",
          "text": [
            "Training: 100%|██████████| 13/13 [00:17<00:00,  1.37s/it, loss=3.12, acc=21.8]\n"
          ]
        },
        {
          "output_type": "stream",
          "name": "stdout",
          "text": [
            "Train Loss: 3.1237, Train Acc: 21.85%, Test Loss: 2.7934, Test Acc: 29.58%, Time: 17.85s\n",
            "\n",
            "Epoch [84/100] - Learning Rate: 0.000100\n"
          ]
        },
        {
          "output_type": "stream",
          "name": "stderr",
          "text": [
            "Training: 100%|██████████| 13/13 [00:16<00:00,  1.28s/it, loss=3.12, acc=22.1]\n"
          ]
        },
        {
          "output_type": "stream",
          "name": "stdout",
          "text": [
            "Train Loss: 3.1249, Train Acc: 22.09%, Test Loss: 2.7935, Test Acc: 29.57%, Time: 16.69s\n",
            "\n",
            "Epoch [85/100] - Learning Rate: 0.000100\n"
          ]
        },
        {
          "output_type": "stream",
          "name": "stderr",
          "text": [
            "Training: 100%|██████████| 13/13 [00:17<00:00,  1.36s/it, loss=3.12, acc=22]\n"
          ]
        },
        {
          "output_type": "stream",
          "name": "stdout",
          "text": [
            "Train Loss: 3.1226, Train Acc: 21.97%, Test Loss: 2.7929, Test Acc: 29.53%, Time: 17.66s\n",
            "\n",
            "Epoch [86/100] - Learning Rate: 0.000100\n"
          ]
        },
        {
          "output_type": "stream",
          "name": "stderr",
          "text": [
            "Training: 100%|██████████| 13/13 [00:16<00:00,  1.30s/it, loss=3.11, acc=22.1]\n"
          ]
        },
        {
          "output_type": "stream",
          "name": "stdout",
          "text": [
            "Train Loss: 3.1142, Train Acc: 22.06%, Test Loss: 2.7928, Test Acc: 29.56%, Time: 16.85s\n",
            "\n",
            "Epoch [87/100] - Learning Rate: 0.000100\n"
          ]
        },
        {
          "output_type": "stream",
          "name": "stderr",
          "text": [
            "Training: 100%|██████████| 13/13 [00:17<00:00,  1.34s/it, loss=3.12, acc=22.2]\n"
          ]
        },
        {
          "output_type": "stream",
          "name": "stdout",
          "text": [
            "Train Loss: 3.1212, Train Acc: 22.19%, Test Loss: 2.7918, Test Acc: 29.57%, Time: 17.40s\n",
            "\n",
            "Epoch [88/100] - Learning Rate: 0.000100\n"
          ]
        },
        {
          "output_type": "stream",
          "name": "stderr",
          "text": [
            "Training: 100%|██████████| 13/13 [00:16<00:00,  1.29s/it, loss=3.12, acc=22.1]\n"
          ]
        },
        {
          "output_type": "stream",
          "name": "stdout",
          "text": [
            "Train Loss: 3.1208, Train Acc: 22.12%, Test Loss: 2.7916, Test Acc: 29.64%, Time: 16.72s\n",
            "New best model saved with accuracy: 29.64%\n",
            "\n",
            "Epoch [89/100] - Learning Rate: 0.000100\n"
          ]
        },
        {
          "output_type": "stream",
          "name": "stderr",
          "text": [
            "Training: 100%|██████████| 13/13 [00:16<00:00,  1.28s/it, loss=3.12, acc=22.2]\n"
          ]
        },
        {
          "output_type": "stream",
          "name": "stdout",
          "text": [
            "Train Loss: 3.1203, Train Acc: 22.19%, Test Loss: 2.7912, Test Acc: 29.58%, Time: 16.60s\n",
            "\n",
            "Epoch [90/100] - Learning Rate: 0.000100\n"
          ]
        },
        {
          "output_type": "stream",
          "name": "stderr",
          "text": [
            "Training: 100%|██████████| 13/13 [00:16<00:00,  1.28s/it, loss=3.12, acc=22.3]\n"
          ]
        },
        {
          "output_type": "stream",
          "name": "stdout",
          "text": [
            "Train Loss: 3.1190, Train Acc: 22.29%, Test Loss: 2.7915, Test Acc: 29.60%, Time: 16.62s\n",
            "\n",
            "Epoch [91/100] - Learning Rate: 0.000100\n"
          ]
        },
        {
          "output_type": "stream",
          "name": "stderr",
          "text": [
            "Training: 100%|██████████| 13/13 [00:16<00:00,  1.26s/it, loss=3.13, acc=22]\n"
          ]
        },
        {
          "output_type": "stream",
          "name": "stdout",
          "text": [
            "Train Loss: 3.1255, Train Acc: 22.01%, Test Loss: 2.7911, Test Acc: 29.60%, Time: 16.41s\n",
            "\n",
            "Epoch [92/100] - Learning Rate: 0.000100\n"
          ]
        },
        {
          "output_type": "stream",
          "name": "stderr",
          "text": [
            "Training: 100%|██████████| 13/13 [00:16<00:00,  1.30s/it, loss=3.12, acc=22.2]\n"
          ]
        },
        {
          "output_type": "stream",
          "name": "stdout",
          "text": [
            "Train Loss: 3.1179, Train Acc: 22.16%, Test Loss: 2.7904, Test Acc: 29.61%, Time: 16.90s\n",
            "\n",
            "Epoch [93/100] - Learning Rate: 0.000100\n"
          ]
        },
        {
          "output_type": "stream",
          "name": "stderr",
          "text": [
            "Training: 100%|██████████| 13/13 [00:16<00:00,  1.28s/it, loss=3.12, acc=22.1]\n"
          ]
        },
        {
          "output_type": "stream",
          "name": "stdout",
          "text": [
            "Train Loss: 3.1236, Train Acc: 22.09%, Test Loss: 2.7907, Test Acc: 29.62%, Time: 16.69s\n",
            "\n",
            "Epoch [94/100] - Learning Rate: 0.000100\n"
          ]
        },
        {
          "output_type": "stream",
          "name": "stderr",
          "text": [
            "Training: 100%|██████████| 13/13 [00:17<00:00,  1.33s/it, loss=3.12, acc=22.1]\n"
          ]
        },
        {
          "output_type": "stream",
          "name": "stdout",
          "text": [
            "Train Loss: 3.1219, Train Acc: 22.13%, Test Loss: 2.7902, Test Acc: 29.60%, Time: 17.27s\n",
            "\n",
            "Epoch [95/100] - Learning Rate: 0.000100\n"
          ]
        },
        {
          "output_type": "stream",
          "name": "stderr",
          "text": [
            "Training: 100%|██████████| 13/13 [00:16<00:00,  1.28s/it, loss=3.12, acc=21.9]\n"
          ]
        },
        {
          "output_type": "stream",
          "name": "stdout",
          "text": [
            "Train Loss: 3.1219, Train Acc: 21.92%, Test Loss: 2.7905, Test Acc: 29.69%, Time: 16.62s\n",
            "New best model saved with accuracy: 29.69%\n",
            "\n",
            "Epoch [96/100] - Learning Rate: 0.000100\n"
          ]
        },
        {
          "output_type": "stream",
          "name": "stderr",
          "text": [
            "Training: 100%|██████████| 13/13 [00:17<00:00,  1.31s/it, loss=3.12, acc=22.3]\n"
          ]
        },
        {
          "output_type": "stream",
          "name": "stdout",
          "text": [
            "Train Loss: 3.1177, Train Acc: 22.26%, Test Loss: 2.7903, Test Acc: 29.64%, Time: 17.02s\n",
            "\n",
            "Epoch [97/100] - Learning Rate: 0.000100\n"
          ]
        },
        {
          "output_type": "stream",
          "name": "stderr",
          "text": [
            "Training: 100%|██████████| 13/13 [00:16<00:00,  1.27s/it, loss=3.12, acc=22.2]\n"
          ]
        },
        {
          "output_type": "stream",
          "name": "stdout",
          "text": [
            "Train Loss: 3.1195, Train Acc: 22.24%, Test Loss: 2.7896, Test Acc: 29.51%, Time: 16.50s\n",
            "\n",
            "Epoch [98/100] - Learning Rate: 0.000100\n"
          ]
        },
        {
          "output_type": "stream",
          "name": "stderr",
          "text": [
            "Training: 100%|██████████| 13/13 [00:17<00:00,  1.32s/it, loss=3.13, acc=22.2]\n"
          ]
        },
        {
          "output_type": "stream",
          "name": "stdout",
          "text": [
            "Train Loss: 3.1272, Train Acc: 22.20%, Test Loss: 2.7896, Test Acc: 29.55%, Time: 17.22s\n",
            "\n",
            "Epoch [99/100] - Learning Rate: 0.000100\n"
          ]
        },
        {
          "output_type": "stream",
          "name": "stderr",
          "text": [
            "Training: 100%|██████████| 13/13 [00:16<00:00,  1.28s/it, loss=3.12, acc=22]\n"
          ]
        },
        {
          "output_type": "stream",
          "name": "stdout",
          "text": [
            "Train Loss: 3.1209, Train Acc: 22.00%, Test Loss: 2.7890, Test Acc: 29.55%, Time: 16.69s\n",
            "\n",
            "Epoch [100/100] - Learning Rate: 0.000100\n"
          ]
        },
        {
          "output_type": "stream",
          "name": "stderr",
          "text": [
            "Training: 100%|██████████| 13/13 [00:17<00:00,  1.35s/it, loss=3.12, acc=22.2]\n"
          ]
        },
        {
          "output_type": "stream",
          "name": "stdout",
          "text": [
            "Train Loss: 3.1161, Train Acc: 22.25%, Test Loss: 2.7890, Test Acc: 29.70%, Time: 17.50s\n",
            "New best model saved with accuracy: 29.70%\n",
            "Best model loaded with accuracy: 29.70%\n"
          ]
        },
        {
          "output_type": "display_data",
          "data": {
            "text/plain": [
              "<Figure size 1800x500 with 3 Axes>"
            ],
            "image/png": "[encoded data removed]"
          },
          "metadata": {}
        },
        {
          "output_type": "stream",
          "name": "stdout",
          "text": [
            "Centralized benchmark completed!\n"
          ]
        }
      ],
      "source": [
        "import torch\n",
        "import torch.nn as nn\n",
        "import torchvision.transforms as transforms\n",
        "import torch.nn.functional as F\n",
        "from torchvision.datasets import CIFAR10, CIFAR100\n",
        "import torchvision.models as models\n",
        "from torch.utils.data import DataLoader\n",
        "\n",
        "from tqdm import tqdm\n",
        "import matplotlib.pyplot as plt\n",
        "import time\n",
        "import pickle\n",
        "import numpy as np\n",
        "import random\n",
        "\n",
        "print(\"PyTorch version:\", torch.__version__)\n",
        "device = torch.device(\"cuda:0\" if torch.cuda.is_available() else \"cpu\")\n",
        "print(f\"Using device: {device}\")\n",
        "\n",
        "# Seeding for reproducibility\n",
        "seed = 2025\n",
        "torch.manual_seed(seed)\n",
        "torch.cuda.manual_seed(seed)\n",
        "np.random.seed(seed)\n",
        "random.seed(seed)\n",
        "\n",
        "# transforms\n",
        "train_transform = transforms.Compose(\n",
        "    [\n",
        "        transforms.RandomCrop(32, padding=4),\n",
        "        transforms.RandomHorizontalFlip(),\n",
        "        transforms.ToTensor(),\n",
        "        transforms.Normalize((0.4914, 0.4822, 0.4465), (0.2023, 0.1994, 0.2010)),\n",
        "    ]\n",
        ")\n",
        "\n",
        "test_transform = transforms.Compose(\n",
        "    [\n",
        "        transforms.ToTensor(),\n",
        "        transforms.Normalize((0.4914, 0.4822, 0.4465), (0.2023, 0.1994, 0.2010)),\n",
        "    ]\n",
        ")\n",
        "\n",
        "\n",
        "# load data\n",
        "\n",
        "\n",
        "def load_data(dataset_name=\"cifar100\", batch_size=128, num_workers=2):\n",
        "    \"\"\"Enhanced data loading with stronger augmentation for CIFAR-100\"\"\"\n",
        "\n",
        "    # Better augmentation for CIFAR-100\n",
        "    train_transform = transforms.Compose(\n",
        "        [\n",
        "            transforms.RandomCrop(32, padding=4),\n",
        "            transforms.RandomHorizontalFlip(),\n",
        "            transforms.ToTensor(),\n",
        "            transforms.Normalize((0.4914, 0.4822, 0.4465), (0.2023, 0.1994, 0.2010)),\n",
        "        ]\n",
        "    )\n",
        "\n",
        "    test_transform = transforms.Compose(\n",
        "        [\n",
        "            transforms.ToTensor(),\n",
        "            transforms.Normalize((0.4914, 0.4822, 0.4465), (0.2023, 0.1994, 0.2010)),\n",
        "        ]\n",
        "    )\n",
        "\n",
        "    if dataset_name.lower() == \"cifar100\":\n",
        "        train_dataset = CIFAR100(\n",
        "            root=\"./data\", train=True, download=True, transform=train_transform\n",
        "        )\n",
        "        test_dataset = CIFAR100(\n",
        "            root=\"./data\", train=False, download=True, transform=test_transform\n",
        "        )\n",
        "        num_classes = 100\n",
        "    else:\n",
        "        raise ValueError(f\"Dataset {dataset_name} not supported in enhanced version\")\n",
        "\n",
        "    # Data loaders\n",
        "    train_loader = DataLoader(\n",
        "        train_dataset,\n",
        "        batch_size=batch_size,\n",
        "        shuffle=True,\n",
        "        num_workers=num_workers,\n",
        "    )\n",
        "\n",
        "    test_loader = DataLoader(\n",
        "        test_dataset,\n",
        "        batch_size=batch_size,\n",
        "        shuffle=False,\n",
        "        num_workers=num_workers,\n",
        "    )\n",
        "\n",
        "    return train_loader, test_loader, num_classes\n",
        "\n",
        "\n",
        "# model - LeNet5 from the paper [11]\n",
        "class LeNet5(nn.Module):\n",
        "    def __init__(self, num_classes=10):\n",
        "        super(LeNet5, self).__init__()\n",
        "        # Input: 3x32x32 (CIFAR has 3 color channels)\n",
        "        self.conv1 = nn.Conv2d(3, 6, kernel_size=5)  # Output: 6x28x28\n",
        "        self.pool1 = nn.MaxPool2d(kernel_size=2, stride=2)  # Output: 6x14x14\n",
        "        self.conv2 = nn.Conv2d(6, 16, kernel_size=5)  # Output: 16x10x10\n",
        "        self.pool2 = nn.MaxPool2d(kernel_size=2, stride=2)  # Output: 16x5x5\n",
        "\n",
        "        # fc layers\n",
        "        self.fc1 = nn.Linear(16 * 5 * 5, 120)\n",
        "        self.fc2 = nn.Linear(120, 84)\n",
        "        self.fc3 = nn.Linear(84, num_classes)\n",
        "\n",
        "    def forward(self, x):\n",
        "        x = self.pool1(F.relu(self.conv1(x)))\n",
        "        x = self.pool2(F.relu(self.conv2(x)))\n",
        "        x = x.view(-1, 16 * 5 * 5)  # flatten\n",
        "        x = F.relu(self.fc1(x))\n",
        "        x = F.relu(self.fc2(x))\n",
        "        x = self.fc3(x)\n",
        "        return x\n",
        "\n",
        "\n",
        "class ImprovedCNN(nn.Module):\n",
        "    def __init__(self, num_classes=100):\n",
        "        super(ImprovedCNN, self).__init__()\n",
        "        # First conv block\n",
        "        self.conv1 = nn.Conv2d(3, 64, kernel_size=5, padding=2)\n",
        "        self.bn1 = nn.BatchNorm2d(64)  # using BatchNorm for better training stability\n",
        "        self.pool1 = nn.MaxPool2d(kernel_size=2, stride=2)\n",
        "\n",
        "        # Second conv block\n",
        "        self.conv2 = nn.Conv2d(64, 64, kernel_size=5, padding=2)\n",
        "        self.bn2 = nn.BatchNorm2d(64)\n",
        "        self.pool2 = nn.MaxPool2d(kernel_size=2, stride=2)\n",
        "\n",
        "        # Fully connected layers\n",
        "        self.fc1 = nn.Linear(64 * 8 * 8, 384)\n",
        "        self.dropout1 = nn.Dropout(0.5)\n",
        "        self.fc2 = nn.Linear(384, 192)\n",
        "        self.dropout2 = nn.Dropout(0.5)\n",
        "        self.fc3 = nn.Linear(192, num_classes)\n",
        "\n",
        "    def forward(self, x):\n",
        "        # First conv block\n",
        "        x = self.pool1(F.relu(self.bn1(self.conv1(x))))\n",
        "\n",
        "        # Second conv block\n",
        "        x = self.pool2(F.relu(self.bn2(self.conv2(x))))\n",
        "\n",
        "        # Flatten and fully connected layers\n",
        "        x = x.view(-1, 64 * 8 * 8)\n",
        "        x = F.relu(self.fc1(x))\n",
        "        x = self.dropout1(x)\n",
        "        x = F.relu(self.fc2(x))\n",
        "        x = self.dropout2(x)\n",
        "        x = self.fc3(x)\n",
        "\n",
        "        return x\n",
        "\n",
        "\n",
        "def create_model(model_name, num_classes=100):\n",
        "    if model_name.lower() == \"improved_cnn\":\n",
        "        return ImprovedCNN(num_classes=num_classes)\n",
        "    elif model_name.lower() == \"lenet5\":\n",
        "        return LeNet5(num_classes=num_classes)\n",
        "    else:\n",
        "        raise ValueError(f\"Unknown model: {model_name}\")\n",
        "\n",
        "\n",
        "# train\n",
        "def train_epoch(model, train_loader, criterion, optimizer, device):\n",
        "    model.train()\n",
        "    running_loss = 0.0\n",
        "    correct = 0\n",
        "    total = 0\n",
        "\n",
        "    pbar = tqdm(train_loader, desc=\"Training\")\n",
        "\n",
        "    for inputs, labels in pbar:\n",
        "        inputs, labels = inputs.to(device), labels.to(device)\n",
        "\n",
        "        optimizer.zero_grad()\n",
        "        outputs = model(inputs)\n",
        "        loss = criterion(outputs, labels)\n",
        "        loss.backward()\n",
        "        optimizer.step()\n",
        "\n",
        "        running_loss += loss.item() * inputs.size(0)\n",
        "        _, predicted = outputs.max(1)\n",
        "        total += labels.size(0)\n",
        "        correct += predicted.eq(labels).sum().item()\n",
        "\n",
        "        # just a progress bar\n",
        "        pbar.set_postfix({\"loss\": running_loss / total, \"acc\": 100.0 * correct / total})\n",
        "\n",
        "    train_loss = running_loss / total\n",
        "    train_acc = 100.0 * correct / total\n",
        "\n",
        "    return train_loss, train_acc\n",
        "\n",
        "\n",
        "# eval\n",
        "def evaluate(model, test_loader, criterion, device):\n",
        "    model.eval()\n",
        "    running_loss = 0.0\n",
        "    correct = 0\n",
        "    total = 0\n",
        "\n",
        "    with torch.no_grad():\n",
        "        for inputs, labels in test_loader:\n",
        "            inputs, labels = inputs.to(device), labels.to(device)\n",
        "\n",
        "            outputs = model(inputs)\n",
        "            loss = criterion(outputs, labels)\n",
        "\n",
        "            running_loss += loss.item() * inputs.size(0)\n",
        "            _, predicted = outputs.max(1)\n",
        "            total += labels.size(0)\n",
        "            correct += predicted.eq(labels).sum().item()\n",
        "\n",
        "    test_loss = running_loss / total\n",
        "    test_acc = 100.0 * correct / total\n",
        "\n",
        "    return test_loss, test_acc\n",
        "\n",
        "\n",
        "# train config\n",
        "def train_centralized_model(\n",
        "    model_name=\"improved_cnn\",\n",
        "    dataset_name=\"cifar100\",\n",
        "    batch_size=4096,\n",
        "    epochs=100,\n",
        "    lr=0.01,\n",
        "    momentum=0.9,\n",
        "    weight_decay=4e-4,\n",
        "    lr_scheduler=\"step\",\n",
        "    save_path=\"improved_cnn_model.pth\",\n",
        "):\n",
        "    # Load data\n",
        "    train_loader, test_loader, num_classes = load_data(\n",
        "        dataset_name=dataset_name, batch_size=batch_size\n",
        "    )\n",
        "\n",
        "    # Create model\n",
        "    model = create_model(model_name, num_classes=num_classes)\n",
        "    model = model.to(device)\n",
        "\n",
        "    # Print model parameters\n",
        "    total_params = sum(p.numel() for p in model.parameters())\n",
        "    print(f\"Total parameters: {total_params:,}\")\n",
        "\n",
        "    # Define loss function and optimizer\n",
        "    criterion = nn.CrossEntropyLoss()\n",
        "    optimizer = torch.optim.SGD(\n",
        "        model.parameters(), lr=lr, momentum=momentum, weight_decay=weight_decay\n",
        "    )\n",
        "\n",
        "    # Learning rate scheduler - step decay at specific epochs\n",
        "    if lr_scheduler == \"step\":\n",
        "        scheduler = torch.optim.lr_scheduler.MultiStepLR(\n",
        "            optimizer, milestones=[50, 60], gamma=0.1\n",
        "        )\n",
        "    elif lr_scheduler == \"cosine\":\n",
        "        scheduler = torch.optim.lr_scheduler.CosineAnnealingLR(optimizer, T_max=epochs)\n",
        "    else:\n",
        "        raise ValueError(f\"Unknown scheduler: {lr_scheduler}\")\n",
        "\n",
        "    # Training history\n",
        "    history = {\n",
        "        \"train_loss\": [],\n",
        "        \"train_acc\": [],\n",
        "        \"test_loss\": [],\n",
        "        \"test_acc\": [],\n",
        "        \"lr\": [],\n",
        "    }\n",
        "\n",
        "    # Track best accuracy\n",
        "    best_acc = 0.0\n",
        "\n",
        "    # Training loop\n",
        "    for epoch in range(epochs):\n",
        "        current_lr = optimizer.param_groups[0][\"lr\"]\n",
        "        print(f\"\\nEpoch [{epoch + 1}/{epochs}] - Learning Rate: {current_lr:.6f}\")\n",
        "\n",
        "        # Training for one epoch\n",
        "        start_time = time.time()\n",
        "        train_loss, train_acc = train_epoch(\n",
        "            model, train_loader, criterion, optimizer, device\n",
        "        )\n",
        "        train_time = time.time() - start_time\n",
        "\n",
        "        # Evaluate on test set\n",
        "        test_loss, test_acc = evaluate(model, test_loader, criterion, device)\n",
        "\n",
        "        # Step learning rate scheduler\n",
        "        scheduler.step()\n",
        "\n",
        "        # Print statistics\n",
        "        print(\n",
        "            f\"Train Loss: {train_loss:.4f}, Train Acc: {train_acc:.2f}%, \"\n",
        "            f\"Test Loss: {test_loss:.4f}, Test Acc: {test_acc:.2f}%, \"\n",
        "            f\"Time: {train_time:.2f}s\"\n",
        "        )\n",
        "\n",
        "        # Save best model\n",
        "        if test_acc > best_acc:\n",
        "            best_acc = test_acc\n",
        "            torch.save(\n",
        "                {\n",
        "                    \"epoch\": epoch,\n",
        "                    \"model_state_dict\": model.state_dict(),\n",
        "                    \"optimizer_state_dict\": optimizer.state_dict(),\n",
        "                    \"test_acc\": test_acc,\n",
        "                },\n",
        "                save_path,\n",
        "            )\n",
        "            print(f\"New best model saved with accuracy: {test_acc:.2f}%\")\n",
        "\n",
        "        # Update history\n",
        "        history[\"train_loss\"].append(train_loss)\n",
        "        history[\"train_acc\"].append(train_acc)\n",
        "        history[\"test_loss\"].append(test_loss)\n",
        "        history[\"test_acc\"].append(test_acc)\n",
        "        history[\"lr\"].append(current_lr)\n",
        "\n",
        "    # Load best model\n",
        "    checkpoint = torch.load(save_path)\n",
        "    model.load_state_dict(checkpoint[\"model_state_dict\"])\n",
        "    print(f\"Best model loaded with accuracy: {checkpoint['test_acc']:.2f}%\")\n",
        "\n",
        "    return model, history\n",
        "\n",
        "\n",
        "# visualization of model performance\n",
        "def plot_training_history(history):\n",
        "    fig, (ax1, ax2, ax3) = plt.subplots(1, 3, figsize=(18, 5))\n",
        "\n",
        "    # plot the loss\n",
        "    ax1.plot(history[\"train_loss\"], label=\"Train Loss\")\n",
        "    ax1.plot(history[\"test_loss\"], label=\"Test Loss\")\n",
        "    ax1.set_xlabel(\"Epoch\")\n",
        "    ax1.set_ylabel(\"Loss\")\n",
        "    ax1.legend()\n",
        "    ax1.set_title(\"Loss Curves\")\n",
        "    ax1.grid(True)\n",
        "\n",
        "    # plot accuracy\n",
        "    ax2.plot(history[\"train_acc\"], label=\"Train Accuracy\")\n",
        "    ax2.plot(history[\"test_acc\"], label=\"Test Accuracy\")\n",
        "    ax2.set_xlabel(\"Epoch\")\n",
        "    ax2.set_ylabel(\"Accuracy (%)\")\n",
        "    ax2.legend()\n",
        "    ax2.set_title(\"Accuracy Curves\")\n",
        "    ax2.grid(True)\n",
        "\n",
        "    # plot learning rate\n",
        "    ax3.plot(history[\"lr\"])\n",
        "    ax3.set_xlabel(\"Epoch\")\n",
        "    ax3.set_ylabel(\"Learning Rate\")\n",
        "    ax3.set_title(\"Learning Rate Schedule\")\n",
        "    ax3.set_yscale(\"log\")\n",
        "    ax3.grid(True)\n",
        "\n",
        "    plt.tight_layout()\n",
        "    plt.show()\n",
        "\n",
        "\n",
        "# run benchmark\n",
        "def run_centralized_benchmark():\n",
        "    # LeNet5 config\n",
        "    config = {\n",
        "        \"model_name\": \"improved_cnn\",\n",
        "        \"dataset_name\": \"cifar100\",\n",
        "        \"batch_size\": 4096,\n",
        "        \"epochs\": 100,\n",
        "        \"lr\": 0.01,\n",
        "        \"momentum\": 0.9,\n",
        "        \"weight_decay\": 4e-4,\n",
        "        \"lr_scheduler\": \"step\",\n",
        "        \"save_path\": \"improved_cnn_model.pth\",\n",
        "    }\n",
        "\n",
        "    print(\n",
        "        f\"Running centralized benchmark with {config['model_name']} on {config['dataset_name']}...\"\n",
        "    )\n",
        "\n",
        "    # Train model\n",
        "    model, history = train_centralized_model(**config)\n",
        "\n",
        "    # Plot results\n",
        "    plot_training_history(history)\n",
        "\n",
        "    # Save history\n",
        "    with open(\"lenet5_history.pkl\", \"wb\") as f:\n",
        "        pickle.dump(history, f)\n",
        "\n",
        "    print(\"Centralized benchmark completed!\")\n",
        "\n",
        "    return model, history\n",
        "\n",
        "\n",
        "def main():\n",
        "    model, history = run_centralized_benchmark()\n",
        "    return model, history\n",
        "\n",
        "\n",
        "if __name__ == \"__main__\":\n",
        "    main()\n",
        "\n"
      ]
    }
  ],
  "metadata": {
    "accelerator": "GPU",
    "colab": {
      "gpuType": "T4",
      "provenance": [],
      "include_colab_link": true
    },
    "kernelspec": {
      "display_name": "Python 3",
      "name": "python3"
    },
    "language_info": {
      "name": "python"
    }
  },
  "nbformat": 4,
  "nbformat_minor": 0
}