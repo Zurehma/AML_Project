{
  "cells": [
    {
      "cell_type": "markdown",
      "metadata": {
        "id": "view-in-github",
        "colab_type": "text"
      },
      "source": [
        "<a href=\"https://colab.research.google.com/github/Zurehma/AML_Project/blob/main/Centralized/benchmarks/batch_2048.ipynb\" target=\"_parent\"><img src=\"https://colab.research.google.com/assets/colab-badge.svg\" alt=\"Open In Colab\"/></a>"
      ]
    },
    {
      "cell_type": "code",
      "execution_count": 1,
      "metadata": {
        "colab": {
          "base_uri": "https://localhost:8080/",
          "height": 1000
        },
        "id": "rmTV2T84dLgD",
        "outputId": "02a829ea-a3b0-49c5-df79-65b6033520d5"
      },
      "outputs": [
        {
          "output_type": "stream",
          "name": "stdout",
          "text": [
            "PyTorch version: 2.6.0+cu124\n",
            "Using device: cuda:0\n",
            "Running centralized benchmark with improved_cnn on cifar100...\n"
          ]
        },
        {
          "output_type": "stream",
          "name": "stderr",
          "text": [
            "100%|██████████| 169M/169M [00:13<00:00, 12.4MB/s]\n"
          ]
        },
        {
          "output_type": "stream",
          "name": "stdout",
          "text": [
            "Total parameters: 1,774,052\n",
            "\n",
            "Epoch [1/100] - Learning Rate: 0.010000\n"
          ]
        },
        {
          "output_type": "stream",
          "name": "stderr",
          "text": [
            "Training: 100%|██████████| 25/25 [00:16<00:00,  1.53it/s, loss=4.6, acc=1.25]\n"
          ]
        },
        {
          "output_type": "stream",
          "name": "stdout",
          "text": [
            "Train Loss: 4.6047, Train Acc: 1.25%, Test Loss: 4.5822, Test Acc: 2.68%, Time: 16.31s\n",
            "New best model saved with accuracy: 2.68%\n",
            "\n",
            "Epoch [2/100] - Learning Rate: 0.010000\n"
          ]
        },
        {
          "output_type": "stream",
          "name": "stderr",
          "text": [
            "Training: 100%|██████████| 25/25 [00:17<00:00,  1.44it/s, loss=4.57, acc=2.17]\n"
          ]
        },
        {
          "output_type": "stream",
          "name": "stdout",
          "text": [
            "Train Loss: 4.5659, Train Acc: 2.17%, Test Loss: 4.5023, Test Acc: 4.12%, Time: 17.35s\n",
            "New best model saved with accuracy: 4.12%\n",
            "\n",
            "Epoch [3/100] - Learning Rate: 0.010000\n"
          ]
        },
        {
          "output_type": "stream",
          "name": "stderr",
          "text": [
            "Training: 100%|██████████| 25/25 [00:16<00:00,  1.54it/s, loss=4.49, acc=2.97]\n"
          ]
        },
        {
          "output_type": "stream",
          "name": "stdout",
          "text": [
            "Train Loss: 4.4945, Train Acc: 2.97%, Test Loss: 4.3614, Test Acc: 4.33%, Time: 16.19s\n",
            "New best model saved with accuracy: 4.33%\n",
            "\n",
            "Epoch [4/100] - Learning Rate: 0.010000\n"
          ]
        },
        {
          "output_type": "stream",
          "name": "stderr",
          "text": [
            "Training: 100%|██████████| 25/25 [00:16<00:00,  1.50it/s, loss=4.39, acc=3.9]\n"
          ]
        },
        {
          "output_type": "stream",
          "name": "stdout",
          "text": [
            "Train Loss: 4.3897, Train Acc: 3.90%, Test Loss: 4.2464, Test Acc: 5.97%, Time: 16.67s\n",
            "New best model saved with accuracy: 5.97%\n",
            "\n",
            "Epoch [5/100] - Learning Rate: 0.010000\n"
          ]
        },
        {
          "output_type": "stream",
          "name": "stderr",
          "text": [
            "Training: 100%|██████████| 25/25 [00:16<00:00,  1.53it/s, loss=4.3, acc=4.76]\n"
          ]
        },
        {
          "output_type": "stream",
          "name": "stdout",
          "text": [
            "Train Loss: 4.2993, Train Acc: 4.76%, Test Loss: 4.1434, Test Acc: 8.00%, Time: 16.32s\n",
            "New best model saved with accuracy: 8.00%\n",
            "\n",
            "Epoch [6/100] - Learning Rate: 0.010000\n"
          ]
        },
        {
          "output_type": "stream",
          "name": "stderr",
          "text": [
            "Training: 100%|██████████| 25/25 [00:16<00:00,  1.51it/s, loss=4.21, acc=5.65]\n"
          ]
        },
        {
          "output_type": "stream",
          "name": "stdout",
          "text": [
            "Train Loss: 4.2080, Train Acc: 5.65%, Test Loss: 4.0410, Test Acc: 9.35%, Time: 16.58s\n",
            "New best model saved with accuracy: 9.35%\n",
            "\n",
            "Epoch [7/100] - Learning Rate: 0.010000\n"
          ]
        },
        {
          "output_type": "stream",
          "name": "stderr",
          "text": [
            "Training: 100%|██████████| 25/25 [00:16<00:00,  1.47it/s, loss=4.13, acc=6.6]\n"
          ]
        },
        {
          "output_type": "stream",
          "name": "stdout",
          "text": [
            "Train Loss: 4.1276, Train Acc: 6.60%, Test Loss: 3.9385, Test Acc: 10.77%, Time: 16.98s\n",
            "New best model saved with accuracy: 10.77%\n",
            "\n",
            "Epoch [8/100] - Learning Rate: 0.010000\n"
          ]
        },
        {
          "output_type": "stream",
          "name": "stderr",
          "text": [
            "Training: 100%|██████████| 25/25 [00:16<00:00,  1.47it/s, loss=4.05, acc=7.52]\n"
          ]
        },
        {
          "output_type": "stream",
          "name": "stdout",
          "text": [
            "Train Loss: 4.0453, Train Acc: 7.52%, Test Loss: 3.8396, Test Acc: 12.60%, Time: 16.99s\n",
            "New best model saved with accuracy: 12.60%\n",
            "\n",
            "Epoch [9/100] - Learning Rate: 0.010000\n"
          ]
        },
        {
          "output_type": "stream",
          "name": "stderr",
          "text": [
            "Training: 100%|██████████| 25/25 [00:16<00:00,  1.51it/s, loss=3.97, acc=8.48]\n"
          ]
        },
        {
          "output_type": "stream",
          "name": "stdout",
          "text": [
            "Train Loss: 3.9712, Train Acc: 8.48%, Test Loss: 3.7511, Test Acc: 13.74%, Time: 16.56s\n",
            "New best model saved with accuracy: 13.74%\n",
            "\n",
            "Epoch [10/100] - Learning Rate: 0.010000\n"
          ]
        },
        {
          "output_type": "stream",
          "name": "stderr",
          "text": [
            "Training: 100%|██████████| 25/25 [00:17<00:00,  1.46it/s, loss=3.91, acc=9.19]\n"
          ]
        },
        {
          "output_type": "stream",
          "name": "stdout",
          "text": [
            "Train Loss: 3.9073, Train Acc: 9.19%, Test Loss: 3.6702, Test Acc: 14.67%, Time: 17.07s\n",
            "New best model saved with accuracy: 14.67%\n",
            "\n",
            "Epoch [11/100] - Learning Rate: 0.010000\n"
          ]
        },
        {
          "output_type": "stream",
          "name": "stderr",
          "text": [
            "Training: 100%|██████████| 25/25 [00:16<00:00,  1.52it/s, loss=3.85, acc=10]\n"
          ]
        },
        {
          "output_type": "stream",
          "name": "stdout",
          "text": [
            "Train Loss: 3.8466, Train Acc: 10.04%, Test Loss: 3.6251, Test Acc: 15.61%, Time: 16.40s\n",
            "New best model saved with accuracy: 15.61%\n",
            "\n",
            "Epoch [12/100] - Learning Rate: 0.010000\n"
          ]
        },
        {
          "output_type": "stream",
          "name": "stderr",
          "text": [
            "Training: 100%|██████████| 25/25 [00:16<00:00,  1.49it/s, loss=3.8, acc=10.6]\n"
          ]
        },
        {
          "output_type": "stream",
          "name": "stdout",
          "text": [
            "Train Loss: 3.7998, Train Acc: 10.58%, Test Loss: 3.5811, Test Acc: 16.71%, Time: 16.78s\n",
            "New best model saved with accuracy: 16.71%\n",
            "\n",
            "Epoch [13/100] - Learning Rate: 0.010000\n"
          ]
        },
        {
          "output_type": "stream",
          "name": "stderr",
          "text": [
            "Training: 100%|██████████| 25/25 [00:16<00:00,  1.55it/s, loss=3.75, acc=11.3]\n"
          ]
        },
        {
          "output_type": "stream",
          "name": "stdout",
          "text": [
            "Train Loss: 3.7514, Train Acc: 11.33%, Test Loss: 3.5283, Test Acc: 16.93%, Time: 16.17s\n",
            "New best model saved with accuracy: 16.93%\n",
            "\n",
            "Epoch [14/100] - Learning Rate: 0.010000\n"
          ]
        },
        {
          "output_type": "stream",
          "name": "stderr",
          "text": [
            "Training: 100%|██████████| 25/25 [00:16<00:00,  1.54it/s, loss=3.7, acc=12.1]\n"
          ]
        },
        {
          "output_type": "stream",
          "name": "stdout",
          "text": [
            "Train Loss: 3.7043, Train Acc: 12.06%, Test Loss: 3.4625, Test Acc: 18.56%, Time: 16.21s\n",
            "New best model saved with accuracy: 18.56%\n",
            "\n",
            "Epoch [15/100] - Learning Rate: 0.010000\n"
          ]
        },
        {
          "output_type": "stream",
          "name": "stderr",
          "text": [
            "Training: 100%|██████████| 25/25 [00:16<00:00,  1.54it/s, loss=3.66, acc=12.9]\n"
          ]
        },
        {
          "output_type": "stream",
          "name": "stdout",
          "text": [
            "Train Loss: 3.6580, Train Acc: 12.90%, Test Loss: 3.4060, Test Acc: 18.85%, Time: 16.24s\n",
            "New best model saved with accuracy: 18.85%\n",
            "\n",
            "Epoch [16/100] - Learning Rate: 0.010000\n"
          ]
        },
        {
          "output_type": "stream",
          "name": "stderr",
          "text": [
            "Training: 100%|██████████| 25/25 [00:16<00:00,  1.53it/s, loss=3.61, acc=13.5]\n"
          ]
        },
        {
          "output_type": "stream",
          "name": "stdout",
          "text": [
            "Train Loss: 3.6124, Train Acc: 13.47%, Test Loss: 3.3596, Test Acc: 19.89%, Time: 16.38s\n",
            "New best model saved with accuracy: 19.89%\n",
            "\n",
            "Epoch [17/100] - Learning Rate: 0.010000\n"
          ]
        },
        {
          "output_type": "stream",
          "name": "stderr",
          "text": [
            "Training: 100%|██████████| 25/25 [00:16<00:00,  1.53it/s, loss=3.57, acc=14.3]\n"
          ]
        },
        {
          "output_type": "stream",
          "name": "stdout",
          "text": [
            "Train Loss: 3.5661, Train Acc: 14.28%, Test Loss: 3.3384, Test Acc: 19.76%, Time: 16.34s\n",
            "\n",
            "Epoch [18/100] - Learning Rate: 0.010000\n"
          ]
        },
        {
          "output_type": "stream",
          "name": "stderr",
          "text": [
            "Training: 100%|██████████| 25/25 [00:16<00:00,  1.54it/s, loss=3.53, acc=14.8]\n"
          ]
        },
        {
          "output_type": "stream",
          "name": "stdout",
          "text": [
            "Train Loss: 3.5282, Train Acc: 14.83%, Test Loss: 3.2784, Test Acc: 21.06%, Time: 16.19s\n",
            "New best model saved with accuracy: 21.06%\n",
            "\n",
            "Epoch [19/100] - Learning Rate: 0.010000\n"
          ]
        },
        {
          "output_type": "stream",
          "name": "stderr",
          "text": [
            "Training: 100%|██████████| 25/25 [00:16<00:00,  1.49it/s, loss=3.49, acc=15.5]\n"
          ]
        },
        {
          "output_type": "stream",
          "name": "stdout",
          "text": [
            "Train Loss: 3.4859, Train Acc: 15.49%, Test Loss: 3.2626, Test Acc: 21.33%, Time: 16.73s\n",
            "New best model saved with accuracy: 21.33%\n",
            "\n",
            "Epoch [20/100] - Learning Rate: 0.010000\n"
          ]
        },
        {
          "output_type": "stream",
          "name": "stderr",
          "text": [
            "Training: 100%|██████████| 25/25 [00:16<00:00,  1.54it/s, loss=3.45, acc=16.4]\n"
          ]
        },
        {
          "output_type": "stream",
          "name": "stdout",
          "text": [
            "Train Loss: 3.4476, Train Acc: 16.35%, Test Loss: 3.1480, Test Acc: 23.64%, Time: 16.25s\n",
            "New best model saved with accuracy: 23.64%\n",
            "\n",
            "Epoch [21/100] - Learning Rate: 0.010000\n"
          ]
        },
        {
          "output_type": "stream",
          "name": "stderr",
          "text": [
            "Training: 100%|██████████| 25/25 [00:17<00:00,  1.47it/s, loss=3.41, acc=16.9]\n"
          ]
        },
        {
          "output_type": "stream",
          "name": "stdout",
          "text": [
            "Train Loss: 3.4077, Train Acc: 16.85%, Test Loss: 3.0983, Test Acc: 24.35%, Time: 17.05s\n",
            "New best model saved with accuracy: 24.35%\n",
            "\n",
            "Epoch [22/100] - Learning Rate: 0.010000\n"
          ]
        },
        {
          "output_type": "stream",
          "name": "stderr",
          "text": [
            "Training: 100%|██████████| 25/25 [00:16<00:00,  1.54it/s, loss=3.39, acc=17.3]\n"
          ]
        },
        {
          "output_type": "stream",
          "name": "stdout",
          "text": [
            "Train Loss: 3.3850, Train Acc: 17.27%, Test Loss: 3.0616, Test Acc: 24.98%, Time: 16.20s\n",
            "New best model saved with accuracy: 24.98%\n",
            "\n",
            "Epoch [23/100] - Learning Rate: 0.010000\n"
          ]
        },
        {
          "output_type": "stream",
          "name": "stderr",
          "text": [
            "Training: 100%|██████████| 25/25 [00:17<00:00,  1.44it/s, loss=3.34, acc=18.2]\n"
          ]
        },
        {
          "output_type": "stream",
          "name": "stdout",
          "text": [
            "Train Loss: 3.3380, Train Acc: 18.16%, Test Loss: 3.0191, Test Acc: 25.56%, Time: 17.41s\n",
            "New best model saved with accuracy: 25.56%\n",
            "\n",
            "Epoch [24/100] - Learning Rate: 0.010000\n"
          ]
        },
        {
          "output_type": "stream",
          "name": "stderr",
          "text": [
            "Training: 100%|██████████| 25/25 [00:16<00:00,  1.51it/s, loss=3.31, acc=18.6]\n"
          ]
        },
        {
          "output_type": "stream",
          "name": "stdout",
          "text": [
            "Train Loss: 3.3144, Train Acc: 18.56%, Test Loss: 2.9717, Test Acc: 26.04%, Time: 16.54s\n",
            "New best model saved with accuracy: 26.04%\n",
            "\n",
            "Epoch [25/100] - Learning Rate: 0.010000\n"
          ]
        },
        {
          "output_type": "stream",
          "name": "stderr",
          "text": [
            "Training: 100%|██████████| 25/25 [00:17<00:00,  1.45it/s, loss=3.27, acc=19.3]\n"
          ]
        },
        {
          "output_type": "stream",
          "name": "stdout",
          "text": [
            "Train Loss: 3.2676, Train Acc: 19.29%, Test Loss: 2.9542, Test Acc: 26.54%, Time: 17.28s\n",
            "New best model saved with accuracy: 26.54%\n",
            "\n",
            "Epoch [26/100] - Learning Rate: 0.010000\n"
          ]
        },
        {
          "output_type": "stream",
          "name": "stderr",
          "text": [
            "Training: 100%|██████████| 25/25 [00:16<00:00,  1.54it/s, loss=3.24, acc=19.8]\n"
          ]
        },
        {
          "output_type": "stream",
          "name": "stdout",
          "text": [
            "Train Loss: 3.2409, Train Acc: 19.82%, Test Loss: 2.9594, Test Acc: 26.69%, Time: 16.21s\n",
            "New best model saved with accuracy: 26.69%\n",
            "\n",
            "Epoch [27/100] - Learning Rate: 0.010000\n"
          ]
        },
        {
          "output_type": "stream",
          "name": "stderr",
          "text": [
            "Training: 100%|██████████| 25/25 [00:17<00:00,  1.46it/s, loss=3.23, acc=20.1]\n"
          ]
        },
        {
          "output_type": "stream",
          "name": "stdout",
          "text": [
            "Train Loss: 3.2300, Train Acc: 20.09%, Test Loss: 2.9142, Test Acc: 27.75%, Time: 17.18s\n",
            "New best model saved with accuracy: 27.75%\n",
            "\n",
            "Epoch [28/100] - Learning Rate: 0.010000\n"
          ]
        },
        {
          "output_type": "stream",
          "name": "stderr",
          "text": [
            "Training: 100%|██████████| 25/25 [00:16<00:00,  1.55it/s, loss=3.2, acc=20.9]\n"
          ]
        },
        {
          "output_type": "stream",
          "name": "stdout",
          "text": [
            "Train Loss: 3.1964, Train Acc: 20.86%, Test Loss: 2.9022, Test Acc: 27.35%, Time: 16.15s\n",
            "\n",
            "Epoch [29/100] - Learning Rate: 0.010000\n"
          ]
        },
        {
          "output_type": "stream",
          "name": "stderr",
          "text": [
            "Training: 100%|██████████| 25/25 [00:16<00:00,  1.51it/s, loss=3.16, acc=21.3]\n"
          ]
        },
        {
          "output_type": "stream",
          "name": "stdout",
          "text": [
            "Train Loss: 3.1639, Train Acc: 21.29%, Test Loss: 2.8338, Test Acc: 28.51%, Time: 16.55s\n",
            "New best model saved with accuracy: 28.51%\n",
            "\n",
            "Epoch [30/100] - Learning Rate: 0.010000\n"
          ]
        },
        {
          "output_type": "stream",
          "name": "stderr",
          "text": [
            "Training: 100%|██████████| 25/25 [00:15<00:00,  1.56it/s, loss=3.16, acc=21.7]\n"
          ]
        },
        {
          "output_type": "stream",
          "name": "stdout",
          "text": [
            "Train Loss: 3.1564, Train Acc: 21.68%, Test Loss: 2.8344, Test Acc: 28.46%, Time: 15.99s\n",
            "\n",
            "Epoch [31/100] - Learning Rate: 0.010000\n"
          ]
        },
        {
          "output_type": "stream",
          "name": "stderr",
          "text": [
            "Training: 100%|██████████| 25/25 [00:16<00:00,  1.54it/s, loss=3.14, acc=22.1]\n"
          ]
        },
        {
          "output_type": "stream",
          "name": "stdout",
          "text": [
            "Train Loss: 3.1376, Train Acc: 22.11%, Test Loss: 2.8020, Test Acc: 29.44%, Time: 16.25s\n",
            "New best model saved with accuracy: 29.44%\n",
            "\n",
            "Epoch [32/100] - Learning Rate: 0.010000\n"
          ]
        },
        {
          "output_type": "stream",
          "name": "stderr",
          "text": [
            "Training: 100%|██████████| 25/25 [00:16<00:00,  1.52it/s, loss=3.1, acc=22.6]\n"
          ]
        },
        {
          "output_type": "stream",
          "name": "stdout",
          "text": [
            "Train Loss: 3.0977, Train Acc: 22.56%, Test Loss: 2.8118, Test Acc: 28.26%, Time: 16.40s\n",
            "\n",
            "Epoch [33/100] - Learning Rate: 0.010000\n"
          ]
        },
        {
          "output_type": "stream",
          "name": "stderr",
          "text": [
            "Training: 100%|██████████| 25/25 [00:19<00:00,  1.28it/s, loss=3.08, acc=23]\n"
          ]
        },
        {
          "output_type": "stream",
          "name": "stdout",
          "text": [
            "Train Loss: 3.0812, Train Acc: 23.00%, Test Loss: 2.7284, Test Acc: 30.64%, Time: 19.52s\n",
            "New best model saved with accuracy: 30.64%\n",
            "\n",
            "Epoch [34/100] - Learning Rate: 0.010000\n"
          ]
        },
        {
          "output_type": "stream",
          "name": "stderr",
          "text": [
            "Training: 100%|██████████| 25/25 [00:17<00:00,  1.46it/s, loss=3.05, acc=23.6]\n"
          ]
        },
        {
          "output_type": "stream",
          "name": "stdout",
          "text": [
            "Train Loss: 3.0538, Train Acc: 23.60%, Test Loss: 2.8292, Test Acc: 28.33%, Time: 17.10s\n",
            "\n",
            "Epoch [35/100] - Learning Rate: 0.010000\n"
          ]
        },
        {
          "output_type": "stream",
          "name": "stderr",
          "text": [
            "Training: 100%|██████████| 25/25 [00:17<00:00,  1.46it/s, loss=3.04, acc=23.8]\n"
          ]
        },
        {
          "output_type": "stream",
          "name": "stdout",
          "text": [
            "Train Loss: 3.0364, Train Acc: 23.83%, Test Loss: 2.7016, Test Acc: 31.41%, Time: 17.13s\n",
            "New best model saved with accuracy: 31.41%\n",
            "\n",
            "Epoch [36/100] - Learning Rate: 0.010000\n"
          ]
        },
        {
          "output_type": "stream",
          "name": "stderr",
          "text": [
            "Training: 100%|██████████| 25/25 [00:16<00:00,  1.55it/s, loss=3.02, acc=24.2]\n"
          ]
        },
        {
          "output_type": "stream",
          "name": "stdout",
          "text": [
            "Train Loss: 3.0208, Train Acc: 24.22%, Test Loss: 2.7209, Test Acc: 30.31%, Time: 16.17s\n",
            "\n",
            "Epoch [37/100] - Learning Rate: 0.010000\n"
          ]
        },
        {
          "output_type": "stream",
          "name": "stderr",
          "text": [
            "Training: 100%|██████████| 25/25 [00:17<00:00,  1.46it/s, loss=3.04, acc=23.8]\n"
          ]
        },
        {
          "output_type": "stream",
          "name": "stdout",
          "text": [
            "Train Loss: 3.0406, Train Acc: 23.81%, Test Loss: 2.6854, Test Acc: 31.64%, Time: 17.12s\n",
            "New best model saved with accuracy: 31.64%\n",
            "\n",
            "Epoch [38/100] - Learning Rate: 0.010000\n"
          ]
        },
        {
          "output_type": "stream",
          "name": "stderr",
          "text": [
            "Training: 100%|██████████| 25/25 [00:16<00:00,  1.54it/s, loss=2.99, acc=25.1]\n"
          ]
        },
        {
          "output_type": "stream",
          "name": "stdout",
          "text": [
            "Train Loss: 2.9911, Train Acc: 25.08%, Test Loss: 2.6391, Test Acc: 32.27%, Time: 16.26s\n",
            "New best model saved with accuracy: 32.27%\n",
            "\n",
            "Epoch [39/100] - Learning Rate: 0.010000\n"
          ]
        },
        {
          "output_type": "stream",
          "name": "stderr",
          "text": [
            "Training: 100%|██████████| 25/25 [00:16<00:00,  1.51it/s, loss=2.97, acc=25.2]\n"
          ]
        },
        {
          "output_type": "stream",
          "name": "stdout",
          "text": [
            "Train Loss: 2.9705, Train Acc: 25.22%, Test Loss: 2.6565, Test Acc: 32.04%, Time: 16.60s\n",
            "\n",
            "Epoch [40/100] - Learning Rate: 0.010000\n"
          ]
        },
        {
          "output_type": "stream",
          "name": "stderr",
          "text": [
            "Training: 100%|██████████| 25/25 [00:16<00:00,  1.54it/s, loss=2.95, acc=25.5]\n"
          ]
        },
        {
          "output_type": "stream",
          "name": "stdout",
          "text": [
            "Train Loss: 2.9518, Train Acc: 25.55%, Test Loss: 2.5941, Test Acc: 33.35%, Time: 16.24s\n",
            "New best model saved with accuracy: 33.35%\n",
            "\n",
            "Epoch [41/100] - Learning Rate: 0.010000\n"
          ]
        },
        {
          "output_type": "stream",
          "name": "stderr",
          "text": [
            "Training: 100%|██████████| 25/25 [00:16<00:00,  1.55it/s, loss=2.94, acc=25.9]\n"
          ]
        },
        {
          "output_type": "stream",
          "name": "stdout",
          "text": [
            "Train Loss: 2.9383, Train Acc: 25.88%, Test Loss: 2.6034, Test Acc: 33.61%, Time: 16.16s\n",
            "New best model saved with accuracy: 33.61%\n",
            "\n",
            "Epoch [42/100] - Learning Rate: 0.010000\n"
          ]
        },
        {
          "output_type": "stream",
          "name": "stderr",
          "text": [
            "Training: 100%|██████████| 25/25 [00:16<00:00,  1.54it/s, loss=2.91, acc=26.1]\n"
          ]
        },
        {
          "output_type": "stream",
          "name": "stdout",
          "text": [
            "Train Loss: 2.9141, Train Acc: 26.13%, Test Loss: 2.5650, Test Acc: 33.78%, Time: 16.22s\n",
            "New best model saved with accuracy: 33.78%\n",
            "\n",
            "Epoch [43/100] - Learning Rate: 0.010000\n"
          ]
        },
        {
          "output_type": "stream",
          "name": "stderr",
          "text": [
            "Training: 100%|██████████| 25/25 [00:16<00:00,  1.55it/s, loss=2.9, acc=26.7]\n"
          ]
        },
        {
          "output_type": "stream",
          "name": "stdout",
          "text": [
            "Train Loss: 2.8956, Train Acc: 26.72%, Test Loss: 2.5801, Test Acc: 33.24%, Time: 16.15s\n",
            "\n",
            "Epoch [44/100] - Learning Rate: 0.010000\n"
          ]
        },
        {
          "output_type": "stream",
          "name": "stderr",
          "text": [
            "Training: 100%|██████████| 25/25 [00:16<00:00,  1.55it/s, loss=2.89, acc=26.7]\n"
          ]
        },
        {
          "output_type": "stream",
          "name": "stdout",
          "text": [
            "Train Loss: 2.8880, Train Acc: 26.75%, Test Loss: 2.5689, Test Acc: 33.30%, Time: 16.10s\n",
            "\n",
            "Epoch [45/100] - Learning Rate: 0.010000\n"
          ]
        },
        {
          "output_type": "stream",
          "name": "stderr",
          "text": [
            "Training: 100%|██████████| 25/25 [00:16<00:00,  1.55it/s, loss=2.87, acc=27.2]\n"
          ]
        },
        {
          "output_type": "stream",
          "name": "stdout",
          "text": [
            "Train Loss: 2.8661, Train Acc: 27.17%, Test Loss: 2.4937, Test Acc: 35.06%, Time: 16.16s\n",
            "New best model saved with accuracy: 35.06%\n",
            "\n",
            "Epoch [46/100] - Learning Rate: 0.010000\n"
          ]
        },
        {
          "output_type": "stream",
          "name": "stderr",
          "text": [
            "Training: 100%|██████████| 25/25 [00:16<00:00,  1.52it/s, loss=2.87, acc=27.1]\n"
          ]
        },
        {
          "output_type": "stream",
          "name": "stdout",
          "text": [
            "Train Loss: 2.8660, Train Acc: 27.13%, Test Loss: 2.5549, Test Acc: 33.86%, Time: 16.44s\n",
            "\n",
            "Epoch [47/100] - Learning Rate: 0.010000\n"
          ]
        },
        {
          "output_type": "stream",
          "name": "stderr",
          "text": [
            "Training: 100%|██████████| 25/25 [00:16<00:00,  1.55it/s, loss=2.85, acc=27.7]\n"
          ]
        },
        {
          "output_type": "stream",
          "name": "stdout",
          "text": [
            "Train Loss: 2.8456, Train Acc: 27.74%, Test Loss: 2.5097, Test Acc: 35.08%, Time: 16.14s\n",
            "New best model saved with accuracy: 35.08%\n",
            "\n",
            "Epoch [48/100] - Learning Rate: 0.010000\n"
          ]
        },
        {
          "output_type": "stream",
          "name": "stderr",
          "text": [
            "Training: 100%|██████████| 25/25 [00:17<00:00,  1.45it/s, loss=2.83, acc=27.9]\n"
          ]
        },
        {
          "output_type": "stream",
          "name": "stdout",
          "text": [
            "Train Loss: 2.8272, Train Acc: 27.93%, Test Loss: 2.4606, Test Acc: 36.12%, Time: 17.21s\n",
            "New best model saved with accuracy: 36.12%\n",
            "\n",
            "Epoch [49/100] - Learning Rate: 0.010000\n"
          ]
        },
        {
          "output_type": "stream",
          "name": "stderr",
          "text": [
            "Training: 100%|██████████| 25/25 [00:16<00:00,  1.54it/s, loss=2.82, acc=28.1]\n"
          ]
        },
        {
          "output_type": "stream",
          "name": "stdout",
          "text": [
            "Train Loss: 2.8163, Train Acc: 28.11%, Test Loss: 2.4947, Test Acc: 35.11%, Time: 16.22s\n",
            "\n",
            "Epoch [50/100] - Learning Rate: 0.010000\n"
          ]
        },
        {
          "output_type": "stream",
          "name": "stderr",
          "text": [
            "Training: 100%|██████████| 25/25 [00:17<00:00,  1.46it/s, loss=2.81, acc=28.5]\n"
          ]
        },
        {
          "output_type": "stream",
          "name": "stdout",
          "text": [
            "Train Loss: 2.8077, Train Acc: 28.53%, Test Loss: 2.4493, Test Acc: 36.76%, Time: 17.15s\n",
            "New best model saved with accuracy: 36.76%\n",
            "\n",
            "Epoch [51/100] - Learning Rate: 0.001000\n"
          ]
        },
        {
          "output_type": "stream",
          "name": "stderr",
          "text": [
            "Training: 100%|██████████| 25/25 [00:15<00:00,  1.56it/s, loss=2.75, acc=29.3]\n"
          ]
        },
        {
          "output_type": "stream",
          "name": "stdout",
          "text": [
            "Train Loss: 2.7531, Train Acc: 29.31%, Test Loss: 2.3900, Test Acc: 37.67%, Time: 16.00s\n",
            "New best model saved with accuracy: 37.67%\n",
            "\n",
            "Epoch [52/100] - Learning Rate: 0.001000\n"
          ]
        },
        {
          "output_type": "stream",
          "name": "stderr",
          "text": [
            "Training: 100%|██████████| 25/25 [00:17<00:00,  1.46it/s, loss=2.74, acc=30]\n"
          ]
        },
        {
          "output_type": "stream",
          "name": "stdout",
          "text": [
            "Train Loss: 2.7434, Train Acc: 29.98%, Test Loss: 2.3778, Test Acc: 37.89%, Time: 17.17s\n",
            "New best model saved with accuracy: 37.89%\n",
            "\n",
            "Epoch [53/100] - Learning Rate: 0.001000\n"
          ]
        },
        {
          "output_type": "stream",
          "name": "stderr",
          "text": [
            "Training: 100%|██████████| 25/25 [00:16<00:00,  1.56it/s, loss=2.74, acc=29.5]\n"
          ]
        },
        {
          "output_type": "stream",
          "name": "stdout",
          "text": [
            "Train Loss: 2.7397, Train Acc: 29.53%, Test Loss: 2.3735, Test Acc: 38.06%, Time: 16.03s\n",
            "New best model saved with accuracy: 38.06%\n",
            "\n",
            "Epoch [54/100] - Learning Rate: 0.001000\n"
          ]
        },
        {
          "output_type": "stream",
          "name": "stderr",
          "text": [
            "Training: 100%|██████████| 25/25 [00:16<00:00,  1.51it/s, loss=2.74, acc=29.8]\n"
          ]
        },
        {
          "output_type": "stream",
          "name": "stdout",
          "text": [
            "Train Loss: 2.7396, Train Acc: 29.80%, Test Loss: 2.3710, Test Acc: 38.12%, Time: 16.52s\n",
            "New best model saved with accuracy: 38.12%\n",
            "\n",
            "Epoch [55/100] - Learning Rate: 0.001000\n"
          ]
        },
        {
          "output_type": "stream",
          "name": "stderr",
          "text": [
            "Training: 100%|██████████| 25/25 [00:15<00:00,  1.56it/s, loss=2.73, acc=29.9]\n"
          ]
        },
        {
          "output_type": "stream",
          "name": "stdout",
          "text": [
            "Train Loss: 2.7347, Train Acc: 29.90%, Test Loss: 2.3708, Test Acc: 38.19%, Time: 15.99s\n",
            "New best model saved with accuracy: 38.19%\n",
            "\n",
            "Epoch [56/100] - Learning Rate: 0.001000\n"
          ]
        },
        {
          "output_type": "stream",
          "name": "stderr",
          "text": [
            "Training: 100%|██████████| 25/25 [00:16<00:00,  1.55it/s, loss=2.72, acc=29.8]\n"
          ]
        },
        {
          "output_type": "stream",
          "name": "stdout",
          "text": [
            "Train Loss: 2.7236, Train Acc: 29.79%, Test Loss: 2.3680, Test Acc: 38.37%, Time: 16.18s\n",
            "New best model saved with accuracy: 38.37%\n",
            "\n",
            "Epoch [57/100] - Learning Rate: 0.001000\n"
          ]
        },
        {
          "output_type": "stream",
          "name": "stderr",
          "text": [
            "Training: 100%|██████████| 25/25 [00:15<00:00,  1.58it/s, loss=2.73, acc=29.8]\n"
          ]
        },
        {
          "output_type": "stream",
          "name": "stdout",
          "text": [
            "Train Loss: 2.7321, Train Acc: 29.76%, Test Loss: 2.3665, Test Acc: 38.12%, Time: 15.79s\n",
            "\n",
            "Epoch [58/100] - Learning Rate: 0.001000\n"
          ]
        },
        {
          "output_type": "stream",
          "name": "stderr",
          "text": [
            "Training: 100%|██████████| 25/25 [00:16<00:00,  1.55it/s, loss=2.72, acc=29.9]\n"
          ]
        },
        {
          "output_type": "stream",
          "name": "stdout",
          "text": [
            "Train Loss: 2.7217, Train Acc: 29.92%, Test Loss: 2.3636, Test Acc: 38.42%, Time: 16.14s\n",
            "New best model saved with accuracy: 38.42%\n",
            "\n",
            "Epoch [59/100] - Learning Rate: 0.001000\n"
          ]
        },
        {
          "output_type": "stream",
          "name": "stderr",
          "text": [
            "Training: 100%|██████████| 25/25 [00:16<00:00,  1.51it/s, loss=2.72, acc=30.2]\n"
          ]
        },
        {
          "output_type": "stream",
          "name": "stdout",
          "text": [
            "Train Loss: 2.7212, Train Acc: 30.23%, Test Loss: 2.3596, Test Acc: 38.56%, Time: 16.51s\n",
            "New best model saved with accuracy: 38.56%\n",
            "\n",
            "Epoch [60/100] - Learning Rate: 0.001000\n"
          ]
        },
        {
          "output_type": "stream",
          "name": "stderr",
          "text": [
            "Training: 100%|██████████| 25/25 [00:16<00:00,  1.54it/s, loss=2.72, acc=30.2]\n"
          ]
        },
        {
          "output_type": "stream",
          "name": "stdout",
          "text": [
            "Train Loss: 2.7209, Train Acc: 30.18%, Test Loss: 2.3639, Test Acc: 38.24%, Time: 16.26s\n",
            "\n",
            "Epoch [61/100] - Learning Rate: 0.000100\n"
          ]
        },
        {
          "output_type": "stream",
          "name": "stderr",
          "text": [
            "Training: 100%|██████████| 25/25 [00:17<00:00,  1.45it/s, loss=2.72, acc=30.3]\n"
          ]
        },
        {
          "output_type": "stream",
          "name": "stdout",
          "text": [
            "Train Loss: 2.7230, Train Acc: 30.31%, Test Loss: 2.3585, Test Acc: 38.66%, Time: 17.23s\n",
            "New best model saved with accuracy: 38.66%\n",
            "\n",
            "Epoch [62/100] - Learning Rate: 0.000100\n"
          ]
        },
        {
          "output_type": "stream",
          "name": "stderr",
          "text": [
            "Training: 100%|██████████| 25/25 [00:15<00:00,  1.57it/s, loss=2.72, acc=30.1]\n"
          ]
        },
        {
          "output_type": "stream",
          "name": "stdout",
          "text": [
            "Train Loss: 2.7197, Train Acc: 30.06%, Test Loss: 2.3561, Test Acc: 38.60%, Time: 15.94s\n",
            "\n",
            "Epoch [63/100] - Learning Rate: 0.000100\n"
          ]
        },
        {
          "output_type": "stream",
          "name": "stderr",
          "text": [
            "Training: 100%|██████████| 25/25 [00:17<00:00,  1.46it/s, loss=2.72, acc=30.1]\n"
          ]
        },
        {
          "output_type": "stream",
          "name": "stdout",
          "text": [
            "Train Loss: 2.7178, Train Acc: 30.10%, Test Loss: 2.3560, Test Acc: 38.68%, Time: 17.08s\n",
            "New best model saved with accuracy: 38.68%\n",
            "\n",
            "Epoch [64/100] - Learning Rate: 0.000100\n"
          ]
        },
        {
          "output_type": "stream",
          "name": "stderr",
          "text": [
            "Training: 100%|██████████| 25/25 [00:16<00:00,  1.55it/s, loss=2.72, acc=30.2]\n"
          ]
        },
        {
          "output_type": "stream",
          "name": "stdout",
          "text": [
            "Train Loss: 2.7177, Train Acc: 30.20%, Test Loss: 2.3557, Test Acc: 38.63%, Time: 16.18s\n",
            "\n",
            "Epoch [65/100] - Learning Rate: 0.000100\n"
          ]
        },
        {
          "output_type": "stream",
          "name": "stderr",
          "text": [
            "Training: 100%|██████████| 25/25 [00:16<00:00,  1.51it/s, loss=2.72, acc=29.9]\n"
          ]
        },
        {
          "output_type": "stream",
          "name": "stdout",
          "text": [
            "Train Loss: 2.7178, Train Acc: 29.89%, Test Loss: 2.3545, Test Acc: 38.41%, Time: 16.60s\n",
            "\n",
            "Epoch [66/100] - Learning Rate: 0.000100\n"
          ]
        },
        {
          "output_type": "stream",
          "name": "stderr",
          "text": [
            "Training: 100%|██████████| 25/25 [00:16<00:00,  1.55it/s, loss=2.72, acc=30.2]\n"
          ]
        },
        {
          "output_type": "stream",
          "name": "stdout",
          "text": [
            "Train Loss: 2.7153, Train Acc: 30.24%, Test Loss: 2.3547, Test Acc: 38.54%, Time: 16.16s\n",
            "\n",
            "Epoch [67/100] - Learning Rate: 0.000100\n"
          ]
        },
        {
          "output_type": "stream",
          "name": "stderr",
          "text": [
            "Training: 100%|██████████| 25/25 [00:16<00:00,  1.53it/s, loss=2.72, acc=30.1]\n"
          ]
        },
        {
          "output_type": "stream",
          "name": "stdout",
          "text": [
            "Train Loss: 2.7174, Train Acc: 30.07%, Test Loss: 2.3549, Test Acc: 38.59%, Time: 16.38s\n",
            "\n",
            "Epoch [68/100] - Learning Rate: 0.000100\n"
          ]
        },
        {
          "output_type": "stream",
          "name": "stderr",
          "text": [
            "Training: 100%|██████████| 25/25 [00:16<00:00,  1.55it/s, loss=2.72, acc=30.1]\n"
          ]
        },
        {
          "output_type": "stream",
          "name": "stdout",
          "text": [
            "Train Loss: 2.7170, Train Acc: 30.10%, Test Loss: 2.3545, Test Acc: 38.57%, Time: 16.14s\n",
            "\n",
            "Epoch [69/100] - Learning Rate: 0.000100\n"
          ]
        },
        {
          "output_type": "stream",
          "name": "stderr",
          "text": [
            "Training: 100%|██████████| 25/25 [00:15<00:00,  1.57it/s, loss=2.72, acc=30]\n"
          ]
        },
        {
          "output_type": "stream",
          "name": "stdout",
          "text": [
            "Train Loss: 2.7179, Train Acc: 29.95%, Test Loss: 2.3538, Test Acc: 38.54%, Time: 15.96s\n",
            "\n",
            "Epoch [70/100] - Learning Rate: 0.000100\n"
          ]
        },
        {
          "output_type": "stream",
          "name": "stderr",
          "text": [
            "Training: 100%|██████████| 25/25 [00:16<00:00,  1.55it/s, loss=2.71, acc=30.1]\n"
          ]
        },
        {
          "output_type": "stream",
          "name": "stdout",
          "text": [
            "Train Loss: 2.7132, Train Acc: 30.10%, Test Loss: 2.3548, Test Acc: 38.55%, Time: 16.14s\n",
            "\n",
            "Epoch [71/100] - Learning Rate: 0.000100\n"
          ]
        },
        {
          "output_type": "stream",
          "name": "stderr",
          "text": [
            "Training: 100%|██████████| 25/25 [00:16<00:00,  1.54it/s, loss=2.72, acc=29.8]\n"
          ]
        },
        {
          "output_type": "stream",
          "name": "stdout",
          "text": [
            "Train Loss: 2.7204, Train Acc: 29.85%, Test Loss: 2.3541, Test Acc: 38.47%, Time: 16.21s\n",
            "\n",
            "Epoch [72/100] - Learning Rate: 0.000100\n"
          ]
        },
        {
          "output_type": "stream",
          "name": "stderr",
          "text": [
            "Training: 100%|██████████| 25/25 [00:16<00:00,  1.51it/s, loss=2.71, acc=30.1]\n"
          ]
        },
        {
          "output_type": "stream",
          "name": "stdout",
          "text": [
            "Train Loss: 2.7120, Train Acc: 30.14%, Test Loss: 2.3545, Test Acc: 38.50%, Time: 16.62s\n",
            "\n",
            "Epoch [73/100] - Learning Rate: 0.000100\n"
          ]
        },
        {
          "output_type": "stream",
          "name": "stderr",
          "text": [
            "Training: 100%|██████████| 25/25 [00:16<00:00,  1.55it/s, loss=2.71, acc=30]\n"
          ]
        },
        {
          "output_type": "stream",
          "name": "stdout",
          "text": [
            "Train Loss: 2.7125, Train Acc: 30.01%, Test Loss: 2.3536, Test Acc: 38.62%, Time: 16.09s\n",
            "\n",
            "Epoch [74/100] - Learning Rate: 0.000100\n"
          ]
        },
        {
          "output_type": "stream",
          "name": "stderr",
          "text": [
            "Training: 100%|██████████| 25/25 [00:17<00:00,  1.45it/s, loss=2.71, acc=30.3]\n"
          ]
        },
        {
          "output_type": "stream",
          "name": "stdout",
          "text": [
            "Train Loss: 2.7080, Train Acc: 30.33%, Test Loss: 2.3537, Test Acc: 38.53%, Time: 17.19s\n",
            "\n",
            "Epoch [75/100] - Learning Rate: 0.000100\n"
          ]
        },
        {
          "output_type": "stream",
          "name": "stderr",
          "text": [
            "Training: 100%|██████████| 25/25 [00:16<00:00,  1.54it/s, loss=2.72, acc=30.3]\n"
          ]
        },
        {
          "output_type": "stream",
          "name": "stdout",
          "text": [
            "Train Loss: 2.7153, Train Acc: 30.26%, Test Loss: 2.3530, Test Acc: 38.70%, Time: 16.21s\n",
            "New best model saved with accuracy: 38.70%\n",
            "\n",
            "Epoch [76/100] - Learning Rate: 0.000100\n"
          ]
        },
        {
          "output_type": "stream",
          "name": "stderr",
          "text": [
            "Training: 100%|██████████| 25/25 [00:17<00:00,  1.47it/s, loss=2.72, acc=30.1]\n"
          ]
        },
        {
          "output_type": "stream",
          "name": "stdout",
          "text": [
            "Train Loss: 2.7160, Train Acc: 30.12%, Test Loss: 2.3525, Test Acc: 38.66%, Time: 17.01s\n",
            "\n",
            "Epoch [77/100] - Learning Rate: 0.000100\n"
          ]
        },
        {
          "output_type": "stream",
          "name": "stderr",
          "text": [
            "Training: 100%|██████████| 25/25 [00:16<00:00,  1.56it/s, loss=2.71, acc=30.3]\n"
          ]
        },
        {
          "output_type": "stream",
          "name": "stdout",
          "text": [
            "Train Loss: 2.7128, Train Acc: 30.29%, Test Loss: 2.3526, Test Acc: 38.67%, Time: 16.07s\n",
            "\n",
            "Epoch [78/100] - Learning Rate: 0.000100\n"
          ]
        },
        {
          "output_type": "stream",
          "name": "stderr",
          "text": [
            "Training: 100%|██████████| 25/25 [00:16<00:00,  1.51it/s, loss=2.71, acc=30.3]\n"
          ]
        },
        {
          "output_type": "stream",
          "name": "stdout",
          "text": [
            "Train Loss: 2.7137, Train Acc: 30.25%, Test Loss: 2.3516, Test Acc: 38.65%, Time: 16.59s\n",
            "\n",
            "Epoch [79/100] - Learning Rate: 0.000100\n"
          ]
        },
        {
          "output_type": "stream",
          "name": "stderr",
          "text": [
            "Training: 100%|██████████| 25/25 [00:16<00:00,  1.56it/s, loss=2.71, acc=30.3]\n"
          ]
        },
        {
          "output_type": "stream",
          "name": "stdout",
          "text": [
            "Train Loss: 2.7100, Train Acc: 30.27%, Test Loss: 2.3527, Test Acc: 38.68%, Time: 16.02s\n",
            "\n",
            "Epoch [80/100] - Learning Rate: 0.000100\n"
          ]
        },
        {
          "output_type": "stream",
          "name": "stderr",
          "text": [
            "Training: 100%|██████████| 25/25 [00:16<00:00,  1.56it/s, loss=2.71, acc=30.3]\n"
          ]
        },
        {
          "output_type": "stream",
          "name": "stdout",
          "text": [
            "Train Loss: 2.7122, Train Acc: 30.29%, Test Loss: 2.3523, Test Acc: 38.55%, Time: 16.04s\n",
            "\n",
            "Epoch [81/100] - Learning Rate: 0.000100\n"
          ]
        },
        {
          "output_type": "stream",
          "name": "stderr",
          "text": [
            "Training: 100%|██████████| 25/25 [00:16<00:00,  1.55it/s, loss=2.72, acc=29.9]\n"
          ]
        },
        {
          "output_type": "stream",
          "name": "stdout",
          "text": [
            "Train Loss: 2.7174, Train Acc: 29.92%, Test Loss: 2.3519, Test Acc: 38.61%, Time: 16.09s\n",
            "\n",
            "Epoch [82/100] - Learning Rate: 0.000100\n"
          ]
        },
        {
          "output_type": "stream",
          "name": "stderr",
          "text": [
            "Training: 100%|██████████| 25/25 [00:16<00:00,  1.56it/s, loss=2.7, acc=30.5]\n"
          ]
        },
        {
          "output_type": "stream",
          "name": "stdout",
          "text": [
            "Train Loss: 2.7035, Train Acc: 30.46%, Test Loss: 2.3521, Test Acc: 38.58%, Time: 16.02s\n",
            "\n",
            "Epoch [83/100] - Learning Rate: 0.000100\n"
          ]
        },
        {
          "output_type": "stream",
          "name": "stderr",
          "text": [
            "Training: 100%|██████████| 25/25 [00:16<00:00,  1.53it/s, loss=2.7, acc=30.5]\n"
          ]
        },
        {
          "output_type": "stream",
          "name": "stdout",
          "text": [
            "Train Loss: 2.7035, Train Acc: 30.49%, Test Loss: 2.3508, Test Acc: 38.60%, Time: 16.37s\n",
            "\n",
            "Epoch [84/100] - Learning Rate: 0.000100\n"
          ]
        },
        {
          "output_type": "stream",
          "name": "stderr",
          "text": [
            "Training: 100%|██████████| 25/25 [00:15<00:00,  1.56it/s, loss=2.71, acc=30.4]\n"
          ]
        },
        {
          "output_type": "stream",
          "name": "stdout",
          "text": [
            "Train Loss: 2.7098, Train Acc: 30.40%, Test Loss: 2.3511, Test Acc: 38.70%, Time: 15.99s\n",
            "\n",
            "Epoch [85/100] - Learning Rate: 0.000100\n"
          ]
        },
        {
          "output_type": "stream",
          "name": "stderr",
          "text": [
            "Training: 100%|██████████| 25/25 [00:16<00:00,  1.48it/s, loss=2.71, acc=30.4]\n"
          ]
        },
        {
          "output_type": "stream",
          "name": "stdout",
          "text": [
            "Train Loss: 2.7076, Train Acc: 30.39%, Test Loss: 2.3506, Test Acc: 38.60%, Time: 16.95s\n",
            "\n",
            "Epoch [86/100] - Learning Rate: 0.000100\n"
          ]
        },
        {
          "output_type": "stream",
          "name": "stderr",
          "text": [
            "Training: 100%|██████████| 25/25 [00:15<00:00,  1.58it/s, loss=2.72, acc=30]\n"
          ]
        },
        {
          "output_type": "stream",
          "name": "stdout",
          "text": [
            "Train Loss: 2.7200, Train Acc: 29.96%, Test Loss: 2.3507, Test Acc: 38.66%, Time: 15.82s\n",
            "\n",
            "Epoch [87/100] - Learning Rate: 0.000100\n"
          ]
        },
        {
          "output_type": "stream",
          "name": "stderr",
          "text": [
            "Training: 100%|██████████| 25/25 [00:16<00:00,  1.50it/s, loss=2.71, acc=30.4]\n"
          ]
        },
        {
          "output_type": "stream",
          "name": "stdout",
          "text": [
            "Train Loss: 2.7135, Train Acc: 30.35%, Test Loss: 2.3508, Test Acc: 38.76%, Time: 16.70s\n",
            "New best model saved with accuracy: 38.76%\n",
            "\n",
            "Epoch [88/100] - Learning Rate: 0.000100\n"
          ]
        },
        {
          "output_type": "stream",
          "name": "stderr",
          "text": [
            "Training: 100%|██████████| 25/25 [00:15<00:00,  1.56it/s, loss=2.71, acc=30.2]\n"
          ]
        },
        {
          "output_type": "stream",
          "name": "stdout",
          "text": [
            "Train Loss: 2.7084, Train Acc: 30.24%, Test Loss: 2.3512, Test Acc: 38.64%, Time: 15.98s\n",
            "\n",
            "Epoch [89/100] - Learning Rate: 0.000100\n"
          ]
        },
        {
          "output_type": "stream",
          "name": "stderr",
          "text": [
            "Training: 100%|██████████| 25/25 [00:16<00:00,  1.55it/s, loss=2.71, acc=30.4]\n"
          ]
        },
        {
          "output_type": "stream",
          "name": "stdout",
          "text": [
            "Train Loss: 2.7102, Train Acc: 30.41%, Test Loss: 2.3504, Test Acc: 38.60%, Time: 16.09s\n",
            "\n",
            "Epoch [90/100] - Learning Rate: 0.000100\n"
          ]
        },
        {
          "output_type": "stream",
          "name": "stderr",
          "text": [
            "Training: 100%|██████████| 25/25 [00:15<00:00,  1.56it/s, loss=2.71, acc=30.2]\n"
          ]
        },
        {
          "output_type": "stream",
          "name": "stdout",
          "text": [
            "Train Loss: 2.7091, Train Acc: 30.20%, Test Loss: 2.3502, Test Acc: 38.75%, Time: 16.00s\n",
            "\n",
            "Epoch [91/100] - Learning Rate: 0.000100\n"
          ]
        },
        {
          "output_type": "stream",
          "name": "stderr",
          "text": [
            "Training: 100%|██████████| 25/25 [00:16<00:00,  1.55it/s, loss=2.71, acc=30.2]\n"
          ]
        },
        {
          "output_type": "stream",
          "name": "stdout",
          "text": [
            "Train Loss: 2.7103, Train Acc: 30.22%, Test Loss: 2.3499, Test Acc: 38.72%, Time: 16.16s\n",
            "\n",
            "Epoch [92/100] - Learning Rate: 0.000100\n"
          ]
        },
        {
          "output_type": "stream",
          "name": "stderr",
          "text": [
            "Training: 100%|██████████| 25/25 [00:16<00:00,  1.53it/s, loss=2.71, acc=30.3]\n"
          ]
        },
        {
          "output_type": "stream",
          "name": "stdout",
          "text": [
            "Train Loss: 2.7140, Train Acc: 30.34%, Test Loss: 2.3504, Test Acc: 38.61%, Time: 16.33s\n",
            "\n",
            "Epoch [93/100] - Learning Rate: 0.000100\n"
          ]
        },
        {
          "output_type": "stream",
          "name": "stderr",
          "text": [
            "Training: 100%|██████████| 25/25 [00:15<00:00,  1.57it/s, loss=2.7, acc=30.4]\n"
          ]
        },
        {
          "output_type": "stream",
          "name": "stdout",
          "text": [
            "Train Loss: 2.7048, Train Acc: 30.37%, Test Loss: 2.3502, Test Acc: 38.62%, Time: 15.96s\n",
            "\n",
            "Epoch [94/100] - Learning Rate: 0.000100\n"
          ]
        },
        {
          "output_type": "stream",
          "name": "stderr",
          "text": [
            "Training: 100%|██████████| 25/25 [00:16<00:00,  1.51it/s, loss=2.71, acc=30.3]\n"
          ]
        },
        {
          "output_type": "stream",
          "name": "stdout",
          "text": [
            "Train Loss: 2.7095, Train Acc: 30.31%, Test Loss: 2.3496, Test Acc: 38.65%, Time: 16.55s\n",
            "\n",
            "Epoch [95/100] - Learning Rate: 0.000100\n"
          ]
        },
        {
          "output_type": "stream",
          "name": "stderr",
          "text": [
            "Training: 100%|██████████| 25/25 [00:15<00:00,  1.56it/s, loss=2.71, acc=30.3]\n"
          ]
        },
        {
          "output_type": "stream",
          "name": "stdout",
          "text": [
            "Train Loss: 2.7082, Train Acc: 30.25%, Test Loss: 2.3493, Test Acc: 38.57%, Time: 15.98s\n",
            "\n",
            "Epoch [96/100] - Learning Rate: 0.000100\n"
          ]
        },
        {
          "output_type": "stream",
          "name": "stderr",
          "text": [
            "Training: 100%|██████████| 25/25 [00:16<00:00,  1.47it/s, loss=2.71, acc=30.2]\n"
          ]
        },
        {
          "output_type": "stream",
          "name": "stdout",
          "text": [
            "Train Loss: 2.7090, Train Acc: 30.20%, Test Loss: 2.3487, Test Acc: 38.69%, Time: 16.99s\n",
            "\n",
            "Epoch [97/100] - Learning Rate: 0.000100\n"
          ]
        },
        {
          "output_type": "stream",
          "name": "stderr",
          "text": [
            "Training: 100%|██████████| 25/25 [00:16<00:00,  1.56it/s, loss=2.71, acc=30.6]\n"
          ]
        },
        {
          "output_type": "stream",
          "name": "stdout",
          "text": [
            "Train Loss: 2.7079, Train Acc: 30.64%, Test Loss: 2.3489, Test Acc: 38.70%, Time: 16.01s\n",
            "\n",
            "Epoch [98/100] - Learning Rate: 0.000100\n"
          ]
        },
        {
          "output_type": "stream",
          "name": "stderr",
          "text": [
            "Training: 100%|██████████| 25/25 [00:16<00:00,  1.48it/s, loss=2.71, acc=30.4]\n"
          ]
        },
        {
          "output_type": "stream",
          "name": "stdout",
          "text": [
            "Train Loss: 2.7135, Train Acc: 30.45%, Test Loss: 2.3487, Test Acc: 38.56%, Time: 16.94s\n",
            "\n",
            "Epoch [99/100] - Learning Rate: 0.000100\n"
          ]
        },
        {
          "output_type": "stream",
          "name": "stderr",
          "text": [
            "Training: 100%|██████████| 25/25 [00:16<00:00,  1.54it/s, loss=2.71, acc=30.5]\n"
          ]
        },
        {
          "output_type": "stream",
          "name": "stdout",
          "text": [
            "Train Loss: 2.7114, Train Acc: 30.52%, Test Loss: 2.3487, Test Acc: 38.66%, Time: 16.19s\n",
            "\n",
            "Epoch [100/100] - Learning Rate: 0.000100\n"
          ]
        },
        {
          "output_type": "stream",
          "name": "stderr",
          "text": [
            "Training: 100%|██████████| 25/25 [00:16<00:00,  1.53it/s, loss=2.7, acc=30.6]\n"
          ]
        },
        {
          "output_type": "stream",
          "name": "stdout",
          "text": [
            "Train Loss: 2.7014, Train Acc: 30.59%, Test Loss: 2.3478, Test Acc: 38.68%, Time: 16.39s\n",
            "Best model loaded with accuracy: 38.76%\n"
          ]
        },
        {
          "output_type": "display_data",
          "data": {
            "text/plain": [
              "<Figure size 1800x500 with 3 Axes>"
            ],
            "image/png": "[encoded data removed]"
          },
          "metadata": {}
        },
        {
          "output_type": "stream",
          "name": "stdout",
          "text": [
            "Centralized benchmark completed!\n"
          ]
        }
      ],
      "source": [
        "import torch\n",
        "import torch.nn as nn\n",
        "import torchvision.transforms as transforms\n",
        "import torch.nn.functional as F\n",
        "from torchvision.datasets import CIFAR10, CIFAR100\n",
        "import torchvision.models as models\n",
        "from torch.utils.data import DataLoader\n",
        "\n",
        "from tqdm import tqdm\n",
        "import matplotlib.pyplot as plt\n",
        "import time\n",
        "import pickle\n",
        "import numpy as np\n",
        "import random\n",
        "\n",
        "print(\"PyTorch version:\", torch.__version__)\n",
        "device = torch.device(\"cuda:0\" if torch.cuda.is_available() else \"cpu\")\n",
        "print(f\"Using device: {device}\")\n",
        "\n",
        "# Seeding for reproducibility\n",
        "seed = 2025\n",
        "torch.manual_seed(seed)\n",
        "torch.cuda.manual_seed(seed)\n",
        "np.random.seed(seed)\n",
        "random.seed(seed)\n",
        "\n",
        "# transforms\n",
        "train_transform = transforms.Compose(\n",
        "    [\n",
        "        transforms.RandomCrop(32, padding=4),\n",
        "        transforms.RandomHorizontalFlip(),\n",
        "        transforms.ToTensor(),\n",
        "        transforms.Normalize((0.4914, 0.4822, 0.4465), (0.2023, 0.1994, 0.2010)),\n",
        "    ]\n",
        ")\n",
        "\n",
        "test_transform = transforms.Compose(\n",
        "    [\n",
        "        transforms.ToTensor(),\n",
        "        transforms.Normalize((0.4914, 0.4822, 0.4465), (0.2023, 0.1994, 0.2010)),\n",
        "    ]\n",
        ")\n",
        "\n",
        "\n",
        "# load data\n",
        "\n",
        "\n",
        "def load_data(dataset_name=\"cifar100\", batch_size=128, num_workers=2):\n",
        "    \"\"\"Enhanced data loading with stronger augmentation for CIFAR-100\"\"\"\n",
        "\n",
        "    # Better augmentation for CIFAR-100\n",
        "    train_transform = transforms.Compose(\n",
        "        [\n",
        "            transforms.RandomCrop(32, padding=4),\n",
        "            transforms.RandomHorizontalFlip(),\n",
        "            transforms.ToTensor(),\n",
        "            transforms.Normalize((0.4914, 0.4822, 0.4465), (0.2023, 0.1994, 0.2010)),\n",
        "        ]\n",
        "    )\n",
        "\n",
        "    test_transform = transforms.Compose(\n",
        "        [\n",
        "            transforms.ToTensor(),\n",
        "            transforms.Normalize((0.4914, 0.4822, 0.4465), (0.2023, 0.1994, 0.2010)),\n",
        "        ]\n",
        "    )\n",
        "\n",
        "    if dataset_name.lower() == \"cifar100\":\n",
        "        train_dataset = CIFAR100(\n",
        "            root=\"./data\", train=True, download=True, transform=train_transform\n",
        "        )\n",
        "        test_dataset = CIFAR100(\n",
        "            root=\"./data\", train=False, download=True, transform=test_transform\n",
        "        )\n",
        "        num_classes = 100\n",
        "    else:\n",
        "        raise ValueError(f\"Dataset {dataset_name} not supported in enhanced version\")\n",
        "\n",
        "    # Data loaders\n",
        "    train_loader = DataLoader(\n",
        "        train_dataset,\n",
        "        batch_size=batch_size,\n",
        "        shuffle=True,\n",
        "        num_workers=num_workers,\n",
        "    )\n",
        "\n",
        "    test_loader = DataLoader(\n",
        "        test_dataset,\n",
        "        batch_size=batch_size,\n",
        "        shuffle=False,\n",
        "        num_workers=num_workers,\n",
        "    )\n",
        "\n",
        "    return train_loader, test_loader, num_classes\n",
        "\n",
        "\n",
        "# model - LeNet5 from the paper [11]\n",
        "class LeNet5(nn.Module):\n",
        "    def __init__(self, num_classes=10):\n",
        "        super(LeNet5, self).__init__()\n",
        "        # Input: 3x32x32 (CIFAR has 3 color channels)\n",
        "        self.conv1 = nn.Conv2d(3, 6, kernel_size=5)  # Output: 6x28x28\n",
        "        self.pool1 = nn.MaxPool2d(kernel_size=2, stride=2)  # Output: 6x14x14\n",
        "        self.conv2 = nn.Conv2d(6, 16, kernel_size=5)  # Output: 16x10x10\n",
        "        self.pool2 = nn.MaxPool2d(kernel_size=2, stride=2)  # Output: 16x5x5\n",
        "\n",
        "        # fc layers\n",
        "        self.fc1 = nn.Linear(16 * 5 * 5, 120)\n",
        "        self.fc2 = nn.Linear(120, 84)\n",
        "        self.fc3 = nn.Linear(84, num_classes)\n",
        "\n",
        "    def forward(self, x):\n",
        "        x = self.pool1(F.relu(self.conv1(x)))\n",
        "        x = self.pool2(F.relu(self.conv2(x)))\n",
        "        x = x.view(-1, 16 * 5 * 5)  # flatten\n",
        "        x = F.relu(self.fc1(x))\n",
        "        x = F.relu(self.fc2(x))\n",
        "        x = self.fc3(x)\n",
        "        return x\n",
        "\n",
        "\n",
        "class ImprovedCNN(nn.Module):\n",
        "    def __init__(self, num_classes=100):\n",
        "        super(ImprovedCNN, self).__init__()\n",
        "        # First conv block\n",
        "        self.conv1 = nn.Conv2d(3, 64, kernel_size=5, padding=2)\n",
        "        self.bn1 = nn.BatchNorm2d(64)  # using BatchNorm for better training stability\n",
        "        self.pool1 = nn.MaxPool2d(kernel_size=2, stride=2)\n",
        "\n",
        "        # Second conv block\n",
        "        self.conv2 = nn.Conv2d(64, 64, kernel_size=5, padding=2)\n",
        "        self.bn2 = nn.BatchNorm2d(64)\n",
        "        self.pool2 = nn.MaxPool2d(kernel_size=2, stride=2)\n",
        "\n",
        "        # Fully connected layers\n",
        "        self.fc1 = nn.Linear(64 * 8 * 8, 384)\n",
        "        self.dropout1 = nn.Dropout(0.5)\n",
        "        self.fc2 = nn.Linear(384, 192)\n",
        "        self.dropout2 = nn.Dropout(0.5)\n",
        "        self.fc3 = nn.Linear(192, num_classes)\n",
        "\n",
        "    def forward(self, x):\n",
        "        # First conv block\n",
        "        x = self.pool1(F.relu(self.bn1(self.conv1(x))))\n",
        "\n",
        "        # Second conv block\n",
        "        x = self.pool2(F.relu(self.bn2(self.conv2(x))))\n",
        "\n",
        "        # Flatten and fully connected layers\n",
        "        x = x.view(-1, 64 * 8 * 8)\n",
        "        x = F.relu(self.fc1(x))\n",
        "        x = self.dropout1(x)\n",
        "        x = F.relu(self.fc2(x))\n",
        "        x = self.dropout2(x)\n",
        "        x = self.fc3(x)\n",
        "\n",
        "        return x\n",
        "\n",
        "\n",
        "def create_model(model_name, num_classes=100):\n",
        "    if model_name.lower() == \"improved_cnn\":\n",
        "        return ImprovedCNN(num_classes=num_classes)\n",
        "    elif model_name.lower() == \"lenet5\":\n",
        "        return LeNet5(num_classes=num_classes)\n",
        "    else:\n",
        "        raise ValueError(f\"Unknown model: {model_name}\")\n",
        "\n",
        "\n",
        "# train\n",
        "def train_epoch(model, train_loader, criterion, optimizer, device):\n",
        "    model.train()\n",
        "    running_loss = 0.0\n",
        "    correct = 0\n",
        "    total = 0\n",
        "\n",
        "    pbar = tqdm(train_loader, desc=\"Training\")\n",
        "\n",
        "    for inputs, labels in pbar:\n",
        "        inputs, labels = inputs.to(device), labels.to(device)\n",
        "\n",
        "        optimizer.zero_grad()\n",
        "        outputs = model(inputs)\n",
        "        loss = criterion(outputs, labels)\n",
        "        loss.backward()\n",
        "        optimizer.step()\n",
        "\n",
        "        running_loss += loss.item() * inputs.size(0)\n",
        "        _, predicted = outputs.max(1)\n",
        "        total += labels.size(0)\n",
        "        correct += predicted.eq(labels).sum().item()\n",
        "\n",
        "        # just a progress bar\n",
        "        pbar.set_postfix({\"loss\": running_loss / total, \"acc\": 100.0 * correct / total})\n",
        "\n",
        "    train_loss = running_loss / total\n",
        "    train_acc = 100.0 * correct / total\n",
        "\n",
        "    return train_loss, train_acc\n",
        "\n",
        "\n",
        "# eval\n",
        "def evaluate(model, test_loader, criterion, device):\n",
        "    model.eval()\n",
        "    running_loss = 0.0\n",
        "    correct = 0\n",
        "    total = 0\n",
        "\n",
        "    with torch.no_grad():\n",
        "        for inputs, labels in test_loader:\n",
        "            inputs, labels = inputs.to(device), labels.to(device)\n",
        "\n",
        "            outputs = model(inputs)\n",
        "            loss = criterion(outputs, labels)\n",
        "\n",
        "            running_loss += loss.item() * inputs.size(0)\n",
        "            _, predicted = outputs.max(1)\n",
        "            total += labels.size(0)\n",
        "            correct += predicted.eq(labels).sum().item()\n",
        "\n",
        "    test_loss = running_loss / total\n",
        "    test_acc = 100.0 * correct / total\n",
        "\n",
        "    return test_loss, test_acc\n",
        "\n",
        "\n",
        "# train config\n",
        "def train_centralized_model(\n",
        "    model_name=\"improved_cnn\",\n",
        "    dataset_name=\"cifar100\",\n",
        "    batch_size=2048,\n",
        "    epochs=100,\n",
        "    lr=0.01,\n",
        "    momentum=0.9,\n",
        "    weight_decay=4e-4,\n",
        "    lr_scheduler=\"step\",\n",
        "    save_path=\"improved_cnn_model.pth\",\n",
        "):\n",
        "    # Load data\n",
        "    train_loader, test_loader, num_classes = load_data(\n",
        "        dataset_name=dataset_name, batch_size=batch_size\n",
        "    )\n",
        "\n",
        "    # Create model\n",
        "    model = create_model(model_name, num_classes=num_classes)\n",
        "    model = model.to(device)\n",
        "\n",
        "    # Print model parameters\n",
        "    total_params = sum(p.numel() for p in model.parameters())\n",
        "    print(f\"Total parameters: {total_params:,}\")\n",
        "\n",
        "    # Define loss function and optimizer\n",
        "    criterion = nn.CrossEntropyLoss()\n",
        "    optimizer = torch.optim.SGD(\n",
        "        model.parameters(), lr=lr, momentum=momentum, weight_decay=weight_decay\n",
        "    )\n",
        "\n",
        "    # Learning rate scheduler - step decay at specific epochs\n",
        "    if lr_scheduler == \"step\":\n",
        "        scheduler = torch.optim.lr_scheduler.MultiStepLR(\n",
        "            optimizer, milestones=[50, 60], gamma=0.1\n",
        "        )\n",
        "    elif lr_scheduler == \"cosine\":\n",
        "        scheduler = torch.optim.lr_scheduler.CosineAnnealingLR(optimizer, T_max=epochs)\n",
        "    else:\n",
        "        raise ValueError(f\"Unknown scheduler: {lr_scheduler}\")\n",
        "\n",
        "    # Training history\n",
        "    history = {\n",
        "        \"train_loss\": [],\n",
        "        \"train_acc\": [],\n",
        "        \"test_loss\": [],\n",
        "        \"test_acc\": [],\n",
        "        \"lr\": [],\n",
        "    }\n",
        "\n",
        "    # Track best accuracy\n",
        "    best_acc = 0.0\n",
        "\n",
        "    # Training loop\n",
        "    for epoch in range(epochs):\n",
        "        current_lr = optimizer.param_groups[0][\"lr\"]\n",
        "        print(f\"\\nEpoch [{epoch + 1}/{epochs}] - Learning Rate: {current_lr:.6f}\")\n",
        "\n",
        "        # Training for one epoch\n",
        "        start_time = time.time()\n",
        "        train_loss, train_acc = train_epoch(\n",
        "            model, train_loader, criterion, optimizer, device\n",
        "        )\n",
        "        train_time = time.time() - start_time\n",
        "\n",
        "        # Evaluate on test set\n",
        "        test_loss, test_acc = evaluate(model, test_loader, criterion, device)\n",
        "\n",
        "        # Step learning rate scheduler\n",
        "        scheduler.step()\n",
        "\n",
        "        # Print statistics\n",
        "        print(\n",
        "            f\"Train Loss: {train_loss:.4f}, Train Acc: {train_acc:.2f}%, \"\n",
        "            f\"Test Loss: {test_loss:.4f}, Test Acc: {test_acc:.2f}%, \"\n",
        "            f\"Time: {train_time:.2f}s\"\n",
        "        )\n",
        "\n",
        "        # Save best model\n",
        "        if test_acc > best_acc:\n",
        "            best_acc = test_acc\n",
        "            torch.save(\n",
        "                {\n",
        "                    \"epoch\": epoch,\n",
        "                    \"model_state_dict\": model.state_dict(),\n",
        "                    \"optimizer_state_dict\": optimizer.state_dict(),\n",
        "                    \"test_acc\": test_acc,\n",
        "                },\n",
        "                save_path,\n",
        "            )\n",
        "            print(f\"New best model saved with accuracy: {test_acc:.2f}%\")\n",
        "\n",
        "        # Update history\n",
        "        history[\"train_loss\"].append(train_loss)\n",
        "        history[\"train_acc\"].append(train_acc)\n",
        "        history[\"test_loss\"].append(test_loss)\n",
        "        history[\"test_acc\"].append(test_acc)\n",
        "        history[\"lr\"].append(current_lr)\n",
        "\n",
        "    # Load best model\n",
        "    checkpoint = torch.load(save_path)\n",
        "    model.load_state_dict(checkpoint[\"model_state_dict\"])\n",
        "    print(f\"Best model loaded with accuracy: {checkpoint['test_acc']:.2f}%\")\n",
        "\n",
        "    return model, history\n",
        "\n",
        "\n",
        "# visualization of model performance\n",
        "def plot_training_history(history):\n",
        "    fig, (ax1, ax2, ax3) = plt.subplots(1, 3, figsize=(18, 5))\n",
        "\n",
        "    # plot the loss\n",
        "    ax1.plot(history[\"train_loss\"], label=\"Train Loss\")\n",
        "    ax1.plot(history[\"test_loss\"], label=\"Test Loss\")\n",
        "    ax1.set_xlabel(\"Epoch\")\n",
        "    ax1.set_ylabel(\"Loss\")\n",
        "    ax1.legend()\n",
        "    ax1.set_title(\"Loss Curves\")\n",
        "    ax1.grid(True)\n",
        "\n",
        "    # plot accuracy\n",
        "    ax2.plot(history[\"train_acc\"], label=\"Train Accuracy\")\n",
        "    ax2.plot(history[\"test_acc\"], label=\"Test Accuracy\")\n",
        "    ax2.set_xlabel(\"Epoch\")\n",
        "    ax2.set_ylabel(\"Accuracy (%)\")\n",
        "    ax2.legend()\n",
        "    ax2.set_title(\"Accuracy Curves\")\n",
        "    ax2.grid(True)\n",
        "\n",
        "    # plot learning rate\n",
        "    ax3.plot(history[\"lr\"])\n",
        "    ax3.set_xlabel(\"Epoch\")\n",
        "    ax3.set_ylabel(\"Learning Rate\")\n",
        "    ax3.set_title(\"Learning Rate Schedule\")\n",
        "    ax3.set_yscale(\"log\")\n",
        "    ax3.grid(True)\n",
        "\n",
        "    plt.tight_layout()\n",
        "    plt.show()\n",
        "\n",
        "\n",
        "# run benchmark\n",
        "def run_centralized_benchmark():\n",
        "    # LeNet5 config\n",
        "    config = {\n",
        "        \"model_name\": \"improved_cnn\",\n",
        "        \"dataset_name\": \"cifar100\",\n",
        "        \"batch_size\": 2048,\n",
        "        \"epochs\": 100,\n",
        "        \"lr\": 0.01,\n",
        "        \"momentum\": 0.9,\n",
        "        \"weight_decay\": 4e-4,\n",
        "        \"lr_scheduler\": \"step\",\n",
        "        \"save_path\": \"improved_cnn_model.pth\",\n",
        "    }\n",
        "\n",
        "    print(\n",
        "        f\"Running centralized benchmark with {config['model_name']} on {config['dataset_name']}...\"\n",
        "    )\n",
        "\n",
        "    # Train model\n",
        "    model, history = train_centralized_model(**config)\n",
        "\n",
        "    # Plot results\n",
        "    plot_training_history(history)\n",
        "\n",
        "    # Save history\n",
        "    with open(\"lenet5_history.pkl\", \"wb\") as f:\n",
        "        pickle.dump(history, f)\n",
        "\n",
        "    print(\"Centralized benchmark completed!\")\n",
        "\n",
        "    return model, history\n",
        "\n",
        "\n",
        "def main():\n",
        "    model, history = run_centralized_benchmark()\n",
        "    return model, history\n",
        "\n",
        "\n",
        "if __name__ == \"__main__\":\n",
        "    main()\n",
        "\n"
      ]
    }
  ],
  "metadata": {
    "accelerator": "GPU",
    "colab": {
      "gpuType": "T4",
      "provenance": [],
      "include_colab_link": true
    },
    "kernelspec": {
      "display_name": "Python 3",
      "name": "python3"
    },
    "language_info": {
      "name": "python"
    }
  },
  "nbformat": 4,
  "nbformat_minor": 0
}