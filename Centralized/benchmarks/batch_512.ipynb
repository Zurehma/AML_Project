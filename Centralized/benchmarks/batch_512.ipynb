{
  "cells": [
    {
      "cell_type": "markdown",
      "metadata": {
        "id": "view-in-github",
        "colab_type": "text"
      },
      "source": [
        "<a href=\"https://colab.research.google.com/github/Zurehma/AML_Project/blob/main/Centralized/benchmarks/batch_512.ipynb\" target=\"_parent\"><img src=\"https://colab.research.google.com/assets/colab-badge.svg\" alt=\"Open In Colab\"/></a>"
      ]
    },
    {
      "cell_type": "code",
      "execution_count": 2,
      "metadata": {
        "id": "rmTV2T84dLgD",
        "colab": {
          "base_uri": "https://localhost:8080/",
          "height": 1000
        },
        "outputId": "b53efb48-e49e-4f86-f54e-24452537b825"
      },
      "outputs": [
        {
          "output_type": "stream",
          "name": "stdout",
          "text": [
            "PyTorch version: 2.6.0+cu124\n",
            "Using device: cuda:0\n",
            "Running centralized benchmark with improved_cnn on cifar100...\n",
            "Total parameters: 1,774,052\n",
            "\n",
            "Epoch [1/100] - Learning Rate: 0.010000\n"
          ]
        },
        {
          "output_type": "stream",
          "name": "stderr",
          "text": [
            "Training: 100%|██████████| 98/98 [00:16<00:00,  5.99it/s, loss=4.53, acc=2.24]\n"
          ]
        },
        {
          "output_type": "stream",
          "name": "stdout",
          "text": [
            "Train Loss: 4.5342, Train Acc: 2.24%, Test Loss: 4.3041, Test Acc: 4.83%, Time: 16.36s\n",
            "New best model saved with accuracy: 4.83%\n",
            "\n",
            "Epoch [2/100] - Learning Rate: 0.010000\n"
          ]
        },
        {
          "output_type": "stream",
          "name": "stderr",
          "text": [
            "Training: 100%|██████████| 98/98 [00:17<00:00,  5.64it/s, loss=4.25, acc=5.08]\n"
          ]
        },
        {
          "output_type": "stream",
          "name": "stdout",
          "text": [
            "Train Loss: 4.2456, Train Acc: 5.08%, Test Loss: 3.9514, Test Acc: 10.09%, Time: 17.39s\n",
            "New best model saved with accuracy: 10.09%\n",
            "\n",
            "Epoch [3/100] - Learning Rate: 0.010000\n"
          ]
        },
        {
          "output_type": "stream",
          "name": "stderr",
          "text": [
            "Training: 100%|██████████| 98/98 [00:16<00:00,  5.82it/s, loss=3.99, acc=7.86]\n"
          ]
        },
        {
          "output_type": "stream",
          "name": "stdout",
          "text": [
            "Train Loss: 3.9897, Train Acc: 7.86%, Test Loss: 3.6945, Test Acc: 14.18%, Time: 16.83s\n",
            "New best model saved with accuracy: 14.18%\n",
            "\n",
            "Epoch [4/100] - Learning Rate: 0.010000\n"
          ]
        },
        {
          "output_type": "stream",
          "name": "stderr",
          "text": [
            "Training: 100%|██████████| 98/98 [00:17<00:00,  5.54it/s, loss=3.83, acc=10.2]\n"
          ]
        },
        {
          "output_type": "stream",
          "name": "stdout",
          "text": [
            "Train Loss: 3.8295, Train Acc: 10.21%, Test Loss: 3.5359, Test Acc: 16.73%, Time: 17.68s\n",
            "New best model saved with accuracy: 16.73%\n",
            "\n",
            "Epoch [5/100] - Learning Rate: 0.010000\n"
          ]
        },
        {
          "output_type": "stream",
          "name": "stderr",
          "text": [
            "Training: 100%|██████████| 98/98 [00:16<00:00,  5.96it/s, loss=3.7, acc=12.2]\n"
          ]
        },
        {
          "output_type": "stream",
          "name": "stdout",
          "text": [
            "Train Loss: 3.6963, Train Acc: 12.23%, Test Loss: 3.4088, Test Acc: 18.30%, Time: 16.44s\n",
            "New best model saved with accuracy: 18.30%\n",
            "\n",
            "Epoch [6/100] - Learning Rate: 0.010000\n"
          ]
        },
        {
          "output_type": "stream",
          "name": "stderr",
          "text": [
            "Training: 100%|██████████| 98/98 [00:17<00:00,  5.52it/s, loss=3.58, acc=13.9]\n"
          ]
        },
        {
          "output_type": "stream",
          "name": "stdout",
          "text": [
            "Train Loss: 3.5800, Train Acc: 13.91%, Test Loss: 3.2284, Test Acc: 21.49%, Time: 17.75s\n",
            "New best model saved with accuracy: 21.49%\n",
            "\n",
            "Epoch [7/100] - Learning Rate: 0.010000\n"
          ]
        },
        {
          "output_type": "stream",
          "name": "stderr",
          "text": [
            "Training: 100%|██████████| 98/98 [00:16<00:00,  5.87it/s, loss=3.48, acc=15.7]\n"
          ]
        },
        {
          "output_type": "stream",
          "name": "stdout",
          "text": [
            "Train Loss: 3.4795, Train Acc: 15.67%, Test Loss: 3.1241, Test Acc: 22.89%, Time: 16.71s\n",
            "New best model saved with accuracy: 22.89%\n",
            "\n",
            "Epoch [8/100] - Learning Rate: 0.010000\n"
          ]
        },
        {
          "output_type": "stream",
          "name": "stderr",
          "text": [
            "Training: 100%|██████████| 98/98 [00:17<00:00,  5.63it/s, loss=3.39, acc=17.4]\n"
          ]
        },
        {
          "output_type": "stream",
          "name": "stdout",
          "text": [
            "Train Loss: 3.3875, Train Acc: 17.38%, Test Loss: 3.0203, Test Acc: 25.05%, Time: 17.40s\n",
            "New best model saved with accuracy: 25.05%\n",
            "\n",
            "Epoch [9/100] - Learning Rate: 0.010000\n"
          ]
        },
        {
          "output_type": "stream",
          "name": "stderr",
          "text": [
            "Training: 100%|██████████| 98/98 [00:16<00:00,  5.93it/s, loss=3.31, acc=18.8]\n"
          ]
        },
        {
          "output_type": "stream",
          "name": "stdout",
          "text": [
            "Train Loss: 3.3108, Train Acc: 18.82%, Test Loss: 2.9497, Test Acc: 26.90%, Time: 16.52s\n",
            "New best model saved with accuracy: 26.90%\n",
            "\n",
            "Epoch [10/100] - Learning Rate: 0.010000\n"
          ]
        },
        {
          "output_type": "stream",
          "name": "stderr",
          "text": [
            "Training: 100%|██████████| 98/98 [00:17<00:00,  5.67it/s, loss=3.24, acc=20]\n"
          ]
        },
        {
          "output_type": "stream",
          "name": "stdout",
          "text": [
            "Train Loss: 3.2399, Train Acc: 20.04%, Test Loss: 2.9122, Test Acc: 26.95%, Time: 17.30s\n",
            "New best model saved with accuracy: 26.95%\n",
            "\n",
            "Epoch [11/100] - Learning Rate: 0.010000\n"
          ]
        },
        {
          "output_type": "stream",
          "name": "stderr",
          "text": [
            "Training: 100%|██████████| 98/98 [00:16<00:00,  5.96it/s, loss=3.19, acc=21.1]\n"
          ]
        },
        {
          "output_type": "stream",
          "name": "stdout",
          "text": [
            "Train Loss: 3.1875, Train Acc: 21.12%, Test Loss: 2.8127, Test Acc: 28.75%, Time: 16.45s\n",
            "New best model saved with accuracy: 28.75%\n",
            "\n",
            "Epoch [12/100] - Learning Rate: 0.010000\n"
          ]
        },
        {
          "output_type": "stream",
          "name": "stderr",
          "text": [
            "Training: 100%|██████████| 98/98 [00:17<00:00,  5.53it/s, loss=3.13, acc=22.1]\n"
          ]
        },
        {
          "output_type": "stream",
          "name": "stdout",
          "text": [
            "Train Loss: 3.1260, Train Acc: 22.09%, Test Loss: 2.7930, Test Acc: 29.38%, Time: 17.73s\n",
            "New best model saved with accuracy: 29.38%\n",
            "\n",
            "Epoch [13/100] - Learning Rate: 0.010000\n"
          ]
        },
        {
          "output_type": "stream",
          "name": "stderr",
          "text": [
            "Training: 100%|██████████| 98/98 [00:17<00:00,  5.75it/s, loss=3.07, acc=23.1]\n"
          ]
        },
        {
          "output_type": "stream",
          "name": "stdout",
          "text": [
            "Train Loss: 3.0729, Train Acc: 23.08%, Test Loss: 2.6640, Test Acc: 31.27%, Time: 17.05s\n",
            "New best model saved with accuracy: 31.27%\n",
            "\n",
            "Epoch [14/100] - Learning Rate: 0.010000\n"
          ]
        },
        {
          "output_type": "stream",
          "name": "stderr",
          "text": [
            "Training: 100%|██████████| 98/98 [00:17<00:00,  5.54it/s, loss=3.03, acc=23.8]\n"
          ]
        },
        {
          "output_type": "stream",
          "name": "stdout",
          "text": [
            "Train Loss: 3.0321, Train Acc: 23.80%, Test Loss: 2.7017, Test Acc: 31.22%, Time: 17.70s\n",
            "\n",
            "Epoch [15/100] - Learning Rate: 0.010000\n"
          ]
        },
        {
          "output_type": "stream",
          "name": "stderr",
          "text": [
            "Training: 100%|██████████| 98/98 [00:16<00:00,  5.94it/s, loss=2.98, acc=24.7]\n"
          ]
        },
        {
          "output_type": "stream",
          "name": "stdout",
          "text": [
            "Train Loss: 2.9819, Train Acc: 24.71%, Test Loss: 2.5897, Test Acc: 33.46%, Time: 16.51s\n",
            "New best model saved with accuracy: 33.46%\n",
            "\n",
            "Epoch [16/100] - Learning Rate: 0.010000\n"
          ]
        },
        {
          "output_type": "stream",
          "name": "stderr",
          "text": [
            "Training: 100%|██████████| 98/98 [00:17<00:00,  5.57it/s, loss=2.95, acc=25.7]\n"
          ]
        },
        {
          "output_type": "stream",
          "name": "stdout",
          "text": [
            "Train Loss: 2.9472, Train Acc: 25.73%, Test Loss: 2.6045, Test Acc: 32.73%, Time: 17.60s\n",
            "\n",
            "Epoch [17/100] - Learning Rate: 0.010000\n"
          ]
        },
        {
          "output_type": "stream",
          "name": "stderr",
          "text": [
            "Training: 100%|██████████| 98/98 [00:16<00:00,  5.95it/s, loss=2.92, acc=26.2]\n"
          ]
        },
        {
          "output_type": "stream",
          "name": "stdout",
          "text": [
            "Train Loss: 2.9171, Train Acc: 26.25%, Test Loss: 2.5434, Test Acc: 34.12%, Time: 16.47s\n",
            "New best model saved with accuracy: 34.12%\n",
            "\n",
            "Epoch [18/100] - Learning Rate: 0.010000\n"
          ]
        },
        {
          "output_type": "stream",
          "name": "stderr",
          "text": [
            "Training: 100%|██████████| 98/98 [00:17<00:00,  5.66it/s, loss=2.9, acc=26.9]\n"
          ]
        },
        {
          "output_type": "stream",
          "name": "stdout",
          "text": [
            "Train Loss: 2.8992, Train Acc: 26.93%, Test Loss: 2.6070, Test Acc: 32.48%, Time: 17.32s\n",
            "\n",
            "Epoch [19/100] - Learning Rate: 0.010000\n"
          ]
        },
        {
          "output_type": "stream",
          "name": "stderr",
          "text": [
            "Training: 100%|██████████| 98/98 [00:16<00:00,  5.99it/s, loss=2.87, acc=27.3]\n"
          ]
        },
        {
          "output_type": "stream",
          "name": "stdout",
          "text": [
            "Train Loss: 2.8663, Train Acc: 27.31%, Test Loss: 2.4759, Test Acc: 36.21%, Time: 16.36s\n",
            "New best model saved with accuracy: 36.21%\n",
            "\n",
            "Epoch [20/100] - Learning Rate: 0.010000\n"
          ]
        },
        {
          "output_type": "stream",
          "name": "stderr",
          "text": [
            "Training: 100%|██████████| 98/98 [00:17<00:00,  5.71it/s, loss=2.82, acc=28.2]\n"
          ]
        },
        {
          "output_type": "stream",
          "name": "stdout",
          "text": [
            "Train Loss: 2.8240, Train Acc: 28.17%, Test Loss: 2.4410, Test Acc: 36.22%, Time: 17.17s\n",
            "New best model saved with accuracy: 36.22%\n",
            "\n",
            "Epoch [21/100] - Learning Rate: 0.010000\n"
          ]
        },
        {
          "output_type": "stream",
          "name": "stderr",
          "text": [
            "Training: 100%|██████████| 98/98 [00:16<00:00,  5.87it/s, loss=2.81, acc=28.3]\n"
          ]
        },
        {
          "output_type": "stream",
          "name": "stdout",
          "text": [
            "Train Loss: 2.8122, Train Acc: 28.25%, Test Loss: 2.3998, Test Acc: 37.26%, Time: 16.71s\n",
            "New best model saved with accuracy: 37.26%\n",
            "\n",
            "Epoch [22/100] - Learning Rate: 0.010000\n"
          ]
        },
        {
          "output_type": "stream",
          "name": "stderr",
          "text": [
            "Training: 100%|██████████| 98/98 [00:17<00:00,  5.64it/s, loss=2.79, acc=28.6]\n"
          ]
        },
        {
          "output_type": "stream",
          "name": "stdout",
          "text": [
            "Train Loss: 2.7924, Train Acc: 28.61%, Test Loss: 2.4279, Test Acc: 36.40%, Time: 17.38s\n",
            "\n",
            "Epoch [23/100] - Learning Rate: 0.010000\n"
          ]
        },
        {
          "output_type": "stream",
          "name": "stderr",
          "text": [
            "Training: 100%|██████████| 98/98 [00:16<00:00,  5.86it/s, loss=2.75, acc=29.6]\n"
          ]
        },
        {
          "output_type": "stream",
          "name": "stdout",
          "text": [
            "Train Loss: 2.7515, Train Acc: 29.58%, Test Loss: 2.4257, Test Acc: 36.95%, Time: 16.72s\n",
            "\n",
            "Epoch [24/100] - Learning Rate: 0.010000\n"
          ]
        },
        {
          "output_type": "stream",
          "name": "stderr",
          "text": [
            "Training: 100%|██████████| 98/98 [00:17<00:00,  5.47it/s, loss=2.73, acc=29.8]\n"
          ]
        },
        {
          "output_type": "stream",
          "name": "stdout",
          "text": [
            "Train Loss: 2.7323, Train Acc: 29.76%, Test Loss: 2.3835, Test Acc: 37.65%, Time: 17.93s\n",
            "New best model saved with accuracy: 37.65%\n",
            "\n",
            "Epoch [25/100] - Learning Rate: 0.010000\n"
          ]
        },
        {
          "output_type": "stream",
          "name": "stderr",
          "text": [
            "Training: 100%|██████████| 98/98 [00:16<00:00,  5.77it/s, loss=2.71, acc=30.5]\n"
          ]
        },
        {
          "output_type": "stream",
          "name": "stdout",
          "text": [
            "Train Loss: 2.7070, Train Acc: 30.48%, Test Loss: 2.3332, Test Acc: 38.54%, Time: 16.99s\n",
            "New best model saved with accuracy: 38.54%\n",
            "\n",
            "Epoch [26/100] - Learning Rate: 0.010000\n"
          ]
        },
        {
          "output_type": "stream",
          "name": "stderr",
          "text": [
            "Training: 100%|██████████| 98/98 [00:17<00:00,  5.53it/s, loss=2.68, acc=30.8]\n"
          ]
        },
        {
          "output_type": "stream",
          "name": "stdout",
          "text": [
            "Train Loss: 2.6785, Train Acc: 30.82%, Test Loss: 2.3160, Test Acc: 38.79%, Time: 17.72s\n",
            "New best model saved with accuracy: 38.79%\n",
            "\n",
            "Epoch [27/100] - Learning Rate: 0.010000\n"
          ]
        },
        {
          "output_type": "stream",
          "name": "stderr",
          "text": [
            "Training: 100%|██████████| 98/98 [00:17<00:00,  5.75it/s, loss=2.65, acc=31.6]\n"
          ]
        },
        {
          "output_type": "stream",
          "name": "stdout",
          "text": [
            "Train Loss: 2.6534, Train Acc: 31.58%, Test Loss: 2.3028, Test Acc: 39.39%, Time: 17.06s\n",
            "New best model saved with accuracy: 39.39%\n",
            "\n",
            "Epoch [28/100] - Learning Rate: 0.010000\n"
          ]
        },
        {
          "output_type": "stream",
          "name": "stderr",
          "text": [
            "Training: 100%|██████████| 98/98 [00:17<00:00,  5.46it/s, loss=2.66, acc=31.4]\n"
          ]
        },
        {
          "output_type": "stream",
          "name": "stdout",
          "text": [
            "Train Loss: 2.6553, Train Acc: 31.43%, Test Loss: 2.2593, Test Acc: 40.87%, Time: 17.95s\n",
            "New best model saved with accuracy: 40.87%\n",
            "\n",
            "Epoch [29/100] - Learning Rate: 0.010000\n"
          ]
        },
        {
          "output_type": "stream",
          "name": "stderr",
          "text": [
            "Training: 100%|██████████| 98/98 [00:17<00:00,  5.74it/s, loss=2.63, acc=31.9]\n"
          ]
        },
        {
          "output_type": "stream",
          "name": "stdout",
          "text": [
            "Train Loss: 2.6343, Train Acc: 31.93%, Test Loss: 2.2561, Test Acc: 40.74%, Time: 17.09s\n",
            "\n",
            "Epoch [30/100] - Learning Rate: 0.010000\n"
          ]
        },
        {
          "output_type": "stream",
          "name": "stderr",
          "text": [
            "Training: 100%|██████████| 98/98 [00:18<00:00,  5.40it/s, loss=2.61, acc=32.4]\n"
          ]
        },
        {
          "output_type": "stream",
          "name": "stdout",
          "text": [
            "Train Loss: 2.6068, Train Acc: 32.43%, Test Loss: 2.2484, Test Acc: 40.70%, Time: 18.17s\n",
            "\n",
            "Epoch [31/100] - Learning Rate: 0.010000\n"
          ]
        },
        {
          "output_type": "stream",
          "name": "stderr",
          "text": [
            "Training: 100%|██████████| 98/98 [00:16<00:00,  5.78it/s, loss=2.6, acc=32.8]\n"
          ]
        },
        {
          "output_type": "stream",
          "name": "stdout",
          "text": [
            "Train Loss: 2.5992, Train Acc: 32.78%, Test Loss: 2.2235, Test Acc: 40.59%, Time: 16.97s\n",
            "\n",
            "Epoch [32/100] - Learning Rate: 0.010000\n"
          ]
        },
        {
          "output_type": "stream",
          "name": "stderr",
          "text": [
            "Training: 100%|██████████| 98/98 [00:18<00:00,  5.44it/s, loss=2.59, acc=32.9]\n"
          ]
        },
        {
          "output_type": "stream",
          "name": "stdout",
          "text": [
            "Train Loss: 2.5863, Train Acc: 32.88%, Test Loss: 2.2083, Test Acc: 41.06%, Time: 18.01s\n",
            "New best model saved with accuracy: 41.06%\n",
            "\n",
            "Epoch [33/100] - Learning Rate: 0.010000\n"
          ]
        },
        {
          "output_type": "stream",
          "name": "stderr",
          "text": [
            "Training: 100%|██████████| 98/98 [00:16<00:00,  5.84it/s, loss=2.58, acc=33.2]\n"
          ]
        },
        {
          "output_type": "stream",
          "name": "stdout",
          "text": [
            "Train Loss: 2.5780, Train Acc: 33.19%, Test Loss: 2.2459, Test Acc: 40.83%, Time: 16.80s\n",
            "\n",
            "Epoch [34/100] - Learning Rate: 0.010000\n"
          ]
        },
        {
          "output_type": "stream",
          "name": "stderr",
          "text": [
            "Training: 100%|██████████| 98/98 [00:18<00:00,  5.44it/s, loss=2.55, acc=33.6]\n"
          ]
        },
        {
          "output_type": "stream",
          "name": "stdout",
          "text": [
            "Train Loss: 2.5525, Train Acc: 33.57%, Test Loss: 2.1675, Test Acc: 42.44%, Time: 18.01s\n",
            "New best model saved with accuracy: 42.44%\n",
            "\n",
            "Epoch [35/100] - Learning Rate: 0.010000\n"
          ]
        },
        {
          "output_type": "stream",
          "name": "stderr",
          "text": [
            "Training: 100%|██████████| 98/98 [00:16<00:00,  5.81it/s, loss=2.54, acc=34]\n"
          ]
        },
        {
          "output_type": "stream",
          "name": "stdout",
          "text": [
            "Train Loss: 2.5373, Train Acc: 33.95%, Test Loss: 2.1353, Test Acc: 42.50%, Time: 16.87s\n",
            "New best model saved with accuracy: 42.50%\n",
            "\n",
            "Epoch [36/100] - Learning Rate: 0.010000\n"
          ]
        },
        {
          "output_type": "stream",
          "name": "stderr",
          "text": [
            "Training: 100%|██████████| 98/98 [00:17<00:00,  5.62it/s, loss=2.53, acc=34.2]\n"
          ]
        },
        {
          "output_type": "stream",
          "name": "stdout",
          "text": [
            "Train Loss: 2.5309, Train Acc: 34.19%, Test Loss: 2.1818, Test Acc: 42.55%, Time: 17.43s\n",
            "New best model saved with accuracy: 42.55%\n",
            "\n",
            "Epoch [37/100] - Learning Rate: 0.010000\n"
          ]
        },
        {
          "output_type": "stream",
          "name": "stderr",
          "text": [
            "Training: 100%|██████████| 98/98 [00:16<00:00,  5.80it/s, loss=2.51, acc=34.5]\n"
          ]
        },
        {
          "output_type": "stream",
          "name": "stdout",
          "text": [
            "Train Loss: 2.5066, Train Acc: 34.50%, Test Loss: 2.1341, Test Acc: 42.43%, Time: 16.90s\n",
            "\n",
            "Epoch [38/100] - Learning Rate: 0.010000\n"
          ]
        },
        {
          "output_type": "stream",
          "name": "stderr",
          "text": [
            "Training: 100%|██████████| 98/98 [00:17<00:00,  5.69it/s, loss=2.5, acc=34.7]\n"
          ]
        },
        {
          "output_type": "stream",
          "name": "stdout",
          "text": [
            "Train Loss: 2.4963, Train Acc: 34.70%, Test Loss: 2.1462, Test Acc: 42.39%, Time: 17.22s\n",
            "\n",
            "Epoch [39/100] - Learning Rate: 0.010000\n"
          ]
        },
        {
          "output_type": "stream",
          "name": "stderr",
          "text": [
            "Training: 100%|██████████| 98/98 [00:17<00:00,  5.72it/s, loss=2.47, acc=35.5]\n"
          ]
        },
        {
          "output_type": "stream",
          "name": "stdout",
          "text": [
            "Train Loss: 2.4713, Train Acc: 35.50%, Test Loss: 2.1303, Test Acc: 43.00%, Time: 17.14s\n",
            "New best model saved with accuracy: 43.00%\n",
            "\n",
            "Epoch [40/100] - Learning Rate: 0.010000\n"
          ]
        },
        {
          "output_type": "stream",
          "name": "stderr",
          "text": [
            "Training: 100%|██████████| 98/98 [00:17<00:00,  5.54it/s, loss=2.49, acc=35.1]\n"
          ]
        },
        {
          "output_type": "stream",
          "name": "stdout",
          "text": [
            "Train Loss: 2.4891, Train Acc: 35.14%, Test Loss: 2.1059, Test Acc: 43.66%, Time: 17.68s\n",
            "New best model saved with accuracy: 43.66%\n",
            "\n",
            "Epoch [41/100] - Learning Rate: 0.010000\n"
          ]
        },
        {
          "output_type": "stream",
          "name": "stderr",
          "text": [
            "Training: 100%|██████████| 98/98 [00:16<00:00,  5.81it/s, loss=2.45, acc=35.7]\n"
          ]
        },
        {
          "output_type": "stream",
          "name": "stdout",
          "text": [
            "Train Loss: 2.4508, Train Acc: 35.72%, Test Loss: 2.0999, Test Acc: 44.00%, Time: 16.86s\n",
            "New best model saved with accuracy: 44.00%\n",
            "\n",
            "Epoch [42/100] - Learning Rate: 0.010000\n"
          ]
        },
        {
          "output_type": "stream",
          "name": "stderr",
          "text": [
            "Training: 100%|██████████| 98/98 [00:16<00:00,  5.88it/s, loss=2.44, acc=35.8]\n"
          ]
        },
        {
          "output_type": "stream",
          "name": "stdout",
          "text": [
            "Train Loss: 2.4426, Train Acc: 35.77%, Test Loss: 2.1263, Test Acc: 42.96%, Time: 16.68s\n",
            "\n",
            "Epoch [43/100] - Learning Rate: 0.010000\n"
          ]
        },
        {
          "output_type": "stream",
          "name": "stderr",
          "text": [
            "Training: 100%|██████████| 98/98 [00:16<00:00,  5.96it/s, loss=2.43, acc=36.3]\n"
          ]
        },
        {
          "output_type": "stream",
          "name": "stdout",
          "text": [
            "Train Loss: 2.4292, Train Acc: 36.30%, Test Loss: 2.1089, Test Acc: 43.81%, Time: 16.43s\n",
            "\n",
            "Epoch [44/100] - Learning Rate: 0.010000\n"
          ]
        },
        {
          "output_type": "stream",
          "name": "stderr",
          "text": [
            "Training: 100%|██████████| 98/98 [00:16<00:00,  5.87it/s, loss=2.43, acc=36.2]\n"
          ]
        },
        {
          "output_type": "stream",
          "name": "stdout",
          "text": [
            "Train Loss: 2.4294, Train Acc: 36.19%, Test Loss: 2.0716, Test Acc: 44.27%, Time: 16.70s\n",
            "New best model saved with accuracy: 44.27%\n",
            "\n",
            "Epoch [45/100] - Learning Rate: 0.010000\n"
          ]
        },
        {
          "output_type": "stream",
          "name": "stderr",
          "text": [
            "Training: 100%|██████████| 98/98 [00:16<00:00,  5.97it/s, loss=2.41, acc=36.6]\n"
          ]
        },
        {
          "output_type": "stream",
          "name": "stdout",
          "text": [
            "Train Loss: 2.4135, Train Acc: 36.56%, Test Loss: 2.0800, Test Acc: 44.18%, Time: 16.41s\n",
            "\n",
            "Epoch [46/100] - Learning Rate: 0.010000\n"
          ]
        },
        {
          "output_type": "stream",
          "name": "stderr",
          "text": [
            "Training: 100%|██████████| 98/98 [00:17<00:00,  5.67it/s, loss=2.4, acc=36.7]\n"
          ]
        },
        {
          "output_type": "stream",
          "name": "stdout",
          "text": [
            "Train Loss: 2.3997, Train Acc: 36.71%, Test Loss: 2.0717, Test Acc: 45.06%, Time: 17.30s\n",
            "New best model saved with accuracy: 45.06%\n",
            "\n",
            "Epoch [47/100] - Learning Rate: 0.010000\n"
          ]
        },
        {
          "output_type": "stream",
          "name": "stderr",
          "text": [
            "Training: 100%|██████████| 98/98 [00:16<00:00,  6.02it/s, loss=2.39, acc=36.9]\n"
          ]
        },
        {
          "output_type": "stream",
          "name": "stdout",
          "text": [
            "Train Loss: 2.3915, Train Acc: 36.92%, Test Loss: 2.0115, Test Acc: 45.88%, Time: 16.29s\n",
            "New best model saved with accuracy: 45.88%\n",
            "\n",
            "Epoch [48/100] - Learning Rate: 0.010000\n"
          ]
        },
        {
          "output_type": "stream",
          "name": "stderr",
          "text": [
            "Training: 100%|██████████| 98/98 [00:17<00:00,  5.65it/s, loss=2.38, acc=37.3]\n"
          ]
        },
        {
          "output_type": "stream",
          "name": "stdout",
          "text": [
            "Train Loss: 2.3810, Train Acc: 37.27%, Test Loss: 2.0005, Test Acc: 46.05%, Time: 17.35s\n",
            "New best model saved with accuracy: 46.05%\n",
            "\n",
            "Epoch [49/100] - Learning Rate: 0.010000\n"
          ]
        },
        {
          "output_type": "stream",
          "name": "stderr",
          "text": [
            "Training: 100%|██████████| 98/98 [00:16<00:00,  6.01it/s, loss=2.37, acc=37.6]\n"
          ]
        },
        {
          "output_type": "stream",
          "name": "stdout",
          "text": [
            "Train Loss: 2.3724, Train Acc: 37.56%, Test Loss: 2.1082, Test Acc: 44.24%, Time: 16.31s\n",
            "\n",
            "Epoch [50/100] - Learning Rate: 0.010000\n"
          ]
        },
        {
          "output_type": "stream",
          "name": "stderr",
          "text": [
            "Training: 100%|██████████| 98/98 [00:17<00:00,  5.67it/s, loss=2.36, acc=37.8]\n"
          ]
        },
        {
          "output_type": "stream",
          "name": "stdout",
          "text": [
            "Train Loss: 2.3610, Train Acc: 37.84%, Test Loss: 2.0012, Test Acc: 46.04%, Time: 17.29s\n",
            "\n",
            "Epoch [51/100] - Learning Rate: 0.001000\n"
          ]
        },
        {
          "output_type": "stream",
          "name": "stderr",
          "text": [
            "Training: 100%|██████████| 98/98 [00:16<00:00,  5.92it/s, loss=2.27, acc=39.4]\n"
          ]
        },
        {
          "output_type": "stream",
          "name": "stdout",
          "text": [
            "Train Loss: 2.2748, Train Acc: 39.44%, Test Loss: 1.9271, Test Acc: 48.18%, Time: 16.55s\n",
            "New best model saved with accuracy: 48.18%\n",
            "\n",
            "Epoch [52/100] - Learning Rate: 0.001000\n"
          ]
        },
        {
          "output_type": "stream",
          "name": "stderr",
          "text": [
            "Training: 100%|██████████| 98/98 [00:17<00:00,  5.57it/s, loss=2.25, acc=40]\n"
          ]
        },
        {
          "output_type": "stream",
          "name": "stdout",
          "text": [
            "Train Loss: 2.2507, Train Acc: 40.00%, Test Loss: 1.9165, Test Acc: 48.35%, Time: 17.60s\n",
            "New best model saved with accuracy: 48.35%\n",
            "\n",
            "Epoch [53/100] - Learning Rate: 0.001000\n"
          ]
        },
        {
          "output_type": "stream",
          "name": "stderr",
          "text": [
            "Training: 100%|██████████| 98/98 [00:16<00:00,  5.92it/s, loss=2.24, acc=40.3]\n"
          ]
        },
        {
          "output_type": "stream",
          "name": "stdout",
          "text": [
            "Train Loss: 2.2429, Train Acc: 40.32%, Test Loss: 1.9106, Test Acc: 48.26%, Time: 16.56s\n",
            "\n",
            "Epoch [54/100] - Learning Rate: 0.001000\n"
          ]
        },
        {
          "output_type": "stream",
          "name": "stderr",
          "text": [
            "Training: 100%|██████████| 98/98 [00:17<00:00,  5.66it/s, loss=2.24, acc=40.4]\n"
          ]
        },
        {
          "output_type": "stream",
          "name": "stdout",
          "text": [
            "Train Loss: 2.2404, Train Acc: 40.35%, Test Loss: 1.9114, Test Acc: 48.34%, Time: 17.32s\n",
            "\n",
            "Epoch [55/100] - Learning Rate: 0.001000\n"
          ]
        },
        {
          "output_type": "stream",
          "name": "stderr",
          "text": [
            "Training: 100%|██████████| 98/98 [00:16<00:00,  5.92it/s, loss=2.24, acc=40.7]\n"
          ]
        },
        {
          "output_type": "stream",
          "name": "stdout",
          "text": [
            "Train Loss: 2.2426, Train Acc: 40.73%, Test Loss: 1.9041, Test Acc: 48.43%, Time: 16.55s\n",
            "New best model saved with accuracy: 48.43%\n",
            "\n",
            "Epoch [56/100] - Learning Rate: 0.001000\n"
          ]
        },
        {
          "output_type": "stream",
          "name": "stderr",
          "text": [
            "Training: 100%|██████████| 98/98 [00:17<00:00,  5.66it/s, loss=2.23, acc=40.8]\n"
          ]
        },
        {
          "output_type": "stream",
          "name": "stdout",
          "text": [
            "Train Loss: 2.2300, Train Acc: 40.83%, Test Loss: 1.9005, Test Acc: 48.63%, Time: 17.32s\n",
            "New best model saved with accuracy: 48.63%\n",
            "\n",
            "Epoch [57/100] - Learning Rate: 0.001000\n"
          ]
        },
        {
          "output_type": "stream",
          "name": "stderr",
          "text": [
            "Training: 100%|██████████| 98/98 [00:16<00:00,  5.79it/s, loss=2.23, acc=40.3]\n"
          ]
        },
        {
          "output_type": "stream",
          "name": "stdout",
          "text": [
            "Train Loss: 2.2329, Train Acc: 40.27%, Test Loss: 1.9024, Test Acc: 48.41%, Time: 16.94s\n",
            "\n",
            "Epoch [58/100] - Learning Rate: 0.001000\n"
          ]
        },
        {
          "output_type": "stream",
          "name": "stderr",
          "text": [
            "Training: 100%|██████████| 98/98 [00:18<00:00,  5.44it/s, loss=2.23, acc=40.8]\n"
          ]
        },
        {
          "output_type": "stream",
          "name": "stdout",
          "text": [
            "Train Loss: 2.2282, Train Acc: 40.82%, Test Loss: 1.9017, Test Acc: 48.39%, Time: 18.01s\n",
            "\n",
            "Epoch [59/100] - Learning Rate: 0.001000\n"
          ]
        },
        {
          "output_type": "stream",
          "name": "stderr",
          "text": [
            "Training: 100%|██████████| 98/98 [00:16<00:00,  5.85it/s, loss=2.23, acc=40.8]\n"
          ]
        },
        {
          "output_type": "stream",
          "name": "stdout",
          "text": [
            "Train Loss: 2.2262, Train Acc: 40.80%, Test Loss: 1.9044, Test Acc: 48.12%, Time: 16.76s\n",
            "\n",
            "Epoch [60/100] - Learning Rate: 0.001000\n"
          ]
        },
        {
          "output_type": "stream",
          "name": "stderr",
          "text": [
            "Training: 100%|██████████| 98/98 [00:17<00:00,  5.50it/s, loss=2.22, acc=40.8]\n"
          ]
        },
        {
          "output_type": "stream",
          "name": "stdout",
          "text": [
            "Train Loss: 2.2213, Train Acc: 40.76%, Test Loss: 1.8944, Test Acc: 48.24%, Time: 17.82s\n",
            "\n",
            "Epoch [61/100] - Learning Rate: 0.000100\n"
          ]
        },
        {
          "output_type": "stream",
          "name": "stderr",
          "text": [
            "Training: 100%|██████████| 98/98 [00:16<00:00,  5.95it/s, loss=2.2, acc=41]\n"
          ]
        },
        {
          "output_type": "stream",
          "name": "stdout",
          "text": [
            "Train Loss: 2.2023, Train Acc: 41.03%, Test Loss: 1.8880, Test Acc: 48.50%, Time: 16.48s\n",
            "\n",
            "Epoch [62/100] - Learning Rate: 0.000100\n"
          ]
        },
        {
          "output_type": "stream",
          "name": "stderr",
          "text": [
            "Training: 100%|██████████| 98/98 [00:17<00:00,  5.57it/s, loss=2.21, acc=41.1]\n"
          ]
        },
        {
          "output_type": "stream",
          "name": "stdout",
          "text": [
            "Train Loss: 2.2113, Train Acc: 41.14%, Test Loss: 1.8883, Test Acc: 48.55%, Time: 17.60s\n",
            "\n",
            "Epoch [63/100] - Learning Rate: 0.000100\n"
          ]
        },
        {
          "output_type": "stream",
          "name": "stderr",
          "text": [
            "Training: 100%|██████████| 98/98 [00:16<00:00,  5.88it/s, loss=2.21, acc=40.9]\n"
          ]
        },
        {
          "output_type": "stream",
          "name": "stdout",
          "text": [
            "Train Loss: 2.2074, Train Acc: 40.90%, Test Loss: 1.8882, Test Acc: 48.57%, Time: 16.68s\n",
            "\n",
            "Epoch [64/100] - Learning Rate: 0.000100\n"
          ]
        },
        {
          "output_type": "stream",
          "name": "stderr",
          "text": [
            "Training: 100%|██████████| 98/98 [00:16<00:00,  5.78it/s, loss=2.2, acc=41.4]\n"
          ]
        },
        {
          "output_type": "stream",
          "name": "stdout",
          "text": [
            "Train Loss: 2.2031, Train Acc: 41.42%, Test Loss: 1.8881, Test Acc: 48.58%, Time: 16.97s\n",
            "\n",
            "Epoch [65/100] - Learning Rate: 0.000100\n"
          ]
        },
        {
          "output_type": "stream",
          "name": "stderr",
          "text": [
            "Training: 100%|██████████| 98/98 [00:17<00:00,  5.70it/s, loss=2.2, acc=40.9]\n"
          ]
        },
        {
          "output_type": "stream",
          "name": "stdout",
          "text": [
            "Train Loss: 2.2048, Train Acc: 40.87%, Test Loss: 1.8872, Test Acc: 48.65%, Time: 17.21s\n",
            "New best model saved with accuracy: 48.65%\n",
            "\n",
            "Epoch [66/100] - Learning Rate: 0.000100\n"
          ]
        },
        {
          "output_type": "stream",
          "name": "stderr",
          "text": [
            "Training: 100%|██████████| 98/98 [00:17<00:00,  5.55it/s, loss=2.2, acc=41.2]\n"
          ]
        },
        {
          "output_type": "stream",
          "name": "stdout",
          "text": [
            "Train Loss: 2.1998, Train Acc: 41.21%, Test Loss: 1.8860, Test Acc: 48.54%, Time: 17.65s\n",
            "\n",
            "Epoch [67/100] - Learning Rate: 0.000100\n"
          ]
        },
        {
          "output_type": "stream",
          "name": "stderr",
          "text": [
            "Training: 100%|██████████| 98/98 [00:16<00:00,  6.04it/s, loss=2.21, acc=41.2]\n"
          ]
        },
        {
          "output_type": "stream",
          "name": "stdout",
          "text": [
            "Train Loss: 2.2086, Train Acc: 41.19%, Test Loss: 1.8857, Test Acc: 48.65%, Time: 16.24s\n",
            "\n",
            "Epoch [68/100] - Learning Rate: 0.000100\n"
          ]
        },
        {
          "output_type": "stream",
          "name": "stderr",
          "text": [
            "Training: 100%|██████████| 98/98 [00:17<00:00,  5.61it/s, loss=2.2, acc=41.4]\n"
          ]
        },
        {
          "output_type": "stream",
          "name": "stdout",
          "text": [
            "Train Loss: 2.1999, Train Acc: 41.38%, Test Loss: 1.8857, Test Acc: 48.63%, Time: 17.48s\n",
            "\n",
            "Epoch [69/100] - Learning Rate: 0.000100\n"
          ]
        },
        {
          "output_type": "stream",
          "name": "stderr",
          "text": [
            "Training: 100%|██████████| 98/98 [00:16<00:00,  5.96it/s, loss=2.21, acc=41.1]\n"
          ]
        },
        {
          "output_type": "stream",
          "name": "stdout",
          "text": [
            "Train Loss: 2.2068, Train Acc: 41.08%, Test Loss: 1.8857, Test Acc: 48.73%, Time: 16.46s\n",
            "New best model saved with accuracy: 48.73%\n",
            "\n",
            "Epoch [70/100] - Learning Rate: 0.000100\n"
          ]
        },
        {
          "output_type": "stream",
          "name": "stderr",
          "text": [
            "Training: 100%|██████████| 98/98 [00:17<00:00,  5.63it/s, loss=2.2, acc=41.4]\n"
          ]
        },
        {
          "output_type": "stream",
          "name": "stdout",
          "text": [
            "Train Loss: 2.1982, Train Acc: 41.40%, Test Loss: 1.8851, Test Acc: 48.67%, Time: 17.40s\n",
            "\n",
            "Epoch [71/100] - Learning Rate: 0.000100\n"
          ]
        },
        {
          "output_type": "stream",
          "name": "stderr",
          "text": [
            "Training: 100%|██████████| 98/98 [00:16<00:00,  5.85it/s, loss=2.2, acc=40.9]\n"
          ]
        },
        {
          "output_type": "stream",
          "name": "stdout",
          "text": [
            "Train Loss: 2.2033, Train Acc: 40.94%, Test Loss: 1.8859, Test Acc: 48.56%, Time: 16.74s\n",
            "\n",
            "Epoch [72/100] - Learning Rate: 0.000100\n"
          ]
        },
        {
          "output_type": "stream",
          "name": "stderr",
          "text": [
            "Training: 100%|██████████| 98/98 [00:17<00:00,  5.63it/s, loss=2.21, acc=41.1]\n"
          ]
        },
        {
          "output_type": "stream",
          "name": "stdout",
          "text": [
            "Train Loss: 2.2082, Train Acc: 41.10%, Test Loss: 1.8852, Test Acc: 48.70%, Time: 17.42s\n",
            "\n",
            "Epoch [73/100] - Learning Rate: 0.000100\n"
          ]
        },
        {
          "output_type": "stream",
          "name": "stderr",
          "text": [
            "Training: 100%|██████████| 98/98 [00:16<00:00,  5.89it/s, loss=2.2, acc=41.2]\n"
          ]
        },
        {
          "output_type": "stream",
          "name": "stdout",
          "text": [
            "Train Loss: 2.2047, Train Acc: 41.19%, Test Loss: 1.8838, Test Acc: 48.72%, Time: 16.64s\n",
            "\n",
            "Epoch [74/100] - Learning Rate: 0.000100\n"
          ]
        },
        {
          "output_type": "stream",
          "name": "stderr",
          "text": [
            "Training: 100%|██████████| 98/98 [00:17<00:00,  5.58it/s, loss=2.2, acc=41.5]\n"
          ]
        },
        {
          "output_type": "stream",
          "name": "stdout",
          "text": [
            "Train Loss: 2.2044, Train Acc: 41.49%, Test Loss: 1.8860, Test Acc: 48.63%, Time: 17.56s\n",
            "\n",
            "Epoch [75/100] - Learning Rate: 0.000100\n"
          ]
        },
        {
          "output_type": "stream",
          "name": "stderr",
          "text": [
            "Training: 100%|██████████| 98/98 [00:16<00:00,  5.97it/s, loss=2.2, acc=41.3]\n"
          ]
        },
        {
          "output_type": "stream",
          "name": "stdout",
          "text": [
            "Train Loss: 2.2027, Train Acc: 41.26%, Test Loss: 1.8840, Test Acc: 48.75%, Time: 16.41s\n",
            "New best model saved with accuracy: 48.75%\n",
            "\n",
            "Epoch [76/100] - Learning Rate: 0.000100\n"
          ]
        },
        {
          "output_type": "stream",
          "name": "stderr",
          "text": [
            "Training: 100%|██████████| 98/98 [00:17<00:00,  5.67it/s, loss=2.21, acc=41.2]\n"
          ]
        },
        {
          "output_type": "stream",
          "name": "stdout",
          "text": [
            "Train Loss: 2.2059, Train Acc: 41.21%, Test Loss: 1.8834, Test Acc: 48.73%, Time: 17.28s\n",
            "\n",
            "Epoch [77/100] - Learning Rate: 0.000100\n"
          ]
        },
        {
          "output_type": "stream",
          "name": "stderr",
          "text": [
            "Training: 100%|██████████| 98/98 [00:16<00:00,  6.02it/s, loss=2.2, acc=41.4]\n"
          ]
        },
        {
          "output_type": "stream",
          "name": "stdout",
          "text": [
            "Train Loss: 2.1995, Train Acc: 41.35%, Test Loss: 1.8839, Test Acc: 48.71%, Time: 16.28s\n",
            "\n",
            "Epoch [78/100] - Learning Rate: 0.000100\n"
          ]
        },
        {
          "output_type": "stream",
          "name": "stderr",
          "text": [
            "Training: 100%|██████████| 98/98 [00:17<00:00,  5.73it/s, loss=2.2, acc=41.1]\n"
          ]
        },
        {
          "output_type": "stream",
          "name": "stdout",
          "text": [
            "Train Loss: 2.2048, Train Acc: 41.09%, Test Loss: 1.8836, Test Acc: 48.87%, Time: 17.12s\n",
            "New best model saved with accuracy: 48.87%\n",
            "\n",
            "Epoch [79/100] - Learning Rate: 0.000100\n"
          ]
        },
        {
          "output_type": "stream",
          "name": "stderr",
          "text": [
            "Training: 100%|██████████| 98/98 [00:16<00:00,  5.93it/s, loss=2.2, acc=41.2]\n"
          ]
        },
        {
          "output_type": "stream",
          "name": "stdout",
          "text": [
            "Train Loss: 2.1996, Train Acc: 41.20%, Test Loss: 1.8838, Test Acc: 48.73%, Time: 16.54s\n",
            "\n",
            "Epoch [80/100] - Learning Rate: 0.000100\n"
          ]
        },
        {
          "output_type": "stream",
          "name": "stderr",
          "text": [
            "Training: 100%|██████████| 98/98 [00:16<00:00,  5.80it/s, loss=2.2, acc=41.2]\n"
          ]
        },
        {
          "output_type": "stream",
          "name": "stdout",
          "text": [
            "Train Loss: 2.1985, Train Acc: 41.20%, Test Loss: 1.8828, Test Acc: 48.72%, Time: 16.90s\n",
            "\n",
            "Epoch [81/100] - Learning Rate: 0.000100\n"
          ]
        },
        {
          "output_type": "stream",
          "name": "stderr",
          "text": [
            "Training: 100%|██████████| 98/98 [00:16<00:00,  5.80it/s, loss=2.2, acc=41.2]\n"
          ]
        },
        {
          "output_type": "stream",
          "name": "stdout",
          "text": [
            "Train Loss: 2.1989, Train Acc: 41.18%, Test Loss: 1.8824, Test Acc: 48.74%, Time: 16.91s\n",
            "\n",
            "Epoch [82/100] - Learning Rate: 0.000100\n"
          ]
        },
        {
          "output_type": "stream",
          "name": "stderr",
          "text": [
            "Training: 100%|██████████| 98/98 [00:16<00:00,  5.77it/s, loss=2.21, acc=41.3]\n"
          ]
        },
        {
          "output_type": "stream",
          "name": "stdout",
          "text": [
            "Train Loss: 2.2054, Train Acc: 41.30%, Test Loss: 1.8830, Test Acc: 48.87%, Time: 17.00s\n",
            "\n",
            "Epoch [83/100] - Learning Rate: 0.000100\n"
          ]
        },
        {
          "output_type": "stream",
          "name": "stderr",
          "text": [
            "Training: 100%|██████████| 98/98 [00:16<00:00,  5.90it/s, loss=2.2, acc=41.1]\n"
          ]
        },
        {
          "output_type": "stream",
          "name": "stdout",
          "text": [
            "Train Loss: 2.1968, Train Acc: 41.09%, Test Loss: 1.8823, Test Acc: 48.75%, Time: 16.62s\n",
            "\n",
            "Epoch [84/100] - Learning Rate: 0.000100\n"
          ]
        },
        {
          "output_type": "stream",
          "name": "stderr",
          "text": [
            "Training: 100%|██████████| 98/98 [00:16<00:00,  5.86it/s, loss=2.21, acc=41.2]\n"
          ]
        },
        {
          "output_type": "stream",
          "name": "stdout",
          "text": [
            "Train Loss: 2.2072, Train Acc: 41.24%, Test Loss: 1.8826, Test Acc: 48.82%, Time: 16.73s\n",
            "\n",
            "Epoch [85/100] - Learning Rate: 0.000100\n"
          ]
        },
        {
          "output_type": "stream",
          "name": "stderr",
          "text": [
            "Training: 100%|██████████| 98/98 [00:16<00:00,  5.92it/s, loss=2.2, acc=41.3]\n"
          ]
        },
        {
          "output_type": "stream",
          "name": "stdout",
          "text": [
            "Train Loss: 2.2018, Train Acc: 41.34%, Test Loss: 1.8812, Test Acc: 48.78%, Time: 16.55s\n",
            "\n",
            "Epoch [86/100] - Learning Rate: 0.000100\n"
          ]
        },
        {
          "output_type": "stream",
          "name": "stderr",
          "text": [
            "Training: 100%|██████████| 98/98 [00:16<00:00,  5.96it/s, loss=2.2, acc=41.4]\n"
          ]
        },
        {
          "output_type": "stream",
          "name": "stdout",
          "text": [
            "Train Loss: 2.2037, Train Acc: 41.41%, Test Loss: 1.8812, Test Acc: 48.87%, Time: 16.45s\n",
            "\n",
            "Epoch [87/100] - Learning Rate: 0.000100\n"
          ]
        },
        {
          "output_type": "stream",
          "name": "stderr",
          "text": [
            "Training: 100%|██████████| 98/98 [00:16<00:00,  5.95it/s, loss=2.2, acc=41.3]\n"
          ]
        },
        {
          "output_type": "stream",
          "name": "stdout",
          "text": [
            "Train Loss: 2.2015, Train Acc: 41.27%, Test Loss: 1.8804, Test Acc: 48.85%, Time: 16.47s\n",
            "\n",
            "Epoch [88/100] - Learning Rate: 0.000100\n"
          ]
        },
        {
          "output_type": "stream",
          "name": "stderr",
          "text": [
            "Training: 100%|██████████| 98/98 [00:16<00:00,  6.04it/s, loss=2.2, acc=41]\n"
          ]
        },
        {
          "output_type": "stream",
          "name": "stdout",
          "text": [
            "Train Loss: 2.2039, Train Acc: 40.96%, Test Loss: 1.8807, Test Acc: 48.82%, Time: 16.22s\n",
            "\n",
            "Epoch [89/100] - Learning Rate: 0.000100\n"
          ]
        },
        {
          "output_type": "stream",
          "name": "stderr",
          "text": [
            "Training: 100%|██████████| 98/98 [00:16<00:00,  5.97it/s, loss=2.2, acc=41.1]\n"
          ]
        },
        {
          "output_type": "stream",
          "name": "stdout",
          "text": [
            "Train Loss: 2.1972, Train Acc: 41.13%, Test Loss: 1.8801, Test Acc: 48.93%, Time: 16.43s\n",
            "New best model saved with accuracy: 48.93%\n",
            "\n",
            "Epoch [90/100] - Learning Rate: 0.000100\n"
          ]
        },
        {
          "output_type": "stream",
          "name": "stderr",
          "text": [
            "Training: 100%|██████████| 98/98 [00:16<00:00,  5.88it/s, loss=2.21, acc=41.1]\n"
          ]
        },
        {
          "output_type": "stream",
          "name": "stdout",
          "text": [
            "Train Loss: 2.2093, Train Acc: 41.09%, Test Loss: 1.8816, Test Acc: 49.02%, Time: 16.67s\n",
            "New best model saved with accuracy: 49.02%\n",
            "\n",
            "Epoch [91/100] - Learning Rate: 0.000100\n"
          ]
        },
        {
          "output_type": "stream",
          "name": "stderr",
          "text": [
            "Training: 100%|██████████| 98/98 [00:16<00:00,  5.96it/s, loss=2.2, acc=41.2]\n"
          ]
        },
        {
          "output_type": "stream",
          "name": "stdout",
          "text": [
            "Train Loss: 2.2046, Train Acc: 41.16%, Test Loss: 1.8795, Test Acc: 48.93%, Time: 16.46s\n",
            "\n",
            "Epoch [92/100] - Learning Rate: 0.000100\n"
          ]
        },
        {
          "output_type": "stream",
          "name": "stderr",
          "text": [
            "Training: 100%|██████████| 98/98 [00:16<00:00,  6.01it/s, loss=2.2, acc=41.6]\n"
          ]
        },
        {
          "output_type": "stream",
          "name": "stdout",
          "text": [
            "Train Loss: 2.1992, Train Acc: 41.61%, Test Loss: 1.8807, Test Acc: 48.97%, Time: 16.31s\n",
            "\n",
            "Epoch [93/100] - Learning Rate: 0.000100\n"
          ]
        },
        {
          "output_type": "stream",
          "name": "stderr",
          "text": [
            "Training: 100%|██████████| 98/98 [00:16<00:00,  5.80it/s, loss=2.19, acc=41.5]\n"
          ]
        },
        {
          "output_type": "stream",
          "name": "stdout",
          "text": [
            "Train Loss: 2.1922, Train Acc: 41.45%, Test Loss: 1.8796, Test Acc: 48.84%, Time: 16.90s\n",
            "\n",
            "Epoch [94/100] - Learning Rate: 0.000100\n"
          ]
        },
        {
          "output_type": "stream",
          "name": "stderr",
          "text": [
            "Training: 100%|██████████| 98/98 [00:16<00:00,  5.85it/s, loss=2.2, acc=41.5]\n"
          ]
        },
        {
          "output_type": "stream",
          "name": "stdout",
          "text": [
            "Train Loss: 2.1972, Train Acc: 41.47%, Test Loss: 1.8796, Test Acc: 48.91%, Time: 16.76s\n",
            "\n",
            "Epoch [95/100] - Learning Rate: 0.000100\n"
          ]
        },
        {
          "output_type": "stream",
          "name": "stderr",
          "text": [
            "Training: 100%|██████████| 98/98 [00:17<00:00,  5.61it/s, loss=2.21, acc=41.2]\n"
          ]
        },
        {
          "output_type": "stream",
          "name": "stdout",
          "text": [
            "Train Loss: 2.2054, Train Acc: 41.17%, Test Loss: 1.8802, Test Acc: 48.83%, Time: 17.49s\n",
            "\n",
            "Epoch [96/100] - Learning Rate: 0.000100\n"
          ]
        },
        {
          "output_type": "stream",
          "name": "stderr",
          "text": [
            "Training: 100%|██████████| 98/98 [00:16<00:00,  5.92it/s, loss=2.19, acc=41.4]\n"
          ]
        },
        {
          "output_type": "stream",
          "name": "stdout",
          "text": [
            "Train Loss: 2.1887, Train Acc: 41.39%, Test Loss: 1.8794, Test Acc: 48.76%, Time: 16.55s\n",
            "\n",
            "Epoch [97/100] - Learning Rate: 0.000100\n"
          ]
        },
        {
          "output_type": "stream",
          "name": "stderr",
          "text": [
            "Training: 100%|██████████| 98/98 [00:17<00:00,  5.65it/s, loss=2.2, acc=41.2]\n"
          ]
        },
        {
          "output_type": "stream",
          "name": "stdout",
          "text": [
            "Train Loss: 2.1972, Train Acc: 41.20%, Test Loss: 1.8779, Test Acc: 49.06%, Time: 17.35s\n",
            "New best model saved with accuracy: 49.06%\n",
            "\n",
            "Epoch [98/100] - Learning Rate: 0.000100\n"
          ]
        },
        {
          "output_type": "stream",
          "name": "stderr",
          "text": [
            "Training: 100%|██████████| 98/98 [00:16<00:00,  5.96it/s, loss=2.2, acc=41.5]\n"
          ]
        },
        {
          "output_type": "stream",
          "name": "stdout",
          "text": [
            "Train Loss: 2.1980, Train Acc: 41.47%, Test Loss: 1.8793, Test Acc: 48.83%, Time: 16.45s\n",
            "\n",
            "Epoch [99/100] - Learning Rate: 0.000100\n"
          ]
        },
        {
          "output_type": "stream",
          "name": "stderr",
          "text": [
            "Training: 100%|██████████| 98/98 [00:17<00:00,  5.64it/s, loss=2.19, acc=41.5]\n"
          ]
        },
        {
          "output_type": "stream",
          "name": "stdout",
          "text": [
            "Train Loss: 2.1935, Train Acc: 41.49%, Test Loss: 1.8785, Test Acc: 48.92%, Time: 17.37s\n",
            "\n",
            "Epoch [100/100] - Learning Rate: 0.000100\n"
          ]
        },
        {
          "output_type": "stream",
          "name": "stderr",
          "text": [
            "Training: 100%|██████████| 98/98 [00:16<00:00,  5.91it/s, loss=2.2, acc=41.5]\n"
          ]
        },
        {
          "output_type": "stream",
          "name": "stdout",
          "text": [
            "Train Loss: 2.1982, Train Acc: 41.45%, Test Loss: 1.8779, Test Acc: 48.77%, Time: 16.59s\n",
            "Best model loaded with accuracy: 49.06%\n"
          ]
        },
        {
          "output_type": "display_data",
          "data": {
            "text/plain": [
              "<Figure size 1800x500 with 3 Axes>"
            ],
            "image/png": "[encoded data removed]"
          },
          "metadata": {}
        },
        {
          "output_type": "stream",
          "name": "stdout",
          "text": [
            "Centralized benchmark completed!\n"
          ]
        }
      ],
      "source": [
        "import torch\n",
        "import torch.nn as nn\n",
        "import torchvision.transforms as transforms\n",
        "import torch.nn.functional as F\n",
        "from torchvision.datasets import CIFAR10, CIFAR100\n",
        "import torchvision.models as models\n",
        "from torch.utils.data import DataLoader\n",
        "\n",
        "from tqdm import tqdm\n",
        "import matplotlib.pyplot as plt\n",
        "import time\n",
        "import pickle\n",
        "import numpy as np\n",
        "import random\n",
        "\n",
        "print(\"PyTorch version:\", torch.__version__)\n",
        "device = torch.device(\"cuda:0\" if torch.cuda.is_available() else \"cpu\")\n",
        "print(f\"Using device: {device}\")\n",
        "\n",
        "# Seeding for reproducibility\n",
        "seed = 2025\n",
        "torch.manual_seed(seed)\n",
        "torch.cuda.manual_seed(seed)\n",
        "np.random.seed(seed)\n",
        "random.seed(seed)\n",
        "\n",
        "# transforms\n",
        "train_transform = transforms.Compose(\n",
        "    [\n",
        "        transforms.RandomCrop(32, padding=4),\n",
        "        transforms.RandomHorizontalFlip(),\n",
        "        transforms.ToTensor(),\n",
        "        transforms.Normalize((0.4914, 0.4822, 0.4465), (0.2023, 0.1994, 0.2010)),\n",
        "    ]\n",
        ")\n",
        "\n",
        "test_transform = transforms.Compose(\n",
        "    [\n",
        "        transforms.ToTensor(),\n",
        "        transforms.Normalize((0.4914, 0.4822, 0.4465), (0.2023, 0.1994, 0.2010)),\n",
        "    ]\n",
        ")\n",
        "\n",
        "\n",
        "# load data\n",
        "\n",
        "\n",
        "def load_data(dataset_name=\"cifar100\", batch_size=128, num_workers=2):\n",
        "    \"\"\"Enhanced data loading with stronger augmentation for CIFAR-100\"\"\"\n",
        "\n",
        "    # Better augmentation for CIFAR-100\n",
        "    train_transform = transforms.Compose(\n",
        "        [\n",
        "            transforms.RandomCrop(32, padding=4),\n",
        "            transforms.RandomHorizontalFlip(),\n",
        "            transforms.ToTensor(),\n",
        "            transforms.Normalize((0.4914, 0.4822, 0.4465), (0.2023, 0.1994, 0.2010)),\n",
        "        ]\n",
        "    )\n",
        "\n",
        "    test_transform = transforms.Compose(\n",
        "        [\n",
        "            transforms.ToTensor(),\n",
        "            transforms.Normalize((0.4914, 0.4822, 0.4465), (0.2023, 0.1994, 0.2010)),\n",
        "        ]\n",
        "    )\n",
        "\n",
        "    if dataset_name.lower() == \"cifar100\":\n",
        "        train_dataset = CIFAR100(\n",
        "            root=\"./data\", train=True, download=True, transform=train_transform\n",
        "        )\n",
        "        test_dataset = CIFAR100(\n",
        "            root=\"./data\", train=False, download=True, transform=test_transform\n",
        "        )\n",
        "        num_classes = 100\n",
        "    else:\n",
        "        raise ValueError(f\"Dataset {dataset_name} not supported in enhanced version\")\n",
        "\n",
        "    # Data loaders\n",
        "    train_loader = DataLoader(\n",
        "        train_dataset,\n",
        "        batch_size=batch_size,\n",
        "        shuffle=True,\n",
        "        num_workers=num_workers,\n",
        "    )\n",
        "\n",
        "    test_loader = DataLoader(\n",
        "        test_dataset,\n",
        "        batch_size=batch_size,\n",
        "        shuffle=False,\n",
        "        num_workers=num_workers,\n",
        "    )\n",
        "\n",
        "    return train_loader, test_loader, num_classes\n",
        "\n",
        "\n",
        "# model - LeNet5 from the paper [11]\n",
        "class LeNet5(nn.Module):\n",
        "    def __init__(self, num_classes=10):\n",
        "        super(LeNet5, self).__init__()\n",
        "        # Input: 3x32x32 (CIFAR has 3 color channels)\n",
        "        self.conv1 = nn.Conv2d(3, 6, kernel_size=5)  # Output: 6x28x28\n",
        "        self.pool1 = nn.MaxPool2d(kernel_size=2, stride=2)  # Output: 6x14x14\n",
        "        self.conv2 = nn.Conv2d(6, 16, kernel_size=5)  # Output: 16x10x10\n",
        "        self.pool2 = nn.MaxPool2d(kernel_size=2, stride=2)  # Output: 16x5x5\n",
        "\n",
        "        # fc layers\n",
        "        self.fc1 = nn.Linear(16 * 5 * 5, 120)\n",
        "        self.fc2 = nn.Linear(120, 84)\n",
        "        self.fc3 = nn.Linear(84, num_classes)\n",
        "\n",
        "    def forward(self, x):\n",
        "        x = self.pool1(F.relu(self.conv1(x)))\n",
        "        x = self.pool2(F.relu(self.conv2(x)))\n",
        "        x = x.view(-1, 16 * 5 * 5)  # flatten\n",
        "        x = F.relu(self.fc1(x))\n",
        "        x = F.relu(self.fc2(x))\n",
        "        x = self.fc3(x)\n",
        "        return x\n",
        "\n",
        "\n",
        "class ImprovedCNN(nn.Module):\n",
        "    def __init__(self, num_classes=100):\n",
        "        super(ImprovedCNN, self).__init__()\n",
        "        # First conv block\n",
        "        self.conv1 = nn.Conv2d(3, 64, kernel_size=5, padding=2)\n",
        "        self.bn1 = nn.BatchNorm2d(64)  # using BatchNorm for better training stability\n",
        "        self.pool1 = nn.MaxPool2d(kernel_size=2, stride=2)\n",
        "\n",
        "        # Second conv block\n",
        "        self.conv2 = nn.Conv2d(64, 64, kernel_size=5, padding=2)\n",
        "        self.bn2 = nn.BatchNorm2d(64)\n",
        "        self.pool2 = nn.MaxPool2d(kernel_size=2, stride=2)\n",
        "\n",
        "        # Fully connected layers\n",
        "        self.fc1 = nn.Linear(64 * 8 * 8, 384)\n",
        "        self.dropout1 = nn.Dropout(0.5)\n",
        "        self.fc2 = nn.Linear(384, 192)\n",
        "        self.dropout2 = nn.Dropout(0.5)\n",
        "        self.fc3 = nn.Linear(192, num_classes)\n",
        "\n",
        "    def forward(self, x):\n",
        "        # First conv block\n",
        "        x = self.pool1(F.relu(self.bn1(self.conv1(x))))\n",
        "\n",
        "        # Second conv block\n",
        "        x = self.pool2(F.relu(self.bn2(self.conv2(x))))\n",
        "\n",
        "        # Flatten and fully connected layers\n",
        "        x = x.view(-1, 64 * 8 * 8)\n",
        "        x = F.relu(self.fc1(x))\n",
        "        x = self.dropout1(x)\n",
        "        x = F.relu(self.fc2(x))\n",
        "        x = self.dropout2(x)\n",
        "        x = self.fc3(x)\n",
        "\n",
        "        return x\n",
        "\n",
        "\n",
        "def create_model(model_name, num_classes=100):\n",
        "    if model_name.lower() == \"improved_cnn\":\n",
        "        return ImprovedCNN(num_classes=num_classes)\n",
        "    elif model_name.lower() == \"lenet5\":\n",
        "        return LeNet5(num_classes=num_classes)\n",
        "    else:\n",
        "        raise ValueError(f\"Unknown model: {model_name}\")\n",
        "\n",
        "\n",
        "# train\n",
        "def train_epoch(model, train_loader, criterion, optimizer, device):\n",
        "    model.train()\n",
        "    running_loss = 0.0\n",
        "    correct = 0\n",
        "    total = 0\n",
        "\n",
        "    pbar = tqdm(train_loader, desc=\"Training\")\n",
        "\n",
        "    for inputs, labels in pbar:\n",
        "        inputs, labels = inputs.to(device), labels.to(device)\n",
        "\n",
        "        optimizer.zero_grad()\n",
        "        outputs = model(inputs)\n",
        "        loss = criterion(outputs, labels)\n",
        "        loss.backward()\n",
        "        optimizer.step()\n",
        "\n",
        "        running_loss += loss.item() * inputs.size(0)\n",
        "        _, predicted = outputs.max(1)\n",
        "        total += labels.size(0)\n",
        "        correct += predicted.eq(labels).sum().item()\n",
        "\n",
        "        # just a progress bar\n",
        "        pbar.set_postfix({\"loss\": running_loss / total, \"acc\": 100.0 * correct / total})\n",
        "\n",
        "    train_loss = running_loss / total\n",
        "    train_acc = 100.0 * correct / total\n",
        "\n",
        "    return train_loss, train_acc\n",
        "\n",
        "\n",
        "# eval\n",
        "def evaluate(model, test_loader, criterion, device):\n",
        "    model.eval()\n",
        "    running_loss = 0.0\n",
        "    correct = 0\n",
        "    total = 0\n",
        "\n",
        "    with torch.no_grad():\n",
        "        for inputs, labels in test_loader:\n",
        "            inputs, labels = inputs.to(device), labels.to(device)\n",
        "\n",
        "            outputs = model(inputs)\n",
        "            loss = criterion(outputs, labels)\n",
        "\n",
        "            running_loss += loss.item() * inputs.size(0)\n",
        "            _, predicted = outputs.max(1)\n",
        "            total += labels.size(0)\n",
        "            correct += predicted.eq(labels).sum().item()\n",
        "\n",
        "    test_loss = running_loss / total\n",
        "    test_acc = 100.0 * correct / total\n",
        "\n",
        "    return test_loss, test_acc\n",
        "\n",
        "\n",
        "# train config\n",
        "def train_centralized_model(\n",
        "    model_name=\"improved_cnn\",\n",
        "    dataset_name=\"cifar100\",\n",
        "    batch_size=512,\n",
        "    epochs=100,\n",
        "    lr=0.01,\n",
        "    momentum=0.9,\n",
        "    weight_decay=4e-4,\n",
        "    lr_scheduler=\"step\",\n",
        "    save_path=\"improved_cnn_model.pth\",\n",
        "):\n",
        "    # Load data\n",
        "    train_loader, test_loader, num_classes = load_data(\n",
        "        dataset_name=dataset_name, batch_size=batch_size\n",
        "    )\n",
        "\n",
        "    # Create model\n",
        "    model = create_model(model_name, num_classes=num_classes)\n",
        "    model = model.to(device)\n",
        "\n",
        "    # Print model parameters\n",
        "    total_params = sum(p.numel() for p in model.parameters())\n",
        "    print(f\"Total parameters: {total_params:,}\")\n",
        "\n",
        "    # Define loss function and optimizer\n",
        "    criterion = nn.CrossEntropyLoss()\n",
        "    optimizer = torch.optim.SGD(\n",
        "        model.parameters(), lr=lr, momentum=momentum, weight_decay=weight_decay\n",
        "    )\n",
        "\n",
        "    # Learning rate scheduler - step decay at specific epochs\n",
        "    if lr_scheduler == \"step\":\n",
        "        scheduler = torch.optim.lr_scheduler.MultiStepLR(\n",
        "            optimizer, milestones=[50, 60], gamma=0.1\n",
        "        )\n",
        "    elif lr_scheduler == \"cosine\":\n",
        "        scheduler = torch.optim.lr_scheduler.CosineAnnealingLR(optimizer, T_max=epochs)\n",
        "    else:\n",
        "        raise ValueError(f\"Unknown scheduler: {lr_scheduler}\")\n",
        "\n",
        "    # Training history\n",
        "    history = {\n",
        "        \"train_loss\": [],\n",
        "        \"train_acc\": [],\n",
        "        \"test_loss\": [],\n",
        "        \"test_acc\": [],\n",
        "        \"lr\": [],\n",
        "    }\n",
        "\n",
        "    # Track best accuracy\n",
        "    best_acc = 0.0\n",
        "\n",
        "    # Training loop\n",
        "    for epoch in range(epochs):\n",
        "        current_lr = optimizer.param_groups[0][\"lr\"]\n",
        "        print(f\"\\nEpoch [{epoch + 1}/{epochs}] - Learning Rate: {current_lr:.6f}\")\n",
        "\n",
        "        # Training for one epoch\n",
        "        start_time = time.time()\n",
        "        train_loss, train_acc = train_epoch(\n",
        "            model, train_loader, criterion, optimizer, device\n",
        "        )\n",
        "        train_time = time.time() - start_time\n",
        "\n",
        "        # Evaluate on test set\n",
        "        test_loss, test_acc = evaluate(model, test_loader, criterion, device)\n",
        "\n",
        "        # Step learning rate scheduler\n",
        "        scheduler.step()\n",
        "\n",
        "        # Print statistics\n",
        "        print(\n",
        "            f\"Train Loss: {train_loss:.4f}, Train Acc: {train_acc:.2f}%, \"\n",
        "            f\"Test Loss: {test_loss:.4f}, Test Acc: {test_acc:.2f}%, \"\n",
        "            f\"Time: {train_time:.2f}s\"\n",
        "        )\n",
        "\n",
        "        # Save best model\n",
        "        if test_acc > best_acc:\n",
        "            best_acc = test_acc\n",
        "            torch.save(\n",
        "                {\n",
        "                    \"epoch\": epoch,\n",
        "                    \"model_state_dict\": model.state_dict(),\n",
        "                    \"optimizer_state_dict\": optimizer.state_dict(),\n",
        "                    \"test_acc\": test_acc,\n",
        "                },\n",
        "                save_path,\n",
        "            )\n",
        "            print(f\"New best model saved with accuracy: {test_acc:.2f}%\")\n",
        "\n",
        "        # Update history\n",
        "        history[\"train_loss\"].append(train_loss)\n",
        "        history[\"train_acc\"].append(train_acc)\n",
        "        history[\"test_loss\"].append(test_loss)\n",
        "        history[\"test_acc\"].append(test_acc)\n",
        "        history[\"lr\"].append(current_lr)\n",
        "\n",
        "    # Load best model\n",
        "    checkpoint = torch.load(save_path)\n",
        "    model.load_state_dict(checkpoint[\"model_state_dict\"])\n",
        "    print(f\"Best model loaded with accuracy: {checkpoint['test_acc']:.2f}%\")\n",
        "\n",
        "    return model, history\n",
        "\n",
        "\n",
        "# visualization of model performance\n",
        "def plot_training_history(history):\n",
        "    fig, (ax1, ax2, ax3) = plt.subplots(1, 3, figsize=(18, 5))\n",
        "\n",
        "    # plot the loss\n",
        "    ax1.plot(history[\"train_loss\"], label=\"Train Loss\")\n",
        "    ax1.plot(history[\"test_loss\"], label=\"Test Loss\")\n",
        "    ax1.set_xlabel(\"Epoch\")\n",
        "    ax1.set_ylabel(\"Loss\")\n",
        "    ax1.legend()\n",
        "    ax1.set_title(\"Loss Curves\")\n",
        "    ax1.grid(True)\n",
        "\n",
        "    # plot accuracy\n",
        "    ax2.plot(history[\"train_acc\"], label=\"Train Accuracy\")\n",
        "    ax2.plot(history[\"test_acc\"], label=\"Test Accuracy\")\n",
        "    ax2.set_xlabel(\"Epoch\")\n",
        "    ax2.set_ylabel(\"Accuracy (%)\")\n",
        "    ax2.legend()\n",
        "    ax2.set_title(\"Accuracy Curves\")\n",
        "    ax2.grid(True)\n",
        "\n",
        "    # plot learning rate\n",
        "    ax3.plot(history[\"lr\"])\n",
        "    ax3.set_xlabel(\"Epoch\")\n",
        "    ax3.set_ylabel(\"Learning Rate\")\n",
        "    ax3.set_title(\"Learning Rate Schedule\")\n",
        "    ax3.set_yscale(\"log\")\n",
        "    ax3.grid(True)\n",
        "\n",
        "    plt.tight_layout()\n",
        "    plt.show()\n",
        "\n",
        "\n",
        "# run benchmark\n",
        "def run_centralized_benchmark():\n",
        "    # LeNet5 config\n",
        "    config = {\n",
        "        \"model_name\": \"improved_cnn\",\n",
        "        \"dataset_name\": \"cifar100\",\n",
        "        \"batch_size\": 512,\n",
        "        \"epochs\": 100,\n",
        "        \"lr\": 0.01,\n",
        "        \"momentum\": 0.9,\n",
        "        \"weight_decay\": 4e-4,\n",
        "        \"lr_scheduler\": \"step\",\n",
        "        \"save_path\": \"improved_cnn_model.pth\",\n",
        "    }\n",
        "\n",
        "    print(\n",
        "        f\"Running centralized benchmark with {config['model_name']} on {config['dataset_name']}...\"\n",
        "    )\n",
        "\n",
        "    # Train model\n",
        "    model, history = train_centralized_model(**config)\n",
        "\n",
        "    # Plot results\n",
        "    plot_training_history(history)\n",
        "\n",
        "    # Save history\n",
        "    with open(\"lenet5_history.pkl\", \"wb\") as f:\n",
        "        pickle.dump(history, f)\n",
        "\n",
        "    print(\"Centralized benchmark completed!\")\n",
        "\n",
        "    return model, history\n",
        "\n",
        "\n",
        "def main():\n",
        "    model, history = run_centralized_benchmark()\n",
        "    return model, history\n",
        "\n",
        "\n",
        "if __name__ == \"__main__\":\n",
        "    main()\n",
        "\n"
      ]
    }
  ],
  "metadata": {
    "accelerator": "GPU",
    "colab": {
      "gpuType": "T4",
      "provenance": [],
      "include_colab_link": true
    },
    "kernelspec": {
      "display_name": "Python 3",
      "name": "python3"
    },
    "language_info": {
      "name": "python"
    }
  },
  "nbformat": 4,
  "nbformat_minor": 0
}