{
  "cells": [
    {
      "cell_type": "markdown",
      "metadata": {
        "id": "view-in-github",
        "colab_type": "text"
      },
      "source": [
        "<a href=\"https://colab.research.google.com/github/Zurehma/AML_Project/blob/main/Centralized/benchmarks/batch_256.ipynb\" target=\"_parent\"><img src=\"https://colab.research.google.com/assets/colab-badge.svg\" alt=\"Open In Colab\"/></a>"
      ]
    },
    {
      "cell_type": "code",
      "execution_count": 1,
      "metadata": {
        "id": "rmTV2T84dLgD",
        "colab": {
          "base_uri": "https://localhost:8080/",
          "height": 1000
        },
        "outputId": "8f8a2183-a1c7-48c3-8030-45986e5ecdff"
      },
      "outputs": [
        {
          "output_type": "stream",
          "name": "stdout",
          "text": [
            "PyTorch version: 2.6.0+cu124\n",
            "Using device: cuda:0\n",
            "Running centralized benchmark with improved_cnn on cifar100...\n"
          ]
        },
        {
          "output_type": "stream",
          "name": "stderr",
          "text": [
            "100%|██████████| 169M/169M [00:12<00:00, 13.0MB/s]\n"
          ]
        },
        {
          "output_type": "stream",
          "name": "stdout",
          "text": [
            "Total parameters: 1,774,052\n",
            "\n",
            "Epoch [1/100] - Learning Rate: 0.010000\n"
          ]
        },
        {
          "output_type": "stream",
          "name": "stderr",
          "text": [
            "Training: 100%|██████████| 196/196 [00:19<00:00, 10.20it/s, loss=4.41, acc=3.37]\n"
          ]
        },
        {
          "output_type": "stream",
          "name": "stdout",
          "text": [
            "Train Loss: 4.4131, Train Acc: 3.37%, Test Loss: 4.0358, Test Acc: 8.42%, Time: 19.22s\n",
            "New best model saved with accuracy: 8.42%\n",
            "\n",
            "Epoch [2/100] - Learning Rate: 0.010000\n"
          ]
        },
        {
          "output_type": "stream",
          "name": "stderr",
          "text": [
            "Training: 100%|██████████| 196/196 [00:17<00:00, 10.98it/s, loss=4.01, acc=7.54]\n"
          ]
        },
        {
          "output_type": "stream",
          "name": "stdout",
          "text": [
            "Train Loss: 4.0089, Train Acc: 7.54%, Test Loss: 3.7375, Test Acc: 12.02%, Time: 17.86s\n",
            "New best model saved with accuracy: 12.02%\n",
            "\n",
            "Epoch [3/100] - Learning Rate: 0.010000\n"
          ]
        },
        {
          "output_type": "stream",
          "name": "stderr",
          "text": [
            "Training: 100%|██████████| 196/196 [00:19<00:00, 10.27it/s, loss=3.78, acc=10.7]\n"
          ]
        },
        {
          "output_type": "stream",
          "name": "stdout",
          "text": [
            "Train Loss: 3.7768, Train Acc: 10.66%, Test Loss: 3.4464, Test Acc: 17.33%, Time: 19.10s\n",
            "New best model saved with accuracy: 17.33%\n",
            "\n",
            "Epoch [4/100] - Learning Rate: 0.010000\n"
          ]
        },
        {
          "output_type": "stream",
          "name": "stderr",
          "text": [
            "Training: 100%|██████████| 196/196 [00:17<00:00, 11.26it/s, loss=3.61, acc=13.5]\n"
          ]
        },
        {
          "output_type": "stream",
          "name": "stdout",
          "text": [
            "Train Loss: 3.6068, Train Acc: 13.51%, Test Loss: 3.2532, Test Acc: 20.73%, Time: 17.42s\n",
            "New best model saved with accuracy: 20.73%\n",
            "\n",
            "Epoch [5/100] - Learning Rate: 0.010000\n"
          ]
        },
        {
          "output_type": "stream",
          "name": "stderr",
          "text": [
            "Training: 100%|██████████| 196/196 [00:17<00:00, 11.22it/s, loss=3.47, acc=15.6]\n"
          ]
        },
        {
          "output_type": "stream",
          "name": "stdout",
          "text": [
            "Train Loss: 3.4742, Train Acc: 15.61%, Test Loss: 3.0954, Test Acc: 23.62%, Time: 17.47s\n",
            "New best model saved with accuracy: 23.62%\n",
            "\n",
            "Epoch [6/100] - Learning Rate: 0.010000\n"
          ]
        },
        {
          "output_type": "stream",
          "name": "stderr",
          "text": [
            "Training: 100%|██████████| 196/196 [00:17<00:00, 11.06it/s, loss=3.36, acc=18.1]\n"
          ]
        },
        {
          "output_type": "stream",
          "name": "stdout",
          "text": [
            "Train Loss: 3.3555, Train Acc: 18.15%, Test Loss: 3.0489, Test Acc: 24.03%, Time: 17.73s\n",
            "New best model saved with accuracy: 24.03%\n",
            "\n",
            "Epoch [7/100] - Learning Rate: 0.010000\n"
          ]
        },
        {
          "output_type": "stream",
          "name": "stderr",
          "text": [
            "Training: 100%|██████████| 196/196 [00:17<00:00, 11.34it/s, loss=3.26, acc=19.2]\n"
          ]
        },
        {
          "output_type": "stream",
          "name": "stdout",
          "text": [
            "Train Loss: 3.2613, Train Acc: 19.24%, Test Loss: 2.8891, Test Acc: 26.85%, Time: 17.29s\n",
            "New best model saved with accuracy: 26.85%\n",
            "\n",
            "Epoch [8/100] - Learning Rate: 0.010000\n"
          ]
        },
        {
          "output_type": "stream",
          "name": "stderr",
          "text": [
            "Training: 100%|██████████| 196/196 [00:18<00:00, 10.56it/s, loss=3.18, acc=21.1]\n"
          ]
        },
        {
          "output_type": "stream",
          "name": "stdout",
          "text": [
            "Train Loss: 3.1832, Train Acc: 21.14%, Test Loss: 2.8297, Test Acc: 28.22%, Time: 18.57s\n",
            "New best model saved with accuracy: 28.22%\n",
            "\n",
            "Epoch [9/100] - Learning Rate: 0.010000\n"
          ]
        },
        {
          "output_type": "stream",
          "name": "stderr",
          "text": [
            "Training: 100%|██████████| 196/196 [00:17<00:00, 11.35it/s, loss=3.12, acc=22.2]\n"
          ]
        },
        {
          "output_type": "stream",
          "name": "stdout",
          "text": [
            "Train Loss: 3.1164, Train Acc: 22.24%, Test Loss: 2.7516, Test Acc: 30.53%, Time: 17.28s\n",
            "New best model saved with accuracy: 30.53%\n",
            "\n",
            "Epoch [10/100] - Learning Rate: 0.010000\n"
          ]
        },
        {
          "output_type": "stream",
          "name": "stderr",
          "text": [
            "Training: 100%|██████████| 196/196 [00:18<00:00, 10.52it/s, loss=3.06, acc=23.3]\n"
          ]
        },
        {
          "output_type": "stream",
          "name": "stdout",
          "text": [
            "Train Loss: 3.0629, Train Acc: 23.27%, Test Loss: 2.7024, Test Acc: 31.43%, Time: 18.63s\n",
            "New best model saved with accuracy: 31.43%\n",
            "\n",
            "Epoch [11/100] - Learning Rate: 0.010000\n"
          ]
        },
        {
          "output_type": "stream",
          "name": "stderr",
          "text": [
            "Training: 100%|██████████| 196/196 [00:17<00:00, 10.97it/s, loss=3, acc=24.5]\n"
          ]
        },
        {
          "output_type": "stream",
          "name": "stdout",
          "text": [
            "Train Loss: 2.9986, Train Acc: 24.45%, Test Loss: 2.5752, Test Acc: 33.25%, Time: 17.88s\n",
            "New best model saved with accuracy: 33.25%\n",
            "\n",
            "Epoch [12/100] - Learning Rate: 0.010000\n"
          ]
        },
        {
          "output_type": "stream",
          "name": "stderr",
          "text": [
            "Training: 100%|██████████| 196/196 [00:17<00:00, 10.90it/s, loss=2.96, acc=25.4]\n"
          ]
        },
        {
          "output_type": "stream",
          "name": "stdout",
          "text": [
            "Train Loss: 2.9583, Train Acc: 25.38%, Test Loss: 2.5475, Test Acc: 34.22%, Time: 17.99s\n",
            "New best model saved with accuracy: 34.22%\n",
            "\n",
            "Epoch [13/100] - Learning Rate: 0.010000\n"
          ]
        },
        {
          "output_type": "stream",
          "name": "stderr",
          "text": [
            "Training: 100%|██████████| 196/196 [00:18<00:00, 10.82it/s, loss=2.91, acc=26.2]\n"
          ]
        },
        {
          "output_type": "stream",
          "name": "stdout",
          "text": [
            "Train Loss: 2.9149, Train Acc: 26.15%, Test Loss: 2.5009, Test Acc: 34.89%, Time: 18.11s\n",
            "New best model saved with accuracy: 34.89%\n",
            "\n",
            "Epoch [14/100] - Learning Rate: 0.010000\n"
          ]
        },
        {
          "output_type": "stream",
          "name": "stderr",
          "text": [
            "Training: 100%|██████████| 196/196 [00:17<00:00, 11.17it/s, loss=2.87, acc=26.9]\n"
          ]
        },
        {
          "output_type": "stream",
          "name": "stdout",
          "text": [
            "Train Loss: 2.8745, Train Acc: 26.94%, Test Loss: 2.4642, Test Acc: 35.75%, Time: 17.56s\n",
            "New best model saved with accuracy: 35.75%\n",
            "\n",
            "Epoch [15/100] - Learning Rate: 0.010000\n"
          ]
        },
        {
          "output_type": "stream",
          "name": "stderr",
          "text": [
            "Training: 100%|██████████| 196/196 [00:18<00:00, 10.55it/s, loss=2.84, acc=27.7]\n"
          ]
        },
        {
          "output_type": "stream",
          "name": "stdout",
          "text": [
            "Train Loss: 2.8410, Train Acc: 27.72%, Test Loss: 2.4349, Test Acc: 36.47%, Time: 18.58s\n",
            "New best model saved with accuracy: 36.47%\n",
            "\n",
            "Epoch [16/100] - Learning Rate: 0.010000\n"
          ]
        },
        {
          "output_type": "stream",
          "name": "stderr",
          "text": [
            "Training: 100%|██████████| 196/196 [00:17<00:00, 10.96it/s, loss=2.81, acc=28.5]\n"
          ]
        },
        {
          "output_type": "stream",
          "name": "stdout",
          "text": [
            "Train Loss: 2.8076, Train Acc: 28.54%, Test Loss: 2.4715, Test Acc: 35.53%, Time: 17.88s\n",
            "\n",
            "Epoch [17/100] - Learning Rate: 0.010000\n"
          ]
        },
        {
          "output_type": "stream",
          "name": "stderr",
          "text": [
            "Training: 100%|██████████| 196/196 [00:18<00:00, 10.82it/s, loss=2.77, acc=29.3]\n"
          ]
        },
        {
          "output_type": "stream",
          "name": "stdout",
          "text": [
            "Train Loss: 2.7709, Train Acc: 29.28%, Test Loss: 2.3855, Test Acc: 37.56%, Time: 18.13s\n",
            "New best model saved with accuracy: 37.56%\n",
            "\n",
            "Epoch [18/100] - Learning Rate: 0.010000\n"
          ]
        },
        {
          "output_type": "stream",
          "name": "stderr",
          "text": [
            "Training: 100%|██████████| 196/196 [00:17<00:00, 11.32it/s, loss=2.74, acc=30]\n"
          ]
        },
        {
          "output_type": "stream",
          "name": "stdout",
          "text": [
            "Train Loss: 2.7395, Train Acc: 29.96%, Test Loss: 2.3439, Test Acc: 38.62%, Time: 17.32s\n",
            "New best model saved with accuracy: 38.62%\n",
            "\n",
            "Epoch [19/100] - Learning Rate: 0.010000\n"
          ]
        },
        {
          "output_type": "stream",
          "name": "stderr",
          "text": [
            "Training: 100%|██████████| 196/196 [00:17<00:00, 11.26it/s, loss=2.71, acc=30.3]\n"
          ]
        },
        {
          "output_type": "stream",
          "name": "stdout",
          "text": [
            "Train Loss: 2.7098, Train Acc: 30.28%, Test Loss: 2.3622, Test Acc: 38.44%, Time: 17.41s\n",
            "\n",
            "Epoch [20/100] - Learning Rate: 0.010000\n"
          ]
        },
        {
          "output_type": "stream",
          "name": "stderr",
          "text": [
            "Training: 100%|██████████| 196/196 [00:17<00:00, 11.02it/s, loss=2.69, acc=30.9]\n"
          ]
        },
        {
          "output_type": "stream",
          "name": "stdout",
          "text": [
            "Train Loss: 2.6924, Train Acc: 30.93%, Test Loss: 2.3023, Test Acc: 39.46%, Time: 17.80s\n",
            "New best model saved with accuracy: 39.46%\n",
            "\n",
            "Epoch [21/100] - Learning Rate: 0.010000\n"
          ]
        },
        {
          "output_type": "stream",
          "name": "stderr",
          "text": [
            "Training: 100%|██████████| 196/196 [00:17<00:00, 11.41it/s, loss=2.66, acc=31.4]\n"
          ]
        },
        {
          "output_type": "stream",
          "name": "stdout",
          "text": [
            "Train Loss: 2.6612, Train Acc: 31.40%, Test Loss: 2.2381, Test Acc: 41.28%, Time: 17.18s\n",
            "New best model saved with accuracy: 41.28%\n",
            "\n",
            "Epoch [22/100] - Learning Rate: 0.010000\n"
          ]
        },
        {
          "output_type": "stream",
          "name": "stderr",
          "text": [
            "Training: 100%|██████████| 196/196 [00:18<00:00, 10.57it/s, loss=2.64, acc=32]\n"
          ]
        },
        {
          "output_type": "stream",
          "name": "stdout",
          "text": [
            "Train Loss: 2.6384, Train Acc: 31.97%, Test Loss: 2.2095, Test Acc: 41.10%, Time: 18.54s\n",
            "\n",
            "Epoch [23/100] - Learning Rate: 0.010000\n"
          ]
        },
        {
          "output_type": "stream",
          "name": "stderr",
          "text": [
            "Training: 100%|██████████| 196/196 [00:17<00:00, 11.20it/s, loss=2.62, acc=32.3]\n"
          ]
        },
        {
          "output_type": "stream",
          "name": "stdout",
          "text": [
            "Train Loss: 2.6184, Train Acc: 32.31%, Test Loss: 2.2229, Test Acc: 41.20%, Time: 17.51s\n",
            "\n",
            "Epoch [24/100] - Learning Rate: 0.010000\n"
          ]
        },
        {
          "output_type": "stream",
          "name": "stderr",
          "text": [
            "Training: 100%|██████████| 196/196 [00:18<00:00, 10.69it/s, loss=2.59, acc=32.8]\n"
          ]
        },
        {
          "output_type": "stream",
          "name": "stdout",
          "text": [
            "Train Loss: 2.5881, Train Acc: 32.81%, Test Loss: 2.1834, Test Acc: 42.36%, Time: 18.34s\n",
            "New best model saved with accuracy: 42.36%\n",
            "\n",
            "Epoch [25/100] - Learning Rate: 0.010000\n"
          ]
        },
        {
          "output_type": "stream",
          "name": "stderr",
          "text": [
            "Training: 100%|██████████| 196/196 [00:17<00:00, 11.42it/s, loss=2.57, acc=33.6]\n"
          ]
        },
        {
          "output_type": "stream",
          "name": "stdout",
          "text": [
            "Train Loss: 2.5691, Train Acc: 33.58%, Test Loss: 2.1894, Test Acc: 41.69%, Time: 17.17s\n",
            "\n",
            "Epoch [26/100] - Learning Rate: 0.010000\n"
          ]
        },
        {
          "output_type": "stream",
          "name": "stderr",
          "text": [
            "Training: 100%|██████████| 196/196 [00:17<00:00, 11.01it/s, loss=2.56, acc=33.4]\n"
          ]
        },
        {
          "output_type": "stream",
          "name": "stdout",
          "text": [
            "Train Loss: 2.5613, Train Acc: 33.38%, Test Loss: 2.1901, Test Acc: 42.02%, Time: 17.80s\n",
            "\n",
            "Epoch [27/100] - Learning Rate: 0.010000\n"
          ]
        },
        {
          "output_type": "stream",
          "name": "stderr",
          "text": [
            "Training: 100%|██████████| 196/196 [00:17<00:00, 11.18it/s, loss=2.53, acc=34.3]\n"
          ]
        },
        {
          "output_type": "stream",
          "name": "stdout",
          "text": [
            "Train Loss: 2.5307, Train Acc: 34.26%, Test Loss: 2.1457, Test Acc: 43.20%, Time: 17.53s\n",
            "New best model saved with accuracy: 43.20%\n",
            "\n",
            "Epoch [28/100] - Learning Rate: 0.010000\n"
          ]
        },
        {
          "output_type": "stream",
          "name": "stderr",
          "text": [
            "Training: 100%|██████████| 196/196 [00:17<00:00, 11.36it/s, loss=2.51, acc=34.6]\n"
          ]
        },
        {
          "output_type": "stream",
          "name": "stdout",
          "text": [
            "Train Loss: 2.5073, Train Acc: 34.64%, Test Loss: 2.1290, Test Acc: 43.54%, Time: 17.25s\n",
            "New best model saved with accuracy: 43.54%\n",
            "\n",
            "Epoch [29/100] - Learning Rate: 0.010000\n"
          ]
        },
        {
          "output_type": "stream",
          "name": "stderr",
          "text": [
            "Training: 100%|██████████| 196/196 [00:18<00:00, 10.69it/s, loss=2.49, acc=35.2]\n"
          ]
        },
        {
          "output_type": "stream",
          "name": "stdout",
          "text": [
            "Train Loss: 2.4932, Train Acc: 35.20%, Test Loss: 2.0932, Test Acc: 44.57%, Time: 18.34s\n",
            "New best model saved with accuracy: 44.57%\n",
            "\n",
            "Epoch [30/100] - Learning Rate: 0.010000\n"
          ]
        },
        {
          "output_type": "stream",
          "name": "stderr",
          "text": [
            "Training: 100%|██████████| 196/196 [00:17<00:00, 11.28it/s, loss=2.47, acc=35.2]\n"
          ]
        },
        {
          "output_type": "stream",
          "name": "stdout",
          "text": [
            "Train Loss: 2.4737, Train Acc: 35.19%, Test Loss: 2.0654, Test Acc: 44.57%, Time: 17.37s\n",
            "\n",
            "Epoch [31/100] - Learning Rate: 0.010000\n"
          ]
        },
        {
          "output_type": "stream",
          "name": "stderr",
          "text": [
            "Training: 100%|██████████| 196/196 [00:18<00:00, 10.80it/s, loss=2.47, acc=35.4]\n"
          ]
        },
        {
          "output_type": "stream",
          "name": "stdout",
          "text": [
            "Train Loss: 2.4686, Train Acc: 35.44%, Test Loss: 2.0927, Test Acc: 44.42%, Time: 18.15s\n",
            "\n",
            "Epoch [32/100] - Learning Rate: 0.010000\n"
          ]
        },
        {
          "output_type": "stream",
          "name": "stderr",
          "text": [
            "Training: 100%|██████████| 196/196 [00:17<00:00, 11.23it/s, loss=2.45, acc=36]\n"
          ]
        },
        {
          "output_type": "stream",
          "name": "stdout",
          "text": [
            "Train Loss: 2.4450, Train Acc: 36.01%, Test Loss: 2.0900, Test Acc: 44.61%, Time: 17.46s\n",
            "New best model saved with accuracy: 44.61%\n",
            "\n",
            "Epoch [33/100] - Learning Rate: 0.010000\n"
          ]
        },
        {
          "output_type": "stream",
          "name": "stderr",
          "text": [
            "Training: 100%|██████████| 196/196 [00:17<00:00, 11.02it/s, loss=2.42, acc=36.5]\n"
          ]
        },
        {
          "output_type": "stream",
          "name": "stdout",
          "text": [
            "Train Loss: 2.4217, Train Acc: 36.53%, Test Loss: 2.0852, Test Acc: 44.28%, Time: 17.80s\n",
            "\n",
            "Epoch [34/100] - Learning Rate: 0.010000\n"
          ]
        },
        {
          "output_type": "stream",
          "name": "stderr",
          "text": [
            "Training: 100%|██████████| 196/196 [00:17<00:00, 11.41it/s, loss=2.41, acc=36.7]\n"
          ]
        },
        {
          "output_type": "stream",
          "name": "stdout",
          "text": [
            "Train Loss: 2.4142, Train Acc: 36.72%, Test Loss: 2.0706, Test Acc: 45.01%, Time: 17.18s\n",
            "New best model saved with accuracy: 45.01%\n",
            "\n",
            "Epoch [35/100] - Learning Rate: 0.010000\n"
          ]
        },
        {
          "output_type": "stream",
          "name": "stderr",
          "text": [
            "Training: 100%|██████████| 196/196 [00:18<00:00, 10.83it/s, loss=2.4, acc=37.1]\n"
          ]
        },
        {
          "output_type": "stream",
          "name": "stdout",
          "text": [
            "Train Loss: 2.4006, Train Acc: 37.10%, Test Loss: 1.9937, Test Acc: 46.44%, Time: 18.10s\n",
            "New best model saved with accuracy: 46.44%\n",
            "\n",
            "Epoch [36/100] - Learning Rate: 0.010000\n"
          ]
        },
        {
          "output_type": "stream",
          "name": "stderr",
          "text": [
            "Training: 100%|██████████| 196/196 [00:17<00:00, 11.40it/s, loss=2.38, acc=37.5]\n"
          ]
        },
        {
          "output_type": "stream",
          "name": "stdout",
          "text": [
            "Train Loss: 2.3812, Train Acc: 37.54%, Test Loss: 2.0354, Test Acc: 45.45%, Time: 17.19s\n",
            "\n",
            "Epoch [37/100] - Learning Rate: 0.010000\n"
          ]
        },
        {
          "output_type": "stream",
          "name": "stderr",
          "text": [
            "Training: 100%|██████████| 196/196 [00:17<00:00, 11.35it/s, loss=2.38, acc=37.7]\n"
          ]
        },
        {
          "output_type": "stream",
          "name": "stdout",
          "text": [
            "Train Loss: 2.3789, Train Acc: 37.72%, Test Loss: 2.0717, Test Acc: 44.16%, Time: 17.27s\n",
            "\n",
            "Epoch [38/100] - Learning Rate: 0.010000\n"
          ]
        },
        {
          "output_type": "stream",
          "name": "stderr",
          "text": [
            "Training: 100%|██████████| 196/196 [00:18<00:00, 10.83it/s, loss=2.37, acc=37.6]\n"
          ]
        },
        {
          "output_type": "stream",
          "name": "stdout",
          "text": [
            "Train Loss: 2.3666, Train Acc: 37.64%, Test Loss: 1.9971, Test Acc: 46.83%, Time: 18.10s\n",
            "New best model saved with accuracy: 46.83%\n",
            "\n",
            "Epoch [39/100] - Learning Rate: 0.010000\n"
          ]
        },
        {
          "output_type": "stream",
          "name": "stderr",
          "text": [
            "Training: 100%|██████████| 196/196 [00:17<00:00, 11.20it/s, loss=2.35, acc=37.7]\n"
          ]
        },
        {
          "output_type": "stream",
          "name": "stdout",
          "text": [
            "Train Loss: 2.3488, Train Acc: 37.72%, Test Loss: 2.0157, Test Acc: 45.38%, Time: 17.50s\n",
            "\n",
            "Epoch [40/100] - Learning Rate: 0.010000\n"
          ]
        },
        {
          "output_type": "stream",
          "name": "stderr",
          "text": [
            "Training: 100%|██████████| 196/196 [00:18<00:00, 10.56it/s, loss=2.33, acc=38.5]\n"
          ]
        },
        {
          "output_type": "stream",
          "name": "stdout",
          "text": [
            "Train Loss: 2.3346, Train Acc: 38.49%, Test Loss: 1.9607, Test Acc: 47.50%, Time: 18.56s\n",
            "New best model saved with accuracy: 47.50%\n",
            "\n",
            "Epoch [41/100] - Learning Rate: 0.010000\n"
          ]
        },
        {
          "output_type": "stream",
          "name": "stderr",
          "text": [
            "Training: 100%|██████████| 196/196 [00:18<00:00, 10.71it/s, loss=2.32, acc=38.8]\n"
          ]
        },
        {
          "output_type": "stream",
          "name": "stdout",
          "text": [
            "Train Loss: 2.3213, Train Acc: 38.81%, Test Loss: 1.9843, Test Acc: 45.98%, Time: 18.31s\n",
            "\n",
            "Epoch [42/100] - Learning Rate: 0.010000\n"
          ]
        },
        {
          "output_type": "stream",
          "name": "stderr",
          "text": [
            "Training: 100%|██████████| 196/196 [00:18<00:00, 10.59it/s, loss=2.32, acc=38.8]\n"
          ]
        },
        {
          "output_type": "stream",
          "name": "stdout",
          "text": [
            "Train Loss: 2.3173, Train Acc: 38.78%, Test Loss: 2.0470, Test Acc: 45.82%, Time: 18.52s\n",
            "\n",
            "Epoch [43/100] - Learning Rate: 0.010000\n"
          ]
        },
        {
          "output_type": "stream",
          "name": "stderr",
          "text": [
            "Training: 100%|██████████| 196/196 [00:19<00:00, 10.28it/s, loss=2.3, acc=39.3]\n"
          ]
        },
        {
          "output_type": "stream",
          "name": "stdout",
          "text": [
            "Train Loss: 2.2958, Train Acc: 39.26%, Test Loss: 1.9886, Test Acc: 46.15%, Time: 19.06s\n",
            "\n",
            "Epoch [44/100] - Learning Rate: 0.010000\n"
          ]
        },
        {
          "output_type": "stream",
          "name": "stderr",
          "text": [
            "Training: 100%|██████████| 196/196 [00:17<00:00, 11.04it/s, loss=2.29, acc=39.6]\n"
          ]
        },
        {
          "output_type": "stream",
          "name": "stdout",
          "text": [
            "Train Loss: 2.2853, Train Acc: 39.57%, Test Loss: 1.9747, Test Acc: 47.76%, Time: 17.76s\n",
            "New best model saved with accuracy: 47.76%\n",
            "\n",
            "Epoch [45/100] - Learning Rate: 0.010000\n"
          ]
        },
        {
          "output_type": "stream",
          "name": "stderr",
          "text": [
            "Training: 100%|██████████| 196/196 [00:18<00:00, 10.47it/s, loss=2.27, acc=39.5]\n"
          ]
        },
        {
          "output_type": "stream",
          "name": "stdout",
          "text": [
            "Train Loss: 2.2732, Train Acc: 39.50%, Test Loss: 2.0012, Test Acc: 46.23%, Time: 18.72s\n",
            "\n",
            "Epoch [46/100] - Learning Rate: 0.010000\n"
          ]
        },
        {
          "output_type": "stream",
          "name": "stderr",
          "text": [
            "Training: 100%|██████████| 196/196 [00:17<00:00, 11.01it/s, loss=2.28, acc=39.9]\n"
          ]
        },
        {
          "output_type": "stream",
          "name": "stdout",
          "text": [
            "Train Loss: 2.2759, Train Acc: 39.86%, Test Loss: 1.9399, Test Acc: 47.09%, Time: 17.80s\n",
            "\n",
            "Epoch [47/100] - Learning Rate: 0.010000\n"
          ]
        },
        {
          "output_type": "stream",
          "name": "stderr",
          "text": [
            "Training: 100%|██████████| 196/196 [00:18<00:00, 10.83it/s, loss=2.26, acc=39.9]\n"
          ]
        },
        {
          "output_type": "stream",
          "name": "stdout",
          "text": [
            "Train Loss: 2.2605, Train Acc: 39.88%, Test Loss: 1.9457, Test Acc: 47.84%, Time: 18.10s\n",
            "New best model saved with accuracy: 47.84%\n",
            "\n",
            "Epoch [48/100] - Learning Rate: 0.010000\n"
          ]
        },
        {
          "output_type": "stream",
          "name": "stderr",
          "text": [
            "Training: 100%|██████████| 196/196 [00:18<00:00, 10.83it/s, loss=2.25, acc=40.2]\n"
          ]
        },
        {
          "output_type": "stream",
          "name": "stdout",
          "text": [
            "Train Loss: 2.2541, Train Acc: 40.16%, Test Loss: 1.9811, Test Acc: 46.66%, Time: 18.11s\n",
            "\n",
            "Epoch [49/100] - Learning Rate: 0.010000\n"
          ]
        },
        {
          "output_type": "stream",
          "name": "stderr",
          "text": [
            "Training: 100%|██████████| 196/196 [00:17<00:00, 10.98it/s, loss=2.24, acc=40.4]\n"
          ]
        },
        {
          "output_type": "stream",
          "name": "stdout",
          "text": [
            "Train Loss: 2.2409, Train Acc: 40.45%, Test Loss: 1.9259, Test Acc: 48.56%, Time: 17.86s\n",
            "New best model saved with accuracy: 48.56%\n",
            "\n",
            "Epoch [50/100] - Learning Rate: 0.010000\n"
          ]
        },
        {
          "output_type": "stream",
          "name": "stderr",
          "text": [
            "Training: 100%|██████████| 196/196 [00:18<00:00, 10.50it/s, loss=2.24, acc=40.5]\n"
          ]
        },
        {
          "output_type": "stream",
          "name": "stdout",
          "text": [
            "Train Loss: 2.2350, Train Acc: 40.51%, Test Loss: 1.9218, Test Acc: 47.75%, Time: 18.67s\n",
            "\n",
            "Epoch [51/100] - Learning Rate: 0.001000\n"
          ]
        },
        {
          "output_type": "stream",
          "name": "stderr",
          "text": [
            "Training: 100%|██████████| 196/196 [00:17<00:00, 11.17it/s, loss=2.14, acc=42.7]\n"
          ]
        },
        {
          "output_type": "stream",
          "name": "stdout",
          "text": [
            "Train Loss: 2.1368, Train Acc: 42.73%, Test Loss: 1.7980, Test Acc: 51.43%, Time: 17.55s\n",
            "New best model saved with accuracy: 51.43%\n",
            "\n",
            "Epoch [52/100] - Learning Rate: 0.001000\n"
          ]
        },
        {
          "output_type": "stream",
          "name": "stderr",
          "text": [
            "Training: 100%|██████████| 196/196 [00:18<00:00, 10.72it/s, loss=2.11, acc=43.3]\n"
          ]
        },
        {
          "output_type": "stream",
          "name": "stdout",
          "text": [
            "Train Loss: 2.1118, Train Acc: 43.35%, Test Loss: 1.7874, Test Acc: 51.56%, Time: 18.29s\n",
            "New best model saved with accuracy: 51.56%\n",
            "\n",
            "Epoch [53/100] - Learning Rate: 0.001000\n"
          ]
        },
        {
          "output_type": "stream",
          "name": "stderr",
          "text": [
            "Training: 100%|██████████| 196/196 [00:17<00:00, 11.10it/s, loss=2.1, acc=43.5]\n"
          ]
        },
        {
          "output_type": "stream",
          "name": "stdout",
          "text": [
            "Train Loss: 2.1014, Train Acc: 43.48%, Test Loss: 1.7815, Test Acc: 51.56%, Time: 17.66s\n",
            "\n",
            "Epoch [54/100] - Learning Rate: 0.001000\n"
          ]
        },
        {
          "output_type": "stream",
          "name": "stderr",
          "text": [
            "Training: 100%|██████████| 196/196 [00:17<00:00, 11.04it/s, loss=2.09, acc=43.5]\n"
          ]
        },
        {
          "output_type": "stream",
          "name": "stdout",
          "text": [
            "Train Loss: 2.0896, Train Acc: 43.53%, Test Loss: 1.7788, Test Acc: 51.62%, Time: 17.75s\n",
            "New best model saved with accuracy: 51.62%\n",
            "\n",
            "Epoch [55/100] - Learning Rate: 0.001000\n"
          ]
        },
        {
          "output_type": "stream",
          "name": "stderr",
          "text": [
            "Training: 100%|██████████| 196/196 [00:18<00:00, 10.48it/s, loss=2.09, acc=43.9]\n"
          ]
        },
        {
          "output_type": "stream",
          "name": "stdout",
          "text": [
            "Train Loss: 2.0864, Train Acc: 43.91%, Test Loss: 1.7726, Test Acc: 51.68%, Time: 18.70s\n",
            "New best model saved with accuracy: 51.68%\n",
            "\n",
            "Epoch [56/100] - Learning Rate: 0.001000\n"
          ]
        },
        {
          "output_type": "stream",
          "name": "stderr",
          "text": [
            "Training: 100%|██████████| 196/196 [00:17<00:00, 11.01it/s, loss=2.08, acc=44]\n"
          ]
        },
        {
          "output_type": "stream",
          "name": "stdout",
          "text": [
            "Train Loss: 2.0765, Train Acc: 44.01%, Test Loss: 1.7659, Test Acc: 51.83%, Time: 17.81s\n",
            "New best model saved with accuracy: 51.83%\n",
            "\n",
            "Epoch [57/100] - Learning Rate: 0.001000\n"
          ]
        },
        {
          "output_type": "stream",
          "name": "stderr",
          "text": [
            "Training: 100%|██████████| 196/196 [00:18<00:00, 10.46it/s, loss=2.07, acc=44.1]\n"
          ]
        },
        {
          "output_type": "stream",
          "name": "stdout",
          "text": [
            "Train Loss: 2.0727, Train Acc: 44.09%, Test Loss: 1.7718, Test Acc: 51.70%, Time: 18.73s\n",
            "\n",
            "Epoch [58/100] - Learning Rate: 0.001000\n"
          ]
        },
        {
          "output_type": "stream",
          "name": "stderr",
          "text": [
            "Training: 100%|██████████| 196/196 [00:17<00:00, 11.09it/s, loss=2.08, acc=44.1]\n"
          ]
        },
        {
          "output_type": "stream",
          "name": "stdout",
          "text": [
            "Train Loss: 2.0781, Train Acc: 44.12%, Test Loss: 1.7655, Test Acc: 52.04%, Time: 17.68s\n",
            "New best model saved with accuracy: 52.04%\n",
            "\n",
            "Epoch [59/100] - Learning Rate: 0.001000\n"
          ]
        },
        {
          "output_type": "stream",
          "name": "stderr",
          "text": [
            "Training: 100%|██████████| 196/196 [00:18<00:00, 10.65it/s, loss=2.07, acc=44.3]\n"
          ]
        },
        {
          "output_type": "stream",
          "name": "stdout",
          "text": [
            "Train Loss: 2.0718, Train Acc: 44.28%, Test Loss: 1.7612, Test Acc: 52.09%, Time: 18.41s\n",
            "New best model saved with accuracy: 52.09%\n",
            "\n",
            "Epoch [60/100] - Learning Rate: 0.001000\n"
          ]
        },
        {
          "output_type": "stream",
          "name": "stderr",
          "text": [
            "Training: 100%|██████████| 196/196 [00:18<00:00, 10.57it/s, loss=2.07, acc=44.2]\n"
          ]
        },
        {
          "output_type": "stream",
          "name": "stdout",
          "text": [
            "Train Loss: 2.0684, Train Acc: 44.18%, Test Loss: 1.7551, Test Acc: 52.12%, Time: 18.55s\n",
            "New best model saved with accuracy: 52.12%\n",
            "\n",
            "Epoch [61/100] - Learning Rate: 0.000100\n"
          ]
        },
        {
          "output_type": "stream",
          "name": "stderr",
          "text": [
            "Training: 100%|██████████| 196/196 [00:17<00:00, 11.12it/s, loss=2.05, acc=44.6]\n"
          ]
        },
        {
          "output_type": "stream",
          "name": "stdout",
          "text": [
            "Train Loss: 2.0539, Train Acc: 44.64%, Test Loss: 1.7511, Test Acc: 52.28%, Time: 17.64s\n",
            "New best model saved with accuracy: 52.28%\n",
            "\n",
            "Epoch [62/100] - Learning Rate: 0.000100\n"
          ]
        },
        {
          "output_type": "stream",
          "name": "stderr",
          "text": [
            "Training: 100%|██████████| 196/196 [00:18<00:00, 10.43it/s, loss=2.05, acc=44.6]\n"
          ]
        },
        {
          "output_type": "stream",
          "name": "stdout",
          "text": [
            "Train Loss: 2.0534, Train Acc: 44.64%, Test Loss: 1.7510, Test Acc: 52.44%, Time: 18.79s\n",
            "New best model saved with accuracy: 52.44%\n",
            "\n",
            "Epoch [63/100] - Learning Rate: 0.000100\n"
          ]
        },
        {
          "output_type": "stream",
          "name": "stderr",
          "text": [
            "Training: 100%|██████████| 196/196 [00:17<00:00, 11.12it/s, loss=2.04, acc=44.7]\n"
          ]
        },
        {
          "output_type": "stream",
          "name": "stdout",
          "text": [
            "Train Loss: 2.0419, Train Acc: 44.66%, Test Loss: 1.7508, Test Acc: 52.54%, Time: 17.64s\n",
            "New best model saved with accuracy: 52.54%\n",
            "\n",
            "Epoch [64/100] - Learning Rate: 0.000100\n"
          ]
        },
        {
          "output_type": "stream",
          "name": "stderr",
          "text": [
            "Training: 100%|██████████| 196/196 [00:18<00:00, 10.66it/s, loss=2.05, acc=44.7]\n"
          ]
        },
        {
          "output_type": "stream",
          "name": "stdout",
          "text": [
            "Train Loss: 2.0484, Train Acc: 44.68%, Test Loss: 1.7508, Test Acc: 52.42%, Time: 18.39s\n",
            "\n",
            "Epoch [65/100] - Learning Rate: 0.000100\n"
          ]
        },
        {
          "output_type": "stream",
          "name": "stderr",
          "text": [
            "Training: 100%|██████████| 196/196 [00:18<00:00, 10.38it/s, loss=2.05, acc=44.6]\n"
          ]
        },
        {
          "output_type": "stream",
          "name": "stdout",
          "text": [
            "Train Loss: 2.0472, Train Acc: 44.62%, Test Loss: 1.7484, Test Acc: 52.35%, Time: 18.88s\n",
            "\n",
            "Epoch [66/100] - Learning Rate: 0.000100\n"
          ]
        },
        {
          "output_type": "stream",
          "name": "stderr",
          "text": [
            "Training: 100%|██████████| 196/196 [00:17<00:00, 11.09it/s, loss=2.05, acc=44.8]\n"
          ]
        },
        {
          "output_type": "stream",
          "name": "stdout",
          "text": [
            "Train Loss: 2.0529, Train Acc: 44.79%, Test Loss: 1.7480, Test Acc: 52.54%, Time: 17.68s\n",
            "\n",
            "Epoch [67/100] - Learning Rate: 0.000100\n"
          ]
        },
        {
          "output_type": "stream",
          "name": "stderr",
          "text": [
            "Training: 100%|██████████| 196/196 [00:18<00:00, 10.33it/s, loss=2.05, acc=44.7]\n"
          ]
        },
        {
          "output_type": "stream",
          "name": "stdout",
          "text": [
            "Train Loss: 2.0515, Train Acc: 44.74%, Test Loss: 1.7487, Test Acc: 52.49%, Time: 18.97s\n",
            "\n",
            "Epoch [68/100] - Learning Rate: 0.000100\n"
          ]
        },
        {
          "output_type": "stream",
          "name": "stderr",
          "text": [
            "Training: 100%|██████████| 196/196 [00:17<00:00, 11.04it/s, loss=2.04, acc=44.9]\n"
          ]
        },
        {
          "output_type": "stream",
          "name": "stdout",
          "text": [
            "Train Loss: 2.0426, Train Acc: 44.86%, Test Loss: 1.7482, Test Acc: 52.50%, Time: 17.76s\n",
            "\n",
            "Epoch [69/100] - Learning Rate: 0.000100\n"
          ]
        },
        {
          "output_type": "stream",
          "name": "stderr",
          "text": [
            "Training: 100%|██████████| 196/196 [00:17<00:00, 10.98it/s, loss=2.05, acc=44.8]\n"
          ]
        },
        {
          "output_type": "stream",
          "name": "stdout",
          "text": [
            "Train Loss: 2.0469, Train Acc: 44.77%, Test Loss: 1.7480, Test Acc: 52.50%, Time: 17.85s\n",
            "\n",
            "Epoch [70/100] - Learning Rate: 0.000100\n"
          ]
        },
        {
          "output_type": "stream",
          "name": "stderr",
          "text": [
            "Training: 100%|██████████| 196/196 [00:18<00:00, 10.42it/s, loss=2.04, acc=44.9]\n"
          ]
        },
        {
          "output_type": "stream",
          "name": "stdout",
          "text": [
            "Train Loss: 2.0383, Train Acc: 44.87%, Test Loss: 1.7488, Test Acc: 52.42%, Time: 18.81s\n",
            "\n",
            "Epoch [71/100] - Learning Rate: 0.000100\n"
          ]
        },
        {
          "output_type": "stream",
          "name": "stderr",
          "text": [
            "Training: 100%|██████████| 196/196 [00:17<00:00, 10.90it/s, loss=2.05, acc=44.7]\n"
          ]
        },
        {
          "output_type": "stream",
          "name": "stdout",
          "text": [
            "Train Loss: 2.0460, Train Acc: 44.69%, Test Loss: 1.7480, Test Acc: 52.45%, Time: 17.99s\n",
            "\n",
            "Epoch [72/100] - Learning Rate: 0.000100\n"
          ]
        },
        {
          "output_type": "stream",
          "name": "stderr",
          "text": [
            "Training: 100%|██████████| 196/196 [00:18<00:00, 10.37it/s, loss=2.04, acc=44.8]\n"
          ]
        },
        {
          "output_type": "stream",
          "name": "stdout",
          "text": [
            "Train Loss: 2.0443, Train Acc: 44.81%, Test Loss: 1.7478, Test Acc: 52.48%, Time: 18.91s\n",
            "\n",
            "Epoch [73/100] - Learning Rate: 0.000100\n"
          ]
        },
        {
          "output_type": "stream",
          "name": "stderr",
          "text": [
            "Training: 100%|██████████| 196/196 [00:17<00:00, 10.96it/s, loss=2.05, acc=44.9]\n"
          ]
        },
        {
          "output_type": "stream",
          "name": "stdout",
          "text": [
            "Train Loss: 2.0513, Train Acc: 44.92%, Test Loss: 1.7479, Test Acc: 52.58%, Time: 17.89s\n",
            "New best model saved with accuracy: 52.58%\n",
            "\n",
            "Epoch [74/100] - Learning Rate: 0.000100\n"
          ]
        },
        {
          "output_type": "stream",
          "name": "stderr",
          "text": [
            "Training: 100%|██████████| 196/196 [00:18<00:00, 10.80it/s, loss=2.04, acc=44.9]\n"
          ]
        },
        {
          "output_type": "stream",
          "name": "stdout",
          "text": [
            "Train Loss: 2.0442, Train Acc: 44.93%, Test Loss: 1.7480, Test Acc: 52.50%, Time: 18.16s\n",
            "\n",
            "Epoch [75/100] - Learning Rate: 0.000100\n"
          ]
        },
        {
          "output_type": "stream",
          "name": "stderr",
          "text": [
            "Training: 100%|██████████| 196/196 [00:18<00:00, 10.33it/s, loss=2.04, acc=45]\n"
          ]
        },
        {
          "output_type": "stream",
          "name": "stdout",
          "text": [
            "Train Loss: 2.0368, Train Acc: 45.02%, Test Loss: 1.7459, Test Acc: 52.53%, Time: 18.99s\n",
            "\n",
            "Epoch [76/100] - Learning Rate: 0.000100\n"
          ]
        },
        {
          "output_type": "stream",
          "name": "stderr",
          "text": [
            "Training: 100%|██████████| 196/196 [00:18<00:00, 10.84it/s, loss=2.04, acc=44.9]\n"
          ]
        },
        {
          "output_type": "stream",
          "name": "stdout",
          "text": [
            "Train Loss: 2.0439, Train Acc: 44.93%, Test Loss: 1.7458, Test Acc: 52.62%, Time: 18.09s\n",
            "New best model saved with accuracy: 52.62%\n",
            "\n",
            "Epoch [77/100] - Learning Rate: 0.000100\n"
          ]
        },
        {
          "output_type": "stream",
          "name": "stderr",
          "text": [
            "Training: 100%|██████████| 196/196 [00:18<00:00, 10.38it/s, loss=2.04, acc=44.7]\n"
          ]
        },
        {
          "output_type": "stream",
          "name": "stdout",
          "text": [
            "Train Loss: 2.0416, Train Acc: 44.75%, Test Loss: 1.7462, Test Acc: 52.50%, Time: 18.89s\n",
            "\n",
            "Epoch [78/100] - Learning Rate: 0.000100\n"
          ]
        },
        {
          "output_type": "stream",
          "name": "stderr",
          "text": [
            "Training: 100%|██████████| 196/196 [00:17<00:00, 11.18it/s, loss=2.04, acc=44.8]\n"
          ]
        },
        {
          "output_type": "stream",
          "name": "stdout",
          "text": [
            "Train Loss: 2.0397, Train Acc: 44.84%, Test Loss: 1.7451, Test Acc: 52.39%, Time: 17.53s\n",
            "\n",
            "Epoch [79/100] - Learning Rate: 0.000100\n"
          ]
        },
        {
          "output_type": "stream",
          "name": "stderr",
          "text": [
            "Training: 100%|██████████| 196/196 [00:18<00:00, 10.80it/s, loss=2.04, acc=45.2]\n"
          ]
        },
        {
          "output_type": "stream",
          "name": "stdout",
          "text": [
            "Train Loss: 2.0388, Train Acc: 45.18%, Test Loss: 1.7443, Test Acc: 52.33%, Time: 18.16s\n",
            "\n",
            "Epoch [80/100] - Learning Rate: 0.000100\n"
          ]
        },
        {
          "output_type": "stream",
          "name": "stderr",
          "text": [
            "Training: 100%|██████████| 196/196 [00:18<00:00, 10.68it/s, loss=2.04, acc=45.3]\n"
          ]
        },
        {
          "output_type": "stream",
          "name": "stdout",
          "text": [
            "Train Loss: 2.0366, Train Acc: 45.27%, Test Loss: 1.7447, Test Acc: 52.50%, Time: 18.36s\n",
            "\n",
            "Epoch [81/100] - Learning Rate: 0.000100\n"
          ]
        },
        {
          "output_type": "stream",
          "name": "stderr",
          "text": [
            "Training: 100%|██████████| 196/196 [00:17<00:00, 11.19it/s, loss=2.04, acc=45]\n"
          ]
        },
        {
          "output_type": "stream",
          "name": "stdout",
          "text": [
            "Train Loss: 2.0362, Train Acc: 45.00%, Test Loss: 1.7442, Test Acc: 52.60%, Time: 17.53s\n",
            "\n",
            "Epoch [82/100] - Learning Rate: 0.000100\n"
          ]
        },
        {
          "output_type": "stream",
          "name": "stderr",
          "text": [
            "Training: 100%|██████████| 196/196 [00:18<00:00, 10.32it/s, loss=2.04, acc=45.1]\n"
          ]
        },
        {
          "output_type": "stream",
          "name": "stdout",
          "text": [
            "Train Loss: 2.0395, Train Acc: 45.08%, Test Loss: 1.7442, Test Acc: 52.40%, Time: 18.99s\n",
            "\n",
            "Epoch [83/100] - Learning Rate: 0.000100\n"
          ]
        },
        {
          "output_type": "stream",
          "name": "stderr",
          "text": [
            "Training: 100%|██████████| 196/196 [00:17<00:00, 10.98it/s, loss=2.03, acc=44.8]\n"
          ]
        },
        {
          "output_type": "stream",
          "name": "stdout",
          "text": [
            "Train Loss: 2.0336, Train Acc: 44.81%, Test Loss: 1.7443, Test Acc: 52.58%, Time: 17.86s\n",
            "\n",
            "Epoch [84/100] - Learning Rate: 0.000100\n"
          ]
        },
        {
          "output_type": "stream",
          "name": "stderr",
          "text": [
            "Training: 100%|██████████| 196/196 [00:18<00:00, 10.46it/s, loss=2.04, acc=44.9]\n"
          ]
        },
        {
          "output_type": "stream",
          "name": "stdout",
          "text": [
            "Train Loss: 2.0439, Train Acc: 44.85%, Test Loss: 1.7448, Test Acc: 52.57%, Time: 18.74s\n",
            "\n",
            "Epoch [85/100] - Learning Rate: 0.000100\n"
          ]
        },
        {
          "output_type": "stream",
          "name": "stderr",
          "text": [
            "Training: 100%|██████████| 196/196 [00:17<00:00, 10.99it/s, loss=2.04, acc=45.2]\n"
          ]
        },
        {
          "output_type": "stream",
          "name": "stdout",
          "text": [
            "Train Loss: 2.0357, Train Acc: 45.22%, Test Loss: 1.7425, Test Acc: 52.57%, Time: 17.84s\n",
            "\n",
            "Epoch [86/100] - Learning Rate: 0.000100\n"
          ]
        },
        {
          "output_type": "stream",
          "name": "stderr",
          "text": [
            "Training: 100%|██████████| 196/196 [00:17<00:00, 11.08it/s, loss=2.04, acc=44.9]\n"
          ]
        },
        {
          "output_type": "stream",
          "name": "stdout",
          "text": [
            "Train Loss: 2.0388, Train Acc: 44.91%, Test Loss: 1.7431, Test Acc: 52.56%, Time: 17.69s\n",
            "\n",
            "Epoch [87/100] - Learning Rate: 0.000100\n"
          ]
        },
        {
          "output_type": "stream",
          "name": "stderr",
          "text": [
            "Training: 100%|██████████| 196/196 [00:18<00:00, 10.50it/s, loss=2.04, acc=44.9]\n"
          ]
        },
        {
          "output_type": "stream",
          "name": "stdout",
          "text": [
            "Train Loss: 2.0373, Train Acc: 44.91%, Test Loss: 1.7433, Test Acc: 52.64%, Time: 18.66s\n",
            "New best model saved with accuracy: 52.64%\n",
            "\n",
            "Epoch [88/100] - Learning Rate: 0.000100\n"
          ]
        },
        {
          "output_type": "stream",
          "name": "stderr",
          "text": [
            "Training: 100%|██████████| 196/196 [00:17<00:00, 11.13it/s, loss=2.04, acc=44.7]\n"
          ]
        },
        {
          "output_type": "stream",
          "name": "stdout",
          "text": [
            "Train Loss: 2.0425, Train Acc: 44.70%, Test Loss: 1.7436, Test Acc: 52.59%, Time: 17.62s\n",
            "\n",
            "Epoch [89/100] - Learning Rate: 0.000100\n"
          ]
        },
        {
          "output_type": "stream",
          "name": "stderr",
          "text": [
            "Training: 100%|██████████| 196/196 [00:18<00:00, 10.50it/s, loss=2.03, acc=44.8]\n"
          ]
        },
        {
          "output_type": "stream",
          "name": "stdout",
          "text": [
            "Train Loss: 2.0333, Train Acc: 44.84%, Test Loss: 1.7437, Test Acc: 52.49%, Time: 18.67s\n",
            "\n",
            "Epoch [90/100] - Learning Rate: 0.000100\n"
          ]
        },
        {
          "output_type": "stream",
          "name": "stderr",
          "text": [
            "Training: 100%|██████████| 196/196 [00:17<00:00, 11.06it/s, loss=2.04, acc=44.9]\n"
          ]
        },
        {
          "output_type": "stream",
          "name": "stdout",
          "text": [
            "Train Loss: 2.0416, Train Acc: 44.93%, Test Loss: 1.7432, Test Acc: 52.46%, Time: 17.72s\n",
            "\n",
            "Epoch [91/100] - Learning Rate: 0.000100\n"
          ]
        },
        {
          "output_type": "stream",
          "name": "stderr",
          "text": [
            "Training: 100%|██████████| 196/196 [00:17<00:00, 11.03it/s, loss=2.03, acc=44.9]\n"
          ]
        },
        {
          "output_type": "stream",
          "name": "stdout",
          "text": [
            "Train Loss: 2.0308, Train Acc: 44.86%, Test Loss: 1.7414, Test Acc: 52.39%, Time: 17.78s\n",
            "\n",
            "Epoch [92/100] - Learning Rate: 0.000100\n"
          ]
        },
        {
          "output_type": "stream",
          "name": "stderr",
          "text": [
            "Training: 100%|██████████| 196/196 [00:18<00:00, 10.58it/s, loss=2.03, acc=45.3]\n"
          ]
        },
        {
          "output_type": "stream",
          "name": "stdout",
          "text": [
            "Train Loss: 2.0338, Train Acc: 45.26%, Test Loss: 1.7423, Test Acc: 52.50%, Time: 18.54s\n",
            "\n",
            "Epoch [93/100] - Learning Rate: 0.000100\n"
          ]
        },
        {
          "output_type": "stream",
          "name": "stderr",
          "text": [
            "Training: 100%|██████████| 196/196 [00:17<00:00, 11.14it/s, loss=2.03, acc=45.1]\n"
          ]
        },
        {
          "output_type": "stream",
          "name": "stdout",
          "text": [
            "Train Loss: 2.0322, Train Acc: 45.09%, Test Loss: 1.7422, Test Acc: 52.71%, Time: 17.59s\n",
            "New best model saved with accuracy: 52.71%\n",
            "\n",
            "Epoch [94/100] - Learning Rate: 0.000100\n"
          ]
        },
        {
          "output_type": "stream",
          "name": "stderr",
          "text": [
            "Training: 100%|██████████| 196/196 [00:18<00:00, 10.42it/s, loss=2.04, acc=45]\n"
          ]
        },
        {
          "output_type": "stream",
          "name": "stdout",
          "text": [
            "Train Loss: 2.0415, Train Acc: 45.00%, Test Loss: 1.7421, Test Acc: 52.68%, Time: 18.82s\n",
            "\n",
            "Epoch [95/100] - Learning Rate: 0.000100\n"
          ]
        },
        {
          "output_type": "stream",
          "name": "stderr",
          "text": [
            "Training: 100%|██████████| 196/196 [00:17<00:00, 11.03it/s, loss=2.04, acc=45]\n"
          ]
        },
        {
          "output_type": "stream",
          "name": "stdout",
          "text": [
            "Train Loss: 2.0384, Train Acc: 45.02%, Test Loss: 1.7422, Test Acc: 52.68%, Time: 17.77s\n",
            "\n",
            "Epoch [96/100] - Learning Rate: 0.000100\n"
          ]
        },
        {
          "output_type": "stream",
          "name": "stderr",
          "text": [
            "Training: 100%|██████████| 196/196 [00:18<00:00, 10.66it/s, loss=2.04, acc=44.7]\n"
          ]
        },
        {
          "output_type": "stream",
          "name": "stdout",
          "text": [
            "Train Loss: 2.0406, Train Acc: 44.72%, Test Loss: 1.7428, Test Acc: 52.58%, Time: 18.40s\n",
            "\n",
            "Epoch [97/100] - Learning Rate: 0.000100\n"
          ]
        },
        {
          "output_type": "stream",
          "name": "stderr",
          "text": [
            "Training: 100%|██████████| 196/196 [00:17<00:00, 10.91it/s, loss=2.04, acc=44.9]\n"
          ]
        },
        {
          "output_type": "stream",
          "name": "stdout",
          "text": [
            "Train Loss: 2.0356, Train Acc: 44.94%, Test Loss: 1.7416, Test Acc: 52.63%, Time: 17.98s\n",
            "\n",
            "Epoch [98/100] - Learning Rate: 0.000100\n"
          ]
        },
        {
          "output_type": "stream",
          "name": "stderr",
          "text": [
            "Training: 100%|██████████| 196/196 [00:17<00:00, 11.09it/s, loss=2.03, acc=45.3]\n"
          ]
        },
        {
          "output_type": "stream",
          "name": "stdout",
          "text": [
            "Train Loss: 2.0251, Train Acc: 45.28%, Test Loss: 1.7421, Test Acc: 52.57%, Time: 17.68s\n",
            "\n",
            "Epoch [99/100] - Learning Rate: 0.000100\n"
          ]
        },
        {
          "output_type": "stream",
          "name": "stderr",
          "text": [
            "Training: 100%|██████████| 196/196 [00:18<00:00, 10.32it/s, loss=2.04, acc=45]\n"
          ]
        },
        {
          "output_type": "stream",
          "name": "stdout",
          "text": [
            "Train Loss: 2.0356, Train Acc: 45.03%, Test Loss: 1.7408, Test Acc: 52.65%, Time: 18.99s\n",
            "\n",
            "Epoch [100/100] - Learning Rate: 0.000100\n"
          ]
        },
        {
          "output_type": "stream",
          "name": "stderr",
          "text": [
            "Training: 100%|██████████| 196/196 [00:17<00:00, 11.22it/s, loss=2.04, acc=45]\n"
          ]
        },
        {
          "output_type": "stream",
          "name": "stdout",
          "text": [
            "Train Loss: 2.0356, Train Acc: 44.95%, Test Loss: 1.7418, Test Acc: 52.38%, Time: 17.47s\n",
            "Best model loaded with accuracy: 52.71%\n"
          ]
        },
        {
          "output_type": "display_data",
          "data": {
            "text/plain": [
              "<Figure size 1800x500 with 3 Axes>"
            ],
            "image/png": "[encoded data removed]"
          },
          "metadata": {}
        },
        {
          "output_type": "stream",
          "name": "stdout",
          "text": [
            "Centralized benchmark completed!\n"
          ]
        }
      ],
      "source": [
        "import torch\n",
        "import torch.nn as nn\n",
        "import torchvision.transforms as transforms\n",
        "import torch.nn.functional as F\n",
        "from torchvision.datasets import CIFAR10, CIFAR100\n",
        "import torchvision.models as models\n",
        "from torch.utils.data import DataLoader\n",
        "\n",
        "from tqdm import tqdm\n",
        "import matplotlib.pyplot as plt\n",
        "import time\n",
        "import pickle\n",
        "import numpy as np\n",
        "import random\n",
        "\n",
        "print(\"PyTorch version:\", torch.__version__)\n",
        "device = torch.device(\"cuda:0\" if torch.cuda.is_available() else \"cpu\")\n",
        "print(f\"Using device: {device}\")\n",
        "\n",
        "# Seeding for reproducibility\n",
        "seed = 2025\n",
        "torch.manual_seed(seed)\n",
        "torch.cuda.manual_seed(seed)\n",
        "np.random.seed(seed)\n",
        "random.seed(seed)\n",
        "\n",
        "# transforms\n",
        "train_transform = transforms.Compose(\n",
        "    [\n",
        "        transforms.RandomCrop(32, padding=4),\n",
        "        transforms.RandomHorizontalFlip(),\n",
        "        transforms.ToTensor(),\n",
        "        transforms.Normalize((0.4914, 0.4822, 0.4465), (0.2023, 0.1994, 0.2010)),\n",
        "    ]\n",
        ")\n",
        "\n",
        "test_transform = transforms.Compose(\n",
        "    [\n",
        "        transforms.ToTensor(),\n",
        "        transforms.Normalize((0.4914, 0.4822, 0.4465), (0.2023, 0.1994, 0.2010)),\n",
        "    ]\n",
        ")\n",
        "\n",
        "\n",
        "# load data\n",
        "\n",
        "\n",
        "def load_data(dataset_name=\"cifar100\", batch_size=128, num_workers=2):\n",
        "    \"\"\"Enhanced data loading with stronger augmentation for CIFAR-100\"\"\"\n",
        "\n",
        "    # Better augmentation for CIFAR-100\n",
        "    train_transform = transforms.Compose(\n",
        "        [\n",
        "            transforms.RandomCrop(32, padding=4),\n",
        "            transforms.RandomHorizontalFlip(),\n",
        "            transforms.ToTensor(),\n",
        "            transforms.Normalize((0.4914, 0.4822, 0.4465), (0.2023, 0.1994, 0.2010)),\n",
        "        ]\n",
        "    )\n",
        "\n",
        "    test_transform = transforms.Compose(\n",
        "        [\n",
        "            transforms.ToTensor(),\n",
        "            transforms.Normalize((0.4914, 0.4822, 0.4465), (0.2023, 0.1994, 0.2010)),\n",
        "        ]\n",
        "    )\n",
        "\n",
        "    if dataset_name.lower() == \"cifar100\":\n",
        "        train_dataset = CIFAR100(\n",
        "            root=\"./data\", train=True, download=True, transform=train_transform\n",
        "        )\n",
        "        test_dataset = CIFAR100(\n",
        "            root=\"./data\", train=False, download=True, transform=test_transform\n",
        "        )\n",
        "        num_classes = 100\n",
        "    else:\n",
        "        raise ValueError(f\"Dataset {dataset_name} not supported in enhanced version\")\n",
        "\n",
        "    # Data loaders\n",
        "    train_loader = DataLoader(\n",
        "        train_dataset,\n",
        "        batch_size=batch_size,\n",
        "        shuffle=True,\n",
        "        num_workers=num_workers,\n",
        "    )\n",
        "\n",
        "    test_loader = DataLoader(\n",
        "        test_dataset,\n",
        "        batch_size=batch_size,\n",
        "        shuffle=False,\n",
        "        num_workers=num_workers,\n",
        "    )\n",
        "\n",
        "    return train_loader, test_loader, num_classes\n",
        "\n",
        "\n",
        "# model - LeNet5 from the paper [11]\n",
        "class LeNet5(nn.Module):\n",
        "    def __init__(self, num_classes=10):\n",
        "        super(LeNet5, self).__init__()\n",
        "        # Input: 3x32x32 (CIFAR has 3 color channels)\n",
        "        self.conv1 = nn.Conv2d(3, 6, kernel_size=5)  # Output: 6x28x28\n",
        "        self.pool1 = nn.MaxPool2d(kernel_size=2, stride=2)  # Output: 6x14x14\n",
        "        self.conv2 = nn.Conv2d(6, 16, kernel_size=5)  # Output: 16x10x10\n",
        "        self.pool2 = nn.MaxPool2d(kernel_size=2, stride=2)  # Output: 16x5x5\n",
        "\n",
        "        # fc layers\n",
        "        self.fc1 = nn.Linear(16 * 5 * 5, 120)\n",
        "        self.fc2 = nn.Linear(120, 84)\n",
        "        self.fc3 = nn.Linear(84, num_classes)\n",
        "\n",
        "    def forward(self, x):\n",
        "        x = self.pool1(F.relu(self.conv1(x)))\n",
        "        x = self.pool2(F.relu(self.conv2(x)))\n",
        "        x = x.view(-1, 16 * 5 * 5)  # flatten\n",
        "        x = F.relu(self.fc1(x))\n",
        "        x = F.relu(self.fc2(x))\n",
        "        x = self.fc3(x)\n",
        "        return x\n",
        "\n",
        "\n",
        "class ImprovedCNN(nn.Module):\n",
        "    def __init__(self, num_classes=100):\n",
        "        super(ImprovedCNN, self).__init__()\n",
        "        # First conv block\n",
        "        self.conv1 = nn.Conv2d(3, 64, kernel_size=5, padding=2)\n",
        "        self.bn1 = nn.BatchNorm2d(64)  # using BatchNorm for better training stability\n",
        "        self.pool1 = nn.MaxPool2d(kernel_size=2, stride=2)\n",
        "\n",
        "        # Second conv block\n",
        "        self.conv2 = nn.Conv2d(64, 64, kernel_size=5, padding=2)\n",
        "        self.bn2 = nn.BatchNorm2d(64)\n",
        "        self.pool2 = nn.MaxPool2d(kernel_size=2, stride=2)\n",
        "\n",
        "        # Fully connected layers\n",
        "        self.fc1 = nn.Linear(64 * 8 * 8, 384)\n",
        "        self.dropout1 = nn.Dropout(0.5)\n",
        "        self.fc2 = nn.Linear(384, 192)\n",
        "        self.dropout2 = nn.Dropout(0.5)\n",
        "        self.fc3 = nn.Linear(192, num_classes)\n",
        "\n",
        "    def forward(self, x):\n",
        "        # First conv block\n",
        "        x = self.pool1(F.relu(self.bn1(self.conv1(x))))\n",
        "\n",
        "        # Second conv block\n",
        "        x = self.pool2(F.relu(self.bn2(self.conv2(x))))\n",
        "\n",
        "        # Flatten and fully connected layers\n",
        "        x = x.view(-1, 64 * 8 * 8)\n",
        "        x = F.relu(self.fc1(x))\n",
        "        x = self.dropout1(x)\n",
        "        x = F.relu(self.fc2(x))\n",
        "        x = self.dropout2(x)\n",
        "        x = self.fc3(x)\n",
        "\n",
        "        return x\n",
        "\n",
        "\n",
        "def create_model(model_name, num_classes=100):\n",
        "    if model_name.lower() == \"improved_cnn\":\n",
        "        return ImprovedCNN(num_classes=num_classes)\n",
        "    elif model_name.lower() == \"lenet5\":\n",
        "        return LeNet5(num_classes=num_classes)\n",
        "    else:\n",
        "        raise ValueError(f\"Unknown model: {model_name}\")\n",
        "\n",
        "\n",
        "# train\n",
        "def train_epoch(model, train_loader, criterion, optimizer, device):\n",
        "    model.train()\n",
        "    running_loss = 0.0\n",
        "    correct = 0\n",
        "    total = 0\n",
        "\n",
        "    pbar = tqdm(train_loader, desc=\"Training\")\n",
        "\n",
        "    for inputs, labels in pbar:\n",
        "        inputs, labels = inputs.to(device), labels.to(device)\n",
        "\n",
        "        optimizer.zero_grad()\n",
        "        outputs = model(inputs)\n",
        "        loss = criterion(outputs, labels)\n",
        "        loss.backward()\n",
        "        optimizer.step()\n",
        "\n",
        "        running_loss += loss.item() * inputs.size(0)\n",
        "        _, predicted = outputs.max(1)\n",
        "        total += labels.size(0)\n",
        "        correct += predicted.eq(labels).sum().item()\n",
        "\n",
        "        # just a progress bar\n",
        "        pbar.set_postfix({\"loss\": running_loss / total, \"acc\": 100.0 * correct / total})\n",
        "\n",
        "    train_loss = running_loss / total\n",
        "    train_acc = 100.0 * correct / total\n",
        "\n",
        "    return train_loss, train_acc\n",
        "\n",
        "\n",
        "# eval\n",
        "def evaluate(model, test_loader, criterion, device):\n",
        "    model.eval()\n",
        "    running_loss = 0.0\n",
        "    correct = 0\n",
        "    total = 0\n",
        "\n",
        "    with torch.no_grad():\n",
        "        for inputs, labels in test_loader:\n",
        "            inputs, labels = inputs.to(device), labels.to(device)\n",
        "\n",
        "            outputs = model(inputs)\n",
        "            loss = criterion(outputs, labels)\n",
        "\n",
        "            running_loss += loss.item() * inputs.size(0)\n",
        "            _, predicted = outputs.max(1)\n",
        "            total += labels.size(0)\n",
        "            correct += predicted.eq(labels).sum().item()\n",
        "\n",
        "    test_loss = running_loss / total\n",
        "    test_acc = 100.0 * correct / total\n",
        "\n",
        "    return test_loss, test_acc\n",
        "\n",
        "\n",
        "# train config\n",
        "def train_centralized_model(\n",
        "    model_name=\"improved_cnn\",\n",
        "    dataset_name=\"cifar100\",\n",
        "    batch_size=256,\n",
        "    epochs=100,\n",
        "    lr=0.01,\n",
        "    momentum=0.9,\n",
        "    weight_decay=4e-4,\n",
        "    lr_scheduler=\"step\",\n",
        "    save_path=\"improved_cnn_model.pth\",\n",
        "):\n",
        "    # Load data\n",
        "    train_loader, test_loader, num_classes = load_data(\n",
        "        dataset_name=dataset_name, batch_size=batch_size\n",
        "    )\n",
        "\n",
        "    # Create model\n",
        "    model = create_model(model_name, num_classes=num_classes)\n",
        "    model = model.to(device)\n",
        "\n",
        "    # Print model parameters\n",
        "    total_params = sum(p.numel() for p in model.parameters())\n",
        "    print(f\"Total parameters: {total_params:,}\")\n",
        "\n",
        "    # Define loss function and optimizer\n",
        "    criterion = nn.CrossEntropyLoss()\n",
        "    optimizer = torch.optim.SGD(\n",
        "        model.parameters(), lr=lr, momentum=momentum, weight_decay=weight_decay\n",
        "    )\n",
        "\n",
        "    # Learning rate scheduler - step decay at specific epochs\n",
        "    if lr_scheduler == \"step\":\n",
        "        scheduler = torch.optim.lr_scheduler.MultiStepLR(\n",
        "            optimizer, milestones=[50, 60], gamma=0.1\n",
        "        )\n",
        "    elif lr_scheduler == \"cosine\":\n",
        "        scheduler = torch.optim.lr_scheduler.CosineAnnealingLR(optimizer, T_max=epochs)\n",
        "    else:\n",
        "        raise ValueError(f\"Unknown scheduler: {lr_scheduler}\")\n",
        "\n",
        "    # Training history\n",
        "    history = {\n",
        "        \"train_loss\": [],\n",
        "        \"train_acc\": [],\n",
        "        \"test_loss\": [],\n",
        "        \"test_acc\": [],\n",
        "        \"lr\": [],\n",
        "    }\n",
        "\n",
        "    # Track best accuracy\n",
        "    best_acc = 0.0\n",
        "\n",
        "    # Training loop\n",
        "    for epoch in range(epochs):\n",
        "        current_lr = optimizer.param_groups[0][\"lr\"]\n",
        "        print(f\"\\nEpoch [{epoch + 1}/{epochs}] - Learning Rate: {current_lr:.6f}\")\n",
        "\n",
        "        # Training for one epoch\n",
        "        start_time = time.time()\n",
        "        train_loss, train_acc = train_epoch(\n",
        "            model, train_loader, criterion, optimizer, device\n",
        "        )\n",
        "        train_time = time.time() - start_time\n",
        "\n",
        "        # Evaluate on test set\n",
        "        test_loss, test_acc = evaluate(model, test_loader, criterion, device)\n",
        "\n",
        "        # Step learning rate scheduler\n",
        "        scheduler.step()\n",
        "\n",
        "        # Print statistics\n",
        "        print(\n",
        "            f\"Train Loss: {train_loss:.4f}, Train Acc: {train_acc:.2f}%, \"\n",
        "            f\"Test Loss: {test_loss:.4f}, Test Acc: {test_acc:.2f}%, \"\n",
        "            f\"Time: {train_time:.2f}s\"\n",
        "        )\n",
        "\n",
        "        # Save best model\n",
        "        if test_acc > best_acc:\n",
        "            best_acc = test_acc\n",
        "            torch.save(\n",
        "                {\n",
        "                    \"epoch\": epoch,\n",
        "                    \"model_state_dict\": model.state_dict(),\n",
        "                    \"optimizer_state_dict\": optimizer.state_dict(),\n",
        "                    \"test_acc\": test_acc,\n",
        "                },\n",
        "                save_path,\n",
        "            )\n",
        "            print(f\"New best model saved with accuracy: {test_acc:.2f}%\")\n",
        "\n",
        "        # Update history\n",
        "        history[\"train_loss\"].append(train_loss)\n",
        "        history[\"train_acc\"].append(train_acc)\n",
        "        history[\"test_loss\"].append(test_loss)\n",
        "        history[\"test_acc\"].append(test_acc)\n",
        "        history[\"lr\"].append(current_lr)\n",
        "\n",
        "    # Load best model\n",
        "    checkpoint = torch.load(save_path)\n",
        "    model.load_state_dict(checkpoint[\"model_state_dict\"])\n",
        "    print(f\"Best model loaded with accuracy: {checkpoint['test_acc']:.2f}%\")\n",
        "\n",
        "    return model, history\n",
        "\n",
        "\n",
        "# visualization of model performance\n",
        "def plot_training_history(history):\n",
        "    fig, (ax1, ax2, ax3) = plt.subplots(1, 3, figsize=(18, 5))\n",
        "\n",
        "    # plot the loss\n",
        "    ax1.plot(history[\"train_loss\"], label=\"Train Loss\")\n",
        "    ax1.plot(history[\"test_loss\"], label=\"Test Loss\")\n",
        "    ax1.set_xlabel(\"Epoch\")\n",
        "    ax1.set_ylabel(\"Loss\")\n",
        "    ax1.legend()\n",
        "    ax1.set_title(\"Loss Curves\")\n",
        "    ax1.grid(True)\n",
        "\n",
        "    # plot accuracy\n",
        "    ax2.plot(history[\"train_acc\"], label=\"Train Accuracy\")\n",
        "    ax2.plot(history[\"test_acc\"], label=\"Test Accuracy\")\n",
        "    ax2.set_xlabel(\"Epoch\")\n",
        "    ax2.set_ylabel(\"Accuracy (%)\")\n",
        "    ax2.legend()\n",
        "    ax2.set_title(\"Accuracy Curves\")\n",
        "    ax2.grid(True)\n",
        "\n",
        "    # plot learning rate\n",
        "    ax3.plot(history[\"lr\"])\n",
        "    ax3.set_xlabel(\"Epoch\")\n",
        "    ax3.set_ylabel(\"Learning Rate\")\n",
        "    ax3.set_title(\"Learning Rate Schedule\")\n",
        "    ax3.set_yscale(\"log\")\n",
        "    ax3.grid(True)\n",
        "\n",
        "    plt.tight_layout()\n",
        "    plt.show()\n",
        "\n",
        "\n",
        "# run benchmark\n",
        "def run_centralized_benchmark():\n",
        "    # LeNet5 config\n",
        "    config = {\n",
        "        \"model_name\": \"improved_cnn\",\n",
        "        \"dataset_name\": \"cifar100\",\n",
        "        \"batch_size\": 256,\n",
        "        \"epochs\": 100,\n",
        "        \"lr\": 0.01,\n",
        "        \"momentum\": 0.9,\n",
        "        \"weight_decay\": 4e-4,\n",
        "        \"lr_scheduler\": \"step\",\n",
        "        \"save_path\": \"improved_cnn_model.pth\",\n",
        "    }\n",
        "\n",
        "    print(\n",
        "        f\"Running centralized benchmark with {config['model_name']} on {config['dataset_name']}...\"\n",
        "    )\n",
        "\n",
        "    # Train model\n",
        "    model, history = train_centralized_model(**config)\n",
        "\n",
        "    # Plot results\n",
        "    plot_training_history(history)\n",
        "\n",
        "    # Save history\n",
        "    with open(\"lenet5_history.pkl\", \"wb\") as f:\n",
        "        pickle.dump(history, f)\n",
        "\n",
        "    print(\"Centralized benchmark completed!\")\n",
        "\n",
        "    return model, history\n",
        "\n",
        "\n",
        "def main():\n",
        "    model, history = run_centralized_benchmark()\n",
        "    return model, history\n",
        "\n",
        "\n",
        "if __name__ == \"__main__\":\n",
        "    main()\n",
        "\n"
      ]
    }
  ],
  "metadata": {
    "accelerator": "GPU",
    "colab": {
      "gpuType": "T4",
      "provenance": [],
      "include_colab_link": true
    },
    "kernelspec": {
      "display_name": "Python 3",
      "name": "python3"
    },
    "language_info": {
      "name": "python"
    }
  },
  "nbformat": 4,
  "nbformat_minor": 0
}