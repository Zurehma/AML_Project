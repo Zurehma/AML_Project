{
  "nbformat": 4,
  "nbformat_minor": 0,
  "metadata": {
    "colab": {
      "provenance": [],
      "authorship_tag": "ABX9TyMed7hltTmQ+d+UpoifRBoK",
      "include_colab_link": true
    },
    "kernelspec": {
      "name": "python3",
      "display_name": "Python 3"
    },
    "language_info": {
      "name": "python"
    }
  },
  "cells": [
    {
      "cell_type": "markdown",
      "metadata": {
        "id": "view-in-github",
        "colab_type": "text"
      },
      "source": [
        "<a href=\"https://colab.research.google.com/github/Zurehma/AML_Project/blob/zurehma/LARS_4096.ipynb\" target=\"_parent\"><img src=\"https://colab.research.google.com/assets/colab-badge.svg\" alt=\"Open In Colab\"/></a>"
      ]
    },
    {
      "cell_type": "code",
      "source": [
        "!pip install torch-optimizer\n"
      ],
      "metadata": {
        "colab": {
          "base_uri": "https://localhost:8080/"
        },
        "id": "RWZe2M0NqSyr",
        "outputId": "11f6cdb5-a887-4324-9aaa-d1002d4ca57b"
      },
      "execution_count": 1,
      "outputs": [
        {
          "output_type": "stream",
          "name": "stdout",
          "text": [
            "Collecting torch-optimizer\n",
            "  Downloading torch_optimizer-0.3.0-py3-none-any.whl.metadata (55 kB)\n",
            "\u001b[?25l     \u001b[90m━━━━━━━━━━━━━━━━━━━━━━━━━━━━━━━━━━━━━━━━\u001b[0m \u001b[32m0.0/55.9 kB\u001b[0m \u001b[31m?\u001b[0m eta \u001b[36m-:--:--\u001b[0m\r\u001b[2K     \u001b[90m━━━━━━━━━━━━━━━━━━━━━━━━━━━━━━━━━━━━━━━━\u001b[0m \u001b[32m55.9/55.9 kB\u001b[0m \u001b[31m1.7 MB/s\u001b[0m eta \u001b[36m0:00:00\u001b[0m\n",
            "\u001b[?25hRequirement already satisfied: torch>=1.5.0 in /usr/local/lib/python3.11/dist-packages (from torch-optimizer) (2.5.1+cu124)\n",
            "Collecting pytorch-ranger>=0.1.1 (from torch-optimizer)\n",
            "  Downloading pytorch_ranger-0.1.1-py3-none-any.whl.metadata (509 bytes)\n",
            "Requirement already satisfied: filelock in /usr/local/lib/python3.11/dist-packages (from torch>=1.5.0->torch-optimizer) (3.17.0)\n",
            "Requirement already satisfied: typing-extensions>=4.8.0 in /usr/local/lib/python3.11/dist-packages (from torch>=1.5.0->torch-optimizer) (4.12.2)\n",
            "Requirement already satisfied: networkx in /usr/local/lib/python3.11/dist-packages (from torch>=1.5.0->torch-optimizer) (3.4.2)\n",
            "Requirement already satisfied: jinja2 in /usr/local/lib/python3.11/dist-packages (from torch>=1.5.0->torch-optimizer) (3.1.5)\n",
            "Requirement already satisfied: fsspec in /usr/local/lib/python3.11/dist-packages (from torch>=1.5.0->torch-optimizer) (2024.10.0)\n",
            "Collecting nvidia-cuda-nvrtc-cu12==12.4.127 (from torch>=1.5.0->torch-optimizer)\n",
            "  Downloading nvidia_cuda_nvrtc_cu12-12.4.127-py3-none-manylinux2014_x86_64.whl.metadata (1.5 kB)\n",
            "Collecting nvidia-cuda-runtime-cu12==12.4.127 (from torch>=1.5.0->torch-optimizer)\n",
            "  Downloading nvidia_cuda_runtime_cu12-12.4.127-py3-none-manylinux2014_x86_64.whl.metadata (1.5 kB)\n",
            "Collecting nvidia-cuda-cupti-cu12==12.4.127 (from torch>=1.5.0->torch-optimizer)\n",
            "  Downloading nvidia_cuda_cupti_cu12-12.4.127-py3-none-manylinux2014_x86_64.whl.metadata (1.6 kB)\n",
            "Collecting nvidia-cudnn-cu12==9.1.0.70 (from torch>=1.5.0->torch-optimizer)\n",
            "  Downloading nvidia_cudnn_cu12-9.1.0.70-py3-none-manylinux2014_x86_64.whl.metadata (1.6 kB)\n",
            "Collecting nvidia-cublas-cu12==12.4.5.8 (from torch>=1.5.0->torch-optimizer)\n",
            "  Downloading nvidia_cublas_cu12-12.4.5.8-py3-none-manylinux2014_x86_64.whl.metadata (1.5 kB)\n",
            "Collecting nvidia-cufft-cu12==11.2.1.3 (from torch>=1.5.0->torch-optimizer)\n",
            "  Downloading nvidia_cufft_cu12-11.2.1.3-py3-none-manylinux2014_x86_64.whl.metadata (1.5 kB)\n",
            "Collecting nvidia-curand-cu12==10.3.5.147 (from torch>=1.5.0->torch-optimizer)\n",
            "  Downloading nvidia_curand_cu12-10.3.5.147-py3-none-manylinux2014_x86_64.whl.metadata (1.5 kB)\n",
            "Collecting nvidia-cusolver-cu12==11.6.1.9 (from torch>=1.5.0->torch-optimizer)\n",
            "  Downloading nvidia_cusolver_cu12-11.6.1.9-py3-none-manylinux2014_x86_64.whl.metadata (1.6 kB)\n",
            "Collecting nvidia-cusparse-cu12==12.3.1.170 (from torch>=1.5.0->torch-optimizer)\n",
            "  Downloading nvidia_cusparse_cu12-12.3.1.170-py3-none-manylinux2014_x86_64.whl.metadata (1.6 kB)\n",
            "Requirement already satisfied: nvidia-nccl-cu12==2.21.5 in /usr/local/lib/python3.11/dist-packages (from torch>=1.5.0->torch-optimizer) (2.21.5)\n",
            "Requirement already satisfied: nvidia-nvtx-cu12==12.4.127 in /usr/local/lib/python3.11/dist-packages (from torch>=1.5.0->torch-optimizer) (12.4.127)\n",
            "Collecting nvidia-nvjitlink-cu12==12.4.127 (from torch>=1.5.0->torch-optimizer)\n",
            "  Downloading nvidia_nvjitlink_cu12-12.4.127-py3-none-manylinux2014_x86_64.whl.metadata (1.5 kB)\n",
            "Requirement already satisfied: triton==3.1.0 in /usr/local/lib/python3.11/dist-packages (from torch>=1.5.0->torch-optimizer) (3.1.0)\n",
            "Requirement already satisfied: sympy==1.13.1 in /usr/local/lib/python3.11/dist-packages (from torch>=1.5.0->torch-optimizer) (1.13.1)\n",
            "Requirement already satisfied: mpmath<1.4,>=1.1.0 in /usr/local/lib/python3.11/dist-packages (from sympy==1.13.1->torch>=1.5.0->torch-optimizer) (1.3.0)\n",
            "Requirement already satisfied: MarkupSafe>=2.0 in /usr/local/lib/python3.11/dist-packages (from jinja2->torch>=1.5.0->torch-optimizer) (3.0.2)\n",
            "Downloading torch_optimizer-0.3.0-py3-none-any.whl (61 kB)\n",
            "\u001b[2K   \u001b[90m━━━━━━━━━━━━━━━━━━━━━━━━━━━━━━━━━━━━━━━━\u001b[0m \u001b[32m61.9/61.9 kB\u001b[0m \u001b[31m2.7 MB/s\u001b[0m eta \u001b[36m0:00:00\u001b[0m\n",
            "\u001b[?25hDownloading pytorch_ranger-0.1.1-py3-none-any.whl (14 kB)\n",
            "Downloading nvidia_cublas_cu12-12.4.5.8-py3-none-manylinux2014_x86_64.whl (363.4 MB)\n",
            "\u001b[2K   \u001b[90m━━━━━━━━━━━━━━━━━━━━━━━━━━━━━━━━━━━━━━━━\u001b[0m \u001b[32m363.4/363.4 MB\u001b[0m \u001b[31m3.6 MB/s\u001b[0m eta \u001b[36m0:00:00\u001b[0m\n",
            "\u001b[?25hDownloading nvidia_cuda_cupti_cu12-12.4.127-py3-none-manylinux2014_x86_64.whl (13.8 MB)\n",
            "\u001b[2K   \u001b[90m━━━━━━━━━━━━━━━━━━━━━━━━━━━━━━━━━━━━━━━━\u001b[0m \u001b[32m13.8/13.8 MB\u001b[0m \u001b[31m19.7 MB/s\u001b[0m eta \u001b[36m0:00:00\u001b[0m\n",
            "\u001b[?25hDownloading nvidia_cuda_nvrtc_cu12-12.4.127-py3-none-manylinux2014_x86_64.whl (24.6 MB)\n",
            "\u001b[2K   \u001b[90m━━━━━━━━━━━━━━━━━━━━━━━━━━━━━━━━━━━━━━━━\u001b[0m \u001b[32m24.6/24.6 MB\u001b[0m \u001b[31m20.7 MB/s\u001b[0m eta \u001b[36m0:00:00\u001b[0m\n",
            "\u001b[?25hDownloading nvidia_cuda_runtime_cu12-12.4.127-py3-none-manylinux2014_x86_64.whl (883 kB)\n",
            "\u001b[2K   \u001b[90m━━━━━━━━━━━━━━━━━━━━━━━━━━━━━━━━━━━━━━━━\u001b[0m \u001b[32m883.7/883.7 kB\u001b[0m \u001b[31m18.1 MB/s\u001b[0m eta \u001b[36m0:00:00\u001b[0m\n",
            "\u001b[?25hDownloading nvidia_cudnn_cu12-9.1.0.70-py3-none-manylinux2014_x86_64.whl (664.8 MB)\n",
            "\u001b[2K   \u001b[90m━━━━━━━━━━━━━━━━━━━━━━━━━━━━━━━━━━━━━━━━\u001b[0m \u001b[32m664.8/664.8 MB\u001b[0m \u001b[31m2.9 MB/s\u001b[0m eta \u001b[36m0:00:00\u001b[0m\n",
            "\u001b[?25hDownloading nvidia_cufft_cu12-11.2.1.3-py3-none-manylinux2014_x86_64.whl (211.5 MB)\n",
            "\u001b[2K   \u001b[90m━━━━━━━━━━━━━━━━━━━━━━━━━━━━━━━━━━━━━━━━\u001b[0m \u001b[32m211.5/211.5 MB\u001b[0m \u001b[31m5.4 MB/s\u001b[0m eta \u001b[36m0:00:00\u001b[0m\n",
            "\u001b[?25hDownloading nvidia_curand_cu12-10.3.5.147-py3-none-manylinux2014_x86_64.whl (56.3 MB)\n",
            "\u001b[2K   \u001b[90m━━━━━━━━━━━━━━━━━━━━━━━━━━━━━━━━━━━━━━━━\u001b[0m \u001b[32m56.3/56.3 MB\u001b[0m \u001b[31m16.0 MB/s\u001b[0m eta \u001b[36m0:00:00\u001b[0m\n",
            "\u001b[?25hDownloading nvidia_cusolver_cu12-11.6.1.9-py3-none-manylinux2014_x86_64.whl (127.9 MB)\n",
            "\u001b[2K   \u001b[90m━━━━━━━━━━━━━━━━━━━━━━━━━━━━━━━━━━━━━━━━\u001b[0m \u001b[32m127.9/127.9 MB\u001b[0m \u001b[31m7.2 MB/s\u001b[0m eta \u001b[36m0:00:00\u001b[0m\n",
            "\u001b[?25hDownloading nvidia_cusparse_cu12-12.3.1.170-py3-none-manylinux2014_x86_64.whl (207.5 MB)\n",
            "\u001b[2K   \u001b[90m━━━━━━━━━━━━━━━━━━━━━━━━━━━━━━━━━━━━━━━━\u001b[0m \u001b[32m207.5/207.5 MB\u001b[0m \u001b[31m5.5 MB/s\u001b[0m eta \u001b[36m0:00:00\u001b[0m\n",
            "\u001b[?25hDownloading nvidia_nvjitlink_cu12-12.4.127-py3-none-manylinux2014_x86_64.whl (21.1 MB)\n",
            "\u001b[2K   \u001b[90m━━━━━━━━━━━━━━━━━━━━━━━━━━━━━━━━━━━━━━━━\u001b[0m \u001b[32m21.1/21.1 MB\u001b[0m \u001b[31m67.9 MB/s\u001b[0m eta \u001b[36m0:00:00\u001b[0m\n",
            "\u001b[?25hInstalling collected packages: nvidia-nvjitlink-cu12, nvidia-curand-cu12, nvidia-cufft-cu12, nvidia-cuda-runtime-cu12, nvidia-cuda-nvrtc-cu12, nvidia-cuda-cupti-cu12, nvidia-cublas-cu12, nvidia-cusparse-cu12, nvidia-cudnn-cu12, nvidia-cusolver-cu12, pytorch-ranger, torch-optimizer\n",
            "  Attempting uninstall: nvidia-nvjitlink-cu12\n",
            "    Found existing installation: nvidia-nvjitlink-cu12 12.5.82\n",
            "    Uninstalling nvidia-nvjitlink-cu12-12.5.82:\n",
            "      Successfully uninstalled nvidia-nvjitlink-cu12-12.5.82\n",
            "  Attempting uninstall: nvidia-curand-cu12\n",
            "    Found existing installation: nvidia-curand-cu12 10.3.6.82\n",
            "    Uninstalling nvidia-curand-cu12-10.3.6.82:\n",
            "      Successfully uninstalled nvidia-curand-cu12-10.3.6.82\n",
            "  Attempting uninstall: nvidia-cufft-cu12\n",
            "    Found existing installation: nvidia-cufft-cu12 11.2.3.61\n",
            "    Uninstalling nvidia-cufft-cu12-11.2.3.61:\n",
            "      Successfully uninstalled nvidia-cufft-cu12-11.2.3.61\n",
            "  Attempting uninstall: nvidia-cuda-runtime-cu12\n",
            "    Found existing installation: nvidia-cuda-runtime-cu12 12.5.82\n",
            "    Uninstalling nvidia-cuda-runtime-cu12-12.5.82:\n",
            "      Successfully uninstalled nvidia-cuda-runtime-cu12-12.5.82\n",
            "  Attempting uninstall: nvidia-cuda-nvrtc-cu12\n",
            "    Found existing installation: nvidia-cuda-nvrtc-cu12 12.5.82\n",
            "    Uninstalling nvidia-cuda-nvrtc-cu12-12.5.82:\n",
            "      Successfully uninstalled nvidia-cuda-nvrtc-cu12-12.5.82\n",
            "  Attempting uninstall: nvidia-cuda-cupti-cu12\n",
            "    Found existing installation: nvidia-cuda-cupti-cu12 12.5.82\n",
            "    Uninstalling nvidia-cuda-cupti-cu12-12.5.82:\n",
            "      Successfully uninstalled nvidia-cuda-cupti-cu12-12.5.82\n",
            "  Attempting uninstall: nvidia-cublas-cu12\n",
            "    Found existing installation: nvidia-cublas-cu12 12.5.3.2\n",
            "    Uninstalling nvidia-cublas-cu12-12.5.3.2:\n",
            "      Successfully uninstalled nvidia-cublas-cu12-12.5.3.2\n",
            "  Attempting uninstall: nvidia-cusparse-cu12\n",
            "    Found existing installation: nvidia-cusparse-cu12 12.5.1.3\n",
            "    Uninstalling nvidia-cusparse-cu12-12.5.1.3:\n",
            "      Successfully uninstalled nvidia-cusparse-cu12-12.5.1.3\n",
            "  Attempting uninstall: nvidia-cudnn-cu12\n",
            "    Found existing installation: nvidia-cudnn-cu12 9.3.0.75\n",
            "    Uninstalling nvidia-cudnn-cu12-9.3.0.75:\n",
            "      Successfully uninstalled nvidia-cudnn-cu12-9.3.0.75\n",
            "  Attempting uninstall: nvidia-cusolver-cu12\n",
            "    Found existing installation: nvidia-cusolver-cu12 11.6.3.83\n",
            "    Uninstalling nvidia-cusolver-cu12-11.6.3.83:\n",
            "      Successfully uninstalled nvidia-cusolver-cu12-11.6.3.83\n",
            "Successfully installed nvidia-cublas-cu12-12.4.5.8 nvidia-cuda-cupti-cu12-12.4.127 nvidia-cuda-nvrtc-cu12-12.4.127 nvidia-cuda-runtime-cu12-12.4.127 nvidia-cudnn-cu12-9.1.0.70 nvidia-cufft-cu12-11.2.1.3 nvidia-curand-cu12-10.3.5.147 nvidia-cusolver-cu12-11.6.1.9 nvidia-cusparse-cu12-12.3.1.170 nvidia-nvjitlink-cu12-12.4.127 pytorch-ranger-0.1.1 torch-optimizer-0.3.0\n"
          ]
        }
      ]
    },
    {
      "cell_type": "code",
      "execution_count": 2,
      "metadata": {
        "colab": {
          "base_uri": "https://localhost:8080/",
          "height": 1000
        },
        "id": "C3bqTVYhqGZa",
        "outputId": "e8763d28-82f7-43cc-9e58-c78f2c570c83"
      },
      "outputs": [
        {
          "output_type": "stream",
          "name": "stdout",
          "text": [
            "PyTorch version: 2.5.1+cu124\n",
            "Using device: cpu\n",
            "Running LARS benchmark with improved_cnn on cifar100...\n",
            "Downloading https://www.cs.toronto.edu/~kriz/cifar-100-python.tar.gz to ./data/cifar-100-python.tar.gz\n"
          ]
        },
        {
          "output_type": "stream",
          "name": "stderr",
          "text": [
            "100%|██████████| 169M/169M [00:02<00:00, 62.1MB/s]\n"
          ]
        },
        {
          "output_type": "stream",
          "name": "stdout",
          "text": [
            "Extracting ./data/cifar-100-python.tar.gz to ./data\n",
            "Files already downloaded and verified\n",
            "Total parameters: 1,774,052\n",
            "\n",
            "Epoch [1/100] - Learning Rate: 0.064000\n"
          ]
        },
        {
          "output_type": "stream",
          "name": "stderr",
          "text": [
            "Training: 100%|██████████| 13/13 [05:55<00:00, 27.34s/it, loss=4.58, acc=1.68]\n"
          ]
        },
        {
          "output_type": "stream",
          "name": "stdout",
          "text": [
            "Train Loss: 4.5816, Train Acc: 1.68%, Test Loss: 4.4464, Test Acc: 3.90%, Time: 355.40s\n",
            "New best model saved with accuracy: 3.90%\n",
            "\n",
            "Epoch [2/100] - Learning Rate: 0.128000\n"
          ]
        },
        {
          "output_type": "stream",
          "name": "stderr",
          "text": [
            "Training: 100%|██████████| 13/13 [05:53<00:00, 27.22s/it, loss=4.34, acc=4.11]\n"
          ]
        },
        {
          "output_type": "stream",
          "name": "stdout",
          "text": [
            "Train Loss: 4.3387, Train Acc: 4.11%, Test Loss: 4.1180, Test Acc: 6.85%, Time: 353.85s\n",
            "New best model saved with accuracy: 6.85%\n",
            "\n",
            "Epoch [3/100] - Learning Rate: 0.192000\n"
          ]
        },
        {
          "output_type": "stream",
          "name": "stderr",
          "text": [
            "Training: 100%|██████████| 13/13 [05:59<00:00, 27.69s/it, loss=4.06, acc=7.03]\n"
          ]
        },
        {
          "output_type": "stream",
          "name": "stdout",
          "text": [
            "Train Loss: 4.0650, Train Acc: 7.03%, Test Loss: 3.8322, Test Acc: 10.76%, Time: 359.98s\n",
            "New best model saved with accuracy: 10.76%\n",
            "\n",
            "Epoch [4/100] - Learning Rate: 0.256000\n"
          ]
        },
        {
          "output_type": "stream",
          "name": "stderr",
          "text": [
            "Training: 100%|██████████| 13/13 [05:55<00:00, 27.33s/it, loss=3.92, acc=9.18]\n"
          ]
        },
        {
          "output_type": "stream",
          "name": "stdout",
          "text": [
            "Train Loss: 3.9171, Train Acc: 9.18%, Test Loss: 3.6210, Test Acc: 13.09%, Time: 355.35s\n",
            "New best model saved with accuracy: 13.09%\n",
            "\n",
            "Epoch [5/100] - Learning Rate: 0.320000\n"
          ]
        },
        {
          "output_type": "stream",
          "name": "stderr",
          "text": [
            "Training: 100%|██████████| 13/13 [05:50<00:00, 26.96s/it, loss=3.78, acc=10.8]\n"
          ]
        },
        {
          "output_type": "stream",
          "name": "stdout",
          "text": [
            "Train Loss: 3.7836, Train Acc: 10.78%, Test Loss: 3.7497, Test Acc: 10.67%, Time: 350.43s\n",
            "\n",
            "Epoch [6/100] - Learning Rate: 0.320000\n"
          ]
        },
        {
          "output_type": "stream",
          "name": "stderr",
          "text": [
            "Training: 100%|██████████| 13/13 [06:09<00:00, 28.44s/it, loss=3.7, acc=12.2]\n"
          ]
        },
        {
          "output_type": "stream",
          "name": "stdout",
          "text": [
            "Train Loss: 3.7020, Train Acc: 12.15%, Test Loss: 3.3971, Test Acc: 18.32%, Time: 369.67s\n",
            "New best model saved with accuracy: 18.32%\n",
            "\n",
            "Epoch [7/100] - Learning Rate: 0.319913\n"
          ]
        },
        {
          "output_type": "stream",
          "name": "stderr",
          "text": [
            "Training: 100%|██████████| 13/13 [05:53<00:00, 27.21s/it, loss=3.6, acc=13.9]\n"
          ]
        },
        {
          "output_type": "stream",
          "name": "stdout",
          "text": [
            "Train Loss: 3.6003, Train Acc: 13.86%, Test Loss: 3.3027, Test Acc: 18.98%, Time: 353.76s\n",
            "New best model saved with accuracy: 18.98%\n",
            "\n",
            "Epoch [8/100] - Learning Rate: 0.319650\n"
          ]
        },
        {
          "output_type": "stream",
          "name": "stderr",
          "text": [
            "Training: 100%|██████████| 13/13 [05:49<00:00, 26.89s/it, loss=3.51, acc=15.3]\n"
          ]
        },
        {
          "output_type": "stream",
          "name": "stdout",
          "text": [
            "Train Loss: 3.5139, Train Acc: 15.33%, Test Loss: 3.1556, Test Acc: 22.31%, Time: 349.63s\n",
            "New best model saved with accuracy: 22.31%\n",
            "\n",
            "Epoch [9/100] - Learning Rate: 0.319213\n"
          ]
        },
        {
          "output_type": "stream",
          "name": "stderr",
          "text": [
            "Training: 100%|██████████| 13/13 [06:03<00:00, 27.96s/it, loss=3.46, acc=16.1]\n"
          ]
        },
        {
          "output_type": "stream",
          "name": "stdout",
          "text": [
            "Train Loss: 3.4570, Train Acc: 16.12%, Test Loss: 3.1656, Test Acc: 21.54%, Time: 363.55s\n",
            "\n",
            "Epoch [10/100] - Learning Rate: 0.318602\n"
          ]
        },
        {
          "output_type": "stream",
          "name": "stderr",
          "text": [
            "Training: 100%|██████████| 13/13 [05:50<00:00, 26.99s/it, loss=3.42, acc=16.9]\n"
          ]
        },
        {
          "output_type": "stream",
          "name": "stdout",
          "text": [
            "Train Loss: 3.4223, Train Acc: 16.87%, Test Loss: 3.0862, Test Acc: 23.64%, Time: 350.87s\n",
            "New best model saved with accuracy: 23.64%\n",
            "\n",
            "Epoch [11/100] - Learning Rate: 0.317818\n"
          ]
        },
        {
          "output_type": "stream",
          "name": "stderr",
          "text": [
            "Training: 100%|██████████| 13/13 [05:56<00:00, 27.44s/it, loss=3.33, acc=18.3]\n"
          ]
        },
        {
          "output_type": "stream",
          "name": "stdout",
          "text": [
            "Train Loss: 3.3272, Train Acc: 18.35%, Test Loss: 2.9982, Test Acc: 24.91%, Time: 356.71s\n",
            "New best model saved with accuracy: 24.91%\n",
            "\n",
            "Epoch [12/100] - Learning Rate: 0.316861\n"
          ]
        },
        {
          "output_type": "stream",
          "name": "stderr",
          "text": [
            "Training: 100%|██████████| 13/13 [05:56<00:00, 27.40s/it, loss=3.25, acc=19.5]\n"
          ]
        },
        {
          "output_type": "stream",
          "name": "stdout",
          "text": [
            "Train Loss: 3.2531, Train Acc: 19.47%, Test Loss: 2.9515, Test Acc: 24.58%, Time: 356.24s\n",
            "\n",
            "Epoch [13/100] - Learning Rate: 0.315732\n"
          ]
        },
        {
          "output_type": "stream",
          "name": "stderr",
          "text": [
            "Training: 100%|██████████| 13/13 [05:49<00:00, 26.86s/it, loss=3.2, acc=20.9]\n"
          ]
        },
        {
          "output_type": "stream",
          "name": "stdout",
          "text": [
            "Train Loss: 3.1954, Train Acc: 20.86%, Test Loss: 2.9309, Test Acc: 26.37%, Time: 349.16s\n",
            "New best model saved with accuracy: 26.37%\n",
            "\n",
            "Epoch [14/100] - Learning Rate: 0.314433\n"
          ]
        },
        {
          "output_type": "stream",
          "name": "stderr",
          "text": [
            "Training: 100%|██████████| 13/13 [05:52<00:00, 27.14s/it, loss=3.17, acc=21.4]\n"
          ]
        },
        {
          "output_type": "stream",
          "name": "stdout",
          "text": [
            "Train Loss: 3.1656, Train Acc: 21.40%, Test Loss: 2.7760, Test Acc: 29.33%, Time: 352.83s\n",
            "New best model saved with accuracy: 29.33%\n",
            "\n",
            "Epoch [15/100] - Learning Rate: 0.312966\n"
          ]
        },
        {
          "output_type": "stream",
          "name": "stderr",
          "text": [
            "Training: 100%|██████████| 13/13 [05:49<00:00, 26.85s/it, loss=3.1, acc=22.5]\n"
          ]
        },
        {
          "output_type": "stream",
          "name": "stdout",
          "text": [
            "Train Loss: 3.1038, Train Acc: 22.51%, Test Loss: 2.8010, Test Acc: 28.52%, Time: 349.02s\n",
            "\n",
            "Epoch [16/100] - Learning Rate: 0.311331\n"
          ]
        },
        {
          "output_type": "stream",
          "name": "stderr",
          "text": [
            "Training: 100%|██████████| 13/13 [05:50<00:00, 26.93s/it, loss=3.09, acc=22.9]\n"
          ]
        },
        {
          "output_type": "stream",
          "name": "stdout",
          "text": [
            "Train Loss: 3.0896, Train Acc: 22.94%, Test Loss: 2.7668, Test Acc: 28.80%, Time: 350.06s\n",
            "\n",
            "Epoch [17/100] - Learning Rate: 0.309530\n"
          ]
        },
        {
          "output_type": "stream",
          "name": "stderr",
          "text": [
            "Training: 100%|██████████| 13/13 [05:48<00:00, 26.78s/it, loss=3.08, acc=23.3]\n"
          ]
        },
        {
          "output_type": "stream",
          "name": "stdout",
          "text": [
            "Train Loss: 3.0773, Train Acc: 23.32%, Test Loss: 2.7130, Test Acc: 29.80%, Time: 348.13s\n",
            "New best model saved with accuracy: 29.80%\n",
            "\n",
            "Epoch [18/100] - Learning Rate: 0.307566\n"
          ]
        },
        {
          "output_type": "stream",
          "name": "stderr",
          "text": [
            "Training: 100%|██████████| 13/13 [05:48<00:00, 26.82s/it, loss=3.02, acc=24.3]\n"
          ]
        },
        {
          "output_type": "stream",
          "name": "stdout",
          "text": [
            "Train Loss: 3.0215, Train Acc: 24.31%, Test Loss: 2.7444, Test Acc: 30.33%, Time: 348.65s\n",
            "New best model saved with accuracy: 30.33%\n",
            "\n",
            "Epoch [19/100] - Learning Rate: 0.305441\n"
          ]
        },
        {
          "output_type": "stream",
          "name": "stderr",
          "text": [
            "Training: 100%|██████████| 13/13 [05:48<00:00, 26.78s/it, loss=3.01, acc=24.7]\n"
          ]
        },
        {
          "output_type": "stream",
          "name": "stdout",
          "text": [
            "Train Loss: 3.0102, Train Acc: 24.70%, Test Loss: 2.6761, Test Acc: 31.82%, Time: 348.09s\n",
            "New best model saved with accuracy: 31.82%\n",
            "\n",
            "Epoch [20/100] - Learning Rate: 0.303157\n"
          ]
        },
        {
          "output_type": "stream",
          "name": "stderr",
          "text": [
            "Training: 100%|██████████| 13/13 [05:47<00:00, 26.76s/it, loss=2.95, acc=25.9]\n"
          ]
        },
        {
          "output_type": "stream",
          "name": "stdout",
          "text": [
            "Train Loss: 2.9493, Train Acc: 25.88%, Test Loss: 2.7717, Test Acc: 29.88%, Time: 347.86s\n",
            "\n",
            "Epoch [21/100] - Learning Rate: 0.300716\n"
          ]
        },
        {
          "output_type": "stream",
          "name": "stderr",
          "text": [
            "Training: 100%|██████████| 13/13 [05:47<00:00, 26.75s/it, loss=2.89, acc=26.9]\n"
          ]
        },
        {
          "output_type": "stream",
          "name": "stdout",
          "text": [
            "Train Loss: 2.8919, Train Acc: 26.86%, Test Loss: 2.5735, Test Acc: 32.94%, Time: 347.70s\n",
            "New best model saved with accuracy: 32.94%\n",
            "\n",
            "Epoch [22/100] - Learning Rate: 0.298121\n"
          ]
        },
        {
          "output_type": "stream",
          "name": "stderr",
          "text": [
            "Training: 100%|██████████| 13/13 [05:47<00:00, 26.71s/it, loss=2.88, acc=26.7]\n"
          ]
        },
        {
          "output_type": "stream",
          "name": "stdout",
          "text": [
            "Train Loss: 2.8791, Train Acc: 26.71%, Test Loss: 2.5840, Test Acc: 33.46%, Time: 347.22s\n",
            "New best model saved with accuracy: 33.46%\n",
            "\n",
            "Epoch [23/100] - Learning Rate: 0.295375\n"
          ]
        },
        {
          "output_type": "stream",
          "name": "stderr",
          "text": [
            "Training: 100%|██████████| 13/13 [05:46<00:00, 26.65s/it, loss=2.87, acc=27.2]\n"
          ]
        },
        {
          "output_type": "stream",
          "name": "stdout",
          "text": [
            "Train Loss: 2.8734, Train Acc: 27.18%, Test Loss: 2.6406, Test Acc: 31.91%, Time: 346.51s\n",
            "\n",
            "Epoch [24/100] - Learning Rate: 0.292481\n"
          ]
        },
        {
          "output_type": "stream",
          "name": "stderr",
          "text": [
            "Training: 100%|██████████| 13/13 [05:47<00:00, 26.72s/it, loss=2.85, acc=27.6]\n"
          ]
        },
        {
          "output_type": "stream",
          "name": "stdout",
          "text": [
            "Train Loss: 2.8508, Train Acc: 27.57%, Test Loss: 2.6008, Test Acc: 33.49%, Time: 347.40s\n",
            "New best model saved with accuracy: 33.49%\n",
            "\n",
            "Epoch [25/100] - Learning Rate: 0.289443\n"
          ]
        },
        {
          "output_type": "stream",
          "name": "stderr",
          "text": [
            "Training: 100%|██████████| 13/13 [05:48<00:00, 26.80s/it, loss=2.85, acc=27.7]\n"
          ]
        },
        {
          "output_type": "stream",
          "name": "stdout",
          "text": [
            "Train Loss: 2.8465, Train Acc: 27.73%, Test Loss: 2.5340, Test Acc: 34.00%, Time: 348.38s\n",
            "New best model saved with accuracy: 34.00%\n",
            "\n",
            "Epoch [26/100] - Learning Rate: 0.286262\n"
          ]
        },
        {
          "output_type": "stream",
          "name": "stderr",
          "text": [
            "Training: 100%|██████████| 13/13 [05:46<00:00, 26.64s/it, loss=2.78, acc=28.7]\n"
          ]
        },
        {
          "output_type": "stream",
          "name": "stdout",
          "text": [
            "Train Loss: 2.7849, Train Acc: 28.71%, Test Loss: 2.3701, Test Acc: 37.14%, Time: 346.34s\n",
            "New best model saved with accuracy: 37.14%\n",
            "\n",
            "Epoch [27/100] - Learning Rate: 0.282944\n"
          ]
        },
        {
          "output_type": "stream",
          "name": "stderr",
          "text": [
            "Training: 100%|██████████| 13/13 [05:47<00:00, 26.75s/it, loss=2.76, acc=29.5]\n"
          ]
        },
        {
          "output_type": "stream",
          "name": "stdout",
          "text": [
            "Train Loss: 2.7591, Train Acc: 29.50%, Test Loss: 2.6291, Test Acc: 32.70%, Time: 347.82s\n",
            "\n",
            "Epoch [28/100] - Learning Rate: 0.279491\n"
          ]
        },
        {
          "output_type": "stream",
          "name": "stderr",
          "text": [
            "Training: 100%|██████████| 13/13 [05:47<00:00, 26.76s/it, loss=2.79, acc=28.9]\n"
          ]
        },
        {
          "output_type": "stream",
          "name": "stdout",
          "text": [
            "Train Loss: 2.7885, Train Acc: 28.94%, Test Loss: 2.3776, Test Acc: 37.19%, Time: 347.86s\n",
            "New best model saved with accuracy: 37.19%\n",
            "\n",
            "Epoch [29/100] - Learning Rate: 0.275908\n"
          ]
        },
        {
          "output_type": "stream",
          "name": "stderr",
          "text": [
            "Training: 100%|██████████| 13/13 [05:48<00:00, 26.84s/it, loss=2.74, acc=29.8]\n"
          ]
        },
        {
          "output_type": "stream",
          "name": "stdout",
          "text": [
            "Train Loss: 2.7444, Train Acc: 29.79%, Test Loss: 2.4128, Test Acc: 37.65%, Time: 348.99s\n",
            "New best model saved with accuracy: 37.65%\n",
            "\n",
            "Epoch [30/100] - Learning Rate: 0.272198\n"
          ]
        },
        {
          "output_type": "stream",
          "name": "stderr",
          "text": [
            "Training: 100%|██████████| 13/13 [05:46<00:00, 26.65s/it, loss=2.72, acc=30.4]\n"
          ]
        },
        {
          "output_type": "stream",
          "name": "stdout",
          "text": [
            "Train Loss: 2.7215, Train Acc: 30.36%, Test Loss: 2.4133, Test Acc: 37.72%, Time: 346.43s\n",
            "New best model saved with accuracy: 37.72%\n",
            "\n",
            "Epoch [31/100] - Learning Rate: 0.268365\n"
          ]
        },
        {
          "output_type": "stream",
          "name": "stderr",
          "text": [
            "Training: 100%|██████████| 13/13 [05:45<00:00, 26.55s/it, loss=2.69, acc=31.2]\n"
          ]
        },
        {
          "output_type": "stream",
          "name": "stdout",
          "text": [
            "Train Loss: 2.6889, Train Acc: 31.20%, Test Loss: 2.4288, Test Acc: 36.16%, Time: 345.14s\n",
            "\n",
            "Epoch [32/100] - Learning Rate: 0.264414\n"
          ]
        },
        {
          "output_type": "stream",
          "name": "stderr",
          "text": [
            "Training: 100%|██████████| 13/13 [05:45<00:00, 26.61s/it, loss=2.67, acc=31.5]\n"
          ]
        },
        {
          "output_type": "stream",
          "name": "stdout",
          "text": [
            "Train Loss: 2.6730, Train Acc: 31.45%, Test Loss: 2.3918, Test Acc: 36.84%, Time: 345.87s\n",
            "\n",
            "Epoch [33/100] - Learning Rate: 0.260348\n"
          ]
        },
        {
          "output_type": "stream",
          "name": "stderr",
          "text": [
            "Training: 100%|██████████| 13/13 [05:46<00:00, 26.64s/it, loss=2.65, acc=31.7]\n"
          ]
        },
        {
          "output_type": "stream",
          "name": "stdout",
          "text": [
            "Train Loss: 2.6528, Train Acc: 31.67%, Test Loss: 2.4106, Test Acc: 37.16%, Time: 346.31s\n",
            "\n",
            "Epoch [34/100] - Learning Rate: 0.256173\n"
          ]
        },
        {
          "output_type": "stream",
          "name": "stderr",
          "text": [
            "Training: 100%|██████████| 13/13 [05:46<00:00, 26.67s/it, loss=2.64, acc=32]\n"
          ]
        },
        {
          "output_type": "stream",
          "name": "stdout",
          "text": [
            "Train Loss: 2.6371, Train Acc: 32.04%, Test Loss: 2.4510, Test Acc: 35.26%, Time: 346.71s\n",
            "\n",
            "Epoch [35/100] - Learning Rate: 0.251893\n"
          ]
        },
        {
          "output_type": "stream",
          "name": "stderr",
          "text": [
            "Training: 100%|██████████| 13/13 [05:46<00:00, 26.68s/it, loss=2.61, acc=32.4]\n"
          ]
        },
        {
          "output_type": "stream",
          "name": "stdout",
          "text": [
            "Train Loss: 2.6119, Train Acc: 32.35%, Test Loss: 2.3224, Test Acc: 39.32%, Time: 346.83s\n",
            "New best model saved with accuracy: 39.32%\n",
            "\n",
            "Epoch [36/100] - Learning Rate: 0.247512\n"
          ]
        },
        {
          "output_type": "stream",
          "name": "stderr",
          "text": [
            "Training: 100%|██████████| 13/13 [05:46<00:00, 26.64s/it, loss=2.6, acc=32.6]\n"
          ]
        },
        {
          "output_type": "stream",
          "name": "stdout",
          "text": [
            "Train Loss: 2.5999, Train Acc: 32.56%, Test Loss: 2.3265, Test Acc: 38.72%, Time: 346.35s\n",
            "\n",
            "Epoch [37/100] - Learning Rate: 0.243035\n"
          ]
        },
        {
          "output_type": "stream",
          "name": "stderr",
          "text": [
            "Training: 100%|██████████| 13/13 [05:47<00:00, 26.75s/it, loss=2.58, acc=33.3]\n"
          ]
        },
        {
          "output_type": "stream",
          "name": "stdout",
          "text": [
            "Train Loss: 2.5829, Train Acc: 33.25%, Test Loss: 2.2926, Test Acc: 39.54%, Time: 347.73s\n",
            "New best model saved with accuracy: 39.54%\n",
            "\n",
            "Epoch [38/100] - Learning Rate: 0.238468\n"
          ]
        },
        {
          "output_type": "stream",
          "name": "stderr",
          "text": [
            "Training: 100%|██████████| 13/13 [05:47<00:00, 26.71s/it, loss=2.56, acc=33.7]\n"
          ]
        },
        {
          "output_type": "stream",
          "name": "stdout",
          "text": [
            "Train Loss: 2.5628, Train Acc: 33.71%, Test Loss: 2.3062, Test Acc: 39.88%, Time: 347.23s\n",
            "New best model saved with accuracy: 39.88%\n",
            "\n",
            "Epoch [39/100] - Learning Rate: 0.233815\n"
          ]
        },
        {
          "output_type": "stream",
          "name": "stderr",
          "text": [
            "Training: 100%|██████████| 13/13 [05:47<00:00, 26.72s/it, loss=2.52, acc=34.5]\n"
          ]
        },
        {
          "output_type": "stream",
          "name": "stdout",
          "text": [
            "Train Loss: 2.5212, Train Acc: 34.51%, Test Loss: 2.2244, Test Acc: 41.02%, Time: 347.39s\n",
            "New best model saved with accuracy: 41.02%\n",
            "\n",
            "Epoch [40/100] - Learning Rate: 0.229081\n"
          ]
        },
        {
          "output_type": "stream",
          "name": "stderr",
          "text": [
            "Training: 100%|██████████| 13/13 [05:48<00:00, 26.77s/it, loss=2.5, acc=34.8]\n"
          ]
        },
        {
          "output_type": "stream",
          "name": "stdout",
          "text": [
            "Train Loss: 2.4994, Train Acc: 34.80%, Test Loss: 2.2267, Test Acc: 41.14%, Time: 348.01s\n",
            "New best model saved with accuracy: 41.14%\n",
            "\n",
            "Epoch [41/100] - Learning Rate: 0.224271\n"
          ]
        },
        {
          "output_type": "stream",
          "name": "stderr",
          "text": [
            "Training: 100%|██████████| 13/13 [05:47<00:00, 26.76s/it, loss=2.48, acc=34.9]\n"
          ]
        },
        {
          "output_type": "stream",
          "name": "stdout",
          "text": [
            "Train Loss: 2.4821, Train Acc: 34.91%, Test Loss: 2.2778, Test Acc: 40.80%, Time: 347.86s\n",
            "\n",
            "Epoch [42/100] - Learning Rate: 0.219392\n"
          ]
        },
        {
          "output_type": "stream",
          "name": "stderr",
          "text": [
            "Training: 100%|██████████| 13/13 [05:47<00:00, 26.70s/it, loss=2.47, acc=35.4]\n"
          ]
        },
        {
          "output_type": "stream",
          "name": "stdout",
          "text": [
            "Train Loss: 2.4741, Train Acc: 35.42%, Test Loss: 2.2095, Test Acc: 41.13%, Time: 347.15s\n",
            "\n",
            "Epoch [43/100] - Learning Rate: 0.214447\n"
          ]
        },
        {
          "output_type": "stream",
          "name": "stderr",
          "text": [
            "Training: 100%|██████████| 13/13 [05:47<00:00, 26.72s/it, loss=2.45, acc=35.9]\n"
          ]
        },
        {
          "output_type": "stream",
          "name": "stdout",
          "text": [
            "Train Loss: 2.4544, Train Acc: 35.90%, Test Loss: 2.1771, Test Acc: 43.02%, Time: 347.34s\n",
            "New best model saved with accuracy: 43.02%\n",
            "\n",
            "Epoch [44/100] - Learning Rate: 0.209443\n"
          ]
        },
        {
          "output_type": "stream",
          "name": "stderr",
          "text": [
            "Training: 100%|██████████| 13/13 [05:47<00:00, 26.71s/it, loss=2.43, acc=36.4]\n"
          ]
        },
        {
          "output_type": "stream",
          "name": "stdout",
          "text": [
            "Train Loss: 2.4278, Train Acc: 36.39%, Test Loss: 2.1822, Test Acc: 41.70%, Time: 347.19s\n",
            "\n",
            "Epoch [45/100] - Learning Rate: 0.204384\n"
          ]
        },
        {
          "output_type": "stream",
          "name": "stderr",
          "text": [
            "Training: 100%|██████████| 13/13 [05:45<00:00, 26.60s/it, loss=2.42, acc=36.7]\n"
          ]
        },
        {
          "output_type": "stream",
          "name": "stdout",
          "text": [
            "Train Loss: 2.4233, Train Acc: 36.65%, Test Loss: 2.1413, Test Acc: 42.67%, Time: 345.79s\n",
            "\n",
            "Epoch [46/100] - Learning Rate: 0.199278\n"
          ]
        },
        {
          "output_type": "stream",
          "name": "stderr",
          "text": [
            "Training: 100%|██████████| 13/13 [05:48<00:00, 26.79s/it, loss=2.4, acc=36.9]\n"
          ]
        },
        {
          "output_type": "stream",
          "name": "stdout",
          "text": [
            "Train Loss: 2.4041, Train Acc: 36.86%, Test Loss: 2.1319, Test Acc: 42.75%, Time: 348.32s\n",
            "\n",
            "Epoch [47/100] - Learning Rate: 0.194128\n"
          ]
        },
        {
          "output_type": "stream",
          "name": "stderr",
          "text": [
            "Training: 100%|██████████| 13/13 [05:47<00:00, 26.72s/it, loss=2.38, acc=37.6]\n"
          ]
        },
        {
          "output_type": "stream",
          "name": "stdout",
          "text": [
            "Train Loss: 2.3839, Train Acc: 37.58%, Test Loss: 2.1082, Test Acc: 43.92%, Time: 347.36s\n",
            "New best model saved with accuracy: 43.92%\n",
            "\n",
            "Epoch [48/100] - Learning Rate: 0.188941\n"
          ]
        },
        {
          "output_type": "stream",
          "name": "stderr",
          "text": [
            "Training: 100%|██████████| 13/13 [05:47<00:00, 26.74s/it, loss=2.36, acc=38]\n"
          ]
        },
        {
          "output_type": "stream",
          "name": "stdout",
          "text": [
            "Train Loss: 2.3562, Train Acc: 37.99%, Test Loss: 2.1383, Test Acc: 43.26%, Time: 347.66s\n",
            "\n",
            "Epoch [49/100] - Learning Rate: 0.183722\n"
          ]
        },
        {
          "output_type": "stream",
          "name": "stderr",
          "text": [
            "Training: 100%|██████████| 13/13 [05:47<00:00, 26.75s/it, loss=2.33, acc=38.8]\n"
          ]
        },
        {
          "output_type": "stream",
          "name": "stdout",
          "text": [
            "Train Loss: 2.3273, Train Acc: 38.79%, Test Loss: 2.2176, Test Acc: 41.80%, Time: 347.74s\n",
            "\n",
            "Epoch [50/100] - Learning Rate: 0.178478\n"
          ]
        },
        {
          "output_type": "stream",
          "name": "stderr",
          "text": [
            "Training: 100%|██████████| 13/13 [05:47<00:00, 26.73s/it, loss=2.37, acc=37.7]\n"
          ]
        },
        {
          "output_type": "stream",
          "name": "stdout",
          "text": [
            "Train Loss: 2.3685, Train Acc: 37.73%, Test Loss: 2.0282, Test Acc: 45.72%, Time: 347.47s\n",
            "New best model saved with accuracy: 45.72%\n",
            "\n",
            "Epoch [51/100] - Learning Rate: 0.173213\n"
          ]
        },
        {
          "output_type": "stream",
          "name": "stderr",
          "text": [
            "Training: 100%|██████████| 13/13 [05:46<00:00, 26.64s/it, loss=2.32, acc=38.8]\n"
          ]
        },
        {
          "output_type": "stream",
          "name": "stdout",
          "text": [
            "Train Loss: 2.3162, Train Acc: 38.84%, Test Loss: 2.0737, Test Acc: 44.66%, Time: 346.31s\n",
            "\n",
            "Epoch [52/100] - Learning Rate: 0.167933\n"
          ]
        },
        {
          "output_type": "stream",
          "name": "stderr",
          "text": [
            "Training: 100%|██████████| 13/13 [05:46<00:00, 26.65s/it, loss=2.3, acc=39.4]\n"
          ]
        },
        {
          "output_type": "stream",
          "name": "stdout",
          "text": [
            "Train Loss: 2.2968, Train Acc: 39.39%, Test Loss: 1.9797, Test Acc: 47.53%, Time: 346.44s\n",
            "New best model saved with accuracy: 47.53%\n",
            "\n",
            "Epoch [53/100] - Learning Rate: 0.162645\n"
          ]
        },
        {
          "output_type": "stream",
          "name": "stderr",
          "text": [
            "Training: 100%|██████████| 13/13 [05:47<00:00, 26.71s/it, loss=2.28, acc=39.9]\n"
          ]
        },
        {
          "output_type": "stream",
          "name": "stdout",
          "text": [
            "Train Loss: 2.2822, Train Acc: 39.94%, Test Loss: 2.0484, Test Acc: 45.84%, Time: 347.27s\n",
            "\n",
            "Epoch [54/100] - Learning Rate: 0.157355\n"
          ]
        },
        {
          "output_type": "stream",
          "name": "stderr",
          "text": [
            "Training: 100%|██████████| 13/13 [05:47<00:00, 26.75s/it, loss=2.25, acc=40.4]\n"
          ]
        },
        {
          "output_type": "stream",
          "name": "stdout",
          "text": [
            "Train Loss: 2.2501, Train Acc: 40.45%, Test Loss: 2.0020, Test Acc: 46.88%, Time: 347.77s\n",
            "\n",
            "Epoch [55/100] - Learning Rate: 0.152067\n"
          ]
        },
        {
          "output_type": "stream",
          "name": "stderr",
          "text": [
            "Training: 100%|██████████| 13/13 [05:47<00:00, 26.74s/it, loss=2.23, acc=40.7]\n"
          ]
        },
        {
          "output_type": "stream",
          "name": "stdout",
          "text": [
            "Train Loss: 2.2325, Train Acc: 40.68%, Test Loss: 2.0833, Test Acc: 45.05%, Time: 347.64s\n",
            "\n",
            "Epoch [56/100] - Learning Rate: 0.146787\n"
          ]
        },
        {
          "output_type": "stream",
          "name": "stderr",
          "text": [
            "Training: 100%|██████████| 13/13 [05:46<00:00, 26.63s/it, loss=2.24, acc=40.3]\n"
          ]
        },
        {
          "output_type": "stream",
          "name": "stdout",
          "text": [
            "Train Loss: 2.2419, Train Acc: 40.34%, Test Loss: 1.9885, Test Acc: 46.19%, Time: 346.18s\n",
            "\n",
            "Epoch [57/100] - Learning Rate: 0.141522\n"
          ]
        },
        {
          "output_type": "stream",
          "name": "stderr",
          "text": [
            "Training: 100%|██████████| 13/13 [05:45<00:00, 26.61s/it, loss=2.21, acc=41.1]\n"
          ]
        },
        {
          "output_type": "stream",
          "name": "stdout",
          "text": [
            "Train Loss: 2.2070, Train Acc: 41.09%, Test Loss: 1.9997, Test Acc: 47.01%, Time: 345.95s\n",
            "\n",
            "Epoch [58/100] - Learning Rate: 0.136278\n"
          ]
        },
        {
          "output_type": "stream",
          "name": "stderr",
          "text": [
            "Training: 100%|██████████| 13/13 [05:46<00:00, 26.67s/it, loss=2.2, acc=41.6]\n"
          ]
        },
        {
          "output_type": "stream",
          "name": "stdout",
          "text": [
            "Train Loss: 2.2047, Train Acc: 41.61%, Test Loss: 1.9562, Test Acc: 46.88%, Time: 346.78s\n",
            "\n",
            "Epoch [59/100] - Learning Rate: 0.131059\n"
          ]
        },
        {
          "output_type": "stream",
          "name": "stderr",
          "text": [
            "Training: 100%|██████████| 13/13 [05:47<00:00, 26.76s/it, loss=2.19, acc=41.6]\n"
          ]
        },
        {
          "output_type": "stream",
          "name": "stdout",
          "text": [
            "Train Loss: 2.1911, Train Acc: 41.58%, Test Loss: 1.9306, Test Acc: 47.91%, Time: 347.82s\n",
            "New best model saved with accuracy: 47.91%\n",
            "\n",
            "Epoch [60/100] - Learning Rate: 0.125872\n"
          ]
        },
        {
          "output_type": "stream",
          "name": "stderr",
          "text": [
            "Training: 100%|██████████| 13/13 [05:46<00:00, 26.65s/it, loss=2.16, acc=42.4]\n"
          ]
        },
        {
          "output_type": "stream",
          "name": "stdout",
          "text": [
            "Train Loss: 2.1578, Train Acc: 42.37%, Test Loss: 1.8760, Test Acc: 48.87%, Time: 346.51s\n",
            "New best model saved with accuracy: 48.87%\n",
            "\n",
            "Epoch [61/100] - Learning Rate: 0.120722\n"
          ]
        },
        {
          "output_type": "stream",
          "name": "stderr",
          "text": [
            "Training: 100%|██████████| 13/13 [05:46<00:00, 26.69s/it, loss=2.15, acc=42.7]\n"
          ]
        },
        {
          "output_type": "stream",
          "name": "stdout",
          "text": [
            "Train Loss: 2.1520, Train Acc: 42.69%, Test Loss: 2.0307, Test Acc: 46.41%, Time: 346.97s\n",
            "\n",
            "Epoch [62/100] - Learning Rate: 0.115616\n"
          ]
        },
        {
          "output_type": "stream",
          "name": "stderr",
          "text": [
            "Training: 100%|██████████| 13/13 [05:49<00:00, 26.85s/it, loss=2.14, acc=42.9]\n"
          ]
        },
        {
          "output_type": "stream",
          "name": "stdout",
          "text": [
            "Train Loss: 2.1383, Train Acc: 42.90%, Test Loss: 1.8822, Test Acc: 48.83%, Time: 349.06s\n",
            "\n",
            "Epoch [63/100] - Learning Rate: 0.110557\n"
          ]
        },
        {
          "output_type": "stream",
          "name": "stderr",
          "text": [
            "Training: 100%|██████████| 13/13 [05:46<00:00, 26.62s/it, loss=2.12, acc=43.3]\n"
          ]
        },
        {
          "output_type": "stream",
          "name": "stdout",
          "text": [
            "Train Loss: 2.1164, Train Acc: 43.28%, Test Loss: 1.8974, Test Acc: 49.32%, Time: 346.12s\n",
            "New best model saved with accuracy: 49.32%\n",
            "\n",
            "Epoch [64/100] - Learning Rate: 0.105553\n"
          ]
        },
        {
          "output_type": "stream",
          "name": "stderr",
          "text": [
            "Training: 100%|██████████| 13/13 [05:48<00:00, 26.77s/it, loss=2.09, acc=43.8]\n"
          ]
        },
        {
          "output_type": "stream",
          "name": "stdout",
          "text": [
            "Train Loss: 2.0882, Train Acc: 43.81%, Test Loss: 1.9013, Test Acc: 49.09%, Time: 348.07s\n",
            "\n",
            "Epoch [65/100] - Learning Rate: 0.100608\n"
          ]
        },
        {
          "output_type": "stream",
          "name": "stderr",
          "text": [
            "Training: 100%|██████████| 13/13 [05:47<00:00, 26.69s/it, loss=2.08, acc=44.2]\n"
          ]
        },
        {
          "output_type": "stream",
          "name": "stdout",
          "text": [
            "Train Loss: 2.0779, Train Acc: 44.22%, Test Loss: 1.8583, Test Acc: 49.80%, Time: 347.02s\n",
            "New best model saved with accuracy: 49.80%\n",
            "\n",
            "Epoch [66/100] - Learning Rate: 0.095729\n"
          ]
        },
        {
          "output_type": "stream",
          "name": "stderr",
          "text": [
            "Training: 100%|██████████| 13/13 [05:45<00:00, 26.58s/it, loss=2.07, acc=44.1]\n"
          ]
        },
        {
          "output_type": "stream",
          "name": "stdout",
          "text": [
            "Train Loss: 2.0706, Train Acc: 44.07%, Test Loss: 1.8518, Test Acc: 49.79%, Time: 345.57s\n",
            "\n",
            "Epoch [67/100] - Learning Rate: 0.090919\n"
          ]
        },
        {
          "output_type": "stream",
          "name": "stderr",
          "text": [
            "Training: 100%|██████████| 13/13 [05:45<00:00, 26.59s/it, loss=2.05, acc=44.6]\n"
          ]
        },
        {
          "output_type": "stream",
          "name": "stdout",
          "text": [
            "Train Loss: 2.0499, Train Acc: 44.57%, Test Loss: 1.8066, Test Acc: 51.11%, Time: 345.69s\n",
            "New best model saved with accuracy: 51.11%\n",
            "\n",
            "Epoch [68/100] - Learning Rate: 0.086185\n"
          ]
        },
        {
          "output_type": "stream",
          "name": "stderr",
          "text": [
            "Training: 100%|██████████| 13/13 [05:47<00:00, 26.71s/it, loss=2.03, acc=45]\n"
          ]
        },
        {
          "output_type": "stream",
          "name": "stdout",
          "text": [
            "Train Loss: 2.0342, Train Acc: 44.96%, Test Loss: 1.7667, Test Acc: 52.19%, Time: 347.18s\n",
            "New best model saved with accuracy: 52.19%\n",
            "\n",
            "Epoch [69/100] - Learning Rate: 0.081532\n"
          ]
        },
        {
          "output_type": "stream",
          "name": "stderr",
          "text": [
            "Training: 100%|██████████| 13/13 [05:46<00:00, 26.67s/it, loss=2.02, acc=45.5]\n"
          ]
        },
        {
          "output_type": "stream",
          "name": "stdout",
          "text": [
            "Train Loss: 2.0190, Train Acc: 45.48%, Test Loss: 1.7957, Test Acc: 51.37%, Time: 346.76s\n",
            "\n",
            "Epoch [70/100] - Learning Rate: 0.076965\n"
          ]
        },
        {
          "output_type": "stream",
          "name": "stderr",
          "text": [
            "Training: 100%|██████████| 13/13 [05:46<00:00, 26.65s/it, loss=2.02, acc=45.3]\n"
          ]
        },
        {
          "output_type": "stream",
          "name": "stdout",
          "text": [
            "Train Loss: 2.0223, Train Acc: 45.29%, Test Loss: 1.8014, Test Acc: 51.28%, Time: 346.46s\n",
            "\n",
            "Epoch [71/100] - Learning Rate: 0.072488\n"
          ]
        },
        {
          "output_type": "stream",
          "name": "stderr",
          "text": [
            "Training: 100%|██████████| 13/13 [05:47<00:00, 26.70s/it, loss=2, acc=45.9]\n"
          ]
        },
        {
          "output_type": "stream",
          "name": "stdout",
          "text": [
            "Train Loss: 1.9970, Train Acc: 45.86%, Test Loss: 1.7583, Test Acc: 52.12%, Time: 347.12s\n",
            "\n",
            "Epoch [72/100] - Learning Rate: 0.068107\n"
          ]
        },
        {
          "output_type": "stream",
          "name": "stderr",
          "text": [
            "Training: 100%|██████████| 13/13 [05:47<00:00, 26.69s/it, loss=1.99, acc=46.4]\n"
          ]
        },
        {
          "output_type": "stream",
          "name": "stdout",
          "text": [
            "Train Loss: 1.9858, Train Acc: 46.42%, Test Loss: 1.7874, Test Acc: 51.25%, Time: 347.02s\n",
            "\n",
            "Epoch [73/100] - Learning Rate: 0.063827\n"
          ]
        },
        {
          "output_type": "stream",
          "name": "stderr",
          "text": [
            "Training: 100%|██████████| 13/13 [05:46<00:00, 26.67s/it, loss=1.99, acc=46.2]\n"
          ]
        },
        {
          "output_type": "stream",
          "name": "stdout",
          "text": [
            "Train Loss: 1.9886, Train Acc: 46.21%, Test Loss: 1.7842, Test Acc: 51.52%, Time: 346.74s\n",
            "\n",
            "Epoch [74/100] - Learning Rate: 0.059652\n"
          ]
        },
        {
          "output_type": "stream",
          "name": "stderr",
          "text": [
            "Training: 100%|██████████| 13/13 [05:46<00:00, 26.65s/it, loss=1.97, acc=46.7]\n"
          ]
        },
        {
          "output_type": "stream",
          "name": "stdout",
          "text": [
            "Train Loss: 1.9703, Train Acc: 46.71%, Test Loss: 1.7567, Test Acc: 52.21%, Time: 346.41s\n",
            "New best model saved with accuracy: 52.21%\n",
            "\n",
            "Epoch [75/100] - Learning Rate: 0.055586\n"
          ]
        },
        {
          "output_type": "stream",
          "name": "stderr",
          "text": [
            "Training: 100%|██████████| 13/13 [05:46<00:00, 26.65s/it, loss=1.96, acc=46.6]\n"
          ]
        },
        {
          "output_type": "stream",
          "name": "stdout",
          "text": [
            "Train Loss: 1.9620, Train Acc: 46.59%, Test Loss: 1.7316, Test Acc: 52.84%, Time: 346.40s\n",
            "New best model saved with accuracy: 52.84%\n",
            "\n",
            "Epoch [76/100] - Learning Rate: 0.051635\n"
          ]
        },
        {
          "output_type": "stream",
          "name": "stderr",
          "text": [
            "Training: 100%|██████████| 13/13 [05:46<00:00, 26.64s/it, loss=1.95, acc=47]\n"
          ]
        },
        {
          "output_type": "stream",
          "name": "stdout",
          "text": [
            "Train Loss: 1.9511, Train Acc: 47.03%, Test Loss: 1.7294, Test Acc: 53.37%, Time: 346.35s\n",
            "New best model saved with accuracy: 53.37%\n",
            "\n",
            "Epoch [77/100] - Learning Rate: 0.047802\n"
          ]
        },
        {
          "output_type": "stream",
          "name": "stderr",
          "text": [
            "Training: 100%|██████████| 13/13 [05:46<00:00, 26.66s/it, loss=1.93, acc=47.5]\n"
          ]
        },
        {
          "output_type": "stream",
          "name": "stdout",
          "text": [
            "Train Loss: 1.9286, Train Acc: 47.45%, Test Loss: 1.7270, Test Acc: 53.01%, Time: 346.53s\n",
            "\n",
            "Epoch [78/100] - Learning Rate: 0.044092\n"
          ]
        },
        {
          "output_type": "stream",
          "name": "stderr",
          "text": [
            "Training: 100%|██████████| 13/13 [05:45<00:00, 26.60s/it, loss=1.92, acc=47.8]\n"
          ]
        },
        {
          "output_type": "stream",
          "name": "stdout",
          "text": [
            "Train Loss: 1.9188, Train Acc: 47.83%, Test Loss: 1.6945, Test Acc: 53.67%, Time: 345.77s\n",
            "New best model saved with accuracy: 53.67%\n",
            "\n",
            "Epoch [79/100] - Learning Rate: 0.040509\n"
          ]
        },
        {
          "output_type": "stream",
          "name": "stderr",
          "text": [
            "Training: 100%|██████████| 13/13 [05:45<00:00, 26.61s/it, loss=1.91, acc=47.8]\n"
          ]
        },
        {
          "output_type": "stream",
          "name": "stdout",
          "text": [
            "Train Loss: 1.9086, Train Acc: 47.77%, Test Loss: 1.7334, Test Acc: 52.74%, Time: 345.98s\n",
            "\n",
            "Epoch [80/100] - Learning Rate: 0.037056\n"
          ]
        },
        {
          "output_type": "stream",
          "name": "stderr",
          "text": [
            "Training: 100%|██████████| 13/13 [05:46<00:00, 26.66s/it, loss=1.91, acc=47.8]\n"
          ]
        },
        {
          "output_type": "stream",
          "name": "stdout",
          "text": [
            "Train Loss: 1.9091, Train Acc: 47.81%, Test Loss: 1.6931, Test Acc: 53.59%, Time: 346.57s\n",
            "\n",
            "Epoch [81/100] - Learning Rate: 0.033738\n"
          ]
        },
        {
          "output_type": "stream",
          "name": "stderr",
          "text": [
            "Training: 100%|██████████| 13/13 [05:46<00:00, 26.62s/it, loss=1.9, acc=48.3]\n"
          ]
        },
        {
          "output_type": "stream",
          "name": "stdout",
          "text": [
            "Train Loss: 1.8965, Train Acc: 48.32%, Test Loss: 1.6783, Test Acc: 53.52%, Time: 346.05s\n",
            "\n",
            "Epoch [82/100] - Learning Rate: 0.030557\n"
          ]
        },
        {
          "output_type": "stream",
          "name": "stderr",
          "text": [
            "Training: 100%|██████████| 13/13 [05:45<00:00, 26.57s/it, loss=1.89, acc=48.6]\n"
          ]
        },
        {
          "output_type": "stream",
          "name": "stdout",
          "text": [
            "Train Loss: 1.8869, Train Acc: 48.60%, Test Loss: 1.6713, Test Acc: 53.89%, Time: 345.44s\n",
            "New best model saved with accuracy: 53.89%\n",
            "\n",
            "Epoch [83/100] - Learning Rate: 0.027519\n"
          ]
        },
        {
          "output_type": "stream",
          "name": "stderr",
          "text": [
            "Training: 100%|██████████| 13/13 [05:44<00:00, 26.54s/it, loss=1.88, acc=48.9]\n"
          ]
        },
        {
          "output_type": "stream",
          "name": "stdout",
          "text": [
            "Train Loss: 1.8754, Train Acc: 48.87%, Test Loss: 1.6913, Test Acc: 53.61%, Time: 345.00s\n",
            "\n",
            "Epoch [84/100] - Learning Rate: 0.024625\n"
          ]
        },
        {
          "output_type": "stream",
          "name": "stderr",
          "text": [
            "Training: 100%|██████████| 13/13 [05:43<00:00, 26.46s/it, loss=1.87, acc=49]\n"
          ]
        },
        {
          "output_type": "stream",
          "name": "stdout",
          "text": [
            "Train Loss: 1.8711, Train Acc: 49.01%, Test Loss: 1.6565, Test Acc: 54.48%, Time: 343.97s\n",
            "New best model saved with accuracy: 54.48%\n",
            "\n",
            "Epoch [85/100] - Learning Rate: 0.021879\n"
          ]
        },
        {
          "output_type": "stream",
          "name": "stderr",
          "text": [
            "Training: 100%|██████████| 13/13 [05:44<00:00, 26.47s/it, loss=1.85, acc=49.3]\n"
          ]
        },
        {
          "output_type": "stream",
          "name": "stdout",
          "text": [
            "Train Loss: 1.8526, Train Acc: 49.29%, Test Loss: 1.6512, Test Acc: 54.65%, Time: 344.18s\n",
            "New best model saved with accuracy: 54.65%\n",
            "\n",
            "Epoch [86/100] - Learning Rate: 0.019284\n"
          ]
        },
        {
          "output_type": "stream",
          "name": "stderr",
          "text": [
            "Training: 100%|██████████| 13/13 [05:44<00:00, 26.47s/it, loss=1.85, acc=49.4]\n"
          ]
        },
        {
          "output_type": "stream",
          "name": "stdout",
          "text": [
            "Train Loss: 1.8522, Train Acc: 49.42%, Test Loss: 1.6594, Test Acc: 54.47%, Time: 344.15s\n",
            "\n",
            "Epoch [87/100] - Learning Rate: 0.016843\n"
          ]
        },
        {
          "output_type": "stream",
          "name": "stderr",
          "text": [
            "Training: 100%|██████████| 13/13 [05:43<00:00, 26.45s/it, loss=1.84, acc=49.8]\n"
          ]
        },
        {
          "output_type": "stream",
          "name": "stdout",
          "text": [
            "Train Loss: 1.8400, Train Acc: 49.78%, Test Loss: 1.6466, Test Acc: 54.99%, Time: 343.84s\n",
            "New best model saved with accuracy: 54.99%\n",
            "\n",
            "Epoch [88/100] - Learning Rate: 0.014559\n"
          ]
        },
        {
          "output_type": "stream",
          "name": "stderr",
          "text": [
            "Training: 100%|██████████| 13/13 [05:45<00:00, 26.55s/it, loss=1.84, acc=49.7]\n"
          ]
        },
        {
          "output_type": "stream",
          "name": "stdout",
          "text": [
            "Train Loss: 1.8388, Train Acc: 49.69%, Test Loss: 1.6380, Test Acc: 54.85%, Time: 345.12s\n",
            "\n",
            "Epoch [89/100] - Learning Rate: 0.012434\n"
          ]
        },
        {
          "output_type": "stream",
          "name": "stderr",
          "text": [
            "Training: 100%|██████████| 13/13 [05:46<00:00, 26.62s/it, loss=1.82, acc=50]\n"
          ]
        },
        {
          "output_type": "stream",
          "name": "stdout",
          "text": [
            "Train Loss: 1.8196, Train Acc: 50.02%, Test Loss: 1.6368, Test Acc: 54.85%, Time: 346.13s\n",
            "\n",
            "Epoch [90/100] - Learning Rate: 0.010470\n"
          ]
        },
        {
          "output_type": "stream",
          "name": "stderr",
          "text": [
            "Training: 100%|██████████| 13/13 [05:43<00:00, 26.45s/it, loss=1.83, acc=50.1]\n"
          ]
        },
        {
          "output_type": "stream",
          "name": "stdout",
          "text": [
            "Train Loss: 1.8295, Train Acc: 50.09%, Test Loss: 1.6356, Test Acc: 55.19%, Time: 343.89s\n",
            "New best model saved with accuracy: 55.19%\n",
            "\n",
            "Epoch [91/100] - Learning Rate: 0.008669\n"
          ]
        },
        {
          "output_type": "stream",
          "name": "stderr",
          "text": [
            "Training: 100%|██████████| 13/13 [05:43<00:00, 26.46s/it, loss=1.82, acc=50]\n"
          ]
        },
        {
          "output_type": "stream",
          "name": "stdout",
          "text": [
            "Train Loss: 1.8212, Train Acc: 50.05%, Test Loss: 1.6309, Test Acc: 54.84%, Time: 343.98s\n",
            "\n",
            "Epoch [92/100] - Learning Rate: 0.007034\n"
          ]
        },
        {
          "output_type": "stream",
          "name": "stderr",
          "text": [
            "Training: 100%|██████████| 13/13 [05:43<00:00, 26.46s/it, loss=1.81, acc=50.5]\n"
          ]
        },
        {
          "output_type": "stream",
          "name": "stdout",
          "text": [
            "Train Loss: 1.8095, Train Acc: 50.52%, Test Loss: 1.6266, Test Acc: 55.26%, Time: 343.99s\n",
            "New best model saved with accuracy: 55.26%\n",
            "\n",
            "Epoch [93/100] - Learning Rate: 0.005567\n"
          ]
        },
        {
          "output_type": "stream",
          "name": "stderr",
          "text": [
            "Training: 100%|██████████| 13/13 [05:44<00:00, 26.51s/it, loss=1.81, acc=50.3]\n"
          ]
        },
        {
          "output_type": "stream",
          "name": "stdout",
          "text": [
            "Train Loss: 1.8125, Train Acc: 50.30%, Test Loss: 1.6263, Test Acc: 55.40%, Time: 344.60s\n",
            "New best model saved with accuracy: 55.40%\n",
            "\n",
            "Epoch [94/100] - Learning Rate: 0.004268\n"
          ]
        },
        {
          "output_type": "stream",
          "name": "stderr",
          "text": [
            "Training: 100%|██████████| 13/13 [05:43<00:00, 26.41s/it, loss=1.81, acc=50.4]\n"
          ]
        },
        {
          "output_type": "stream",
          "name": "stdout",
          "text": [
            "Train Loss: 1.8056, Train Acc: 50.41%, Test Loss: 1.6249, Test Acc: 55.32%, Time: 343.35s\n",
            "\n",
            "Epoch [95/100] - Learning Rate: 0.003139\n"
          ]
        },
        {
          "output_type": "stream",
          "name": "stderr",
          "text": [
            "Training: 100%|██████████| 13/13 [05:44<00:00, 26.53s/it, loss=1.81, acc=50.3]\n"
          ]
        },
        {
          "output_type": "stream",
          "name": "stdout",
          "text": [
            "Train Loss: 1.8141, Train Acc: 50.33%, Test Loss: 1.6198, Test Acc: 55.38%, Time: 344.96s\n",
            "\n",
            "Epoch [96/100] - Learning Rate: 0.002182\n"
          ]
        },
        {
          "output_type": "stream",
          "name": "stderr",
          "text": [
            "Training: 100%|██████████| 13/13 [05:44<00:00, 26.48s/it, loss=1.8, acc=50.3]\n"
          ]
        },
        {
          "output_type": "stream",
          "name": "stdout",
          "text": [
            "Train Loss: 1.8037, Train Acc: 50.32%, Test Loss: 1.6188, Test Acc: 55.43%, Time: 344.31s\n",
            "New best model saved with accuracy: 55.43%\n",
            "\n",
            "Epoch [97/100] - Learning Rate: 0.001398\n"
          ]
        },
        {
          "output_type": "stream",
          "name": "stderr",
          "text": [
            "Training: 100%|██████████| 13/13 [05:43<00:00, 26.41s/it, loss=1.8, acc=50.3]\n"
          ]
        },
        {
          "output_type": "stream",
          "name": "stdout",
          "text": [
            "Train Loss: 1.8044, Train Acc: 50.32%, Test Loss: 1.6179, Test Acc: 55.55%, Time: 343.29s\n",
            "New best model saved with accuracy: 55.55%\n",
            "\n",
            "Epoch [98/100] - Learning Rate: 0.000787\n"
          ]
        },
        {
          "output_type": "stream",
          "name": "stderr",
          "text": [
            "Training: 100%|██████████| 13/13 [05:43<00:00, 26.40s/it, loss=1.8, acc=50.4]\n"
          ]
        },
        {
          "output_type": "stream",
          "name": "stdout",
          "text": [
            "Train Loss: 1.8023, Train Acc: 50.42%, Test Loss: 1.6169, Test Acc: 55.43%, Time: 343.23s\n",
            "\n",
            "Epoch [99/100] - Learning Rate: 0.000350\n"
          ]
        },
        {
          "output_type": "stream",
          "name": "stderr",
          "text": [
            "Training: 100%|██████████| 13/13 [05:43<00:00, 26.43s/it, loss=1.8, acc=50.8]\n"
          ]
        },
        {
          "output_type": "stream",
          "name": "stdout",
          "text": [
            "Train Loss: 1.7966, Train Acc: 50.82%, Test Loss: 1.6168, Test Acc: 55.42%, Time: 343.59s\n",
            "\n",
            "Epoch [100/100] - Learning Rate: 0.000087\n"
          ]
        },
        {
          "output_type": "stream",
          "name": "stderr",
          "text": [
            "Training: 100%|██████████| 13/13 [05:43<00:00, 26.40s/it, loss=1.8, acc=50.4]\n"
          ]
        },
        {
          "output_type": "stream",
          "name": "stdout",
          "text": [
            "Train Loss: 1.8016, Train Acc: 50.41%, Test Loss: 1.6167, Test Acc: 55.45%, Time: 343.15s\n",
            "Best model loaded with accuracy: 55.55%\n"
          ]
        },
        {
          "output_type": "stream",
          "name": "stderr",
          "text": [
            "<ipython-input-2-feec1ae78547>:367: FutureWarning: You are using `torch.load` with `weights_only=False` (the current default value), which uses the default pickle module implicitly. It is possible to construct malicious pickle data which will execute arbitrary code during unpickling (See https://github.com/pytorch/pytorch/blob/main/SECURITY.md#untrusted-models for more details). In a future release, the default value for `weights_only` will be flipped to `True`. This limits the functions that could be executed during unpickling. Arbitrary objects will no longer be allowed to be loaded via this mode unless they are explicitly allowlisted by the user via `torch.serialization.add_safe_globals`. We recommend you start setting `weights_only=True` for any use case where you don't have full control of the loaded file. Please open an issue on GitHub for any issues related to this experimental feature.\n",
            "  checkpoint = torch.load(save_path)\n"
          ]
        },
        {
          "output_type": "display_data",
          "data": {
            "text/plain": [
              "<Figure size 1800x500 with 3 Axes>"
            ],
            "image/png": "[encoded data removed]"
          },
          "metadata": {}
        },
        {
          "output_type": "stream",
          "name": "stdout",
          "text": [
            "LARS benchmark completed!\n"
          ]
        }
      ],
      "source": [
        "import torch\n",
        "import torch.nn as nn\n",
        "import torchvision.transforms as transforms\n",
        "import torch.nn.functional as F\n",
        "from torchvision.datasets import CIFAR10, CIFAR100\n",
        "import torchvision.models as models\n",
        "from torch.utils.data import DataLoader\n",
        "\n",
        "from tqdm import tqdm\n",
        "import matplotlib.pyplot as plt\n",
        "import time\n",
        "import pickle\n",
        "import numpy as np\n",
        "import random\n",
        "\n",
        "from torch_optimizer import LARS\n",
        "\n",
        "import math\n",
        "\n",
        "print(\"PyTorch version:\", torch.__version__)\n",
        "device = torch.device(\"cuda:0\" if torch.cuda.is_available() else \"cpu\")\n",
        "print(f\"Using device: {device}\")\n",
        "\n",
        "# Seeding for reproducibility\n",
        "seed = 2025\n",
        "torch.manual_seed(seed)\n",
        "torch.cuda.manual_seed(seed)\n",
        "np.random.seed(seed)\n",
        "random.seed(seed)\n",
        "\n",
        "# transforms\n",
        "train_transform = transforms.Compose(\n",
        "    [\n",
        "        transforms.RandomCrop(32, padding=4),\n",
        "        transforms.RandomHorizontalFlip(),\n",
        "        transforms.ToTensor(),\n",
        "        transforms.Normalize((0.4914, 0.4822, 0.4465), (0.2023, 0.1994, 0.2010)),\n",
        "    ]\n",
        ")\n",
        "\n",
        "test_transform = transforms.Compose(\n",
        "    [\n",
        "        transforms.ToTensor(),\n",
        "        transforms.Normalize((0.4914, 0.4822, 0.4465), (0.2023, 0.1994, 0.2010)),\n",
        "    ]\n",
        ")\n",
        "\n",
        "\n",
        "# load data\n",
        "\n",
        "\n",
        "def load_data(dataset_name=\"cifar100\", batch_size=128, num_workers=2):\n",
        "    \"\"\"Enhanced data loading with stronger augmentation for CIFAR-100\"\"\"\n",
        "\n",
        "    # Better augmentation for CIFAR-100\n",
        "    train_transform = transforms.Compose(\n",
        "        [\n",
        "            transforms.RandomCrop(32, padding=4),\n",
        "            transforms.RandomHorizontalFlip(),\n",
        "            transforms.ToTensor(),\n",
        "            transforms.Normalize((0.4914, 0.4822, 0.4465), (0.2023, 0.1994, 0.2010)),\n",
        "        ]\n",
        "    )\n",
        "\n",
        "    test_transform = transforms.Compose(\n",
        "        [\n",
        "            transforms.ToTensor(),\n",
        "            transforms.Normalize((0.4914, 0.4822, 0.4465), (0.2023, 0.1994, 0.2010)),\n",
        "        ]\n",
        "    )\n",
        "\n",
        "    if dataset_name.lower() == \"cifar100\":\n",
        "        train_dataset = CIFAR100(\n",
        "            root=\"./data\", train=True, download=True, transform=train_transform\n",
        "        )\n",
        "        test_dataset = CIFAR100(\n",
        "            root=\"./data\", train=False, download=True, transform=test_transform\n",
        "        )\n",
        "        num_classes = 100\n",
        "    else:\n",
        "        raise ValueError(f\"Dataset {dataset_name} not supported in enhanced version\")\n",
        "\n",
        "    # Data loaders\n",
        "    train_loader = DataLoader(\n",
        "        train_dataset,\n",
        "        batch_size=batch_size,\n",
        "        shuffle=True,\n",
        "        num_workers=num_workers,\n",
        "    )\n",
        "\n",
        "    test_loader = DataLoader(\n",
        "        test_dataset,\n",
        "        batch_size=batch_size,\n",
        "        shuffle=False,\n",
        "        num_workers=num_workers,\n",
        "    )\n",
        "\n",
        "    return train_loader, test_loader, num_classes\n",
        "\n",
        "\n",
        "# model - LeNet5 from the paper [11]\n",
        "class LeNet5(nn.Module):\n",
        "    def __init__(self, num_classes=10):\n",
        "        super(LeNet5, self).__init__()\n",
        "        # Input: 3x32x32 (CIFAR has 3 color channels)\n",
        "        self.conv1 = nn.Conv2d(3, 6, kernel_size=5)  # Output: 6x28x28\n",
        "        self.pool1 = nn.MaxPool2d(kernel_size=2, stride=2)  # Output: 6x14x14\n",
        "        self.conv2 = nn.Conv2d(6, 16, kernel_size=5)  # Output: 16x10x10\n",
        "        self.pool2 = nn.MaxPool2d(kernel_size=2, stride=2)  # Output: 16x5x5\n",
        "\n",
        "        # fc layers\n",
        "        self.fc1 = nn.Linear(16 * 5 * 5, 120)\n",
        "        self.fc2 = nn.Linear(120, 84)\n",
        "        self.fc3 = nn.Linear(84, num_classes)\n",
        "\n",
        "    def forward(self, x):\n",
        "        x = self.pool1(F.relu(self.conv1(x)))\n",
        "        x = self.pool2(F.relu(self.conv2(x)))\n",
        "        x = x.view(-1, 16 * 5 * 5)  # flatten\n",
        "        x = F.relu(self.fc1(x))\n",
        "        x = F.relu(self.fc2(x))\n",
        "        x = self.fc3(x)\n",
        "        return x\n",
        "\n",
        "\n",
        "class ImprovedCNN(nn.Module):\n",
        "    def __init__(self, num_classes=100):\n",
        "        super(ImprovedCNN, self).__init__()\n",
        "        # First conv block\n",
        "        self.conv1 = nn.Conv2d(3, 64, kernel_size=5, padding=2)\n",
        "        self.bn1 = nn.BatchNorm2d(64)  # using BatchNorm for better training stability\n",
        "        self.pool1 = nn.MaxPool2d(kernel_size=2, stride=2)\n",
        "\n",
        "        # Second conv block\n",
        "        self.conv2 = nn.Conv2d(64, 64, kernel_size=5, padding=2)\n",
        "        self.bn2 = nn.BatchNorm2d(64)\n",
        "        self.pool2 = nn.MaxPool2d(kernel_size=2, stride=2)\n",
        "\n",
        "        # Fully connected layers\n",
        "        self.fc1 = nn.Linear(64 * 8 * 8, 384)\n",
        "        self.dropout1 = nn.Dropout(0.5)\n",
        "        self.fc2 = nn.Linear(384, 192)\n",
        "        self.dropout2 = nn.Dropout(0.5)\n",
        "        self.fc3 = nn.Linear(192, num_classes)\n",
        "\n",
        "    def forward(self, x):\n",
        "        # First conv block\n",
        "        x = self.pool1(F.relu(self.bn1(self.conv1(x))))\n",
        "\n",
        "        # Second conv block\n",
        "        x = self.pool2(F.relu(self.bn2(self.conv2(x))))\n",
        "\n",
        "        # Flatten and fully connected layers\n",
        "        x = x.view(-1, 64 * 8 * 8)\n",
        "        x = F.relu(self.fc1(x))\n",
        "        x = self.dropout1(x)\n",
        "        x = F.relu(self.fc2(x))\n",
        "        x = self.dropout2(x)\n",
        "        x = self.fc3(x)\n",
        "\n",
        "        return x\n",
        "\n",
        "\n",
        "def create_model(model_name, num_classes=100):\n",
        "    if model_name.lower() == \"improved_cnn\":\n",
        "        return ImprovedCNN(num_classes=num_classes)\n",
        "    elif model_name.lower() == \"lenet5\":\n",
        "        return LeNet5(num_classes=num_classes)\n",
        "    else:\n",
        "        raise ValueError(f\"Unknown model: {model_name}\")\n",
        "\n",
        "\n",
        "# train\n",
        "def train_epoch(model, train_loader, criterion, optimizer, device):\n",
        "    model.train()\n",
        "    running_loss = 0.0\n",
        "    correct = 0\n",
        "    total = 0\n",
        "\n",
        "    pbar = tqdm(train_loader, desc=\"Training\")\n",
        "\n",
        "    for inputs, labels in pbar:\n",
        "        inputs, labels = inputs.to(device), labels.to(device)\n",
        "\n",
        "        optimizer.zero_grad()\n",
        "        outputs = model(inputs)\n",
        "        loss = criterion(outputs, labels)\n",
        "        loss.backward()\n",
        "        optimizer.step()\n",
        "\n",
        "        running_loss += loss.item() * inputs.size(0)\n",
        "        _, predicted = outputs.max(1)\n",
        "        total += labels.size(0)\n",
        "        correct += predicted.eq(labels).sum().item()\n",
        "\n",
        "        # just a progress bar\n",
        "        pbar.set_postfix({\"loss\": running_loss / total, \"acc\": 100.0 * correct / total})\n",
        "\n",
        "    train_loss = running_loss / total\n",
        "    train_acc = 100.0 * correct / total\n",
        "\n",
        "    return train_loss, train_acc\n",
        "\n",
        "\n",
        "# eval\n",
        "def evaluate(model, test_loader, criterion, device):\n",
        "    model.eval()\n",
        "    running_loss = 0.0\n",
        "    correct = 0\n",
        "    total = 0\n",
        "\n",
        "    with torch.no_grad():\n",
        "        for inputs, labels in test_loader:\n",
        "            inputs, labels = inputs.to(device), labels.to(device)\n",
        "\n",
        "            outputs = model(inputs)\n",
        "            loss = criterion(outputs, labels)\n",
        "\n",
        "            running_loss += loss.item() * inputs.size(0)\n",
        "            _, predicted = outputs.max(1)\n",
        "            total += labels.size(0)\n",
        "            correct += predicted.eq(labels).sum().item()\n",
        "\n",
        "    test_loss = running_loss / total\n",
        "    test_acc = 100.0 * correct / total\n",
        "\n",
        "    return test_loss, test_acc\n",
        "\n",
        "\n",
        "# train config\n",
        "def train_centralized_model(\n",
        "    model_name=\"improved_cnn\",\n",
        "    dataset_name=\"cifar100\",\n",
        "    batch_size=4096,\n",
        "    epochs=100,\n",
        "    lr=0.01,\n",
        "    momentum=0.9,\n",
        "    weight_decay=4e-4,\n",
        "    lr_scheduler=\"lars\",\n",
        "    save_path=\"improved_cnn_model.pth\",\n",
        "):\n",
        "    # Load data\n",
        "    train_loader, test_loader, num_classes = load_data(\n",
        "        dataset_name=dataset_name, batch_size=batch_size\n",
        "    )\n",
        "\n",
        "    # Create model\n",
        "    model = create_model(model_name, num_classes=num_classes)\n",
        "    model = model.to(device)\n",
        "\n",
        "    # Print model parameters\n",
        "    total_params = sum(p.numel() for p in model.parameters())\n",
        "    print(f\"Total parameters: {total_params:,}\")\n",
        "\n",
        "    # Define loss function and optimizer\n",
        "    criterion = nn.CrossEntropyLoss()\n",
        "\n",
        "    scaled_lr = lr * (batch_size / 128)    # linear‐scaling rule\n",
        "\n",
        "    decay_params   = []\n",
        "    no_decay_params = []\n",
        "    for name, param in model.named_parameters():\n",
        "        if not param.requires_grad:\n",
        "            continue\n",
        "        # any 1-D param (bias, BatchNorm weight, etc.) => no decay\n",
        "        if param.ndim == 1:\n",
        "            no_decay_params.append(param)\n",
        "        else:\n",
        "            decay_params.append(param)\n",
        "\n",
        "    optimizer = LARS(\n",
        "        [\n",
        "            {'params': decay_params,    'weight_decay': weight_decay},\n",
        "            {'params': no_decay_params, 'weight_decay': 0.0}\n",
        "        ],\n",
        "        lr=scaled_lr,\n",
        "        momentum=momentum,\n",
        "        # set the *global* default decay to 0, since we've handled it per-group:\n",
        "        weight_decay=0.0,\n",
        "        trust_coefficient=0.05\n",
        "    )\n",
        "\n",
        "    # lr\n",
        "    if lr_scheduler == \"lars\":\n",
        "        warmup_epochs = 5\n",
        "        def lr_lambda(epoch):\n",
        "            # linear warmup\n",
        "            if epoch < warmup_epochs:\n",
        "                return float(epoch + 1) / float(warmup_epochs)\n",
        "            # then cosine decay\n",
        "            return 0.5 * (\n",
        "                1.0\n",
        "                + math.cos(\n",
        "                    math.pi * (epoch - warmup_epochs) / (epochs - warmup_epochs)\n",
        "                )\n",
        "            )\n",
        "\n",
        "        scheduler = torch.optim.lr_scheduler.LambdaLR(optimizer, lr_lambda)\n",
        "    elif lr_scheduler == \"step\":\n",
        "        scheduler = torch.optim.lr_scheduler.MultiStepLR(\n",
        "            optimizer,\n",
        "            milestones=[int(epochs * 0.5), int(epochs * 0.75)],\n",
        "            gamma=0.1\n",
        "        )\n",
        "    else:\n",
        "        raise ValueError(f\"Unknown scheduler: {lr_scheduler}\")\n",
        "\n",
        "    # Training history\n",
        "    history = {\n",
        "        \"train_loss\": [],\n",
        "        \"train_acc\": [],\n",
        "        \"test_loss\": [],\n",
        "        \"test_acc\": [],\n",
        "        \"lr\": [],\n",
        "    }\n",
        "\n",
        "    # Track best accuracy\n",
        "    best_acc = 0.0\n",
        "\n",
        "    # Training loop\n",
        "    for epoch in range(epochs):\n",
        "        current_lr = optimizer.param_groups[0][\"lr\"]\n",
        "        print(f\"\\nEpoch [{epoch + 1}/{epochs}] - Learning Rate: {current_lr:.6f}\")\n",
        "\n",
        "        # Training for one epoch\n",
        "        start_time = time.time()\n",
        "        train_loss, train_acc = train_epoch(\n",
        "            model, train_loader, criterion, optimizer, device\n",
        "        )\n",
        "        train_time = time.time() - start_time\n",
        "\n",
        "        # Evaluate on test set\n",
        "        test_loss, test_acc = evaluate(model, test_loader, criterion, device)\n",
        "\n",
        "        # Step learning rate scheduler\n",
        "        scheduler.step()\n",
        "\n",
        "        # Print statistics\n",
        "        print(\n",
        "            f\"Train Loss: {train_loss:.4f}, Train Acc: {train_acc:.2f}%, \"\n",
        "            f\"Test Loss: {test_loss:.4f}, Test Acc: {test_acc:.2f}%, \"\n",
        "            f\"Time: {train_time:.2f}s\"\n",
        "        )\n",
        "\n",
        "        # Save best model\n",
        "        if test_acc > best_acc:\n",
        "            best_acc = test_acc\n",
        "            torch.save(\n",
        "                {\n",
        "                    \"epoch\": epoch,\n",
        "                    \"model_state_dict\": model.state_dict(),\n",
        "                    \"optimizer_state_dict\": optimizer.state_dict(),\n",
        "                    \"test_acc\": test_acc,\n",
        "                },\n",
        "                save_path,\n",
        "            )\n",
        "            print(f\"New best model saved with accuracy: {test_acc:.2f}%\")\n",
        "\n",
        "        # Update history\n",
        "        history[\"train_loss\"].append(train_loss)\n",
        "        history[\"train_acc\"].append(train_acc)\n",
        "        history[\"test_loss\"].append(test_loss)\n",
        "        history[\"test_acc\"].append(test_acc)\n",
        "        history[\"lr\"].append(current_lr)\n",
        "\n",
        "    # Load best model\n",
        "    checkpoint = torch.load(save_path)\n",
        "    model.load_state_dict(checkpoint[\"model_state_dict\"])\n",
        "    print(f\"Best model loaded with accuracy: {checkpoint['test_acc']:.2f}%\")\n",
        "\n",
        "    return model, history\n",
        "\n",
        "\n",
        "# visualization of model performance\n",
        "def plot_training_history(history):\n",
        "    fig, (ax1, ax2, ax3) = plt.subplots(1, 3, figsize=(18, 5))\n",
        "\n",
        "    # plot the loss\n",
        "    ax1.plot(history[\"train_loss\"], label=\"Train Loss\")\n",
        "    ax1.plot(history[\"test_loss\"], label=\"Test Loss\")\n",
        "    ax1.set_xlabel(\"Epoch\")\n",
        "    ax1.set_ylabel(\"Loss\")\n",
        "    ax1.legend()\n",
        "    ax1.set_title(\"Loss Curves\")\n",
        "    ax1.grid(True)\n",
        "\n",
        "    # plot accuracy\n",
        "    ax2.plot(history[\"train_acc\"], label=\"Train Accuracy\")\n",
        "    ax2.plot(history[\"test_acc\"], label=\"Test Accuracy\")\n",
        "    ax2.set_xlabel(\"Epoch\")\n",
        "    ax2.set_ylabel(\"Accuracy (%)\")\n",
        "    ax2.legend()\n",
        "    ax2.set_title(\"Accuracy Curves\")\n",
        "    ax2.grid(True)\n",
        "\n",
        "    # plot learning rate\n",
        "    ax3.plot(history[\"lr\"])\n",
        "    ax3.set_xlabel(\"Epoch\")\n",
        "    ax3.set_ylabel(\"Learning Rate\")\n",
        "    ax3.set_title(\"Learning Rate Schedule\")\n",
        "    ax3.set_yscale(\"log\")\n",
        "    ax3.grid(True)\n",
        "\n",
        "    plt.tight_layout()\n",
        "    plt.show()\n",
        "\n",
        "\n",
        "# run benchmark\n",
        "def run_centralized_benchmark():\n",
        "    # LeNet5 config\n",
        "    config = {\n",
        "        \"model_name\": \"improved_cnn\",\n",
        "        \"dataset_name\": \"cifar100\",\n",
        "        \"batch_size\": 4096,\n",
        "        \"epochs\": 100,\n",
        "        \"lr\": 0.01,\n",
        "        \"momentum\": 0.9,\n",
        "        \"weight_decay\": 4e-4,\n",
        "        \"lr_scheduler\": \"lars\",\n",
        "        \"save_path\": \"improved_cnn_model.pth\",\n",
        "    }\n",
        "\n",
        "    print(\n",
        "        f\"Running LARS benchmark with {config['model_name']} on {config['dataset_name']}...\"\n",
        "    )\n",
        "\n",
        "    # Train model\n",
        "    model, history = train_centralized_model(**config)\n",
        "\n",
        "    # Plot results\n",
        "    plot_training_history(history)\n",
        "\n",
        "    # Save history\n",
        "    with open(\"lenet5_history.pkl\", \"wb\") as f:\n",
        "        pickle.dump(history, f)\n",
        "\n",
        "    print(\"LARS benchmark completed!\")\n",
        "\n",
        "    return model, history\n",
        "\n",
        "\n",
        "def main():\n",
        "    model, history = run_centralized_benchmark()\n",
        "    return model, history\n",
        "\n",
        "\n",
        "if __name__ == \"__main__\":\n",
        "    main()\n",
        "\n"
      ]
    }
  ]
}