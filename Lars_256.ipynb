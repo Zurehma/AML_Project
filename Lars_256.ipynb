{
  "nbformat": 4,
  "nbformat_minor": 0,
  "metadata": {
    "colab": {
      "provenance": [],
      "authorship_tag": "ABX9TyMGfVVgu5xc3puMFMgOpExo",
      "include_colab_link": true
    },
    "kernelspec": {
      "name": "python3",
      "display_name": "Python 3"
    },
    "language_info": {
      "name": "python"
    }
  },
  "cells": [
    {
      "cell_type": "markdown",
      "metadata": {
        "id": "view-in-github",
        "colab_type": "text"
      },
      "source": [
        "<a href=\"https://colab.research.google.com/github/Zurehma/AML_Project/blob/zurehma/Lars_256.ipynb\" target=\"_parent\"><img src=\"https://colab.research.google.com/assets/colab-badge.svg\" alt=\"Open In Colab\"/></a>"
      ]
    },
    {
      "cell_type": "code",
      "source": [
        "!pip install torch-optimizer\n"
      ],
      "metadata": {
        "id": "idZQHZvb3Hg_"
      },
      "execution_count": null,
      "outputs": []
    },
    {
      "cell_type": "code",
      "execution_count": null,
      "metadata": {
        "colab": {
          "base_uri": "https://localhost:8080/",
          "height": 1000
        },
        "id": "fuAiIu6u3Ag4",
        "outputId": "6f8dbc13-b0c2-447c-b3f0-7a50396e94ed"
      },
      "outputs": [
        {
          "output_type": "stream",
          "name": "stdout",
          "text": [
            "PyTorch version: 2.6.0+cu124\n",
            "Using device: cpu\n",
            "Running LARS benchmark with improved_cnn on cifar100...\n",
            "Total parameters: 1,774,052\n",
            "\n",
            "Epoch [1/100] - Learning Rate: 0.004000\n"
          ]
        },
        {
          "output_type": "stream",
          "name": "stderr",
          "text": [
            "Training: 100%|██████████| 196/196 [04:56<00:00,  1.51s/it, loss=4.57, acc=2.06]\n"
          ]
        },
        {
          "output_type": "stream",
          "name": "stdout",
          "text": [
            "Train Loss: 4.5669, Train Acc: 2.06%, Test Loss: 4.4235, Test Acc: 3.87%, Time: 296.30s\n",
            "New best model saved with accuracy: 3.87%\n",
            "\n",
            "Epoch [2/100] - Learning Rate: 0.008000\n"
          ]
        },
        {
          "output_type": "stream",
          "name": "stderr",
          "text": [
            "Training: 100%|██████████| 196/196 [04:44<00:00,  1.45s/it, loss=4.34, acc=4.35]\n"
          ]
        },
        {
          "output_type": "stream",
          "name": "stdout",
          "text": [
            "Train Loss: 4.3393, Train Acc: 4.35%, Test Loss: 4.0780, Test Acc: 8.59%, Time: 284.06s\n",
            "New best model saved with accuracy: 8.59%\n",
            "\n",
            "Epoch [3/100] - Learning Rate: 0.012000\n"
          ]
        },
        {
          "output_type": "stream",
          "name": "stderr",
          "text": [
            "Training: 100%|██████████| 196/196 [04:42<00:00,  1.44s/it, loss=4.09, acc=6.86]\n"
          ]
        },
        {
          "output_type": "stream",
          "name": "stdout",
          "text": [
            "Train Loss: 4.0894, Train Acc: 6.86%, Test Loss: 3.7790, Test Acc: 12.65%, Time: 282.71s\n",
            "New best model saved with accuracy: 12.65%\n",
            "\n",
            "Epoch [4/100] - Learning Rate: 0.016000\n"
          ]
        },
        {
          "output_type": "stream",
          "name": "stderr",
          "text": [
            "Training: 100%|██████████| 196/196 [04:42<00:00,  1.44s/it, loss=3.89, acc=9.53]\n"
          ]
        },
        {
          "output_type": "stream",
          "name": "stdout",
          "text": [
            "Train Loss: 3.8867, Train Acc: 9.53%, Test Loss: 3.5603, Test Acc: 16.78%, Time: 282.44s\n",
            "New best model saved with accuracy: 16.78%\n",
            "\n",
            "Epoch [5/100] - Learning Rate: 0.020000\n"
          ]
        },
        {
          "output_type": "stream",
          "name": "stderr",
          "text": [
            "Training: 100%|██████████| 196/196 [04:42<00:00,  1.44s/it, loss=3.72, acc=11.6]\n"
          ]
        },
        {
          "output_type": "stream",
          "name": "stdout",
          "text": [
            "Train Loss: 3.7206, Train Acc: 11.59%, Test Loss: 3.4115, Test Acc: 18.62%, Time: 282.73s\n",
            "New best model saved with accuracy: 18.62%\n",
            "\n",
            "Epoch [6/100] - Learning Rate: 0.020000\n"
          ]
        },
        {
          "output_type": "stream",
          "name": "stderr",
          "text": [
            "Training: 100%|██████████| 196/196 [04:44<00:00,  1.45s/it, loss=3.57, acc=14.2]\n"
          ]
        },
        {
          "output_type": "stream",
          "name": "stdout",
          "text": [
            "Train Loss: 3.5706, Train Acc: 14.19%, Test Loss: 3.2442, Test Acc: 21.19%, Time: 284.07s\n",
            "New best model saved with accuracy: 21.19%\n",
            "\n",
            "Epoch [7/100] - Learning Rate: 0.019995\n"
          ]
        },
        {
          "output_type": "stream",
          "name": "stderr",
          "text": [
            "Training: 100%|██████████| 196/196 [04:44<00:00,  1.45s/it, loss=3.43, acc=16.9]\n"
          ]
        },
        {
          "output_type": "stream",
          "name": "stdout",
          "text": [
            "Train Loss: 3.4317, Train Acc: 16.85%, Test Loss: 3.0593, Test Acc: 24.25%, Time: 284.24s\n",
            "New best model saved with accuracy: 24.25%\n",
            "\n",
            "Epoch [8/100] - Learning Rate: 0.019978\n"
          ]
        },
        {
          "output_type": "stream",
          "name": "stderr",
          "text": [
            "Training: 100%|██████████| 196/196 [04:45<00:00,  1.46s/it, loss=3.34, acc=18.4]\n"
          ]
        },
        {
          "output_type": "stream",
          "name": "stdout",
          "text": [
            "Train Loss: 3.3359, Train Acc: 18.43%, Test Loss: 2.9556, Test Acc: 26.44%, Time: 285.22s\n",
            "New best model saved with accuracy: 26.44%\n",
            "\n",
            "Epoch [9/100] - Learning Rate: 0.019951\n"
          ]
        },
        {
          "output_type": "stream",
          "name": "stderr",
          "text": [
            "Training: 100%|██████████| 196/196 [04:43<00:00,  1.45s/it, loss=3.24, acc=19.8]\n"
          ]
        },
        {
          "output_type": "stream",
          "name": "stdout",
          "text": [
            "Train Loss: 3.2449, Train Acc: 19.78%, Test Loss: 2.8525, Test Acc: 28.41%, Time: 283.96s\n",
            "New best model saved with accuracy: 28.41%\n",
            "\n",
            "Epoch [10/100] - Learning Rate: 0.019913\n"
          ]
        },
        {
          "output_type": "stream",
          "name": "stderr",
          "text": [
            "Training: 100%|██████████| 196/196 [04:42<00:00,  1.44s/it, loss=3.18, acc=21.1]\n"
          ]
        },
        {
          "output_type": "stream",
          "name": "stdout",
          "text": [
            "Train Loss: 3.1805, Train Acc: 21.09%, Test Loss: 2.7818, Test Acc: 29.67%, Time: 282.34s\n",
            "New best model saved with accuracy: 29.67%\n",
            "\n",
            "Epoch [11/100] - Learning Rate: 0.019864\n"
          ]
        },
        {
          "output_type": "stream",
          "name": "stderr",
          "text": [
            "Training: 100%|██████████| 196/196 [04:42<00:00,  1.44s/it, loss=3.12, acc=22.3]\n"
          ]
        },
        {
          "output_type": "stream",
          "name": "stdout",
          "text": [
            "Train Loss: 3.1183, Train Acc: 22.33%, Test Loss: 2.7308, Test Acc: 30.92%, Time: 282.67s\n",
            "New best model saved with accuracy: 30.92%\n",
            "\n",
            "Epoch [12/100] - Learning Rate: 0.019804\n"
          ]
        },
        {
          "output_type": "stream",
          "name": "stderr",
          "text": [
            "Training: 100%|██████████| 196/196 [04:43<00:00,  1.45s/it, loss=3.06, acc=23.7]\n"
          ]
        },
        {
          "output_type": "stream",
          "name": "stdout",
          "text": [
            "Train Loss: 3.0561, Train Acc: 23.75%, Test Loss: 2.6643, Test Acc: 31.76%, Time: 283.82s\n",
            "New best model saved with accuracy: 31.76%\n",
            "\n",
            "Epoch [13/100] - Learning Rate: 0.019733\n"
          ]
        },
        {
          "output_type": "stream",
          "name": "stderr",
          "text": [
            "Training: 100%|██████████| 196/196 [04:43<00:00,  1.45s/it, loss=3.01, acc=24.4]\n"
          ]
        },
        {
          "output_type": "stream",
          "name": "stdout",
          "text": [
            "Train Loss: 3.0052, Train Acc: 24.41%, Test Loss: 2.5989, Test Acc: 33.13%, Time: 283.53s\n",
            "New best model saved with accuracy: 33.13%\n",
            "\n",
            "Epoch [14/100] - Learning Rate: 0.019652\n"
          ]
        },
        {
          "output_type": "stream",
          "name": "stderr",
          "text": [
            "Training: 100%|██████████| 196/196 [04:45<00:00,  1.46s/it, loss=2.96, acc=25.2]\n"
          ]
        },
        {
          "output_type": "stream",
          "name": "stdout",
          "text": [
            "Train Loss: 2.9602, Train Acc: 25.24%, Test Loss: 2.5985, Test Acc: 33.60%, Time: 285.82s\n",
            "New best model saved with accuracy: 33.60%\n",
            "\n",
            "Epoch [15/100] - Learning Rate: 0.019560\n"
          ]
        },
        {
          "output_type": "stream",
          "name": "stderr",
          "text": [
            "Training: 100%|██████████| 196/196 [04:43<00:00,  1.45s/it, loss=2.92, acc=26.3]\n"
          ]
        },
        {
          "output_type": "stream",
          "name": "stdout",
          "text": [
            "Train Loss: 2.9191, Train Acc: 26.27%, Test Loss: 2.6086, Test Acc: 32.53%, Time: 283.95s\n",
            "\n",
            "Epoch [16/100] - Learning Rate: 0.019458\n"
          ]
        },
        {
          "output_type": "stream",
          "name": "stderr",
          "text": [
            "Training: 100%|██████████| 196/196 [04:43<00:00,  1.45s/it, loss=2.89, acc=27]\n"
          ]
        },
        {
          "output_type": "stream",
          "name": "stdout",
          "text": [
            "Train Loss: 2.8858, Train Acc: 27.04%, Test Loss: 2.5079, Test Acc: 35.18%, Time: 283.37s\n",
            "New best model saved with accuracy: 35.18%\n",
            "\n",
            "Epoch [17/100] - Learning Rate: 0.019346\n"
          ]
        },
        {
          "output_type": "stream",
          "name": "stderr",
          "text": [
            "Training: 100%|██████████| 196/196 [04:43<00:00,  1.45s/it, loss=2.85, acc=27.7]\n"
          ]
        },
        {
          "output_type": "stream",
          "name": "stdout",
          "text": [
            "Train Loss: 2.8508, Train Acc: 27.69%, Test Loss: 2.5075, Test Acc: 34.23%, Time: 283.75s\n",
            "\n",
            "Epoch [18/100] - Learning Rate: 0.019223\n"
          ]
        },
        {
          "output_type": "stream",
          "name": "stderr",
          "text": [
            "Training: 100%|██████████| 196/196 [04:43<00:00,  1.45s/it, loss=2.8, acc=28.8]\n"
          ]
        },
        {
          "output_type": "stream",
          "name": "stdout",
          "text": [
            "Train Loss: 2.8039, Train Acc: 28.76%, Test Loss: 2.4232, Test Acc: 36.98%, Time: 283.69s\n",
            "New best model saved with accuracy: 36.98%\n",
            "\n",
            "Epoch [19/100] - Learning Rate: 0.019090\n"
          ]
        },
        {
          "output_type": "stream",
          "name": "stderr",
          "text": [
            "Training: 100%|██████████| 196/196 [04:43<00:00,  1.45s/it, loss=2.78, acc=29.1]\n"
          ]
        },
        {
          "output_type": "stream",
          "name": "stdout",
          "text": [
            "Train Loss: 2.7822, Train Acc: 29.07%, Test Loss: 2.3841, Test Acc: 37.54%, Time: 283.36s\n",
            "New best model saved with accuracy: 37.54%\n",
            "\n",
            "Epoch [20/100] - Learning Rate: 0.018947\n"
          ]
        },
        {
          "output_type": "stream",
          "name": "stderr",
          "text": [
            "Training: 100%|██████████| 196/196 [04:45<00:00,  1.45s/it, loss=2.76, acc=29.6]\n"
          ]
        },
        {
          "output_type": "stream",
          "name": "stdout",
          "text": [
            "Train Loss: 2.7578, Train Acc: 29.56%, Test Loss: 2.3653, Test Acc: 38.07%, Time: 285.12s\n",
            "New best model saved with accuracy: 38.07%\n",
            "\n",
            "Epoch [21/100] - Learning Rate: 0.018795\n"
          ]
        },
        {
          "output_type": "stream",
          "name": "stderr",
          "text": [
            "Training: 100%|██████████| 196/196 [04:44<00:00,  1.45s/it, loss=2.74, acc=30.1]\n"
          ]
        },
        {
          "output_type": "stream",
          "name": "stdout",
          "text": [
            "Train Loss: 2.7408, Train Acc: 30.08%, Test Loss: 2.3567, Test Acc: 37.95%, Time: 284.13s\n",
            "\n",
            "Epoch [22/100] - Learning Rate: 0.018633\n"
          ]
        },
        {
          "output_type": "stream",
          "name": "stderr",
          "text": [
            "Training: 100%|██████████| 196/196 [04:45<00:00,  1.46s/it, loss=2.7, acc=30.7]\n"
          ]
        },
        {
          "output_type": "stream",
          "name": "stdout",
          "text": [
            "Train Loss: 2.7037, Train Acc: 30.72%, Test Loss: 2.3343, Test Acc: 38.80%, Time: 285.53s\n",
            "New best model saved with accuracy: 38.80%\n",
            "\n",
            "Epoch [23/100] - Learning Rate: 0.018461\n"
          ]
        },
        {
          "output_type": "stream",
          "name": "stderr",
          "text": [
            "Training: 100%|██████████| 196/196 [04:43<00:00,  1.45s/it, loss=2.68, acc=31.3]\n"
          ]
        },
        {
          "output_type": "stream",
          "name": "stdout",
          "text": [
            "Train Loss: 2.6807, Train Acc: 31.29%, Test Loss: 2.2609, Test Acc: 40.37%, Time: 283.43s\n",
            "New best model saved with accuracy: 40.37%\n",
            "\n",
            "Epoch [24/100] - Learning Rate: 0.018280\n"
          ]
        },
        {
          "output_type": "stream",
          "name": "stderr",
          "text": [
            "Training: 100%|██████████| 196/196 [04:43<00:00,  1.45s/it, loss=2.65, acc=31.7]\n"
          ]
        },
        {
          "output_type": "stream",
          "name": "stdout",
          "text": [
            "Train Loss: 2.6531, Train Acc: 31.71%, Test Loss: 2.2808, Test Acc: 39.72%, Time: 283.84s\n",
            "\n",
            "Epoch [25/100] - Learning Rate: 0.018090\n"
          ]
        },
        {
          "output_type": "stream",
          "name": "stderr",
          "text": [
            "Training: 100%|██████████| 196/196 [04:43<00:00,  1.45s/it, loss=2.64, acc=32]\n"
          ]
        },
        {
          "output_type": "stream",
          "name": "stdout",
          "text": [
            "Train Loss: 2.6350, Train Acc: 32.02%, Test Loss: 2.2778, Test Acc: 39.70%, Time: 283.86s\n",
            "\n",
            "Epoch [26/100] - Learning Rate: 0.017891\n"
          ]
        },
        {
          "output_type": "stream",
          "name": "stderr",
          "text": [
            "Training: 100%|██████████| 196/196 [04:43<00:00,  1.44s/it, loss=2.61, acc=32.5]\n"
          ]
        },
        {
          "output_type": "stream",
          "name": "stdout",
          "text": [
            "Train Loss: 2.6098, Train Acc: 32.55%, Test Loss: 2.2544, Test Acc: 39.98%, Time: 283.19s\n",
            "\n",
            "Epoch [27/100] - Learning Rate: 0.017684\n"
          ]
        },
        {
          "output_type": "stream",
          "name": "stderr",
          "text": [
            "Training: 100%|██████████| 196/196 [04:43<00:00,  1.45s/it, loss=2.6, acc=32.9]\n"
          ]
        },
        {
          "output_type": "stream",
          "name": "stdout",
          "text": [
            "Train Loss: 2.5996, Train Acc: 32.93%, Test Loss: 2.1995, Test Acc: 41.74%, Time: 283.78s\n",
            "New best model saved with accuracy: 41.74%\n",
            "\n",
            "Epoch [28/100] - Learning Rate: 0.017468\n"
          ]
        },
        {
          "output_type": "stream",
          "name": "stderr",
          "text": [
            "Training: 100%|██████████| 196/196 [04:42<00:00,  1.44s/it, loss=2.57, acc=33.2]\n"
          ]
        },
        {
          "output_type": "stream",
          "name": "stdout",
          "text": [
            "Train Loss: 2.5693, Train Acc: 33.19%, Test Loss: 2.2198, Test Acc: 40.93%, Time: 282.96s\n",
            "\n",
            "Epoch [29/100] - Learning Rate: 0.017244\n"
          ]
        },
        {
          "output_type": "stream",
          "name": "stderr",
          "text": [
            "Training: 100%|██████████| 196/196 [04:46<00:00,  1.46s/it, loss=2.55, acc=33.9]\n"
          ]
        },
        {
          "output_type": "stream",
          "name": "stdout",
          "text": [
            "Train Loss: 2.5537, Train Acc: 33.88%, Test Loss: 2.1771, Test Acc: 42.68%, Time: 286.19s\n",
            "New best model saved with accuracy: 42.68%\n",
            "\n",
            "Epoch [30/100] - Learning Rate: 0.017012\n"
          ]
        },
        {
          "output_type": "stream",
          "name": "stderr",
          "text": [
            "Training: 100%|██████████| 196/196 [04:44<00:00,  1.45s/it, loss=2.54, acc=34]\n"
          ]
        },
        {
          "output_type": "stream",
          "name": "stdout",
          "text": [
            "Train Loss: 2.5418, Train Acc: 33.96%, Test Loss: 2.1729, Test Acc: 42.45%, Time: 284.92s\n",
            "\n",
            "Epoch [31/100] - Learning Rate: 0.016773\n"
          ]
        },
        {
          "output_type": "stream",
          "name": "stderr",
          "text": [
            "Training: 100%|██████████| 196/196 [04:43<00:00,  1.45s/it, loss=2.51, acc=34.8]\n"
          ]
        },
        {
          "output_type": "stream",
          "name": "stdout",
          "text": [
            "Train Loss: 2.5147, Train Acc: 34.77%, Test Loss: 2.1373, Test Acc: 43.46%, Time: 283.57s\n",
            "New best model saved with accuracy: 43.46%\n",
            "\n",
            "Epoch [32/100] - Learning Rate: 0.016526\n"
          ]
        },
        {
          "output_type": "stream",
          "name": "stderr",
          "text": [
            "Training: 100%|██████████| 196/196 [04:43<00:00,  1.45s/it, loss=2.5, acc=35.1]\n"
          ]
        },
        {
          "output_type": "stream",
          "name": "stdout",
          "text": [
            "Train Loss: 2.4991, Train Acc: 35.06%, Test Loss: 2.1352, Test Acc: 42.57%, Time: 283.29s\n",
            "\n",
            "Epoch [33/100] - Learning Rate: 0.016272\n"
          ]
        },
        {
          "output_type": "stream",
          "name": "stderr",
          "text": [
            "Training: 100%|██████████| 196/196 [04:43<00:00,  1.45s/it, loss=2.48, acc=35.2]\n"
          ]
        },
        {
          "output_type": "stream",
          "name": "stdout",
          "text": [
            "Train Loss: 2.4813, Train Acc: 35.21%, Test Loss: 2.1143, Test Acc: 43.24%, Time: 283.51s\n",
            "\n",
            "Epoch [34/100] - Learning Rate: 0.016011\n"
          ]
        },
        {
          "output_type": "stream",
          "name": "stderr",
          "text": [
            "Training: 100%|██████████| 196/196 [04:43<00:00,  1.44s/it, loss=2.47, acc=35.6]\n"
          ]
        },
        {
          "output_type": "stream",
          "name": "stdout",
          "text": [
            "Train Loss: 2.4656, Train Acc: 35.61%, Test Loss: 2.0742, Test Acc: 44.34%, Time: 283.15s\n",
            "New best model saved with accuracy: 44.34%\n",
            "\n",
            "Epoch [35/100] - Learning Rate: 0.015743\n"
          ]
        },
        {
          "output_type": "stream",
          "name": "stderr",
          "text": [
            "Training: 100%|██████████| 196/196 [04:42<00:00,  1.44s/it, loss=2.45, acc=35.9]\n"
          ]
        },
        {
          "output_type": "stream",
          "name": "stdout",
          "text": [
            "Train Loss: 2.4521, Train Acc: 35.95%, Test Loss: 2.1118, Test Acc: 43.34%, Time: 282.08s\n",
            "\n",
            "Epoch [36/100] - Learning Rate: 0.015469\n"
          ]
        },
        {
          "output_type": "stream",
          "name": "stderr",
          "text": [
            "Training: 100%|██████████| 196/196 [04:42<00:00,  1.44s/it, loss=2.44, acc=36.2]\n"
          ]
        },
        {
          "output_type": "stream",
          "name": "stdout",
          "text": [
            "Train Loss: 2.4422, Train Acc: 36.16%, Test Loss: 2.0667, Test Acc: 45.08%, Time: 282.39s\n",
            "New best model saved with accuracy: 45.08%\n",
            "\n",
            "Epoch [37/100] - Learning Rate: 0.015190\n"
          ]
        },
        {
          "output_type": "stream",
          "name": "stderr",
          "text": [
            "Training: 100%|██████████| 196/196 [04:41<00:00,  1.44s/it, loss=2.43, acc=36.5]\n"
          ]
        },
        {
          "output_type": "stream",
          "name": "stdout",
          "text": [
            "Train Loss: 2.4260, Train Acc: 36.50%, Test Loss: 2.0583, Test Acc: 44.67%, Time: 281.87s\n",
            "\n",
            "Epoch [38/100] - Learning Rate: 0.014904\n"
          ]
        },
        {
          "output_type": "stream",
          "name": "stderr",
          "text": [
            "Training: 100%|██████████| 196/196 [04:42<00:00,  1.44s/it, loss=2.41, acc=36.7]\n"
          ]
        },
        {
          "output_type": "stream",
          "name": "stdout",
          "text": [
            "Train Loss: 2.4149, Train Acc: 36.72%, Test Loss: 2.0686, Test Acc: 45.03%, Time: 282.17s\n",
            "\n",
            "Epoch [39/100] - Learning Rate: 0.014613\n"
          ]
        },
        {
          "output_type": "stream",
          "name": "stderr",
          "text": [
            "Training: 100%|██████████| 196/196 [04:41<00:00,  1.44s/it, loss=2.4, acc=37]\n"
          ]
        },
        {
          "output_type": "stream",
          "name": "stdout",
          "text": [
            "Train Loss: 2.3968, Train Acc: 37.01%, Test Loss: 2.0350, Test Acc: 45.47%, Time: 281.65s\n",
            "New best model saved with accuracy: 45.47%\n",
            "\n",
            "Epoch [40/100] - Learning Rate: 0.014318\n"
          ]
        },
        {
          "output_type": "stream",
          "name": "stderr",
          "text": [
            "Training: 100%|██████████| 196/196 [04:41<00:00,  1.44s/it, loss=2.39, acc=37.5]\n"
          ]
        },
        {
          "output_type": "stream",
          "name": "stdout",
          "text": [
            "Train Loss: 2.3863, Train Acc: 37.48%, Test Loss: 2.0546, Test Acc: 45.62%, Time: 281.52s\n",
            "New best model saved with accuracy: 45.62%\n",
            "\n",
            "Epoch [41/100] - Learning Rate: 0.014017\n"
          ]
        },
        {
          "output_type": "stream",
          "name": "stderr",
          "text": [
            "Training: 100%|██████████| 196/196 [04:41<00:00,  1.44s/it, loss=2.36, acc=37.8]\n"
          ]
        },
        {
          "output_type": "stream",
          "name": "stdout",
          "text": [
            "Train Loss: 2.3595, Train Acc: 37.83%, Test Loss: 2.0177, Test Acc: 45.99%, Time: 281.63s\n",
            "New best model saved with accuracy: 45.99%\n",
            "\n",
            "Epoch [42/100] - Learning Rate: 0.013712\n"
          ]
        },
        {
          "output_type": "stream",
          "name": "stderr",
          "text": [
            "Training: 100%|██████████| 196/196 [04:41<00:00,  1.44s/it, loss=2.35, acc=38]\n"
          ]
        },
        {
          "output_type": "stream",
          "name": "stdout",
          "text": [
            "Train Loss: 2.3537, Train Acc: 37.99%, Test Loss: 1.9776, Test Acc: 47.04%, Time: 281.83s\n",
            "New best model saved with accuracy: 47.04%\n",
            "\n",
            "Epoch [43/100] - Learning Rate: 0.013403\n"
          ]
        },
        {
          "output_type": "stream",
          "name": "stderr",
          "text": [
            "Training: 100%|██████████| 196/196 [04:41<00:00,  1.44s/it, loss=2.35, acc=38.1]\n"
          ]
        },
        {
          "output_type": "stream",
          "name": "stdout",
          "text": [
            "Train Loss: 2.3459, Train Acc: 38.13%, Test Loss: 2.0108, Test Acc: 46.25%, Time: 281.31s\n",
            "\n",
            "Epoch [44/100] - Learning Rate: 0.013090\n"
          ]
        },
        {
          "output_type": "stream",
          "name": "stderr",
          "text": [
            "Training: 100%|██████████| 196/196 [04:41<00:00,  1.44s/it, loss=2.33, acc=38.6]\n"
          ]
        },
        {
          "output_type": "stream",
          "name": "stdout",
          "text": [
            "Train Loss: 2.3255, Train Acc: 38.63%, Test Loss: 1.9548, Test Acc: 47.74%, Time: 281.86s\n",
            "New best model saved with accuracy: 47.74%\n",
            "\n",
            "Epoch [45/100] - Learning Rate: 0.012774\n"
          ]
        },
        {
          "output_type": "stream",
          "name": "stderr",
          "text": [
            "Training: 100%|██████████| 196/196 [04:40<00:00,  1.43s/it, loss=2.31, acc=39.2]\n"
          ]
        },
        {
          "output_type": "stream",
          "name": "stdout",
          "text": [
            "Train Loss: 2.3055, Train Acc: 39.16%, Test Loss: 1.9859, Test Acc: 47.44%, Time: 280.74s\n",
            "\n",
            "Epoch [46/100] - Learning Rate: 0.012455\n"
          ]
        },
        {
          "output_type": "stream",
          "name": "stderr",
          "text": [
            "Training: 100%|██████████| 196/196 [04:40<00:00,  1.43s/it, loss=2.31, acc=39]\n"
          ]
        },
        {
          "output_type": "stream",
          "name": "stdout",
          "text": [
            "Train Loss: 2.3088, Train Acc: 39.02%, Test Loss: 1.9598, Test Acc: 47.53%, Time: 280.91s\n",
            "\n",
            "Epoch [47/100] - Learning Rate: 0.012133\n"
          ]
        },
        {
          "output_type": "stream",
          "name": "stderr",
          "text": [
            "Training: 100%|██████████| 196/196 [04:41<00:00,  1.43s/it, loss=2.29, acc=39.3]\n"
          ]
        },
        {
          "output_type": "stream",
          "name": "stdout",
          "text": [
            "Train Loss: 2.2891, Train Acc: 39.27%, Test Loss: 1.9704, Test Acc: 47.30%, Time: 281.02s\n",
            "\n",
            "Epoch [48/100] - Learning Rate: 0.011809\n"
          ]
        },
        {
          "output_type": "stream",
          "name": "stderr",
          "text": [
            "Training: 100%|██████████| 196/196 [04:40<00:00,  1.43s/it, loss=2.28, acc=39.4]\n"
          ]
        },
        {
          "output_type": "stream",
          "name": "stdout",
          "text": [
            "Train Loss: 2.2780, Train Acc: 39.43%, Test Loss: 1.9594, Test Acc: 47.48%, Time: 280.95s\n",
            "\n",
            "Epoch [49/100] - Learning Rate: 0.011483\n"
          ]
        },
        {
          "output_type": "stream",
          "name": "stderr",
          "text": [
            "Training: 100%|██████████| 196/196 [04:42<00:00,  1.44s/it, loss=2.26, acc=40.2]\n"
          ]
        },
        {
          "output_type": "stream",
          "name": "stdout",
          "text": [
            "Train Loss: 2.2635, Train Acc: 40.23%, Test Loss: 1.9235, Test Acc: 48.11%, Time: 282.35s\n",
            "New best model saved with accuracy: 48.11%\n",
            "\n",
            "Epoch [50/100] - Learning Rate: 0.011155\n"
          ]
        },
        {
          "output_type": "stream",
          "name": "stderr",
          "text": [
            "Training: 100%|██████████| 196/196 [04:41<00:00,  1.44s/it, loss=2.25, acc=40.4]\n"
          ]
        },
        {
          "output_type": "stream",
          "name": "stdout",
          "text": [
            "Train Loss: 2.2524, Train Acc: 40.37%, Test Loss: 1.9195, Test Acc: 48.59%, Time: 281.33s\n",
            "New best model saved with accuracy: 48.59%\n",
            "\n",
            "Epoch [51/100] - Learning Rate: 0.010826\n"
          ]
        },
        {
          "output_type": "stream",
          "name": "stderr",
          "text": [
            "Training: 100%|██████████| 196/196 [04:40<00:00,  1.43s/it, loss=2.25, acc=40.5]\n"
          ]
        },
        {
          "output_type": "stream",
          "name": "stdout",
          "text": [
            "Train Loss: 2.2505, Train Acc: 40.51%, Test Loss: 1.9415, Test Acc: 48.29%, Time: 280.65s\n",
            "\n",
            "Epoch [52/100] - Learning Rate: 0.010496\n"
          ]
        },
        {
          "output_type": "stream",
          "name": "stderr",
          "text": [
            "Training: 100%|██████████| 196/196 [04:41<00:00,  1.43s/it, loss=2.24, acc=40.4]\n"
          ]
        },
        {
          "output_type": "stream",
          "name": "stdout",
          "text": [
            "Train Loss: 2.2418, Train Acc: 40.44%, Test Loss: 1.9137, Test Acc: 48.74%, Time: 281.02s\n",
            "New best model saved with accuracy: 48.74%\n",
            "\n",
            "Epoch [53/100] - Learning Rate: 0.010165\n"
          ]
        },
        {
          "output_type": "stream",
          "name": "stderr",
          "text": [
            "Training: 100%|██████████| 196/196 [04:41<00:00,  1.44s/it, loss=2.23, acc=40.8]\n"
          ]
        },
        {
          "output_type": "stream",
          "name": "stdout",
          "text": [
            "Train Loss: 2.2302, Train Acc: 40.82%, Test Loss: 1.9214, Test Acc: 48.07%, Time: 281.88s\n",
            "\n",
            "Epoch [54/100] - Learning Rate: 0.009835\n"
          ]
        },
        {
          "output_type": "stream",
          "name": "stderr",
          "text": [
            "Training: 100%|██████████| 196/196 [04:41<00:00,  1.44s/it, loss=2.21, acc=41.2]\n"
          ]
        },
        {
          "output_type": "stream",
          "name": "stdout",
          "text": [
            "Train Loss: 2.2068, Train Acc: 41.23%, Test Loss: 1.8917, Test Acc: 49.28%, Time: 281.62s\n",
            "New best model saved with accuracy: 49.28%\n",
            "\n",
            "Epoch [55/100] - Learning Rate: 0.009504\n"
          ]
        },
        {
          "output_type": "stream",
          "name": "stderr",
          "text": [
            "Training: 100%|██████████| 196/196 [04:41<00:00,  1.44s/it, loss=2.2, acc=41.5]\n"
          ]
        },
        {
          "output_type": "stream",
          "name": "stdout",
          "text": [
            "Train Loss: 2.2028, Train Acc: 41.46%, Test Loss: 1.8820, Test Acc: 49.55%, Time: 281.56s\n",
            "New best model saved with accuracy: 49.55%\n",
            "\n",
            "Epoch [56/100] - Learning Rate: 0.009174\n"
          ]
        },
        {
          "output_type": "stream",
          "name": "stderr",
          "text": [
            "Training: 100%|██████████| 196/196 [04:41<00:00,  1.44s/it, loss=2.2, acc=41.5]\n"
          ]
        },
        {
          "output_type": "stream",
          "name": "stdout",
          "text": [
            "Train Loss: 2.2003, Train Acc: 41.48%, Test Loss: 1.8977, Test Acc: 48.78%, Time: 281.39s\n",
            "\n",
            "Epoch [57/100] - Learning Rate: 0.008845\n"
          ]
        },
        {
          "output_type": "stream",
          "name": "stderr",
          "text": [
            "Training: 100%|██████████| 196/196 [04:41<00:00,  1.43s/it, loss=2.19, acc=41.7]\n"
          ]
        },
        {
          "output_type": "stream",
          "name": "stdout",
          "text": [
            "Train Loss: 2.1894, Train Acc: 41.73%, Test Loss: 1.8568, Test Acc: 50.11%, Time: 281.03s\n",
            "New best model saved with accuracy: 50.11%\n",
            "\n",
            "Epoch [58/100] - Learning Rate: 0.008517\n"
          ]
        },
        {
          "output_type": "stream",
          "name": "stderr",
          "text": [
            "Training: 100%|██████████| 196/196 [04:41<00:00,  1.43s/it, loss=2.18, acc=41.9]\n"
          ]
        },
        {
          "output_type": "stream",
          "name": "stdout",
          "text": [
            "Train Loss: 2.1771, Train Acc: 41.88%, Test Loss: 1.8526, Test Acc: 50.01%, Time: 281.24s\n",
            "\n",
            "Epoch [59/100] - Learning Rate: 0.008191\n"
          ]
        },
        {
          "output_type": "stream",
          "name": "stderr",
          "text": [
            "Training: 100%|██████████| 196/196 [04:40<00:00,  1.43s/it, loss=2.17, acc=42.1]\n"
          ]
        },
        {
          "output_type": "stream",
          "name": "stdout",
          "text": [
            "Train Loss: 2.1735, Train Acc: 42.05%, Test Loss: 1.8478, Test Acc: 50.20%, Time: 280.96s\n",
            "New best model saved with accuracy: 50.20%\n",
            "\n",
            "Epoch [60/100] - Learning Rate: 0.007867\n"
          ]
        },
        {
          "output_type": "stream",
          "name": "stderr",
          "text": [
            "Training: 100%|██████████| 196/196 [04:41<00:00,  1.44s/it, loss=2.16, acc=42.3]\n"
          ]
        },
        {
          "output_type": "stream",
          "name": "stdout",
          "text": [
            "Train Loss: 2.1595, Train Acc: 42.29%, Test Loss: 1.8578, Test Acc: 49.66%, Time: 281.51s\n",
            "\n",
            "Epoch [61/100] - Learning Rate: 0.007545\n"
          ]
        },
        {
          "output_type": "stream",
          "name": "stderr",
          "text": [
            "Training: 100%|██████████| 196/196 [04:42<00:00,  1.44s/it, loss=2.16, acc=42.4]\n"
          ]
        },
        {
          "output_type": "stream",
          "name": "stdout",
          "text": [
            "Train Loss: 2.1553, Train Acc: 42.39%, Test Loss: 1.8635, Test Acc: 50.12%, Time: 282.19s\n",
            "\n",
            "Epoch [62/100] - Learning Rate: 0.007226\n"
          ]
        },
        {
          "output_type": "stream",
          "name": "stderr",
          "text": [
            "Training: 100%|██████████| 196/196 [04:40<00:00,  1.43s/it, loss=2.14, acc=42.6]\n"
          ]
        },
        {
          "output_type": "stream",
          "name": "stdout",
          "text": [
            "Train Loss: 2.1401, Train Acc: 42.60%, Test Loss: 1.8292, Test Acc: 50.62%, Time: 280.92s\n",
            "New best model saved with accuracy: 50.62%\n",
            "\n",
            "Epoch [63/100] - Learning Rate: 0.006910\n"
          ]
        },
        {
          "output_type": "stream",
          "name": "stderr",
          "text": [
            "Training: 100%|██████████| 196/196 [04:41<00:00,  1.44s/it, loss=2.14, acc=42.9]\n"
          ]
        },
        {
          "output_type": "stream",
          "name": "stdout",
          "text": [
            "Train Loss: 2.1367, Train Acc: 42.94%, Test Loss: 1.8439, Test Acc: 50.05%, Time: 281.55s\n",
            "\n",
            "Epoch [64/100] - Learning Rate: 0.006597\n"
          ]
        },
        {
          "output_type": "stream",
          "name": "stderr",
          "text": [
            "Training: 100%|██████████| 196/196 [04:41<00:00,  1.44s/it, loss=2.13, acc=42.7]\n"
          ]
        },
        {
          "output_type": "stream",
          "name": "stdout",
          "text": [
            "Train Loss: 2.1348, Train Acc: 42.67%, Test Loss: 1.8337, Test Acc: 50.54%, Time: 281.55s\n",
            "\n",
            "Epoch [65/100] - Learning Rate: 0.006288\n"
          ]
        },
        {
          "output_type": "stream",
          "name": "stderr",
          "text": [
            "Training: 100%|██████████| 196/196 [04:40<00:00,  1.43s/it, loss=2.11, acc=43.1]\n"
          ]
        },
        {
          "output_type": "stream",
          "name": "stdout",
          "text": [
            "Train Loss: 2.1131, Train Acc: 43.08%, Test Loss: 1.8134, Test Acc: 50.99%, Time: 280.76s\n",
            "New best model saved with accuracy: 50.99%\n",
            "\n",
            "Epoch [66/100] - Learning Rate: 0.005983\n"
          ]
        },
        {
          "output_type": "stream",
          "name": "stderr",
          "text": [
            "Training: 100%|██████████| 196/196 [04:40<00:00,  1.43s/it, loss=2.11, acc=43.2]\n"
          ]
        },
        {
          "output_type": "stream",
          "name": "stdout",
          "text": [
            "Train Loss: 2.1107, Train Acc: 43.22%, Test Loss: 1.8198, Test Acc: 51.37%, Time: 280.76s\n",
            "New best model saved with accuracy: 51.37%\n",
            "\n",
            "Epoch [67/100] - Learning Rate: 0.005682\n"
          ]
        },
        {
          "output_type": "stream",
          "name": "stderr",
          "text": [
            "Training: 100%|██████████| 196/196 [04:41<00:00,  1.44s/it, loss=2.11, acc=43.7]\n"
          ]
        },
        {
          "output_type": "stream",
          "name": "stdout",
          "text": [
            "Train Loss: 2.1055, Train Acc: 43.70%, Test Loss: 1.8211, Test Acc: 50.59%, Time: 281.61s\n",
            "\n",
            "Epoch [68/100] - Learning Rate: 0.005387\n"
          ]
        },
        {
          "output_type": "stream",
          "name": "stderr",
          "text": [
            "Training: 100%|██████████| 196/196 [04:41<00:00,  1.43s/it, loss=2.1, acc=43.6]\n"
          ]
        },
        {
          "output_type": "stream",
          "name": "stdout",
          "text": [
            "Train Loss: 2.0970, Train Acc: 43.63%, Test Loss: 1.8019, Test Acc: 50.99%, Time: 281.17s\n",
            "\n",
            "Epoch [69/100] - Learning Rate: 0.005096\n"
          ]
        },
        {
          "output_type": "stream",
          "name": "stderr",
          "text": [
            "Training: 100%|██████████| 196/196 [04:41<00:00,  1.44s/it, loss=2.09, acc=43.7]\n"
          ]
        },
        {
          "output_type": "stream",
          "name": "stdout",
          "text": [
            "Train Loss: 2.0925, Train Acc: 43.70%, Test Loss: 1.8074, Test Acc: 51.11%, Time: 281.47s\n",
            "\n",
            "Epoch [70/100] - Learning Rate: 0.004810\n"
          ]
        },
        {
          "output_type": "stream",
          "name": "stderr",
          "text": [
            "Training: 100%|██████████| 196/196 [04:42<00:00,  1.44s/it, loss=2.09, acc=44]\n"
          ]
        },
        {
          "output_type": "stream",
          "name": "stdout",
          "text": [
            "Train Loss: 2.0868, Train Acc: 44.00%, Test Loss: 1.7933, Test Acc: 51.87%, Time: 282.45s\n",
            "New best model saved with accuracy: 51.87%\n",
            "\n",
            "Epoch [71/100] - Learning Rate: 0.004531\n"
          ]
        },
        {
          "output_type": "stream",
          "name": "stderr",
          "text": [
            "Training: 100%|██████████| 196/196 [04:41<00:00,  1.44s/it, loss=2.08, acc=44.3]\n"
          ]
        },
        {
          "output_type": "stream",
          "name": "stdout",
          "text": [
            "Train Loss: 2.0764, Train Acc: 44.28%, Test Loss: 1.7851, Test Acc: 51.87%, Time: 281.35s\n",
            "\n",
            "Epoch [72/100] - Learning Rate: 0.004257\n"
          ]
        },
        {
          "output_type": "stream",
          "name": "stderr",
          "text": [
            "Training: 100%|██████████| 196/196 [04:41<00:00,  1.44s/it, loss=2.07, acc=43.8]\n"
          ]
        },
        {
          "output_type": "stream",
          "name": "stdout",
          "text": [
            "Train Loss: 2.0721, Train Acc: 43.85%, Test Loss: 1.7828, Test Acc: 51.61%, Time: 281.28s\n",
            "\n",
            "Epoch [73/100] - Learning Rate: 0.003989\n"
          ]
        },
        {
          "output_type": "stream",
          "name": "stderr",
          "text": [
            "Training: 100%|██████████| 196/196 [04:41<00:00,  1.44s/it, loss=2.06, acc=44.5]\n"
          ]
        },
        {
          "output_type": "stream",
          "name": "stdout",
          "text": [
            "Train Loss: 2.0629, Train Acc: 44.50%, Test Loss: 1.7851, Test Acc: 51.83%, Time: 281.86s\n",
            "\n",
            "Epoch [74/100] - Learning Rate: 0.003728\n"
          ]
        },
        {
          "output_type": "stream",
          "name": "stderr",
          "text": [
            "Training: 100%|██████████| 196/196 [04:41<00:00,  1.44s/it, loss=2.06, acc=44.8]\n"
          ]
        },
        {
          "output_type": "stream",
          "name": "stdout",
          "text": [
            "Train Loss: 2.0617, Train Acc: 44.76%, Test Loss: 1.7833, Test Acc: 51.77%, Time: 281.36s\n",
            "\n",
            "Epoch [75/100] - Learning Rate: 0.003474\n"
          ]
        },
        {
          "output_type": "stream",
          "name": "stderr",
          "text": [
            "Training: 100%|██████████| 196/196 [04:41<00:00,  1.44s/it, loss=2.07, acc=44.7]\n"
          ]
        },
        {
          "output_type": "stream",
          "name": "stdout",
          "text": [
            "Train Loss: 2.0652, Train Acc: 44.71%, Test Loss: 1.7732, Test Acc: 51.86%, Time: 281.57s\n",
            "\n",
            "Epoch [76/100] - Learning Rate: 0.003227\n"
          ]
        },
        {
          "output_type": "stream",
          "name": "stderr",
          "text": [
            "Training: 100%|██████████| 196/196 [04:41<00:00,  1.44s/it, loss=2.06, acc=44.8]\n"
          ]
        },
        {
          "output_type": "stream",
          "name": "stdout",
          "text": [
            "Train Loss: 2.0550, Train Acc: 44.85%, Test Loss: 1.7718, Test Acc: 52.11%, Time: 282.00s\n",
            "New best model saved with accuracy: 52.11%\n",
            "\n",
            "Epoch [77/100] - Learning Rate: 0.002988\n"
          ]
        },
        {
          "output_type": "stream",
          "name": "stderr",
          "text": [
            "Training: 100%|██████████| 196/196 [04:41<00:00,  1.44s/it, loss=2.05, acc=44.9]\n"
          ]
        },
        {
          "output_type": "stream",
          "name": "stdout",
          "text": [
            "Train Loss: 2.0523, Train Acc: 44.90%, Test Loss: 1.7694, Test Acc: 52.21%, Time: 281.79s\n",
            "New best model saved with accuracy: 52.21%\n",
            "\n",
            "Epoch [78/100] - Learning Rate: 0.002756\n"
          ]
        },
        {
          "output_type": "stream",
          "name": "stderr",
          "text": [
            "Training: 100%|██████████| 196/196 [04:42<00:00,  1.44s/it, loss=2.04, acc=45.1]\n"
          ]
        },
        {
          "output_type": "stream",
          "name": "stdout",
          "text": [
            "Train Loss: 2.0426, Train Acc: 45.11%, Test Loss: 1.7616, Test Acc: 52.13%, Time: 282.39s\n",
            "\n",
            "Epoch [79/100] - Learning Rate: 0.002532\n"
          ]
        },
        {
          "output_type": "stream",
          "name": "stderr",
          "text": [
            "Training: 100%|██████████| 196/196 [04:41<00:00,  1.43s/it, loss=2.04, acc=45]\n"
          ]
        },
        {
          "output_type": "stream",
          "name": "stdout",
          "text": [
            "Train Loss: 2.0415, Train Acc: 45.03%, Test Loss: 1.7682, Test Acc: 52.10%, Time: 281.21s\n",
            "\n",
            "Epoch [80/100] - Learning Rate: 0.002316\n"
          ]
        },
        {
          "output_type": "stream",
          "name": "stderr",
          "text": [
            "Training: 100%|██████████| 196/196 [04:41<00:00,  1.44s/it, loss=2.03, acc=45.4]\n"
          ]
        },
        {
          "output_type": "stream",
          "name": "stdout",
          "text": [
            "Train Loss: 2.0321, Train Acc: 45.39%, Test Loss: 1.7596, Test Acc: 52.60%, Time: 281.52s\n",
            "New best model saved with accuracy: 52.60%\n",
            "\n",
            "Epoch [81/100] - Learning Rate: 0.002109\n"
          ]
        },
        {
          "output_type": "stream",
          "name": "stderr",
          "text": [
            "Training: 100%|██████████| 196/196 [04:41<00:00,  1.44s/it, loss=2.03, acc=45.4]\n"
          ]
        },
        {
          "output_type": "stream",
          "name": "stdout",
          "text": [
            "Train Loss: 2.0320, Train Acc: 45.36%, Test Loss: 1.7565, Test Acc: 52.55%, Time: 281.93s\n",
            "\n",
            "Epoch [82/100] - Learning Rate: 0.001910\n"
          ]
        },
        {
          "output_type": "stream",
          "name": "stderr",
          "text": [
            "Training: 100%|██████████| 196/196 [04:41<00:00,  1.44s/it, loss=2.03, acc=45.2]\n"
          ]
        },
        {
          "output_type": "stream",
          "name": "stdout",
          "text": [
            "Train Loss: 2.0296, Train Acc: 45.21%, Test Loss: 1.7499, Test Acc: 52.57%, Time: 281.37s\n",
            "\n",
            "Epoch [83/100] - Learning Rate: 0.001720\n"
          ]
        },
        {
          "output_type": "stream",
          "name": "stderr",
          "text": [
            "Training: 100%|██████████| 196/196 [04:41<00:00,  1.44s/it, loss=2.03, acc=45.4]\n"
          ]
        },
        {
          "output_type": "stream",
          "name": "stdout",
          "text": [
            "Train Loss: 2.0270, Train Acc: 45.39%, Test Loss: 1.7506, Test Acc: 52.28%, Time: 281.63s\n",
            "\n",
            "Epoch [84/100] - Learning Rate: 0.001539\n"
          ]
        },
        {
          "output_type": "stream",
          "name": "stderr",
          "text": [
            "Training: 100%|██████████| 196/196 [04:41<00:00,  1.44s/it, loss=2.02, acc=45.6]\n"
          ]
        },
        {
          "output_type": "stream",
          "name": "stdout",
          "text": [
            "Train Loss: 2.0164, Train Acc: 45.64%, Test Loss: 1.7476, Test Acc: 52.59%, Time: 281.90s\n",
            "\n",
            "Epoch [85/100] - Learning Rate: 0.001367\n"
          ]
        },
        {
          "output_type": "stream",
          "name": "stderr",
          "text": [
            "Training: 100%|██████████| 196/196 [04:41<00:00,  1.44s/it, loss=2.01, acc=45.6]\n"
          ]
        },
        {
          "output_type": "stream",
          "name": "stdout",
          "text": [
            "Train Loss: 2.0135, Train Acc: 45.59%, Test Loss: 1.7458, Test Acc: 52.81%, Time: 281.54s\n",
            "New best model saved with accuracy: 52.81%\n",
            "\n",
            "Epoch [86/100] - Learning Rate: 0.001205\n"
          ]
        },
        {
          "output_type": "stream",
          "name": "stderr",
          "text": [
            "Training: 100%|██████████| 196/196 [04:42<00:00,  1.44s/it, loss=2.02, acc=45.8]\n"
          ]
        },
        {
          "output_type": "stream",
          "name": "stdout",
          "text": [
            "Train Loss: 2.0154, Train Acc: 45.81%, Test Loss: 1.7426, Test Acc: 52.79%, Time: 282.89s\n",
            "\n",
            "Epoch [87/100] - Learning Rate: 0.001053\n"
          ]
        },
        {
          "output_type": "stream",
          "name": "stderr",
          "text": [
            "Training: 100%|██████████| 196/196 [04:41<00:00,  1.43s/it, loss=2.01, acc=45.8]\n"
          ]
        },
        {
          "output_type": "stream",
          "name": "stdout",
          "text": [
            "Train Loss: 2.0097, Train Acc: 45.77%, Test Loss: 1.7439, Test Acc: 52.86%, Time: 281.08s\n",
            "New best model saved with accuracy: 52.86%\n",
            "\n",
            "Epoch [88/100] - Learning Rate: 0.000910\n"
          ]
        },
        {
          "output_type": "stream",
          "name": "stderr",
          "text": [
            "Training: 100%|██████████| 196/196 [04:43<00:00,  1.44s/it, loss=2.01, acc=45.4]\n"
          ]
        },
        {
          "output_type": "stream",
          "name": "stdout",
          "text": [
            "Train Loss: 2.0087, Train Acc: 45.44%, Test Loss: 1.7456, Test Acc: 52.69%, Time: 283.18s\n",
            "\n",
            "Epoch [89/100] - Learning Rate: 0.000777\n"
          ]
        },
        {
          "output_type": "stream",
          "name": "stderr",
          "text": [
            "Training: 100%|██████████| 196/196 [04:41<00:00,  1.44s/it, loss=2.01, acc=45.9]\n"
          ]
        },
        {
          "output_type": "stream",
          "name": "stdout",
          "text": [
            "Train Loss: 2.0084, Train Acc: 45.89%, Test Loss: 1.7401, Test Acc: 52.61%, Time: 281.63s\n",
            "\n",
            "Epoch [90/100] - Learning Rate: 0.000654\n"
          ]
        },
        {
          "output_type": "stream",
          "name": "stderr",
          "text": [
            "Training: 100%|██████████| 196/196 [04:42<00:00,  1.44s/it, loss=2.01, acc=45.8]\n"
          ]
        },
        {
          "output_type": "stream",
          "name": "stdout",
          "text": [
            "Train Loss: 2.0102, Train Acc: 45.76%, Test Loss: 1.7405, Test Acc: 52.69%, Time: 282.53s\n",
            "\n",
            "Epoch [91/100] - Learning Rate: 0.000542\n"
          ]
        },
        {
          "output_type": "stream",
          "name": "stderr",
          "text": [
            "Training: 100%|██████████| 196/196 [04:41<00:00,  1.44s/it, loss=2.01, acc=45.8]\n"
          ]
        },
        {
          "output_type": "stream",
          "name": "stdout",
          "text": [
            "Train Loss: 2.0065, Train Acc: 45.76%, Test Loss: 1.7399, Test Acc: 52.85%, Time: 281.54s\n",
            "\n",
            "Epoch [92/100] - Learning Rate: 0.000440\n"
          ]
        },
        {
          "output_type": "stream",
          "name": "stderr",
          "text": [
            "Training: 100%|██████████| 196/196 [04:42<00:00,  1.44s/it, loss=2.01, acc=46.1]\n"
          ]
        },
        {
          "output_type": "stream",
          "name": "stdout",
          "text": [
            "Train Loss: 2.0053, Train Acc: 46.11%, Test Loss: 1.7367, Test Acc: 52.83%, Time: 282.63s\n",
            "\n",
            "Epoch [93/100] - Learning Rate: 0.000348\n"
          ]
        },
        {
          "output_type": "stream",
          "name": "stderr",
          "text": [
            "Training: 100%|██████████| 196/196 [04:41<00:00,  1.44s/it, loss=2, acc=46]\n"
          ]
        },
        {
          "output_type": "stream",
          "name": "stdout",
          "text": [
            "Train Loss: 2.0002, Train Acc: 46.04%, Test Loss: 1.7375, Test Acc: 52.90%, Time: 281.29s\n",
            "New best model saved with accuracy: 52.90%\n",
            "\n",
            "Epoch [94/100] - Learning Rate: 0.000267\n"
          ]
        },
        {
          "output_type": "stream",
          "name": "stderr",
          "text": [
            "Training: 100%|██████████| 196/196 [04:41<00:00,  1.44s/it, loss=2, acc=45.9]\n"
          ]
        },
        {
          "output_type": "stream",
          "name": "stdout",
          "text": [
            "Train Loss: 1.9987, Train Acc: 45.89%, Test Loss: 1.7373, Test Acc: 52.69%, Time: 281.64s\n",
            "\n",
            "Epoch [95/100] - Learning Rate: 0.000196\n"
          ]
        },
        {
          "output_type": "stream",
          "name": "stderr",
          "text": [
            "Training: 100%|██████████| 196/196 [04:42<00:00,  1.44s/it, loss=2, acc=45.9]\n"
          ]
        },
        {
          "output_type": "stream",
          "name": "stdout",
          "text": [
            "Train Loss: 1.9988, Train Acc: 45.85%, Test Loss: 1.7361, Test Acc: 52.70%, Time: 282.90s\n",
            "\n",
            "Epoch [96/100] - Learning Rate: 0.000136\n"
          ]
        },
        {
          "output_type": "stream",
          "name": "stderr",
          "text": [
            "Training: 100%|██████████| 196/196 [04:40<00:00,  1.43s/it, loss=2, acc=46.1]\n"
          ]
        },
        {
          "output_type": "stream",
          "name": "stdout",
          "text": [
            "Train Loss: 1.9963, Train Acc: 46.15%, Test Loss: 1.7353, Test Acc: 52.80%, Time: 280.92s\n",
            "\n",
            "Epoch [97/100] - Learning Rate: 0.000087\n"
          ]
        },
        {
          "output_type": "stream",
          "name": "stderr",
          "text": [
            "Training: 100%|██████████| 196/196 [04:41<00:00,  1.43s/it, loss=2, acc=46]\n"
          ]
        },
        {
          "output_type": "stream",
          "name": "stdout",
          "text": [
            "Train Loss: 2.0032, Train Acc: 45.99%, Test Loss: 1.7352, Test Acc: 52.76%, Time: 281.23s\n",
            "\n",
            "Epoch [98/100] - Learning Rate: 0.000049\n"
          ]
        },
        {
          "output_type": "stream",
          "name": "stderr",
          "text": [
            "Training: 100%|██████████| 196/196 [04:42<00:00,  1.44s/it, loss=2.01, acc=45.7]\n"
          ]
        },
        {
          "output_type": "stream",
          "name": "stdout",
          "text": [
            "Train Loss: 2.0072, Train Acc: 45.71%, Test Loss: 1.7361, Test Acc: 52.83%, Time: 282.54s\n",
            "\n",
            "Epoch [99/100] - Learning Rate: 0.000022\n"
          ]
        },
        {
          "output_type": "stream",
          "name": "stderr",
          "text": [
            "Training: 100%|██████████| 196/196 [04:42<00:00,  1.44s/it, loss=1.99, acc=46.1]\n"
          ]
        },
        {
          "output_type": "stream",
          "name": "stdout",
          "text": [
            "Train Loss: 1.9932, Train Acc: 46.06%, Test Loss: 1.7355, Test Acc: 52.80%, Time: 282.22s\n",
            "\n",
            "Epoch [100/100] - Learning Rate: 0.000005\n"
          ]
        },
        {
          "output_type": "stream",
          "name": "stderr",
          "text": [
            "Training: 100%|██████████| 196/196 [04:41<00:00,  1.44s/it, loss=1.99, acc=45.9]\n"
          ]
        },
        {
          "output_type": "stream",
          "name": "stdout",
          "text": [
            "Train Loss: 1.9896, Train Acc: 45.95%, Test Loss: 1.7353, Test Acc: 52.91%, Time: 281.44s\n",
            "New best model saved with accuracy: 52.91%\n",
            "Best model loaded with accuracy: 52.91%\n"
          ]
        },
        {
          "output_type": "display_data",
          "data": {
            "text/plain": [
              "<Figure size 1800x500 with 3 Axes>"
            ],
            "image/png": "[encoded data removed]"
          },
          "metadata": {}
        },
        {
          "output_type": "stream",
          "name": "stdout",
          "text": [
            "LARS benchmark completed!\n"
          ]
        }
      ],
      "source": [
        "import torch\n",
        "import torch.nn as nn\n",
        "import torchvision.transforms as transforms\n",
        "import torch.nn.functional as F\n",
        "from torchvision.datasets import CIFAR10, CIFAR100\n",
        "import torchvision.models as models\n",
        "from torch.utils.data import DataLoader\n",
        "\n",
        "from tqdm import tqdm\n",
        "import matplotlib.pyplot as plt\n",
        "import time\n",
        "import pickle\n",
        "import numpy as np\n",
        "import random\n",
        "\n",
        "from torch_optimizer import LARS\n",
        "\n",
        "import math\n",
        "\n",
        "print(\"PyTorch version:\", torch.__version__)\n",
        "device = torch.device(\"cuda:0\" if torch.cuda.is_available() else \"cpu\")\n",
        "print(f\"Using device: {device}\")\n",
        "\n",
        "# Seeding for reproducibility\n",
        "seed = 2025\n",
        "torch.manual_seed(seed)\n",
        "torch.cuda.manual_seed(seed)\n",
        "np.random.seed(seed)\n",
        "random.seed(seed)\n",
        "\n",
        "# transforms\n",
        "train_transform = transforms.Compose(\n",
        "    [\n",
        "        transforms.RandomCrop(32, padding=4),\n",
        "        transforms.RandomHorizontalFlip(),\n",
        "        transforms.ToTensor(),\n",
        "        transforms.Normalize((0.4914, 0.4822, 0.4465), (0.2023, 0.1994, 0.2010)),\n",
        "    ]\n",
        ")\n",
        "\n",
        "test_transform = transforms.Compose(\n",
        "    [\n",
        "        transforms.ToTensor(),\n",
        "        transforms.Normalize((0.4914, 0.4822, 0.4465), (0.2023, 0.1994, 0.2010)),\n",
        "    ]\n",
        ")\n",
        "\n",
        "\n",
        "# load data\n",
        "\n",
        "\n",
        "def load_data(dataset_name=\"cifar100\", batch_size=128, num_workers=2):\n",
        "    \"\"\"Enhanced data loading with stronger augmentation for CIFAR-100\"\"\"\n",
        "\n",
        "    # Better augmentation for CIFAR-100\n",
        "    train_transform = transforms.Compose(\n",
        "        [\n",
        "            transforms.RandomCrop(32, padding=4),\n",
        "            transforms.RandomHorizontalFlip(),\n",
        "            transforms.ToTensor(),\n",
        "            transforms.Normalize((0.4914, 0.4822, 0.4465), (0.2023, 0.1994, 0.2010)),\n",
        "        ]\n",
        "    )\n",
        "\n",
        "    test_transform = transforms.Compose(\n",
        "        [\n",
        "            transforms.ToTensor(),\n",
        "            transforms.Normalize((0.4914, 0.4822, 0.4465), (0.2023, 0.1994, 0.2010)),\n",
        "        ]\n",
        "    )\n",
        "\n",
        "    if dataset_name.lower() == \"cifar100\":\n",
        "        train_dataset = CIFAR100(\n",
        "            root=\"./data\", train=True, download=True, transform=train_transform\n",
        "        )\n",
        "        test_dataset = CIFAR100(\n",
        "            root=\"./data\", train=False, download=True, transform=test_transform\n",
        "        )\n",
        "        num_classes = 100\n",
        "    else:\n",
        "        raise ValueError(f\"Dataset {dataset_name} not supported in enhanced version\")\n",
        "\n",
        "    # Data loaders\n",
        "    train_loader = DataLoader(\n",
        "        train_dataset,\n",
        "        batch_size=batch_size,\n",
        "        shuffle=True,\n",
        "        num_workers=num_workers,\n",
        "    )\n",
        "\n",
        "    test_loader = DataLoader(\n",
        "        test_dataset,\n",
        "        batch_size=batch_size,\n",
        "        shuffle=False,\n",
        "        num_workers=num_workers,\n",
        "    )\n",
        "\n",
        "    return train_loader, test_loader, num_classes\n",
        "\n",
        "\n",
        "# model - LeNet5 from the paper [11]\n",
        "class LeNet5(nn.Module):\n",
        "    def __init__(self, num_classes=10):\n",
        "        super(LeNet5, self).__init__()\n",
        "        # Input: 3x32x32 (CIFAR has 3 color channels)\n",
        "        self.conv1 = nn.Conv2d(3, 6, kernel_size=5)  # Output: 6x28x28\n",
        "        self.pool1 = nn.MaxPool2d(kernel_size=2, stride=2)  # Output: 6x14x14\n",
        "        self.conv2 = nn.Conv2d(6, 16, kernel_size=5)  # Output: 16x10x10\n",
        "        self.pool2 = nn.MaxPool2d(kernel_size=2, stride=2)  # Output: 16x5x5\n",
        "\n",
        "        # fc layers\n",
        "        self.fc1 = nn.Linear(16 * 5 * 5, 120)\n",
        "        self.fc2 = nn.Linear(120, 84)\n",
        "        self.fc3 = nn.Linear(84, num_classes)\n",
        "\n",
        "    def forward(self, x):\n",
        "        x = self.pool1(F.relu(self.conv1(x)))\n",
        "        x = self.pool2(F.relu(self.conv2(x)))\n",
        "        x = x.view(-1, 16 * 5 * 5)  # flatten\n",
        "        x = F.relu(self.fc1(x))\n",
        "        x = F.relu(self.fc2(x))\n",
        "        x = self.fc3(x)\n",
        "        return x\n",
        "\n",
        "\n",
        "class ImprovedCNN(nn.Module):\n",
        "    def __init__(self, num_classes=100):\n",
        "        super(ImprovedCNN, self).__init__()\n",
        "        # First conv block\n",
        "        self.conv1 = nn.Conv2d(3, 64, kernel_size=5, padding=2)\n",
        "        self.bn1 = nn.BatchNorm2d(64)  # using BatchNorm for better training stability\n",
        "        self.pool1 = nn.MaxPool2d(kernel_size=2, stride=2)\n",
        "\n",
        "        # Second conv block\n",
        "        self.conv2 = nn.Conv2d(64, 64, kernel_size=5, padding=2)\n",
        "        self.bn2 = nn.BatchNorm2d(64)\n",
        "        self.pool2 = nn.MaxPool2d(kernel_size=2, stride=2)\n",
        "\n",
        "        # Fully connected layers\n",
        "        self.fc1 = nn.Linear(64 * 8 * 8, 384)\n",
        "        self.dropout1 = nn.Dropout(0.5)\n",
        "        self.fc2 = nn.Linear(384, 192)\n",
        "        self.dropout2 = nn.Dropout(0.5)\n",
        "        self.fc3 = nn.Linear(192, num_classes)\n",
        "\n",
        "    def forward(self, x):\n",
        "        # First conv block\n",
        "        x = self.pool1(F.relu(self.bn1(self.conv1(x))))\n",
        "\n",
        "        # Second conv block\n",
        "        x = self.pool2(F.relu(self.bn2(self.conv2(x))))\n",
        "\n",
        "        # Flatten and fully connected layers\n",
        "        x = x.view(-1, 64 * 8 * 8)\n",
        "        x = F.relu(self.fc1(x))\n",
        "        x = self.dropout1(x)\n",
        "        x = F.relu(self.fc2(x))\n",
        "        x = self.dropout2(x)\n",
        "        x = self.fc3(x)\n",
        "\n",
        "        return x\n",
        "\n",
        "\n",
        "def create_model(model_name, num_classes=100):\n",
        "    if model_name.lower() == \"improved_cnn\":\n",
        "        return ImprovedCNN(num_classes=num_classes)\n",
        "    elif model_name.lower() == \"lenet5\":\n",
        "        return LeNet5(num_classes=num_classes)\n",
        "    else:\n",
        "        raise ValueError(f\"Unknown model: {model_name}\")\n",
        "\n",
        "\n",
        "# train\n",
        "def train_epoch(model, train_loader, criterion, optimizer, device):\n",
        "    model.train()\n",
        "    running_loss = 0.0\n",
        "    correct = 0\n",
        "    total = 0\n",
        "\n",
        "    pbar = tqdm(train_loader, desc=\"Training\")\n",
        "\n",
        "    for inputs, labels in pbar:\n",
        "        inputs, labels = inputs.to(device), labels.to(device)\n",
        "\n",
        "        optimizer.zero_grad()\n",
        "        outputs = model(inputs)\n",
        "        loss = criterion(outputs, labels)\n",
        "        loss.backward()\n",
        "        optimizer.step()\n",
        "\n",
        "        running_loss += loss.item() * inputs.size(0)\n",
        "        _, predicted = outputs.max(1)\n",
        "        total += labels.size(0)\n",
        "        correct += predicted.eq(labels).sum().item()\n",
        "\n",
        "        # just a progress bar\n",
        "        pbar.set_postfix({\"loss\": running_loss / total, \"acc\": 100.0 * correct / total})\n",
        "\n",
        "    train_loss = running_loss / total\n",
        "    train_acc = 100.0 * correct / total\n",
        "\n",
        "    return train_loss, train_acc\n",
        "\n",
        "\n",
        "# eval\n",
        "def evaluate(model, test_loader, criterion, device):\n",
        "    model.eval()\n",
        "    running_loss = 0.0\n",
        "    correct = 0\n",
        "    total = 0\n",
        "\n",
        "    with torch.no_grad():\n",
        "        for inputs, labels in test_loader:\n",
        "            inputs, labels = inputs.to(device), labels.to(device)\n",
        "\n",
        "            outputs = model(inputs)\n",
        "            loss = criterion(outputs, labels)\n",
        "\n",
        "            running_loss += loss.item() * inputs.size(0)\n",
        "            _, predicted = outputs.max(1)\n",
        "            total += labels.size(0)\n",
        "            correct += predicted.eq(labels).sum().item()\n",
        "\n",
        "    test_loss = running_loss / total\n",
        "    test_acc = 100.0 * correct / total\n",
        "\n",
        "    return test_loss, test_acc\n",
        "\n",
        "\n",
        "# train config\n",
        "def train_centralized_model(\n",
        "    model_name=\"improved_cnn\",\n",
        "    dataset_name=\"cifar100\",\n",
        "    batch_size=256,\n",
        "    epochs=100,\n",
        "    lr=0.01,\n",
        "    momentum=0.9,\n",
        "    weight_decay=4e-4,\n",
        "    lr_scheduler=\"lars\",\n",
        "    save_path=\"improved_cnn_model.pth\",\n",
        "):\n",
        "    # Load data\n",
        "    train_loader, test_loader, num_classes = load_data(\n",
        "        dataset_name=dataset_name, batch_size=batch_size\n",
        "    )\n",
        "\n",
        "    # Create model\n",
        "    model = create_model(model_name, num_classes=num_classes)\n",
        "    model = model.to(device)\n",
        "\n",
        "    # Print model parameters\n",
        "    total_params = sum(p.numel() for p in model.parameters())\n",
        "    print(f\"Total parameters: {total_params:,}\")\n",
        "\n",
        "    # Define loss function and optimizer\n",
        "    criterion = nn.CrossEntropyLoss()\n",
        "\n",
        "    scaled_lr = lr * (batch_size / 128)    # linear‐scaling rule\n",
        "\n",
        "    decay_params   = []\n",
        "    no_decay_params = []\n",
        "    for name, param in model.named_parameters():\n",
        "        if not param.requires_grad:\n",
        "            continue\n",
        "        # any 1-D param (bias, BatchNorm weight, etc.) => no decay\n",
        "        if param.ndim == 1:\n",
        "            no_decay_params.append(param)\n",
        "        else:\n",
        "            decay_params.append(param)\n",
        "\n",
        "    optimizer = LARS(\n",
        "        [\n",
        "            {'params': decay_params,    'weight_decay': weight_decay},\n",
        "            {'params': no_decay_params, 'weight_decay': 0.0}\n",
        "        ],\n",
        "        lr=scaled_lr,\n",
        "        momentum=momentum,\n",
        "        # set the *global* default decay to 0, since we've handled it per-group:\n",
        "        weight_decay=0.0,\n",
        "        trust_coefficient=0.05\n",
        "    )\n",
        "\n",
        "    # lr\n",
        "    if lr_scheduler == \"lars\":\n",
        "        warmup_epochs = 5\n",
        "        def lr_lambda(epoch):\n",
        "            # linear warmup\n",
        "            if epoch < warmup_epochs:\n",
        "                return float(epoch + 1) / float(warmup_epochs)\n",
        "            # then cosine decay\n",
        "            return 0.5 * (\n",
        "                1.0\n",
        "                + math.cos(\n",
        "                    math.pi * (epoch - warmup_epochs) / (epochs - warmup_epochs)\n",
        "                )\n",
        "            )\n",
        "\n",
        "        scheduler = torch.optim.lr_scheduler.LambdaLR(optimizer, lr_lambda)\n",
        "    elif lr_scheduler == \"step\":\n",
        "        scheduler = torch.optim.lr_scheduler.MultiStepLR(\n",
        "            optimizer,\n",
        "            milestones=[int(epochs * 0.5), int(epochs * 0.75)],\n",
        "            gamma=0.1\n",
        "        )\n",
        "    else:\n",
        "        raise ValueError(f\"Unknown scheduler: {lr_scheduler}\")\n",
        "\n",
        "    # Training history\n",
        "    history = {\n",
        "        \"train_loss\": [],\n",
        "        \"train_acc\": [],\n",
        "        \"test_loss\": [],\n",
        "        \"test_acc\": [],\n",
        "        \"lr\": [],\n",
        "    }\n",
        "\n",
        "    # Track best accuracy\n",
        "    best_acc = 0.0\n",
        "\n",
        "    # Training loop\n",
        "    for epoch in range(epochs):\n",
        "        current_lr = optimizer.param_groups[0][\"lr\"]\n",
        "        print(f\"\\nEpoch [{epoch + 1}/{epochs}] - Learning Rate: {current_lr:.6f}\")\n",
        "\n",
        "        # Training for one epoch\n",
        "        start_time = time.time()\n",
        "        train_loss, train_acc = train_epoch(\n",
        "            model, train_loader, criterion, optimizer, device\n",
        "        )\n",
        "        train_time = time.time() - start_time\n",
        "\n",
        "        # Evaluate on test set\n",
        "        test_loss, test_acc = evaluate(model, test_loader, criterion, device)\n",
        "\n",
        "        # Step learning rate scheduler\n",
        "        scheduler.step()\n",
        "\n",
        "        # Print statistics\n",
        "        print(\n",
        "            f\"Train Loss: {train_loss:.4f}, Train Acc: {train_acc:.2f}%, \"\n",
        "            f\"Test Loss: {test_loss:.4f}, Test Acc: {test_acc:.2f}%, \"\n",
        "            f\"Time: {train_time:.2f}s\"\n",
        "        )\n",
        "\n",
        "        # Save best model\n",
        "        if test_acc > best_acc:\n",
        "            best_acc = test_acc\n",
        "            torch.save(\n",
        "                {\n",
        "                    \"epoch\": epoch,\n",
        "                    \"model_state_dict\": model.state_dict(),\n",
        "                    \"optimizer_state_dict\": optimizer.state_dict(),\n",
        "                    \"test_acc\": test_acc,\n",
        "                },\n",
        "                save_path,\n",
        "            )\n",
        "            print(f\"New best model saved with accuracy: {test_acc:.2f}%\")\n",
        "\n",
        "        # Update history\n",
        "        history[\"train_loss\"].append(train_loss)\n",
        "        history[\"train_acc\"].append(train_acc)\n",
        "        history[\"test_loss\"].append(test_loss)\n",
        "        history[\"test_acc\"].append(test_acc)\n",
        "        history[\"lr\"].append(current_lr)\n",
        "\n",
        "    # Load best model\n",
        "    checkpoint = torch.load(save_path)\n",
        "    model.load_state_dict(checkpoint[\"model_state_dict\"])\n",
        "    print(f\"Best model loaded with accuracy: {checkpoint['test_acc']:.2f}%\")\n",
        "\n",
        "    return model, history\n",
        "\n",
        "\n",
        "# visualization of model performance\n",
        "def plot_training_history(history):\n",
        "    fig, (ax1, ax2, ax3) = plt.subplots(1, 3, figsize=(18, 5))\n",
        "\n",
        "    # plot the loss\n",
        "    ax1.plot(history[\"train_loss\"], label=\"Train Loss\")\n",
        "    ax1.plot(history[\"test_loss\"], label=\"Test Loss\")\n",
        "    ax1.set_xlabel(\"Epoch\")\n",
        "    ax1.set_ylabel(\"Loss\")\n",
        "    ax1.legend()\n",
        "    ax1.set_title(\"Loss Curves\")\n",
        "    ax1.grid(True)\n",
        "\n",
        "    # plot accuracy\n",
        "    ax2.plot(history[\"train_acc\"], label=\"Train Accuracy\")\n",
        "    ax2.plot(history[\"test_acc\"], label=\"Test Accuracy\")\n",
        "    ax2.set_xlabel(\"Epoch\")\n",
        "    ax2.set_ylabel(\"Accuracy (%)\")\n",
        "    ax2.legend()\n",
        "    ax2.set_title(\"Accuracy Curves\")\n",
        "    ax2.grid(True)\n",
        "\n",
        "    # plot learning rate\n",
        "    ax3.plot(history[\"lr\"])\n",
        "    ax3.set_xlabel(\"Epoch\")\n",
        "    ax3.set_ylabel(\"Learning Rate\")\n",
        "    ax3.set_title(\"Learning Rate Schedule\")\n",
        "    ax3.set_yscale(\"log\")\n",
        "    ax3.grid(True)\n",
        "\n",
        "    plt.tight_layout()\n",
        "    plt.show()\n",
        "\n",
        "\n",
        "# run benchmark\n",
        "def run_centralized_benchmark():\n",
        "    # LeNet5 config\n",
        "    config = {\n",
        "        \"model_name\": \"improved_cnn\",\n",
        "        \"dataset_name\": \"cifar100\",\n",
        "        \"batch_size\": 256,\n",
        "        \"epochs\": 100,\n",
        "        \"lr\": 0.01,\n",
        "        \"momentum\": 0.9,\n",
        "        \"weight_decay\": 4e-4,\n",
        "        \"lr_scheduler\": \"lars\",\n",
        "        \"save_path\": \"improved_cnn_model.pth\",\n",
        "    }\n",
        "\n",
        "    print(\n",
        "        f\"Running LARS benchmark with {config['model_name']} on {config['dataset_name']}...\"\n",
        "    )\n",
        "\n",
        "    # Train model\n",
        "    model, history = train_centralized_model(**config)\n",
        "\n",
        "    # Plot results\n",
        "    plot_training_history(history)\n",
        "\n",
        "    # Save history\n",
        "    with open(\"lenet5_history.pkl\", \"wb\") as f:\n",
        "        pickle.dump(history, f)\n",
        "\n",
        "    print(\"LARS benchmark completed!\")\n",
        "\n",
        "    return model, history\n",
        "\n",
        "\n",
        "def main():\n",
        "    model, history = run_centralized_benchmark()\n",
        "    return model, history\n",
        "\n",
        "\n",
        "if __name__ == \"__main__\":\n",
        "    main()\n",
        "\n"
      ]
    }
  ]
}