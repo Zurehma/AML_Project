{
  "nbformat": 4,
  "nbformat_minor": 0,
  "metadata": {
    "colab": {
      "provenance": [],
      "gpuType": "T4",
      "authorship_tag": "ABX9TyPirvvlO/USsWmfkNm3RFuP",
      "include_colab_link": true
    },
    "kernelspec": {
      "name": "python3",
      "display_name": "Python 3"
    },
    "language_info": {
      "name": "python"
    },
    "accelerator": "GPU"
  },
  "cells": [
    {
      "cell_type": "markdown",
      "metadata": {
        "id": "view-in-github",
        "colab_type": "text"
      },
      "source": [
        "<a href=\"https://colab.research.google.com/github/Zurehma/AML_Project/blob/zurehma/LARS_8192.ipynb\" target=\"_parent\"><img src=\"https://colab.research.google.com/assets/colab-badge.svg\" alt=\"Open In Colab\"/></a>"
      ]
    },
    {
      "cell_type": "code",
      "execution_count": null,
      "metadata": {
        "id": "i0_aLuZFqyrn"
      },
      "outputs": [],
      "source": [
        "!pip install torch-optimizer\n"
      ]
    },
    {
      "cell_type": "code",
      "source": [
        "import torch\n",
        "import torch.nn as nn\n",
        "import torchvision.transforms as transforms\n",
        "import torch.nn.functional as F\n",
        "from torchvision.datasets import CIFAR10, CIFAR100\n",
        "import torchvision.models as models\n",
        "from torch.utils.data import DataLoader\n",
        "\n",
        "from tqdm import tqdm\n",
        "import matplotlib.pyplot as plt\n",
        "import time\n",
        "import pickle\n",
        "import numpy as np\n",
        "import random\n",
        "\n",
        "from torch_optimizer import LARS\n",
        "\n",
        "import math\n",
        "\n",
        "print(\"PyTorch version:\", torch.__version__)\n",
        "device = torch.device(\"cuda:0\" if torch.cuda.is_available() else \"cpu\")\n",
        "print(f\"Using device: {device}\")\n",
        "\n",
        "# Seeding for reproducibility\n",
        "seed = 2025\n",
        "torch.manual_seed(seed)\n",
        "torch.cuda.manual_seed(seed)\n",
        "np.random.seed(seed)\n",
        "random.seed(seed)\n",
        "\n",
        "# transforms\n",
        "train_transform = transforms.Compose(\n",
        "    [\n",
        "        transforms.RandomCrop(32, padding=4),\n",
        "        transforms.RandomHorizontalFlip(),\n",
        "        transforms.ToTensor(),\n",
        "        transforms.Normalize((0.4914, 0.4822, 0.4465), (0.2023, 0.1994, 0.2010)),\n",
        "    ]\n",
        ")\n",
        "\n",
        "test_transform = transforms.Compose(\n",
        "    [\n",
        "        transforms.ToTensor(),\n",
        "        transforms.Normalize((0.4914, 0.4822, 0.4465), (0.2023, 0.1994, 0.2010)),\n",
        "    ]\n",
        ")\n",
        "\n",
        "\n",
        "# load data\n",
        "\n",
        "\n",
        "def load_data(dataset_name=\"cifar100\", batch_size=128, num_workers=2):\n",
        "    \"\"\"Enhanced data loading with stronger augmentation for CIFAR-100\"\"\"\n",
        "\n",
        "    # Better augmentation for CIFAR-100\n",
        "    train_transform = transforms.Compose(\n",
        "        [\n",
        "            transforms.RandomCrop(32, padding=4),\n",
        "            transforms.RandomHorizontalFlip(),\n",
        "            transforms.ToTensor(),\n",
        "            transforms.Normalize((0.4914, 0.4822, 0.4465), (0.2023, 0.1994, 0.2010)),\n",
        "        ]\n",
        "    )\n",
        "\n",
        "    test_transform = transforms.Compose(\n",
        "        [\n",
        "            transforms.ToTensor(),\n",
        "            transforms.Normalize((0.4914, 0.4822, 0.4465), (0.2023, 0.1994, 0.2010)),\n",
        "        ]\n",
        "    )\n",
        "\n",
        "    if dataset_name.lower() == \"cifar100\":\n",
        "        train_dataset = CIFAR100(\n",
        "            root=\"./data\", train=True, download=True, transform=train_transform\n",
        "        )\n",
        "        test_dataset = CIFAR100(\n",
        "            root=\"./data\", train=False, download=True, transform=test_transform\n",
        "        )\n",
        "        num_classes = 100\n",
        "    else:\n",
        "        raise ValueError(f\"Dataset {dataset_name} not supported in enhanced version\")\n",
        "\n",
        "    # Data loaders\n",
        "    train_loader = DataLoader(\n",
        "        train_dataset,\n",
        "        batch_size=batch_size,\n",
        "        shuffle=True,\n",
        "        num_workers=num_workers,\n",
        "    )\n",
        "\n",
        "    test_loader = DataLoader(\n",
        "        test_dataset,\n",
        "        batch_size=batch_size,\n",
        "        shuffle=False,\n",
        "        num_workers=num_workers,\n",
        "    )\n",
        "\n",
        "    return train_loader, test_loader, num_classes\n",
        "\n",
        "\n",
        "# model - LeNet5 from the paper [11]\n",
        "class LeNet5(nn.Module):\n",
        "    def __init__(self, num_classes=10):\n",
        "        super(LeNet5, self).__init__()\n",
        "        # Input: 3x32x32 (CIFAR has 3 color channels)\n",
        "        self.conv1 = nn.Conv2d(3, 6, kernel_size=5)  # Output: 6x28x28\n",
        "        self.pool1 = nn.MaxPool2d(kernel_size=2, stride=2)  # Output: 6x14x14\n",
        "        self.conv2 = nn.Conv2d(6, 16, kernel_size=5)  # Output: 16x10x10\n",
        "        self.pool2 = nn.MaxPool2d(kernel_size=2, stride=2)  # Output: 16x5x5\n",
        "\n",
        "        # fc layers\n",
        "        self.fc1 = nn.Linear(16 * 5 * 5, 120)\n",
        "        self.fc2 = nn.Linear(120, 84)\n",
        "        self.fc3 = nn.Linear(84, num_classes)\n",
        "\n",
        "    def forward(self, x):\n",
        "        x = self.pool1(F.relu(self.conv1(x)))\n",
        "        x = self.pool2(F.relu(self.conv2(x)))\n",
        "        x = x.view(-1, 16 * 5 * 5)  # flatten\n",
        "        x = F.relu(self.fc1(x))\n",
        "        x = F.relu(self.fc2(x))\n",
        "        x = self.fc3(x)\n",
        "        return x\n",
        "\n",
        "\n",
        "class ImprovedCNN(nn.Module):\n",
        "    def __init__(self, num_classes=100):\n",
        "        super(ImprovedCNN, self).__init__()\n",
        "        # First conv block\n",
        "        self.conv1 = nn.Conv2d(3, 64, kernel_size=5, padding=2)\n",
        "        self.bn1 = nn.BatchNorm2d(64)  # using BatchNorm for better training stability\n",
        "        self.pool1 = nn.MaxPool2d(kernel_size=2, stride=2)\n",
        "\n",
        "        # Second conv block\n",
        "        self.conv2 = nn.Conv2d(64, 64, kernel_size=5, padding=2)\n",
        "        self.bn2 = nn.BatchNorm2d(64)\n",
        "        self.pool2 = nn.MaxPool2d(kernel_size=2, stride=2)\n",
        "\n",
        "        # Fully connected layers\n",
        "        self.fc1 = nn.Linear(64 * 8 * 8, 384)\n",
        "        self.dropout1 = nn.Dropout(0.5)\n",
        "        self.fc2 = nn.Linear(384, 192)\n",
        "        self.dropout2 = nn.Dropout(0.5)\n",
        "        self.fc3 = nn.Linear(192, num_classes)\n",
        "\n",
        "    def forward(self, x):\n",
        "        # First conv block\n",
        "        x = self.pool1(F.relu(self.bn1(self.conv1(x))))\n",
        "\n",
        "        # Second conv block\n",
        "        x = self.pool2(F.relu(self.bn2(self.conv2(x))))\n",
        "\n",
        "        # Flatten and fully connected layers\n",
        "        x = x.view(-1, 64 * 8 * 8)\n",
        "        x = F.relu(self.fc1(x))\n",
        "        x = self.dropout1(x)\n",
        "        x = F.relu(self.fc2(x))\n",
        "        x = self.dropout2(x)\n",
        "        x = self.fc3(x)\n",
        "\n",
        "        return x\n",
        "\n",
        "\n",
        "def create_model(model_name, num_classes=100):\n",
        "    if model_name.lower() == \"improved_cnn\":\n",
        "        return ImprovedCNN(num_classes=num_classes)\n",
        "    elif model_name.lower() == \"lenet5\":\n",
        "        return LeNet5(num_classes=num_classes)\n",
        "    else:\n",
        "        raise ValueError(f\"Unknown model: {model_name}\")\n",
        "\n",
        "\n",
        "# train\n",
        "def train_epoch(model, train_loader, criterion, optimizer, device):\n",
        "    model.train()\n",
        "    running_loss = 0.0\n",
        "    correct = 0\n",
        "    total = 0\n",
        "\n",
        "    pbar = tqdm(train_loader, desc=\"Training\")\n",
        "\n",
        "    for inputs, labels in pbar:\n",
        "        inputs, labels = inputs.to(device), labels.to(device)\n",
        "\n",
        "        optimizer.zero_grad()\n",
        "        outputs = model(inputs)\n",
        "        loss = criterion(outputs, labels)\n",
        "        loss.backward()\n",
        "        optimizer.step()\n",
        "\n",
        "        running_loss += loss.item() * inputs.size(0)\n",
        "        _, predicted = outputs.max(1)\n",
        "        total += labels.size(0)\n",
        "        correct += predicted.eq(labels).sum().item()\n",
        "\n",
        "        # just a progress bar\n",
        "        pbar.set_postfix({\"loss\": running_loss / total, \"acc\": 100.0 * correct / total})\n",
        "\n",
        "    train_loss = running_loss / total\n",
        "    train_acc = 100.0 * correct / total\n",
        "\n",
        "    return train_loss, train_acc\n",
        "\n",
        "\n",
        "# eval\n",
        "def evaluate(model, test_loader, criterion, device):\n",
        "    model.eval()\n",
        "    running_loss = 0.0\n",
        "    correct = 0\n",
        "    total = 0\n",
        "\n",
        "    with torch.no_grad():\n",
        "        for inputs, labels in test_loader:\n",
        "            inputs, labels = inputs.to(device), labels.to(device)\n",
        "\n",
        "            outputs = model(inputs)\n",
        "            loss = criterion(outputs, labels)\n",
        "\n",
        "            running_loss += loss.item() * inputs.size(0)\n",
        "            _, predicted = outputs.max(1)\n",
        "            total += labels.size(0)\n",
        "            correct += predicted.eq(labels).sum().item()\n",
        "\n",
        "    test_loss = running_loss / total\n",
        "    test_acc = 100.0 * correct / total\n",
        "\n",
        "    return test_loss, test_acc\n",
        "\n",
        "\n",
        "# train config\n",
        "def train_centralized_model(\n",
        "    model_name=\"improved_cnn\",\n",
        "    dataset_name=\"cifar100\",\n",
        "    batch_size=8192,\n",
        "    epochs=100,\n",
        "    lr=0.01,\n",
        "    momentum=0.9,\n",
        "    weight_decay=4e-4,\n",
        "    lr_scheduler=\"lars\",\n",
        "    save_path=\"improved_cnn_model.pth\",\n",
        "):\n",
        "    # Load data\n",
        "    train_loader, test_loader, num_classes = load_data(\n",
        "        dataset_name=dataset_name, batch_size=batch_size\n",
        "    )\n",
        "\n",
        "    # Create model\n",
        "    model = create_model(model_name, num_classes=num_classes)\n",
        "    model = model.to(device)\n",
        "\n",
        "    # Print model parameters\n",
        "    total_params = sum(p.numel() for p in model.parameters())\n",
        "    print(f\"Total parameters: {total_params:,}\")\n",
        "\n",
        "    # Define loss function and optimizer\n",
        "    criterion = nn.CrossEntropyLoss()\n",
        "\n",
        "    scaled_lr = lr * (batch_size / 128)    # linear‐scaling rule\n",
        "\n",
        "    decay_params   = []\n",
        "    no_decay_params = []\n",
        "    for name, param in model.named_parameters():\n",
        "        if not param.requires_grad:\n",
        "            continue\n",
        "        # any 1-D param (bias, BatchNorm weight, etc.) => no decay\n",
        "        if param.ndim == 1:\n",
        "            no_decay_params.append(param)\n",
        "        else:\n",
        "            decay_params.append(param)\n",
        "\n",
        "    optimizer = LARS(\n",
        "        [\n",
        "            {'params': decay_params,    'weight_decay': weight_decay},\n",
        "            {'params': no_decay_params, 'weight_decay': 0.0}\n",
        "        ],\n",
        "        lr=scaled_lr,\n",
        "        momentum=momentum,\n",
        "        # set the *global* default decay to 0, since we've handled it per-group:\n",
        "        weight_decay=0.0,\n",
        "        trust_coefficient=0.05\n",
        "    )\n",
        "\n",
        "    # lr\n",
        "    if lr_scheduler == \"lars\":\n",
        "        warmup_epochs = 5\n",
        "        def lr_lambda(epoch):\n",
        "            # linear warmup\n",
        "            if epoch < warmup_epochs:\n",
        "                return float(epoch + 1) / float(warmup_epochs)\n",
        "            # then cosine decay\n",
        "            return 0.5 * (\n",
        "                1.0\n",
        "                + math.cos(\n",
        "                    math.pi * (epoch - warmup_epochs) / (epochs - warmup_epochs)\n",
        "                )\n",
        "            )\n",
        "\n",
        "        scheduler = torch.optim.lr_scheduler.LambdaLR(optimizer, lr_lambda)\n",
        "    elif lr_scheduler == \"step\":\n",
        "        scheduler = torch.optim.lr_scheduler.MultiStepLR(\n",
        "            optimizer,\n",
        "            milestones=[int(epochs * 0.5), int(epochs * 0.75)],\n",
        "            gamma=0.1\n",
        "        )\n",
        "    else:\n",
        "        raise ValueError(f\"Unknown scheduler: {lr_scheduler}\")\n",
        "\n",
        "    # Training history\n",
        "    history = {\n",
        "        \"train_loss\": [],\n",
        "        \"train_acc\": [],\n",
        "        \"test_loss\": [],\n",
        "        \"test_acc\": [],\n",
        "        \"lr\": [],\n",
        "    }\n",
        "\n",
        "    # Track best accuracy\n",
        "    best_acc = 0.0\n",
        "\n",
        "    # Training loop\n",
        "    for epoch in range(epochs):\n",
        "        current_lr = optimizer.param_groups[0][\"lr\"]\n",
        "        print(f\"\\nEpoch [{epoch + 1}/{epochs}] - Learning Rate: {current_lr:.6f}\")\n",
        "\n",
        "        # Training for one epoch\n",
        "        start_time = time.time()\n",
        "        train_loss, train_acc = train_epoch(\n",
        "            model, train_loader, criterion, optimizer, device\n",
        "        )\n",
        "        train_time = time.time() - start_time\n",
        "\n",
        "        # Evaluate on test set\n",
        "        test_loss, test_acc = evaluate(model, test_loader, criterion, device)\n",
        "\n",
        "        # Step learning rate scheduler\n",
        "        scheduler.step()\n",
        "\n",
        "        # Print statistics\n",
        "        print(\n",
        "            f\"Train Loss: {train_loss:.4f}, Train Acc: {train_acc:.2f}%, \"\n",
        "            f\"Test Loss: {test_loss:.4f}, Test Acc: {test_acc:.2f}%, \"\n",
        "            f\"Time: {train_time:.2f}s\"\n",
        "        )\n",
        "\n",
        "        # Save best model\n",
        "        if test_acc > best_acc:\n",
        "            best_acc = test_acc\n",
        "            torch.save(\n",
        "                {\n",
        "                    \"epoch\": epoch,\n",
        "                    \"model_state_dict\": model.state_dict(),\n",
        "                    \"optimizer_state_dict\": optimizer.state_dict(),\n",
        "                    \"test_acc\": test_acc,\n",
        "                },\n",
        "                save_path,\n",
        "            )\n",
        "            print(f\"New best model saved with accuracy: {test_acc:.2f}%\")\n",
        "\n",
        "        # Update history\n",
        "        history[\"train_loss\"].append(train_loss)\n",
        "        history[\"train_acc\"].append(train_acc)\n",
        "        history[\"test_loss\"].append(test_loss)\n",
        "        history[\"test_acc\"].append(test_acc)\n",
        "        history[\"lr\"].append(current_lr)\n",
        "\n",
        "    # Load best model\n",
        "    checkpoint = torch.load(save_path)\n",
        "    model.load_state_dict(checkpoint[\"model_state_dict\"])\n",
        "    print(f\"Best model loaded with accuracy: {checkpoint['test_acc']:.2f}%\")\n",
        "\n",
        "    return model, history\n",
        "\n",
        "\n",
        "# visualization of model performance\n",
        "def plot_training_history(history):\n",
        "    fig, (ax1, ax2, ax3) = plt.subplots(1, 3, figsize=(18, 5))\n",
        "\n",
        "    # plot the loss\n",
        "    ax1.plot(history[\"train_loss\"], label=\"Train Loss\")\n",
        "    ax1.plot(history[\"test_loss\"], label=\"Test Loss\")\n",
        "    ax1.set_xlabel(\"Epoch\")\n",
        "    ax1.set_ylabel(\"Loss\")\n",
        "    ax1.legend()\n",
        "    ax1.set_title(\"Loss Curves\")\n",
        "    ax1.grid(True)\n",
        "\n",
        "    # plot accuracy\n",
        "    ax2.plot(history[\"train_acc\"], label=\"Train Accuracy\")\n",
        "    ax2.plot(history[\"test_acc\"], label=\"Test Accuracy\")\n",
        "    ax2.set_xlabel(\"Epoch\")\n",
        "    ax2.set_ylabel(\"Accuracy (%)\")\n",
        "    ax2.legend()\n",
        "    ax2.set_title(\"Accuracy Curves\")\n",
        "    ax2.grid(True)\n",
        "\n",
        "    # plot learning rate\n",
        "    ax3.plot(history[\"lr\"])\n",
        "    ax3.set_xlabel(\"Epoch\")\n",
        "    ax3.set_ylabel(\"Learning Rate\")\n",
        "    ax3.set_title(\"Learning Rate Schedule\")\n",
        "    ax3.set_yscale(\"log\")\n",
        "    ax3.grid(True)\n",
        "\n",
        "    plt.tight_layout()\n",
        "    plt.show()\n",
        "\n",
        "\n",
        "# run benchmark\n",
        "def run_centralized_benchmark():\n",
        "    # LeNet5 config\n",
        "    config = {\n",
        "        \"model_name\": \"improved_cnn\",\n",
        "        \"dataset_name\": \"cifar100\",\n",
        "        \"batch_size\": 8192,\n",
        "        \"epochs\": 100,\n",
        "        \"lr\": 0.01,\n",
        "        \"momentum\": 0.9,\n",
        "        \"weight_decay\": 4e-4,\n",
        "        \"lr_scheduler\": \"lars\",\n",
        "        \"save_path\": \"improved_cnn_model.pth\",\n",
        "    }\n",
        "\n",
        "    print(\n",
        "        f\"Running LARS benchmark with {config['model_name']} on {config['dataset_name']}...\"\n",
        "    )\n",
        "\n",
        "    # Train model\n",
        "    model, history = train_centralized_model(**config)\n",
        "\n",
        "    # Plot results\n",
        "    plot_training_history(history)\n",
        "\n",
        "    # Save history\n",
        "    with open(\"lenet5_history.pkl\", \"wb\") as f:\n",
        "        pickle.dump(history, f)\n",
        "\n",
        "    print(\"LARS benchmark completed!\")\n",
        "\n",
        "    return model, history\n",
        "\n",
        "\n",
        "def main():\n",
        "    model, history = run_centralized_benchmark()\n",
        "    return model, history\n",
        "\n",
        "\n",
        "if __name__ == \"__main__\":\n",
        "    main()\n",
        "\n"
      ],
      "metadata": {
        "colab": {
          "base_uri": "https://localhost:8080/",
          "height": 1000
        },
        "id": "D3UQgnR5q4JM",
        "outputId": "d69e8e5b-d02d-4d11-f542-3711602c6ea6"
      },
      "execution_count": 1,
      "outputs": [
        {
          "output_type": "stream",
          "name": "stdout",
          "text": [
            "PyTorch version: 2.6.0+cu124\n",
            "Using device: cuda:0\n",
            "Running LARS benchmark with improved_cnn on cifar100...\n",
            "Total parameters: 1,774,052\n",
            "\n",
            "Epoch [1/100] - Learning Rate: 0.128000\n"
          ]
        },
        {
          "output_type": "stream",
          "name": "stderr",
          "text": [
            "Training: 100%|██████████| 7/7 [00:17<00:00,  2.56s/it, loss=4.59, acc=1.56]\n"
          ]
        },
        {
          "output_type": "stream",
          "name": "stdout",
          "text": [
            "Train Loss: 4.5943, Train Acc: 1.56%, Test Loss: 4.5105, Test Acc: 2.83%, Time: 17.92s\n",
            "New best model saved with accuracy: 2.83%\n",
            "\n",
            "Epoch [2/100] - Learning Rate: 0.256000\n"
          ]
        },
        {
          "output_type": "stream",
          "name": "stderr",
          "text": [
            "Training: 100%|██████████| 7/7 [00:17<00:00,  2.54s/it, loss=4.41, acc=3.45]\n"
          ]
        },
        {
          "output_type": "stream",
          "name": "stdout",
          "text": [
            "Train Loss: 4.4071, Train Acc: 3.45%, Test Loss: 4.5240, Test Acc: 4.10%, Time: 17.78s\n",
            "New best model saved with accuracy: 4.10%\n",
            "\n",
            "Epoch [3/100] - Learning Rate: 0.384000\n"
          ]
        },
        {
          "output_type": "stream",
          "name": "stderr",
          "text": [
            "Training: 100%|██████████| 7/7 [00:18<00:00,  2.68s/it, loss=4.23, acc=5.1]\n"
          ]
        },
        {
          "output_type": "stream",
          "name": "stdout",
          "text": [
            "Train Loss: 4.2265, Train Acc: 5.10%, Test Loss: 4.5083, Test Acc: 5.93%, Time: 18.79s\n",
            "New best model saved with accuracy: 5.93%\n",
            "\n",
            "Epoch [4/100] - Learning Rate: 0.512000\n"
          ]
        },
        {
          "output_type": "stream",
          "name": "stderr",
          "text": [
            "Training: 100%|██████████| 7/7 [00:17<00:00,  2.54s/it, loss=4.09, acc=6.66]\n"
          ]
        },
        {
          "output_type": "stream",
          "name": "stdout",
          "text": [
            "Train Loss: 4.0902, Train Acc: 6.66%, Test Loss: 4.1303, Test Acc: 7.01%, Time: 17.76s\n",
            "New best model saved with accuracy: 7.01%\n",
            "\n",
            "Epoch [5/100] - Learning Rate: 0.640000\n"
          ]
        },
        {
          "output_type": "stream",
          "name": "stderr",
          "text": [
            "Training: 100%|██████████| 7/7 [00:17<00:00,  2.53s/it, loss=4.06, acc=7.25]\n"
          ]
        },
        {
          "output_type": "stream",
          "name": "stdout",
          "text": [
            "Train Loss: 4.0639, Train Acc: 7.25%, Test Loss: 3.9355, Test Acc: 8.47%, Time: 17.69s\n",
            "New best model saved with accuracy: 8.47%\n",
            "\n",
            "Epoch [6/100] - Learning Rate: 0.640000\n"
          ]
        },
        {
          "output_type": "stream",
          "name": "stderr",
          "text": [
            "Training: 100%|██████████| 7/7 [00:19<00:00,  2.72s/it, loss=3.99, acc=7.89]\n"
          ]
        },
        {
          "output_type": "stream",
          "name": "stdout",
          "text": [
            "Train Loss: 3.9860, Train Acc: 7.89%, Test Loss: 3.8542, Test Acc: 8.97%, Time: 19.04s\n",
            "New best model saved with accuracy: 8.97%\n",
            "\n",
            "Epoch [7/100] - Learning Rate: 0.639825\n"
          ]
        },
        {
          "output_type": "stream",
          "name": "stderr",
          "text": [
            "Training: 100%|██████████| 7/7 [00:17<00:00,  2.53s/it, loss=3.93, acc=8.88]\n"
          ]
        },
        {
          "output_type": "stream",
          "name": "stdout",
          "text": [
            "Train Loss: 3.9264, Train Acc: 8.88%, Test Loss: 3.6578, Test Acc: 11.75%, Time: 17.71s\n",
            "New best model saved with accuracy: 11.75%\n",
            "\n",
            "Epoch [8/100] - Learning Rate: 0.639300\n"
          ]
        },
        {
          "output_type": "stream",
          "name": "stderr",
          "text": [
            "Training: 100%|██████████| 7/7 [00:17<00:00,  2.51s/it, loss=3.88, acc=9.57]\n"
          ]
        },
        {
          "output_type": "stream",
          "name": "stdout",
          "text": [
            "Train Loss: 3.8779, Train Acc: 9.57%, Test Loss: 3.6798, Test Acc: 12.69%, Time: 17.60s\n",
            "New best model saved with accuracy: 12.69%\n",
            "\n",
            "Epoch [9/100] - Learning Rate: 0.638427\n"
          ]
        },
        {
          "output_type": "stream",
          "name": "stderr",
          "text": [
            "Training: 100%|██████████| 7/7 [00:18<00:00,  2.66s/it, loss=3.83, acc=9.98]\n"
          ]
        },
        {
          "output_type": "stream",
          "name": "stdout",
          "text": [
            "Train Loss: 3.8289, Train Acc: 9.98%, Test Loss: 3.7589, Test Acc: 11.84%, Time: 18.65s\n",
            "\n",
            "Epoch [10/100] - Learning Rate: 0.637205\n"
          ]
        },
        {
          "output_type": "stream",
          "name": "stderr",
          "text": [
            "Training: 100%|██████████| 7/7 [00:17<00:00,  2.55s/it, loss=3.8, acc=10.6]\n"
          ]
        },
        {
          "output_type": "stream",
          "name": "stdout",
          "text": [
            "Train Loss: 3.7975, Train Acc: 10.57%, Test Loss: 3.8194, Test Acc: 10.70%, Time: 17.87s\n",
            "\n",
            "Epoch [11/100] - Learning Rate: 0.635636\n"
          ]
        },
        {
          "output_type": "stream",
          "name": "stderr",
          "text": [
            "Training: 100%|██████████| 7/7 [00:18<00:00,  2.61s/it, loss=3.72, acc=11.6]\n"
          ]
        },
        {
          "output_type": "stream",
          "name": "stdout",
          "text": [
            "Train Loss: 3.7170, Train Acc: 11.64%, Test Loss: 3.5343, Test Acc: 15.56%, Time: 18.29s\n",
            "New best model saved with accuracy: 15.56%\n",
            "\n",
            "Epoch [12/100] - Learning Rate: 0.633722\n"
          ]
        },
        {
          "output_type": "stream",
          "name": "stderr",
          "text": [
            "Training: 100%|██████████| 7/7 [00:18<00:00,  2.58s/it, loss=3.75, acc=11.7]\n"
          ]
        },
        {
          "output_type": "stream",
          "name": "stdout",
          "text": [
            "Train Loss: 3.7490, Train Acc: 11.67%, Test Loss: 3.5983, Test Acc: 14.42%, Time: 18.08s\n",
            "\n",
            "Epoch [13/100] - Learning Rate: 0.631465\n"
          ]
        },
        {
          "output_type": "stream",
          "name": "stderr",
          "text": [
            "Training: 100%|██████████| 7/7 [00:17<00:00,  2.52s/it, loss=3.75, acc=11.7]\n"
          ]
        },
        {
          "output_type": "stream",
          "name": "stdout",
          "text": [
            "Train Loss: 3.7472, Train Acc: 11.71%, Test Loss: 3.5658, Test Acc: 15.16%, Time: 17.64s\n",
            "\n",
            "Epoch [14/100] - Learning Rate: 0.628867\n"
          ]
        },
        {
          "output_type": "stream",
          "name": "stderr",
          "text": [
            "Training: 100%|██████████| 7/7 [00:19<00:00,  2.73s/it, loss=3.77, acc=11.6]\n"
          ]
        },
        {
          "output_type": "stream",
          "name": "stdout",
          "text": [
            "Train Loss: 3.7746, Train Acc: 11.57%, Test Loss: 3.4518, Test Acc: 15.99%, Time: 19.09s\n",
            "New best model saved with accuracy: 15.99%\n",
            "\n",
            "Epoch [15/100] - Learning Rate: 0.625931\n"
          ]
        },
        {
          "output_type": "stream",
          "name": "stderr",
          "text": [
            "Training: 100%|██████████| 7/7 [00:17<00:00,  2.54s/it, loss=3.71, acc=12.4]\n"
          ]
        },
        {
          "output_type": "stream",
          "name": "stdout",
          "text": [
            "Train Loss: 3.7132, Train Acc: 12.44%, Test Loss: 3.8179, Test Acc: 11.78%, Time: 17.76s\n",
            "\n",
            "Epoch [16/100] - Learning Rate: 0.622662\n"
          ]
        },
        {
          "output_type": "stream",
          "name": "stderr",
          "text": [
            "Training: 100%|██████████| 7/7 [00:17<00:00,  2.52s/it, loss=3.74, acc=11.8]\n"
          ]
        },
        {
          "output_type": "stream",
          "name": "stdout",
          "text": [
            "Train Loss: 3.7414, Train Acc: 11.81%, Test Loss: 3.5177, Test Acc: 16.54%, Time: 17.65s\n",
            "New best model saved with accuracy: 16.54%\n",
            "\n",
            "Epoch [17/100] - Learning Rate: 0.619061\n"
          ]
        },
        {
          "output_type": "stream",
          "name": "stderr",
          "text": [
            "Training: 100%|██████████| 7/7 [00:18<00:00,  2.71s/it, loss=3.68, acc=13]\n"
          ]
        },
        {
          "output_type": "stream",
          "name": "stdout",
          "text": [
            "Train Loss: 3.6813, Train Acc: 13.05%, Test Loss: 3.4615, Test Acc: 15.56%, Time: 18.95s\n",
            "\n",
            "Epoch [18/100] - Learning Rate: 0.615133\n"
          ]
        },
        {
          "output_type": "stream",
          "name": "stderr",
          "text": [
            "Training: 100%|██████████| 7/7 [00:17<00:00,  2.55s/it, loss=3.66, acc=13.1]\n"
          ]
        },
        {
          "output_type": "stream",
          "name": "stdout",
          "text": [
            "Train Loss: 3.6588, Train Acc: 13.13%, Test Loss: 3.4287, Test Acc: 16.74%, Time: 17.84s\n",
            "New best model saved with accuracy: 16.74%\n",
            "\n",
            "Epoch [19/100] - Learning Rate: 0.610882\n"
          ]
        },
        {
          "output_type": "stream",
          "name": "stderr",
          "text": [
            "Training: 100%|██████████| 7/7 [00:17<00:00,  2.53s/it, loss=3.58, acc=14.2]\n"
          ]
        },
        {
          "output_type": "stream",
          "name": "stdout",
          "text": [
            "Train Loss: 3.5799, Train Acc: 14.16%, Test Loss: 3.3745, Test Acc: 17.63%, Time: 17.68s\n",
            "New best model saved with accuracy: 17.63%\n",
            "\n",
            "Epoch [20/100] - Learning Rate: 0.606313\n"
          ]
        },
        {
          "output_type": "stream",
          "name": "stderr",
          "text": [
            "Training: 100%|██████████| 7/7 [00:18<00:00,  2.64s/it, loss=3.6, acc=14.3]\n"
          ]
        },
        {
          "output_type": "stream",
          "name": "stdout",
          "text": [
            "Train Loss: 3.6021, Train Acc: 14.30%, Test Loss: 3.4417, Test Acc: 16.26%, Time: 18.51s\n",
            "\n",
            "Epoch [21/100] - Learning Rate: 0.601432\n"
          ]
        },
        {
          "output_type": "stream",
          "name": "stderr",
          "text": [
            "Training: 100%|██████████| 7/7 [00:17<00:00,  2.55s/it, loss=3.72, acc=12.5]\n"
          ]
        },
        {
          "output_type": "stream",
          "name": "stdout",
          "text": [
            "Train Loss: 3.7152, Train Acc: 12.50%, Test Loss: 3.6403, Test Acc: 15.23%, Time: 17.88s\n",
            "\n",
            "Epoch [22/100] - Learning Rate: 0.596242\n"
          ]
        },
        {
          "output_type": "stream",
          "name": "stderr",
          "text": [
            "Training: 100%|██████████| 7/7 [00:18<00:00,  2.59s/it, loss=3.63, acc=13.9]\n"
          ]
        },
        {
          "output_type": "stream",
          "name": "stdout",
          "text": [
            "Train Loss: 3.6302, Train Acc: 13.89%, Test Loss: 3.3688, Test Acc: 18.39%, Time: 18.14s\n",
            "New best model saved with accuracy: 18.39%\n",
            "\n",
            "Epoch [23/100] - Learning Rate: 0.590750\n"
          ]
        },
        {
          "output_type": "stream",
          "name": "stderr",
          "text": [
            "Training: 100%|██████████| 7/7 [00:18<00:00,  2.62s/it, loss=3.65, acc=13.9]\n"
          ]
        },
        {
          "output_type": "stream",
          "name": "stdout",
          "text": [
            "Train Loss: 3.6507, Train Acc: 13.94%, Test Loss: 3.4803, Test Acc: 16.87%, Time: 18.34s\n",
            "\n",
            "Epoch [24/100] - Learning Rate: 0.584963\n"
          ]
        },
        {
          "output_type": "stream",
          "name": "stderr",
          "text": [
            "Training: 100%|██████████| 7/7 [00:17<00:00,  2.54s/it, loss=3.67, acc=13.7]\n"
          ]
        },
        {
          "output_type": "stream",
          "name": "stdout",
          "text": [
            "Train Loss: 3.6653, Train Acc: 13.71%, Test Loss: 3.5128, Test Acc: 14.66%, Time: 17.76s\n",
            "\n",
            "Epoch [25/100] - Learning Rate: 0.578885\n"
          ]
        },
        {
          "output_type": "stream",
          "name": "stderr",
          "text": [
            "Training: 100%|██████████| 7/7 [00:18<00:00,  2.63s/it, loss=3.61, acc=14.2]\n"
          ]
        },
        {
          "output_type": "stream",
          "name": "stdout",
          "text": [
            "Train Loss: 3.6128, Train Acc: 14.21%, Test Loss: 3.3259, Test Acc: 18.90%, Time: 18.43s\n",
            "New best model saved with accuracy: 18.90%\n",
            "\n",
            "Epoch [26/100] - Learning Rate: 0.572525\n"
          ]
        },
        {
          "output_type": "stream",
          "name": "stderr",
          "text": [
            "Training: 100%|██████████| 7/7 [00:17<00:00,  2.54s/it, loss=3.56, acc=14.9]\n"
          ]
        },
        {
          "output_type": "stream",
          "name": "stdout",
          "text": [
            "Train Loss: 3.5625, Train Acc: 14.91%, Test Loss: 3.3874, Test Acc: 18.36%, Time: 17.76s\n",
            "\n",
            "Epoch [27/100] - Learning Rate: 0.565888\n"
          ]
        },
        {
          "output_type": "stream",
          "name": "stderr",
          "text": [
            "Training: 100%|██████████| 7/7 [00:17<00:00,  2.51s/it, loss=3.58, acc=14.8]\n"
          ]
        },
        {
          "output_type": "stream",
          "name": "stdout",
          "text": [
            "Train Loss: 3.5847, Train Acc: 14.76%, Test Loss: 3.4063, Test Acc: 17.91%, Time: 17.59s\n",
            "\n",
            "Epoch [28/100] - Learning Rate: 0.558983\n"
          ]
        },
        {
          "output_type": "stream",
          "name": "stderr",
          "text": [
            "Training: 100%|██████████| 7/7 [00:18<00:00,  2.68s/it, loss=3.6, acc=14.2]\n"
          ]
        },
        {
          "output_type": "stream",
          "name": "stdout",
          "text": [
            "Train Loss: 3.5960, Train Acc: 14.21%, Test Loss: 3.3206, Test Acc: 19.42%, Time: 18.79s\n",
            "New best model saved with accuracy: 19.42%\n",
            "\n",
            "Epoch [29/100] - Learning Rate: 0.551816\n"
          ]
        },
        {
          "output_type": "stream",
          "name": "stderr",
          "text": [
            "Training: 100%|██████████| 7/7 [00:18<00:00,  2.59s/it, loss=3.61, acc=14.2]\n"
          ]
        },
        {
          "output_type": "stream",
          "name": "stdout",
          "text": [
            "Train Loss: 3.6072, Train Acc: 14.17%, Test Loss: 3.3957, Test Acc: 18.74%, Time: 18.15s\n",
            "\n",
            "Epoch [30/100] - Learning Rate: 0.544396\n"
          ]
        },
        {
          "output_type": "stream",
          "name": "stderr",
          "text": [
            "Training: 100%|██████████| 7/7 [00:17<00:00,  2.54s/it, loss=3.6, acc=14.6]\n"
          ]
        },
        {
          "output_type": "stream",
          "name": "stdout",
          "text": [
            "Train Loss: 3.6023, Train Acc: 14.60%, Test Loss: 3.3596, Test Acc: 19.20%, Time: 17.80s\n",
            "\n",
            "Epoch [31/100] - Learning Rate: 0.536730\n"
          ]
        },
        {
          "output_type": "stream",
          "name": "stderr",
          "text": [
            "Training: 100%|██████████| 7/7 [00:19<00:00,  2.73s/it, loss=3.52, acc=15.9]\n"
          ]
        },
        {
          "output_type": "stream",
          "name": "stdout",
          "text": [
            "Train Loss: 3.5228, Train Acc: 15.86%, Test Loss: 3.2999, Test Acc: 20.18%, Time: 19.12s\n",
            "New best model saved with accuracy: 20.18%\n",
            "\n",
            "Epoch [32/100] - Learning Rate: 0.528827\n"
          ]
        },
        {
          "output_type": "stream",
          "name": "stderr",
          "text": [
            "Training: 100%|██████████| 7/7 [00:18<00:00,  2.59s/it, loss=3.47, acc=16.7]\n"
          ]
        },
        {
          "output_type": "stream",
          "name": "stdout",
          "text": [
            "Train Loss: 3.4696, Train Acc: 16.74%, Test Loss: 3.1962, Test Acc: 21.46%, Time: 18.12s\n",
            "New best model saved with accuracy: 21.46%\n",
            "\n",
            "Epoch [33/100] - Learning Rate: 0.520696\n"
          ]
        },
        {
          "output_type": "stream",
          "name": "stderr",
          "text": [
            "Training: 100%|██████████| 7/7 [00:18<00:00,  2.58s/it, loss=3.41, acc=17.6]\n"
          ]
        },
        {
          "output_type": "stream",
          "name": "stdout",
          "text": [
            "Train Loss: 3.4078, Train Acc: 17.58%, Test Loss: 3.2402, Test Acc: 20.39%, Time: 18.08s\n",
            "\n",
            "Epoch [34/100] - Learning Rate: 0.512346\n"
          ]
        },
        {
          "output_type": "stream",
          "name": "stderr",
          "text": [
            "Training: 100%|██████████| 7/7 [00:18<00:00,  2.69s/it, loss=3.43, acc=17.7]\n"
          ]
        },
        {
          "output_type": "stream",
          "name": "stdout",
          "text": [
            "Train Loss: 3.4342, Train Acc: 17.68%, Test Loss: 3.1349, Test Acc: 22.16%, Time: 18.86s\n",
            "New best model saved with accuracy: 22.16%\n",
            "\n",
            "Epoch [35/100] - Learning Rate: 0.503785\n"
          ]
        },
        {
          "output_type": "stream",
          "name": "stderr",
          "text": [
            "Training: 100%|██████████| 7/7 [00:17<00:00,  2.50s/it, loss=3.39, acc=18]\n"
          ]
        },
        {
          "output_type": "stream",
          "name": "stdout",
          "text": [
            "Train Loss: 3.3948, Train Acc: 18.03%, Test Loss: 3.0713, Test Acc: 23.17%, Time: 17.51s\n",
            "New best model saved with accuracy: 23.17%\n",
            "\n",
            "Epoch [36/100] - Learning Rate: 0.495023\n"
          ]
        },
        {
          "output_type": "stream",
          "name": "stderr",
          "text": [
            "Training: 100%|██████████| 7/7 [00:17<00:00,  2.54s/it, loss=3.39, acc=17.8]\n"
          ]
        },
        {
          "output_type": "stream",
          "name": "stdout",
          "text": [
            "Train Loss: 3.3940, Train Acc: 17.83%, Test Loss: 3.0649, Test Acc: 24.37%, Time: 17.80s\n",
            "New best model saved with accuracy: 24.37%\n",
            "\n",
            "Epoch [37/100] - Learning Rate: 0.486070\n"
          ]
        },
        {
          "output_type": "stream",
          "name": "stderr",
          "text": [
            "Training: 100%|██████████| 7/7 [00:18<00:00,  2.65s/it, loss=3.3, acc=19.4]\n"
          ]
        },
        {
          "output_type": "stream",
          "name": "stdout",
          "text": [
            "Train Loss: 3.2985, Train Acc: 19.43%, Test Loss: 3.0005, Test Acc: 25.06%, Time: 18.54s\n",
            "New best model saved with accuracy: 25.06%\n",
            "\n",
            "Epoch [38/100] - Learning Rate: 0.476936\n"
          ]
        },
        {
          "output_type": "stream",
          "name": "stderr",
          "text": [
            "Training: 100%|██████████| 7/7 [00:17<00:00,  2.54s/it, loss=3.37, acc=18.6]\n"
          ]
        },
        {
          "output_type": "stream",
          "name": "stdout",
          "text": [
            "Train Loss: 3.3661, Train Acc: 18.64%, Test Loss: 3.1939, Test Acc: 21.50%, Time: 17.76s\n",
            "\n",
            "Epoch [39/100] - Learning Rate: 0.467629\n"
          ]
        },
        {
          "output_type": "stream",
          "name": "stderr",
          "text": [
            "Training: 100%|██████████| 7/7 [00:18<00:00,  2.60s/it, loss=3.3, acc=19.5]\n"
          ]
        },
        {
          "output_type": "stream",
          "name": "stdout",
          "text": [
            "Train Loss: 3.3046, Train Acc: 19.52%, Test Loss: 3.0059, Test Acc: 24.61%, Time: 18.18s\n",
            "\n",
            "Epoch [40/100] - Learning Rate: 0.458161\n"
          ]
        },
        {
          "output_type": "stream",
          "name": "stderr",
          "text": [
            "Training: 100%|██████████| 7/7 [00:17<00:00,  2.52s/it, loss=3.21, acc=20.9]\n"
          ]
        },
        {
          "output_type": "stream",
          "name": "stdout",
          "text": [
            "Train Loss: 3.2141, Train Acc: 20.90%, Test Loss: 2.9193, Test Acc: 26.41%, Time: 17.63s\n",
            "New best model saved with accuracy: 26.41%\n",
            "\n",
            "Epoch [41/100] - Learning Rate: 0.448543\n"
          ]
        },
        {
          "output_type": "stream",
          "name": "stderr",
          "text": [
            "Training: 100%|██████████| 7/7 [00:17<00:00,  2.53s/it, loss=3.23, acc=20.9]\n"
          ]
        },
        {
          "output_type": "stream",
          "name": "stdout",
          "text": [
            "Train Loss: 3.2251, Train Acc: 20.93%, Test Loss: 2.8935, Test Acc: 26.45%, Time: 17.69s\n",
            "New best model saved with accuracy: 26.45%\n",
            "\n",
            "Epoch [42/100] - Learning Rate: 0.438783\n"
          ]
        },
        {
          "output_type": "stream",
          "name": "stderr",
          "text": [
            "Training: 100%|██████████| 7/7 [00:18<00:00,  2.70s/it, loss=3.19, acc=21]\n"
          ]
        },
        {
          "output_type": "stream",
          "name": "stdout",
          "text": [
            "Train Loss: 3.1950, Train Acc: 21.02%, Test Loss: 2.8230, Test Acc: 28.61%, Time: 18.92s\n",
            "New best model saved with accuracy: 28.61%\n",
            "\n",
            "Epoch [43/100] - Learning Rate: 0.428894\n"
          ]
        },
        {
          "output_type": "stream",
          "name": "stderr",
          "text": [
            "Training: 100%|██████████| 7/7 [00:17<00:00,  2.54s/it, loss=3.15, acc=22.1]\n"
          ]
        },
        {
          "output_type": "stream",
          "name": "stdout",
          "text": [
            "Train Loss: 3.1543, Train Acc: 22.08%, Test Loss: 2.8817, Test Acc: 27.31%, Time: 17.80s\n",
            "\n",
            "Epoch [44/100] - Learning Rate: 0.418885\n"
          ]
        },
        {
          "output_type": "stream",
          "name": "stderr",
          "text": [
            "Training: 100%|██████████| 7/7 [00:17<00:00,  2.56s/it, loss=3.12, acc=22.5]\n"
          ]
        },
        {
          "output_type": "stream",
          "name": "stdout",
          "text": [
            "Train Loss: 3.1164, Train Acc: 22.51%, Test Loss: 2.7894, Test Acc: 29.62%, Time: 17.94s\n",
            "New best model saved with accuracy: 29.62%\n",
            "\n",
            "Epoch [45/100] - Learning Rate: 0.408769\n"
          ]
        },
        {
          "output_type": "stream",
          "name": "stderr",
          "text": [
            "Training: 100%|██████████| 7/7 [00:18<00:00,  2.70s/it, loss=3.12, acc=22.6]\n"
          ]
        },
        {
          "output_type": "stream",
          "name": "stdout",
          "text": [
            "Train Loss: 3.1218, Train Acc: 22.63%, Test Loss: 2.8095, Test Acc: 29.11%, Time: 18.93s\n",
            "\n",
            "Epoch [46/100] - Learning Rate: 0.398555\n"
          ]
        },
        {
          "output_type": "stream",
          "name": "stderr",
          "text": [
            "Training: 100%|██████████| 7/7 [00:17<00:00,  2.57s/it, loss=3.09, acc=23.5]\n"
          ]
        },
        {
          "output_type": "stream",
          "name": "stdout",
          "text": [
            "Train Loss: 3.0903, Train Acc: 23.47%, Test Loss: 2.7888, Test Acc: 29.33%, Time: 18.00s\n",
            "\n",
            "Epoch [47/100] - Learning Rate: 0.388256\n"
          ]
        },
        {
          "output_type": "stream",
          "name": "stderr",
          "text": [
            "Training: 100%|██████████| 7/7 [00:17<00:00,  2.55s/it, loss=3.01, acc=24.6]\n"
          ]
        },
        {
          "output_type": "stream",
          "name": "stdout",
          "text": [
            "Train Loss: 3.0111, Train Acc: 24.60%, Test Loss: 2.6595, Test Acc: 32.43%, Time: 17.86s\n",
            "New best model saved with accuracy: 32.43%\n",
            "\n",
            "Epoch [48/100] - Learning Rate: 0.377882\n"
          ]
        },
        {
          "output_type": "stream",
          "name": "stderr",
          "text": [
            "Training: 100%|██████████| 7/7 [00:19<00:00,  2.73s/it, loss=2.99, acc=25]\n"
          ]
        },
        {
          "output_type": "stream",
          "name": "stdout",
          "text": [
            "Train Loss: 2.9935, Train Acc: 24.97%, Test Loss: 2.6645, Test Acc: 31.58%, Time: 19.15s\n",
            "\n",
            "Epoch [49/100] - Learning Rate: 0.367444\n"
          ]
        },
        {
          "output_type": "stream",
          "name": "stderr",
          "text": [
            "Training: 100%|██████████| 7/7 [00:18<00:00,  2.66s/it, loss=3, acc=24.7]\n"
          ]
        },
        {
          "output_type": "stream",
          "name": "stdout",
          "text": [
            "Train Loss: 3.0023, Train Acc: 24.71%, Test Loss: 2.6754, Test Acc: 31.27%, Time: 18.64s\n",
            "\n",
            "Epoch [50/100] - Learning Rate: 0.356955\n"
          ]
        },
        {
          "output_type": "stream",
          "name": "stderr",
          "text": [
            "Training: 100%|██████████| 7/7 [00:18<00:00,  2.59s/it, loss=2.98, acc=25.2]\n"
          ]
        },
        {
          "output_type": "stream",
          "name": "stdout",
          "text": [
            "Train Loss: 2.9780, Train Acc: 25.18%, Test Loss: 2.7232, Test Acc: 30.81%, Time: 18.17s\n",
            "\n",
            "Epoch [51/100] - Learning Rate: 0.346425\n"
          ]
        },
        {
          "output_type": "stream",
          "name": "stderr",
          "text": [
            "Training: 100%|██████████| 7/7 [00:18<00:00,  2.71s/it, loss=2.96, acc=25.9]\n"
          ]
        },
        {
          "output_type": "stream",
          "name": "stdout",
          "text": [
            "Train Loss: 2.9587, Train Acc: 25.95%, Test Loss: 2.6886, Test Acc: 30.83%, Time: 18.95s\n",
            "\n",
            "Epoch [52/100] - Learning Rate: 0.335867\n"
          ]
        },
        {
          "output_type": "stream",
          "name": "stderr",
          "text": [
            "Training: 100%|██████████| 7/7 [00:18<00:00,  2.58s/it, loss=2.93, acc=26.4]\n"
          ]
        },
        {
          "output_type": "stream",
          "name": "stdout",
          "text": [
            "Train Loss: 2.9262, Train Acc: 26.38%, Test Loss: 2.6075, Test Acc: 32.32%, Time: 18.06s\n",
            "\n",
            "Epoch [53/100] - Learning Rate: 0.325291\n"
          ]
        },
        {
          "output_type": "stream",
          "name": "stderr",
          "text": [
            "Training: 100%|██████████| 7/7 [00:18<00:00,  2.62s/it, loss=2.87, acc=27.4]\n"
          ]
        },
        {
          "output_type": "stream",
          "name": "stdout",
          "text": [
            "Train Loss: 2.8708, Train Acc: 27.40%, Test Loss: 2.5729, Test Acc: 33.61%, Time: 18.38s\n",
            "New best model saved with accuracy: 33.61%\n",
            "\n",
            "Epoch [54/100] - Learning Rate: 0.314709\n"
          ]
        },
        {
          "output_type": "stream",
          "name": "stderr",
          "text": [
            "Training: 100%|██████████| 7/7 [00:18<00:00,  2.66s/it, loss=2.83, acc=28.1]\n"
          ]
        },
        {
          "output_type": "stream",
          "name": "stdout",
          "text": [
            "Train Loss: 2.8307, Train Acc: 28.13%, Test Loss: 2.5335, Test Acc: 34.62%, Time: 18.63s\n",
            "New best model saved with accuracy: 34.62%\n",
            "\n",
            "Epoch [55/100] - Learning Rate: 0.304133\n"
          ]
        },
        {
          "output_type": "stream",
          "name": "stderr",
          "text": [
            "Training: 100%|██████████| 7/7 [00:18<00:00,  2.62s/it, loss=2.81, acc=28.5]\n"
          ]
        },
        {
          "output_type": "stream",
          "name": "stdout",
          "text": [
            "Train Loss: 2.8120, Train Acc: 28.50%, Test Loss: 2.5703, Test Acc: 33.22%, Time: 18.35s\n",
            "\n",
            "Epoch [56/100] - Learning Rate: 0.293575\n"
          ]
        },
        {
          "output_type": "stream",
          "name": "stderr",
          "text": [
            "Training: 100%|██████████| 7/7 [00:18<00:00,  2.69s/it, loss=2.82, acc=28.5]\n"
          ]
        },
        {
          "output_type": "stream",
          "name": "stdout",
          "text": [
            "Train Loss: 2.8216, Train Acc: 28.52%, Test Loss: 2.5946, Test Acc: 33.10%, Time: 18.85s\n",
            "\n",
            "Epoch [57/100] - Learning Rate: 0.283045\n"
          ]
        },
        {
          "output_type": "stream",
          "name": "stderr",
          "text": [
            "Training: 100%|██████████| 7/7 [00:18<00:00,  2.66s/it, loss=2.84, acc=28.3]\n"
          ]
        },
        {
          "output_type": "stream",
          "name": "stdout",
          "text": [
            "Train Loss: 2.8352, Train Acc: 28.29%, Test Loss: 2.5496, Test Acc: 34.18%, Time: 18.64s\n",
            "\n",
            "Epoch [58/100] - Learning Rate: 0.272556\n"
          ]
        },
        {
          "output_type": "stream",
          "name": "stderr",
          "text": [
            "Training: 100%|██████████| 7/7 [00:18<00:00,  2.61s/it, loss=2.77, acc=29.3]\n"
          ]
        },
        {
          "output_type": "stream",
          "name": "stdout",
          "text": [
            "Train Loss: 2.7706, Train Acc: 29.32%, Test Loss: 2.4321, Test Acc: 36.56%, Time: 18.26s\n",
            "New best model saved with accuracy: 36.56%\n",
            "\n",
            "Epoch [59/100] - Learning Rate: 0.262118\n"
          ]
        },
        {
          "output_type": "stream",
          "name": "stderr",
          "text": [
            "Training: 100%|██████████| 7/7 [00:19<00:00,  2.72s/it, loss=2.72, acc=30.2]\n"
          ]
        },
        {
          "output_type": "stream",
          "name": "stdout",
          "text": [
            "Train Loss: 2.7208, Train Acc: 30.21%, Test Loss: 2.4288, Test Acc: 36.80%, Time: 19.08s\n",
            "New best model saved with accuracy: 36.80%\n",
            "\n",
            "Epoch [60/100] - Learning Rate: 0.251744\n"
          ]
        },
        {
          "output_type": "stream",
          "name": "stderr",
          "text": [
            "Training: 100%|██████████| 7/7 [00:18<00:00,  2.69s/it, loss=2.71, acc=30.5]\n"
          ]
        },
        {
          "output_type": "stream",
          "name": "stdout",
          "text": [
            "Train Loss: 2.7066, Train Acc: 30.55%, Test Loss: 2.3725, Test Acc: 37.64%, Time: 18.84s\n",
            "New best model saved with accuracy: 37.64%\n",
            "\n",
            "Epoch [61/100] - Learning Rate: 0.241445\n"
          ]
        },
        {
          "output_type": "stream",
          "name": "stderr",
          "text": [
            "Training: 100%|██████████| 7/7 [00:18<00:00,  2.58s/it, loss=2.71, acc=30.9]\n"
          ]
        },
        {
          "output_type": "stream",
          "name": "stdout",
          "text": [
            "Train Loss: 2.7069, Train Acc: 30.87%, Test Loss: 2.4162, Test Acc: 36.92%, Time: 18.09s\n",
            "\n",
            "Epoch [62/100] - Learning Rate: 0.231231\n"
          ]
        },
        {
          "output_type": "stream",
          "name": "stderr",
          "text": [
            "Training: 100%|██████████| 7/7 [00:18<00:00,  2.61s/it, loss=2.68, acc=31.1]\n"
          ]
        },
        {
          "output_type": "stream",
          "name": "stdout",
          "text": [
            "Train Loss: 2.6847, Train Acc: 31.07%, Test Loss: 2.3543, Test Acc: 38.37%, Time: 18.28s\n",
            "New best model saved with accuracy: 38.37%\n",
            "\n",
            "Epoch [63/100] - Learning Rate: 0.221115\n"
          ]
        },
        {
          "output_type": "stream",
          "name": "stderr",
          "text": [
            "Training: 100%|██████████| 7/7 [00:18<00:00,  2.59s/it, loss=2.66, acc=31.6]\n"
          ]
        },
        {
          "output_type": "stream",
          "name": "stdout",
          "text": [
            "Train Loss: 2.6608, Train Acc: 31.62%, Test Loss: 2.3636, Test Acc: 38.06%, Time: 18.14s\n",
            "\n",
            "Epoch [64/100] - Learning Rate: 0.211106\n"
          ]
        },
        {
          "output_type": "stream",
          "name": "stderr",
          "text": [
            "Training: 100%|██████████| 7/7 [00:17<00:00,  2.56s/it, loss=2.62, acc=32.2]\n"
          ]
        },
        {
          "output_type": "stream",
          "name": "stdout",
          "text": [
            "Train Loss: 2.6176, Train Acc: 32.20%, Test Loss: 2.4359, Test Acc: 36.37%, Time: 17.92s\n",
            "\n",
            "Epoch [65/100] - Learning Rate: 0.201217\n"
          ]
        },
        {
          "output_type": "stream",
          "name": "stderr",
          "text": [
            "Training: 100%|██████████| 7/7 [00:19<00:00,  2.73s/it, loss=2.6, acc=32.8]\n"
          ]
        },
        {
          "output_type": "stream",
          "name": "stdout",
          "text": [
            "Train Loss: 2.5953, Train Acc: 32.76%, Test Loss: 2.3667, Test Acc: 38.18%, Time: 19.14s\n",
            "\n",
            "Epoch [66/100] - Learning Rate: 0.191457\n"
          ]
        },
        {
          "output_type": "stream",
          "name": "stderr",
          "text": [
            "Training: 100%|██████████| 7/7 [00:17<00:00,  2.56s/it, loss=2.61, acc=32.7]\n"
          ]
        },
        {
          "output_type": "stream",
          "name": "stdout",
          "text": [
            "Train Loss: 2.6060, Train Acc: 32.68%, Test Loss: 2.3052, Test Acc: 39.73%, Time: 17.91s\n",
            "New best model saved with accuracy: 39.73%\n",
            "\n",
            "Epoch [67/100] - Learning Rate: 0.181839\n"
          ]
        },
        {
          "output_type": "stream",
          "name": "stderr",
          "text": [
            "Training: 100%|██████████| 7/7 [00:17<00:00,  2.56s/it, loss=2.58, acc=33.2]\n"
          ]
        },
        {
          "output_type": "stream",
          "name": "stdout",
          "text": [
            "Train Loss: 2.5807, Train Acc: 33.19%, Test Loss: 2.3670, Test Acc: 38.33%, Time: 17.94s\n",
            "\n",
            "Epoch [68/100] - Learning Rate: 0.172371\n"
          ]
        },
        {
          "output_type": "stream",
          "name": "stderr",
          "text": [
            "Training: 100%|██████████| 7/7 [00:19<00:00,  2.73s/it, loss=2.56, acc=33.7]\n"
          ]
        },
        {
          "output_type": "stream",
          "name": "stdout",
          "text": [
            "Train Loss: 2.5566, Train Acc: 33.68%, Test Loss: 2.2436, Test Acc: 40.29%, Time: 19.11s\n",
            "New best model saved with accuracy: 40.29%\n",
            "\n",
            "Epoch [69/100] - Learning Rate: 0.163064\n"
          ]
        },
        {
          "output_type": "stream",
          "name": "stderr",
          "text": [
            "Training: 100%|██████████| 7/7 [00:17<00:00,  2.55s/it, loss=2.52, acc=34.5]\n"
          ]
        },
        {
          "output_type": "stream",
          "name": "stdout",
          "text": [
            "Train Loss: 2.5216, Train Acc: 34.46%, Test Loss: 2.1895, Test Acc: 41.66%, Time: 17.89s\n",
            "New best model saved with accuracy: 41.66%\n",
            "\n",
            "Epoch [70/100] - Learning Rate: 0.153930\n"
          ]
        },
        {
          "output_type": "stream",
          "name": "stderr",
          "text": [
            "Training: 100%|██████████| 7/7 [00:18<00:00,  2.58s/it, loss=2.5, acc=35]\n"
          ]
        },
        {
          "output_type": "stream",
          "name": "stdout",
          "text": [
            "Train Loss: 2.5040, Train Acc: 35.01%, Test Loss: 2.1830, Test Acc: 42.29%, Time: 18.07s\n",
            "New best model saved with accuracy: 42.29%\n",
            "\n",
            "Epoch [71/100] - Learning Rate: 0.144977\n"
          ]
        },
        {
          "output_type": "stream",
          "name": "stderr",
          "text": [
            "Training: 100%|██████████| 7/7 [00:18<00:00,  2.70s/it, loss=2.51, acc=34.7]\n"
          ]
        },
        {
          "output_type": "stream",
          "name": "stdout",
          "text": [
            "Train Loss: 2.5082, Train Acc: 34.72%, Test Loss: 2.2004, Test Acc: 41.13%, Time: 18.94s\n",
            "\n",
            "Epoch [72/100] - Learning Rate: 0.136215\n"
          ]
        },
        {
          "output_type": "stream",
          "name": "stderr",
          "text": [
            "Training: 100%|██████████| 7/7 [00:17<00:00,  2.54s/it, loss=2.49, acc=35.2]\n"
          ]
        },
        {
          "output_type": "stream",
          "name": "stdout",
          "text": [
            "Train Loss: 2.4926, Train Acc: 35.21%, Test Loss: 2.1713, Test Acc: 42.61%, Time: 17.77s\n",
            "New best model saved with accuracy: 42.61%\n",
            "\n",
            "Epoch [73/100] - Learning Rate: 0.127654\n"
          ]
        },
        {
          "output_type": "stream",
          "name": "stderr",
          "text": [
            "Training: 100%|██████████| 7/7 [00:17<00:00,  2.54s/it, loss=2.46, acc=35.8]\n"
          ]
        },
        {
          "output_type": "stream",
          "name": "stdout",
          "text": [
            "Train Loss: 2.4633, Train Acc: 35.83%, Test Loss: 2.1484, Test Acc: 43.08%, Time: 17.76s\n",
            "New best model saved with accuracy: 43.08%\n",
            "\n",
            "Epoch [74/100] - Learning Rate: 0.119304\n"
          ]
        },
        {
          "output_type": "stream",
          "name": "stderr",
          "text": [
            "Training: 100%|██████████| 7/7 [00:19<00:00,  2.74s/it, loss=2.46, acc=35.8]\n"
          ]
        },
        {
          "output_type": "stream",
          "name": "stdout",
          "text": [
            "Train Loss: 2.4568, Train Acc: 35.78%, Test Loss: 2.1813, Test Acc: 41.85%, Time: 19.21s\n",
            "\n",
            "Epoch [75/100] - Learning Rate: 0.111173\n"
          ]
        },
        {
          "output_type": "stream",
          "name": "stderr",
          "text": [
            "Training: 100%|██████████| 7/7 [00:18<00:00,  2.59s/it, loss=2.43, acc=36.5]\n"
          ]
        },
        {
          "output_type": "stream",
          "name": "stdout",
          "text": [
            "Train Loss: 2.4292, Train Acc: 36.54%, Test Loss: 2.1094, Test Acc: 43.48%, Time: 18.14s\n",
            "New best model saved with accuracy: 43.48%\n",
            "\n",
            "Epoch [76/100] - Learning Rate: 0.103270\n"
          ]
        },
        {
          "output_type": "stream",
          "name": "stderr",
          "text": [
            "Training: 100%|██████████| 7/7 [00:18<00:00,  2.60s/it, loss=2.42, acc=36.4]\n"
          ]
        },
        {
          "output_type": "stream",
          "name": "stdout",
          "text": [
            "Train Loss: 2.4204, Train Acc: 36.37%, Test Loss: 2.1068, Test Acc: 44.14%, Time: 18.21s\n",
            "New best model saved with accuracy: 44.14%\n",
            "\n",
            "Epoch [77/100] - Learning Rate: 0.095604\n"
          ]
        },
        {
          "output_type": "stream",
          "name": "stderr",
          "text": [
            "Training: 100%|██████████| 7/7 [00:19<00:00,  2.75s/it, loss=2.39, acc=37.1]\n"
          ]
        },
        {
          "output_type": "stream",
          "name": "stdout",
          "text": [
            "Train Loss: 2.3948, Train Acc: 37.12%, Test Loss: 2.1409, Test Acc: 43.24%, Time: 19.24s\n",
            "\n",
            "Epoch [78/100] - Learning Rate: 0.088184\n"
          ]
        },
        {
          "output_type": "stream",
          "name": "stderr",
          "text": [
            "Training: 100%|██████████| 7/7 [00:18<00:00,  2.65s/it, loss=2.38, acc=37.5]\n"
          ]
        },
        {
          "output_type": "stream",
          "name": "stdout",
          "text": [
            "Train Loss: 2.3813, Train Acc: 37.52%, Test Loss: 2.0658, Test Acc: 45.17%, Time: 18.56s\n",
            "New best model saved with accuracy: 45.17%\n",
            "\n",
            "Epoch [79/100] - Learning Rate: 0.081017\n"
          ]
        },
        {
          "output_type": "stream",
          "name": "stderr",
          "text": [
            "Training: 100%|██████████| 7/7 [00:18<00:00,  2.62s/it, loss=2.37, acc=37.6]\n"
          ]
        },
        {
          "output_type": "stream",
          "name": "stdout",
          "text": [
            "Train Loss: 2.3709, Train Acc: 37.57%, Test Loss: 2.0660, Test Acc: 44.94%, Time: 18.31s\n",
            "\n",
            "Epoch [80/100] - Learning Rate: 0.074112\n"
          ]
        },
        {
          "output_type": "stream",
          "name": "stderr",
          "text": [
            "Training: 100%|██████████| 7/7 [00:19<00:00,  2.79s/it, loss=2.35, acc=38]\n"
          ]
        },
        {
          "output_type": "stream",
          "name": "stdout",
          "text": [
            "Train Loss: 2.3495, Train Acc: 37.99%, Test Loss: 2.0460, Test Acc: 45.41%, Time: 19.52s\n",
            "New best model saved with accuracy: 45.41%\n",
            "\n",
            "Epoch [81/100] - Learning Rate: 0.067475\n"
          ]
        },
        {
          "output_type": "stream",
          "name": "stderr",
          "text": [
            "Training: 100%|██████████| 7/7 [00:17<00:00,  2.54s/it, loss=2.35, acc=37.8]\n"
          ]
        },
        {
          "output_type": "stream",
          "name": "stdout",
          "text": [
            "Train Loss: 2.3520, Train Acc: 37.83%, Test Loss: 2.0369, Test Acc: 45.33%, Time: 17.80s\n",
            "\n",
            "Epoch [82/100] - Learning Rate: 0.061115\n"
          ]
        },
        {
          "output_type": "stream",
          "name": "stderr",
          "text": [
            "Training: 100%|██████████| 7/7 [00:18<00:00,  2.58s/it, loss=2.33, acc=38.6]\n"
          ]
        },
        {
          "output_type": "stream",
          "name": "stdout",
          "text": [
            "Train Loss: 2.3291, Train Acc: 38.61%, Test Loss: 2.0453, Test Acc: 45.76%, Time: 18.10s\n",
            "New best model saved with accuracy: 45.76%\n",
            "\n",
            "Epoch [83/100] - Learning Rate: 0.055037\n"
          ]
        },
        {
          "output_type": "stream",
          "name": "stderr",
          "text": [
            "Training: 100%|██████████| 7/7 [00:19<00:00,  2.73s/it, loss=2.33, acc=38.7]\n"
          ]
        },
        {
          "output_type": "stream",
          "name": "stdout",
          "text": [
            "Train Loss: 2.3312, Train Acc: 38.69%, Test Loss: 2.0178, Test Acc: 46.58%, Time: 19.09s\n",
            "New best model saved with accuracy: 46.58%\n",
            "\n",
            "Epoch [84/100] - Learning Rate: 0.049250\n"
          ]
        },
        {
          "output_type": "stream",
          "name": "stderr",
          "text": [
            "Training: 100%|██████████| 7/7 [00:17<00:00,  2.52s/it, loss=2.32, acc=38.7]\n"
          ]
        },
        {
          "output_type": "stream",
          "name": "stdout",
          "text": [
            "Train Loss: 2.3228, Train Acc: 38.67%, Test Loss: 2.0201, Test Acc: 46.19%, Time: 17.64s\n",
            "\n",
            "Epoch [85/100] - Learning Rate: 0.043758\n"
          ]
        },
        {
          "output_type": "stream",
          "name": "stderr",
          "text": [
            "Training: 100%|██████████| 7/7 [00:17<00:00,  2.55s/it, loss=2.31, acc=39]\n"
          ]
        },
        {
          "output_type": "stream",
          "name": "stdout",
          "text": [
            "Train Loss: 2.3092, Train Acc: 39.01%, Test Loss: 2.0144, Test Acc: 46.53%, Time: 17.87s\n",
            "\n",
            "Epoch [86/100] - Learning Rate: 0.038568\n"
          ]
        },
        {
          "output_type": "stream",
          "name": "stderr",
          "text": [
            "Training: 100%|██████████| 7/7 [00:18<00:00,  2.71s/it, loss=2.3, acc=39]\n"
          ]
        },
        {
          "output_type": "stream",
          "name": "stdout",
          "text": [
            "Train Loss: 2.3045, Train Acc: 39.02%, Test Loss: 1.9979, Test Acc: 46.51%, Time: 19.00s\n",
            "\n",
            "Epoch [87/100] - Learning Rate: 0.033687\n"
          ]
        },
        {
          "output_type": "stream",
          "name": "stderr",
          "text": [
            "Training: 100%|██████████| 7/7 [00:18<00:00,  2.58s/it, loss=2.29, acc=39.4]\n"
          ]
        },
        {
          "output_type": "stream",
          "name": "stdout",
          "text": [
            "Train Loss: 2.2928, Train Acc: 39.41%, Test Loss: 1.9860, Test Acc: 47.27%, Time: 18.07s\n",
            "New best model saved with accuracy: 47.27%\n",
            "\n",
            "Epoch [88/100] - Learning Rate: 0.029118\n"
          ]
        },
        {
          "output_type": "stream",
          "name": "stderr",
          "text": [
            "Training: 100%|██████████| 7/7 [00:17<00:00,  2.54s/it, loss=2.29, acc=39.7]\n"
          ]
        },
        {
          "output_type": "stream",
          "name": "stdout",
          "text": [
            "Train Loss: 2.2860, Train Acc: 39.74%, Test Loss: 1.9745, Test Acc: 47.48%, Time: 17.78s\n",
            "New best model saved with accuracy: 47.48%\n",
            "\n",
            "Epoch [89/100] - Learning Rate: 0.024867\n"
          ]
        },
        {
          "output_type": "stream",
          "name": "stderr",
          "text": [
            "Training: 100%|██████████| 7/7 [00:19<00:00,  2.77s/it, loss=2.27, acc=39.9]\n"
          ]
        },
        {
          "output_type": "stream",
          "name": "stdout",
          "text": [
            "Train Loss: 2.2740, Train Acc: 39.87%, Test Loss: 1.9673, Test Acc: 47.52%, Time: 19.40s\n",
            "New best model saved with accuracy: 47.52%\n",
            "\n",
            "Epoch [90/100] - Learning Rate: 0.020939\n"
          ]
        },
        {
          "output_type": "stream",
          "name": "stderr",
          "text": [
            "Training: 100%|██████████| 7/7 [00:17<00:00,  2.57s/it, loss=2.27, acc=40]\n"
          ]
        },
        {
          "output_type": "stream",
          "name": "stdout",
          "text": [
            "Train Loss: 2.2666, Train Acc: 39.98%, Test Loss: 1.9645, Test Acc: 47.42%, Time: 17.99s\n",
            "\n",
            "Epoch [91/100] - Learning Rate: 0.017338\n"
          ]
        },
        {
          "output_type": "stream",
          "name": "stderr",
          "text": [
            "Training: 100%|██████████| 7/7 [00:17<00:00,  2.52s/it, loss=2.27, acc=39.9]\n"
          ]
        },
        {
          "output_type": "stream",
          "name": "stdout",
          "text": [
            "Train Loss: 2.2702, Train Acc: 39.88%, Test Loss: 1.9596, Test Acc: 47.51%, Time: 17.68s\n",
            "\n",
            "Epoch [92/100] - Learning Rate: 0.014069\n"
          ]
        },
        {
          "output_type": "stream",
          "name": "stderr",
          "text": [
            "Training: 100%|██████████| 7/7 [00:18<00:00,  2.63s/it, loss=2.26, acc=40.4]\n"
          ]
        },
        {
          "output_type": "stream",
          "name": "stdout",
          "text": [
            "Train Loss: 2.2562, Train Acc: 40.43%, Test Loss: 1.9604, Test Acc: 47.58%, Time: 18.39s\n",
            "New best model saved with accuracy: 47.58%\n",
            "\n",
            "Epoch [93/100] - Learning Rate: 0.011133\n"
          ]
        },
        {
          "output_type": "stream",
          "name": "stderr",
          "text": [
            "Training: 100%|██████████| 7/7 [00:17<00:00,  2.52s/it, loss=2.24, acc=40.5]\n"
          ]
        },
        {
          "output_type": "stream",
          "name": "stdout",
          "text": [
            "Train Loss: 2.2416, Train Acc: 40.55%, Test Loss: 1.9541, Test Acc: 47.70%, Time: 17.63s\n",
            "New best model saved with accuracy: 47.70%\n",
            "\n",
            "Epoch [94/100] - Learning Rate: 0.008535\n"
          ]
        },
        {
          "output_type": "stream",
          "name": "stderr",
          "text": [
            "Training: 100%|██████████| 7/7 [00:18<00:00,  2.65s/it, loss=2.25, acc=40.3]\n"
          ]
        },
        {
          "output_type": "stream",
          "name": "stdout",
          "text": [
            "Train Loss: 2.2534, Train Acc: 40.32%, Test Loss: 1.9464, Test Acc: 47.86%, Time: 18.55s\n",
            "New best model saved with accuracy: 47.86%\n",
            "\n",
            "Epoch [95/100] - Learning Rate: 0.006278\n"
          ]
        },
        {
          "output_type": "stream",
          "name": "stderr",
          "text": [
            "Training: 100%|██████████| 7/7 [00:17<00:00,  2.52s/it, loss=2.25, acc=40.5]\n"
          ]
        },
        {
          "output_type": "stream",
          "name": "stdout",
          "text": [
            "Train Loss: 2.2494, Train Acc: 40.52%, Test Loss: 1.9442, Test Acc: 47.85%, Time: 17.67s\n",
            "\n",
            "Epoch [96/100] - Learning Rate: 0.004364\n"
          ]
        },
        {
          "output_type": "stream",
          "name": "stderr",
          "text": [
            "Training: 100%|██████████| 7/7 [00:18<00:00,  2.61s/it, loss=2.24, acc=40.5]\n"
          ]
        },
        {
          "output_type": "stream",
          "name": "stdout",
          "text": [
            "Train Loss: 2.2368, Train Acc: 40.50%, Test Loss: 1.9417, Test Acc: 47.93%, Time: 18.25s\n",
            "New best model saved with accuracy: 47.93%\n",
            "\n",
            "Epoch [97/100] - Learning Rate: 0.002795\n"
          ]
        },
        {
          "output_type": "stream",
          "name": "stderr",
          "text": [
            "Training: 100%|██████████| 7/7 [00:19<00:00,  2.75s/it, loss=2.24, acc=40.7]\n"
          ]
        },
        {
          "output_type": "stream",
          "name": "stdout",
          "text": [
            "Train Loss: 2.2359, Train Acc: 40.74%, Test Loss: 1.9388, Test Acc: 48.00%, Time: 19.24s\n",
            "New best model saved with accuracy: 48.00%\n",
            "\n",
            "Epoch [98/100] - Learning Rate: 0.001573\n"
          ]
        },
        {
          "output_type": "stream",
          "name": "stderr",
          "text": [
            "Training: 100%|██████████| 7/7 [00:18<00:00,  2.58s/it, loss=2.24, acc=40.4]\n"
          ]
        },
        {
          "output_type": "stream",
          "name": "stdout",
          "text": [
            "Train Loss: 2.2429, Train Acc: 40.43%, Test Loss: 1.9391, Test Acc: 47.88%, Time: 18.09s\n",
            "\n",
            "Epoch [99/100] - Learning Rate: 0.000700\n"
          ]
        },
        {
          "output_type": "stream",
          "name": "stderr",
          "text": [
            "Training: 100%|██████████| 7/7 [00:18<00:00,  2.58s/it, loss=2.24, acc=40.7]\n"
          ]
        },
        {
          "output_type": "stream",
          "name": "stdout",
          "text": [
            "Train Loss: 2.2354, Train Acc: 40.69%, Test Loss: 1.9389, Test Acc: 47.94%, Time: 18.06s\n",
            "\n",
            "Epoch [100/100] - Learning Rate: 0.000175\n"
          ]
        },
        {
          "output_type": "stream",
          "name": "stderr",
          "text": [
            "Training: 100%|██████████| 7/7 [00:19<00:00,  2.74s/it, loss=2.24, acc=40.6]\n"
          ]
        },
        {
          "output_type": "stream",
          "name": "stdout",
          "text": [
            "Train Loss: 2.2429, Train Acc: 40.57%, Test Loss: 1.9386, Test Acc: 47.95%, Time: 19.16s\n",
            "Best model loaded with accuracy: 48.00%\n"
          ]
        },
        {
          "output_type": "display_data",
          "data": {
            "text/plain": [
              "<Figure size 1800x500 with 3 Axes>"
            ],
            "image/png": "[encoded data removed]"
          },
          "metadata": {}
        },
        {
          "output_type": "stream",
          "name": "stdout",
          "text": [
            "LARS benchmark completed!\n"
          ]
        }
      ]
    }
  ]
}