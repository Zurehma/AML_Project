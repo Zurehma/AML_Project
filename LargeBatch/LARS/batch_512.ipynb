{
  "nbformat": 4,
  "nbformat_minor": 0,
  "metadata": {
    "colab": {
      "provenance": [],
      "authorship_tag": "ABX9TyP3wTlH2sTxossaQ5ZZX77M",
      "include_colab_link": true
    },
    "kernelspec": {
      "name": "python3",
      "display_name": "Python 3"
    },
    "language_info": {
      "name": "python"
    }
  },
  "cells": [
    {
      "cell_type": "markdown",
      "metadata": {
        "id": "view-in-github",
        "colab_type": "text"
      },
      "source": [
        "<a href=\"https://colab.research.google.com/github/Zurehma/AML_Project/blob/zurehma/LargeBatch/LARS/batch_512.ipynb\" target=\"_parent\"><img src=\"https://colab.research.google.com/assets/colab-badge.svg\" alt=\"Open In Colab\"/></a>"
      ]
    },
    {
      "cell_type": "code",
      "source": [
        "!pip install torch-optimizer\n"
      ],
      "metadata": {
        "id": "_pPekZHLXWe3"
      },
      "execution_count": null,
      "outputs": []
    },
    {
      "cell_type": "code",
      "execution_count": null,
      "metadata": {
        "colab": {
          "base_uri": "https://localhost:8080/",
          "height": 1000
        },
        "id": "LRMynKGFXMtY",
        "outputId": "e9e67085-d526-4496-fb33-325d1d952b42"
      },
      "outputs": [
        {
          "output_type": "stream",
          "name": "stdout",
          "text": [
            "PyTorch version: 2.6.0+cu124\n",
            "Using device: cpu\n",
            "Running LARS benchmark with improved_cnn on cifar100...\n"
          ]
        },
        {
          "output_type": "stream",
          "name": "stderr",
          "text": [
            "100%|██████████| 169M/169M [00:01<00:00, 104MB/s]\n"
          ]
        },
        {
          "output_type": "stream",
          "name": "stdout",
          "text": [
            "Total parameters: 1,774,052\n",
            "\n",
            "Epoch [1/100] - Learning Rate: 0.008000\n"
          ]
        },
        {
          "output_type": "stream",
          "name": "stderr",
          "text": [
            "Training: 100%|██████████| 98/98 [05:40<00:00,  3.48s/it, loss=4.56, acc=2.08]\n"
          ]
        },
        {
          "output_type": "stream",
          "name": "stdout",
          "text": [
            "Train Loss: 4.5551, Train Acc: 2.08%, Test Loss: 4.3698, Test Acc: 3.80%, Time: 340.88s\n",
            "New best model saved with accuracy: 3.80%\n",
            "\n",
            "Epoch [2/100] - Learning Rate: 0.016000\n"
          ]
        },
        {
          "output_type": "stream",
          "name": "stderr",
          "text": [
            "Training: 100%|██████████| 98/98 [05:32<00:00,  3.39s/it, loss=4.29, acc=4.68]\n"
          ]
        },
        {
          "output_type": "stream",
          "name": "stdout",
          "text": [
            "Train Loss: 4.2891, Train Acc: 4.68%, Test Loss: 3.9949, Test Acc: 10.08%, Time: 332.27s\n",
            "New best model saved with accuracy: 10.08%\n",
            "\n",
            "Epoch [3/100] - Learning Rate: 0.024000\n"
          ]
        },
        {
          "output_type": "stream",
          "name": "stderr",
          "text": [
            "Training: 100%|██████████| 98/98 [05:33<00:00,  3.40s/it, loss=4.01, acc=7.98]\n"
          ]
        },
        {
          "output_type": "stream",
          "name": "stdout",
          "text": [
            "Train Loss: 4.0133, Train Acc: 7.98%, Test Loss: 3.6861, Test Acc: 14.51%, Time: 333.51s\n",
            "New best model saved with accuracy: 14.51%\n",
            "\n",
            "Epoch [4/100] - Learning Rate: 0.032000\n"
          ]
        },
        {
          "output_type": "stream",
          "name": "stderr",
          "text": [
            "Training: 100%|██████████| 98/98 [05:28<00:00,  3.35s/it, loss=3.81, acc=10.5]\n"
          ]
        },
        {
          "output_type": "stream",
          "name": "stdout",
          "text": [
            "Train Loss: 3.8102, Train Acc: 10.46%, Test Loss: 3.5190, Test Acc: 16.60%, Time: 328.06s\n",
            "New best model saved with accuracy: 16.60%\n",
            "\n",
            "Epoch [5/100] - Learning Rate: 0.040000\n"
          ]
        },
        {
          "output_type": "stream",
          "name": "stderr",
          "text": [
            "Training: 100%|██████████| 98/98 [05:32<00:00,  3.39s/it, loss=3.64, acc=13.3]\n"
          ]
        },
        {
          "output_type": "stream",
          "name": "stdout",
          "text": [
            "Train Loss: 3.6438, Train Acc: 13.26%, Test Loss: 3.3190, Test Acc: 19.82%, Time: 332.55s\n",
            "New best model saved with accuracy: 19.82%\n",
            "\n",
            "Epoch [6/100] - Learning Rate: 0.040000\n"
          ]
        },
        {
          "output_type": "stream",
          "name": "stderr",
          "text": [
            "Training: 100%|██████████| 98/98 [05:32<00:00,  3.39s/it, loss=3.49, acc=15.8]\n"
          ]
        },
        {
          "output_type": "stream",
          "name": "stdout",
          "text": [
            "Train Loss: 3.4885, Train Acc: 15.81%, Test Loss: 3.1247, Test Acc: 23.46%, Time: 332.12s\n",
            "New best model saved with accuracy: 23.46%\n",
            "\n",
            "Epoch [7/100] - Learning Rate: 0.039989\n"
          ]
        },
        {
          "output_type": "stream",
          "name": "stderr",
          "text": [
            "Training: 100%|██████████| 98/98 [05:34<00:00,  3.41s/it, loss=3.37, acc=18]\n"
          ]
        },
        {
          "output_type": "stream",
          "name": "stdout",
          "text": [
            "Train Loss: 3.3650, Train Acc: 18.04%, Test Loss: 3.0578, Test Acc: 24.04%, Time: 334.66s\n",
            "New best model saved with accuracy: 24.04%\n",
            "\n",
            "Epoch [8/100] - Learning Rate: 0.039956\n"
          ]
        },
        {
          "output_type": "stream",
          "name": "stderr",
          "text": [
            "Training: 100%|██████████| 98/98 [05:33<00:00,  3.40s/it, loss=3.27, acc=19.3]\n"
          ]
        },
        {
          "output_type": "stream",
          "name": "stdout",
          "text": [
            "Train Loss: 3.2663, Train Acc: 19.33%, Test Loss: 2.9257, Test Acc: 27.13%, Time: 333.28s\n",
            "New best model saved with accuracy: 27.13%\n",
            "\n",
            "Epoch [9/100] - Learning Rate: 0.039902\n"
          ]
        },
        {
          "output_type": "stream",
          "name": "stderr",
          "text": [
            "Training: 100%|██████████| 98/98 [05:26<00:00,  3.33s/it, loss=3.18, acc=21.1]\n"
          ]
        },
        {
          "output_type": "stream",
          "name": "stdout",
          "text": [
            "Train Loss: 3.1792, Train Acc: 21.11%, Test Loss: 2.7930, Test Acc: 29.23%, Time: 326.77s\n",
            "New best model saved with accuracy: 29.23%\n",
            "\n",
            "Epoch [10/100] - Learning Rate: 0.039825\n"
          ]
        },
        {
          "output_type": "stream",
          "name": "stderr",
          "text": [
            "Training: 100%|██████████| 98/98 [05:33<00:00,  3.40s/it, loss=3.12, acc=22.4]\n"
          ]
        },
        {
          "output_type": "stream",
          "name": "stdout",
          "text": [
            "Train Loss: 3.1181, Train Acc: 22.36%, Test Loss: 2.7136, Test Acc: 30.55%, Time: 333.67s\n",
            "New best model saved with accuracy: 30.55%\n",
            "\n",
            "Epoch [11/100] - Learning Rate: 0.039727\n"
          ]
        },
        {
          "output_type": "stream",
          "name": "stderr",
          "text": [
            "Training: 100%|██████████| 98/98 [05:36<00:00,  3.43s/it, loss=3.04, acc=23.8]\n"
          ]
        },
        {
          "output_type": "stream",
          "name": "stdout",
          "text": [
            "Train Loss: 3.0448, Train Acc: 23.76%, Test Loss: 2.6451, Test Acc: 31.43%, Time: 336.10s\n",
            "New best model saved with accuracy: 31.43%\n",
            "\n",
            "Epoch [12/100] - Learning Rate: 0.039608\n"
          ]
        },
        {
          "output_type": "stream",
          "name": "stderr",
          "text": [
            "Training: 100%|██████████| 98/98 [05:32<00:00,  3.39s/it, loss=2.99, acc=24.8]\n"
          ]
        },
        {
          "output_type": "stream",
          "name": "stdout",
          "text": [
            "Train Loss: 2.9942, Train Acc: 24.76%, Test Loss: 2.6311, Test Acc: 32.26%, Time: 332.59s\n",
            "New best model saved with accuracy: 32.26%\n",
            "\n",
            "Epoch [13/100] - Learning Rate: 0.039467\n"
          ]
        },
        {
          "output_type": "stream",
          "name": "stderr",
          "text": [
            "Training: 100%|██████████| 98/98 [05:33<00:00,  3.41s/it, loss=2.94, acc=25.9]\n"
          ]
        },
        {
          "output_type": "stream",
          "name": "stdout",
          "text": [
            "Train Loss: 2.9419, Train Acc: 25.90%, Test Loss: 2.5726, Test Acc: 33.76%, Time: 333.82s\n",
            "New best model saved with accuracy: 33.76%\n",
            "\n",
            "Epoch [14/100] - Learning Rate: 0.039304\n"
          ]
        },
        {
          "output_type": "stream",
          "name": "stderr",
          "text": [
            "Training: 100%|██████████| 98/98 [05:33<00:00,  3.40s/it, loss=2.91, acc=26.4]\n"
          ]
        },
        {
          "output_type": "stream",
          "name": "stdout",
          "text": [
            "Train Loss: 2.9054, Train Acc: 26.42%, Test Loss: 2.5366, Test Acc: 34.34%, Time: 333.28s\n",
            "New best model saved with accuracy: 34.34%\n",
            "\n",
            "Epoch [15/100] - Learning Rate: 0.039121\n"
          ]
        },
        {
          "output_type": "stream",
          "name": "stderr",
          "text": [
            "Training: 100%|██████████| 98/98 [05:29<00:00,  3.36s/it, loss=2.86, acc=27.3]\n"
          ]
        },
        {
          "output_type": "stream",
          "name": "stdout",
          "text": [
            "Train Loss: 2.8600, Train Acc: 27.29%, Test Loss: 2.4904, Test Acc: 35.25%, Time: 329.46s\n",
            "New best model saved with accuracy: 35.25%\n",
            "\n",
            "Epoch [16/100] - Learning Rate: 0.038916\n"
          ]
        },
        {
          "output_type": "stream",
          "name": "stderr",
          "text": [
            "Training: 100%|██████████| 98/98 [05:33<00:00,  3.40s/it, loss=2.81, acc=28.3]\n"
          ]
        },
        {
          "output_type": "stream",
          "name": "stdout",
          "text": [
            "Train Loss: 2.8138, Train Acc: 28.30%, Test Loss: 2.4521, Test Acc: 35.64%, Time: 333.67s\n",
            "New best model saved with accuracy: 35.64%\n",
            "\n",
            "Epoch [17/100] - Learning Rate: 0.038691\n"
          ]
        },
        {
          "output_type": "stream",
          "name": "stderr",
          "text": [
            "Training: 100%|██████████| 98/98 [05:31<00:00,  3.38s/it, loss=2.78, acc=28.7]\n"
          ]
        },
        {
          "output_type": "stream",
          "name": "stdout",
          "text": [
            "Train Loss: 2.7849, Train Acc: 28.70%, Test Loss: 2.4093, Test Acc: 36.92%, Time: 331.43s\n",
            "New best model saved with accuracy: 36.92%\n",
            "\n",
            "Epoch [18/100] - Learning Rate: 0.038446\n"
          ]
        },
        {
          "output_type": "stream",
          "name": "stderr",
          "text": [
            "Training: 100%|██████████| 98/98 [05:30<00:00,  3.38s/it, loss=2.75, acc=29.4]\n"
          ]
        },
        {
          "output_type": "stream",
          "name": "stdout",
          "text": [
            "Train Loss: 2.7531, Train Acc: 29.43%, Test Loss: 2.3721, Test Acc: 38.27%, Time: 330.94s\n",
            "New best model saved with accuracy: 38.27%\n",
            "\n",
            "Epoch [19/100] - Learning Rate: 0.038180\n"
          ]
        },
        {
          "output_type": "stream",
          "name": "stderr",
          "text": [
            "Training: 100%|██████████| 98/98 [05:31<00:00,  3.38s/it, loss=2.72, acc=30.1]\n"
          ]
        },
        {
          "output_type": "stream",
          "name": "stdout",
          "text": [
            "Train Loss: 2.7211, Train Acc: 30.13%, Test Loss: 2.3313, Test Acc: 38.95%, Time: 331.55s\n",
            "New best model saved with accuracy: 38.95%\n",
            "\n",
            "Epoch [20/100] - Learning Rate: 0.037895\n"
          ]
        },
        {
          "output_type": "stream",
          "name": "stderr",
          "text": [
            "Training: 100%|██████████| 98/98 [05:30<00:00,  3.37s/it, loss=2.69, acc=30.7]\n"
          ]
        },
        {
          "output_type": "stream",
          "name": "stdout",
          "text": [
            "Train Loss: 2.6907, Train Acc: 30.74%, Test Loss: 2.3376, Test Acc: 37.92%, Time: 330.13s\n",
            "\n",
            "Epoch [21/100] - Learning Rate: 0.037589\n"
          ]
        },
        {
          "output_type": "stream",
          "name": "stderr",
          "text": [
            "Training: 100%|██████████| 98/98 [05:35<00:00,  3.42s/it, loss=2.66, acc=31.3]\n"
          ]
        },
        {
          "output_type": "stream",
          "name": "stdout",
          "text": [
            "Train Loss: 2.6578, Train Acc: 31.29%, Test Loss: 2.3256, Test Acc: 38.84%, Time: 335.13s\n",
            "\n",
            "Epoch [22/100] - Learning Rate: 0.037265\n"
          ]
        },
        {
          "output_type": "stream",
          "name": "stderr",
          "text": [
            "Training: 100%|██████████| 98/98 [05:27<00:00,  3.34s/it, loss=2.64, acc=31.7]\n"
          ]
        },
        {
          "output_type": "stream",
          "name": "stdout",
          "text": [
            "Train Loss: 2.6414, Train Acc: 31.75%, Test Loss: 2.2979, Test Acc: 40.41%, Time: 327.54s\n",
            "New best model saved with accuracy: 40.41%\n",
            "\n",
            "Epoch [23/100] - Learning Rate: 0.036922\n"
          ]
        },
        {
          "output_type": "stream",
          "name": "stderr",
          "text": [
            "Training: 100%|██████████| 98/98 [05:31<00:00,  3.38s/it, loss=2.61, acc=32.5]\n"
          ]
        },
        {
          "output_type": "stream",
          "name": "stdout",
          "text": [
            "Train Loss: 2.6065, Train Acc: 32.54%, Test Loss: 2.2224, Test Acc: 41.17%, Time: 331.47s\n",
            "New best model saved with accuracy: 41.17%\n",
            "\n",
            "Epoch [24/100] - Learning Rate: 0.036560\n"
          ]
        },
        {
          "output_type": "stream",
          "name": "stderr",
          "text": [
            "Training: 100%|██████████| 98/98 [05:29<00:00,  3.36s/it, loss=2.6, acc=32.8]\n"
          ]
        },
        {
          "output_type": "stream",
          "name": "stdout",
          "text": [
            "Train Loss: 2.5968, Train Acc: 32.79%, Test Loss: 2.2333, Test Acc: 41.01%, Time: 329.39s\n",
            "\n",
            "Epoch [25/100] - Learning Rate: 0.036180\n"
          ]
        },
        {
          "output_type": "stream",
          "name": "stderr",
          "text": [
            "Training: 100%|██████████| 98/98 [05:26<00:00,  3.33s/it, loss=2.57, acc=33.5]\n"
          ]
        },
        {
          "output_type": "stream",
          "name": "stdout",
          "text": [
            "Train Loss: 2.5676, Train Acc: 33.55%, Test Loss: 2.1992, Test Acc: 40.83%, Time: 326.13s\n",
            "\n",
            "Epoch [26/100] - Learning Rate: 0.035783\n"
          ]
        },
        {
          "output_type": "stream",
          "name": "stderr",
          "text": [
            "Training: 100%|██████████| 98/98 [05:32<00:00,  3.39s/it, loss=2.55, acc=33.8]\n"
          ]
        },
        {
          "output_type": "stream",
          "name": "stdout",
          "text": [
            "Train Loss: 2.5491, Train Acc: 33.75%, Test Loss: 2.1445, Test Acc: 42.61%, Time: 332.04s\n",
            "New best model saved with accuracy: 42.61%\n",
            "\n",
            "Epoch [27/100] - Learning Rate: 0.035368\n"
          ]
        },
        {
          "output_type": "stream",
          "name": "stderr",
          "text": [
            "Training: 100%|██████████| 98/98 [05:33<00:00,  3.40s/it, loss=2.53, acc=34.3]\n"
          ]
        },
        {
          "output_type": "stream",
          "name": "stdout",
          "text": [
            "Train Loss: 2.5297, Train Acc: 34.35%, Test Loss: 2.1661, Test Acc: 42.43%, Time: 333.19s\n",
            "\n",
            "Epoch [28/100] - Learning Rate: 0.034936\n"
          ]
        },
        {
          "output_type": "stream",
          "name": "stderr",
          "text": [
            "Training: 100%|██████████| 98/98 [05:34<00:00,  3.41s/it, loss=2.51, acc=34.8]\n"
          ]
        },
        {
          "output_type": "stream",
          "name": "stdout",
          "text": [
            "Train Loss: 2.5064, Train Acc: 34.82%, Test Loss: 2.1633, Test Acc: 42.53%, Time: 334.54s\n",
            "\n",
            "Epoch [29/100] - Learning Rate: 0.034489\n"
          ]
        },
        {
          "output_type": "stream",
          "name": "stderr",
          "text": [
            "Training: 100%|██████████| 98/98 [05:31<00:00,  3.39s/it, loss=2.48, acc=34.7]\n"
          ]
        },
        {
          "output_type": "stream",
          "name": "stdout",
          "text": [
            "Train Loss: 2.4825, Train Acc: 34.73%, Test Loss: 2.1376, Test Acc: 43.23%, Time: 331.99s\n",
            "New best model saved with accuracy: 43.23%\n",
            "\n",
            "Epoch [30/100] - Learning Rate: 0.034025\n"
          ]
        },
        {
          "output_type": "stream",
          "name": "stderr",
          "text": [
            "Training: 100%|██████████| 98/98 [05:32<00:00,  3.39s/it, loss=2.46, acc=35.5]\n"
          ]
        },
        {
          "output_type": "stream",
          "name": "stdout",
          "text": [
            "Train Loss: 2.4640, Train Acc: 35.48%, Test Loss: 2.0904, Test Acc: 43.74%, Time: 332.42s\n",
            "New best model saved with accuracy: 43.74%\n",
            "\n",
            "Epoch [31/100] - Learning Rate: 0.033546\n"
          ]
        },
        {
          "output_type": "stream",
          "name": "stderr",
          "text": [
            "Training: 100%|██████████| 98/98 [05:32<00:00,  3.39s/it, loss=2.46, acc=35.7]\n"
          ]
        },
        {
          "output_type": "stream",
          "name": "stdout",
          "text": [
            "Train Loss: 2.4595, Train Acc: 35.71%, Test Loss: 2.1048, Test Acc: 44.52%, Time: 332.30s\n",
            "New best model saved with accuracy: 44.52%\n",
            "\n",
            "Epoch [32/100] - Learning Rate: 0.033052\n"
          ]
        },
        {
          "output_type": "stream",
          "name": "stderr",
          "text": [
            "Training: 100%|██████████| 98/98 [05:32<00:00,  3.39s/it, loss=2.44, acc=35.8]\n"
          ]
        },
        {
          "output_type": "stream",
          "name": "stdout",
          "text": [
            "Train Loss: 2.4387, Train Acc: 35.78%, Test Loss: 2.0640, Test Acc: 44.52%, Time: 332.21s\n",
            "\n",
            "Epoch [33/100] - Learning Rate: 0.032544\n"
          ]
        },
        {
          "output_type": "stream",
          "name": "stderr",
          "text": [
            "Training: 100%|██████████| 98/98 [05:32<00:00,  3.39s/it, loss=2.41, acc=36.8]\n"
          ]
        },
        {
          "output_type": "stream",
          "name": "stdout",
          "text": [
            "Train Loss: 2.4108, Train Acc: 36.78%, Test Loss: 2.0498, Test Acc: 44.68%, Time: 332.42s\n",
            "New best model saved with accuracy: 44.68%\n",
            "\n",
            "Epoch [34/100] - Learning Rate: 0.032022\n"
          ]
        },
        {
          "output_type": "stream",
          "name": "stderr",
          "text": [
            "Training: 100%|██████████| 98/98 [05:31<00:00,  3.38s/it, loss=2.41, acc=36.8]\n"
          ]
        },
        {
          "output_type": "stream",
          "name": "stdout",
          "text": [
            "Train Loss: 2.4050, Train Acc: 36.78%, Test Loss: 2.0254, Test Acc: 45.56%, Time: 331.67s\n",
            "New best model saved with accuracy: 45.56%\n",
            "\n",
            "Epoch [35/100] - Learning Rate: 0.031487\n"
          ]
        },
        {
          "output_type": "stream",
          "name": "stderr",
          "text": [
            "Training: 100%|██████████| 98/98 [05:32<00:00,  3.39s/it, loss=2.38, acc=37.3]\n"
          ]
        },
        {
          "output_type": "stream",
          "name": "stdout",
          "text": [
            "Train Loss: 2.3811, Train Acc: 37.33%, Test Loss: 2.0506, Test Acc: 44.56%, Time: 332.29s\n",
            "\n",
            "Epoch [36/100] - Learning Rate: 0.030939\n"
          ]
        },
        {
          "output_type": "stream",
          "name": "stderr",
          "text": [
            "Training: 100%|██████████| 98/98 [05:25<00:00,  3.32s/it, loss=2.37, acc=37.8]\n"
          ]
        },
        {
          "output_type": "stream",
          "name": "stdout",
          "text": [
            "Train Loss: 2.3651, Train Acc: 37.82%, Test Loss: 2.0064, Test Acc: 46.11%, Time: 325.63s\n",
            "New best model saved with accuracy: 46.11%\n",
            "\n",
            "Epoch [37/100] - Learning Rate: 0.030379\n"
          ]
        },
        {
          "output_type": "stream",
          "name": "stderr",
          "text": [
            "Training: 100%|██████████| 98/98 [05:30<00:00,  3.37s/it, loss=2.34, acc=38]\n"
          ]
        },
        {
          "output_type": "stream",
          "name": "stdout",
          "text": [
            "Train Loss: 2.3448, Train Acc: 38.04%, Test Loss: 1.9693, Test Acc: 46.87%, Time: 330.55s\n",
            "New best model saved with accuracy: 46.87%\n",
            "\n",
            "Epoch [38/100] - Learning Rate: 0.029808\n"
          ]
        },
        {
          "output_type": "stream",
          "name": "stderr",
          "text": [
            "Training: 100%|██████████| 98/98 [05:32<00:00,  3.39s/it, loss=2.34, acc=38.3]\n"
          ]
        },
        {
          "output_type": "stream",
          "name": "stdout",
          "text": [
            "Train Loss: 2.3373, Train Acc: 38.27%, Test Loss: 1.9983, Test Acc: 46.73%, Time: 332.43s\n",
            "\n",
            "Epoch [39/100] - Learning Rate: 0.029227\n"
          ]
        },
        {
          "output_type": "stream",
          "name": "stderr",
          "text": [
            "Training: 100%|██████████| 98/98 [05:30<00:00,  3.37s/it, loss=2.31, acc=38.9]\n"
          ]
        },
        {
          "output_type": "stream",
          "name": "stdout",
          "text": [
            "Train Loss: 2.3150, Train Acc: 38.90%, Test Loss: 1.9978, Test Acc: 46.97%, Time: 330.49s\n",
            "New best model saved with accuracy: 46.97%\n",
            "\n",
            "Epoch [40/100] - Learning Rate: 0.028635\n"
          ]
        },
        {
          "output_type": "stream",
          "name": "stderr",
          "text": [
            "Training: 100%|██████████| 98/98 [05:24<00:00,  3.32s/it, loss=2.3, acc=39.3]\n"
          ]
        },
        {
          "output_type": "stream",
          "name": "stdout",
          "text": [
            "Train Loss: 2.3036, Train Acc: 39.32%, Test Loss: 1.9352, Test Acc: 47.55%, Time: 324.93s\n",
            "New best model saved with accuracy: 47.55%\n",
            "\n",
            "Epoch [41/100] - Learning Rate: 0.028034\n"
          ]
        },
        {
          "output_type": "stream",
          "name": "stderr",
          "text": [
            "Training: 100%|██████████| 98/98 [05:33<00:00,  3.40s/it, loss=2.29, acc=39.5]\n"
          ]
        },
        {
          "output_type": "stream",
          "name": "stdout",
          "text": [
            "Train Loss: 2.2858, Train Acc: 39.55%, Test Loss: 1.9753, Test Acc: 47.04%, Time: 333.13s\n",
            "\n",
            "Epoch [42/100] - Learning Rate: 0.027424\n"
          ]
        },
        {
          "output_type": "stream",
          "name": "stderr",
          "text": [
            "Training: 100%|██████████| 98/98 [05:25<00:00,  3.32s/it, loss=2.28, acc=39.4]\n"
          ]
        },
        {
          "output_type": "stream",
          "name": "stdout",
          "text": [
            "Train Loss: 2.2832, Train Acc: 39.41%, Test Loss: 1.9963, Test Acc: 47.50%, Time: 325.82s\n",
            "\n",
            "Epoch [43/100] - Learning Rate: 0.026806\n"
          ]
        },
        {
          "output_type": "stream",
          "name": "stderr",
          "text": [
            "Training: 100%|██████████| 98/98 [05:30<00:00,  3.37s/it, loss=2.25, acc=40]\n"
          ]
        },
        {
          "output_type": "stream",
          "name": "stdout",
          "text": [
            "Train Loss: 2.2548, Train Acc: 40.00%, Test Loss: 1.9081, Test Acc: 48.76%, Time: 330.10s\n",
            "New best model saved with accuracy: 48.76%\n",
            "\n",
            "Epoch [44/100] - Learning Rate: 0.026180\n"
          ]
        },
        {
          "output_type": "stream",
          "name": "stderr",
          "text": [
            "Training: 100%|██████████| 98/98 [05:31<00:00,  3.38s/it, loss=2.25, acc=40.3]\n"
          ]
        },
        {
          "output_type": "stream",
          "name": "stdout",
          "text": [
            "Train Loss: 2.2514, Train Acc: 40.32%, Test Loss: 1.9269, Test Acc: 48.73%, Time: 331.22s\n",
            "\n",
            "Epoch [45/100] - Learning Rate: 0.025548\n"
          ]
        },
        {
          "output_type": "stream",
          "name": "stderr",
          "text": [
            "Training: 100%|██████████| 98/98 [05:31<00:00,  3.39s/it, loss=2.23, acc=40.4]\n"
          ]
        },
        {
          "output_type": "stream",
          "name": "stdout",
          "text": [
            "Train Loss: 2.2343, Train Acc: 40.40%, Test Loss: 1.9387, Test Acc: 48.11%, Time: 331.77s\n",
            "\n",
            "Epoch [46/100] - Learning Rate: 0.024910\n"
          ]
        },
        {
          "output_type": "stream",
          "name": "stderr",
          "text": [
            "Training: 100%|██████████| 98/98 [05:37<00:00,  3.44s/it, loss=2.22, acc=40.9]\n"
          ]
        },
        {
          "output_type": "stream",
          "name": "stdout",
          "text": [
            "Train Loss: 2.2221, Train Acc: 40.91%, Test Loss: 1.8748, Test Acc: 49.57%, Time: 337.11s\n",
            "New best model saved with accuracy: 49.57%\n",
            "\n",
            "Epoch [47/100] - Learning Rate: 0.024266\n"
          ]
        },
        {
          "output_type": "stream",
          "name": "stderr",
          "text": [
            "Training: 100%|██████████| 98/98 [05:31<00:00,  3.38s/it, loss=2.21, acc=41.1]\n"
          ]
        },
        {
          "output_type": "stream",
          "name": "stdout",
          "text": [
            "Train Loss: 2.2104, Train Acc: 41.11%, Test Loss: 1.8935, Test Acc: 48.90%, Time: 331.04s\n",
            "\n",
            "Epoch [48/100] - Learning Rate: 0.023618\n"
          ]
        },
        {
          "output_type": "stream",
          "name": "stderr",
          "text": [
            "Training: 100%|██████████| 98/98 [05:30<00:00,  3.37s/it, loss=2.19, acc=41.7]\n"
          ]
        },
        {
          "output_type": "stream",
          "name": "stdout",
          "text": [
            "Train Loss: 2.1874, Train Acc: 41.73%, Test Loss: 1.8872, Test Acc: 49.21%, Time: 330.40s\n",
            "\n",
            "Epoch [49/100] - Learning Rate: 0.022965\n"
          ]
        },
        {
          "output_type": "stream",
          "name": "stderr",
          "text": [
            "Training: 100%|██████████| 98/98 [05:32<00:00,  3.39s/it, loss=2.18, acc=41.9]\n"
          ]
        },
        {
          "output_type": "stream",
          "name": "stdout",
          "text": [
            "Train Loss: 2.1818, Train Acc: 41.87%, Test Loss: 1.8515, Test Acc: 49.56%, Time: 332.59s\n",
            "\n",
            "Epoch [50/100] - Learning Rate: 0.022310\n"
          ]
        },
        {
          "output_type": "stream",
          "name": "stderr",
          "text": [
            "Training: 100%|██████████| 98/98 [05:30<00:00,  3.37s/it, loss=2.17, acc=41.8]\n"
          ]
        },
        {
          "output_type": "stream",
          "name": "stdout",
          "text": [
            "Train Loss: 2.1722, Train Acc: 41.84%, Test Loss: 1.8969, Test Acc: 48.88%, Time: 330.63s\n",
            "\n",
            "Epoch [51/100] - Learning Rate: 0.021652\n"
          ]
        },
        {
          "output_type": "stream",
          "name": "stderr",
          "text": [
            "Training: 100%|██████████| 98/98 [05:31<00:00,  3.38s/it, loss=2.16, acc=42.1]\n"
          ]
        },
        {
          "output_type": "stream",
          "name": "stdout",
          "text": [
            "Train Loss: 2.1637, Train Acc: 42.08%, Test Loss: 1.8894, Test Acc: 49.10%, Time: 331.39s\n",
            "\n",
            "Epoch [52/100] - Learning Rate: 0.020992\n"
          ]
        },
        {
          "output_type": "stream",
          "name": "stderr",
          "text": [
            "Training: 100%|██████████| 98/98 [05:26<00:00,  3.33s/it, loss=2.14, acc=42.6]\n"
          ]
        },
        {
          "output_type": "stream",
          "name": "stdout",
          "text": [
            "Train Loss: 2.1409, Train Acc: 42.59%, Test Loss: 1.8428, Test Acc: 49.94%, Time: 326.37s\n",
            "New best model saved with accuracy: 49.94%\n",
            "\n",
            "Epoch [53/100] - Learning Rate: 0.020331\n"
          ]
        },
        {
          "output_type": "stream",
          "name": "stderr",
          "text": [
            "Training: 100%|██████████| 98/98 [05:31<00:00,  3.39s/it, loss=2.14, acc=42.7]\n"
          ]
        },
        {
          "output_type": "stream",
          "name": "stdout",
          "text": [
            "Train Loss: 2.1375, Train Acc: 42.66%, Test Loss: 1.8289, Test Acc: 50.50%, Time: 331.90s\n",
            "New best model saved with accuracy: 50.50%\n",
            "\n",
            "Epoch [54/100] - Learning Rate: 0.019669\n"
          ]
        },
        {
          "output_type": "stream",
          "name": "stderr",
          "text": [
            "Training: 100%|██████████| 98/98 [05:25<00:00,  3.32s/it, loss=2.12, acc=43.1]\n"
          ]
        },
        {
          "output_type": "stream",
          "name": "stdout",
          "text": [
            "Train Loss: 2.1188, Train Acc: 43.11%, Test Loss: 1.8117, Test Acc: 50.50%, Time: 325.40s\n",
            "\n",
            "Epoch [55/100] - Learning Rate: 0.019008\n"
          ]
        },
        {
          "output_type": "stream",
          "name": "stderr",
          "text": [
            "Training: 100%|██████████| 98/98 [05:32<00:00,  3.40s/it, loss=2.11, acc=43.3]\n"
          ]
        },
        {
          "output_type": "stream",
          "name": "stdout",
          "text": [
            "Train Loss: 2.1070, Train Acc: 43.26%, Test Loss: 1.8196, Test Acc: 50.84%, Time: 332.96s\n",
            "New best model saved with accuracy: 50.84%\n",
            "\n",
            "Epoch [56/100] - Learning Rate: 0.018348\n"
          ]
        },
        {
          "output_type": "stream",
          "name": "stderr",
          "text": [
            "Training: 100%|██████████| 98/98 [05:25<00:00,  3.32s/it, loss=2.1, acc=43.5]\n"
          ]
        },
        {
          "output_type": "stream",
          "name": "stdout",
          "text": [
            "Train Loss: 2.1048, Train Acc: 43.54%, Test Loss: 1.8083, Test Acc: 50.86%, Time: 325.43s\n",
            "New best model saved with accuracy: 50.86%\n",
            "\n",
            "Epoch [57/100] - Learning Rate: 0.017690\n"
          ]
        },
        {
          "output_type": "stream",
          "name": "stderr",
          "text": [
            "Training: 100%|██████████| 98/98 [05:31<00:00,  3.38s/it, loss=2.09, acc=44.2]\n"
          ]
        },
        {
          "output_type": "stream",
          "name": "stdout",
          "text": [
            "Train Loss: 2.0908, Train Acc: 44.16%, Test Loss: 1.7790, Test Acc: 51.26%, Time: 331.12s\n",
            "New best model saved with accuracy: 51.26%\n",
            "\n",
            "Epoch [58/100] - Learning Rate: 0.017035\n"
          ]
        },
        {
          "output_type": "stream",
          "name": "stderr",
          "text": [
            "Training: 100%|██████████| 98/98 [05:32<00:00,  3.39s/it, loss=2.09, acc=43.8]\n"
          ]
        },
        {
          "output_type": "stream",
          "name": "stdout",
          "text": [
            "Train Loss: 2.0874, Train Acc: 43.76%, Test Loss: 1.7981, Test Acc: 51.08%, Time: 332.28s\n",
            "\n",
            "Epoch [59/100] - Learning Rate: 0.016382\n"
          ]
        },
        {
          "output_type": "stream",
          "name": "stderr",
          "text": [
            "Training: 100%|██████████| 98/98 [05:32<00:00,  3.39s/it, loss=2.07, acc=44.3]\n"
          ]
        },
        {
          "output_type": "stream",
          "name": "stdout",
          "text": [
            "Train Loss: 2.0720, Train Acc: 44.32%, Test Loss: 1.7916, Test Acc: 51.39%, Time: 332.48s\n",
            "New best model saved with accuracy: 51.39%\n",
            "\n",
            "Epoch [60/100] - Learning Rate: 0.015734\n"
          ]
        },
        {
          "output_type": "stream",
          "name": "stderr",
          "text": [
            "Training: 100%|██████████| 98/98 [05:33<00:00,  3.40s/it, loss=2.07, acc=44.7]\n"
          ]
        },
        {
          "output_type": "stream",
          "name": "stdout",
          "text": [
            "Train Loss: 2.0661, Train Acc: 44.69%, Test Loss: 1.7784, Test Acc: 52.26%, Time: 333.27s\n",
            "New best model saved with accuracy: 52.26%\n",
            "\n",
            "Epoch [61/100] - Learning Rate: 0.015090\n"
          ]
        },
        {
          "output_type": "stream",
          "name": "stderr",
          "text": [
            "Training: 100%|██████████| 98/98 [05:27<00:00,  3.34s/it, loss=2.06, acc=44.3]\n"
          ]
        },
        {
          "output_type": "stream",
          "name": "stdout",
          "text": [
            "Train Loss: 2.0557, Train Acc: 44.32%, Test Loss: 1.7852, Test Acc: 51.66%, Time: 327.45s\n",
            "\n",
            "Epoch [62/100] - Learning Rate: 0.014452\n"
          ]
        },
        {
          "output_type": "stream",
          "name": "stderr",
          "text": [
            "Training: 100%|██████████| 98/98 [05:32<00:00,  3.39s/it, loss=2.05, acc=44.7]\n"
          ]
        },
        {
          "output_type": "stream",
          "name": "stdout",
          "text": [
            "Train Loss: 2.0493, Train Acc: 44.71%, Test Loss: 1.7948, Test Acc: 51.47%, Time: 332.39s\n",
            "\n",
            "Epoch [63/100] - Learning Rate: 0.013820\n"
          ]
        },
        {
          "output_type": "stream",
          "name": "stderr",
          "text": [
            "Training: 100%|██████████| 98/98 [05:28<00:00,  3.35s/it, loss=2.03, acc=45.2]\n"
          ]
        },
        {
          "output_type": "stream",
          "name": "stdout",
          "text": [
            "Train Loss: 2.0334, Train Acc: 45.23%, Test Loss: 1.8007, Test Acc: 51.34%, Time: 328.70s\n",
            "\n",
            "Epoch [64/100] - Learning Rate: 0.013194\n"
          ]
        },
        {
          "output_type": "stream",
          "name": "stderr",
          "text": [
            "Training: 100%|██████████| 98/98 [05:32<00:00,  3.39s/it, loss=2.03, acc=45.1]\n"
          ]
        },
        {
          "output_type": "stream",
          "name": "stdout",
          "text": [
            "Train Loss: 2.0294, Train Acc: 45.13%, Test Loss: 1.7531, Test Acc: 52.34%, Time: 332.09s\n",
            "New best model saved with accuracy: 52.34%\n",
            "\n",
            "Epoch [65/100] - Learning Rate: 0.012576\n"
          ]
        },
        {
          "output_type": "stream",
          "name": "stderr",
          "text": [
            "Training: 100%|██████████| 98/98 [05:31<00:00,  3.39s/it, loss=2.03, acc=45.3]\n"
          ]
        },
        {
          "output_type": "stream",
          "name": "stdout",
          "text": [
            "Train Loss: 2.0255, Train Acc: 45.33%, Test Loss: 1.7515, Test Acc: 52.30%, Time: 331.89s\n",
            "\n",
            "Epoch [66/100] - Learning Rate: 0.011966\n"
          ]
        },
        {
          "output_type": "stream",
          "name": "stderr",
          "text": [
            "Training: 100%|██████████| 98/98 [05:26<00:00,  3.34s/it, loss=2.01, acc=45.6]\n"
          ]
        },
        {
          "output_type": "stream",
          "name": "stdout",
          "text": [
            "Train Loss: 2.0134, Train Acc: 45.55%, Test Loss: 1.7714, Test Acc: 52.55%, Time: 326.84s\n",
            "New best model saved with accuracy: 52.55%\n",
            "\n",
            "Epoch [67/100] - Learning Rate: 0.011365\n"
          ]
        },
        {
          "output_type": "stream",
          "name": "stderr",
          "text": [
            "Training: 100%|██████████| 98/98 [05:34<00:00,  3.41s/it, loss=2.01, acc=45.7]\n"
          ]
        },
        {
          "output_type": "stream",
          "name": "stdout",
          "text": [
            "Train Loss: 2.0091, Train Acc: 45.68%, Test Loss: 1.7327, Test Acc: 52.81%, Time: 334.25s\n",
            "New best model saved with accuracy: 52.81%\n",
            "\n",
            "Epoch [68/100] - Learning Rate: 0.010773\n"
          ]
        },
        {
          "output_type": "stream",
          "name": "stderr",
          "text": [
            "Training: 100%|██████████| 98/98 [05:33<00:00,  3.40s/it, loss=1.99, acc=46.3]\n"
          ]
        },
        {
          "output_type": "stream",
          "name": "stdout",
          "text": [
            "Train Loss: 1.9892, Train Acc: 46.27%, Test Loss: 1.7436, Test Acc: 52.77%, Time: 333.28s\n",
            "\n",
            "Epoch [69/100] - Learning Rate: 0.010192\n"
          ]
        },
        {
          "output_type": "stream",
          "name": "stderr",
          "text": [
            "Training: 100%|██████████| 98/98 [05:27<00:00,  3.34s/it, loss=2, acc=46.1]\n"
          ]
        },
        {
          "output_type": "stream",
          "name": "stdout",
          "text": [
            "Train Loss: 1.9955, Train Acc: 46.12%, Test Loss: 1.7476, Test Acc: 52.39%, Time: 327.74s\n",
            "\n",
            "Epoch [70/100] - Learning Rate: 0.009621\n"
          ]
        },
        {
          "output_type": "stream",
          "name": "stderr",
          "text": [
            "Training: 100%|██████████| 98/98 [05:23<00:00,  3.30s/it, loss=1.98, acc=46.2]\n"
          ]
        },
        {
          "output_type": "stream",
          "name": "stdout",
          "text": [
            "Train Loss: 1.9802, Train Acc: 46.24%, Test Loss: 1.7062, Test Acc: 53.57%, Time: 323.69s\n",
            "New best model saved with accuracy: 53.57%\n",
            "\n",
            "Epoch [71/100] - Learning Rate: 0.009061\n"
          ]
        },
        {
          "output_type": "stream",
          "name": "stderr",
          "text": [
            "Training: 100%|██████████| 98/98 [05:34<00:00,  3.41s/it, loss=1.97, acc=46.8]\n"
          ]
        },
        {
          "output_type": "stream",
          "name": "stdout",
          "text": [
            "Train Loss: 1.9701, Train Acc: 46.78%, Test Loss: 1.7220, Test Acc: 53.00%, Time: 334.42s\n",
            "\n",
            "Epoch [72/100] - Learning Rate: 0.008513\n"
          ]
        },
        {
          "output_type": "stream",
          "name": "stderr",
          "text": [
            "Training: 100%|██████████| 98/98 [05:31<00:00,  3.38s/it, loss=1.98, acc=46.3]\n"
          ]
        },
        {
          "output_type": "stream",
          "name": "stdout",
          "text": [
            "Train Loss: 1.9777, Train Acc: 46.32%, Test Loss: 1.7248, Test Acc: 52.88%, Time: 331.28s\n",
            "\n",
            "Epoch [73/100] - Learning Rate: 0.007978\n"
          ]
        },
        {
          "output_type": "stream",
          "name": "stderr",
          "text": [
            "Training: 100%|██████████| 98/98 [05:26<00:00,  3.33s/it, loss=1.96, acc=46.7]\n"
          ]
        },
        {
          "output_type": "stream",
          "name": "stdout",
          "text": [
            "Train Loss: 1.9571, Train Acc: 46.70%, Test Loss: 1.6996, Test Acc: 54.04%, Time: 326.59s\n",
            "New best model saved with accuracy: 54.04%\n",
            "\n",
            "Epoch [74/100] - Learning Rate: 0.007456\n"
          ]
        },
        {
          "output_type": "stream",
          "name": "stderr",
          "text": [
            "Training: 100%|██████████| 98/98 [05:33<00:00,  3.40s/it, loss=1.95, acc=46.8]\n"
          ]
        },
        {
          "output_type": "stream",
          "name": "stdout",
          "text": [
            "Train Loss: 1.9511, Train Acc: 46.85%, Test Loss: 1.7110, Test Acc: 53.49%, Time: 333.40s\n",
            "\n",
            "Epoch [75/100] - Learning Rate: 0.006948\n"
          ]
        },
        {
          "output_type": "stream",
          "name": "stderr",
          "text": [
            "Training: 100%|██████████| 98/98 [05:26<00:00,  3.33s/it, loss=1.94, acc=47.1]\n"
          ]
        },
        {
          "output_type": "stream",
          "name": "stdout",
          "text": [
            "Train Loss: 1.9415, Train Acc: 47.13%, Test Loss: 1.6957, Test Acc: 53.83%, Time: 326.25s\n",
            "\n",
            "Epoch [76/100] - Learning Rate: 0.006454\n"
          ]
        },
        {
          "output_type": "stream",
          "name": "stderr",
          "text": [
            "Training: 100%|██████████| 98/98 [05:31<00:00,  3.38s/it, loss=1.94, acc=47.3]\n"
          ]
        },
        {
          "output_type": "stream",
          "name": "stdout",
          "text": [
            "Train Loss: 1.9441, Train Acc: 47.29%, Test Loss: 1.6987, Test Acc: 54.01%, Time: 331.73s\n",
            "\n",
            "Epoch [77/100] - Learning Rate: 0.005975\n"
          ]
        },
        {
          "output_type": "stream",
          "name": "stderr",
          "text": [
            "Training: 100%|██████████| 98/98 [05:30<00:00,  3.37s/it, loss=1.93, acc=47.5]\n"
          ]
        },
        {
          "output_type": "stream",
          "name": "stdout",
          "text": [
            "Train Loss: 1.9300, Train Acc: 47.50%, Test Loss: 1.6958, Test Acc: 54.06%, Time: 330.64s\n",
            "New best model saved with accuracy: 54.06%\n",
            "\n",
            "Epoch [78/100] - Learning Rate: 0.005511\n"
          ]
        },
        {
          "output_type": "stream",
          "name": "stderr",
          "text": [
            "Training: 100%|██████████| 98/98 [05:31<00:00,  3.39s/it, loss=1.93, acc=47.2]\n"
          ]
        },
        {
          "output_type": "stream",
          "name": "stdout",
          "text": [
            "Train Loss: 1.9346, Train Acc: 47.23%, Test Loss: 1.6807, Test Acc: 54.24%, Time: 331.84s\n",
            "New best model saved with accuracy: 54.24%\n",
            "\n",
            "Epoch [79/100] - Learning Rate: 0.005064\n"
          ]
        },
        {
          "output_type": "stream",
          "name": "stderr",
          "text": [
            "Training: 100%|██████████| 98/98 [05:27<00:00,  3.34s/it, loss=1.93, acc=47.6]\n"
          ]
        },
        {
          "output_type": "stream",
          "name": "stdout",
          "text": [
            "Train Loss: 1.9252, Train Acc: 47.60%, Test Loss: 1.6801, Test Acc: 54.03%, Time: 327.62s\n",
            "\n",
            "Epoch [80/100] - Learning Rate: 0.004632\n"
          ]
        },
        {
          "output_type": "stream",
          "name": "stderr",
          "text": [
            "Training: 100%|██████████| 98/98 [05:27<00:00,  3.34s/it, loss=1.92, acc=47.9]\n"
          ]
        },
        {
          "output_type": "stream",
          "name": "stdout",
          "text": [
            "Train Loss: 1.9226, Train Acc: 47.91%, Test Loss: 1.6769, Test Acc: 54.33%, Time: 327.40s\n",
            "New best model saved with accuracy: 54.33%\n",
            "\n",
            "Epoch [81/100] - Learning Rate: 0.004217\n"
          ]
        },
        {
          "output_type": "stream",
          "name": "stderr",
          "text": [
            "Training: 100%|██████████| 98/98 [05:24<00:00,  3.31s/it, loss=1.9, acc=48.2]\n"
          ]
        },
        {
          "output_type": "stream",
          "name": "stdout",
          "text": [
            "Train Loss: 1.9043, Train Acc: 48.16%, Test Loss: 1.6877, Test Acc: 53.76%, Time: 324.63s\n",
            "\n",
            "Epoch [82/100] - Learning Rate: 0.003820\n"
          ]
        },
        {
          "output_type": "stream",
          "name": "stderr",
          "text": [
            "Training: 100%|██████████| 98/98 [05:24<00:00,  3.31s/it, loss=1.9, acc=48]\n"
          ]
        },
        {
          "output_type": "stream",
          "name": "stdout",
          "text": [
            "Train Loss: 1.9033, Train Acc: 47.96%, Test Loss: 1.6693, Test Acc: 54.37%, Time: 324.42s\n",
            "New best model saved with accuracy: 54.37%\n",
            "\n",
            "Epoch [83/100] - Learning Rate: 0.003440\n"
          ]
        },
        {
          "output_type": "stream",
          "name": "stderr",
          "text": [
            "Training: 100%|██████████| 98/98 [05:24<00:00,  3.31s/it, loss=1.9, acc=48.3]\n"
          ]
        },
        {
          "output_type": "stream",
          "name": "stdout",
          "text": [
            "Train Loss: 1.8971, Train Acc: 48.33%, Test Loss: 1.6722, Test Acc: 54.27%, Time: 324.32s\n",
            "\n",
            "Epoch [84/100] - Learning Rate: 0.003078\n"
          ]
        },
        {
          "output_type": "stream",
          "name": "stderr",
          "text": [
            "Training: 100%|██████████| 98/98 [05:32<00:00,  3.39s/it, loss=1.9, acc=47.8]\n"
          ]
        },
        {
          "output_type": "stream",
          "name": "stdout",
          "text": [
            "Train Loss: 1.9026, Train Acc: 47.84%, Test Loss: 1.6743, Test Acc: 54.29%, Time: 332.02s\n",
            "\n",
            "Epoch [85/100] - Learning Rate: 0.002735\n"
          ]
        },
        {
          "output_type": "stream",
          "name": "stderr",
          "text": [
            "Training: 100%|██████████| 98/98 [05:28<00:00,  3.35s/it, loss=1.9, acc=48.1]\n"
          ]
        },
        {
          "output_type": "stream",
          "name": "stdout",
          "text": [
            "Train Loss: 1.8994, Train Acc: 48.11%, Test Loss: 1.6686, Test Acc: 54.16%, Time: 328.75s\n",
            "\n",
            "Epoch [86/100] - Learning Rate: 0.002411\n"
          ]
        },
        {
          "output_type": "stream",
          "name": "stderr",
          "text": [
            "Training: 100%|██████████| 98/98 [05:33<00:00,  3.41s/it, loss=1.9, acc=48.1]\n"
          ]
        },
        {
          "output_type": "stream",
          "name": "stdout",
          "text": [
            "Train Loss: 1.9030, Train Acc: 48.15%, Test Loss: 1.6611, Test Acc: 54.53%, Time: 333.85s\n",
            "New best model saved with accuracy: 54.53%\n",
            "\n",
            "Epoch [87/100] - Learning Rate: 0.002105\n"
          ]
        },
        {
          "output_type": "stream",
          "name": "stderr",
          "text": [
            "Training: 100%|██████████| 98/98 [05:34<00:00,  3.41s/it, loss=1.89, acc=48.5]\n"
          ]
        },
        {
          "output_type": "stream",
          "name": "stdout",
          "text": [
            "Train Loss: 1.8918, Train Acc: 48.55%, Test Loss: 1.6628, Test Acc: 54.27%, Time: 334.56s\n",
            "\n",
            "Epoch [88/100] - Learning Rate: 0.001820\n"
          ]
        },
        {
          "output_type": "stream",
          "name": "stderr",
          "text": [
            "Training: 100%|██████████| 98/98 [05:34<00:00,  3.41s/it, loss=1.89, acc=48.3]\n"
          ]
        },
        {
          "output_type": "stream",
          "name": "stdout",
          "text": [
            "Train Loss: 1.8880, Train Acc: 48.27%, Test Loss: 1.6585, Test Acc: 54.36%, Time: 334.25s\n",
            "\n",
            "Epoch [89/100] - Learning Rate: 0.001554\n"
          ]
        },
        {
          "output_type": "stream",
          "name": "stderr",
          "text": [
            "Training: 100%|██████████| 98/98 [05:32<00:00,  3.39s/it, loss=1.88, acc=48.9]\n"
          ]
        },
        {
          "output_type": "stream",
          "name": "stdout",
          "text": [
            "Train Loss: 1.8816, Train Acc: 48.91%, Test Loss: 1.6577, Test Acc: 54.54%, Time: 332.26s\n",
            "New best model saved with accuracy: 54.54%\n",
            "\n",
            "Epoch [90/100] - Learning Rate: 0.001309\n"
          ]
        },
        {
          "output_type": "stream",
          "name": "stderr",
          "text": [
            "Training: 100%|██████████| 98/98 [05:26<00:00,  3.33s/it, loss=1.88, acc=48.6]\n"
          ]
        },
        {
          "output_type": "stream",
          "name": "stdout",
          "text": [
            "Train Loss: 1.8823, Train Acc: 48.60%, Test Loss: 1.6531, Test Acc: 54.67%, Time: 326.49s\n",
            "New best model saved with accuracy: 54.67%\n",
            "\n",
            "Epoch [91/100] - Learning Rate: 0.001084\n"
          ]
        },
        {
          "output_type": "stream",
          "name": "stderr",
          "text": [
            "Training: 100%|██████████| 98/98 [05:27<00:00,  3.34s/it, loss=1.88, acc=48.5]\n"
          ]
        },
        {
          "output_type": "stream",
          "name": "stdout",
          "text": [
            "Train Loss: 1.8796, Train Acc: 48.55%, Test Loss: 1.6560, Test Acc: 54.73%, Time: 327.80s\n",
            "New best model saved with accuracy: 54.73%\n",
            "\n",
            "Epoch [92/100] - Learning Rate: 0.000879\n"
          ]
        },
        {
          "output_type": "stream",
          "name": "stderr",
          "text": [
            "Training: 100%|██████████| 98/98 [05:35<00:00,  3.42s/it, loss=1.89, acc=48.5]\n"
          ]
        },
        {
          "output_type": "stream",
          "name": "stdout",
          "text": [
            "Train Loss: 1.8868, Train Acc: 48.53%, Test Loss: 1.6521, Test Acc: 54.60%, Time: 335.53s\n",
            "\n",
            "Epoch [93/100] - Learning Rate: 0.000696\n"
          ]
        },
        {
          "output_type": "stream",
          "name": "stderr",
          "text": [
            "Training: 100%|██████████| 98/98 [05:33<00:00,  3.40s/it, loss=1.88, acc=48.6]\n"
          ]
        },
        {
          "output_type": "stream",
          "name": "stdout",
          "text": [
            "Train Loss: 1.8776, Train Acc: 48.57%, Test Loss: 1.6501, Test Acc: 54.74%, Time: 333.59s\n",
            "New best model saved with accuracy: 54.74%\n",
            "\n",
            "Epoch [94/100] - Learning Rate: 0.000533\n"
          ]
        },
        {
          "output_type": "stream",
          "name": "stderr",
          "text": [
            "Training: 100%|██████████| 98/98 [05:30<00:00,  3.38s/it, loss=1.88, acc=48.7]\n"
          ]
        },
        {
          "output_type": "stream",
          "name": "stdout",
          "text": [
            "Train Loss: 1.8821, Train Acc: 48.73%, Test Loss: 1.6527, Test Acc: 54.76%, Time: 330.77s\n",
            "New best model saved with accuracy: 54.76%\n",
            "\n",
            "Epoch [95/100] - Learning Rate: 0.000392\n"
          ]
        },
        {
          "output_type": "stream",
          "name": "stderr",
          "text": [
            "Training: 100%|██████████| 98/98 [05:33<00:00,  3.40s/it, loss=1.88, acc=49]\n"
          ]
        },
        {
          "output_type": "stream",
          "name": "stdout",
          "text": [
            "Train Loss: 1.8754, Train Acc: 48.95%, Test Loss: 1.6531, Test Acc: 54.69%, Time: 333.34s\n",
            "\n",
            "Epoch [96/100] - Learning Rate: 0.000273\n"
          ]
        },
        {
          "output_type": "stream",
          "name": "stderr",
          "text": [
            "Training: 100%|██████████| 98/98 [05:34<00:00,  3.41s/it, loss=1.88, acc=48.6]\n"
          ]
        },
        {
          "output_type": "stream",
          "name": "stdout",
          "text": [
            "Train Loss: 1.8797, Train Acc: 48.57%, Test Loss: 1.6518, Test Acc: 54.70%, Time: 334.57s\n",
            "\n",
            "Epoch [97/100] - Learning Rate: 0.000175\n"
          ]
        },
        {
          "output_type": "stream",
          "name": "stderr",
          "text": [
            "Training: 100%|██████████| 98/98 [05:28<00:00,  3.35s/it, loss=1.88, acc=48.7]\n"
          ]
        },
        {
          "output_type": "stream",
          "name": "stdout",
          "text": [
            "Train Loss: 1.8761, Train Acc: 48.74%, Test Loss: 1.6519, Test Acc: 54.54%, Time: 328.75s\n",
            "\n",
            "Epoch [98/100] - Learning Rate: 0.000098\n"
          ]
        },
        {
          "output_type": "stream",
          "name": "stderr",
          "text": [
            "Training: 100%|██████████| 98/98 [05:28<00:00,  3.35s/it, loss=1.88, acc=48.8]\n"
          ]
        },
        {
          "output_type": "stream",
          "name": "stdout",
          "text": [
            "Train Loss: 1.8771, Train Acc: 48.82%, Test Loss: 1.6509, Test Acc: 54.60%, Time: 328.57s\n",
            "\n",
            "Epoch [99/100] - Learning Rate: 0.000044\n"
          ]
        },
        {
          "output_type": "stream",
          "name": "stderr",
          "text": [
            "Training: 100%|██████████| 98/98 [05:29<00:00,  3.36s/it, loss=1.87, acc=48.8]\n"
          ]
        },
        {
          "output_type": "stream",
          "name": "stdout",
          "text": [
            "Train Loss: 1.8668, Train Acc: 48.82%, Test Loss: 1.6508, Test Acc: 54.64%, Time: 329.60s\n",
            "\n",
            "Epoch [100/100] - Learning Rate: 0.000011\n"
          ]
        },
        {
          "output_type": "stream",
          "name": "stderr",
          "text": [
            "Training: 100%|██████████| 98/98 [05:27<00:00,  3.35s/it, loss=1.88, acc=48.6]\n"
          ]
        },
        {
          "output_type": "stream",
          "name": "stdout",
          "text": [
            "Train Loss: 1.8830, Train Acc: 48.65%, Test Loss: 1.6508, Test Acc: 54.65%, Time: 327.95s\n",
            "Best model loaded with accuracy: 54.76%\n"
          ]
        },
        {
          "output_type": "display_data",
          "data": {
            "text/plain": [
              "<Figure size 1800x500 with 3 Axes>"
            ],
            "image/png": "[encoded data removed]"
          },
          "metadata": {}
        },
        {
          "output_type": "stream",
          "name": "stdout",
          "text": [
            "LARS benchmark completed!\n"
          ]
        }
      ],
      "source": [
        "import torch\n",
        "import torch.nn as nn\n",
        "import torchvision.transforms as transforms\n",
        "import torch.nn.functional as F\n",
        "from torchvision.datasets import CIFAR10, CIFAR100\n",
        "import torchvision.models as models\n",
        "from torch.utils.data import DataLoader\n",
        "\n",
        "from tqdm import tqdm\n",
        "import matplotlib.pyplot as plt\n",
        "import time\n",
        "import pickle\n",
        "import numpy as np\n",
        "import random\n",
        "\n",
        "from torch_optimizer import LARS\n",
        "\n",
        "import math\n",
        "\n",
        "print(\"PyTorch version:\", torch.__version__)\n",
        "device = torch.device(\"cuda:0\" if torch.cuda.is_available() else \"cpu\")\n",
        "print(f\"Using device: {device}\")\n",
        "\n",
        "# Seeding for reproducibility\n",
        "seed = 2025\n",
        "torch.manual_seed(seed)\n",
        "torch.cuda.manual_seed(seed)\n",
        "np.random.seed(seed)\n",
        "random.seed(seed)\n",
        "\n",
        "# transforms\n",
        "train_transform = transforms.Compose(\n",
        "    [\n",
        "        transforms.RandomCrop(32, padding=4),\n",
        "        transforms.RandomHorizontalFlip(),\n",
        "        transforms.ToTensor(),\n",
        "        transforms.Normalize((0.4914, 0.4822, 0.4465), (0.2023, 0.1994, 0.2010)),\n",
        "    ]\n",
        ")\n",
        "\n",
        "test_transform = transforms.Compose(\n",
        "    [\n",
        "        transforms.ToTensor(),\n",
        "        transforms.Normalize((0.4914, 0.4822, 0.4465), (0.2023, 0.1994, 0.2010)),\n",
        "    ]\n",
        ")\n",
        "\n",
        "\n",
        "# load data\n",
        "\n",
        "\n",
        "def load_data(dataset_name=\"cifar100\", batch_size=128, num_workers=2):\n",
        "    \"\"\"Enhanced data loading with stronger augmentation for CIFAR-100\"\"\"\n",
        "\n",
        "    # Better augmentation for CIFAR-100\n",
        "    train_transform = transforms.Compose(\n",
        "        [\n",
        "            transforms.RandomCrop(32, padding=4),\n",
        "            transforms.RandomHorizontalFlip(),\n",
        "            transforms.ToTensor(),\n",
        "            transforms.Normalize((0.4914, 0.4822, 0.4465), (0.2023, 0.1994, 0.2010)),\n",
        "        ]\n",
        "    )\n",
        "\n",
        "    test_transform = transforms.Compose(\n",
        "        [\n",
        "            transforms.ToTensor(),\n",
        "            transforms.Normalize((0.4914, 0.4822, 0.4465), (0.2023, 0.1994, 0.2010)),\n",
        "        ]\n",
        "    )\n",
        "\n",
        "    if dataset_name.lower() == \"cifar100\":\n",
        "        train_dataset = CIFAR100(\n",
        "            root=\"./data\", train=True, download=True, transform=train_transform\n",
        "        )\n",
        "        test_dataset = CIFAR100(\n",
        "            root=\"./data\", train=False, download=True, transform=test_transform\n",
        "        )\n",
        "        num_classes = 100\n",
        "    else:\n",
        "        raise ValueError(f\"Dataset {dataset_name} not supported in enhanced version\")\n",
        "\n",
        "    # Data loaders\n",
        "    train_loader = DataLoader(\n",
        "        train_dataset,\n",
        "        batch_size=batch_size,\n",
        "        shuffle=True,\n",
        "        num_workers=num_workers,\n",
        "    )\n",
        "\n",
        "    test_loader = DataLoader(\n",
        "        test_dataset,\n",
        "        batch_size=batch_size,\n",
        "        shuffle=False,\n",
        "        num_workers=num_workers,\n",
        "    )\n",
        "\n",
        "    return train_loader, test_loader, num_classes\n",
        "\n",
        "\n",
        "# model - LeNet5 from the paper [11]\n",
        "class LeNet5(nn.Module):\n",
        "    def __init__(self, num_classes=10):\n",
        "        super(LeNet5, self).__init__()\n",
        "        # Input: 3x32x32 (CIFAR has 3 color channels)\n",
        "        self.conv1 = nn.Conv2d(3, 6, kernel_size=5)  # Output: 6x28x28\n",
        "        self.pool1 = nn.MaxPool2d(kernel_size=2, stride=2)  # Output: 6x14x14\n",
        "        self.conv2 = nn.Conv2d(6, 16, kernel_size=5)  # Output: 16x10x10\n",
        "        self.pool2 = nn.MaxPool2d(kernel_size=2, stride=2)  # Output: 16x5x5\n",
        "\n",
        "        # fc layers\n",
        "        self.fc1 = nn.Linear(16 * 5 * 5, 120)\n",
        "        self.fc2 = nn.Linear(120, 84)\n",
        "        self.fc3 = nn.Linear(84, num_classes)\n",
        "\n",
        "    def forward(self, x):\n",
        "        x = self.pool1(F.relu(self.conv1(x)))\n",
        "        x = self.pool2(F.relu(self.conv2(x)))\n",
        "        x = x.view(-1, 16 * 5 * 5)  # flatten\n",
        "        x = F.relu(self.fc1(x))\n",
        "        x = F.relu(self.fc2(x))\n",
        "        x = self.fc3(x)\n",
        "        return x\n",
        "\n",
        "\n",
        "class ImprovedCNN(nn.Module):\n",
        "    def __init__(self, num_classes=100):\n",
        "        super(ImprovedCNN, self).__init__()\n",
        "        # First conv block\n",
        "        self.conv1 = nn.Conv2d(3, 64, kernel_size=5, padding=2)\n",
        "        self.bn1 = nn.BatchNorm2d(64)  # using BatchNorm for better training stability\n",
        "        self.pool1 = nn.MaxPool2d(kernel_size=2, stride=2)\n",
        "\n",
        "        # Second conv block\n",
        "        self.conv2 = nn.Conv2d(64, 64, kernel_size=5, padding=2)\n",
        "        self.bn2 = nn.BatchNorm2d(64)\n",
        "        self.pool2 = nn.MaxPool2d(kernel_size=2, stride=2)\n",
        "\n",
        "        # Fully connected layers\n",
        "        self.fc1 = nn.Linear(64 * 8 * 8, 384)\n",
        "        self.dropout1 = nn.Dropout(0.5)\n",
        "        self.fc2 = nn.Linear(384, 192)\n",
        "        self.dropout2 = nn.Dropout(0.5)\n",
        "        self.fc3 = nn.Linear(192, num_classes)\n",
        "\n",
        "    def forward(self, x):\n",
        "        # First conv block\n",
        "        x = self.pool1(F.relu(self.bn1(self.conv1(x))))\n",
        "\n",
        "        # Second conv block\n",
        "        x = self.pool2(F.relu(self.bn2(self.conv2(x))))\n",
        "\n",
        "        # Flatten and fully connected layers\n",
        "        x = x.view(-1, 64 * 8 * 8)\n",
        "        x = F.relu(self.fc1(x))\n",
        "        x = self.dropout1(x)\n",
        "        x = F.relu(self.fc2(x))\n",
        "        x = self.dropout2(x)\n",
        "        x = self.fc3(x)\n",
        "\n",
        "        return x\n",
        "\n",
        "\n",
        "def create_model(model_name, num_classes=100):\n",
        "    if model_name.lower() == \"improved_cnn\":\n",
        "        return ImprovedCNN(num_classes=num_classes)\n",
        "    elif model_name.lower() == \"lenet5\":\n",
        "        return LeNet5(num_classes=num_classes)\n",
        "    else:\n",
        "        raise ValueError(f\"Unknown model: {model_name}\")\n",
        "\n",
        "\n",
        "# train\n",
        "def train_epoch(model, train_loader, criterion, optimizer, device):\n",
        "    model.train()\n",
        "    running_loss = 0.0\n",
        "    correct = 0\n",
        "    total = 0\n",
        "\n",
        "    pbar = tqdm(train_loader, desc=\"Training\")\n",
        "\n",
        "    for inputs, labels in pbar:\n",
        "        inputs, labels = inputs.to(device), labels.to(device)\n",
        "\n",
        "        optimizer.zero_grad()\n",
        "        outputs = model(inputs)\n",
        "        loss = criterion(outputs, labels)\n",
        "        loss.backward()\n",
        "        optimizer.step()\n",
        "\n",
        "        running_loss += loss.item() * inputs.size(0)\n",
        "        _, predicted = outputs.max(1)\n",
        "        total += labels.size(0)\n",
        "        correct += predicted.eq(labels).sum().item()\n",
        "\n",
        "        # just a progress bar\n",
        "        pbar.set_postfix({\"loss\": running_loss / total, \"acc\": 100.0 * correct / total})\n",
        "\n",
        "    train_loss = running_loss / total\n",
        "    train_acc = 100.0 * correct / total\n",
        "\n",
        "    return train_loss, train_acc\n",
        "\n",
        "\n",
        "# eval\n",
        "def evaluate(model, test_loader, criterion, device):\n",
        "    model.eval()\n",
        "    running_loss = 0.0\n",
        "    correct = 0\n",
        "    total = 0\n",
        "\n",
        "    with torch.no_grad():\n",
        "        for inputs, labels in test_loader:\n",
        "            inputs, labels = inputs.to(device), labels.to(device)\n",
        "\n",
        "            outputs = model(inputs)\n",
        "            loss = criterion(outputs, labels)\n",
        "\n",
        "            running_loss += loss.item() * inputs.size(0)\n",
        "            _, predicted = outputs.max(1)\n",
        "            total += labels.size(0)\n",
        "            correct += predicted.eq(labels).sum().item()\n",
        "\n",
        "    test_loss = running_loss / total\n",
        "    test_acc = 100.0 * correct / total\n",
        "\n",
        "    return test_loss, test_acc\n",
        "\n",
        "\n",
        "# train config\n",
        "def train_centralized_model(\n",
        "    model_name=\"improved_cnn\",\n",
        "    dataset_name=\"cifar100\",\n",
        "    batch_size=512,\n",
        "    epochs=100,\n",
        "    lr=0.01,\n",
        "    momentum=0.9,\n",
        "    weight_decay=4e-4,\n",
        "    lr_scheduler=\"lars\",\n",
        "    save_path=\"improved_cnn_model.pth\",\n",
        "):\n",
        "    # Load data\n",
        "    train_loader, test_loader, num_classes = load_data(\n",
        "        dataset_name=dataset_name, batch_size=batch_size\n",
        "    )\n",
        "\n",
        "    # Create model\n",
        "    model = create_model(model_name, num_classes=num_classes)\n",
        "    model = model.to(device)\n",
        "\n",
        "    # Print model parameters\n",
        "    total_params = sum(p.numel() for p in model.parameters())\n",
        "    print(f\"Total parameters: {total_params:,}\")\n",
        "\n",
        "    # Define loss function and optimizer\n",
        "    criterion = nn.CrossEntropyLoss()\n",
        "\n",
        "    scaled_lr = lr * (batch_size / 128)    # linear‐scaling rule\n",
        "\n",
        "    decay_params   = []\n",
        "    no_decay_params = []\n",
        "    for name, param in model.named_parameters():\n",
        "        if not param.requires_grad:\n",
        "            continue\n",
        "        # any 1-D param (bias, BatchNorm weight, etc.) => no decay\n",
        "        if param.ndim == 1:\n",
        "            no_decay_params.append(param)\n",
        "        else:\n",
        "            decay_params.append(param)\n",
        "\n",
        "    optimizer = LARS(\n",
        "        [\n",
        "            {'params': decay_params,    'weight_decay': weight_decay},\n",
        "            {'params': no_decay_params, 'weight_decay': 0.0}\n",
        "        ],\n",
        "        lr=scaled_lr,\n",
        "        momentum=momentum,\n",
        "        # set the *global* default decay to 0, since we've handled it per-group:\n",
        "        weight_decay=0.0,\n",
        "        trust_coefficient=0.05\n",
        "    )\n",
        "\n",
        "    # lr\n",
        "    if lr_scheduler == \"lars\":\n",
        "        warmup_epochs = 5\n",
        "        def lr_lambda(epoch):\n",
        "            # linear warmup\n",
        "            if epoch < warmup_epochs:\n",
        "                return float(epoch + 1) / float(warmup_epochs)\n",
        "            # then cosine decay\n",
        "            return 0.5 * (\n",
        "                1.0\n",
        "                + math.cos(\n",
        "                    math.pi * (epoch - warmup_epochs) / (epochs - warmup_epochs)\n",
        "                )\n",
        "            )\n",
        "\n",
        "        scheduler = torch.optim.lr_scheduler.LambdaLR(optimizer, lr_lambda)\n",
        "    elif lr_scheduler == \"step\":\n",
        "        scheduler = torch.optim.lr_scheduler.MultiStepLR(\n",
        "            optimizer,\n",
        "            milestones=[int(epochs * 0.5), int(epochs * 0.75)],\n",
        "            gamma=0.1\n",
        "        )\n",
        "    else:\n",
        "        raise ValueError(f\"Unknown scheduler: {lr_scheduler}\")\n",
        "\n",
        "    # Training history\n",
        "    history = {\n",
        "        \"train_loss\": [],\n",
        "        \"train_acc\": [],\n",
        "        \"test_loss\": [],\n",
        "        \"test_acc\": [],\n",
        "        \"lr\": [],\n",
        "    }\n",
        "\n",
        "    # Track best accuracy\n",
        "    best_acc = 0.0\n",
        "\n",
        "    # Training loop\n",
        "    for epoch in range(epochs):\n",
        "        current_lr = optimizer.param_groups[0][\"lr\"]\n",
        "        print(f\"\\nEpoch [{epoch + 1}/{epochs}] - Learning Rate: {current_lr:.6f}\")\n",
        "\n",
        "        # Training for one epoch\n",
        "        start_time = time.time()\n",
        "        train_loss, train_acc = train_epoch(\n",
        "            model, train_loader, criterion, optimizer, device\n",
        "        )\n",
        "        train_time = time.time() - start_time\n",
        "\n",
        "        # Evaluate on test set\n",
        "        test_loss, test_acc = evaluate(model, test_loader, criterion, device)\n",
        "\n",
        "        # Step learning rate scheduler\n",
        "        scheduler.step()\n",
        "\n",
        "        # Print statistics\n",
        "        print(\n",
        "            f\"Train Loss: {train_loss:.4f}, Train Acc: {train_acc:.2f}%, \"\n",
        "            f\"Test Loss: {test_loss:.4f}, Test Acc: {test_acc:.2f}%, \"\n",
        "            f\"Time: {train_time:.2f}s\"\n",
        "        )\n",
        "\n",
        "        # Save best model\n",
        "        if test_acc > best_acc:\n",
        "            best_acc = test_acc\n",
        "            torch.save(\n",
        "                {\n",
        "                    \"epoch\": epoch,\n",
        "                    \"model_state_dict\": model.state_dict(),\n",
        "                    \"optimizer_state_dict\": optimizer.state_dict(),\n",
        "                    \"test_acc\": test_acc,\n",
        "                },\n",
        "                save_path,\n",
        "            )\n",
        "            print(f\"New best model saved with accuracy: {test_acc:.2f}%\")\n",
        "\n",
        "        # Update history\n",
        "        history[\"train_loss\"].append(train_loss)\n",
        "        history[\"train_acc\"].append(train_acc)\n",
        "        history[\"test_loss\"].append(test_loss)\n",
        "        history[\"test_acc\"].append(test_acc)\n",
        "        history[\"lr\"].append(current_lr)\n",
        "\n",
        "    # Load best model\n",
        "    checkpoint = torch.load(save_path)\n",
        "    model.load_state_dict(checkpoint[\"model_state_dict\"])\n",
        "    print(f\"Best model loaded with accuracy: {checkpoint['test_acc']:.2f}%\")\n",
        "\n",
        "    return model, history\n",
        "\n",
        "\n",
        "# visualization of model performance\n",
        "def plot_training_history(history):\n",
        "    fig, (ax1, ax2, ax3) = plt.subplots(1, 3, figsize=(18, 5))\n",
        "\n",
        "    # plot the loss\n",
        "    ax1.plot(history[\"train_loss\"], label=\"Train Loss\")\n",
        "    ax1.plot(history[\"test_loss\"], label=\"Test Loss\")\n",
        "    ax1.set_xlabel(\"Epoch\")\n",
        "    ax1.set_ylabel(\"Loss\")\n",
        "    ax1.legend()\n",
        "    ax1.set_title(\"Loss Curves\")\n",
        "    ax1.grid(True)\n",
        "\n",
        "    # plot accuracy\n",
        "    ax2.plot(history[\"train_acc\"], label=\"Train Accuracy\")\n",
        "    ax2.plot(history[\"test_acc\"], label=\"Test Accuracy\")\n",
        "    ax2.set_xlabel(\"Epoch\")\n",
        "    ax2.set_ylabel(\"Accuracy (%)\")\n",
        "    ax2.legend()\n",
        "    ax2.set_title(\"Accuracy Curves\")\n",
        "    ax2.grid(True)\n",
        "\n",
        "    # plot learning rate\n",
        "    ax3.plot(history[\"lr\"])\n",
        "    ax3.set_xlabel(\"Epoch\")\n",
        "    ax3.set_ylabel(\"Learning Rate\")\n",
        "    ax3.set_title(\"Learning Rate Schedule\")\n",
        "    ax3.set_yscale(\"log\")\n",
        "    ax3.grid(True)\n",
        "\n",
        "    plt.tight_layout()\n",
        "    plt.show()\n",
        "\n",
        "\n",
        "# run benchmark\n",
        "def run_centralized_benchmark():\n",
        "    # LeNet5 config\n",
        "    config = {\n",
        "        \"model_name\": \"improved_cnn\",\n",
        "        \"dataset_name\": \"cifar100\",\n",
        "        \"batch_size\": 512,\n",
        "        \"epochs\": 100,\n",
        "        \"lr\": 0.01,\n",
        "        \"momentum\": 0.9,\n",
        "        \"weight_decay\": 4e-4,\n",
        "        \"lr_scheduler\": \"lars\",\n",
        "        \"save_path\": \"improved_cnn_model.pth\",\n",
        "    }\n",
        "\n",
        "    print(\n",
        "        f\"Running LARS benchmark with {config['model_name']} on {config['dataset_name']}...\"\n",
        "    )\n",
        "\n",
        "    # Train model\n",
        "    model, history = train_centralized_model(**config)\n",
        "\n",
        "    # Plot results\n",
        "    plot_training_history(history)\n",
        "\n",
        "    # Save history\n",
        "    with open(\"lenet5_history.pkl\", \"wb\") as f:\n",
        "        pickle.dump(history, f)\n",
        "\n",
        "    print(\"LARS benchmark completed!\")\n",
        "\n",
        "    return model, history\n",
        "\n",
        "\n",
        "def main():\n",
        "    model, history = run_centralized_benchmark()\n",
        "    return model, history\n",
        "\n",
        "\n",
        "if __name__ == \"__main__\":\n",
        "    main()\n",
        "\n"
      ]
    }
  ]
}