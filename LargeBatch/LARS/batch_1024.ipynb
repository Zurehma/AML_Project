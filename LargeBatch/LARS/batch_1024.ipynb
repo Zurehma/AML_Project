{
  "nbformat": 4,
  "nbformat_minor": 0,
  "metadata": {
    "colab": {
      "provenance": [],
      "authorship_tag": "ABX9TyOuOjsdQroJMSL4xK8yPop2",
      "include_colab_link": true
    },
    "kernelspec": {
      "name": "python3",
      "display_name": "Python 3"
    },
    "language_info": {
      "name": "python"
    }
  },
  "cells": [
    {
      "cell_type": "markdown",
      "metadata": {
        "id": "view-in-github",
        "colab_type": "text"
      },
      "source": [
        "<a href=\"https://colab.research.google.com/github/Zurehma/AML_Project/blob/main/LargeBatch/LARS/batch_1024.ipynb\" target=\"_parent\"><img src=\"https://colab.research.google.com/assets/colab-badge.svg\" alt=\"Open In Colab\"/></a>"
      ]
    },
    {
      "cell_type": "code",
      "source": [
        "!pip install torch-optimizer\n"
      ],
      "metadata": {
        "id": "rpfwdg_7Pm17"
      },
      "execution_count": null,
      "outputs": []
    },
    {
      "cell_type": "code",
      "execution_count": null,
      "metadata": {
        "colab": {
          "base_uri": "https://localhost:8080/",
          "height": 1000
        },
        "id": "di76WeHIPd4w",
        "outputId": "d2e92de8-b86b-48ea-9f08-1f47a7414049"
      },
      "outputs": [
        {
          "output_type": "stream",
          "name": "stdout",
          "text": [
            "PyTorch version: 2.6.0+cu124\n",
            "Using device: cpu\n",
            "Running LARS benchmark with improved_cnn on cifar100...\n"
          ]
        },
        {
          "output_type": "stream",
          "name": "stderr",
          "text": [
            "100%|██████████| 169M/169M [00:02<00:00, 79.6MB/s]\n"
          ]
        },
        {
          "output_type": "stream",
          "name": "stdout",
          "text": [
            "Total parameters: 1,774,052\n",
            "\n",
            "Epoch [1/100] - Learning Rate: 0.016000\n"
          ]
        },
        {
          "output_type": "stream",
          "name": "stderr",
          "text": [
            "Training: 100%|██████████| 49/49 [05:50<00:00,  7.16s/it, loss=4.56, acc=1.95]\n"
          ]
        },
        {
          "output_type": "stream",
          "name": "stdout",
          "text": [
            "Train Loss: 4.5577, Train Acc: 1.95%, Test Loss: 4.3500, Test Acc: 4.08%, Time: 350.89s\n",
            "New best model saved with accuracy: 4.08%\n",
            "\n",
            "Epoch [2/100] - Learning Rate: 0.032000\n"
          ]
        },
        {
          "output_type": "stream",
          "name": "stderr",
          "text": [
            "Training: 100%|██████████| 49/49 [05:45<00:00,  7.06s/it, loss=4.26, acc=5.02]\n"
          ]
        },
        {
          "output_type": "stream",
          "name": "stdout",
          "text": [
            "Train Loss: 4.2557, Train Acc: 5.02%, Test Loss: 3.9229, Test Acc: 9.89%, Time: 345.99s\n",
            "New best model saved with accuracy: 9.89%\n",
            "\n",
            "Epoch [3/100] - Learning Rate: 0.048000\n"
          ]
        },
        {
          "output_type": "stream",
          "name": "stderr",
          "text": [
            "Training: 100%|██████████| 49/49 [05:47<00:00,  7.10s/it, loss=3.96, acc=8.51]\n"
          ]
        },
        {
          "output_type": "stream",
          "name": "stdout",
          "text": [
            "Train Loss: 3.9601, Train Acc: 8.51%, Test Loss: 3.6371, Test Acc: 14.86%, Time: 347.93s\n",
            "New best model saved with accuracy: 14.86%\n",
            "\n",
            "Epoch [4/100] - Learning Rate: 0.064000\n"
          ]
        },
        {
          "output_type": "stream",
          "name": "stderr",
          "text": [
            "Training: 100%|██████████| 49/49 [05:46<00:00,  7.08s/it, loss=3.76, acc=11.1]\n"
          ]
        },
        {
          "output_type": "stream",
          "name": "stdout",
          "text": [
            "Train Loss: 3.7631, Train Acc: 11.06%, Test Loss: 3.4518, Test Acc: 17.26%, Time: 346.97s\n",
            "New best model saved with accuracy: 17.26%\n",
            "\n",
            "Epoch [5/100] - Learning Rate: 0.080000\n"
          ]
        },
        {
          "output_type": "stream",
          "name": "stderr",
          "text": [
            "Training: 100%|██████████| 49/49 [05:45<00:00,  7.05s/it, loss=3.62, acc=13.6]\n"
          ]
        },
        {
          "output_type": "stream",
          "name": "stdout",
          "text": [
            "Train Loss: 3.6184, Train Acc: 13.61%, Test Loss: 3.2479, Test Acc: 20.96%, Time: 345.48s\n",
            "New best model saved with accuracy: 20.96%\n",
            "\n",
            "Epoch [6/100] - Learning Rate: 0.080000\n"
          ]
        },
        {
          "output_type": "stream",
          "name": "stderr",
          "text": [
            "Training: 100%|██████████| 49/49 [05:43<00:00,  7.00s/it, loss=3.46, acc=16.3]\n"
          ]
        },
        {
          "output_type": "stream",
          "name": "stdout",
          "text": [
            "Train Loss: 3.4640, Train Acc: 16.31%, Test Loss: 3.1659, Test Acc: 22.70%, Time: 343.03s\n",
            "New best model saved with accuracy: 22.70%\n",
            "\n",
            "Epoch [7/100] - Learning Rate: 0.079978\n"
          ]
        },
        {
          "output_type": "stream",
          "name": "stderr",
          "text": [
            "Training: 100%|██████████| 49/49 [05:46<00:00,  7.07s/it, loss=3.34, acc=18.4]\n"
          ]
        },
        {
          "output_type": "stream",
          "name": "stdout",
          "text": [
            "Train Loss: 3.3393, Train Acc: 18.40%, Test Loss: 2.9897, Test Acc: 25.33%, Time: 346.50s\n",
            "New best model saved with accuracy: 25.33%\n",
            "\n",
            "Epoch [8/100] - Learning Rate: 0.079913\n"
          ]
        },
        {
          "output_type": "stream",
          "name": "stderr",
          "text": [
            "Training: 100%|██████████| 49/49 [05:46<00:00,  7.08s/it, loss=3.27, acc=19.5]\n"
          ]
        },
        {
          "output_type": "stream",
          "name": "stdout",
          "text": [
            "Train Loss: 3.2662, Train Acc: 19.51%, Test Loss: 2.9390, Test Acc: 26.15%, Time: 346.76s\n",
            "New best model saved with accuracy: 26.15%\n",
            "\n",
            "Epoch [9/100] - Learning Rate: 0.079803\n"
          ]
        },
        {
          "output_type": "stream",
          "name": "stderr",
          "text": [
            "Training: 100%|██████████| 49/49 [05:48<00:00,  7.11s/it, loss=3.16, acc=21.4]\n"
          ]
        },
        {
          "output_type": "stream",
          "name": "stdout",
          "text": [
            "Train Loss: 3.1650, Train Acc: 21.43%, Test Loss: 2.8048, Test Acc: 29.22%, Time: 348.64s\n",
            "New best model saved with accuracy: 29.22%\n",
            "\n",
            "Epoch [10/100] - Learning Rate: 0.079651\n"
          ]
        },
        {
          "output_type": "stream",
          "name": "stderr",
          "text": [
            "Training: 100%|██████████| 49/49 [05:49<00:00,  7.13s/it, loss=3.11, acc=22.5]\n"
          ]
        },
        {
          "output_type": "stream",
          "name": "stdout",
          "text": [
            "Train Loss: 3.1065, Train Acc: 22.46%, Test Loss: 2.7052, Test Acc: 30.08%, Time: 349.57s\n",
            "New best model saved with accuracy: 30.08%\n",
            "\n",
            "Epoch [11/100] - Learning Rate: 0.079454\n"
          ]
        },
        {
          "output_type": "stream",
          "name": "stderr",
          "text": [
            "Training: 100%|██████████| 49/49 [05:43<00:00,  7.02s/it, loss=3.05, acc=23.6]\n"
          ]
        },
        {
          "output_type": "stream",
          "name": "stdout",
          "text": [
            "Train Loss: 3.0546, Train Acc: 23.61%, Test Loss: 2.6236, Test Acc: 32.56%, Time: 343.77s\n",
            "New best model saved with accuracy: 32.56%\n",
            "\n",
            "Epoch [12/100] - Learning Rate: 0.079215\n"
          ]
        },
        {
          "output_type": "stream",
          "name": "stderr",
          "text": [
            "Training: 100%|██████████| 49/49 [05:44<00:00,  7.04s/it, loss=2.98, acc=25]\n"
          ]
        },
        {
          "output_type": "stream",
          "name": "stdout",
          "text": [
            "Train Loss: 2.9777, Train Acc: 24.99%, Test Loss: 2.5580, Test Acc: 34.20%, Time: 344.85s\n",
            "New best model saved with accuracy: 34.20%\n",
            "\n",
            "Epoch [13/100] - Learning Rate: 0.078933\n"
          ]
        },
        {
          "output_type": "stream",
          "name": "stderr",
          "text": [
            "Training: 100%|██████████| 49/49 [05:44<00:00,  7.02s/it, loss=2.94, acc=25.6]\n"
          ]
        },
        {
          "output_type": "stream",
          "name": "stdout",
          "text": [
            "Train Loss: 2.9427, Train Acc: 25.56%, Test Loss: 2.5267, Test Acc: 34.63%, Time: 344.09s\n",
            "New best model saved with accuracy: 34.63%\n",
            "\n",
            "Epoch [14/100] - Learning Rate: 0.078608\n"
          ]
        },
        {
          "output_type": "stream",
          "name": "stderr",
          "text": [
            "Training: 100%|██████████| 49/49 [05:46<00:00,  7.08s/it, loss=2.89, acc=26.7]\n"
          ]
        },
        {
          "output_type": "stream",
          "name": "stdout",
          "text": [
            "Train Loss: 2.8879, Train Acc: 26.69%, Test Loss: 2.5112, Test Acc: 35.02%, Time: 346.74s\n",
            "New best model saved with accuracy: 35.02%\n",
            "\n",
            "Epoch [15/100] - Learning Rate: 0.078241\n"
          ]
        },
        {
          "output_type": "stream",
          "name": "stderr",
          "text": [
            "Training: 100%|██████████| 49/49 [05:47<00:00,  7.09s/it, loss=2.85, acc=27.5]\n"
          ]
        },
        {
          "output_type": "stream",
          "name": "stdout",
          "text": [
            "Train Loss: 2.8547, Train Acc: 27.46%, Test Loss: 2.4724, Test Acc: 35.06%, Time: 347.27s\n",
            "New best model saved with accuracy: 35.06%\n",
            "\n",
            "Epoch [16/100] - Learning Rate: 0.077833\n"
          ]
        },
        {
          "output_type": "stream",
          "name": "stderr",
          "text": [
            "Training: 100%|██████████| 49/49 [05:43<00:00,  7.01s/it, loss=2.82, acc=28.2]\n"
          ]
        },
        {
          "output_type": "stream",
          "name": "stdout",
          "text": [
            "Train Loss: 2.8201, Train Acc: 28.25%, Test Loss: 2.4579, Test Acc: 35.95%, Time: 343.70s\n",
            "New best model saved with accuracy: 35.95%\n",
            "\n",
            "Epoch [17/100] - Learning Rate: 0.077383\n"
          ]
        },
        {
          "output_type": "stream",
          "name": "stderr",
          "text": [
            "Training: 100%|██████████| 49/49 [05:45<00:00,  7.05s/it, loss=2.78, acc=28.8]\n"
          ]
        },
        {
          "output_type": "stream",
          "name": "stdout",
          "text": [
            "Train Loss: 2.7789, Train Acc: 28.81%, Test Loss: 2.4194, Test Acc: 36.64%, Time: 345.67s\n",
            "New best model saved with accuracy: 36.64%\n",
            "\n",
            "Epoch [18/100] - Learning Rate: 0.076892\n"
          ]
        },
        {
          "output_type": "stream",
          "name": "stderr",
          "text": [
            "Training: 100%|██████████| 49/49 [05:42<00:00,  6.99s/it, loss=2.75, acc=29.6]\n"
          ]
        },
        {
          "output_type": "stream",
          "name": "stdout",
          "text": [
            "Train Loss: 2.7533, Train Acc: 29.65%, Test Loss: 2.3475, Test Acc: 38.02%, Time: 342.41s\n",
            "New best model saved with accuracy: 38.02%\n",
            "\n",
            "Epoch [19/100] - Learning Rate: 0.076360\n"
          ]
        },
        {
          "output_type": "stream",
          "name": "stderr",
          "text": [
            "Training: 100%|██████████| 49/49 [05:45<00:00,  7.05s/it, loss=2.73, acc=30]\n"
          ]
        },
        {
          "output_type": "stream",
          "name": "stdout",
          "text": [
            "Train Loss: 2.7260, Train Acc: 29.99%, Test Loss: 2.3651, Test Acc: 37.82%, Time: 345.25s\n",
            "\n",
            "Epoch [20/100] - Learning Rate: 0.075789\n"
          ]
        },
        {
          "output_type": "stream",
          "name": "stderr",
          "text": [
            "Training: 100%|██████████| 49/49 [05:44<00:00,  7.04s/it, loss=2.69, acc=30.8]\n"
          ]
        },
        {
          "output_type": "stream",
          "name": "stdout",
          "text": [
            "Train Loss: 2.6872, Train Acc: 30.79%, Test Loss: 2.3181, Test Acc: 38.76%, Time: 344.95s\n",
            "New best model saved with accuracy: 38.76%\n",
            "\n",
            "Epoch [21/100] - Learning Rate: 0.075179\n"
          ]
        },
        {
          "output_type": "stream",
          "name": "stderr",
          "text": [
            "Training: 100%|██████████| 49/49 [05:44<00:00,  7.04s/it, loss=2.66, acc=31.5]\n"
          ]
        },
        {
          "output_type": "stream",
          "name": "stdout",
          "text": [
            "Train Loss: 2.6596, Train Acc: 31.54%, Test Loss: 2.2681, Test Acc: 40.08%, Time: 344.78s\n",
            "New best model saved with accuracy: 40.08%\n",
            "\n",
            "Epoch [22/100] - Learning Rate: 0.074530\n"
          ]
        },
        {
          "output_type": "stream",
          "name": "stderr",
          "text": [
            "Training: 100%|██████████| 49/49 [05:42<00:00,  7.00s/it, loss=2.64, acc=31.7]\n"
          ]
        },
        {
          "output_type": "stream",
          "name": "stdout",
          "text": [
            "Train Loss: 2.6383, Train Acc: 31.66%, Test Loss: 2.2657, Test Acc: 40.15%, Time: 342.92s\n",
            "New best model saved with accuracy: 40.15%\n",
            "\n",
            "Epoch [23/100] - Learning Rate: 0.073844\n"
          ]
        },
        {
          "output_type": "stream",
          "name": "stderr",
          "text": [
            "Training: 100%|██████████| 49/49 [05:42<00:00,  6.99s/it, loss=2.61, acc=32.5]\n"
          ]
        },
        {
          "output_type": "stream",
          "name": "stdout",
          "text": [
            "Train Loss: 2.6063, Train Acc: 32.51%, Test Loss: 2.1892, Test Acc: 41.96%, Time: 342.51s\n",
            "New best model saved with accuracy: 41.96%\n",
            "\n",
            "Epoch [24/100] - Learning Rate: 0.073120\n"
          ]
        },
        {
          "output_type": "stream",
          "name": "stderr",
          "text": [
            "Training: 100%|██████████| 49/49 [05:43<00:00,  7.00s/it, loss=2.57, acc=33.3]\n"
          ]
        },
        {
          "output_type": "stream",
          "name": "stdout",
          "text": [
            "Train Loss: 2.5673, Train Acc: 33.35%, Test Loss: 2.2007, Test Acc: 42.05%, Time: 343.06s\n",
            "New best model saved with accuracy: 42.05%\n",
            "\n",
            "Epoch [25/100] - Learning Rate: 0.072361\n"
          ]
        },
        {
          "output_type": "stream",
          "name": "stderr",
          "text": [
            "Training: 100%|██████████| 49/49 [05:42<00:00,  6.99s/it, loss=2.55, acc=33.6]\n"
          ]
        },
        {
          "output_type": "stream",
          "name": "stdout",
          "text": [
            "Train Loss: 2.5497, Train Acc: 33.65%, Test Loss: 2.2175, Test Acc: 41.55%, Time: 342.36s\n",
            "\n",
            "Epoch [26/100] - Learning Rate: 0.071566\n"
          ]
        },
        {
          "output_type": "stream",
          "name": "stderr",
          "text": [
            "Training: 100%|██████████| 49/49 [05:44<00:00,  7.04s/it, loss=2.54, acc=34.1]\n"
          ]
        },
        {
          "output_type": "stream",
          "name": "stdout",
          "text": [
            "Train Loss: 2.5353, Train Acc: 34.08%, Test Loss: 2.1962, Test Acc: 41.80%, Time: 344.77s\n",
            "\n",
            "Epoch [27/100] - Learning Rate: 0.070736\n"
          ]
        },
        {
          "output_type": "stream",
          "name": "stderr",
          "text": [
            "Training: 100%|██████████| 49/49 [05:42<00:00,  6.99s/it, loss=2.51, acc=34.7]\n"
          ]
        },
        {
          "output_type": "stream",
          "name": "stdout",
          "text": [
            "Train Loss: 2.5061, Train Acc: 34.69%, Test Loss: 2.2127, Test Acc: 41.72%, Time: 342.55s\n",
            "\n",
            "Epoch [28/100] - Learning Rate: 0.069873\n"
          ]
        },
        {
          "output_type": "stream",
          "name": "stderr",
          "text": [
            "Training: 100%|██████████| 49/49 [05:42<00:00,  6.99s/it, loss=2.49, acc=34.9]\n"
          ]
        },
        {
          "output_type": "stream",
          "name": "stdout",
          "text": [
            "Train Loss: 2.4910, Train Acc: 34.86%, Test Loss: 2.1086, Test Acc: 43.64%, Time: 342.41s\n",
            "New best model saved with accuracy: 43.64%\n",
            "\n",
            "Epoch [29/100] - Learning Rate: 0.068977\n"
          ]
        },
        {
          "output_type": "stream",
          "name": "stderr",
          "text": [
            "Training: 100%|██████████| 49/49 [05:43<00:00,  7.01s/it, loss=2.47, acc=35.4]\n"
          ]
        },
        {
          "output_type": "stream",
          "name": "stdout",
          "text": [
            "Train Loss: 2.4668, Train Acc: 35.39%, Test Loss: 2.0970, Test Acc: 44.11%, Time: 343.58s\n",
            "New best model saved with accuracy: 44.11%\n",
            "\n",
            "Epoch [30/100] - Learning Rate: 0.068049\n"
          ]
        },
        {
          "output_type": "stream",
          "name": "stderr",
          "text": [
            "Training: 100%|██████████| 49/49 [05:40<00:00,  6.96s/it, loss=2.45, acc=35.9]\n"
          ]
        },
        {
          "output_type": "stream",
          "name": "stdout",
          "text": [
            "Train Loss: 2.4501, Train Acc: 35.93%, Test Loss: 2.1212, Test Acc: 43.74%, Time: 340.90s\n",
            "\n",
            "Epoch [31/100] - Learning Rate: 0.067091\n"
          ]
        },
        {
          "output_type": "stream",
          "name": "stderr",
          "text": [
            "Training: 100%|██████████| 49/49 [05:43<00:00,  7.01s/it, loss=2.42, acc=36.3]\n"
          ]
        },
        {
          "output_type": "stream",
          "name": "stdout",
          "text": [
            "Train Loss: 2.4218, Train Acc: 36.33%, Test Loss: 2.0778, Test Acc: 44.94%, Time: 343.31s\n",
            "New best model saved with accuracy: 44.94%\n",
            "\n",
            "Epoch [32/100] - Learning Rate: 0.066103\n"
          ]
        },
        {
          "output_type": "stream",
          "name": "stderr",
          "text": [
            "Training: 100%|██████████| 49/49 [05:43<00:00,  7.02s/it, loss=2.4, acc=36.9]\n"
          ]
        },
        {
          "output_type": "stream",
          "name": "stdout",
          "text": [
            "Train Loss: 2.4049, Train Acc: 36.94%, Test Loss: 2.0706, Test Acc: 45.58%, Time: 343.82s\n",
            "New best model saved with accuracy: 45.58%\n",
            "\n",
            "Epoch [33/100] - Learning Rate: 0.065087\n"
          ]
        },
        {
          "output_type": "stream",
          "name": "stderr",
          "text": [
            "Training: 100%|██████████| 49/49 [05:44<00:00,  7.04s/it, loss=2.4, acc=37.1]\n"
          ]
        },
        {
          "output_type": "stream",
          "name": "stdout",
          "text": [
            "Train Loss: 2.4006, Train Acc: 37.10%, Test Loss: 2.0317, Test Acc: 45.85%, Time: 344.73s\n",
            "New best model saved with accuracy: 45.85%\n",
            "\n",
            "Epoch [34/100] - Learning Rate: 0.064043\n"
          ]
        },
        {
          "output_type": "stream",
          "name": "stderr",
          "text": [
            "Training: 100%|██████████| 49/49 [05:42<00:00,  6.99s/it, loss=2.37, acc=37.6]\n"
          ]
        },
        {
          "output_type": "stream",
          "name": "stdout",
          "text": [
            "Train Loss: 2.3658, Train Acc: 37.56%, Test Loss: 2.0174, Test Acc: 46.13%, Time: 342.28s\n",
            "New best model saved with accuracy: 46.13%\n",
            "\n",
            "Epoch [35/100] - Learning Rate: 0.062973\n"
          ]
        },
        {
          "output_type": "stream",
          "name": "stderr",
          "text": [
            "Training: 100%|██████████| 49/49 [05:44<00:00,  7.02s/it, loss=2.34, acc=38.1]\n"
          ]
        },
        {
          "output_type": "stream",
          "name": "stdout",
          "text": [
            "Train Loss: 2.3445, Train Acc: 38.13%, Test Loss: 2.0304, Test Acc: 45.92%, Time: 344.16s\n",
            "\n",
            "Epoch [36/100] - Learning Rate: 0.061878\n"
          ]
        },
        {
          "output_type": "stream",
          "name": "stderr",
          "text": [
            "Training: 100%|██████████| 49/49 [05:45<00:00,  7.06s/it, loss=2.33, acc=38.4]\n"
          ]
        },
        {
          "output_type": "stream",
          "name": "stdout",
          "text": [
            "Train Loss: 2.3300, Train Acc: 38.40%, Test Loss: 1.9849, Test Acc: 46.73%, Time: 345.95s\n",
            "New best model saved with accuracy: 46.73%\n",
            "\n",
            "Epoch [37/100] - Learning Rate: 0.060759\n"
          ]
        },
        {
          "output_type": "stream",
          "name": "stderr",
          "text": [
            "Training: 100%|██████████| 49/49 [05:39<00:00,  6.94s/it, loss=2.32, acc=38.6]\n"
          ]
        },
        {
          "output_type": "stream",
          "name": "stdout",
          "text": [
            "Train Loss: 2.3189, Train Acc: 38.61%, Test Loss: 1.9609, Test Acc: 47.44%, Time: 339.89s\n",
            "New best model saved with accuracy: 47.44%\n",
            "\n",
            "Epoch [38/100] - Learning Rate: 0.059617\n"
          ]
        },
        {
          "output_type": "stream",
          "name": "stderr",
          "text": [
            "Training: 100%|██████████| 49/49 [05:42<00:00,  6.98s/it, loss=2.3, acc=39]\n"
          ]
        },
        {
          "output_type": "stream",
          "name": "stdout",
          "text": [
            "Train Loss: 2.2968, Train Acc: 39.01%, Test Loss: 1.9266, Test Acc: 48.24%, Time: 342.21s\n",
            "New best model saved with accuracy: 48.24%\n",
            "\n",
            "Epoch [39/100] - Learning Rate: 0.058454\n"
          ]
        },
        {
          "output_type": "stream",
          "name": "stderr",
          "text": [
            "Training: 100%|██████████| 49/49 [05:43<00:00,  7.02s/it, loss=2.28, acc=39.6]\n"
          ]
        },
        {
          "output_type": "stream",
          "name": "stdout",
          "text": [
            "Train Loss: 2.2807, Train Acc: 39.59%, Test Loss: 2.0063, Test Acc: 47.10%, Time: 343.81s\n",
            "\n",
            "Epoch [40/100] - Learning Rate: 0.057270\n"
          ]
        },
        {
          "output_type": "stream",
          "name": "stderr",
          "text": [
            "Training: 100%|██████████| 49/49 [05:40<00:00,  6.96s/it, loss=2.28, acc=39.3]\n"
          ]
        },
        {
          "output_type": "stream",
          "name": "stdout",
          "text": [
            "Train Loss: 2.2848, Train Acc: 39.30%, Test Loss: 1.9820, Test Acc: 46.90%, Time: 340.93s\n",
            "\n",
            "Epoch [41/100] - Learning Rate: 0.056068\n"
          ]
        },
        {
          "output_type": "stream",
          "name": "stderr",
          "text": [
            "Training: 100%|██████████| 49/49 [05:42<00:00,  6.99s/it, loss=2.25, acc=39.9]\n"
          ]
        },
        {
          "output_type": "stream",
          "name": "stdout",
          "text": [
            "Train Loss: 2.2546, Train Acc: 39.91%, Test Loss: 1.9238, Test Acc: 48.17%, Time: 342.28s\n",
            "\n",
            "Epoch [42/100] - Learning Rate: 0.054848\n"
          ]
        },
        {
          "output_type": "stream",
          "name": "stderr",
          "text": [
            "Training: 100%|██████████| 49/49 [05:43<00:00,  7.01s/it, loss=2.24, acc=40.3]\n"
          ]
        },
        {
          "output_type": "stream",
          "name": "stdout",
          "text": [
            "Train Loss: 2.2394, Train Acc: 40.29%, Test Loss: 1.9277, Test Acc: 48.27%, Time: 343.53s\n",
            "New best model saved with accuracy: 48.27%\n",
            "\n",
            "Epoch [43/100] - Learning Rate: 0.053612\n"
          ]
        },
        {
          "output_type": "stream",
          "name": "stderr",
          "text": [
            "Training: 100%|██████████| 49/49 [05:42<00:00,  6.98s/it, loss=2.24, acc=40.3]\n"
          ]
        },
        {
          "output_type": "stream",
          "name": "stdout",
          "text": [
            "Train Loss: 2.2390, Train Acc: 40.35%, Test Loss: 1.9274, Test Acc: 48.20%, Time: 342.16s\n",
            "\n",
            "Epoch [44/100] - Learning Rate: 0.052361\n"
          ]
        },
        {
          "output_type": "stream",
          "name": "stderr",
          "text": [
            "Training: 100%|██████████| 49/49 [05:44<00:00,  7.04s/it, loss=2.21, acc=41]\n"
          ]
        },
        {
          "output_type": "stream",
          "name": "stdout",
          "text": [
            "Train Loss: 2.2125, Train Acc: 40.96%, Test Loss: 1.9179, Test Acc: 48.87%, Time: 344.88s\n",
            "New best model saved with accuracy: 48.87%\n",
            "\n",
            "Epoch [45/100] - Learning Rate: 0.051096\n"
          ]
        },
        {
          "output_type": "stream",
          "name": "stderr",
          "text": [
            "Training: 100%|██████████| 49/49 [05:41<00:00,  6.98s/it, loss=2.21, acc=41.2]\n"
          ]
        },
        {
          "output_type": "stream",
          "name": "stdout",
          "text": [
            "Train Loss: 2.2056, Train Acc: 41.24%, Test Loss: 1.9202, Test Acc: 48.26%, Time: 341.81s\n",
            "\n",
            "Epoch [46/100] - Learning Rate: 0.049819\n"
          ]
        },
        {
          "output_type": "stream",
          "name": "stderr",
          "text": [
            "Training: 100%|██████████| 49/49 [05:45<00:00,  7.05s/it, loss=2.18, acc=41.6]\n"
          ]
        },
        {
          "output_type": "stream",
          "name": "stdout",
          "text": [
            "Train Loss: 2.1842, Train Acc: 41.63%, Test Loss: 1.8831, Test Acc: 48.90%, Time: 345.67s\n",
            "New best model saved with accuracy: 48.90%\n",
            "\n",
            "Epoch [47/100] - Learning Rate: 0.048532\n"
          ]
        },
        {
          "output_type": "stream",
          "name": "stderr",
          "text": [
            "Training: 100%|██████████| 49/49 [05:40<00:00,  6.96s/it, loss=2.17, acc=42]\n"
          ]
        },
        {
          "output_type": "stream",
          "name": "stdout",
          "text": [
            "Train Loss: 2.1749, Train Acc: 42.04%, Test Loss: 1.8612, Test Acc: 49.89%, Time: 340.94s\n",
            "New best model saved with accuracy: 49.89%\n",
            "\n",
            "Epoch [48/100] - Learning Rate: 0.047235\n"
          ]
        },
        {
          "output_type": "stream",
          "name": "stderr",
          "text": [
            "Training: 100%|██████████| 49/49 [05:44<00:00,  7.02s/it, loss=2.16, acc=42.4]\n"
          ]
        },
        {
          "output_type": "stream",
          "name": "stdout",
          "text": [
            "Train Loss: 2.1556, Train Acc: 42.36%, Test Loss: 1.8518, Test Acc: 50.02%, Time: 344.04s\n",
            "New best model saved with accuracy: 50.02%\n",
            "\n",
            "Epoch [49/100] - Learning Rate: 0.045931\n"
          ]
        },
        {
          "output_type": "stream",
          "name": "stderr",
          "text": [
            "Training: 100%|██████████| 49/49 [05:44<00:00,  7.03s/it, loss=2.14, acc=42.5]\n"
          ]
        },
        {
          "output_type": "stream",
          "name": "stdout",
          "text": [
            "Train Loss: 2.1443, Train Acc: 42.52%, Test Loss: 1.8336, Test Acc: 50.72%, Time: 344.27s\n",
            "New best model saved with accuracy: 50.72%\n",
            "\n",
            "Epoch [50/100] - Learning Rate: 0.044619\n"
          ]
        },
        {
          "output_type": "stream",
          "name": "stderr",
          "text": [
            "Training: 100%|██████████| 49/49 [05:42<00:00,  6.98s/it, loss=2.13, acc=43.2]\n"
          ]
        },
        {
          "output_type": "stream",
          "name": "stdout",
          "text": [
            "Train Loss: 2.1282, Train Acc: 43.25%, Test Loss: 1.8487, Test Acc: 50.19%, Time: 342.20s\n",
            "\n",
            "Epoch [51/100] - Learning Rate: 0.043303\n"
          ]
        },
        {
          "output_type": "stream",
          "name": "stderr",
          "text": [
            "Training: 100%|██████████| 49/49 [05:44<00:00,  7.02s/it, loss=2.12, acc=43.3]\n"
          ]
        },
        {
          "output_type": "stream",
          "name": "stdout",
          "text": [
            "Train Loss: 2.1205, Train Acc: 43.33%, Test Loss: 1.8246, Test Acc: 51.07%, Time: 344.12s\n",
            "New best model saved with accuracy: 51.07%\n",
            "\n",
            "Epoch [52/100] - Learning Rate: 0.041983\n"
          ]
        },
        {
          "output_type": "stream",
          "name": "stderr",
          "text": [
            "Training: 100%|██████████| 49/49 [05:43<00:00,  7.02s/it, loss=2.1, acc=43.6]\n"
          ]
        },
        {
          "output_type": "stream",
          "name": "stdout",
          "text": [
            "Train Loss: 2.0971, Train Acc: 43.59%, Test Loss: 1.7912, Test Acc: 51.55%, Time: 343.93s\n",
            "New best model saved with accuracy: 51.55%\n",
            "\n",
            "Epoch [53/100] - Learning Rate: 0.040661\n"
          ]
        },
        {
          "output_type": "stream",
          "name": "stderr",
          "text": [
            "Training: 100%|██████████| 49/49 [05:45<00:00,  7.05s/it, loss=2.09, acc=43.5]\n"
          ]
        },
        {
          "output_type": "stream",
          "name": "stdout",
          "text": [
            "Train Loss: 2.0909, Train Acc: 43.46%, Test Loss: 1.7994, Test Acc: 50.73%, Time: 345.69s\n",
            "\n",
            "Epoch [54/100] - Learning Rate: 0.039339\n"
          ]
        },
        {
          "output_type": "stream",
          "name": "stderr",
          "text": [
            "Training: 100%|██████████| 49/49 [05:45<00:00,  7.05s/it, loss=2.08, acc=44.1]\n"
          ]
        },
        {
          "output_type": "stream",
          "name": "stdout",
          "text": [
            "Train Loss: 2.0754, Train Acc: 44.10%, Test Loss: 1.7914, Test Acc: 51.19%, Time: 345.61s\n",
            "\n",
            "Epoch [55/100] - Learning Rate: 0.038017\n"
          ]
        },
        {
          "output_type": "stream",
          "name": "stderr",
          "text": [
            "Training: 100%|██████████| 49/49 [05:45<00:00,  7.06s/it, loss=2.06, acc=44.2]\n"
          ]
        },
        {
          "output_type": "stream",
          "name": "stdout",
          "text": [
            "Train Loss: 2.0625, Train Acc: 44.18%, Test Loss: 1.7941, Test Acc: 51.06%, Time: 345.88s\n",
            "\n",
            "Epoch [56/100] - Learning Rate: 0.036697\n"
          ]
        },
        {
          "output_type": "stream",
          "name": "stderr",
          "text": [
            "Training: 100%|██████████| 49/49 [05:43<00:00,  7.01s/it, loss=2.05, acc=44.8]\n"
          ]
        },
        {
          "output_type": "stream",
          "name": "stdout",
          "text": [
            "Train Loss: 2.0503, Train Acc: 44.83%, Test Loss: 1.7690, Test Acc: 51.98%, Time: 343.70s\n",
            "New best model saved with accuracy: 51.98%\n",
            "\n",
            "Epoch [57/100] - Learning Rate: 0.035381\n"
          ]
        },
        {
          "output_type": "stream",
          "name": "stderr",
          "text": [
            "Training: 100%|██████████| 49/49 [05:44<00:00,  7.03s/it, loss=2.04, acc=44.8]\n"
          ]
        },
        {
          "output_type": "stream",
          "name": "stdout",
          "text": [
            "Train Loss: 2.0360, Train Acc: 44.80%, Test Loss: 1.7798, Test Acc: 52.00%, Time: 344.37s\n",
            "New best model saved with accuracy: 52.00%\n",
            "\n",
            "Epoch [58/100] - Learning Rate: 0.034069\n"
          ]
        },
        {
          "output_type": "stream",
          "name": "stderr",
          "text": [
            "Training: 100%|██████████| 49/49 [05:46<00:00,  7.07s/it, loss=2.04, acc=45.1]\n"
          ]
        },
        {
          "output_type": "stream",
          "name": "stdout",
          "text": [
            "Train Loss: 2.0368, Train Acc: 45.11%, Test Loss: 1.7921, Test Acc: 51.18%, Time: 346.32s\n",
            "\n",
            "Epoch [59/100] - Learning Rate: 0.032765\n"
          ]
        },
        {
          "output_type": "stream",
          "name": "stderr",
          "text": [
            "Training: 100%|██████████| 49/49 [05:40<00:00,  6.96s/it, loss=2.01, acc=45.6]\n"
          ]
        },
        {
          "output_type": "stream",
          "name": "stdout",
          "text": [
            "Train Loss: 2.0135, Train Acc: 45.62%, Test Loss: 1.7689, Test Acc: 51.93%, Time: 340.91s\n",
            "\n",
            "Epoch [60/100] - Learning Rate: 0.031468\n"
          ]
        },
        {
          "output_type": "stream",
          "name": "stderr",
          "text": [
            "Training: 100%|██████████| 49/49 [05:44<00:00,  7.03s/it, loss=2.01, acc=45.3]\n"
          ]
        },
        {
          "output_type": "stream",
          "name": "stdout",
          "text": [
            "Train Loss: 2.0084, Train Acc: 45.35%, Test Loss: 1.7535, Test Acc: 52.50%, Time: 344.46s\n",
            "New best model saved with accuracy: 52.50%\n",
            "\n",
            "Epoch [61/100] - Learning Rate: 0.030181\n"
          ]
        },
        {
          "output_type": "stream",
          "name": "stderr",
          "text": [
            "Training: 100%|██████████| 49/49 [05:46<00:00,  7.06s/it, loss=1.99, acc=46]\n"
          ]
        },
        {
          "output_type": "stream",
          "name": "stdout",
          "text": [
            "Train Loss: 1.9926, Train Acc: 46.04%, Test Loss: 1.7312, Test Acc: 53.07%, Time: 346.12s\n",
            "New best model saved with accuracy: 53.07%\n",
            "\n",
            "Epoch [62/100] - Learning Rate: 0.028904\n"
          ]
        },
        {
          "output_type": "stream",
          "name": "stderr",
          "text": [
            "Training: 100%|██████████| 49/49 [05:44<00:00,  7.02s/it, loss=1.98, acc=46.3]\n"
          ]
        },
        {
          "output_type": "stream",
          "name": "stdout",
          "text": [
            "Train Loss: 1.9818, Train Acc: 46.26%, Test Loss: 1.7208, Test Acc: 53.77%, Time: 344.04s\n",
            "New best model saved with accuracy: 53.77%\n",
            "\n",
            "Epoch [63/100] - Learning Rate: 0.027639\n"
          ]
        },
        {
          "output_type": "stream",
          "name": "stderr",
          "text": [
            "Training: 100%|██████████| 49/49 [05:46<00:00,  7.06s/it, loss=1.97, acc=46.4]\n"
          ]
        },
        {
          "output_type": "stream",
          "name": "stdout",
          "text": [
            "Train Loss: 1.9741, Train Acc: 46.36%, Test Loss: 1.7170, Test Acc: 53.49%, Time: 346.09s\n",
            "\n",
            "Epoch [64/100] - Learning Rate: 0.026388\n"
          ]
        },
        {
          "output_type": "stream",
          "name": "stderr",
          "text": [
            "Training: 100%|██████████| 49/49 [05:43<00:00,  7.02s/it, loss=1.97, acc=46.4]\n"
          ]
        },
        {
          "output_type": "stream",
          "name": "stdout",
          "text": [
            "Train Loss: 1.9718, Train Acc: 46.45%, Test Loss: 1.7135, Test Acc: 53.57%, Time: 343.74s\n",
            "\n",
            "Epoch [65/100] - Learning Rate: 0.025152\n"
          ]
        },
        {
          "output_type": "stream",
          "name": "stderr",
          "text": [
            "Training: 100%|██████████| 49/49 [05:47<00:00,  7.10s/it, loss=1.96, acc=47.1]\n"
          ]
        },
        {
          "output_type": "stream",
          "name": "stdout",
          "text": [
            "Train Loss: 1.9626, Train Acc: 47.06%, Test Loss: 1.7116, Test Acc: 53.38%, Time: 347.75s\n",
            "\n",
            "Epoch [66/100] - Learning Rate: 0.023932\n"
          ]
        },
        {
          "output_type": "stream",
          "name": "stderr",
          "text": [
            "Training: 100%|██████████| 49/49 [05:45<00:00,  7.05s/it, loss=1.94, acc=47.2]\n"
          ]
        },
        {
          "output_type": "stream",
          "name": "stdout",
          "text": [
            "Train Loss: 1.9408, Train Acc: 47.23%, Test Loss: 1.7043, Test Acc: 53.35%, Time: 345.47s\n",
            "\n",
            "Epoch [67/100] - Learning Rate: 0.022730\n"
          ]
        },
        {
          "output_type": "stream",
          "name": "stderr",
          "text": [
            "Training: 100%|██████████| 49/49 [05:45<00:00,  7.06s/it, loss=1.93, acc=47.4]\n"
          ]
        },
        {
          "output_type": "stream",
          "name": "stdout",
          "text": [
            "Train Loss: 1.9345, Train Acc: 47.44%, Test Loss: 1.6914, Test Acc: 53.96%, Time: 345.85s\n",
            "New best model saved with accuracy: 53.96%\n",
            "\n",
            "Epoch [68/100] - Learning Rate: 0.021546\n"
          ]
        },
        {
          "output_type": "stream",
          "name": "stderr",
          "text": [
            "Training: 100%|██████████| 49/49 [05:43<00:00,  7.01s/it, loss=1.92, acc=47.7]\n"
          ]
        },
        {
          "output_type": "stream",
          "name": "stdout",
          "text": [
            "Train Loss: 1.9198, Train Acc: 47.70%, Test Loss: 1.6860, Test Acc: 54.11%, Time: 343.51s\n",
            "New best model saved with accuracy: 54.11%\n",
            "\n",
            "Epoch [69/100] - Learning Rate: 0.020383\n"
          ]
        },
        {
          "output_type": "stream",
          "name": "stderr",
          "text": [
            "Training: 100%|██████████| 49/49 [05:44<00:00,  7.03s/it, loss=1.93, acc=47.8]\n"
          ]
        },
        {
          "output_type": "stream",
          "name": "stdout",
          "text": [
            "Train Loss: 1.9256, Train Acc: 47.81%, Test Loss: 1.6918, Test Acc: 53.94%, Time: 344.69s\n",
            "\n",
            "Epoch [70/100] - Learning Rate: 0.019241\n"
          ]
        },
        {
          "output_type": "stream",
          "name": "stderr",
          "text": [
            "Training: 100%|██████████| 49/49 [05:49<00:00,  7.13s/it, loss=1.91, acc=47.8]\n"
          ]
        },
        {
          "output_type": "stream",
          "name": "stdout",
          "text": [
            "Train Loss: 1.9052, Train Acc: 47.81%, Test Loss: 1.6682, Test Acc: 54.44%, Time: 349.22s\n",
            "New best model saved with accuracy: 54.44%\n",
            "\n",
            "Epoch [71/100] - Learning Rate: 0.018122\n"
          ]
        },
        {
          "output_type": "stream",
          "name": "stderr",
          "text": [
            "Training: 100%|██████████| 49/49 [05:43<00:00,  7.01s/it, loss=1.89, acc=48.3]\n"
          ]
        },
        {
          "output_type": "stream",
          "name": "stdout",
          "text": [
            "Train Loss: 1.8921, Train Acc: 48.27%, Test Loss: 1.6672, Test Acc: 55.12%, Time: 343.50s\n",
            "New best model saved with accuracy: 55.12%\n",
            "\n",
            "Epoch [72/100] - Learning Rate: 0.017027\n"
          ]
        },
        {
          "output_type": "stream",
          "name": "stderr",
          "text": [
            "Training: 100%|██████████| 49/49 [05:47<00:00,  7.09s/it, loss=1.89, acc=48.2]\n"
          ]
        },
        {
          "output_type": "stream",
          "name": "stdout",
          "text": [
            "Train Loss: 1.8915, Train Acc: 48.24%, Test Loss: 1.7025, Test Acc: 53.90%, Time: 347.59s\n",
            "\n",
            "Epoch [73/100] - Learning Rate: 0.015957\n"
          ]
        },
        {
          "output_type": "stream",
          "name": "stderr",
          "text": [
            "Training: 100%|██████████| 49/49 [05:44<00:00,  7.03s/it, loss=1.89, acc=48.4]\n"
          ]
        },
        {
          "output_type": "stream",
          "name": "stdout",
          "text": [
            "Train Loss: 1.8896, Train Acc: 48.43%, Test Loss: 1.6857, Test Acc: 54.26%, Time: 344.42s\n",
            "\n",
            "Epoch [74/100] - Learning Rate: 0.014913\n"
          ]
        },
        {
          "output_type": "stream",
          "name": "stderr",
          "text": [
            "Training: 100%|██████████| 49/49 [05:44<00:00,  7.04s/it, loss=1.88, acc=48.5]\n"
          ]
        },
        {
          "output_type": "stream",
          "name": "stdout",
          "text": [
            "Train Loss: 1.8829, Train Acc: 48.52%, Test Loss: 1.6524, Test Acc: 54.99%, Time: 344.79s\n",
            "\n",
            "Epoch [75/100] - Learning Rate: 0.013897\n"
          ]
        },
        {
          "output_type": "stream",
          "name": "stderr",
          "text": [
            "Training: 100%|██████████| 49/49 [05:43<00:00,  7.01s/it, loss=1.87, acc=49]\n"
          ]
        },
        {
          "output_type": "stream",
          "name": "stdout",
          "text": [
            "Train Loss: 1.8749, Train Acc: 48.98%, Test Loss: 1.6599, Test Acc: 54.81%, Time: 343.68s\n",
            "\n",
            "Epoch [76/100] - Learning Rate: 0.012909\n"
          ]
        },
        {
          "output_type": "stream",
          "name": "stderr",
          "text": [
            "Training: 100%|██████████| 49/49 [05:44<00:00,  7.03s/it, loss=1.85, acc=49.5]\n"
          ]
        },
        {
          "output_type": "stream",
          "name": "stdout",
          "text": [
            "Train Loss: 1.8522, Train Acc: 49.48%, Test Loss: 1.6470, Test Acc: 55.67%, Time: 344.71s\n",
            "New best model saved with accuracy: 55.67%\n",
            "\n",
            "Epoch [77/100] - Learning Rate: 0.011951\n"
          ]
        },
        {
          "output_type": "stream",
          "name": "stderr",
          "text": [
            "Training: 100%|██████████| 49/49 [05:43<00:00,  7.02s/it, loss=1.85, acc=49.4]\n"
          ]
        },
        {
          "output_type": "stream",
          "name": "stdout",
          "text": [
            "Train Loss: 1.8498, Train Acc: 49.44%, Test Loss: 1.6409, Test Acc: 55.37%, Time: 343.77s\n",
            "\n",
            "Epoch [78/100] - Learning Rate: 0.011023\n"
          ]
        },
        {
          "output_type": "stream",
          "name": "stderr",
          "text": [
            "Training: 100%|██████████| 49/49 [05:43<00:00,  7.02s/it, loss=1.84, acc=49.4]\n"
          ]
        },
        {
          "output_type": "stream",
          "name": "stdout",
          "text": [
            "Train Loss: 1.8428, Train Acc: 49.44%, Test Loss: 1.6429, Test Acc: 54.83%, Time: 343.96s\n",
            "\n",
            "Epoch [79/100] - Learning Rate: 0.010127\n"
          ]
        },
        {
          "output_type": "stream",
          "name": "stderr",
          "text": [
            "Training: 100%|██████████| 49/49 [05:46<00:00,  7.06s/it, loss=1.83, acc=50]\n"
          ]
        },
        {
          "output_type": "stream",
          "name": "stdout",
          "text": [
            "Train Loss: 1.8306, Train Acc: 50.03%, Test Loss: 1.6283, Test Acc: 55.66%, Time: 346.02s\n",
            "\n",
            "Epoch [80/100] - Learning Rate: 0.009264\n"
          ]
        },
        {
          "output_type": "stream",
          "name": "stderr",
          "text": [
            "Training: 100%|██████████| 49/49 [05:42<00:00,  6.98s/it, loss=1.82, acc=50.1]\n"
          ]
        },
        {
          "output_type": "stream",
          "name": "stdout",
          "text": [
            "Train Loss: 1.8175, Train Acc: 50.09%, Test Loss: 1.6286, Test Acc: 55.56%, Time: 342.06s\n",
            "\n",
            "Epoch [81/100] - Learning Rate: 0.008434\n"
          ]
        },
        {
          "output_type": "stream",
          "name": "stderr",
          "text": [
            "Training: 100%|██████████| 49/49 [05:44<00:00,  7.04s/it, loss=1.82, acc=49.9]\n"
          ]
        },
        {
          "output_type": "stream",
          "name": "stdout",
          "text": [
            "Train Loss: 1.8246, Train Acc: 49.87%, Test Loss: 1.6236, Test Acc: 55.77%, Time: 344.96s\n",
            "New best model saved with accuracy: 55.77%\n",
            "\n",
            "Epoch [82/100] - Learning Rate: 0.007639\n"
          ]
        },
        {
          "output_type": "stream",
          "name": "stderr",
          "text": [
            "Training: 100%|██████████| 49/49 [05:48<00:00,  7.11s/it, loss=1.81, acc=50.3]\n"
          ]
        },
        {
          "output_type": "stream",
          "name": "stdout",
          "text": [
            "Train Loss: 1.8133, Train Acc: 50.27%, Test Loss: 1.6141, Test Acc: 55.90%, Time: 348.39s\n",
            "New best model saved with accuracy: 55.90%\n",
            "\n",
            "Epoch [83/100] - Learning Rate: 0.006880\n"
          ]
        },
        {
          "output_type": "stream",
          "name": "stderr",
          "text": [
            "Training: 100%|██████████| 49/49 [05:44<00:00,  7.02s/it, loss=1.81, acc=50.1]\n"
          ]
        },
        {
          "output_type": "stream",
          "name": "stdout",
          "text": [
            "Train Loss: 1.8105, Train Acc: 50.12%, Test Loss: 1.6155, Test Acc: 55.63%, Time: 344.14s\n",
            "\n",
            "Epoch [84/100] - Learning Rate: 0.006156\n"
          ]
        },
        {
          "output_type": "stream",
          "name": "stderr",
          "text": [
            "Training: 100%|██████████| 49/49 [05:43<00:00,  7.01s/it, loss=1.82, acc=49.9]\n"
          ]
        },
        {
          "output_type": "stream",
          "name": "stdout",
          "text": [
            "Train Loss: 1.8166, Train Acc: 49.94%, Test Loss: 1.6128, Test Acc: 55.73%, Time: 343.28s\n",
            "\n",
            "Epoch [85/100] - Learning Rate: 0.005470\n"
          ]
        },
        {
          "output_type": "stream",
          "name": "stderr",
          "text": [
            "Training: 100%|██████████| 49/49 [05:44<00:00,  7.02s/it, loss=1.8, acc=50.6]\n"
          ]
        },
        {
          "output_type": "stream",
          "name": "stdout",
          "text": [
            "Train Loss: 1.8005, Train Acc: 50.59%, Test Loss: 1.6043, Test Acc: 56.03%, Time: 344.03s\n",
            "New best model saved with accuracy: 56.03%\n",
            "\n",
            "Epoch [86/100] - Learning Rate: 0.004821\n"
          ]
        },
        {
          "output_type": "stream",
          "name": "stderr",
          "text": [
            "Training: 100%|██████████| 49/49 [05:41<00:00,  6.96s/it, loss=1.8, acc=50.9]\n"
          ]
        },
        {
          "output_type": "stream",
          "name": "stdout",
          "text": [
            "Train Loss: 1.7998, Train Acc: 50.85%, Test Loss: 1.6170, Test Acc: 55.52%, Time: 341.10s\n",
            "\n",
            "Epoch [87/100] - Learning Rate: 0.004211\n"
          ]
        },
        {
          "output_type": "stream",
          "name": "stderr",
          "text": [
            "Training: 100%|██████████| 49/49 [05:41<00:00,  6.96s/it, loss=1.79, acc=50.7]\n"
          ]
        },
        {
          "output_type": "stream",
          "name": "stdout",
          "text": [
            "Train Loss: 1.7933, Train Acc: 50.72%, Test Loss: 1.6081, Test Acc: 56.12%, Time: 341.28s\n",
            "New best model saved with accuracy: 56.12%\n",
            "\n",
            "Epoch [88/100] - Learning Rate: 0.003640\n"
          ]
        },
        {
          "output_type": "stream",
          "name": "stderr",
          "text": [
            "Training: 100%|██████████| 49/49 [05:41<00:00,  6.97s/it, loss=1.79, acc=51.1]\n"
          ]
        },
        {
          "output_type": "stream",
          "name": "stdout",
          "text": [
            "Train Loss: 1.7858, Train Acc: 51.09%, Test Loss: 1.6014, Test Acc: 56.30%, Time: 341.59s\n",
            "New best model saved with accuracy: 56.30%\n",
            "\n",
            "Epoch [89/100] - Learning Rate: 0.003108\n"
          ]
        },
        {
          "output_type": "stream",
          "name": "stderr",
          "text": [
            "Training: 100%|██████████| 49/49 [05:47<00:00,  7.10s/it, loss=1.78, acc=51]\n"
          ]
        },
        {
          "output_type": "stream",
          "name": "stdout",
          "text": [
            "Train Loss: 1.7824, Train Acc: 51.01%, Test Loss: 1.6038, Test Acc: 56.19%, Time: 347.73s\n",
            "\n",
            "Epoch [90/100] - Learning Rate: 0.002617\n"
          ]
        },
        {
          "output_type": "stream",
          "name": "stderr",
          "text": [
            "Training: 100%|██████████| 49/49 [05:44<00:00,  7.02s/it, loss=1.78, acc=50.9]\n"
          ]
        },
        {
          "output_type": "stream",
          "name": "stdout",
          "text": [
            "Train Loss: 1.7754, Train Acc: 50.94%, Test Loss: 1.5968, Test Acc: 56.37%, Time: 344.04s\n",
            "New best model saved with accuracy: 56.37%\n",
            "\n",
            "Epoch [91/100] - Learning Rate: 0.002167\n"
          ]
        },
        {
          "output_type": "stream",
          "name": "stderr",
          "text": [
            "Training: 100%|██████████| 49/49 [05:44<00:00,  7.02s/it, loss=1.78, acc=51]\n"
          ]
        },
        {
          "output_type": "stream",
          "name": "stdout",
          "text": [
            "Train Loss: 1.7814, Train Acc: 50.99%, Test Loss: 1.5988, Test Acc: 56.19%, Time: 344.08s\n",
            "\n",
            "Epoch [92/100] - Learning Rate: 0.001759\n"
          ]
        },
        {
          "output_type": "stream",
          "name": "stderr",
          "text": [
            "Training: 100%|██████████| 49/49 [05:46<00:00,  7.07s/it, loss=1.78, acc=51]\n"
          ]
        },
        {
          "output_type": "stream",
          "name": "stdout",
          "text": [
            "Train Loss: 1.7755, Train Acc: 50.97%, Test Loss: 1.5957, Test Acc: 56.34%, Time: 346.41s\n",
            "\n",
            "Epoch [93/100] - Learning Rate: 0.001392\n"
          ]
        },
        {
          "output_type": "stream",
          "name": "stderr",
          "text": [
            "Training: 100%|██████████| 49/49 [05:45<00:00,  7.05s/it, loss=1.77, acc=51.3]\n"
          ]
        },
        {
          "output_type": "stream",
          "name": "stdout",
          "text": [
            "Train Loss: 1.7715, Train Acc: 51.35%, Test Loss: 1.5961, Test Acc: 56.14%, Time: 345.37s\n",
            "\n",
            "Epoch [94/100] - Learning Rate: 0.001067\n"
          ]
        },
        {
          "output_type": "stream",
          "name": "stderr",
          "text": [
            "Training: 100%|██████████| 49/49 [05:46<00:00,  7.08s/it, loss=1.77, acc=51.4]\n"
          ]
        },
        {
          "output_type": "stream",
          "name": "stdout",
          "text": [
            "Train Loss: 1.7666, Train Acc: 51.36%, Test Loss: 1.5939, Test Acc: 56.34%, Time: 346.74s\n",
            "\n",
            "Epoch [95/100] - Learning Rate: 0.000785\n"
          ]
        },
        {
          "output_type": "stream",
          "name": "stderr",
          "text": [
            "Training: 100%|██████████| 49/49 [05:44<00:00,  7.03s/it, loss=1.77, acc=51.2]\n"
          ]
        },
        {
          "output_type": "stream",
          "name": "stdout",
          "text": [
            "Train Loss: 1.7667, Train Acc: 51.15%, Test Loss: 1.5930, Test Acc: 56.49%, Time: 344.60s\n",
            "New best model saved with accuracy: 56.49%\n",
            "\n",
            "Epoch [96/100] - Learning Rate: 0.000546\n"
          ]
        },
        {
          "output_type": "stream",
          "name": "stderr",
          "text": [
            "Training: 100%|██████████| 49/49 [05:46<00:00,  7.07s/it, loss=1.77, acc=51.3]\n"
          ]
        },
        {
          "output_type": "stream",
          "name": "stdout",
          "text": [
            "Train Loss: 1.7709, Train Acc: 51.31%, Test Loss: 1.5924, Test Acc: 56.49%, Time: 346.34s\n",
            "\n",
            "Epoch [97/100] - Learning Rate: 0.000349\n"
          ]
        },
        {
          "output_type": "stream",
          "name": "stderr",
          "text": [
            "Training: 100%|██████████| 49/49 [05:45<00:00,  7.06s/it, loss=1.77, acc=51]\n"
          ]
        },
        {
          "output_type": "stream",
          "name": "stdout",
          "text": [
            "Train Loss: 1.7721, Train Acc: 51.05%, Test Loss: 1.5918, Test Acc: 56.49%, Time: 346.00s\n",
            "\n",
            "Epoch [98/100] - Learning Rate: 0.000197\n"
          ]
        },
        {
          "output_type": "stream",
          "name": "stderr",
          "text": [
            "Training: 100%|██████████| 49/49 [05:45<00:00,  7.04s/it, loss=1.76, acc=51.1]\n"
          ]
        },
        {
          "output_type": "stream",
          "name": "stdout",
          "text": [
            "Train Loss: 1.7630, Train Acc: 51.11%, Test Loss: 1.5913, Test Acc: 56.43%, Time: 345.13s\n",
            "\n",
            "Epoch [99/100] - Learning Rate: 0.000087\n"
          ]
        },
        {
          "output_type": "stream",
          "name": "stderr",
          "text": [
            "Training: 100%|██████████| 49/49 [05:46<00:00,  7.07s/it, loss=1.76, acc=51.3]\n"
          ]
        },
        {
          "output_type": "stream",
          "name": "stdout",
          "text": [
            "Train Loss: 1.7616, Train Acc: 51.29%, Test Loss: 1.5912, Test Acc: 56.54%, Time: 346.37s\n",
            "New best model saved with accuracy: 56.54%\n",
            "\n",
            "Epoch [100/100] - Learning Rate: 0.000022\n"
          ]
        },
        {
          "output_type": "stream",
          "name": "stderr",
          "text": [
            "Training: 100%|██████████| 49/49 [05:44<00:00,  7.04s/it, loss=1.77, acc=51.4]\n"
          ]
        },
        {
          "output_type": "stream",
          "name": "stdout",
          "text": [
            "Train Loss: 1.7664, Train Acc: 51.38%, Test Loss: 1.5913, Test Acc: 56.48%, Time: 344.98s\n",
            "Best model loaded with accuracy: 56.54%\n"
          ]
        },
        {
          "output_type": "display_data",
          "data": {
            "text/plain": [
              "<Figure size 1800x500 with 3 Axes>"
            ],
            "image/png": "[encoded data removed]"
          },
          "metadata": {}
        },
        {
          "output_type": "stream",
          "name": "stdout",
          "text": [
            "LARS benchmark completed!\n"
          ]
        }
      ],
      "source": [
        "import torch\n",
        "import torch.nn as nn\n",
        "import torchvision.transforms as transforms\n",
        "import torch.nn.functional as F\n",
        "from torchvision.datasets import CIFAR10, CIFAR100\n",
        "import torchvision.models as models\n",
        "from torch.utils.data import DataLoader\n",
        "\n",
        "from tqdm import tqdm\n",
        "import matplotlib.pyplot as plt\n",
        "import time\n",
        "import pickle\n",
        "import numpy as np\n",
        "import random\n",
        "\n",
        "from torch_optimizer import LARS\n",
        "\n",
        "import math\n",
        "\n",
        "print(\"PyTorch version:\", torch.__version__)\n",
        "device = torch.device(\"cuda:0\" if torch.cuda.is_available() else \"cpu\")\n",
        "print(f\"Using device: {device}\")\n",
        "\n",
        "# Seeding for reproducibility\n",
        "seed = 2025\n",
        "torch.manual_seed(seed)\n",
        "torch.cuda.manual_seed(seed)\n",
        "np.random.seed(seed)\n",
        "random.seed(seed)\n",
        "\n",
        "# transforms\n",
        "train_transform = transforms.Compose(\n",
        "    [\n",
        "        transforms.RandomCrop(32, padding=4),\n",
        "        transforms.RandomHorizontalFlip(),\n",
        "        transforms.ToTensor(),\n",
        "        transforms.Normalize((0.4914, 0.4822, 0.4465), (0.2023, 0.1994, 0.2010)),\n",
        "    ]\n",
        ")\n",
        "\n",
        "test_transform = transforms.Compose(\n",
        "    [\n",
        "        transforms.ToTensor(),\n",
        "        transforms.Normalize((0.4914, 0.4822, 0.4465), (0.2023, 0.1994, 0.2010)),\n",
        "    ]\n",
        ")\n",
        "\n",
        "\n",
        "# load data\n",
        "\n",
        "\n",
        "def load_data(dataset_name=\"cifar100\", batch_size=128, num_workers=2):\n",
        "    \"\"\"Enhanced data loading with stronger augmentation for CIFAR-100\"\"\"\n",
        "\n",
        "    # Better augmentation for CIFAR-100\n",
        "    train_transform = transforms.Compose(\n",
        "        [\n",
        "            transforms.RandomCrop(32, padding=4),\n",
        "            transforms.RandomHorizontalFlip(),\n",
        "            transforms.ToTensor(),\n",
        "            transforms.Normalize((0.4914, 0.4822, 0.4465), (0.2023, 0.1994, 0.2010)),\n",
        "        ]\n",
        "    )\n",
        "\n",
        "    test_transform = transforms.Compose(\n",
        "        [\n",
        "            transforms.ToTensor(),\n",
        "            transforms.Normalize((0.4914, 0.4822, 0.4465), (0.2023, 0.1994, 0.2010)),\n",
        "        ]\n",
        "    )\n",
        "\n",
        "    if dataset_name.lower() == \"cifar100\":\n",
        "        train_dataset = CIFAR100(\n",
        "            root=\"./data\", train=True, download=True, transform=train_transform\n",
        "        )\n",
        "        test_dataset = CIFAR100(\n",
        "            root=\"./data\", train=False, download=True, transform=test_transform\n",
        "        )\n",
        "        num_classes = 100\n",
        "    else:\n",
        "        raise ValueError(f\"Dataset {dataset_name} not supported in enhanced version\")\n",
        "\n",
        "    # Data loaders\n",
        "    train_loader = DataLoader(\n",
        "        train_dataset,\n",
        "        batch_size=batch_size,\n",
        "        shuffle=True,\n",
        "        num_workers=num_workers,\n",
        "    )\n",
        "\n",
        "    test_loader = DataLoader(\n",
        "        test_dataset,\n",
        "        batch_size=batch_size,\n",
        "        shuffle=False,\n",
        "        num_workers=num_workers,\n",
        "    )\n",
        "\n",
        "    return train_loader, test_loader, num_classes\n",
        "\n",
        "\n",
        "# model - LeNet5 from the paper [11]\n",
        "class LeNet5(nn.Module):\n",
        "    def __init__(self, num_classes=10):\n",
        "        super(LeNet5, self).__init__()\n",
        "        # Input: 3x32x32 (CIFAR has 3 color channels)\n",
        "        self.conv1 = nn.Conv2d(3, 6, kernel_size=5)  # Output: 6x28x28\n",
        "        self.pool1 = nn.MaxPool2d(kernel_size=2, stride=2)  # Output: 6x14x14\n",
        "        self.conv2 = nn.Conv2d(6, 16, kernel_size=5)  # Output: 16x10x10\n",
        "        self.pool2 = nn.MaxPool2d(kernel_size=2, stride=2)  # Output: 16x5x5\n",
        "\n",
        "        # fc layers\n",
        "        self.fc1 = nn.Linear(16 * 5 * 5, 120)\n",
        "        self.fc2 = nn.Linear(120, 84)\n",
        "        self.fc3 = nn.Linear(84, num_classes)\n",
        "\n",
        "    def forward(self, x):\n",
        "        x = self.pool1(F.relu(self.conv1(x)))\n",
        "        x = self.pool2(F.relu(self.conv2(x)))\n",
        "        x = x.view(-1, 16 * 5 * 5)  # flatten\n",
        "        x = F.relu(self.fc1(x))\n",
        "        x = F.relu(self.fc2(x))\n",
        "        x = self.fc3(x)\n",
        "        return x\n",
        "\n",
        "\n",
        "class ImprovedCNN(nn.Module):\n",
        "    def __init__(self, num_classes=100):\n",
        "        super(ImprovedCNN, self).__init__()\n",
        "        # First conv block\n",
        "        self.conv1 = nn.Conv2d(3, 64, kernel_size=5, padding=2)\n",
        "        self.bn1 = nn.BatchNorm2d(64)  # using BatchNorm for better training stability\n",
        "        self.pool1 = nn.MaxPool2d(kernel_size=2, stride=2)\n",
        "\n",
        "        # Second conv block\n",
        "        self.conv2 = nn.Conv2d(64, 64, kernel_size=5, padding=2)\n",
        "        self.bn2 = nn.BatchNorm2d(64)\n",
        "        self.pool2 = nn.MaxPool2d(kernel_size=2, stride=2)\n",
        "\n",
        "        # Fully connected layers\n",
        "        self.fc1 = nn.Linear(64 * 8 * 8, 384)\n",
        "        self.dropout1 = nn.Dropout(0.5)\n",
        "        self.fc2 = nn.Linear(384, 192)\n",
        "        self.dropout2 = nn.Dropout(0.5)\n",
        "        self.fc3 = nn.Linear(192, num_classes)\n",
        "\n",
        "    def forward(self, x):\n",
        "        # First conv block\n",
        "        x = self.pool1(F.relu(self.bn1(self.conv1(x))))\n",
        "\n",
        "        # Second conv block\n",
        "        x = self.pool2(F.relu(self.bn2(self.conv2(x))))\n",
        "\n",
        "        # Flatten and fully connected layers\n",
        "        x = x.view(-1, 64 * 8 * 8)\n",
        "        x = F.relu(self.fc1(x))\n",
        "        x = self.dropout1(x)\n",
        "        x = F.relu(self.fc2(x))\n",
        "        x = self.dropout2(x)\n",
        "        x = self.fc3(x)\n",
        "\n",
        "        return x\n",
        "\n",
        "\n",
        "def create_model(model_name, num_classes=100):\n",
        "    if model_name.lower() == \"improved_cnn\":\n",
        "        return ImprovedCNN(num_classes=num_classes)\n",
        "    elif model_name.lower() == \"lenet5\":\n",
        "        return LeNet5(num_classes=num_classes)\n",
        "    else:\n",
        "        raise ValueError(f\"Unknown model: {model_name}\")\n",
        "\n",
        "\n",
        "# train\n",
        "def train_epoch(model, train_loader, criterion, optimizer, device):\n",
        "    model.train()\n",
        "    running_loss = 0.0\n",
        "    correct = 0\n",
        "    total = 0\n",
        "\n",
        "    pbar = tqdm(train_loader, desc=\"Training\")\n",
        "\n",
        "    for inputs, labels in pbar:\n",
        "        inputs, labels = inputs.to(device), labels.to(device)\n",
        "\n",
        "        optimizer.zero_grad()\n",
        "        outputs = model(inputs)\n",
        "        loss = criterion(outputs, labels)\n",
        "        loss.backward()\n",
        "        optimizer.step()\n",
        "\n",
        "        running_loss += loss.item() * inputs.size(0)\n",
        "        _, predicted = outputs.max(1)\n",
        "        total += labels.size(0)\n",
        "        correct += predicted.eq(labels).sum().item()\n",
        "\n",
        "        # just a progress bar\n",
        "        pbar.set_postfix({\"loss\": running_loss / total, \"acc\": 100.0 * correct / total})\n",
        "\n",
        "    train_loss = running_loss / total\n",
        "    train_acc = 100.0 * correct / total\n",
        "\n",
        "    return train_loss, train_acc\n",
        "\n",
        "\n",
        "# eval\n",
        "def evaluate(model, test_loader, criterion, device):\n",
        "    model.eval()\n",
        "    running_loss = 0.0\n",
        "    correct = 0\n",
        "    total = 0\n",
        "\n",
        "    with torch.no_grad():\n",
        "        for inputs, labels in test_loader:\n",
        "            inputs, labels = inputs.to(device), labels.to(device)\n",
        "\n",
        "            outputs = model(inputs)\n",
        "            loss = criterion(outputs, labels)\n",
        "\n",
        "            running_loss += loss.item() * inputs.size(0)\n",
        "            _, predicted = outputs.max(1)\n",
        "            total += labels.size(0)\n",
        "            correct += predicted.eq(labels).sum().item()\n",
        "\n",
        "    test_loss = running_loss / total\n",
        "    test_acc = 100.0 * correct / total\n",
        "\n",
        "    return test_loss, test_acc\n",
        "\n",
        "\n",
        "# train config\n",
        "def train_centralized_model(\n",
        "    model_name=\"improved_cnn\",\n",
        "    dataset_name=\"cifar100\",\n",
        "    batch_size=1024,\n",
        "    epochs=100,\n",
        "    lr=0.01,\n",
        "    momentum=0.9,\n",
        "    weight_decay=4e-4,\n",
        "    lr_scheduler=\"lars\",\n",
        "    save_path=\"improved_cnn_model.pth\",\n",
        "):\n",
        "    # Load data\n",
        "    train_loader, test_loader, num_classes = load_data(\n",
        "        dataset_name=dataset_name, batch_size=batch_size\n",
        "    )\n",
        "\n",
        "    # Create model\n",
        "    model = create_model(model_name, num_classes=num_classes)\n",
        "    model = model.to(device)\n",
        "\n",
        "    # Print model parameters\n",
        "    total_params = sum(p.numel() for p in model.parameters())\n",
        "    print(f\"Total parameters: {total_params:,}\")\n",
        "\n",
        "    # Define loss function and optimizer\n",
        "    criterion = nn.CrossEntropyLoss()\n",
        "\n",
        "    scaled_lr = lr * (batch_size / 128)    # linear‐scaling rule\n",
        "\n",
        "    decay_params   = []\n",
        "    no_decay_params = []\n",
        "    for name, param in model.named_parameters():\n",
        "        if not param.requires_grad:\n",
        "            continue\n",
        "        # any 1-D param (bias, BatchNorm weight, etc.) => no decay\n",
        "        if param.ndim == 1:\n",
        "            no_decay_params.append(param)\n",
        "        else:\n",
        "            decay_params.append(param)\n",
        "\n",
        "    optimizer = LARS(\n",
        "        [\n",
        "            {'params': decay_params,    'weight_decay': weight_decay},\n",
        "            {'params': no_decay_params, 'weight_decay': 0.0}\n",
        "        ],\n",
        "        lr=scaled_lr,\n",
        "        momentum=momentum,\n",
        "        # set the *global* default decay to 0, since we've handled it per-group:\n",
        "        weight_decay=0.0,\n",
        "        trust_coefficient=0.05\n",
        "    )\n",
        "\n",
        "    # lr\n",
        "    if lr_scheduler == \"lars\":\n",
        "        warmup_epochs = 5\n",
        "        def lr_lambda(epoch):\n",
        "            # linear warmup\n",
        "            if epoch < warmup_epochs:\n",
        "                return float(epoch + 1) / float(warmup_epochs)\n",
        "            # then cosine decay\n",
        "            return 0.5 * (\n",
        "                1.0\n",
        "                + math.cos(\n",
        "                    math.pi * (epoch - warmup_epochs) / (epochs - warmup_epochs)\n",
        "                )\n",
        "            )\n",
        "\n",
        "        scheduler = torch.optim.lr_scheduler.LambdaLR(optimizer, lr_lambda)\n",
        "    elif lr_scheduler == \"step\":\n",
        "        scheduler = torch.optim.lr_scheduler.MultiStepLR(\n",
        "            optimizer,\n",
        "            milestones=[int(epochs * 0.5), int(epochs * 0.75)],\n",
        "            gamma=0.1\n",
        "        )\n",
        "    else:\n",
        "        raise ValueError(f\"Unknown scheduler: {lr_scheduler}\")\n",
        "\n",
        "    # Training history\n",
        "    history = {\n",
        "        \"train_loss\": [],\n",
        "        \"train_acc\": [],\n",
        "        \"test_loss\": [],\n",
        "        \"test_acc\": [],\n",
        "        \"lr\": [],\n",
        "    }\n",
        "\n",
        "    # Track best accuracy\n",
        "    best_acc = 0.0\n",
        "\n",
        "    # Training loop\n",
        "    for epoch in range(epochs):\n",
        "        current_lr = optimizer.param_groups[0][\"lr\"]\n",
        "        print(f\"\\nEpoch [{epoch + 1}/{epochs}] - Learning Rate: {current_lr:.6f}\")\n",
        "\n",
        "        # Training for one epoch\n",
        "        start_time = time.time()\n",
        "        train_loss, train_acc = train_epoch(\n",
        "            model, train_loader, criterion, optimizer, device\n",
        "        )\n",
        "        train_time = time.time() - start_time\n",
        "\n",
        "        # Evaluate on test set\n",
        "        test_loss, test_acc = evaluate(model, test_loader, criterion, device)\n",
        "\n",
        "        # Step learning rate scheduler\n",
        "        scheduler.step()\n",
        "\n",
        "        # Print statistics\n",
        "        print(\n",
        "            f\"Train Loss: {train_loss:.4f}, Train Acc: {train_acc:.2f}%, \"\n",
        "            f\"Test Loss: {test_loss:.4f}, Test Acc: {test_acc:.2f}%, \"\n",
        "            f\"Time: {train_time:.2f}s\"\n",
        "        )\n",
        "\n",
        "        # Save best model\n",
        "        if test_acc > best_acc:\n",
        "            best_acc = test_acc\n",
        "            torch.save(\n",
        "                {\n",
        "                    \"epoch\": epoch,\n",
        "                    \"model_state_dict\": model.state_dict(),\n",
        "                    \"optimizer_state_dict\": optimizer.state_dict(),\n",
        "                    \"test_acc\": test_acc,\n",
        "                },\n",
        "                save_path,\n",
        "            )\n",
        "            print(f\"New best model saved with accuracy: {test_acc:.2f}%\")\n",
        "\n",
        "        # Update history\n",
        "        history[\"train_loss\"].append(train_loss)\n",
        "        history[\"train_acc\"].append(train_acc)\n",
        "        history[\"test_loss\"].append(test_loss)\n",
        "        history[\"test_acc\"].append(test_acc)\n",
        "        history[\"lr\"].append(current_lr)\n",
        "\n",
        "    # Load best model\n",
        "    checkpoint = torch.load(save_path)\n",
        "    model.load_state_dict(checkpoint[\"model_state_dict\"])\n",
        "    print(f\"Best model loaded with accuracy: {checkpoint['test_acc']:.2f}%\")\n",
        "\n",
        "    return model, history\n",
        "\n",
        "\n",
        "# visualization of model performance\n",
        "def plot_training_history(history):\n",
        "    fig, (ax1, ax2, ax3) = plt.subplots(1, 3, figsize=(18, 5))\n",
        "\n",
        "    # plot the loss\n",
        "    ax1.plot(history[\"train_loss\"], label=\"Train Loss\")\n",
        "    ax1.plot(history[\"test_loss\"], label=\"Test Loss\")\n",
        "    ax1.set_xlabel(\"Epoch\")\n",
        "    ax1.set_ylabel(\"Loss\")\n",
        "    ax1.legend()\n",
        "    ax1.set_title(\"Loss Curves\")\n",
        "    ax1.grid(True)\n",
        "\n",
        "    # plot accuracy\n",
        "    ax2.plot(history[\"train_acc\"], label=\"Train Accuracy\")\n",
        "    ax2.plot(history[\"test_acc\"], label=\"Test Accuracy\")\n",
        "    ax2.set_xlabel(\"Epoch\")\n",
        "    ax2.set_ylabel(\"Accuracy (%)\")\n",
        "    ax2.legend()\n",
        "    ax2.set_title(\"Accuracy Curves\")\n",
        "    ax2.grid(True)\n",
        "\n",
        "    # plot learning rate\n",
        "    ax3.plot(history[\"lr\"])\n",
        "    ax3.set_xlabel(\"Epoch\")\n",
        "    ax3.set_ylabel(\"Learning Rate\")\n",
        "    ax3.set_title(\"Learning Rate Schedule\")\n",
        "    ax3.set_yscale(\"log\")\n",
        "    ax3.grid(True)\n",
        "\n",
        "    plt.tight_layout()\n",
        "    plt.show()\n",
        "\n",
        "\n",
        "# run benchmark\n",
        "def run_centralized_benchmark():\n",
        "    # LeNet5 config\n",
        "    config = {\n",
        "        \"model_name\": \"improved_cnn\",\n",
        "        \"dataset_name\": \"cifar100\",\n",
        "        \"batch_size\": 1024,\n",
        "        \"epochs\": 100,\n",
        "        \"lr\": 0.01,\n",
        "        \"momentum\": 0.9,\n",
        "        \"weight_decay\": 4e-4,\n",
        "        \"lr_scheduler\": \"lars\",\n",
        "        \"save_path\": \"improved_cnn_model.pth\",\n",
        "    }\n",
        "\n",
        "    print(\n",
        "        f\"Running LARS benchmark with {config['model_name']} on {config['dataset_name']}...\"\n",
        "    )\n",
        "\n",
        "    # Train model\n",
        "    model, history = train_centralized_model(**config)\n",
        "\n",
        "    # Plot results\n",
        "    plot_training_history(history)\n",
        "\n",
        "    # Save history\n",
        "    with open(\"lenet5_history.pkl\", \"wb\") as f:\n",
        "        pickle.dump(history, f)\n",
        "\n",
        "    print(\"LARS benchmark completed!\")\n",
        "\n",
        "    return model, history\n",
        "\n",
        "\n",
        "def main():\n",
        "    model, history = run_centralized_benchmark()\n",
        "    return model, history\n",
        "\n",
        "\n",
        "if __name__ == \"__main__\":\n",
        "    main()\n",
        "\n"
      ]
    }
  ]
}