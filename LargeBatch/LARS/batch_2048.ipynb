{
  "nbformat": 4,
  "nbformat_minor": 0,
  "metadata": {
    "colab": {
      "provenance": [],
      "gpuType": "T4",
      "include_colab_link": true
    },
    "kernelspec": {
      "name": "python3",
      "display_name": "Python 3"
    },
    "language_info": {
      "name": "python"
    },
    "accelerator": "GPU"
  },
  "cells": [
    {
      "cell_type": "markdown",
      "metadata": {
        "id": "view-in-github",
        "colab_type": "text"
      },
      "source": [
        "<a href=\"https://colab.research.google.com/github/Zurehma/AML_Project/blob/main/LargeBatch/LARS/batch_2048.ipynb\" target=\"_parent\"><img src=\"https://colab.research.google.com/assets/colab-badge.svg\" alt=\"Open In Colab\"/></a>"
      ]
    },
    {
      "cell_type": "code",
      "execution_count": null,
      "metadata": {
        "collapsed": true,
        "id": "PTNLTKDyXbgw"
      },
      "outputs": [],
      "source": [
        "!pip install torch-optimizer\n"
      ]
    },
    {
      "cell_type": "code",
      "source": [
        "import torch\n",
        "import torch.nn as nn\n",
        "import torchvision.transforms as transforms\n",
        "import torch.nn.functional as F\n",
        "from torchvision.datasets import CIFAR10, CIFAR100\n",
        "import torchvision.models as models\n",
        "from torch.utils.data import DataLoader\n",
        "\n",
        "from tqdm import tqdm\n",
        "import matplotlib.pyplot as plt\n",
        "import time\n",
        "import pickle\n",
        "import numpy as np\n",
        "import random\n",
        "\n",
        "from torch_optimizer import LARS\n",
        "\n",
        "import math\n",
        "\n",
        "print(\"PyTorch version:\", torch.__version__)\n",
        "device = torch.device(\"cuda:0\" if torch.cuda.is_available() else \"cpu\")\n",
        "print(f\"Using device: {device}\")\n",
        "\n",
        "# Seeding for reproducibility\n",
        "seed = 2025\n",
        "torch.manual_seed(seed)\n",
        "torch.cuda.manual_seed(seed)\n",
        "np.random.seed(seed)\n",
        "random.seed(seed)\n",
        "\n",
        "# transforms\n",
        "train_transform = transforms.Compose(\n",
        "    [\n",
        "        transforms.RandomCrop(32, padding=4),\n",
        "        transforms.RandomHorizontalFlip(),\n",
        "        transforms.ToTensor(),\n",
        "        transforms.Normalize((0.4914, 0.4822, 0.4465), (0.2023, 0.1994, 0.2010)),\n",
        "    ]\n",
        ")\n",
        "\n",
        "test_transform = transforms.Compose(\n",
        "    [\n",
        "        transforms.ToTensor(),\n",
        "        transforms.Normalize((0.4914, 0.4822, 0.4465), (0.2023, 0.1994, 0.2010)),\n",
        "    ]\n",
        ")\n",
        "\n",
        "\n",
        "# load data\n",
        "\n",
        "\n",
        "def load_data(dataset_name=\"cifar100\", batch_size=128, num_workers=2):\n",
        "    \"\"\"Enhanced data loading with stronger augmentation for CIFAR-100\"\"\"\n",
        "\n",
        "    # Better augmentation for CIFAR-100\n",
        "    train_transform = transforms.Compose(\n",
        "        [\n",
        "            transforms.RandomCrop(32, padding=4),\n",
        "            transforms.RandomHorizontalFlip(),\n",
        "            transforms.ToTensor(),\n",
        "            transforms.Normalize((0.4914, 0.4822, 0.4465), (0.2023, 0.1994, 0.2010)),\n",
        "        ]\n",
        "    )\n",
        "\n",
        "    test_transform = transforms.Compose(\n",
        "        [\n",
        "            transforms.ToTensor(),\n",
        "            transforms.Normalize((0.4914, 0.4822, 0.4465), (0.2023, 0.1994, 0.2010)),\n",
        "        ]\n",
        "    )\n",
        "\n",
        "    if dataset_name.lower() == \"cifar100\":\n",
        "        train_dataset = CIFAR100(\n",
        "            root=\"./data\", train=True, download=True, transform=train_transform\n",
        "        )\n",
        "        test_dataset = CIFAR100(\n",
        "            root=\"./data\", train=False, download=True, transform=test_transform\n",
        "        )\n",
        "        num_classes = 100\n",
        "    else:\n",
        "        raise ValueError(f\"Dataset {dataset_name} not supported in enhanced version\")\n",
        "\n",
        "    # Data loaders\n",
        "    train_loader = DataLoader(\n",
        "        train_dataset,\n",
        "        batch_size=batch_size,\n",
        "        shuffle=True,\n",
        "        num_workers=num_workers,\n",
        "    )\n",
        "\n",
        "    test_loader = DataLoader(\n",
        "        test_dataset,\n",
        "        batch_size=batch_size,\n",
        "        shuffle=False,\n",
        "        num_workers=num_workers,\n",
        "    )\n",
        "\n",
        "    return train_loader, test_loader, num_classes\n",
        "\n",
        "\n",
        "# model - LeNet5 from the paper [11]\n",
        "class LeNet5(nn.Module):\n",
        "    def __init__(self, num_classes=10):\n",
        "        super(LeNet5, self).__init__()\n",
        "        # Input: 3x32x32 (CIFAR has 3 color channels)\n",
        "        self.conv1 = nn.Conv2d(3, 6, kernel_size=5)  # Output: 6x28x28\n",
        "        self.pool1 = nn.MaxPool2d(kernel_size=2, stride=2)  # Output: 6x14x14\n",
        "        self.conv2 = nn.Conv2d(6, 16, kernel_size=5)  # Output: 16x10x10\n",
        "        self.pool2 = nn.MaxPool2d(kernel_size=2, stride=2)  # Output: 16x5x5\n",
        "\n",
        "        # fc layers\n",
        "        self.fc1 = nn.Linear(16 * 5 * 5, 120)\n",
        "        self.fc2 = nn.Linear(120, 84)\n",
        "        self.fc3 = nn.Linear(84, num_classes)\n",
        "\n",
        "    def forward(self, x):\n",
        "        x = self.pool1(F.relu(self.conv1(x)))\n",
        "        x = self.pool2(F.relu(self.conv2(x)))\n",
        "        x = x.view(-1, 16 * 5 * 5)  # flatten\n",
        "        x = F.relu(self.fc1(x))\n",
        "        x = F.relu(self.fc2(x))\n",
        "        x = self.fc3(x)\n",
        "        return x\n",
        "\n",
        "\n",
        "class ImprovedCNN(nn.Module):\n",
        "    def __init__(self, num_classes=100):\n",
        "        super(ImprovedCNN, self).__init__()\n",
        "        # First conv block\n",
        "        self.conv1 = nn.Conv2d(3, 64, kernel_size=5, padding=2)\n",
        "        self.bn1 = nn.BatchNorm2d(64)  # using BatchNorm for better training stability\n",
        "        self.pool1 = nn.MaxPool2d(kernel_size=2, stride=2)\n",
        "\n",
        "        # Second conv block\n",
        "        self.conv2 = nn.Conv2d(64, 64, kernel_size=5, padding=2)\n",
        "        self.bn2 = nn.BatchNorm2d(64)\n",
        "        self.pool2 = nn.MaxPool2d(kernel_size=2, stride=2)\n",
        "\n",
        "        # Fully connected layers\n",
        "        self.fc1 = nn.Linear(64 * 8 * 8, 384)\n",
        "        self.dropout1 = nn.Dropout(0.5)\n",
        "        self.fc2 = nn.Linear(384, 192)\n",
        "        self.dropout2 = nn.Dropout(0.5)\n",
        "        self.fc3 = nn.Linear(192, num_classes)\n",
        "\n",
        "    def forward(self, x):\n",
        "        # First conv block\n",
        "        x = self.pool1(F.relu(self.bn1(self.conv1(x))))\n",
        "\n",
        "        # Second conv block\n",
        "        x = self.pool2(F.relu(self.bn2(self.conv2(x))))\n",
        "\n",
        "        # Flatten and fully connected layers\n",
        "        x = x.view(-1, 64 * 8 * 8)\n",
        "        x = F.relu(self.fc1(x))\n",
        "        x = self.dropout1(x)\n",
        "        x = F.relu(self.fc2(x))\n",
        "        x = self.dropout2(x)\n",
        "        x = self.fc3(x)\n",
        "\n",
        "        return x\n",
        "\n",
        "\n",
        "def create_model(model_name, num_classes=100):\n",
        "    if model_name.lower() == \"improved_cnn\":\n",
        "        return ImprovedCNN(num_classes=num_classes)\n",
        "    elif model_name.lower() == \"lenet5\":\n",
        "        return LeNet5(num_classes=num_classes)\n",
        "    else:\n",
        "        raise ValueError(f\"Unknown model: {model_name}\")\n",
        "\n",
        "\n",
        "# train\n",
        "def train_epoch(model, train_loader, criterion, optimizer, device):\n",
        "    model.train()\n",
        "    running_loss = 0.0\n",
        "    correct = 0\n",
        "    total = 0\n",
        "\n",
        "    pbar = tqdm(train_loader, desc=\"Training\")\n",
        "\n",
        "    for inputs, labels in pbar:\n",
        "        inputs, labels = inputs.to(device), labels.to(device)\n",
        "\n",
        "        optimizer.zero_grad()\n",
        "        outputs = model(inputs)\n",
        "        loss = criterion(outputs, labels)\n",
        "        loss.backward()\n",
        "        optimizer.step()\n",
        "\n",
        "        running_loss += loss.item() * inputs.size(0)\n",
        "        _, predicted = outputs.max(1)\n",
        "        total += labels.size(0)\n",
        "        correct += predicted.eq(labels).sum().item()\n",
        "\n",
        "        # just a progress bar\n",
        "        pbar.set_postfix({\"loss\": running_loss / total, \"acc\": 100.0 * correct / total})\n",
        "\n",
        "    train_loss = running_loss / total\n",
        "    train_acc = 100.0 * correct / total\n",
        "\n",
        "    return train_loss, train_acc\n",
        "\n",
        "\n",
        "# eval\n",
        "def evaluate(model, test_loader, criterion, device):\n",
        "    model.eval()\n",
        "    running_loss = 0.0\n",
        "    correct = 0\n",
        "    total = 0\n",
        "\n",
        "    with torch.no_grad():\n",
        "        for inputs, labels in test_loader:\n",
        "            inputs, labels = inputs.to(device), labels.to(device)\n",
        "\n",
        "            outputs = model(inputs)\n",
        "            loss = criterion(outputs, labels)\n",
        "\n",
        "            running_loss += loss.item() * inputs.size(0)\n",
        "            _, predicted = outputs.max(1)\n",
        "            total += labels.size(0)\n",
        "            correct += predicted.eq(labels).sum().item()\n",
        "\n",
        "    test_loss = running_loss / total\n",
        "    test_acc = 100.0 * correct / total\n",
        "\n",
        "    return test_loss, test_acc\n",
        "\n",
        "\n",
        "# train config\n",
        "def train_centralized_model(\n",
        "    model_name=\"improved_cnn\",\n",
        "    dataset_name=\"cifar100\",\n",
        "    batch_size=2048,\n",
        "    epochs=100,\n",
        "    lr=0.01,\n",
        "    momentum=0.9,\n",
        "    weight_decay=4e-4,\n",
        "    lr_scheduler=\"lars\",\n",
        "    save_path=\"improved_cnn_model.pth\",\n",
        "):\n",
        "    # Load data\n",
        "    train_loader, test_loader, num_classes = load_data(\n",
        "        dataset_name=dataset_name, batch_size=batch_size\n",
        "    )\n",
        "\n",
        "    # Create model\n",
        "    model = create_model(model_name, num_classes=num_classes)\n",
        "    model = model.to(device)\n",
        "\n",
        "    # Print model parameters\n",
        "    total_params = sum(p.numel() for p in model.parameters())\n",
        "    print(f\"Total parameters: {total_params:,}\")\n",
        "\n",
        "    # Define loss function and optimizer\n",
        "    criterion = nn.CrossEntropyLoss()\n",
        "\n",
        "    scaled_lr = lr * (batch_size / 128)    # linear‐scaling rule\n",
        "\n",
        "    decay_params   = []\n",
        "    no_decay_params = []\n",
        "    for name, param in model.named_parameters():\n",
        "        if not param.requires_grad:\n",
        "            continue\n",
        "        # any 1-D param (bias, BatchNorm weight, etc.) => no decay\n",
        "        if param.ndim == 1:\n",
        "            no_decay_params.append(param)\n",
        "        else:\n",
        "            decay_params.append(param)\n",
        "\n",
        "    optimizer = LARS(\n",
        "        [\n",
        "            {'params': decay_params,    'weight_decay': weight_decay},\n",
        "            {'params': no_decay_params, 'weight_decay': 0.0}\n",
        "        ],\n",
        "        lr=scaled_lr,\n",
        "        momentum=momentum,\n",
        "        # set the *global* default decay to 0, since we've handled it per-group:\n",
        "        weight_decay=0.0,\n",
        "        trust_coefficient=0.05\n",
        "    )\n",
        "\n",
        "    # lr\n",
        "    if lr_scheduler == \"lars\":\n",
        "        warmup_epochs = 5\n",
        "        def lr_lambda(epoch):\n",
        "            # linear warmup\n",
        "            if epoch < warmup_epochs:\n",
        "                return float(epoch + 1) / float(warmup_epochs)\n",
        "            # then cosine decay\n",
        "            return 0.5 * (\n",
        "                1.0\n",
        "                + math.cos(\n",
        "                    math.pi * (epoch - warmup_epochs) / (epochs - warmup_epochs)\n",
        "                )\n",
        "            )\n",
        "\n",
        "        scheduler = torch.optim.lr_scheduler.LambdaLR(optimizer, lr_lambda)\n",
        "    elif lr_scheduler == \"step\":\n",
        "        scheduler = torch.optim.lr_scheduler.MultiStepLR(\n",
        "            optimizer,\n",
        "            milestones=[int(epochs * 0.5), int(epochs * 0.75)],\n",
        "            gamma=0.1\n",
        "        )\n",
        "    else:\n",
        "        raise ValueError(f\"Unknown scheduler: {lr_scheduler}\")\n",
        "\n",
        "    # Training history\n",
        "    history = {\n",
        "        \"train_loss\": [],\n",
        "        \"train_acc\": [],\n",
        "        \"test_loss\": [],\n",
        "        \"test_acc\": [],\n",
        "        \"lr\": [],\n",
        "    }\n",
        "\n",
        "    # Track best accuracy\n",
        "    best_acc = 0.0\n",
        "\n",
        "    # Training loop\n",
        "    for epoch in range(epochs):\n",
        "        current_lr = optimizer.param_groups[0][\"lr\"]\n",
        "        print(f\"\\nEpoch [{epoch + 1}/{epochs}] - Learning Rate: {current_lr:.6f}\")\n",
        "\n",
        "        # Training for one epoch\n",
        "        start_time = time.time()\n",
        "        train_loss, train_acc = train_epoch(\n",
        "            model, train_loader, criterion, optimizer, device\n",
        "        )\n",
        "        train_time = time.time() - start_time\n",
        "\n",
        "        # Evaluate on test set\n",
        "        test_loss, test_acc = evaluate(model, test_loader, criterion, device)\n",
        "\n",
        "        # Step learning rate scheduler\n",
        "        scheduler.step()\n",
        "\n",
        "        # Print statistics\n",
        "        print(\n",
        "            f\"Train Loss: {train_loss:.4f}, Train Acc: {train_acc:.2f}%, \"\n",
        "            f\"Test Loss: {test_loss:.4f}, Test Acc: {test_acc:.2f}%, \"\n",
        "            f\"Time: {train_time:.2f}s\"\n",
        "        )\n",
        "\n",
        "        # Save best model\n",
        "        if test_acc > best_acc:\n",
        "            best_acc = test_acc\n",
        "            torch.save(\n",
        "                {\n",
        "                    \"epoch\": epoch,\n",
        "                    \"model_state_dict\": model.state_dict(),\n",
        "                    \"optimizer_state_dict\": optimizer.state_dict(),\n",
        "                    \"test_acc\": test_acc,\n",
        "                },\n",
        "                save_path,\n",
        "            )\n",
        "            print(f\"New best model saved with accuracy: {test_acc:.2f}%\")\n",
        "\n",
        "        # Update history\n",
        "        history[\"train_loss\"].append(train_loss)\n",
        "        history[\"train_acc\"].append(train_acc)\n",
        "        history[\"test_loss\"].append(test_loss)\n",
        "        history[\"test_acc\"].append(test_acc)\n",
        "        history[\"lr\"].append(current_lr)\n",
        "\n",
        "    # Load best model\n",
        "    checkpoint = torch.load(save_path)\n",
        "    model.load_state_dict(checkpoint[\"model_state_dict\"])\n",
        "    print(f\"Best model loaded with accuracy: {checkpoint['test_acc']:.2f}%\")\n",
        "\n",
        "    return model, history\n",
        "\n",
        "\n",
        "# visualization of model performance\n",
        "def plot_training_history(history):\n",
        "    fig, (ax1, ax2, ax3) = plt.subplots(1, 3, figsize=(18, 5))\n",
        "\n",
        "    # plot the loss\n",
        "    ax1.plot(history[\"train_loss\"], label=\"Train Loss\")\n",
        "    ax1.plot(history[\"test_loss\"], label=\"Test Loss\")\n",
        "    ax1.set_xlabel(\"Epoch\")\n",
        "    ax1.set_ylabel(\"Loss\")\n",
        "    ax1.legend()\n",
        "    ax1.set_title(\"Loss Curves\")\n",
        "    ax1.grid(True)\n",
        "\n",
        "    # plot accuracy\n",
        "    ax2.plot(history[\"train_acc\"], label=\"Train Accuracy\")\n",
        "    ax2.plot(history[\"test_acc\"], label=\"Test Accuracy\")\n",
        "    ax2.set_xlabel(\"Epoch\")\n",
        "    ax2.set_ylabel(\"Accuracy (%)\")\n",
        "    ax2.legend()\n",
        "    ax2.set_title(\"Accuracy Curves\")\n",
        "    ax2.grid(True)\n",
        "\n",
        "    # plot learning rate\n",
        "    ax3.plot(history[\"lr\"])\n",
        "    ax3.set_xlabel(\"Epoch\")\n",
        "    ax3.set_ylabel(\"Learning Rate\")\n",
        "    ax3.set_title(\"Learning Rate Schedule\")\n",
        "    ax3.set_yscale(\"log\")\n",
        "    ax3.grid(True)\n",
        "\n",
        "    plt.tight_layout()\n",
        "    plt.show()\n",
        "\n",
        "\n",
        "# run benchmark\n",
        "def run_centralized_benchmark():\n",
        "    # LeNet5 config\n",
        "    config = {\n",
        "        \"model_name\": \"improved_cnn\",\n",
        "        \"dataset_name\": \"cifar100\",\n",
        "        \"batch_size\": 2048,\n",
        "        \"epochs\": 100,\n",
        "        \"lr\": 0.01,\n",
        "        \"momentum\": 0.9,\n",
        "        \"weight_decay\": 4e-4,\n",
        "        \"lr_scheduler\": \"lars\",\n",
        "        \"save_path\": \"improved_cnn_model.pth\",\n",
        "    }\n",
        "\n",
        "    print(\n",
        "        f\"Running LARS benchmark with {config['model_name']} on {config['dataset_name']}...\"\n",
        "    )\n",
        "\n",
        "    # Train model\n",
        "    model, history = train_centralized_model(**config)\n",
        "\n",
        "    # Plot results\n",
        "    plot_training_history(history)\n",
        "\n",
        "    # Save history\n",
        "    with open(\"lenet5_history.pkl\", \"wb\") as f:\n",
        "        pickle.dump(history, f)\n",
        "\n",
        "    print(\"LARS benchmark completed!\")\n",
        "\n",
        "    return model, history\n",
        "\n",
        "\n",
        "def main():\n",
        "    model, history = run_centralized_benchmark()\n",
        "    return model, history\n",
        "\n",
        "\n",
        "if __name__ == \"__main__\":\n",
        "    main()\n",
        "\n"
      ],
      "metadata": {
        "colab": {
          "base_uri": "https://localhost:8080/",
          "height": 1000
        },
        "id": "lRcSOwI8K3ei",
        "outputId": "5d5f6d6c-0936-4a2a-d93e-a79973ddebc2"
      },
      "execution_count": null,
      "outputs": [
        {
          "output_type": "stream",
          "name": "stdout",
          "text": [
            "PyTorch version: 2.6.0+cu124\n",
            "Using device: cuda:0\n",
            "Running LARS benchmark with improved_cnn on cifar100...\n"
          ]
        },
        {
          "output_type": "stream",
          "name": "stderr",
          "text": [
            "100%|██████████| 169M/169M [00:05<00:00, 29.1MB/s]\n"
          ]
        },
        {
          "output_type": "stream",
          "name": "stdout",
          "text": [
            "Total parameters: 1,774,052\n",
            "\n",
            "Epoch [1/100] - Learning Rate: 0.032000\n"
          ]
        },
        {
          "output_type": "stream",
          "name": "stderr",
          "text": [
            "Training: 100%|██████████| 25/25 [00:16<00:00,  1.47it/s, loss=4.57, acc=1.91]\n"
          ]
        },
        {
          "output_type": "stream",
          "name": "stdout",
          "text": [
            "Train Loss: 4.5658, Train Acc: 1.91%, Test Loss: 4.3662, Test Acc: 3.97%, Time: 16.99s\n",
            "New best model saved with accuracy: 3.97%\n",
            "\n",
            "Epoch [2/100] - Learning Rate: 0.064000\n"
          ]
        },
        {
          "output_type": "stream",
          "name": "stderr",
          "text": [
            "Training: 100%|██████████| 25/25 [00:17<00:00,  1.42it/s, loss=4.27, acc=5.06]\n"
          ]
        },
        {
          "output_type": "stream",
          "name": "stdout",
          "text": [
            "Train Loss: 4.2671, Train Acc: 5.06%, Test Loss: 3.9564, Test Acc: 9.06%, Time: 17.66s\n",
            "New best model saved with accuracy: 9.06%\n",
            "\n",
            "Epoch [3/100] - Learning Rate: 0.096000\n"
          ]
        },
        {
          "output_type": "stream",
          "name": "stderr",
          "text": [
            "Training: 100%|██████████| 25/25 [00:16<00:00,  1.48it/s, loss=3.97, acc=8.42]\n"
          ]
        },
        {
          "output_type": "stream",
          "name": "stdout",
          "text": [
            "Train Loss: 3.9736, Train Acc: 8.42%, Test Loss: 3.6559, Test Acc: 13.93%, Time: 16.84s\n",
            "New best model saved with accuracy: 13.93%\n",
            "\n",
            "Epoch [4/100] - Learning Rate: 0.128000\n"
          ]
        },
        {
          "output_type": "stream",
          "name": "stderr",
          "text": [
            "Training: 100%|██████████| 25/25 [00:16<00:00,  1.49it/s, loss=3.77, acc=11.1]\n"
          ]
        },
        {
          "output_type": "stream",
          "name": "stdout",
          "text": [
            "Train Loss: 3.7679, Train Acc: 11.15%, Test Loss: 3.4574, Test Acc: 17.76%, Time: 16.77s\n",
            "New best model saved with accuracy: 17.76%\n",
            "\n",
            "Epoch [5/100] - Learning Rate: 0.160000\n"
          ]
        },
        {
          "output_type": "stream",
          "name": "stderr",
          "text": [
            "Training: 100%|██████████| 25/25 [00:16<00:00,  1.51it/s, loss=3.63, acc=13.6]\n"
          ]
        },
        {
          "output_type": "stream",
          "name": "stdout",
          "text": [
            "Train Loss: 3.6257, Train Acc: 13.57%, Test Loss: 3.2807, Test Acc: 20.09%, Time: 16.61s\n",
            "New best model saved with accuracy: 20.09%\n",
            "\n",
            "Epoch [6/100] - Learning Rate: 0.160000\n"
          ]
        },
        {
          "output_type": "stream",
          "name": "stderr",
          "text": [
            "Training: 100%|██████████| 25/25 [00:17<00:00,  1.46it/s, loss=3.5, acc=15.5]\n"
          ]
        },
        {
          "output_type": "stream",
          "name": "stdout",
          "text": [
            "Train Loss: 3.5014, Train Acc: 15.52%, Test Loss: 3.1499, Test Acc: 22.29%, Time: 17.17s\n",
            "New best model saved with accuracy: 22.29%\n",
            "\n",
            "Epoch [7/100] - Learning Rate: 0.159956\n"
          ]
        },
        {
          "output_type": "stream",
          "name": "stderr",
          "text": [
            "Training: 100%|██████████| 25/25 [00:16<00:00,  1.51it/s, loss=3.41, acc=17]\n"
          ]
        },
        {
          "output_type": "stream",
          "name": "stdout",
          "text": [
            "Train Loss: 3.4137, Train Acc: 17.00%, Test Loss: 3.0033, Test Acc: 25.39%, Time: 16.53s\n",
            "New best model saved with accuracy: 25.39%\n",
            "\n",
            "Epoch [8/100] - Learning Rate: 0.159825\n"
          ]
        },
        {
          "output_type": "stream",
          "name": "stderr",
          "text": [
            "Training: 100%|██████████| 25/25 [00:17<00:00,  1.46it/s, loss=3.31, acc=18.7]\n"
          ]
        },
        {
          "output_type": "stream",
          "name": "stdout",
          "text": [
            "Train Loss: 3.3116, Train Acc: 18.67%, Test Loss: 2.8858, Test Acc: 27.36%, Time: 17.15s\n",
            "New best model saved with accuracy: 27.36%\n",
            "\n",
            "Epoch [9/100] - Learning Rate: 0.159607\n"
          ]
        },
        {
          "output_type": "stream",
          "name": "stderr",
          "text": [
            "Training: 100%|██████████| 25/25 [00:16<00:00,  1.51it/s, loss=3.24, acc=20.3]\n"
          ]
        },
        {
          "output_type": "stream",
          "name": "stdout",
          "text": [
            "Train Loss: 3.2354, Train Acc: 20.26%, Test Loss: 2.9016, Test Acc: 27.30%, Time: 16.54s\n",
            "\n",
            "Epoch [10/100] - Learning Rate: 0.159301\n"
          ]
        },
        {
          "output_type": "stream",
          "name": "stderr",
          "text": [
            "Training: 100%|██████████| 25/25 [00:17<00:00,  1.44it/s, loss=3.17, acc=21.3]\n"
          ]
        },
        {
          "output_type": "stream",
          "name": "stdout",
          "text": [
            "Train Loss: 3.1683, Train Acc: 21.27%, Test Loss: 2.7642, Test Acc: 28.84%, Time: 17.38s\n",
            "New best model saved with accuracy: 28.84%\n",
            "\n",
            "Epoch [11/100] - Learning Rate: 0.158909\n"
          ]
        },
        {
          "output_type": "stream",
          "name": "stderr",
          "text": [
            "Training: 100%|██████████| 25/25 [00:16<00:00,  1.50it/s, loss=3.11, acc=22.6]\n"
          ]
        },
        {
          "output_type": "stream",
          "name": "stdout",
          "text": [
            "Train Loss: 3.1121, Train Acc: 22.59%, Test Loss: 2.6818, Test Acc: 30.95%, Time: 16.69s\n",
            "New best model saved with accuracy: 30.95%\n",
            "\n",
            "Epoch [12/100] - Learning Rate: 0.158430\n"
          ]
        },
        {
          "output_type": "stream",
          "name": "stderr",
          "text": [
            "Training: 100%|██████████| 25/25 [00:17<00:00,  1.44it/s, loss=3.04, acc=23.5]\n"
          ]
        },
        {
          "output_type": "stream",
          "name": "stdout",
          "text": [
            "Train Loss: 3.0398, Train Acc: 23.52%, Test Loss: 2.7110, Test Acc: 30.42%, Time: 17.42s\n",
            "\n",
            "Epoch [13/100] - Learning Rate: 0.157866\n"
          ]
        },
        {
          "output_type": "stream",
          "name": "stderr",
          "text": [
            "Training: 100%|██████████| 25/25 [00:16<00:00,  1.51it/s, loss=2.99, acc=24.7]\n"
          ]
        },
        {
          "output_type": "stream",
          "name": "stdout",
          "text": [
            "Train Loss: 2.9859, Train Acc: 24.71%, Test Loss: 2.6228, Test Acc: 32.51%, Time: 16.59s\n",
            "New best model saved with accuracy: 32.51%\n",
            "\n",
            "Epoch [14/100] - Learning Rate: 0.157217\n"
          ]
        },
        {
          "output_type": "stream",
          "name": "stderr",
          "text": [
            "Training: 100%|██████████| 25/25 [00:17<00:00,  1.43it/s, loss=2.94, acc=25.7]\n"
          ]
        },
        {
          "output_type": "stream",
          "name": "stdout",
          "text": [
            "Train Loss: 2.9394, Train Acc: 25.74%, Test Loss: 2.5508, Test Acc: 33.85%, Time: 17.50s\n",
            "New best model saved with accuracy: 33.85%\n",
            "\n",
            "Epoch [15/100] - Learning Rate: 0.156483\n"
          ]
        },
        {
          "output_type": "stream",
          "name": "stderr",
          "text": [
            "Training: 100%|██████████| 25/25 [00:16<00:00,  1.48it/s, loss=2.89, acc=27]\n"
          ]
        },
        {
          "output_type": "stream",
          "name": "stdout",
          "text": [
            "Train Loss: 2.8864, Train Acc: 26.98%, Test Loss: 2.5781, Test Acc: 33.33%, Time: 16.92s\n",
            "\n",
            "Epoch [16/100] - Learning Rate: 0.155665\n"
          ]
        },
        {
          "output_type": "stream",
          "name": "stderr",
          "text": [
            "Training: 100%|██████████| 25/25 [00:18<00:00,  1.39it/s, loss=2.88, acc=27.1]\n"
          ]
        },
        {
          "output_type": "stream",
          "name": "stdout",
          "text": [
            "Train Loss: 2.8797, Train Acc: 27.07%, Test Loss: 2.4979, Test Acc: 34.37%, Time: 18.05s\n",
            "New best model saved with accuracy: 34.37%\n",
            "\n",
            "Epoch [17/100] - Learning Rate: 0.154765\n"
          ]
        },
        {
          "output_type": "stream",
          "name": "stderr",
          "text": [
            "Training: 100%|██████████| 25/25 [00:16<00:00,  1.51it/s, loss=2.81, acc=28.3]\n"
          ]
        },
        {
          "output_type": "stream",
          "name": "stdout",
          "text": [
            "Train Loss: 2.8113, Train Acc: 28.29%, Test Loss: 2.4059, Test Acc: 36.80%, Time: 16.54s\n",
            "New best model saved with accuracy: 36.80%\n",
            "\n",
            "Epoch [18/100] - Learning Rate: 0.153783\n"
          ]
        },
        {
          "output_type": "stream",
          "name": "stderr",
          "text": [
            "Training: 100%|██████████| 25/25 [00:17<00:00,  1.44it/s, loss=2.79, acc=28.8]\n"
          ]
        },
        {
          "output_type": "stream",
          "name": "stdout",
          "text": [
            "Train Loss: 2.7891, Train Acc: 28.79%, Test Loss: 2.4212, Test Acc: 36.84%, Time: 17.37s\n",
            "New best model saved with accuracy: 36.84%\n",
            "\n",
            "Epoch [19/100] - Learning Rate: 0.152721\n"
          ]
        },
        {
          "output_type": "stream",
          "name": "stderr",
          "text": [
            "Training: 100%|██████████| 25/25 [00:16<00:00,  1.48it/s, loss=2.75, acc=29.6]\n"
          ]
        },
        {
          "output_type": "stream",
          "name": "stdout",
          "text": [
            "Train Loss: 2.7473, Train Acc: 29.58%, Test Loss: 2.3861, Test Acc: 37.26%, Time: 16.90s\n",
            "New best model saved with accuracy: 37.26%\n",
            "\n",
            "Epoch [20/100] - Learning Rate: 0.151578\n"
          ]
        },
        {
          "output_type": "stream",
          "name": "stderr",
          "text": [
            "Training: 100%|██████████| 25/25 [00:17<00:00,  1.42it/s, loss=2.75, acc=29.8]\n"
          ]
        },
        {
          "output_type": "stream",
          "name": "stdout",
          "text": [
            "Train Loss: 2.7481, Train Acc: 29.76%, Test Loss: 2.3725, Test Acc: 38.45%, Time: 17.57s\n",
            "New best model saved with accuracy: 38.45%\n",
            "\n",
            "Epoch [21/100] - Learning Rate: 0.150358\n"
          ]
        },
        {
          "output_type": "stream",
          "name": "stderr",
          "text": [
            "Training: 100%|██████████| 25/25 [00:16<00:00,  1.50it/s, loss=2.69, acc=30.6]\n"
          ]
        },
        {
          "output_type": "stream",
          "name": "stdout",
          "text": [
            "Train Loss: 2.6931, Train Acc: 30.65%, Test Loss: 2.3277, Test Acc: 38.43%, Time: 16.68s\n",
            "\n",
            "Epoch [22/100] - Learning Rate: 0.149061\n"
          ]
        },
        {
          "output_type": "stream",
          "name": "stderr",
          "text": [
            "Training: 100%|██████████| 25/25 [00:17<00:00,  1.41it/s, loss=2.66, acc=31.3]\n"
          ]
        },
        {
          "output_type": "stream",
          "name": "stdout",
          "text": [
            "Train Loss: 2.6628, Train Acc: 31.33%, Test Loss: 2.2957, Test Acc: 38.94%, Time: 17.76s\n",
            "New best model saved with accuracy: 38.94%\n",
            "\n",
            "Epoch [23/100] - Learning Rate: 0.147688\n"
          ]
        },
        {
          "output_type": "stream",
          "name": "stderr",
          "text": [
            "Training: 100%|██████████| 25/25 [00:16<00:00,  1.50it/s, loss=2.65, acc=31.5]\n"
          ]
        },
        {
          "output_type": "stream",
          "name": "stdout",
          "text": [
            "Train Loss: 2.6507, Train Acc: 31.49%, Test Loss: 2.3526, Test Acc: 38.64%, Time: 16.69s\n",
            "\n",
            "Epoch [24/100] - Learning Rate: 0.146241\n"
          ]
        },
        {
          "output_type": "stream",
          "name": "stderr",
          "text": [
            "Training: 100%|██████████| 25/25 [00:17<00:00,  1.43it/s, loss=2.64, acc=31.9]\n"
          ]
        },
        {
          "output_type": "stream",
          "name": "stdout",
          "text": [
            "Train Loss: 2.6360, Train Acc: 31.90%, Test Loss: 2.2626, Test Acc: 39.55%, Time: 17.50s\n",
            "New best model saved with accuracy: 39.55%\n",
            "\n",
            "Epoch [25/100] - Learning Rate: 0.144721\n"
          ]
        },
        {
          "output_type": "stream",
          "name": "stderr",
          "text": [
            "Training: 100%|██████████| 25/25 [00:16<00:00,  1.50it/s, loss=2.6, acc=32.9]\n"
          ]
        },
        {
          "output_type": "stream",
          "name": "stdout",
          "text": [
            "Train Loss: 2.5998, Train Acc: 32.85%, Test Loss: 2.2237, Test Acc: 41.13%, Time: 16.65s\n",
            "New best model saved with accuracy: 41.13%\n",
            "\n",
            "Epoch [26/100] - Learning Rate: 0.143131\n"
          ]
        },
        {
          "output_type": "stream",
          "name": "stderr",
          "text": [
            "Training: 100%|██████████| 25/25 [00:17<00:00,  1.42it/s, loss=2.57, acc=33.4]\n"
          ]
        },
        {
          "output_type": "stream",
          "name": "stdout",
          "text": [
            "Train Loss: 2.5711, Train Acc: 33.36%, Test Loss: 2.1983, Test Acc: 41.18%, Time: 17.61s\n",
            "New best model saved with accuracy: 41.18%\n",
            "\n",
            "Epoch [27/100] - Learning Rate: 0.141472\n"
          ]
        },
        {
          "output_type": "stream",
          "name": "stderr",
          "text": [
            "Training: 100%|██████████| 25/25 [00:16<00:00,  1.51it/s, loss=2.57, acc=33.4]\n"
          ]
        },
        {
          "output_type": "stream",
          "name": "stdout",
          "text": [
            "Train Loss: 2.5740, Train Acc: 33.43%, Test Loss: 2.3040, Test Acc: 39.30%, Time: 16.59s\n",
            "\n",
            "Epoch [28/100] - Learning Rate: 0.139746\n"
          ]
        },
        {
          "output_type": "stream",
          "name": "stderr",
          "text": [
            "Training: 100%|██████████| 25/25 [00:17<00:00,  1.40it/s, loss=2.52, acc=34.3]\n"
          ]
        },
        {
          "output_type": "stream",
          "name": "stdout",
          "text": [
            "Train Loss: 2.5244, Train Acc: 34.31%, Test Loss: 2.2470, Test Acc: 40.38%, Time: 17.87s\n",
            "\n",
            "Epoch [29/100] - Learning Rate: 0.137954\n"
          ]
        },
        {
          "output_type": "stream",
          "name": "stderr",
          "text": [
            "Training: 100%|██████████| 25/25 [00:16<00:00,  1.52it/s, loss=2.5, acc=34.8]\n"
          ]
        },
        {
          "output_type": "stream",
          "name": "stdout",
          "text": [
            "Train Loss: 2.5044, Train Acc: 34.80%, Test Loss: 2.1637, Test Acc: 42.60%, Time: 16.46s\n",
            "New best model saved with accuracy: 42.60%\n",
            "\n",
            "Epoch [30/100] - Learning Rate: 0.136099\n"
          ]
        },
        {
          "output_type": "stream",
          "name": "stderr",
          "text": [
            "Training: 100%|██████████| 25/25 [00:17<00:00,  1.44it/s, loss=2.5, acc=35.1]\n"
          ]
        },
        {
          "output_type": "stream",
          "name": "stdout",
          "text": [
            "Train Loss: 2.4968, Train Acc: 35.07%, Test Loss: 2.1832, Test Acc: 41.41%, Time: 17.42s\n",
            "\n",
            "Epoch [31/100] - Learning Rate: 0.134183\n"
          ]
        },
        {
          "output_type": "stream",
          "name": "stderr",
          "text": [
            "Training: 100%|██████████| 25/25 [00:16<00:00,  1.50it/s, loss=2.47, acc=35.6]\n"
          ]
        },
        {
          "output_type": "stream",
          "name": "stdout",
          "text": [
            "Train Loss: 2.4734, Train Acc: 35.61%, Test Loss: 2.1068, Test Acc: 43.04%, Time: 16.69s\n",
            "New best model saved with accuracy: 43.04%\n",
            "\n",
            "Epoch [32/100] - Learning Rate: 0.132207\n"
          ]
        },
        {
          "output_type": "stream",
          "name": "stderr",
          "text": [
            "Training: 100%|██████████| 25/25 [00:17<00:00,  1.40it/s, loss=2.44, acc=35.8]\n"
          ]
        },
        {
          "output_type": "stream",
          "name": "stdout",
          "text": [
            "Train Loss: 2.4427, Train Acc: 35.79%, Test Loss: 2.1157, Test Acc: 42.99%, Time: 17.84s\n",
            "\n",
            "Epoch [33/100] - Learning Rate: 0.130174\n"
          ]
        },
        {
          "output_type": "stream",
          "name": "stderr",
          "text": [
            "Training: 100%|██████████| 25/25 [00:16<00:00,  1.48it/s, loss=2.44, acc=36.3]\n"
          ]
        },
        {
          "output_type": "stream",
          "name": "stdout",
          "text": [
            "Train Loss: 2.4359, Train Acc: 36.34%, Test Loss: 2.1415, Test Acc: 43.55%, Time: 16.85s\n",
            "New best model saved with accuracy: 43.55%\n",
            "\n",
            "Epoch [34/100] - Learning Rate: 0.128086\n"
          ]
        },
        {
          "output_type": "stream",
          "name": "stderr",
          "text": [
            "Training: 100%|██████████| 25/25 [00:17<00:00,  1.39it/s, loss=2.42, acc=37]\n"
          ]
        },
        {
          "output_type": "stream",
          "name": "stdout",
          "text": [
            "Train Loss: 2.4190, Train Acc: 36.98%, Test Loss: 2.1329, Test Acc: 43.36%, Time: 17.97s\n",
            "\n",
            "Epoch [35/100] - Learning Rate: 0.125946\n"
          ]
        },
        {
          "output_type": "stream",
          "name": "stderr",
          "text": [
            "Training: 100%|██████████| 25/25 [00:17<00:00,  1.43it/s, loss=2.41, acc=36.6]\n"
          ]
        },
        {
          "output_type": "stream",
          "name": "stdout",
          "text": [
            "Train Loss: 2.4109, Train Acc: 36.65%, Test Loss: 2.0743, Test Acc: 44.68%, Time: 17.53s\n",
            "New best model saved with accuracy: 44.68%\n",
            "\n",
            "Epoch [36/100] - Learning Rate: 0.123756\n"
          ]
        },
        {
          "output_type": "stream",
          "name": "stderr",
          "text": [
            "Training: 100%|██████████| 25/25 [00:18<00:00,  1.39it/s, loss=2.39, acc=37.3]\n"
          ]
        },
        {
          "output_type": "stream",
          "name": "stdout",
          "text": [
            "Train Loss: 2.3928, Train Acc: 37.31%, Test Loss: 2.0729, Test Acc: 44.40%, Time: 18.02s\n",
            "\n",
            "Epoch [37/100] - Learning Rate: 0.121518\n"
          ]
        },
        {
          "output_type": "stream",
          "name": "stderr",
          "text": [
            "Training: 100%|██████████| 25/25 [00:18<00:00,  1.38it/s, loss=2.36, acc=37.9]\n"
          ]
        },
        {
          "output_type": "stream",
          "name": "stdout",
          "text": [
            "Train Loss: 2.3574, Train Acc: 37.90%, Test Loss: 1.9973, Test Acc: 46.53%, Time: 18.16s\n",
            "New best model saved with accuracy: 46.53%\n",
            "\n",
            "Epoch [38/100] - Learning Rate: 0.119234\n"
          ]
        },
        {
          "output_type": "stream",
          "name": "stderr",
          "text": [
            "Training: 100%|██████████| 25/25 [00:16<00:00,  1.49it/s, loss=2.35, acc=38.3]\n"
          ]
        },
        {
          "output_type": "stream",
          "name": "stdout",
          "text": [
            "Train Loss: 2.3479, Train Acc: 38.25%, Test Loss: 2.0355, Test Acc: 45.90%, Time: 16.82s\n",
            "\n",
            "Epoch [39/100] - Learning Rate: 0.116907\n"
          ]
        },
        {
          "output_type": "stream",
          "name": "stderr",
          "text": [
            "Training: 100%|██████████| 25/25 [00:17<00:00,  1.40it/s, loss=2.33, acc=38.4]\n"
          ]
        },
        {
          "output_type": "stream",
          "name": "stdout",
          "text": [
            "Train Loss: 2.3289, Train Acc: 38.41%, Test Loss: 2.0643, Test Acc: 45.40%, Time: 17.83s\n",
            "\n",
            "Epoch [40/100] - Learning Rate: 0.114540\n"
          ]
        },
        {
          "output_type": "stream",
          "name": "stderr",
          "text": [
            "Training: 100%|██████████| 25/25 [00:16<00:00,  1.49it/s, loss=2.3, acc=39.1]\n"
          ]
        },
        {
          "output_type": "stream",
          "name": "stdout",
          "text": [
            "Train Loss: 2.3017, Train Acc: 39.10%, Test Loss: 2.0381, Test Acc: 45.16%, Time: 16.78s\n",
            "\n",
            "Epoch [41/100] - Learning Rate: 0.112136\n"
          ]
        },
        {
          "output_type": "stream",
          "name": "stderr",
          "text": [
            "Training: 100%|██████████| 25/25 [00:17<00:00,  1.41it/s, loss=2.31, acc=39]\n"
          ]
        },
        {
          "output_type": "stream",
          "name": "stdout",
          "text": [
            "Train Loss: 2.3100, Train Acc: 39.01%, Test Loss: 1.9841, Test Acc: 46.52%, Time: 17.75s\n",
            "\n",
            "Epoch [42/100] - Learning Rate: 0.109696\n"
          ]
        },
        {
          "output_type": "stream",
          "name": "stderr",
          "text": [
            "Training: 100%|██████████| 25/25 [00:16<00:00,  1.49it/s, loss=2.3, acc=39.1]\n"
          ]
        },
        {
          "output_type": "stream",
          "name": "stdout",
          "text": [
            "Train Loss: 2.3023, Train Acc: 39.07%, Test Loss: 2.0583, Test Acc: 44.89%, Time: 16.81s\n",
            "\n",
            "Epoch [43/100] - Learning Rate: 0.107223\n"
          ]
        },
        {
          "output_type": "stream",
          "name": "stderr",
          "text": [
            "Training: 100%|██████████| 25/25 [00:17<00:00,  1.42it/s, loss=2.27, acc=40]\n"
          ]
        },
        {
          "output_type": "stream",
          "name": "stdout",
          "text": [
            "Train Loss: 2.2709, Train Acc: 40.04%, Test Loss: 1.9296, Test Acc: 48.04%, Time: 17.63s\n",
            "New best model saved with accuracy: 48.04%\n",
            "\n",
            "Epoch [44/100] - Learning Rate: 0.104721\n"
          ]
        },
        {
          "output_type": "stream",
          "name": "stderr",
          "text": [
            "Training: 100%|██████████| 25/25 [00:16<00:00,  1.51it/s, loss=2.26, acc=39.9]\n"
          ]
        },
        {
          "output_type": "stream",
          "name": "stdout",
          "text": [
            "Train Loss: 2.2557, Train Acc: 39.88%, Test Loss: 1.9811, Test Acc: 47.01%, Time: 16.58s\n",
            "\n",
            "Epoch [45/100] - Learning Rate: 0.102192\n"
          ]
        },
        {
          "output_type": "stream",
          "name": "stderr",
          "text": [
            "Training: 100%|██████████| 25/25 [00:17<00:00,  1.45it/s, loss=2.25, acc=40.2]\n"
          ]
        },
        {
          "output_type": "stream",
          "name": "stdout",
          "text": [
            "Train Loss: 2.2509, Train Acc: 40.20%, Test Loss: 1.9802, Test Acc: 46.96%, Time: 17.22s\n",
            "\n",
            "Epoch [46/100] - Learning Rate: 0.099639\n"
          ]
        },
        {
          "output_type": "stream",
          "name": "stderr",
          "text": [
            "Training: 100%|██████████| 25/25 [00:16<00:00,  1.52it/s, loss=2.23, acc=40.8]\n"
          ]
        },
        {
          "output_type": "stream",
          "name": "stdout",
          "text": [
            "Train Loss: 2.2303, Train Acc: 40.77%, Test Loss: 1.9899, Test Acc: 45.94%, Time: 16.50s\n",
            "\n",
            "Epoch [47/100] - Learning Rate: 0.097064\n"
          ]
        },
        {
          "output_type": "stream",
          "name": "stderr",
          "text": [
            "Training: 100%|██████████| 25/25 [00:17<00:00,  1.47it/s, loss=2.21, acc=41.3]\n"
          ]
        },
        {
          "output_type": "stream",
          "name": "stdout",
          "text": [
            "Train Loss: 2.2071, Train Acc: 41.29%, Test Loss: 1.9067, Test Acc: 48.40%, Time: 17.03s\n",
            "New best model saved with accuracy: 48.40%\n",
            "\n",
            "Epoch [48/100] - Learning Rate: 0.094470\n"
          ]
        },
        {
          "output_type": "stream",
          "name": "stderr",
          "text": [
            "Training: 100%|██████████| 25/25 [00:16<00:00,  1.51it/s, loss=2.21, acc=41.1]\n"
          ]
        },
        {
          "output_type": "stream",
          "name": "stdout",
          "text": [
            "Train Loss: 2.2083, Train Acc: 41.09%, Test Loss: 1.9125, Test Acc: 48.66%, Time: 16.59s\n",
            "New best model saved with accuracy: 48.66%\n",
            "\n",
            "Epoch [49/100] - Learning Rate: 0.091861\n"
          ]
        },
        {
          "output_type": "stream",
          "name": "stderr",
          "text": [
            "Training: 100%|██████████| 25/25 [00:17<00:00,  1.46it/s, loss=2.19, acc=41.7]\n"
          ]
        },
        {
          "output_type": "stream",
          "name": "stdout",
          "text": [
            "Train Loss: 2.1855, Train Acc: 41.69%, Test Loss: 1.9325, Test Acc: 47.99%, Time: 17.12s\n",
            "\n",
            "Epoch [50/100] - Learning Rate: 0.089239\n"
          ]
        },
        {
          "output_type": "stream",
          "name": "stderr",
          "text": [
            "Training: 100%|██████████| 25/25 [00:16<00:00,  1.48it/s, loss=2.17, acc=42.3]\n"
          ]
        },
        {
          "output_type": "stream",
          "name": "stdout",
          "text": [
            "Train Loss: 2.1703, Train Acc: 42.25%, Test Loss: 1.8745, Test Acc: 48.80%, Time: 16.84s\n",
            "New best model saved with accuracy: 48.80%\n",
            "\n",
            "Epoch [51/100] - Learning Rate: 0.086606\n"
          ]
        },
        {
          "output_type": "stream",
          "name": "stderr",
          "text": [
            "Training: 100%|██████████| 25/25 [00:17<00:00,  1.47it/s, loss=2.14, acc=42.7]\n"
          ]
        },
        {
          "output_type": "stream",
          "name": "stdout",
          "text": [
            "Train Loss: 2.1372, Train Acc: 42.73%, Test Loss: 1.8794, Test Acc: 49.29%, Time: 17.01s\n",
            "New best model saved with accuracy: 49.29%\n",
            "\n",
            "Epoch [52/100] - Learning Rate: 0.083967\n"
          ]
        },
        {
          "output_type": "stream",
          "name": "stderr",
          "text": [
            "Training: 100%|██████████| 25/25 [00:16<00:00,  1.50it/s, loss=2.13, acc=42.4]\n"
          ]
        },
        {
          "output_type": "stream",
          "name": "stdout",
          "text": [
            "Train Loss: 2.1344, Train Acc: 42.43%, Test Loss: 1.9044, Test Acc: 48.64%, Time: 16.68s\n",
            "\n",
            "Epoch [53/100] - Learning Rate: 0.081323\n"
          ]
        },
        {
          "output_type": "stream",
          "name": "stderr",
          "text": [
            "Training: 100%|██████████| 25/25 [00:17<00:00,  1.45it/s, loss=2.13, acc=42.9]\n"
          ]
        },
        {
          "output_type": "stream",
          "name": "stdout",
          "text": [
            "Train Loss: 2.1272, Train Acc: 42.89%, Test Loss: 1.8669, Test Acc: 49.72%, Time: 17.23s\n",
            "New best model saved with accuracy: 49.72%\n",
            "\n",
            "Epoch [54/100] - Learning Rate: 0.078677\n"
          ]
        },
        {
          "output_type": "stream",
          "name": "stderr",
          "text": [
            "Training: 100%|██████████| 25/25 [00:16<00:00,  1.52it/s, loss=2.12, acc=43.3]\n"
          ]
        },
        {
          "output_type": "stream",
          "name": "stdout",
          "text": [
            "Train Loss: 2.1163, Train Acc: 43.30%, Test Loss: 1.9328, Test Acc: 48.24%, Time: 16.48s\n",
            "\n",
            "Epoch [55/100] - Learning Rate: 0.076033\n"
          ]
        },
        {
          "output_type": "stream",
          "name": "stderr",
          "text": [
            "Training: 100%|██████████| 25/25 [00:16<00:00,  1.49it/s, loss=2.11, acc=43.3]\n"
          ]
        },
        {
          "output_type": "stream",
          "name": "stdout",
          "text": [
            "Train Loss: 2.1067, Train Acc: 43.26%, Test Loss: 1.8635, Test Acc: 49.91%, Time: 16.81s\n",
            "New best model saved with accuracy: 49.91%\n",
            "\n",
            "Epoch [56/100] - Learning Rate: 0.073394\n"
          ]
        },
        {
          "output_type": "stream",
          "name": "stderr",
          "text": [
            "Training: 100%|██████████| 25/25 [00:17<00:00,  1.46it/s, loss=2.08, acc=44.1]\n"
          ]
        },
        {
          "output_type": "stream",
          "name": "stdout",
          "text": [
            "Train Loss: 2.0825, Train Acc: 44.09%, Test Loss: 1.8252, Test Acc: 50.96%, Time: 17.10s\n",
            "New best model saved with accuracy: 50.96%\n",
            "\n",
            "Epoch [57/100] - Learning Rate: 0.070761\n"
          ]
        },
        {
          "output_type": "stream",
          "name": "stderr",
          "text": [
            "Training: 100%|██████████| 25/25 [00:17<00:00,  1.45it/s, loss=2.06, acc=44.4]\n"
          ]
        },
        {
          "output_type": "stream",
          "name": "stdout",
          "text": [
            "Train Loss: 2.0630, Train Acc: 44.42%, Test Loss: 1.8311, Test Acc: 50.52%, Time: 17.23s\n",
            "\n",
            "Epoch [58/100] - Learning Rate: 0.068139\n"
          ]
        },
        {
          "output_type": "stream",
          "name": "stderr",
          "text": [
            "Training: 100%|██████████| 25/25 [00:18<00:00,  1.36it/s, loss=2.06, acc=44.6]\n"
          ]
        },
        {
          "output_type": "stream",
          "name": "stdout",
          "text": [
            "Train Loss: 2.0570, Train Acc: 44.60%, Test Loss: 1.8469, Test Acc: 50.33%, Time: 18.39s\n",
            "\n",
            "Epoch [59/100] - Learning Rate: 0.065530\n"
          ]
        },
        {
          "output_type": "stream",
          "name": "stderr",
          "text": [
            "Training: 100%|██████████| 25/25 [00:17<00:00,  1.46it/s, loss=2.04, acc=44.9]\n"
          ]
        },
        {
          "output_type": "stream",
          "name": "stdout",
          "text": [
            "Train Loss: 2.0378, Train Acc: 44.90%, Test Loss: 1.7985, Test Acc: 51.15%, Time: 17.17s\n",
            "New best model saved with accuracy: 51.15%\n",
            "\n",
            "Epoch [60/100] - Learning Rate: 0.062936\n"
          ]
        },
        {
          "output_type": "stream",
          "name": "stderr",
          "text": [
            "Training: 100%|██████████| 25/25 [00:18<00:00,  1.33it/s, loss=2.04, acc=45]\n"
          ]
        },
        {
          "output_type": "stream",
          "name": "stdout",
          "text": [
            "Train Loss: 2.0368, Train Acc: 45.02%, Test Loss: 1.7758, Test Acc: 52.23%, Time: 18.74s\n",
            "New best model saved with accuracy: 52.23%\n",
            "\n",
            "Epoch [61/100] - Learning Rate: 0.060361\n"
          ]
        },
        {
          "output_type": "stream",
          "name": "stderr",
          "text": [
            "Training: 100%|██████████| 25/25 [00:17<00:00,  1.45it/s, loss=2.02, acc=45.5]\n"
          ]
        },
        {
          "output_type": "stream",
          "name": "stdout",
          "text": [
            "Train Loss: 2.0196, Train Acc: 45.47%, Test Loss: 1.7940, Test Acc: 51.24%, Time: 17.25s\n",
            "\n",
            "Epoch [62/100] - Learning Rate: 0.057808\n"
          ]
        },
        {
          "output_type": "stream",
          "name": "stderr",
          "text": [
            "Training: 100%|██████████| 25/25 [00:18<00:00,  1.39it/s, loss=2, acc=45.8]\n"
          ]
        },
        {
          "output_type": "stream",
          "name": "stdout",
          "text": [
            "Train Loss: 2.0042, Train Acc: 45.76%, Test Loss: 1.7643, Test Acc: 51.57%, Time: 18.04s\n",
            "\n",
            "Epoch [63/100] - Learning Rate: 0.055279\n"
          ]
        },
        {
          "output_type": "stream",
          "name": "stderr",
          "text": [
            "Training: 100%|██████████| 25/25 [00:16<00:00,  1.48it/s, loss=1.99, acc=46.1]\n"
          ]
        },
        {
          "output_type": "stream",
          "name": "stdout",
          "text": [
            "Train Loss: 1.9940, Train Acc: 46.06%, Test Loss: 1.7770, Test Acc: 52.08%, Time: 16.88s\n",
            "\n",
            "Epoch [64/100] - Learning Rate: 0.052777\n"
          ]
        },
        {
          "output_type": "stream",
          "name": "stderr",
          "text": [
            "Training: 100%|██████████| 25/25 [00:17<00:00,  1.44it/s, loss=1.97, acc=46.5]\n"
          ]
        },
        {
          "output_type": "stream",
          "name": "stdout",
          "text": [
            "Train Loss: 1.9726, Train Acc: 46.51%, Test Loss: 1.7417, Test Acc: 52.73%, Time: 17.42s\n",
            "New best model saved with accuracy: 52.73%\n",
            "\n",
            "Epoch [65/100] - Learning Rate: 0.050304\n"
          ]
        },
        {
          "output_type": "stream",
          "name": "stderr",
          "text": [
            "Training: 100%|██████████| 25/25 [00:16<00:00,  1.48it/s, loss=1.97, acc=46.6]\n"
          ]
        },
        {
          "output_type": "stream",
          "name": "stdout",
          "text": [
            "Train Loss: 1.9693, Train Acc: 46.60%, Test Loss: 1.7667, Test Acc: 52.61%, Time: 16.87s\n",
            "\n",
            "Epoch [66/100] - Learning Rate: 0.047864\n"
          ]
        },
        {
          "output_type": "stream",
          "name": "stderr",
          "text": [
            "Training: 100%|██████████| 25/25 [00:16<00:00,  1.49it/s, loss=1.96, acc=46.8]\n"
          ]
        },
        {
          "output_type": "stream",
          "name": "stdout",
          "text": [
            "Train Loss: 1.9569, Train Acc: 46.82%, Test Loss: 1.7378, Test Acc: 52.91%, Time: 16.79s\n",
            "New best model saved with accuracy: 52.91%\n",
            "\n",
            "Epoch [67/100] - Learning Rate: 0.045460\n"
          ]
        },
        {
          "output_type": "stream",
          "name": "stderr",
          "text": [
            "Training: 100%|██████████| 25/25 [00:17<00:00,  1.40it/s, loss=1.95, acc=47.1]\n"
          ]
        },
        {
          "output_type": "stream",
          "name": "stdout",
          "text": [
            "Train Loss: 1.9464, Train Acc: 47.10%, Test Loss: 1.7123, Test Acc: 53.33%, Time: 17.86s\n",
            "New best model saved with accuracy: 53.33%\n",
            "\n",
            "Epoch [68/100] - Learning Rate: 0.043093\n"
          ]
        },
        {
          "output_type": "stream",
          "name": "stderr",
          "text": [
            "Training: 100%|██████████| 25/25 [00:17<00:00,  1.47it/s, loss=1.93, acc=47.5]\n"
          ]
        },
        {
          "output_type": "stream",
          "name": "stdout",
          "text": [
            "Train Loss: 1.9313, Train Acc: 47.47%, Test Loss: 1.6942, Test Acc: 53.99%, Time: 17.06s\n",
            "New best model saved with accuracy: 53.99%\n",
            "\n",
            "Epoch [69/100] - Learning Rate: 0.040766\n"
          ]
        },
        {
          "output_type": "stream",
          "name": "stderr",
          "text": [
            "Training: 100%|██████████| 25/25 [00:18<00:00,  1.33it/s, loss=1.92, acc=47.7]\n"
          ]
        },
        {
          "output_type": "stream",
          "name": "stdout",
          "text": [
            "Train Loss: 1.9209, Train Acc: 47.73%, Test Loss: 1.7152, Test Acc: 53.56%, Time: 18.80s\n",
            "\n",
            "Epoch [70/100] - Learning Rate: 0.038482\n"
          ]
        },
        {
          "output_type": "stream",
          "name": "stderr",
          "text": [
            "Training: 100%|██████████| 25/25 [00:17<00:00,  1.45it/s, loss=1.91, acc=48.2]\n"
          ]
        },
        {
          "output_type": "stream",
          "name": "stdout",
          "text": [
            "Train Loss: 1.9060, Train Acc: 48.21%, Test Loss: 1.6995, Test Acc: 53.61%, Time: 17.21s\n",
            "\n",
            "Epoch [71/100] - Learning Rate: 0.036244\n"
          ]
        },
        {
          "output_type": "stream",
          "name": "stderr",
          "text": [
            "Training: 100%|██████████| 25/25 [00:18<00:00,  1.39it/s, loss=1.9, acc=48.2]\n"
          ]
        },
        {
          "output_type": "stream",
          "name": "stdout",
          "text": [
            "Train Loss: 1.9013, Train Acc: 48.18%, Test Loss: 1.7000, Test Acc: 53.51%, Time: 18.01s\n",
            "\n",
            "Epoch [72/100] - Learning Rate: 0.034054\n"
          ]
        },
        {
          "output_type": "stream",
          "name": "stderr",
          "text": [
            "Training: 100%|██████████| 25/25 [00:16<00:00,  1.50it/s, loss=1.88, acc=48.7]\n"
          ]
        },
        {
          "output_type": "stream",
          "name": "stdout",
          "text": [
            "Train Loss: 1.8847, Train Acc: 48.66%, Test Loss: 1.6734, Test Acc: 54.52%, Time: 16.69s\n",
            "New best model saved with accuracy: 54.52%\n",
            "\n",
            "Epoch [73/100] - Learning Rate: 0.031914\n"
          ]
        },
        {
          "output_type": "stream",
          "name": "stderr",
          "text": [
            "Training: 100%|██████████| 25/25 [00:17<00:00,  1.40it/s, loss=1.88, acc=48.8]\n"
          ]
        },
        {
          "output_type": "stream",
          "name": "stdout",
          "text": [
            "Train Loss: 1.8785, Train Acc: 48.77%, Test Loss: 1.6896, Test Acc: 53.87%, Time: 17.87s\n",
            "\n",
            "Epoch [74/100] - Learning Rate: 0.029826\n"
          ]
        },
        {
          "output_type": "stream",
          "name": "stderr",
          "text": [
            "Training: 100%|██████████| 25/25 [00:17<00:00,  1.47it/s, loss=1.86, acc=49]\n"
          ]
        },
        {
          "output_type": "stream",
          "name": "stdout",
          "text": [
            "Train Loss: 1.8614, Train Acc: 49.03%, Test Loss: 1.6925, Test Acc: 53.81%, Time: 17.03s\n",
            "\n",
            "Epoch [75/100] - Learning Rate: 0.027793\n"
          ]
        },
        {
          "output_type": "stream",
          "name": "stderr",
          "text": [
            "Training: 100%|██████████| 25/25 [00:17<00:00,  1.43it/s, loss=1.85, acc=49.2]\n"
          ]
        },
        {
          "output_type": "stream",
          "name": "stdout",
          "text": [
            "Train Loss: 1.8517, Train Acc: 49.23%, Test Loss: 1.6595, Test Acc: 54.56%, Time: 17.45s\n",
            "New best model saved with accuracy: 54.56%\n",
            "\n",
            "Epoch [76/100] - Learning Rate: 0.025817\n"
          ]
        },
        {
          "output_type": "stream",
          "name": "stderr",
          "text": [
            "Training: 100%|██████████| 25/25 [00:16<00:00,  1.49it/s, loss=1.85, acc=49.5]\n"
          ]
        },
        {
          "output_type": "stream",
          "name": "stdout",
          "text": [
            "Train Loss: 1.8519, Train Acc: 49.50%, Test Loss: 1.6530, Test Acc: 54.85%, Time: 16.80s\n",
            "New best model saved with accuracy: 54.85%\n",
            "\n",
            "Epoch [77/100] - Learning Rate: 0.023901\n"
          ]
        },
        {
          "output_type": "stream",
          "name": "stderr",
          "text": [
            "Training: 100%|██████████| 25/25 [00:17<00:00,  1.42it/s, loss=1.84, acc=49.5]\n"
          ]
        },
        {
          "output_type": "stream",
          "name": "stdout",
          "text": [
            "Train Loss: 1.8414, Train Acc: 49.52%, Test Loss: 1.6695, Test Acc: 53.94%, Time: 17.65s\n",
            "\n",
            "Epoch [78/100] - Learning Rate: 0.022046\n"
          ]
        },
        {
          "output_type": "stream",
          "name": "stderr",
          "text": [
            "Training: 100%|██████████| 25/25 [00:16<00:00,  1.49it/s, loss=1.82, acc=49.9]\n"
          ]
        },
        {
          "output_type": "stream",
          "name": "stdout",
          "text": [
            "Train Loss: 1.8235, Train Acc: 49.94%, Test Loss: 1.6490, Test Acc: 54.82%, Time: 16.82s\n",
            "\n",
            "Epoch [79/100] - Learning Rate: 0.020254\n"
          ]
        },
        {
          "output_type": "stream",
          "name": "stderr",
          "text": [
            "Training: 100%|██████████| 25/25 [00:16<00:00,  1.50it/s, loss=1.82, acc=50.2]\n"
          ]
        },
        {
          "output_type": "stream",
          "name": "stdout",
          "text": [
            "Train Loss: 1.8224, Train Acc: 50.16%, Test Loss: 1.6388, Test Acc: 55.16%, Time: 16.62s\n",
            "New best model saved with accuracy: 55.16%\n",
            "\n",
            "Epoch [80/100] - Learning Rate: 0.018528\n"
          ]
        },
        {
          "output_type": "stream",
          "name": "stderr",
          "text": [
            "Training: 100%|██████████| 25/25 [00:16<00:00,  1.50it/s, loss=1.81, acc=50.3]\n"
          ]
        },
        {
          "output_type": "stream",
          "name": "stdout",
          "text": [
            "Train Loss: 1.8060, Train Acc: 50.28%, Test Loss: 1.6403, Test Acc: 55.40%, Time: 16.65s\n",
            "New best model saved with accuracy: 55.40%\n",
            "\n",
            "Epoch [81/100] - Learning Rate: 0.016869\n"
          ]
        },
        {
          "output_type": "stream",
          "name": "stderr",
          "text": [
            "Training: 100%|██████████| 25/25 [00:16<00:00,  1.50it/s, loss=1.81, acc=50.2]\n"
          ]
        },
        {
          "output_type": "stream",
          "name": "stdout",
          "text": [
            "Train Loss: 1.8138, Train Acc: 50.18%, Test Loss: 1.6393, Test Acc: 55.58%, Time: 16.66s\n",
            "New best model saved with accuracy: 55.58%\n",
            "\n",
            "Epoch [82/100] - Learning Rate: 0.015279\n"
          ]
        },
        {
          "output_type": "stream",
          "name": "stderr",
          "text": [
            "Training: 100%|██████████| 25/25 [00:16<00:00,  1.50it/s, loss=1.79, acc=50.5]\n"
          ]
        },
        {
          "output_type": "stream",
          "name": "stdout",
          "text": [
            "Train Loss: 1.7924, Train Acc: 50.51%, Test Loss: 1.6270, Test Acc: 55.85%, Time: 16.71s\n",
            "New best model saved with accuracy: 55.85%\n",
            "\n",
            "Epoch [83/100] - Learning Rate: 0.013759\n"
          ]
        },
        {
          "output_type": "stream",
          "name": "stderr",
          "text": [
            "Training: 100%|██████████| 25/25 [00:16<00:00,  1.49it/s, loss=1.8, acc=50.5]\n"
          ]
        },
        {
          "output_type": "stream",
          "name": "stdout",
          "text": [
            "Train Loss: 1.7953, Train Acc: 50.51%, Test Loss: 1.6324, Test Acc: 55.33%, Time: 16.75s\n",
            "\n",
            "Epoch [84/100] - Learning Rate: 0.012312\n"
          ]
        },
        {
          "output_type": "stream",
          "name": "stderr",
          "text": [
            "Training: 100%|██████████| 25/25 [00:16<00:00,  1.49it/s, loss=1.79, acc=50.8]\n"
          ]
        },
        {
          "output_type": "stream",
          "name": "stdout",
          "text": [
            "Train Loss: 1.7868, Train Acc: 50.77%, Test Loss: 1.6241, Test Acc: 55.54%, Time: 16.80s\n",
            "\n",
            "Epoch [85/100] - Learning Rate: 0.010939\n"
          ]
        },
        {
          "output_type": "stream",
          "name": "stderr",
          "text": [
            "Training: 100%|██████████| 25/25 [00:16<00:00,  1.52it/s, loss=1.78, acc=51]\n"
          ]
        },
        {
          "output_type": "stream",
          "name": "stdout",
          "text": [
            "Train Loss: 1.7816, Train Acc: 51.01%, Test Loss: 1.6093, Test Acc: 56.01%, Time: 16.43s\n",
            "New best model saved with accuracy: 56.01%\n",
            "\n",
            "Epoch [86/100] - Learning Rate: 0.009642\n"
          ]
        },
        {
          "output_type": "stream",
          "name": "stderr",
          "text": [
            "Training: 100%|██████████| 25/25 [00:16<00:00,  1.50it/s, loss=1.78, acc=51.1]\n"
          ]
        },
        {
          "output_type": "stream",
          "name": "stdout",
          "text": [
            "Train Loss: 1.7802, Train Acc: 51.06%, Test Loss: 1.6089, Test Acc: 56.02%, Time: 16.66s\n",
            "New best model saved with accuracy: 56.02%\n",
            "\n",
            "Epoch [87/100] - Learning Rate: 0.008422\n"
          ]
        },
        {
          "output_type": "stream",
          "name": "stderr",
          "text": [
            "Training: 100%|██████████| 25/25 [00:16<00:00,  1.50it/s, loss=1.77, acc=51.4]\n"
          ]
        },
        {
          "output_type": "stream",
          "name": "stdout",
          "text": [
            "Train Loss: 1.7729, Train Acc: 51.35%, Test Loss: 1.5998, Test Acc: 56.32%, Time: 16.66s\n",
            "New best model saved with accuracy: 56.32%\n",
            "\n",
            "Epoch [88/100] - Learning Rate: 0.007279\n"
          ]
        },
        {
          "output_type": "stream",
          "name": "stderr",
          "text": [
            "Training: 100%|██████████| 25/25 [00:16<00:00,  1.52it/s, loss=1.76, acc=51.4]\n"
          ]
        },
        {
          "output_type": "stream",
          "name": "stdout",
          "text": [
            "Train Loss: 1.7641, Train Acc: 51.40%, Test Loss: 1.6026, Test Acc: 56.33%, Time: 16.45s\n",
            "New best model saved with accuracy: 56.33%\n",
            "\n",
            "Epoch [89/100] - Learning Rate: 0.006217\n"
          ]
        },
        {
          "output_type": "stream",
          "name": "stderr",
          "text": [
            "Training: 100%|██████████| 25/25 [00:16<00:00,  1.51it/s, loss=1.76, acc=51.6]\n"
          ]
        },
        {
          "output_type": "stream",
          "name": "stdout",
          "text": [
            "Train Loss: 1.7602, Train Acc: 51.62%, Test Loss: 1.5924, Test Acc: 56.88%, Time: 16.60s\n",
            "New best model saved with accuracy: 56.88%\n",
            "\n",
            "Epoch [90/100] - Learning Rate: 0.005235\n"
          ]
        },
        {
          "output_type": "stream",
          "name": "stderr",
          "text": [
            "Training: 100%|██████████| 25/25 [00:17<00:00,  1.45it/s, loss=1.76, acc=51.3]\n"
          ]
        },
        {
          "output_type": "stream",
          "name": "stdout",
          "text": [
            "Train Loss: 1.7577, Train Acc: 51.29%, Test Loss: 1.5932, Test Acc: 56.40%, Time: 17.26s\n",
            "\n",
            "Epoch [91/100] - Learning Rate: 0.004335\n"
          ]
        },
        {
          "output_type": "stream",
          "name": "stderr",
          "text": [
            "Training: 100%|██████████| 25/25 [00:16<00:00,  1.51it/s, loss=1.76, acc=51.6]\n"
          ]
        },
        {
          "output_type": "stream",
          "name": "stdout",
          "text": [
            "Train Loss: 1.7591, Train Acc: 51.62%, Test Loss: 1.5914, Test Acc: 56.55%, Time: 16.53s\n",
            "\n",
            "Epoch [92/100] - Learning Rate: 0.003517\n"
          ]
        },
        {
          "output_type": "stream",
          "name": "stderr",
          "text": [
            "Training: 100%|██████████| 25/25 [00:16<00:00,  1.49it/s, loss=1.75, acc=51.7]\n"
          ]
        },
        {
          "output_type": "stream",
          "name": "stdout",
          "text": [
            "Train Loss: 1.7489, Train Acc: 51.74%, Test Loss: 1.5869, Test Acc: 56.70%, Time: 16.74s\n",
            "\n",
            "Epoch [93/100] - Learning Rate: 0.002783\n"
          ]
        },
        {
          "output_type": "stream",
          "name": "stderr",
          "text": [
            "Training: 100%|██████████| 25/25 [00:16<00:00,  1.51it/s, loss=1.74, acc=52.1]\n"
          ]
        },
        {
          "output_type": "stream",
          "name": "stdout",
          "text": [
            "Train Loss: 1.7419, Train Acc: 52.11%, Test Loss: 1.5889, Test Acc: 56.44%, Time: 16.53s\n",
            "\n",
            "Epoch [94/100] - Learning Rate: 0.002134\n"
          ]
        },
        {
          "output_type": "stream",
          "name": "stderr",
          "text": [
            "Training: 100%|██████████| 25/25 [00:16<00:00,  1.49it/s, loss=1.74, acc=51.8]\n"
          ]
        },
        {
          "output_type": "stream",
          "name": "stdout",
          "text": [
            "Train Loss: 1.7420, Train Acc: 51.77%, Test Loss: 1.5874, Test Acc: 56.52%, Time: 16.74s\n",
            "\n",
            "Epoch [95/100] - Learning Rate: 0.001570\n"
          ]
        },
        {
          "output_type": "stream",
          "name": "stderr",
          "text": [
            "Training: 100%|██████████| 25/25 [00:16<00:00,  1.52it/s, loss=1.74, acc=52.1]\n"
          ]
        },
        {
          "output_type": "stream",
          "name": "stdout",
          "text": [
            "Train Loss: 1.7426, Train Acc: 52.05%, Test Loss: 1.5856, Test Acc: 56.72%, Time: 16.41s\n",
            "\n",
            "Epoch [96/100] - Learning Rate: 0.001091\n"
          ]
        },
        {
          "output_type": "stream",
          "name": "stderr",
          "text": [
            "Training: 100%|██████████| 25/25 [00:16<00:00,  1.50it/s, loss=1.73, acc=52.1]\n"
          ]
        },
        {
          "output_type": "stream",
          "name": "stdout",
          "text": [
            "Train Loss: 1.7304, Train Acc: 52.10%, Test Loss: 1.5853, Test Acc: 56.69%, Time: 16.64s\n",
            "\n",
            "Epoch [97/100] - Learning Rate: 0.000699\n"
          ]
        },
        {
          "output_type": "stream",
          "name": "stderr",
          "text": [
            "Training: 100%|██████████| 25/25 [00:16<00:00,  1.54it/s, loss=1.74, acc=51.7]\n"
          ]
        },
        {
          "output_type": "stream",
          "name": "stdout",
          "text": [
            "Train Loss: 1.7398, Train Acc: 51.73%, Test Loss: 1.5854, Test Acc: 56.75%, Time: 16.24s\n",
            "\n",
            "Epoch [98/100] - Learning Rate: 0.000393\n"
          ]
        },
        {
          "output_type": "stream",
          "name": "stderr",
          "text": [
            "Training: 100%|██████████| 25/25 [00:16<00:00,  1.52it/s, loss=1.74, acc=51.9]\n"
          ]
        },
        {
          "output_type": "stream",
          "name": "stdout",
          "text": [
            "Train Loss: 1.7402, Train Acc: 51.88%, Test Loss: 1.5848, Test Acc: 56.82%, Time: 16.43s\n",
            "\n",
            "Epoch [99/100] - Learning Rate: 0.000175\n"
          ]
        },
        {
          "output_type": "stream",
          "name": "stderr",
          "text": [
            "Training: 100%|██████████| 25/25 [00:16<00:00,  1.49it/s, loss=1.74, acc=51.9]\n"
          ]
        },
        {
          "output_type": "stream",
          "name": "stdout",
          "text": [
            "Train Loss: 1.7379, Train Acc: 51.93%, Test Loss: 1.5843, Test Acc: 56.91%, Time: 16.75s\n",
            "New best model saved with accuracy: 56.91%\n",
            "\n",
            "Epoch [100/100] - Learning Rate: 0.000044\n"
          ]
        },
        {
          "output_type": "stream",
          "name": "stderr",
          "text": [
            "Training: 100%|██████████| 25/25 [00:17<00:00,  1.43it/s, loss=1.73, acc=52.1]\n"
          ]
        },
        {
          "output_type": "stream",
          "name": "stdout",
          "text": [
            "Train Loss: 1.7334, Train Acc: 52.12%, Test Loss: 1.5840, Test Acc: 56.91%, Time: 17.46s\n",
            "Best model loaded with accuracy: 56.91%\n"
          ]
        },
        {
          "output_type": "display_data",
          "data": {
            "text/plain": [
              "<Figure size 1800x500 with 3 Axes>"
            ],
            "image/png": "[encoded data removed]"
          },
          "metadata": {}
        },
        {
          "output_type": "stream",
          "name": "stdout",
          "text": [
            "LARS benchmark completed!\n"
          ]
        }
      ]
    }
  ]
}