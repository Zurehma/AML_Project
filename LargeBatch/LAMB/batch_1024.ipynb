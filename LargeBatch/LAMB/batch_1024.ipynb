{
  "nbformat": 4,
  "nbformat_minor": 0,
  "metadata": {
    "colab": {
      "provenance": [],
      "gpuType": "T4",
      "include_colab_link": true
    },
    "kernelspec": {
      "name": "python3",
      "display_name": "Python 3"
    },
    "language_info": {
      "name": "python"
    },
    "accelerator": "GPU"
  },
  "cells": [
    {
      "cell_type": "markdown",
      "metadata": {
        "id": "view-in-github",
        "colab_type": "text"
      },
      "source": [
        "<a href=\"https://colab.research.google.com/github/Zurehma/AML_Project/blob/main/LargeBatch/LAMB/batch_1024.ipynb\" target=\"_parent\"><img src=\"https://colab.research.google.com/assets/colab-badge.svg\" alt=\"Open In Colab\"/></a>"
      ]
    },
    {
      "cell_type": "code",
      "source": [
        "!pip install torch-optimizer"
      ],
      "metadata": {
        "id": "NXyk6PmVw6X8"
      },
      "execution_count": null,
      "outputs": []
    },
    {
      "cell_type": "code",
      "execution_count": 7,
      "metadata": {
        "id": "HqQ4KqXLwvW_",
        "colab": {
          "base_uri": "https://localhost:8080/",
          "height": 1000
        },
        "outputId": "9895b72b-1885-4b12-8b0f-2e4151a0a9e6"
      },
      "outputs": [
        {
          "output_type": "stream",
          "name": "stdout",
          "text": [
            "PyTorch version: 2.6.0+cu124\n",
            "Using device: cuda:0\n",
            "Running LAMB benchmark with improved_cnn on cifar100...\n",
            "Total parameters: 1,774,052\n",
            "\n",
            "Epoch [1/100] - Learning Rate: 0.001000\n"
          ]
        },
        {
          "output_type": "stream",
          "name": "stderr",
          "text": [
            "Training: 100%|██████████| 49/49 [00:17<00:00,  2.80it/s, loss=4.6, acc=1.55]\n"
          ]
        },
        {
          "output_type": "stream",
          "name": "stdout",
          "text": [
            "Train Loss: 4.5958, Train Acc: 1.55%, Test Loss: 4.5428, Test Acc: 4.47%, Time: 17.48s\n",
            "New best model saved with accuracy: 4.47%\n",
            "\n",
            "Epoch [2/100] - Learning Rate: 0.002000\n"
          ]
        },
        {
          "output_type": "stream",
          "name": "stderr",
          "text": [
            "Training: 100%|██████████| 49/49 [00:19<00:00,  2.55it/s, loss=4.46, acc=3.34]\n"
          ]
        },
        {
          "output_type": "stream",
          "name": "stdout",
          "text": [
            "Train Loss: 4.4604, Train Acc: 3.34%, Test Loss: 4.2567, Test Acc: 6.58%, Time: 19.23s\n",
            "New best model saved with accuracy: 6.58%\n",
            "\n",
            "Epoch [3/100] - Learning Rate: 0.003000\n"
          ]
        },
        {
          "output_type": "stream",
          "name": "stderr",
          "text": [
            "Training: 100%|██████████| 49/49 [00:17<00:00,  2.75it/s, loss=4.24, acc=5.45]\n"
          ]
        },
        {
          "output_type": "stream",
          "name": "stdout",
          "text": [
            "Train Loss: 4.2398, Train Acc: 5.45%, Test Loss: 3.9467, Test Acc: 11.09%, Time: 17.83s\n",
            "New best model saved with accuracy: 11.09%\n",
            "\n",
            "Epoch [4/100] - Learning Rate: 0.004000\n"
          ]
        },
        {
          "output_type": "stream",
          "name": "stderr",
          "text": [
            "Training: 100%|██████████| 49/49 [00:17<00:00,  2.76it/s, loss=4.01, acc=7.95]\n"
          ]
        },
        {
          "output_type": "stream",
          "name": "stdout",
          "text": [
            "Train Loss: 4.0068, Train Acc: 7.95%, Test Loss: 3.6447, Test Acc: 15.47%, Time: 17.75s\n",
            "New best model saved with accuracy: 15.47%\n",
            "\n",
            "Epoch [5/100] - Learning Rate: 0.005000\n"
          ]
        },
        {
          "output_type": "stream",
          "name": "stderr",
          "text": [
            "Training: 100%|██████████| 49/49 [00:18<00:00,  2.60it/s, loss=3.79, acc=10.9]\n"
          ]
        },
        {
          "output_type": "stream",
          "name": "stdout",
          "text": [
            "Train Loss: 3.7909, Train Acc: 10.86%, Test Loss: 3.4228, Test Acc: 19.15%, Time: 18.85s\n",
            "New best model saved with accuracy: 19.15%\n",
            "\n",
            "Epoch [6/100] - Learning Rate: 0.006000\n"
          ]
        },
        {
          "output_type": "stream",
          "name": "stderr",
          "text": [
            "Training: 100%|██████████| 49/49 [00:17<00:00,  2.75it/s, loss=3.61, acc=13.8]\n"
          ]
        },
        {
          "output_type": "stream",
          "name": "stdout",
          "text": [
            "Train Loss: 3.6058, Train Acc: 13.82%, Test Loss: 3.2047, Test Acc: 21.67%, Time: 17.81s\n",
            "New best model saved with accuracy: 21.67%\n",
            "\n",
            "Epoch [7/100] - Learning Rate: 0.007000\n"
          ]
        },
        {
          "output_type": "stream",
          "name": "stderr",
          "text": [
            "Training: 100%|██████████| 49/49 [00:18<00:00,  2.59it/s, loss=3.45, acc=16.2]\n"
          ]
        },
        {
          "output_type": "stream",
          "name": "stdout",
          "text": [
            "Train Loss: 3.4511, Train Acc: 16.23%, Test Loss: 3.1323, Test Acc: 23.53%, Time: 18.90s\n",
            "New best model saved with accuracy: 23.53%\n",
            "\n",
            "Epoch [8/100] - Learning Rate: 0.008000\n"
          ]
        },
        {
          "output_type": "stream",
          "name": "stderr",
          "text": [
            "Training: 100%|██████████| 49/49 [00:17<00:00,  2.75it/s, loss=3.33, acc=18.3]\n"
          ]
        },
        {
          "output_type": "stream",
          "name": "stdout",
          "text": [
            "Train Loss: 3.3294, Train Acc: 18.31%, Test Loss: 2.9319, Test Acc: 26.76%, Time: 17.83s\n",
            "New best model saved with accuracy: 26.76%\n",
            "\n",
            "Epoch [9/100] - Learning Rate: 0.009000\n"
          ]
        },
        {
          "output_type": "stream",
          "name": "stderr",
          "text": [
            "Training: 100%|██████████| 49/49 [00:17<00:00,  2.75it/s, loss=3.25, acc=20.1]\n"
          ]
        },
        {
          "output_type": "stream",
          "name": "stdout",
          "text": [
            "Train Loss: 3.2508, Train Acc: 20.11%, Test Loss: 2.8832, Test Acc: 27.94%, Time: 17.83s\n",
            "New best model saved with accuracy: 27.94%\n",
            "\n",
            "Epoch [10/100] - Learning Rate: 0.010000\n"
          ]
        },
        {
          "output_type": "stream",
          "name": "stderr",
          "text": [
            "Training: 100%|██████████| 49/49 [00:19<00:00,  2.58it/s, loss=3.18, acc=21.4]\n"
          ]
        },
        {
          "output_type": "stream",
          "name": "stdout",
          "text": [
            "Train Loss: 3.1811, Train Acc: 21.40%, Test Loss: 2.8045, Test Acc: 28.82%, Time: 19.03s\n",
            "New best model saved with accuracy: 28.82%\n",
            "\n",
            "Epoch [11/100] - Learning Rate: 0.010000\n"
          ]
        },
        {
          "output_type": "stream",
          "name": "stderr",
          "text": [
            "Training: 100%|██████████| 49/49 [00:17<00:00,  2.75it/s, loss=3.13, acc=22.2]\n"
          ]
        },
        {
          "output_type": "stream",
          "name": "stdout",
          "text": [
            "Train Loss: 3.1280, Train Acc: 22.20%, Test Loss: 2.7516, Test Acc: 29.75%, Time: 17.79s\n",
            "New best model saved with accuracy: 29.75%\n",
            "\n",
            "Epoch [12/100] - Learning Rate: 0.009997\n"
          ]
        },
        {
          "output_type": "stream",
          "name": "stderr",
          "text": [
            "Training: 100%|██████████| 49/49 [00:18<00:00,  2.60it/s, loss=3.06, acc=23.6]\n"
          ]
        },
        {
          "output_type": "stream",
          "name": "stdout",
          "text": [
            "Train Loss: 3.0642, Train Acc: 23.64%, Test Loss: 2.7180, Test Acc: 30.37%, Time: 18.82s\n",
            "New best model saved with accuracy: 30.37%\n",
            "\n",
            "Epoch [13/100] - Learning Rate: 0.009988\n"
          ]
        },
        {
          "output_type": "stream",
          "name": "stderr",
          "text": [
            "Training: 100%|██████████| 49/49 [00:17<00:00,  2.76it/s, loss=3.01, acc=24.7]\n"
          ]
        },
        {
          "output_type": "stream",
          "name": "stdout",
          "text": [
            "Train Loss: 3.0115, Train Acc: 24.75%, Test Loss: 2.6070, Test Acc: 32.96%, Time: 17.77s\n",
            "New best model saved with accuracy: 32.96%\n",
            "\n",
            "Epoch [14/100] - Learning Rate: 0.009973\n"
          ]
        },
        {
          "output_type": "stream",
          "name": "stderr",
          "text": [
            "Training: 100%|██████████| 49/49 [00:17<00:00,  2.76it/s, loss=2.96, acc=25.3]\n"
          ]
        },
        {
          "output_type": "stream",
          "name": "stdout",
          "text": [
            "Train Loss: 2.9649, Train Acc: 25.33%, Test Loss: 2.7397, Test Acc: 29.99%, Time: 17.77s\n",
            "\n",
            "Epoch [15/100] - Learning Rate: 0.009951\n"
          ]
        },
        {
          "output_type": "stream",
          "name": "stderr",
          "text": [
            "Training: 100%|██████████| 49/49 [00:18<00:00,  2.62it/s, loss=2.94, acc=25.9]\n"
          ]
        },
        {
          "output_type": "stream",
          "name": "stdout",
          "text": [
            "Train Loss: 2.9391, Train Acc: 25.90%, Test Loss: 2.5435, Test Acc: 34.61%, Time: 18.72s\n",
            "New best model saved with accuracy: 34.61%\n",
            "\n",
            "Epoch [16/100] - Learning Rate: 0.009924\n"
          ]
        },
        {
          "output_type": "stream",
          "name": "stderr",
          "text": [
            "Training: 100%|██████████| 49/49 [00:17<00:00,  2.78it/s, loss=2.89, acc=27]\n"
          ]
        },
        {
          "output_type": "stream",
          "name": "stdout",
          "text": [
            "Train Loss: 2.8880, Train Acc: 27.04%, Test Loss: 2.5055, Test Acc: 34.89%, Time: 17.60s\n",
            "New best model saved with accuracy: 34.89%\n",
            "\n",
            "Epoch [17/100] - Learning Rate: 0.009891\n"
          ]
        },
        {
          "output_type": "stream",
          "name": "stderr",
          "text": [
            "Training: 100%|██████████| 49/49 [00:18<00:00,  2.58it/s, loss=2.87, acc=27.1]\n"
          ]
        },
        {
          "output_type": "stream",
          "name": "stdout",
          "text": [
            "Train Loss: 2.8664, Train Acc: 27.05%, Test Loss: 2.5377, Test Acc: 34.37%, Time: 18.97s\n",
            "\n",
            "Epoch [18/100] - Learning Rate: 0.009851\n"
          ]
        },
        {
          "output_type": "stream",
          "name": "stderr",
          "text": [
            "Training: 100%|██████████| 49/49 [00:17<00:00,  2.76it/s, loss=2.83, acc=28.5]\n"
          ]
        },
        {
          "output_type": "stream",
          "name": "stdout",
          "text": [
            "Train Loss: 2.8260, Train Acc: 28.47%, Test Loss: 2.5811, Test Acc: 33.80%, Time: 17.77s\n",
            "\n",
            "Epoch [19/100] - Learning Rate: 0.009806\n"
          ]
        },
        {
          "output_type": "stream",
          "name": "stderr",
          "text": [
            "Training: 100%|██████████| 49/49 [00:17<00:00,  2.72it/s, loss=2.77, acc=29]\n"
          ]
        },
        {
          "output_type": "stream",
          "name": "stdout",
          "text": [
            "Train Loss: 2.7722, Train Acc: 29.01%, Test Loss: 2.3833, Test Acc: 38.18%, Time: 17.99s\n",
            "New best model saved with accuracy: 38.18%\n",
            "\n",
            "Epoch [20/100] - Learning Rate: 0.009755\n"
          ]
        },
        {
          "output_type": "stream",
          "name": "stderr",
          "text": [
            "Training: 100%|██████████| 49/49 [00:18<00:00,  2.59it/s, loss=2.75, acc=29.8]\n"
          ]
        },
        {
          "output_type": "stream",
          "name": "stdout",
          "text": [
            "Train Loss: 2.7452, Train Acc: 29.79%, Test Loss: 2.3355, Test Acc: 39.07%, Time: 18.90s\n",
            "New best model saved with accuracy: 39.07%\n",
            "\n",
            "Epoch [21/100] - Learning Rate: 0.009698\n"
          ]
        },
        {
          "output_type": "stream",
          "name": "stderr",
          "text": [
            "Training: 100%|██████████| 49/49 [00:17<00:00,  2.78it/s, loss=2.71, acc=30.5]\n"
          ]
        },
        {
          "output_type": "stream",
          "name": "stdout",
          "text": [
            "Train Loss: 2.7112, Train Acc: 30.47%, Test Loss: 2.3448, Test Acc: 38.32%, Time: 17.60s\n",
            "\n",
            "Epoch [22/100] - Learning Rate: 0.009636\n"
          ]
        },
        {
          "output_type": "stream",
          "name": "stderr",
          "text": [
            "Training: 100%|██████████| 49/49 [00:18<00:00,  2.62it/s, loss=2.68, acc=31]\n"
          ]
        },
        {
          "output_type": "stream",
          "name": "stdout",
          "text": [
            "Train Loss: 2.6803, Train Acc: 30.99%, Test Loss: 2.2596, Test Acc: 40.13%, Time: 18.68s\n",
            "New best model saved with accuracy: 40.13%\n",
            "\n",
            "Epoch [23/100] - Learning Rate: 0.009568\n"
          ]
        },
        {
          "output_type": "stream",
          "name": "stderr",
          "text": [
            "Training: 100%|██████████| 49/49 [00:17<00:00,  2.77it/s, loss=2.66, acc=31.7]\n"
          ]
        },
        {
          "output_type": "stream",
          "name": "stdout",
          "text": [
            "Train Loss: 2.6610, Train Acc: 31.67%, Test Loss: 2.3777, Test Acc: 38.08%, Time: 17.68s\n",
            "\n",
            "Epoch [24/100] - Learning Rate: 0.009494\n"
          ]
        },
        {
          "output_type": "stream",
          "name": "stderr",
          "text": [
            "Training: 100%|██████████| 49/49 [00:18<00:00,  2.68it/s, loss=2.61, acc=32.1]\n"
          ]
        },
        {
          "output_type": "stream",
          "name": "stdout",
          "text": [
            "Train Loss: 2.6134, Train Acc: 32.07%, Test Loss: 2.2182, Test Acc: 41.13%, Time: 18.29s\n",
            "New best model saved with accuracy: 41.13%\n",
            "\n",
            "Epoch [25/100] - Learning Rate: 0.009415\n"
          ]
        },
        {
          "output_type": "stream",
          "name": "stderr",
          "text": [
            "Training: 100%|██████████| 49/49 [00:17<00:00,  2.78it/s, loss=2.6, acc=32.8]\n"
          ]
        },
        {
          "output_type": "stream",
          "name": "stdout",
          "text": [
            "Train Loss: 2.5987, Train Acc: 32.78%, Test Loss: 2.2804, Test Acc: 40.28%, Time: 17.64s\n",
            "\n",
            "Epoch [26/100] - Learning Rate: 0.009330\n"
          ]
        },
        {
          "output_type": "stream",
          "name": "stderr",
          "text": [
            "Training: 100%|██████████| 49/49 [00:17<00:00,  2.77it/s, loss=2.56, acc=33.5]\n"
          ]
        },
        {
          "output_type": "stream",
          "name": "stdout",
          "text": [
            "Train Loss: 2.5560, Train Acc: 33.52%, Test Loss: 2.1853, Test Acc: 41.92%, Time: 17.72s\n",
            "New best model saved with accuracy: 41.92%\n",
            "\n",
            "Epoch [27/100] - Learning Rate: 0.009240\n"
          ]
        },
        {
          "output_type": "stream",
          "name": "stderr",
          "text": [
            "Training: 100%|██████████| 49/49 [00:18<00:00,  2.63it/s, loss=2.55, acc=33.8]\n"
          ]
        },
        {
          "output_type": "stream",
          "name": "stdout",
          "text": [
            "Train Loss: 2.5491, Train Acc: 33.79%, Test Loss: 2.2127, Test Acc: 40.59%, Time: 18.62s\n",
            "\n",
            "Epoch [28/100] - Learning Rate: 0.009145\n"
          ]
        },
        {
          "output_type": "stream",
          "name": "stderr",
          "text": [
            "Training: 100%|██████████| 49/49 [00:17<00:00,  2.76it/s, loss=2.51, acc=34.5]\n"
          ]
        },
        {
          "output_type": "stream",
          "name": "stdout",
          "text": [
            "Train Loss: 2.5128, Train Acc: 34.50%, Test Loss: 2.1333, Test Acc: 43.48%, Time: 17.76s\n",
            "New best model saved with accuracy: 43.48%\n",
            "\n",
            "Epoch [29/100] - Learning Rate: 0.009045\n"
          ]
        },
        {
          "output_type": "stream",
          "name": "stderr",
          "text": [
            "Training: 100%|██████████| 49/49 [00:18<00:00,  2.60it/s, loss=2.5, acc=34.9]\n"
          ]
        },
        {
          "output_type": "stream",
          "name": "stdout",
          "text": [
            "Train Loss: 2.5025, Train Acc: 34.85%, Test Loss: 2.1382, Test Acc: 42.71%, Time: 18.84s\n",
            "\n",
            "Epoch [30/100] - Learning Rate: 0.008940\n"
          ]
        },
        {
          "output_type": "stream",
          "name": "stderr",
          "text": [
            "Training: 100%|██████████| 49/49 [00:17<00:00,  2.75it/s, loss=2.47, acc=35.5]\n"
          ]
        },
        {
          "output_type": "stream",
          "name": "stdout",
          "text": [
            "Train Loss: 2.4683, Train Acc: 35.47%, Test Loss: 2.1296, Test Acc: 43.58%, Time: 17.85s\n",
            "New best model saved with accuracy: 43.58%\n",
            "\n",
            "Epoch [31/100] - Learning Rate: 0.008830\n"
          ]
        },
        {
          "output_type": "stream",
          "name": "stderr",
          "text": [
            "Training: 100%|██████████| 49/49 [00:17<00:00,  2.76it/s, loss=2.44, acc=36.2]\n"
          ]
        },
        {
          "output_type": "stream",
          "name": "stdout",
          "text": [
            "Train Loss: 2.4413, Train Acc: 36.15%, Test Loss: 2.1466, Test Acc: 43.30%, Time: 17.73s\n",
            "\n",
            "Epoch [32/100] - Learning Rate: 0.008716\n"
          ]
        },
        {
          "output_type": "stream",
          "name": "stderr",
          "text": [
            "Training: 100%|██████████| 49/49 [00:18<00:00,  2.61it/s, loss=2.42, acc=36.8]\n"
          ]
        },
        {
          "output_type": "stream",
          "name": "stdout",
          "text": [
            "Train Loss: 2.4244, Train Acc: 36.82%, Test Loss: 2.0597, Test Acc: 44.83%, Time: 18.77s\n",
            "New best model saved with accuracy: 44.83%\n",
            "\n",
            "Epoch [33/100] - Learning Rate: 0.008597\n"
          ]
        },
        {
          "output_type": "stream",
          "name": "stderr",
          "text": [
            "Training: 100%|██████████| 49/49 [00:17<00:00,  2.74it/s, loss=2.4, acc=37.1]\n"
          ]
        },
        {
          "output_type": "stream",
          "name": "stdout",
          "text": [
            "Train Loss: 2.3963, Train Acc: 37.09%, Test Loss: 2.0545, Test Acc: 44.58%, Time: 17.92s\n",
            "\n",
            "Epoch [34/100] - Learning Rate: 0.008473\n"
          ]
        },
        {
          "output_type": "stream",
          "name": "stderr",
          "text": [
            "Training: 100%|██████████| 49/49 [00:18<00:00,  2.61it/s, loss=2.4, acc=37]\n"
          ]
        },
        {
          "output_type": "stream",
          "name": "stdout",
          "text": [
            "Train Loss: 2.3992, Train Acc: 37.00%, Test Loss: 2.0926, Test Acc: 43.65%, Time: 18.75s\n",
            "\n",
            "Epoch [35/100] - Learning Rate: 0.008346\n"
          ]
        },
        {
          "output_type": "stream",
          "name": "stderr",
          "text": [
            "Training: 100%|██████████| 49/49 [00:17<00:00,  2.75it/s, loss=2.36, acc=37.6]\n"
          ]
        },
        {
          "output_type": "stream",
          "name": "stdout",
          "text": [
            "Train Loss: 2.3642, Train Acc: 37.63%, Test Loss: 2.0142, Test Acc: 45.82%, Time: 17.83s\n",
            "New best model saved with accuracy: 45.82%\n",
            "\n",
            "Epoch [36/100] - Learning Rate: 0.008214\n"
          ]
        },
        {
          "output_type": "stream",
          "name": "stderr",
          "text": [
            "Training: 100%|██████████| 49/49 [00:17<00:00,  2.73it/s, loss=2.34, acc=38]\n"
          ]
        },
        {
          "output_type": "stream",
          "name": "stdout",
          "text": [
            "Train Loss: 2.3446, Train Acc: 38.05%, Test Loss: 2.0328, Test Acc: 45.21%, Time: 17.95s\n",
            "\n",
            "Epoch [37/100] - Learning Rate: 0.008078\n"
          ]
        },
        {
          "output_type": "stream",
          "name": "stderr",
          "text": [
            "Training: 100%|██████████| 49/49 [00:18<00:00,  2.60it/s, loss=2.32, acc=38.7]\n"
          ]
        },
        {
          "output_type": "stream",
          "name": "stdout",
          "text": [
            "Train Loss: 2.3174, Train Acc: 38.75%, Test Loss: 1.9917, Test Acc: 46.70%, Time: 18.87s\n",
            "New best model saved with accuracy: 46.70%\n",
            "\n",
            "Epoch [38/100] - Learning Rate: 0.007939\n"
          ]
        },
        {
          "output_type": "stream",
          "name": "stderr",
          "text": [
            "Training: 100%|██████████| 49/49 [00:17<00:00,  2.75it/s, loss=2.32, acc=38.6]\n"
          ]
        },
        {
          "output_type": "stream",
          "name": "stdout",
          "text": [
            "Train Loss: 2.3234, Train Acc: 38.57%, Test Loss: 2.0650, Test Acc: 45.25%, Time: 17.83s\n",
            "\n",
            "Epoch [39/100] - Learning Rate: 0.007796\n"
          ]
        },
        {
          "output_type": "stream",
          "name": "stderr",
          "text": [
            "Training: 100%|██████████| 49/49 [00:18<00:00,  2.60it/s, loss=2.31, acc=38.8]\n"
          ]
        },
        {
          "output_type": "stream",
          "name": "stdout",
          "text": [
            "Train Loss: 2.3076, Train Acc: 38.78%, Test Loss: 1.9755, Test Acc: 46.79%, Time: 18.85s\n",
            "New best model saved with accuracy: 46.79%\n",
            "\n",
            "Epoch [40/100] - Learning Rate: 0.007650\n"
          ]
        },
        {
          "output_type": "stream",
          "name": "stderr",
          "text": [
            "Training: 100%|██████████| 49/49 [00:17<00:00,  2.75it/s, loss=2.29, acc=39.4]\n"
          ]
        },
        {
          "output_type": "stream",
          "name": "stdout",
          "text": [
            "Train Loss: 2.2862, Train Acc: 39.37%, Test Loss: 1.9897, Test Acc: 46.24%, Time: 17.80s\n",
            "\n",
            "Epoch [41/100] - Learning Rate: 0.007500\n"
          ]
        },
        {
          "output_type": "stream",
          "name": "stderr",
          "text": [
            "Training: 100%|██████████| 49/49 [00:17<00:00,  2.77it/s, loss=2.28, acc=39.5]\n"
          ]
        },
        {
          "output_type": "stream",
          "name": "stdout",
          "text": [
            "Train Loss: 2.2792, Train Acc: 39.46%, Test Loss: 1.9748, Test Acc: 47.54%, Time: 17.70s\n",
            "New best model saved with accuracy: 47.54%\n",
            "\n",
            "Epoch [42/100] - Learning Rate: 0.007347\n"
          ]
        },
        {
          "output_type": "stream",
          "name": "stderr",
          "text": [
            "Training: 100%|██████████| 49/49 [00:18<00:00,  2.66it/s, loss=2.25, acc=40.2]\n"
          ]
        },
        {
          "output_type": "stream",
          "name": "stdout",
          "text": [
            "Train Loss: 2.2461, Train Acc: 40.17%, Test Loss: 1.9584, Test Acc: 47.64%, Time: 18.44s\n",
            "New best model saved with accuracy: 47.64%\n",
            "\n",
            "Epoch [43/100] - Learning Rate: 0.007192\n"
          ]
        },
        {
          "output_type": "stream",
          "name": "stderr",
          "text": [
            "Training: 100%|██████████| 49/49 [00:17<00:00,  2.75it/s, loss=2.23, acc=40.3]\n"
          ]
        },
        {
          "output_type": "stream",
          "name": "stdout",
          "text": [
            "Train Loss: 2.2321, Train Acc: 40.29%, Test Loss: 1.9078, Test Acc: 48.53%, Time: 17.83s\n",
            "New best model saved with accuracy: 48.53%\n",
            "\n",
            "Epoch [44/100] - Learning Rate: 0.007034\n"
          ]
        },
        {
          "output_type": "stream",
          "name": "stderr",
          "text": [
            "Training: 100%|██████████| 49/49 [00:18<00:00,  2.59it/s, loss=2.22, acc=40.8]\n"
          ]
        },
        {
          "output_type": "stream",
          "name": "stdout",
          "text": [
            "Train Loss: 2.2196, Train Acc: 40.78%, Test Loss: 1.9241, Test Acc: 48.43%, Time: 18.90s\n",
            "\n",
            "Epoch [45/100] - Learning Rate: 0.006873\n"
          ]
        },
        {
          "output_type": "stream",
          "name": "stderr",
          "text": [
            "Training: 100%|██████████| 49/49 [00:17<00:00,  2.78it/s, loss=2.22, acc=40.9]\n"
          ]
        },
        {
          "output_type": "stream",
          "name": "stdout",
          "text": [
            "Train Loss: 2.2191, Train Acc: 40.93%, Test Loss: 1.8982, Test Acc: 48.41%, Time: 17.64s\n",
            "\n",
            "Epoch [46/100] - Learning Rate: 0.006710\n"
          ]
        },
        {
          "output_type": "stream",
          "name": "stderr",
          "text": [
            "Training: 100%|██████████| 49/49 [00:18<00:00,  2.69it/s, loss=2.21, acc=41.3]\n"
          ]
        },
        {
          "output_type": "stream",
          "name": "stdout",
          "text": [
            "Train Loss: 2.2062, Train Acc: 41.35%, Test Loss: 1.9438, Test Acc: 47.73%, Time: 18.23s\n",
            "\n",
            "Epoch [47/100] - Learning Rate: 0.006545\n"
          ]
        },
        {
          "output_type": "stream",
          "name": "stderr",
          "text": [
            "Training: 100%|██████████| 49/49 [00:17<00:00,  2.75it/s, loss=2.19, acc=41.5]\n"
          ]
        },
        {
          "output_type": "stream",
          "name": "stdout",
          "text": [
            "Train Loss: 2.1856, Train Acc: 41.48%, Test Loss: 1.9004, Test Acc: 48.58%, Time: 17.84s\n",
            "New best model saved with accuracy: 48.58%\n",
            "\n",
            "Epoch [48/100] - Learning Rate: 0.006378\n"
          ]
        },
        {
          "output_type": "stream",
          "name": "stderr",
          "text": [
            "Training: 100%|██████████| 49/49 [00:17<00:00,  2.74it/s, loss=2.16, acc=42.2]\n"
          ]
        },
        {
          "output_type": "stream",
          "name": "stdout",
          "text": [
            "Train Loss: 2.1643, Train Acc: 42.20%, Test Loss: 1.8594, Test Acc: 49.74%, Time: 17.88s\n",
            "New best model saved with accuracy: 49.74%\n",
            "\n",
            "Epoch [49/100] - Learning Rate: 0.006210\n"
          ]
        },
        {
          "output_type": "stream",
          "name": "stderr",
          "text": [
            "Training: 100%|██████████| 49/49 [00:19<00:00,  2.55it/s, loss=2.15, acc=42.1]\n"
          ]
        },
        {
          "output_type": "stream",
          "name": "stdout",
          "text": [
            "Train Loss: 2.1481, Train Acc: 42.08%, Test Loss: 1.8525, Test Acc: 49.74%, Time: 19.20s\n",
            "\n",
            "Epoch [50/100] - Learning Rate: 0.006040\n"
          ]
        },
        {
          "output_type": "stream",
          "name": "stderr",
          "text": [
            "Training: 100%|██████████| 49/49 [00:17<00:00,  2.74it/s, loss=2.16, acc=42.1]\n"
          ]
        },
        {
          "output_type": "stream",
          "name": "stdout",
          "text": [
            "Train Loss: 2.1581, Train Acc: 42.10%, Test Loss: 1.8517, Test Acc: 49.16%, Time: 17.87s\n",
            "\n",
            "Epoch [51/100] - Learning Rate: 0.005868\n"
          ]
        },
        {
          "output_type": "stream",
          "name": "stderr",
          "text": [
            "Training: 100%|██████████| 49/49 [00:18<00:00,  2.62it/s, loss=2.13, acc=42.7]\n"
          ]
        },
        {
          "output_type": "stream",
          "name": "stdout",
          "text": [
            "Train Loss: 2.1335, Train Acc: 42.69%, Test Loss: 1.8380, Test Acc: 50.21%, Time: 18.73s\n",
            "New best model saved with accuracy: 50.21%\n",
            "\n",
            "Epoch [52/100] - Learning Rate: 0.005696\n"
          ]
        },
        {
          "output_type": "stream",
          "name": "stderr",
          "text": [
            "Training: 100%|██████████| 49/49 [00:18<00:00,  2.67it/s, loss=2.12, acc=43.2]\n"
          ]
        },
        {
          "output_type": "stream",
          "name": "stdout",
          "text": [
            "Train Loss: 2.1180, Train Acc: 43.17%, Test Loss: 1.8432, Test Acc: 50.61%, Time: 18.37s\n",
            "New best model saved with accuracy: 50.61%\n",
            "\n",
            "Epoch [53/100] - Learning Rate: 0.005523\n"
          ]
        },
        {
          "output_type": "stream",
          "name": "stderr",
          "text": [
            "Training: 100%|██████████| 49/49 [00:17<00:00,  2.75it/s, loss=2.11, acc=43.1]\n"
          ]
        },
        {
          "output_type": "stream",
          "name": "stdout",
          "text": [
            "Train Loss: 2.1127, Train Acc: 43.14%, Test Loss: 1.8655, Test Acc: 49.73%, Time: 17.81s\n",
            "\n",
            "Epoch [54/100] - Learning Rate: 0.005349\n"
          ]
        },
        {
          "output_type": "stream",
          "name": "stderr",
          "text": [
            "Training: 100%|██████████| 49/49 [00:18<00:00,  2.59it/s, loss=2.1, acc=43.3]\n"
          ]
        },
        {
          "output_type": "stream",
          "name": "stdout",
          "text": [
            "Train Loss: 2.1037, Train Acc: 43.33%, Test Loss: 1.9144, Test Acc: 48.18%, Time: 18.94s\n",
            "\n",
            "Epoch [55/100] - Learning Rate: 0.005174\n"
          ]
        },
        {
          "output_type": "stream",
          "name": "stderr",
          "text": [
            "Training: 100%|██████████| 49/49 [00:17<00:00,  2.76it/s, loss=2.09, acc=43.6]\n"
          ]
        },
        {
          "output_type": "stream",
          "name": "stdout",
          "text": [
            "Train Loss: 2.0924, Train Acc: 43.60%, Test Loss: 1.8593, Test Acc: 50.19%, Time: 17.76s\n",
            "\n",
            "Epoch [56/100] - Learning Rate: 0.005000\n"
          ]
        },
        {
          "output_type": "stream",
          "name": "stderr",
          "text": [
            "Training: 100%|██████████| 49/49 [00:18<00:00,  2.65it/s, loss=2.07, acc=44.1]\n"
          ]
        },
        {
          "output_type": "stream",
          "name": "stdout",
          "text": [
            "Train Loss: 2.0674, Train Acc: 44.10%, Test Loss: 1.9995, Test Acc: 47.31%, Time: 18.47s\n",
            "\n",
            "Epoch [57/100] - Learning Rate: 0.004826\n"
          ]
        },
        {
          "output_type": "stream",
          "name": "stderr",
          "text": [
            "Training: 100%|██████████| 49/49 [00:17<00:00,  2.77it/s, loss=2.07, acc=44.1]\n"
          ]
        },
        {
          "output_type": "stream",
          "name": "stdout",
          "text": [
            "Train Loss: 2.0724, Train Acc: 44.08%, Test Loss: 1.8397, Test Acc: 50.61%, Time: 17.69s\n",
            "\n",
            "Epoch [58/100] - Learning Rate: 0.004651\n"
          ]
        },
        {
          "output_type": "stream",
          "name": "stderr",
          "text": [
            "Training: 100%|██████████| 49/49 [00:17<00:00,  2.72it/s, loss=2.06, acc=44.4]\n"
          ]
        },
        {
          "output_type": "stream",
          "name": "stdout",
          "text": [
            "Train Loss: 2.0610, Train Acc: 44.38%, Test Loss: 1.7955, Test Acc: 51.47%, Time: 17.99s\n",
            "New best model saved with accuracy: 51.47%\n",
            "\n",
            "Epoch [59/100] - Learning Rate: 0.004477\n"
          ]
        },
        {
          "output_type": "stream",
          "name": "stderr",
          "text": [
            "Training: 100%|██████████| 49/49 [00:18<00:00,  2.68it/s, loss=2.05, acc=44.8]\n"
          ]
        },
        {
          "output_type": "stream",
          "name": "stdout",
          "text": [
            "Train Loss: 2.0475, Train Acc: 44.81%, Test Loss: 1.8162, Test Acc: 50.27%, Time: 18.31s\n",
            "\n",
            "Epoch [60/100] - Learning Rate: 0.004304\n"
          ]
        },
        {
          "output_type": "stream",
          "name": "stderr",
          "text": [
            "Training: 100%|██████████| 49/49 [00:17<00:00,  2.75it/s, loss=2.04, acc=44.8]\n"
          ]
        },
        {
          "output_type": "stream",
          "name": "stdout",
          "text": [
            "Train Loss: 2.0430, Train Acc: 44.78%, Test Loss: 1.7963, Test Acc: 51.13%, Time: 17.83s\n",
            "\n",
            "Epoch [61/100] - Learning Rate: 0.004132\n"
          ]
        },
        {
          "output_type": "stream",
          "name": "stderr",
          "text": [
            "Training: 100%|██████████| 49/49 [00:18<00:00,  2.60it/s, loss=2.03, acc=45]\n"
          ]
        },
        {
          "output_type": "stream",
          "name": "stdout",
          "text": [
            "Train Loss: 2.0333, Train Acc: 45.02%, Test Loss: 1.7686, Test Acc: 51.86%, Time: 18.88s\n",
            "New best model saved with accuracy: 51.86%\n",
            "\n",
            "Epoch [62/100] - Learning Rate: 0.003960\n"
          ]
        },
        {
          "output_type": "stream",
          "name": "stderr",
          "text": [
            "Training: 100%|██████████| 49/49 [00:17<00:00,  2.77it/s, loss=2.02, acc=45.5]\n"
          ]
        },
        {
          "output_type": "stream",
          "name": "stdout",
          "text": [
            "Train Loss: 2.0153, Train Acc: 45.52%, Test Loss: 1.8306, Test Acc: 50.36%, Time: 17.70s\n",
            "\n",
            "Epoch [63/100] - Learning Rate: 0.003790\n"
          ]
        },
        {
          "output_type": "stream",
          "name": "stderr",
          "text": [
            "Training: 100%|██████████| 49/49 [00:18<00:00,  2.69it/s, loss=2.02, acc=45.4]\n"
          ]
        },
        {
          "output_type": "stream",
          "name": "stdout",
          "text": [
            "Train Loss: 2.0176, Train Acc: 45.35%, Test Loss: 1.7962, Test Acc: 51.00%, Time: 18.20s\n",
            "\n",
            "Epoch [64/100] - Learning Rate: 0.003622\n"
          ]
        },
        {
          "output_type": "stream",
          "name": "stderr",
          "text": [
            "Training: 100%|██████████| 49/49 [00:18<00:00,  2.71it/s, loss=2, acc=45.6]\n"
          ]
        },
        {
          "output_type": "stream",
          "name": "stdout",
          "text": [
            "Train Loss: 1.9974, Train Acc: 45.61%, Test Loss: 1.7560, Test Acc: 52.34%, Time: 18.11s\n",
            "New best model saved with accuracy: 52.34%\n",
            "\n",
            "Epoch [65/100] - Learning Rate: 0.003455\n"
          ]
        },
        {
          "output_type": "stream",
          "name": "stderr",
          "text": [
            "Training: 100%|██████████| 49/49 [00:17<00:00,  2.76it/s, loss=2, acc=45.8]\n"
          ]
        },
        {
          "output_type": "stream",
          "name": "stdout",
          "text": [
            "Train Loss: 1.9994, Train Acc: 45.77%, Test Loss: 1.7769, Test Acc: 51.61%, Time: 17.77s\n",
            "\n",
            "Epoch [66/100] - Learning Rate: 0.003290\n"
          ]
        },
        {
          "output_type": "stream",
          "name": "stderr",
          "text": [
            "Training: 100%|██████████| 49/49 [00:18<00:00,  2.59it/s, loss=1.97, acc=46.4]\n"
          ]
        },
        {
          "output_type": "stream",
          "name": "stdout",
          "text": [
            "Train Loss: 1.9717, Train Acc: 46.37%, Test Loss: 1.7691, Test Acc: 51.87%, Time: 18.89s\n",
            "\n",
            "Epoch [67/100] - Learning Rate: 0.003127\n"
          ]
        },
        {
          "output_type": "stream",
          "name": "stderr",
          "text": [
            "Training: 100%|██████████| 49/49 [00:18<00:00,  2.71it/s, loss=1.97, acc=46.3]\n"
          ]
        },
        {
          "output_type": "stream",
          "name": "stdout",
          "text": [
            "Train Loss: 1.9736, Train Acc: 46.28%, Test Loss: 1.7620, Test Acc: 51.97%, Time: 18.11s\n",
            "\n",
            "Epoch [68/100] - Learning Rate: 0.002966\n"
          ]
        },
        {
          "output_type": "stream",
          "name": "stderr",
          "text": [
            "Training: 100%|██████████| 49/49 [00:18<00:00,  2.69it/s, loss=1.97, acc=46.2]\n"
          ]
        },
        {
          "output_type": "stream",
          "name": "stdout",
          "text": [
            "Train Loss: 1.9673, Train Acc: 46.25%, Test Loss: 1.7500, Test Acc: 52.73%, Time: 18.25s\n",
            "New best model saved with accuracy: 52.73%\n",
            "\n",
            "Epoch [69/100] - Learning Rate: 0.002808\n"
          ]
        },
        {
          "output_type": "stream",
          "name": "stderr",
          "text": [
            "Training: 100%|██████████| 49/49 [00:18<00:00,  2.71it/s, loss=1.95, acc=46.7]\n"
          ]
        },
        {
          "output_type": "stream",
          "name": "stdout",
          "text": [
            "Train Loss: 1.9538, Train Acc: 46.75%, Test Loss: 1.7507, Test Acc: 52.91%, Time: 18.08s\n",
            "New best model saved with accuracy: 52.91%\n",
            "\n",
            "Epoch [70/100] - Learning Rate: 0.002653\n"
          ]
        },
        {
          "output_type": "stream",
          "name": "stderr",
          "text": [
            "Training: 100%|██████████| 49/49 [00:17<00:00,  2.78it/s, loss=1.95, acc=46.7]\n"
          ]
        },
        {
          "output_type": "stream",
          "name": "stdout",
          "text": [
            "Train Loss: 1.9477, Train Acc: 46.73%, Test Loss: 1.7310, Test Acc: 52.71%, Time: 17.66s\n",
            "\n",
            "Epoch [71/100] - Learning Rate: 0.002500\n"
          ]
        },
        {
          "output_type": "stream",
          "name": "stderr",
          "text": [
            "Training: 100%|██████████| 49/49 [00:18<00:00,  2.65it/s, loss=1.94, acc=46.8]\n"
          ]
        },
        {
          "output_type": "stream",
          "name": "stdout",
          "text": [
            "Train Loss: 1.9398, Train Acc: 46.78%, Test Loss: 1.7692, Test Acc: 52.15%, Time: 18.51s\n",
            "\n",
            "Epoch [72/100] - Learning Rate: 0.002350\n"
          ]
        },
        {
          "output_type": "stream",
          "name": "stderr",
          "text": [
            "Training: 100%|██████████| 49/49 [00:17<00:00,  2.75it/s, loss=1.94, acc=47]\n"
          ]
        },
        {
          "output_type": "stream",
          "name": "stdout",
          "text": [
            "Train Loss: 1.9390, Train Acc: 46.99%, Test Loss: 1.7597, Test Acc: 52.10%, Time: 17.79s\n",
            "\n",
            "Epoch [73/100] - Learning Rate: 0.002204\n"
          ]
        },
        {
          "output_type": "stream",
          "name": "stderr",
          "text": [
            "Training: 100%|██████████| 49/49 [00:19<00:00,  2.58it/s, loss=1.93, acc=47.4]\n"
          ]
        },
        {
          "output_type": "stream",
          "name": "stdout",
          "text": [
            "Train Loss: 1.9287, Train Acc: 47.38%, Test Loss: 1.7297, Test Acc: 52.66%, Time: 19.01s\n",
            "\n",
            "Epoch [74/100] - Learning Rate: 0.002061\n"
          ]
        },
        {
          "output_type": "stream",
          "name": "stderr",
          "text": [
            "Training: 100%|██████████| 49/49 [00:17<00:00,  2.77it/s, loss=1.92, acc=47.6]\n"
          ]
        },
        {
          "output_type": "stream",
          "name": "stdout",
          "text": [
            "Train Loss: 1.9177, Train Acc: 47.55%, Test Loss: 1.7135, Test Acc: 53.32%, Time: 17.69s\n",
            "New best model saved with accuracy: 53.32%\n",
            "\n",
            "Epoch [75/100] - Learning Rate: 0.001922\n"
          ]
        },
        {
          "output_type": "stream",
          "name": "stderr",
          "text": [
            "Training: 100%|██████████| 49/49 [00:17<00:00,  2.78it/s, loss=1.91, acc=47.6]\n"
          ]
        },
        {
          "output_type": "stream",
          "name": "stdout",
          "text": [
            "Train Loss: 1.9127, Train Acc: 47.63%, Test Loss: 1.6975, Test Acc: 53.78%, Time: 17.63s\n",
            "New best model saved with accuracy: 53.78%\n",
            "\n",
            "Epoch [76/100] - Learning Rate: 0.001786\n"
          ]
        },
        {
          "output_type": "stream",
          "name": "stderr",
          "text": [
            "Training: 100%|██████████| 49/49 [00:18<00:00,  2.61it/s, loss=1.91, acc=47.5]\n"
          ]
        },
        {
          "output_type": "stream",
          "name": "stdout",
          "text": [
            "Train Loss: 1.9148, Train Acc: 47.53%, Test Loss: 1.7039, Test Acc: 53.79%, Time: 18.80s\n",
            "New best model saved with accuracy: 53.79%\n",
            "\n",
            "Epoch [77/100] - Learning Rate: 0.001654\n"
          ]
        },
        {
          "output_type": "stream",
          "name": "stderr",
          "text": [
            "Training: 100%|██████████| 49/49 [00:17<00:00,  2.74it/s, loss=1.91, acc=47.8]\n"
          ]
        },
        {
          "output_type": "stream",
          "name": "stdout",
          "text": [
            "Train Loss: 1.9059, Train Acc: 47.85%, Test Loss: 1.7237, Test Acc: 53.15%, Time: 17.87s\n",
            "\n",
            "Epoch [78/100] - Learning Rate: 0.001527\n"
          ]
        },
        {
          "output_type": "stream",
          "name": "stderr",
          "text": [
            "Training: 100%|██████████| 49/49 [00:18<00:00,  2.61it/s, loss=1.9, acc=47.7]\n"
          ]
        },
        {
          "output_type": "stream",
          "name": "stdout",
          "text": [
            "Train Loss: 1.8981, Train Acc: 47.67%, Test Loss: 1.6945, Test Acc: 53.55%, Time: 18.75s\n",
            "\n",
            "Epoch [79/100] - Learning Rate: 0.001403\n"
          ]
        },
        {
          "output_type": "stream",
          "name": "stderr",
          "text": [
            "Training: 100%|██████████| 49/49 [00:17<00:00,  2.77it/s, loss=1.89, acc=48.3]\n"
          ]
        },
        {
          "output_type": "stream",
          "name": "stdout",
          "text": [
            "Train Loss: 1.8938, Train Acc: 48.26%, Test Loss: 1.7046, Test Acc: 53.41%, Time: 17.67s\n",
            "\n",
            "Epoch [80/100] - Learning Rate: 0.001284\n"
          ]
        },
        {
          "output_type": "stream",
          "name": "stderr",
          "text": [
            "Training: 100%|██████████| 49/49 [00:18<00:00,  2.71it/s, loss=1.88, acc=48.3]\n"
          ]
        },
        {
          "output_type": "stream",
          "name": "stdout",
          "text": [
            "Train Loss: 1.8839, Train Acc: 48.30%, Test Loss: 1.6830, Test Acc: 53.97%, Time: 18.12s\n",
            "New best model saved with accuracy: 53.97%\n",
            "\n",
            "Epoch [81/100] - Learning Rate: 0.001170\n"
          ]
        },
        {
          "output_type": "stream",
          "name": "stderr",
          "text": [
            "Training: 100%|██████████| 49/49 [00:18<00:00,  2.65it/s, loss=1.89, acc=48]\n"
          ]
        },
        {
          "output_type": "stream",
          "name": "stdout",
          "text": [
            "Train Loss: 1.8858, Train Acc: 47.96%, Test Loss: 1.6878, Test Acc: 53.73%, Time: 18.53s\n",
            "\n",
            "Epoch [82/100] - Learning Rate: 0.001060\n"
          ]
        },
        {
          "output_type": "stream",
          "name": "stderr",
          "text": [
            "Training: 100%|██████████| 49/49 [00:17<00:00,  2.74it/s, loss=1.88, acc=48.5]\n"
          ]
        },
        {
          "output_type": "stream",
          "name": "stdout",
          "text": [
            "Train Loss: 1.8756, Train Acc: 48.48%, Test Loss: 1.6821, Test Acc: 53.94%, Time: 17.87s\n",
            "\n",
            "Epoch [83/100] - Learning Rate: 0.000955\n"
          ]
        },
        {
          "output_type": "stream",
          "name": "stderr",
          "text": [
            "Training: 100%|██████████| 49/49 [00:18<00:00,  2.59it/s, loss=1.88, acc=48.6]\n"
          ]
        },
        {
          "output_type": "stream",
          "name": "stdout",
          "text": [
            "Train Loss: 1.8795, Train Acc: 48.61%, Test Loss: 1.6849, Test Acc: 53.89%, Time: 18.94s\n",
            "\n",
            "Epoch [84/100] - Learning Rate: 0.000855\n"
          ]
        },
        {
          "output_type": "stream",
          "name": "stderr",
          "text": [
            "Training: 100%|██████████| 49/49 [00:17<00:00,  2.76it/s, loss=1.88, acc=48.5]\n"
          ]
        },
        {
          "output_type": "stream",
          "name": "stdout",
          "text": [
            "Train Loss: 1.8774, Train Acc: 48.52%, Test Loss: 1.6796, Test Acc: 54.03%, Time: 17.75s\n",
            "New best model saved with accuracy: 54.03%\n",
            "\n",
            "Epoch [85/100] - Learning Rate: 0.000760\n"
          ]
        },
        {
          "output_type": "stream",
          "name": "stderr",
          "text": [
            "Training: 100%|██████████| 49/49 [00:18<00:00,  2.70it/s, loss=1.87, acc=48.5]\n"
          ]
        },
        {
          "output_type": "stream",
          "name": "stdout",
          "text": [
            "Train Loss: 1.8741, Train Acc: 48.46%, Test Loss: 1.6930, Test Acc: 53.73%, Time: 18.13s\n",
            "\n",
            "Epoch [86/100] - Learning Rate: 0.000670\n"
          ]
        },
        {
          "output_type": "stream",
          "name": "stderr",
          "text": [
            "Training: 100%|██████████| 49/49 [00:18<00:00,  2.66it/s, loss=1.86, acc=49]\n"
          ]
        },
        {
          "output_type": "stream",
          "name": "stdout",
          "text": [
            "Train Loss: 1.8630, Train Acc: 48.97%, Test Loss: 1.6839, Test Acc: 54.22%, Time: 18.43s\n",
            "New best model saved with accuracy: 54.22%\n",
            "\n",
            "Epoch [87/100] - Learning Rate: 0.000585\n"
          ]
        },
        {
          "output_type": "stream",
          "name": "stderr",
          "text": [
            "Training: 100%|██████████| 49/49 [00:17<00:00,  2.74it/s, loss=1.87, acc=48.7]\n"
          ]
        },
        {
          "output_type": "stream",
          "name": "stdout",
          "text": [
            "Train Loss: 1.8656, Train Acc: 48.68%, Test Loss: 1.6724, Test Acc: 54.36%, Time: 17.92s\n",
            "New best model saved with accuracy: 54.36%\n",
            "\n",
            "Epoch [88/100] - Learning Rate: 0.000506\n"
          ]
        },
        {
          "output_type": "stream",
          "name": "stderr",
          "text": [
            "Training: 100%|██████████| 49/49 [00:19<00:00,  2.58it/s, loss=1.86, acc=48.9]\n"
          ]
        },
        {
          "output_type": "stream",
          "name": "stdout",
          "text": [
            "Train Loss: 1.8624, Train Acc: 48.86%, Test Loss: 1.6737, Test Acc: 54.02%, Time: 19.01s\n",
            "\n",
            "Epoch [89/100] - Learning Rate: 0.000432\n"
          ]
        },
        {
          "output_type": "stream",
          "name": "stderr",
          "text": [
            "Training: 100%|██████████| 49/49 [00:18<00:00,  2.72it/s, loss=1.85, acc=49]\n"
          ]
        },
        {
          "output_type": "stream",
          "name": "stdout",
          "text": [
            "Train Loss: 1.8542, Train Acc: 48.99%, Test Loss: 1.6722, Test Acc: 54.24%, Time: 18.04s\n",
            "\n",
            "Epoch [90/100] - Learning Rate: 0.000364\n"
          ]
        },
        {
          "output_type": "stream",
          "name": "stderr",
          "text": [
            "Training: 100%|██████████| 49/49 [00:18<00:00,  2.65it/s, loss=1.86, acc=48.7]\n"
          ]
        },
        {
          "output_type": "stream",
          "name": "stdout",
          "text": [
            "Train Loss: 1.8594, Train Acc: 48.70%, Test Loss: 1.6719, Test Acc: 54.20%, Time: 18.51s\n",
            "\n",
            "Epoch [91/100] - Learning Rate: 0.000302\n"
          ]
        },
        {
          "output_type": "stream",
          "name": "stderr",
          "text": [
            "Training: 100%|██████████| 49/49 [00:18<00:00,  2.62it/s, loss=1.85, acc=49.1]\n"
          ]
        },
        {
          "output_type": "stream",
          "name": "stdout",
          "text": [
            "Train Loss: 1.8511, Train Acc: 49.07%, Test Loss: 1.6680, Test Acc: 54.43%, Time: 18.72s\n",
            "New best model saved with accuracy: 54.43%\n",
            "\n",
            "Epoch [92/100] - Learning Rate: 0.000245\n"
          ]
        },
        {
          "output_type": "stream",
          "name": "stderr",
          "text": [
            "Training: 100%|██████████| 49/49 [00:17<00:00,  2.74it/s, loss=1.85, acc=49.2]\n"
          ]
        },
        {
          "output_type": "stream",
          "name": "stdout",
          "text": [
            "Train Loss: 1.8530, Train Acc: 49.17%, Test Loss: 1.6704, Test Acc: 54.25%, Time: 17.90s\n",
            "\n",
            "Epoch [93/100] - Learning Rate: 0.000194\n"
          ]
        },
        {
          "output_type": "stream",
          "name": "stderr",
          "text": [
            "Training: 100%|██████████| 49/49 [00:18<00:00,  2.60it/s, loss=1.85, acc=48.9]\n"
          ]
        },
        {
          "output_type": "stream",
          "name": "stdout",
          "text": [
            "Train Loss: 1.8462, Train Acc: 48.92%, Test Loss: 1.6708, Test Acc: 54.31%, Time: 18.83s\n",
            "\n",
            "Epoch [94/100] - Learning Rate: 0.000149\n"
          ]
        },
        {
          "output_type": "stream",
          "name": "stderr",
          "text": [
            "Training: 100%|██████████| 49/49 [00:17<00:00,  2.73it/s, loss=1.85, acc=48.8]\n"
          ]
        },
        {
          "output_type": "stream",
          "name": "stdout",
          "text": [
            "Train Loss: 1.8534, Train Acc: 48.80%, Test Loss: 1.6672, Test Acc: 54.36%, Time: 17.95s\n",
            "\n",
            "Epoch [95/100] - Learning Rate: 0.000109\n"
          ]
        },
        {
          "output_type": "stream",
          "name": "stderr",
          "text": [
            "Training: 100%|██████████| 49/49 [00:17<00:00,  2.75it/s, loss=1.85, acc=49.1]\n"
          ]
        },
        {
          "output_type": "stream",
          "name": "stdout",
          "text": [
            "Train Loss: 1.8490, Train Acc: 49.14%, Test Loss: 1.6658, Test Acc: 54.37%, Time: 17.83s\n",
            "\n",
            "Epoch [96/100] - Learning Rate: 0.000076\n"
          ]
        },
        {
          "output_type": "stream",
          "name": "stderr",
          "text": [
            "Training: 100%|██████████| 49/49 [00:18<00:00,  2.58it/s, loss=1.85, acc=49.4]\n"
          ]
        },
        {
          "output_type": "stream",
          "name": "stdout",
          "text": [
            "Train Loss: 1.8488, Train Acc: 49.36%, Test Loss: 1.6655, Test Acc: 54.54%, Time: 18.97s\n",
            "New best model saved with accuracy: 54.54%\n",
            "\n",
            "Epoch [97/100] - Learning Rate: 0.000049\n"
          ]
        },
        {
          "output_type": "stream",
          "name": "stderr",
          "text": [
            "Training: 100%|██████████| 49/49 [00:17<00:00,  2.78it/s, loss=1.85, acc=49]\n"
          ]
        },
        {
          "output_type": "stream",
          "name": "stdout",
          "text": [
            "Train Loss: 1.8470, Train Acc: 48.99%, Test Loss: 1.6653, Test Acc: 54.48%, Time: 17.66s\n",
            "\n",
            "Epoch [98/100] - Learning Rate: 0.000027\n"
          ]
        },
        {
          "output_type": "stream",
          "name": "stderr",
          "text": [
            "Training: 100%|██████████| 49/49 [00:18<00:00,  2.60it/s, loss=1.84, acc=49.3]\n"
          ]
        },
        {
          "output_type": "stream",
          "name": "stdout",
          "text": [
            "Train Loss: 1.8419, Train Acc: 49.25%, Test Loss: 1.6666, Test Acc: 54.45%, Time: 18.85s\n",
            "\n",
            "Epoch [99/100] - Learning Rate: 0.000012\n"
          ]
        },
        {
          "output_type": "stream",
          "name": "stderr",
          "text": [
            "Training: 100%|██████████| 49/49 [00:17<00:00,  2.74it/s, loss=1.84, acc=49.5]\n"
          ]
        },
        {
          "output_type": "stream",
          "name": "stdout",
          "text": [
            "Train Loss: 1.8414, Train Acc: 49.48%, Test Loss: 1.6654, Test Acc: 54.44%, Time: 17.88s\n",
            "\n",
            "Epoch [100/100] - Learning Rate: 0.000003\n"
          ]
        },
        {
          "output_type": "stream",
          "name": "stderr",
          "text": [
            "Training: 100%|██████████| 49/49 [00:17<00:00,  2.72it/s, loss=1.85, acc=48.7]\n"
          ]
        },
        {
          "output_type": "stream",
          "name": "stdout",
          "text": [
            "Train Loss: 1.8542, Train Acc: 48.74%, Test Loss: 1.6650, Test Acc: 54.36%, Time: 18.00s\n",
            "Best model loaded with accuracy: 54.54%\n"
          ]
        },
        {
          "output_type": "display_data",
          "data": {
            "text/plain": [
              "<Figure size 1800x500 with 3 Axes>"
            ],
            "image/png": "[encoded data removed]"
          },
          "metadata": {}
        },
        {
          "output_type": "stream",
          "name": "stdout",
          "text": [
            "LAMB benchmark completed!\n"
          ]
        }
      ],
      "source": [
        "import torch\n",
        "import torch.nn as nn\n",
        "import torchvision.transforms as transforms\n",
        "import torch.nn.functional as F\n",
        "from torchvision.datasets import CIFAR10, CIFAR100\n",
        "import torchvision.models as models\n",
        "from torch.utils.data import DataLoader\n",
        "\n",
        "from tqdm import tqdm\n",
        "import matplotlib.pyplot as plt\n",
        "import time\n",
        "import pickle\n",
        "import numpy as np\n",
        "import random\n",
        "\n",
        "# ─── Import LAMB from torch-optimizer ───────────────────────────────────────\n",
        "from torch_optimizer import Lamb\n",
        "# ───────────────────────────────────────────────────────────────────────────────\n",
        "\n",
        "import math\n",
        "\n",
        "print(\"PyTorch version:\", torch.__version__)\n",
        "device = torch.device(\"cuda:0\" if torch.cuda.is_available() else \"cpu\")\n",
        "print(f\"Using device: {device}\")\n",
        "\n",
        "# Seeding for reproducibility\n",
        "seed = 2025\n",
        "torch.manual_seed(seed)\n",
        "torch.cuda.manual_seed(seed)\n",
        "np.random.seed(seed)\n",
        "random.seed(seed)\n",
        "\n",
        "# transforms\n",
        "train_transform = transforms.Compose(\n",
        "    [\n",
        "        transforms.RandomCrop(32, padding=4),\n",
        "        transforms.RandomHorizontalFlip(),\n",
        "        transforms.ToTensor(),\n",
        "        transforms.Normalize((0.4914, 0.4822, 0.4465),\n",
        "                             (0.2023, 0.1994, 0.2010)),\n",
        "    ]\n",
        ")\n",
        "\n",
        "test_transform = transforms.Compose(\n",
        "    [\n",
        "        transforms.ToTensor(),\n",
        "        transforms.Normalize((0.4914, 0.4822, 0.4465),\n",
        "                             (0.2023, 0.1994, 0.2010)),\n",
        "    ]\n",
        ")\n",
        "\n",
        "\n",
        "# load data\n",
        "def load_data(dataset_name=\"cifar100\", batch_size=128, num_workers=2):\n",
        "    \"\"\"Enhanced data loading with stronger augmentation for CIFAR-100\"\"\"\n",
        "\n",
        "    train_transform = transforms.Compose(\n",
        "        [\n",
        "            transforms.RandomCrop(32, padding=4),\n",
        "            transforms.RandomHorizontalFlip(),\n",
        "            transforms.ToTensor(),\n",
        "            transforms.Normalize((0.4914, 0.4822, 0.4465),\n",
        "                                 (0.2023, 0.1994, 0.2010)),\n",
        "        ]\n",
        "    )\n",
        "    test_transform = transforms.Compose(\n",
        "        [\n",
        "            transforms.ToTensor(),\n",
        "            transforms.Normalize((0.4914, 0.4822, 0.4465),\n",
        "                                 (0.2023, 0.1994, 0.2010)),\n",
        "        ]\n",
        "    )\n",
        "\n",
        "    if dataset_name.lower() == \"cifar100\":\n",
        "        train_dataset = CIFAR100(\n",
        "            root=\"./data\", train=True, download=True, transform=train_transform\n",
        "        )\n",
        "        test_dataset = CIFAR100(\n",
        "            root=\"./data\", train=False, download=True, transform=test_transform\n",
        "        )\n",
        "        num_classes = 100\n",
        "    else:\n",
        "        raise ValueError(f\"Dataset {dataset_name} not supported in enhanced version\")\n",
        "\n",
        "    train_loader = DataLoader(\n",
        "        train_dataset,\n",
        "        batch_size=batch_size,\n",
        "        shuffle=True,\n",
        "        num_workers=num_workers,\n",
        "    )\n",
        "    test_loader = DataLoader(\n",
        "        test_dataset,\n",
        "        batch_size=batch_size,\n",
        "        shuffle=False,\n",
        "        num_workers=num_workers,\n",
        "    )\n",
        "    return train_loader, test_loader, num_classes\n",
        "\n",
        "\n",
        "# model - LeNet5 from the paper [11]\n",
        "class LeNet5(nn.Module):\n",
        "    def __init__(self, num_classes=10):\n",
        "        super(LeNet5, self).__init__()\n",
        "        # Input: 3x32x32 (CIFAR has 3 color channels)\n",
        "        self.conv1 = nn.Conv2d(3, 6, kernel_size=5)  # Output: 6x28x28\n",
        "        self.pool1 = nn.MaxPool2d(kernel_size=2, stride=2)  # Output: 6x14x14\n",
        "        self.conv2 = nn.Conv2d(6, 16, kernel_size=5)  # Output: 16x10x10\n",
        "        self.pool2 = nn.MaxPool2d(kernel_size=2, stride=2)  # Output: 16x5x5\n",
        "\n",
        "        # fc layers\n",
        "        self.fc1 = nn.Linear(16 * 5 * 5, 120)\n",
        "        self.fc2 = nn.Linear(120, 84)\n",
        "        self.fc3 = nn.Linear(84, num_classes)\n",
        "\n",
        "    def forward(self, x):\n",
        "        x = self.pool1(F.relu(self.conv1(x)))\n",
        "        x = self.pool2(F.relu(self.conv2(x)))\n",
        "        x = x.view(-1, 16 * 5 * 5)  # flatten\n",
        "        x = F.relu(self.fc1(x))\n",
        "        x = F.relu(self.fc2(x))\n",
        "        x = self.fc3(x)\n",
        "        return x\n",
        "\n",
        "\n",
        "class ImprovedCNN(nn.Module):\n",
        "    def __init__(self, num_classes=100):\n",
        "        super(ImprovedCNN, self).__init__()\n",
        "        # First conv block\n",
        "        self.conv1 = nn.Conv2d(3, 64, kernel_size=5, padding=2)\n",
        "        self.bn1 = nn.BatchNorm2d(64)  # using BatchNorm for better training stability\n",
        "        self.pool1 = nn.MaxPool2d(kernel_size=2, stride=2)\n",
        "\n",
        "        # Second conv block\n",
        "        self.conv2 = nn.Conv2d(64, 64, kernel_size=5, padding=2)\n",
        "        self.bn2 = nn.BatchNorm2d(64)\n",
        "        self.pool2 = nn.MaxPool2d(kernel_size=2, stride=2)\n",
        "\n",
        "        # Fully connected layers\n",
        "        self.fc1 = nn.Linear(64 * 8 * 8, 384)\n",
        "        self.dropout1 = nn.Dropout(0.5)\n",
        "        self.fc2 = nn.Linear(384, 192)\n",
        "        self.dropout2 = nn.Dropout(0.5)\n",
        "        self.fc3 = nn.Linear(192, num_classes)\n",
        "\n",
        "    def forward(self, x):\n",
        "        # First conv block\n",
        "        x = self.pool1(F.relu(self.bn1(self.conv1(x))))\n",
        "        # Second conv block\n",
        "        x = self.pool2(F.relu(self.bn2(self.conv2(x))))\n",
        "        # Flatten and FC\n",
        "        x = x.view(-1, 64 * 8 * 8)\n",
        "        x = F.relu(self.fc1(x))\n",
        "        x = self.dropout1(x)\n",
        "        x = F.relu(self.fc2(x))\n",
        "        x = self.dropout2(x)\n",
        "        x = self.fc3(x)\n",
        "        return x\n",
        "\n",
        "\n",
        "def create_model(model_name, num_classes=100):\n",
        "    if model_name.lower() == \"improved_cnn\":\n",
        "        return ImprovedCNN(num_classes=num_classes)\n",
        "    elif model_name.lower() == \"lenet5\":\n",
        "        return LeNet5(num_classes=num_classes)\n",
        "    else:\n",
        "        raise ValueError(f\"Unknown model: {model_name}\")\n",
        "\n",
        "\n",
        "# train\n",
        "def train_epoch(model, train_loader, criterion, optimizer, device):\n",
        "    model.train()\n",
        "    running_loss = 0.0\n",
        "    correct = 0\n",
        "    total = 0\n",
        "\n",
        "    pbar = tqdm(train_loader, desc=\"Training\")\n",
        "    for inputs, labels in pbar:\n",
        "        inputs, labels = inputs.to(device), labels.to(device)\n",
        "\n",
        "        optimizer.zero_grad()\n",
        "        outputs = model(inputs)\n",
        "        loss = criterion(outputs, labels)\n",
        "        loss.backward()\n",
        "        optimizer.step()\n",
        "\n",
        "        running_loss += loss.item() * inputs.size(0)\n",
        "        _, predicted = outputs.max(1)\n",
        "        total += labels.size(0)\n",
        "        correct += predicted.eq(labels).sum().item()\n",
        "        pbar.set_postfix({\"loss\": running_loss / total,\n",
        "                          \"acc\": 100.0 * correct / total})\n",
        "\n",
        "    train_loss = running_loss / total\n",
        "    train_acc = 100.0 * correct / total\n",
        "    return train_loss, train_acc\n",
        "\n",
        "\n",
        "# eval\n",
        "def evaluate(model, test_loader, criterion, device):\n",
        "    model.eval()\n",
        "    running_loss = 0.0\n",
        "    correct = 0\n",
        "    total = 0\n",
        "\n",
        "    with torch.no_grad():\n",
        "        for inputs, labels in test_loader:\n",
        "            inputs, labels = inputs.to(device), labels.to(device)\n",
        "            outputs = model(inputs)\n",
        "            loss = criterion(outputs, labels)\n",
        "\n",
        "            running_loss += loss.item() * inputs.size(0)\n",
        "            _, predicted = outputs.max(1)\n",
        "            total += labels.size(0)\n",
        "            correct += predicted.eq(labels).sum().item()\n",
        "\n",
        "    test_loss = running_loss / total\n",
        "    test_acc = 100.0 * correct / total\n",
        "    return test_loss, test_acc\n",
        "\n",
        "\n",
        "# train config\n",
        "def train_centralized_model(\n",
        "    model_name=\"improved_cnn\",\n",
        "    dataset_name=\"cifar100\",\n",
        "    batch_size=1024,\n",
        "    epochs=100,\n",
        "    lr=0.01,\n",
        "    momentum=0.9,\n",
        "    weight_decay=4e-4,\n",
        "    lr_scheduler=\"lamb\",\n",
        "    save_path=\"improved_cnn_model.pth\",\n",
        "):\n",
        "    # Load data\n",
        "    train_loader, test_loader, num_classes = load_data(\n",
        "        dataset_name=dataset_name, batch_size=batch_size\n",
        "    )\n",
        "\n",
        "    # Create model\n",
        "    model = create_model(model_name, num_classes=num_classes).to(device)\n",
        "\n",
        "    # Print total parameters\n",
        "    total_params = sum(p.numel() for p in model.parameters())\n",
        "    print(f\"Total parameters: {total_params:,}\")\n",
        "\n",
        "    # Loss\n",
        "    criterion = nn.CrossEntropyLoss()\n",
        "\n",
        "    # Linear‐scaling rule for LR\n",
        "    scaled_lr = lr * (batch_size / 1024)\n",
        "\n",
        "    # Separate parameters into decay vs. no‐decay groups\n",
        "    decay_params = []\n",
        "    no_decay_params = []\n",
        "    for name, param in model.named_parameters():\n",
        "        if not param.requires_grad:\n",
        "            continue\n",
        "        if param.ndim == 1:\n",
        "            no_decay_params.append(param)\n",
        "        else:\n",
        "            decay_params.append(param)\n",
        "\n",
        "    # ─── Instantiate LAMB ─────────────────────────────────────────────────────────\n",
        "    #\n",
        "    # We set global weight_decay=0.0 because we're handling it per‐group.\n",
        "    #\n",
        "    optimizer = Lamb(\n",
        "        [\n",
        "            {\"params\": decay_params,    \"weight_decay\": weight_decay},\n",
        "            {\"params\": no_decay_params, \"weight_decay\": 0.0}\n",
        "        ],\n",
        "        lr=scaled_lr,\n",
        "        betas=(0.9, 0.999),\n",
        "        eps=1e-6,\n",
        "        weight_decay=0.0  # global default; per-group overrides actual decay\n",
        "    )\n",
        "    # ────────────────────────────────────────────────────────────────────────────────\n",
        "\n",
        "    # Learning‐rate scheduler: warmup + cosine, same as LARS code\n",
        "    if lr_scheduler == \"lamb\":\n",
        "        warmup_epochs = 10\n",
        "\n",
        "        def lr_lambda(epoch):\n",
        "            if epoch < warmup_epochs:\n",
        "                return float(epoch + 1) / float(warmup_epochs)\n",
        "            return 0.5 * (\n",
        "                1.0\n",
        "                + math.cos(\n",
        "                    math.pi * (epoch - warmup_epochs) / (epochs - warmup_epochs)\n",
        "                )\n",
        "            )\n",
        "\n",
        "        scheduler = torch.optim.lr_scheduler.LambdaLR(optimizer, lr_lambda)\n",
        "\n",
        "    elif lr_scheduler == \"step\":\n",
        "        scheduler = torch.optim.lr_scheduler.MultiStepLR(\n",
        "            optimizer,\n",
        "            milestones=[int(epochs * 0.5), int(epochs * 0.75)],\n",
        "            gamma=0.1\n",
        "        )\n",
        "    else:\n",
        "        raise ValueError(f\"Unknown scheduler: {lr_scheduler}\")\n",
        "\n",
        "    # Training history\n",
        "    history = {\n",
        "        \"train_loss\": [],\n",
        "        \"train_acc\": [],\n",
        "        \"test_loss\": [],\n",
        "        \"test_acc\": [],\n",
        "        \"lr\": [],\n",
        "    }\n",
        "\n",
        "    best_acc = 0.0\n",
        "\n",
        "    # Training loop\n",
        "    for epoch in range(epochs):\n",
        "        current_lr = optimizer.param_groups[0][\"lr\"]\n",
        "        print(f\"\\nEpoch [{epoch + 1}/{epochs}] - Learning Rate: {current_lr:.6f}\")\n",
        "\n",
        "        # Train for one epoch\n",
        "        start_time = time.time()\n",
        "        train_loss, train_acc = train_epoch(\n",
        "            model, train_loader, criterion, optimizer, device\n",
        "        )\n",
        "        train_time = time.time() - start_time\n",
        "\n",
        "        # Evaluate\n",
        "        test_loss, test_acc = evaluate(model, test_loader, criterion, device)\n",
        "        scheduler.step()\n",
        "\n",
        "        print(\n",
        "            f\"Train Loss: {train_loss:.4f}, Train Acc: {train_acc:.2f}%, \"\n",
        "            f\"Test Loss: {test_loss:.4f}, Test Acc: {test_acc:.2f}%, \"\n",
        "            f\"Time: {train_time:.2f}s\"\n",
        "        )\n",
        "\n",
        "        if test_acc > best_acc:\n",
        "            best_acc = test_acc\n",
        "            torch.save(\n",
        "                {\n",
        "                    \"epoch\": epoch,\n",
        "                    \"model_state_dict\": model.state_dict(),\n",
        "                    \"optimizer_state_dict\": optimizer.state_dict(),\n",
        "                    \"test_acc\": test_acc,\n",
        "                },\n",
        "                save_path,\n",
        "            )\n",
        "            print(f\"New best model saved with accuracy: {test_acc:.2f}%\")\n",
        "\n",
        "        history[\"train_loss\"].append(train_loss)\n",
        "        history[\"train_acc\"].append(train_acc)\n",
        "        history[\"test_loss\"].append(test_loss)\n",
        "        history[\"test_acc\"].append(test_acc)\n",
        "        history[\"lr\"].append(current_lr)\n",
        "\n",
        "    # Load best model\n",
        "    checkpoint = torch.load(save_path)\n",
        "    model.load_state_dict(checkpoint[\"model_state_dict\"])\n",
        "    print(f\"Best model loaded with accuracy: {checkpoint['test_acc']:.2f}%\")\n",
        "\n",
        "    return model, history\n",
        "\n",
        "\n",
        "# visualization of model performance\n",
        "def plot_training_history(history):\n",
        "    fig, (ax1, ax2, ax3) = plt.subplots(1, 3, figsize=(18, 5))\n",
        "\n",
        "    ax1.plot(history[\"train_loss\"], label=\"Train Loss\")\n",
        "    ax1.plot(history[\"test_loss\"], label=\"Test Loss\")\n",
        "    ax1.set_xlabel(\"Epoch\")\n",
        "    ax1.set_ylabel(\"Loss\")\n",
        "    ax1.legend()\n",
        "    ax1.set_title(\"Loss Curves\")\n",
        "    ax1.grid(True)\n",
        "\n",
        "    ax2.plot(history[\"train_acc\"], label=\"Train Accuracy\")\n",
        "    ax2.plot(history[\"test_acc\"], label=\"Test Accuracy\")\n",
        "    ax2.set_xlabel(\"Epoch\")\n",
        "    ax2.set_ylabel(\"Accuracy (%)\")\n",
        "    ax2.legend()\n",
        "    ax2.set_title(\"Accuracy Curves\")\n",
        "    ax2.grid(True)\n",
        "\n",
        "    ax3.plot(history[\"lr\"])\n",
        "    ax3.set_xlabel(\"Epoch\")\n",
        "    ax3.set_ylabel(\"Learning Rate\")\n",
        "    ax3.set_title(\"Learning Rate Schedule\")\n",
        "    ax3.set_yscale(\"log\")\n",
        "    ax3.grid(True)\n",
        "\n",
        "    plt.tight_layout()\n",
        "    plt.show()\n",
        "\n",
        "\n",
        "# run benchmark\n",
        "def run_centralized_benchmark():\n",
        "    config = {\n",
        "        \"model_name\": \"improved_cnn\",\n",
        "        \"dataset_name\": \"cifar100\",\n",
        "        \"batch_size\": 1024,\n",
        "        \"epochs\": 100,\n",
        "        \"lr\": 0.01,\n",
        "        \"momentum\": 0.9,\n",
        "        \"weight_decay\": 4e-4,\n",
        "        \"lr_scheduler\": \"lamb\",\n",
        "        \"save_path\": \"improved_cnn_model_lamb.pth\",\n",
        "    }\n",
        "\n",
        "    print(\n",
        "        f\"Running LAMB benchmark with {config['model_name']} on {config['dataset_name']}...\"\n",
        "    )\n",
        "\n",
        "    model, history = train_centralized_model(**config)\n",
        "    plot_training_history(history)\n",
        "\n",
        "    with open(\"history_lamb.pkl\", \"wb\") as f:\n",
        "        pickle.dump(history, f)\n",
        "\n",
        "    print(\"LAMB benchmark completed!\")\n",
        "    return model, history\n",
        "\n",
        "\n",
        "def main():\n",
        "    model, history = run_centralized_benchmark()\n",
        "    return model, history\n",
        "\n",
        "\n",
        "if __name__ == \"__main__\":\n",
        "    main()\n"
      ]
    }
  ]
}