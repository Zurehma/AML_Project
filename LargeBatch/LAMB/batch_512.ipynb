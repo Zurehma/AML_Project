{
  "nbformat": 4,
  "nbformat_minor": 0,
  "metadata": {
    "colab": {
      "provenance": [],
      "gpuType": "T4",
      "include_colab_link": true
    },
    "kernelspec": {
      "name": "python3",
      "display_name": "Python 3"
    },
    "language_info": {
      "name": "python"
    },
    "accelerator": "GPU"
  },
  "cells": [
    {
      "cell_type": "markdown",
      "metadata": {
        "id": "view-in-github",
        "colab_type": "text"
      },
      "source": [
        "<a href=\"https://colab.research.google.com/github/Zurehma/AML_Project/blob/main/LargeBatch/LAMB/batch_512.ipynb\" target=\"_parent\"><img src=\"https://colab.research.google.com/assets/colab-badge.svg\" alt=\"Open In Colab\"/></a>"
      ]
    },
    {
      "cell_type": "code",
      "source": [
        "!pip install torch-optimizer\n"
      ],
      "metadata": {
        "id": "HRrl2xsnh_eJ"
      },
      "execution_count": null,
      "outputs": []
    },
    {
      "cell_type": "code",
      "execution_count": null,
      "metadata": {
        "colab": {
          "base_uri": "https://localhost:8080/",
          "height": 1000
        },
        "id": "rM6qCI5hhwzX",
        "outputId": "3eed3b7c-33fc-4a7c-cfa3-0e0c46ad9135"
      },
      "outputs": [
        {
          "output_type": "stream",
          "name": "stdout",
          "text": [
            "PyTorch version: 2.6.0+cu124\n",
            "Using device: cuda:0\n",
            "Running LAMB benchmark with improved_cnn on cifar100...\n",
            "Total parameters: 1,774,052\n",
            "\n",
            "Epoch [1/100] - Learning Rate: 0.001000\n"
          ]
        },
        {
          "output_type": "stream",
          "name": "stderr",
          "text": [
            "Training: 100%|██████████| 98/98 [00:19<00:00,  5.15it/s, loss=4.57, acc=1.96]\n"
          ]
        },
        {
          "output_type": "stream",
          "name": "stdout",
          "text": [
            "Train Loss: 4.5679, Train Acc: 1.96%, Test Loss: 4.4279, Test Acc: 4.13%, Time: 19.02s\n",
            "New best model saved with accuracy: 4.13%\n",
            "\n",
            "Epoch [2/100] - Learning Rate: 0.002000\n"
          ]
        },
        {
          "output_type": "stream",
          "name": "stderr",
          "text": [
            "Training: 100%|██████████| 98/98 [00:19<00:00,  5.12it/s, loss=4.33, acc=4.57]\n"
          ]
        },
        {
          "output_type": "stream",
          "name": "stdout",
          "text": [
            "Train Loss: 4.3337, Train Acc: 4.57%, Test Loss: 4.0213, Test Acc: 9.58%, Time: 19.16s\n",
            "New best model saved with accuracy: 9.58%\n",
            "\n",
            "Epoch [3/100] - Learning Rate: 0.003000\n"
          ]
        },
        {
          "output_type": "stream",
          "name": "stderr",
          "text": [
            "Training: 100%|██████████| 98/98 [00:19<00:00,  5.14it/s, loss=4.04, acc=7.47]\n"
          ]
        },
        {
          "output_type": "stream",
          "name": "stdout",
          "text": [
            "Train Loss: 4.0365, Train Acc: 7.47%, Test Loss: 3.6625, Test Acc: 14.94%, Time: 19.06s\n",
            "New best model saved with accuracy: 14.94%\n",
            "\n",
            "Epoch [4/100] - Learning Rate: 0.004000\n"
          ]
        },
        {
          "output_type": "stream",
          "name": "stderr",
          "text": [
            "Training: 100%|██████████| 98/98 [00:20<00:00,  4.69it/s, loss=3.8, acc=10.9]\n"
          ]
        },
        {
          "output_type": "stream",
          "name": "stdout",
          "text": [
            "Train Loss: 3.7966, Train Acc: 10.92%, Test Loss: 3.4197, Test Acc: 19.37%, Time: 20.92s\n",
            "New best model saved with accuracy: 19.37%\n",
            "\n",
            "Epoch [5/100] - Learning Rate: 0.005000\n"
          ]
        },
        {
          "output_type": "stream",
          "name": "stderr",
          "text": [
            "Training: 100%|██████████| 98/98 [00:19<00:00,  4.97it/s, loss=3.59, acc=14.1]\n"
          ]
        },
        {
          "output_type": "stream",
          "name": "stdout",
          "text": [
            "Train Loss: 3.5889, Train Acc: 14.13%, Test Loss: 3.2193, Test Acc: 22.06%, Time: 19.73s\n",
            "New best model saved with accuracy: 22.06%\n",
            "\n",
            "Epoch [6/100] - Learning Rate: 0.006000\n"
          ]
        },
        {
          "output_type": "stream",
          "name": "stderr",
          "text": [
            "Training: 100%|██████████| 98/98 [00:18<00:00,  5.31it/s, loss=3.44, acc=16.6]\n"
          ]
        },
        {
          "output_type": "stream",
          "name": "stdout",
          "text": [
            "Train Loss: 3.4381, Train Acc: 16.59%, Test Loss: 3.0710, Test Acc: 23.46%, Time: 18.45s\n",
            "New best model saved with accuracy: 23.46%\n",
            "\n",
            "Epoch [7/100] - Learning Rate: 0.007000\n"
          ]
        },
        {
          "output_type": "stream",
          "name": "stderr",
          "text": [
            "Training: 100%|██████████| 98/98 [00:18<00:00,  5.19it/s, loss=3.33, acc=18.7]\n"
          ]
        },
        {
          "output_type": "stream",
          "name": "stdout",
          "text": [
            "Train Loss: 3.3266, Train Acc: 18.65%, Test Loss: 2.8894, Test Acc: 27.25%, Time: 18.88s\n",
            "New best model saved with accuracy: 27.25%\n",
            "\n",
            "Epoch [8/100] - Learning Rate: 0.008000\n"
          ]
        },
        {
          "output_type": "stream",
          "name": "stderr",
          "text": [
            "Training: 100%|██████████| 98/98 [00:19<00:00,  5.10it/s, loss=3.23, acc=20.2]\n"
          ]
        },
        {
          "output_type": "stream",
          "name": "stdout",
          "text": [
            "Train Loss: 3.2349, Train Acc: 20.19%, Test Loss: 2.8666, Test Acc: 27.64%, Time: 19.23s\n",
            "New best model saved with accuracy: 27.64%\n",
            "\n",
            "Epoch [9/100] - Learning Rate: 0.009000\n"
          ]
        },
        {
          "output_type": "stream",
          "name": "stderr",
          "text": [
            "Training: 100%|██████████| 98/98 [00:18<00:00,  5.27it/s, loss=3.19, acc=21.2]\n"
          ]
        },
        {
          "output_type": "stream",
          "name": "stdout",
          "text": [
            "Train Loss: 3.1936, Train Acc: 21.21%, Test Loss: 2.8292, Test Acc: 28.93%, Time: 18.60s\n",
            "New best model saved with accuracy: 28.93%\n",
            "\n",
            "Epoch [10/100] - Learning Rate: 0.010000\n"
          ]
        },
        {
          "output_type": "stream",
          "name": "stderr",
          "text": [
            "Training: 100%|██████████| 98/98 [00:19<00:00,  4.93it/s, loss=3.15, acc=21.7]\n"
          ]
        },
        {
          "output_type": "stream",
          "name": "stdout",
          "text": [
            "Train Loss: 3.1499, Train Acc: 21.69%, Test Loss: 2.7682, Test Acc: 29.21%, Time: 19.89s\n",
            "New best model saved with accuracy: 29.21%\n",
            "\n",
            "Epoch [11/100] - Learning Rate: 0.010000\n"
          ]
        },
        {
          "output_type": "stream",
          "name": "stderr",
          "text": [
            "Training: 100%|██████████| 98/98 [00:19<00:00,  5.04it/s, loss=3.1, acc=22.9]\n"
          ]
        },
        {
          "output_type": "stream",
          "name": "stdout",
          "text": [
            "Train Loss: 3.1025, Train Acc: 22.91%, Test Loss: 2.7512, Test Acc: 30.48%, Time: 19.44s\n",
            "New best model saved with accuracy: 30.48%\n",
            "\n",
            "Epoch [12/100] - Learning Rate: 0.009997\n"
          ]
        },
        {
          "output_type": "stream",
          "name": "stderr",
          "text": [
            "Training: 100%|██████████| 98/98 [00:18<00:00,  5.26it/s, loss=3.02, acc=24.5]\n"
          ]
        },
        {
          "output_type": "stream",
          "name": "stdout",
          "text": [
            "Train Loss: 3.0219, Train Acc: 24.46%, Test Loss: 2.6933, Test Acc: 32.14%, Time: 18.65s\n",
            "New best model saved with accuracy: 32.14%\n",
            "\n",
            "Epoch [13/100] - Learning Rate: 0.009988\n"
          ]
        },
        {
          "output_type": "stream",
          "name": "stderr",
          "text": [
            "Training: 100%|██████████| 98/98 [00:19<00:00,  5.02it/s, loss=2.95, acc=25.3]\n"
          ]
        },
        {
          "output_type": "stream",
          "name": "stdout",
          "text": [
            "Train Loss: 2.9536, Train Acc: 25.30%, Test Loss: 2.5856, Test Acc: 33.02%, Time: 19.51s\n",
            "New best model saved with accuracy: 33.02%\n",
            "\n",
            "Epoch [14/100] - Learning Rate: 0.009973\n"
          ]
        },
        {
          "output_type": "stream",
          "name": "stderr",
          "text": [
            "Training: 100%|██████████| 98/98 [00:18<00:00,  5.22it/s, loss=2.91, acc=26.6]\n"
          ]
        },
        {
          "output_type": "stream",
          "name": "stdout",
          "text": [
            "Train Loss: 2.9060, Train Acc: 26.59%, Test Loss: 2.5717, Test Acc: 34.04%, Time: 18.79s\n",
            "New best model saved with accuracy: 34.04%\n",
            "\n",
            "Epoch [15/100] - Learning Rate: 0.009951\n"
          ]
        },
        {
          "output_type": "stream",
          "name": "stderr",
          "text": [
            "Training: 100%|██████████| 98/98 [00:18<00:00,  5.33it/s, loss=2.84, acc=27.5]\n"
          ]
        },
        {
          "output_type": "stream",
          "name": "stdout",
          "text": [
            "Train Loss: 2.8445, Train Acc: 27.51%, Test Loss: 2.5025, Test Acc: 34.02%, Time: 18.40s\n",
            "\n",
            "Epoch [16/100] - Learning Rate: 0.009924\n"
          ]
        },
        {
          "output_type": "stream",
          "name": "stderr",
          "text": [
            "Training: 100%|██████████| 98/98 [00:19<00:00,  5.02it/s, loss=2.78, acc=29.1]\n"
          ]
        },
        {
          "output_type": "stream",
          "name": "stdout",
          "text": [
            "Train Loss: 2.7786, Train Acc: 29.08%, Test Loss: 2.3771, Test Acc: 37.89%, Time: 19.52s\n",
            "New best model saved with accuracy: 37.89%\n",
            "\n",
            "Epoch [17/100] - Learning Rate: 0.009891\n"
          ]
        },
        {
          "output_type": "stream",
          "name": "stderr",
          "text": [
            "Training: 100%|██████████| 98/98 [00:18<00:00,  5.26it/s, loss=2.75, acc=29.7]\n"
          ]
        },
        {
          "output_type": "stream",
          "name": "stdout",
          "text": [
            "Train Loss: 2.7527, Train Acc: 29.69%, Test Loss: 2.3724, Test Acc: 37.24%, Time: 18.65s\n",
            "\n",
            "Epoch [18/100] - Learning Rate: 0.009851\n"
          ]
        },
        {
          "output_type": "stream",
          "name": "stderr",
          "text": [
            "Training: 100%|██████████| 98/98 [00:18<00:00,  5.27it/s, loss=2.71, acc=30.3]\n"
          ]
        },
        {
          "output_type": "stream",
          "name": "stdout",
          "text": [
            "Train Loss: 2.7112, Train Acc: 30.29%, Test Loss: 2.3329, Test Acc: 39.17%, Time: 18.60s\n",
            "New best model saved with accuracy: 39.17%\n",
            "\n",
            "Epoch [19/100] - Learning Rate: 0.009806\n"
          ]
        },
        {
          "output_type": "stream",
          "name": "stderr",
          "text": [
            "Training: 100%|██████████| 98/98 [00:19<00:00,  5.04it/s, loss=2.68, acc=30.9]\n"
          ]
        },
        {
          "output_type": "stream",
          "name": "stdout",
          "text": [
            "Train Loss: 2.6813, Train Acc: 30.89%, Test Loss: 2.3301, Test Acc: 38.26%, Time: 19.45s\n",
            "\n",
            "Epoch [20/100] - Learning Rate: 0.009755\n"
          ]
        },
        {
          "output_type": "stream",
          "name": "stderr",
          "text": [
            "Training: 100%|██████████| 98/98 [00:18<00:00,  5.26it/s, loss=2.64, acc=31.6]\n"
          ]
        },
        {
          "output_type": "stream",
          "name": "stdout",
          "text": [
            "Train Loss: 2.6443, Train Acc: 31.60%, Test Loss: 2.2981, Test Acc: 38.62%, Time: 18.63s\n",
            "\n",
            "Epoch [21/100] - Learning Rate: 0.009698\n"
          ]
        },
        {
          "output_type": "stream",
          "name": "stderr",
          "text": [
            "Training: 100%|██████████| 98/98 [00:18<00:00,  5.29it/s, loss=2.62, acc=32.1]\n"
          ]
        },
        {
          "output_type": "stream",
          "name": "stdout",
          "text": [
            "Train Loss: 2.6158, Train Acc: 32.11%, Test Loss: 2.3876, Test Acc: 37.88%, Time: 18.53s\n",
            "\n",
            "Epoch [22/100] - Learning Rate: 0.009636\n"
          ]
        },
        {
          "output_type": "stream",
          "name": "stderr",
          "text": [
            "Training: 100%|██████████| 98/98 [00:19<00:00,  5.03it/s, loss=2.59, acc=32.8]\n"
          ]
        },
        {
          "output_type": "stream",
          "name": "stdout",
          "text": [
            "Train Loss: 2.5882, Train Acc: 32.76%, Test Loss: 2.2374, Test Acc: 40.79%, Time: 19.50s\n",
            "New best model saved with accuracy: 40.79%\n",
            "\n",
            "Epoch [23/100] - Learning Rate: 0.009568\n"
          ]
        },
        {
          "output_type": "stream",
          "name": "stderr",
          "text": [
            "Training: 100%|██████████| 98/98 [00:18<00:00,  5.27it/s, loss=2.56, acc=33.5]\n"
          ]
        },
        {
          "output_type": "stream",
          "name": "stdout",
          "text": [
            "Train Loss: 2.5611, Train Acc: 33.51%, Test Loss: 2.2183, Test Acc: 41.09%, Time: 18.59s\n",
            "New best model saved with accuracy: 41.09%\n",
            "\n",
            "Epoch [24/100] - Learning Rate: 0.009494\n"
          ]
        },
        {
          "output_type": "stream",
          "name": "stderr",
          "text": [
            "Training: 100%|██████████| 98/98 [00:19<00:00,  5.13it/s, loss=2.53, acc=34.1]\n"
          ]
        },
        {
          "output_type": "stream",
          "name": "stdout",
          "text": [
            "Train Loss: 2.5322, Train Acc: 34.10%, Test Loss: 2.1775, Test Acc: 42.52%, Time: 19.09s\n",
            "New best model saved with accuracy: 42.52%\n",
            "\n",
            "Epoch [25/100] - Learning Rate: 0.009415\n"
          ]
        },
        {
          "output_type": "stream",
          "name": "stderr",
          "text": [
            "Training: 100%|██████████| 98/98 [00:19<00:00,  5.03it/s, loss=2.5, acc=35.1]\n"
          ]
        },
        {
          "output_type": "stream",
          "name": "stdout",
          "text": [
            "Train Loss: 2.5015, Train Acc: 35.06%, Test Loss: 2.1372, Test Acc: 42.78%, Time: 19.50s\n",
            "New best model saved with accuracy: 42.78%\n",
            "\n",
            "Epoch [26/100] - Learning Rate: 0.009330\n"
          ]
        },
        {
          "output_type": "stream",
          "name": "stderr",
          "text": [
            "Training: 100%|██████████| 98/98 [00:18<00:00,  5.26it/s, loss=2.48, acc=35.3]\n"
          ]
        },
        {
          "output_type": "stream",
          "name": "stdout",
          "text": [
            "Train Loss: 2.4833, Train Acc: 35.26%, Test Loss: 2.1778, Test Acc: 42.83%, Time: 18.63s\n",
            "New best model saved with accuracy: 42.83%\n",
            "\n",
            "Epoch [27/100] - Learning Rate: 0.009240\n"
          ]
        },
        {
          "output_type": "stream",
          "name": "stderr",
          "text": [
            "Training: 100%|██████████| 98/98 [00:19<00:00,  5.03it/s, loss=2.46, acc=35.8]\n"
          ]
        },
        {
          "output_type": "stream",
          "name": "stdout",
          "text": [
            "Train Loss: 2.4619, Train Acc: 35.83%, Test Loss: 2.1077, Test Acc: 43.92%, Time: 19.47s\n",
            "New best model saved with accuracy: 43.92%\n",
            "\n",
            "Epoch [28/100] - Learning Rate: 0.009145\n"
          ]
        },
        {
          "output_type": "stream",
          "name": "stderr",
          "text": [
            "Training: 100%|██████████| 98/98 [00:19<00:00,  4.99it/s, loss=2.45, acc=36]\n"
          ]
        },
        {
          "output_type": "stream",
          "name": "stdout",
          "text": [
            "Train Loss: 2.4475, Train Acc: 35.96%, Test Loss: 2.0834, Test Acc: 44.52%, Time: 19.66s\n",
            "New best model saved with accuracy: 44.52%\n",
            "\n",
            "Epoch [29/100] - Learning Rate: 0.009045\n"
          ]
        },
        {
          "output_type": "stream",
          "name": "stderr",
          "text": [
            "Training: 100%|██████████| 98/98 [00:18<00:00,  5.32it/s, loss=2.42, acc=36.3]\n"
          ]
        },
        {
          "output_type": "stream",
          "name": "stdout",
          "text": [
            "Train Loss: 2.4244, Train Acc: 36.34%, Test Loss: 2.0655, Test Acc: 45.14%, Time: 18.41s\n",
            "New best model saved with accuracy: 45.14%\n",
            "\n",
            "Epoch [30/100] - Learning Rate: 0.008940\n"
          ]
        },
        {
          "output_type": "stream",
          "name": "stderr",
          "text": [
            "Training: 100%|██████████| 98/98 [00:19<00:00,  5.01it/s, loss=2.4, acc=36.9]\n"
          ]
        },
        {
          "output_type": "stream",
          "name": "stdout",
          "text": [
            "Train Loss: 2.4017, Train Acc: 36.90%, Test Loss: 2.0672, Test Acc: 44.86%, Time: 19.55s\n",
            "\n",
            "Epoch [31/100] - Learning Rate: 0.008830\n"
          ]
        },
        {
          "output_type": "stream",
          "name": "stderr",
          "text": [
            "Training: 100%|██████████| 98/98 [00:19<00:00,  5.14it/s, loss=2.38, acc=37.4]\n"
          ]
        },
        {
          "output_type": "stream",
          "name": "stdout",
          "text": [
            "Train Loss: 2.3819, Train Acc: 37.36%, Test Loss: 2.0300, Test Acc: 46.26%, Time: 19.08s\n",
            "New best model saved with accuracy: 46.26%\n",
            "\n",
            "Epoch [32/100] - Learning Rate: 0.008716\n"
          ]
        },
        {
          "output_type": "stream",
          "name": "stderr",
          "text": [
            "Training: 100%|██████████| 98/98 [00:18<00:00,  5.33it/s, loss=2.36, acc=37.8]\n"
          ]
        },
        {
          "output_type": "stream",
          "name": "stdout",
          "text": [
            "Train Loss: 2.3646, Train Acc: 37.84%, Test Loss: 2.1114, Test Acc: 43.90%, Time: 18.38s\n",
            "\n",
            "Epoch [33/100] - Learning Rate: 0.008597\n"
          ]
        },
        {
          "output_type": "stream",
          "name": "stderr",
          "text": [
            "Training: 100%|██████████| 98/98 [00:19<00:00,  5.04it/s, loss=2.34, acc=38.4]\n"
          ]
        },
        {
          "output_type": "stream",
          "name": "stdout",
          "text": [
            "Train Loss: 2.3436, Train Acc: 38.36%, Test Loss: 2.0296, Test Acc: 45.94%, Time: 19.47s\n",
            "\n",
            "Epoch [34/100] - Learning Rate: 0.008473\n"
          ]
        },
        {
          "output_type": "stream",
          "name": "stderr",
          "text": [
            "Training: 100%|██████████| 98/98 [00:18<00:00,  5.31it/s, loss=2.34, acc=38.4]\n"
          ]
        },
        {
          "output_type": "stream",
          "name": "stdout",
          "text": [
            "Train Loss: 2.3378, Train Acc: 38.38%, Test Loss: 2.0247, Test Acc: 45.71%, Time: 18.46s\n",
            "\n",
            "Epoch [35/100] - Learning Rate: 0.008346\n"
          ]
        },
        {
          "output_type": "stream",
          "name": "stderr",
          "text": [
            "Training: 100%|██████████| 98/98 [00:18<00:00,  5.32it/s, loss=2.32, acc=38.8]\n"
          ]
        },
        {
          "output_type": "stream",
          "name": "stdout",
          "text": [
            "Train Loss: 2.3197, Train Acc: 38.78%, Test Loss: 1.9866, Test Acc: 46.96%, Time: 18.42s\n",
            "New best model saved with accuracy: 46.96%\n",
            "\n",
            "Epoch [36/100] - Learning Rate: 0.008214\n"
          ]
        },
        {
          "output_type": "stream",
          "name": "stderr",
          "text": [
            "Training: 100%|██████████| 98/98 [00:19<00:00,  5.02it/s, loss=2.3, acc=39.3]\n"
          ]
        },
        {
          "output_type": "stream",
          "name": "stdout",
          "text": [
            "Train Loss: 2.2969, Train Acc: 39.25%, Test Loss: 1.9574, Test Acc: 47.47%, Time: 19.52s\n",
            "New best model saved with accuracy: 47.47%\n",
            "\n",
            "Epoch [37/100] - Learning Rate: 0.008078\n"
          ]
        },
        {
          "output_type": "stream",
          "name": "stderr",
          "text": [
            "Training: 100%|██████████| 98/98 [00:18<00:00,  5.36it/s, loss=2.28, acc=39.8]\n"
          ]
        },
        {
          "output_type": "stream",
          "name": "stdout",
          "text": [
            "Train Loss: 2.2839, Train Acc: 39.85%, Test Loss: 2.0842, Test Acc: 44.56%, Time: 18.30s\n",
            "\n",
            "Epoch [38/100] - Learning Rate: 0.007939\n"
          ]
        },
        {
          "output_type": "stream",
          "name": "stderr",
          "text": [
            "Training: 100%|██████████| 98/98 [00:19<00:00,  5.12it/s, loss=2.27, acc=39.7]\n"
          ]
        },
        {
          "output_type": "stream",
          "name": "stdout",
          "text": [
            "Train Loss: 2.2711, Train Acc: 39.73%, Test Loss: 1.9589, Test Acc: 47.41%, Time: 19.17s\n",
            "\n",
            "Epoch [39/100] - Learning Rate: 0.007796\n"
          ]
        },
        {
          "output_type": "stream",
          "name": "stderr",
          "text": [
            "Training: 100%|██████████| 98/98 [00:19<00:00,  5.03it/s, loss=2.23, acc=40.5]\n"
          ]
        },
        {
          "output_type": "stream",
          "name": "stdout",
          "text": [
            "Train Loss: 2.2328, Train Acc: 40.50%, Test Loss: 1.9679, Test Acc: 47.78%, Time: 19.50s\n",
            "New best model saved with accuracy: 47.78%\n",
            "\n",
            "Epoch [40/100] - Learning Rate: 0.007650\n"
          ]
        },
        {
          "output_type": "stream",
          "name": "stderr",
          "text": [
            "Training: 100%|██████████| 98/98 [00:18<00:00,  5.30it/s, loss=2.25, acc=40.4]\n"
          ]
        },
        {
          "output_type": "stream",
          "name": "stdout",
          "text": [
            "Train Loss: 2.2457, Train Acc: 40.44%, Test Loss: 1.9321, Test Acc: 48.45%, Time: 18.48s\n",
            "New best model saved with accuracy: 48.45%\n",
            "\n",
            "Epoch [41/100] - Learning Rate: 0.007500\n"
          ]
        },
        {
          "output_type": "stream",
          "name": "stderr",
          "text": [
            "Training: 100%|██████████| 98/98 [00:19<00:00,  5.01it/s, loss=2.23, acc=40.5]\n"
          ]
        },
        {
          "output_type": "stream",
          "name": "stdout",
          "text": [
            "Train Loss: 2.2295, Train Acc: 40.47%, Test Loss: 1.9274, Test Acc: 48.74%, Time: 19.55s\n",
            "New best model saved with accuracy: 48.74%\n",
            "\n",
            "Epoch [42/100] - Learning Rate: 0.007347\n"
          ]
        },
        {
          "output_type": "stream",
          "name": "stderr",
          "text": [
            "Training: 100%|██████████| 98/98 [00:19<00:00,  5.05it/s, loss=2.22, acc=41]\n"
          ]
        },
        {
          "output_type": "stream",
          "name": "stdout",
          "text": [
            "Train Loss: 2.2190, Train Acc: 40.99%, Test Loss: 1.9186, Test Acc: 48.52%, Time: 19.40s\n",
            "\n",
            "Epoch [43/100] - Learning Rate: 0.007192\n"
          ]
        },
        {
          "output_type": "stream",
          "name": "stderr",
          "text": [
            "Training: 100%|██████████| 98/98 [00:19<00:00,  5.13it/s, loss=2.2, acc=41.3]\n"
          ]
        },
        {
          "output_type": "stream",
          "name": "stdout",
          "text": [
            "Train Loss: 2.1965, Train Acc: 41.33%, Test Loss: 1.8738, Test Acc: 49.52%, Time: 19.11s\n",
            "New best model saved with accuracy: 49.52%\n",
            "\n",
            "Epoch [44/100] - Learning Rate: 0.007034\n"
          ]
        },
        {
          "output_type": "stream",
          "name": "stderr",
          "text": [
            "Training: 100%|██████████| 98/98 [00:19<00:00,  4.93it/s, loss=2.18, acc=41.6]\n"
          ]
        },
        {
          "output_type": "stream",
          "name": "stdout",
          "text": [
            "Train Loss: 2.1834, Train Acc: 41.58%, Test Loss: 2.2660, Test Acc: 41.63%, Time: 19.87s\n",
            "\n",
            "Epoch [45/100] - Learning Rate: 0.006873\n"
          ]
        },
        {
          "output_type": "stream",
          "name": "stderr",
          "text": [
            "Training: 100%|██████████| 98/98 [00:20<00:00,  4.89it/s, loss=2.17, acc=41.9]\n"
          ]
        },
        {
          "output_type": "stream",
          "name": "stdout",
          "text": [
            "Train Loss: 2.1714, Train Acc: 41.87%, Test Loss: 1.9659, Test Acc: 47.71%, Time: 20.04s\n",
            "\n",
            "Epoch [46/100] - Learning Rate: 0.006710\n"
          ]
        },
        {
          "output_type": "stream",
          "name": "stderr",
          "text": [
            "Training: 100%|██████████| 98/98 [00:19<00:00,  5.12it/s, loss=2.16, acc=42.2]\n"
          ]
        },
        {
          "output_type": "stream",
          "name": "stdout",
          "text": [
            "Train Loss: 2.1615, Train Acc: 42.17%, Test Loss: 2.1771, Test Acc: 42.80%, Time: 19.15s\n",
            "\n",
            "Epoch [47/100] - Learning Rate: 0.006545\n"
          ]
        },
        {
          "output_type": "stream",
          "name": "stderr",
          "text": [
            "Training: 100%|██████████| 98/98 [00:19<00:00,  5.14it/s, loss=2.15, acc=42.4]\n"
          ]
        },
        {
          "output_type": "stream",
          "name": "stdout",
          "text": [
            "Train Loss: 2.1541, Train Acc: 42.41%, Test Loss: 1.9905, Test Acc: 46.82%, Time: 19.07s\n",
            "\n",
            "Epoch [48/100] - Learning Rate: 0.006378\n"
          ]
        },
        {
          "output_type": "stream",
          "name": "stderr",
          "text": [
            "Training: 100%|██████████| 98/98 [00:19<00:00,  4.97it/s, loss=2.13, acc=42.5]\n"
          ]
        },
        {
          "output_type": "stream",
          "name": "stdout",
          "text": [
            "Train Loss: 2.1339, Train Acc: 42.51%, Test Loss: 2.0265, Test Acc: 45.97%, Time: 19.73s\n",
            "\n",
            "Epoch [49/100] - Learning Rate: 0.006210\n"
          ]
        },
        {
          "output_type": "stream",
          "name": "stderr",
          "text": [
            "Training: 100%|██████████| 98/98 [00:18<00:00,  5.24it/s, loss=2.13, acc=42.7]\n"
          ]
        },
        {
          "output_type": "stream",
          "name": "stdout",
          "text": [
            "Train Loss: 2.1311, Train Acc: 42.73%, Test Loss: 2.1100, Test Acc: 44.99%, Time: 18.69s\n",
            "\n",
            "Epoch [50/100] - Learning Rate: 0.006040\n"
          ]
        },
        {
          "output_type": "stream",
          "name": "stderr",
          "text": [
            "Training: 100%|██████████| 98/98 [00:19<00:00,  4.96it/s, loss=2.11, acc=43.3]\n"
          ]
        },
        {
          "output_type": "stream",
          "name": "stdout",
          "text": [
            "Train Loss: 2.1110, Train Acc: 43.34%, Test Loss: 1.8322, Test Acc: 49.87%, Time: 19.75s\n",
            "New best model saved with accuracy: 49.87%\n",
            "\n",
            "Epoch [51/100] - Learning Rate: 0.005868\n"
          ]
        },
        {
          "output_type": "stream",
          "name": "stderr",
          "text": [
            "Training: 100%|██████████| 98/98 [00:19<00:00,  4.99it/s, loss=2.09, acc=43.6]\n"
          ]
        },
        {
          "output_type": "stream",
          "name": "stdout",
          "text": [
            "Train Loss: 2.0948, Train Acc: 43.57%, Test Loss: 2.2125, Test Acc: 42.96%, Time: 19.66s\n",
            "\n",
            "Epoch [52/100] - Learning Rate: 0.005696\n"
          ]
        },
        {
          "output_type": "stream",
          "name": "stderr",
          "text": [
            "Training: 100%|██████████| 98/98 [00:18<00:00,  5.26it/s, loss=2.08, acc=43.7]\n"
          ]
        },
        {
          "output_type": "stream",
          "name": "stdout",
          "text": [
            "Train Loss: 2.0840, Train Acc: 43.73%, Test Loss: 1.8509, Test Acc: 50.01%, Time: 18.63s\n",
            "New best model saved with accuracy: 50.01%\n",
            "\n",
            "Epoch [53/100] - Learning Rate: 0.005523\n"
          ]
        },
        {
          "output_type": "stream",
          "name": "stderr",
          "text": [
            "Training: 100%|██████████| 98/98 [00:19<00:00,  5.02it/s, loss=2.08, acc=44]\n"
          ]
        },
        {
          "output_type": "stream",
          "name": "stdout",
          "text": [
            "Train Loss: 2.0843, Train Acc: 44.01%, Test Loss: 2.5912, Test Acc: 37.44%, Time: 19.51s\n",
            "\n",
            "Epoch [54/100] - Learning Rate: 0.005349\n"
          ]
        },
        {
          "output_type": "stream",
          "name": "stderr",
          "text": [
            "Training: 100%|██████████| 98/98 [00:19<00:00,  4.96it/s, loss=2.06, acc=44.2]\n"
          ]
        },
        {
          "output_type": "stream",
          "name": "stdout",
          "text": [
            "Train Loss: 2.0607, Train Acc: 44.23%, Test Loss: 1.8030, Test Acc: 51.20%, Time: 19.77s\n",
            "New best model saved with accuracy: 51.20%\n",
            "\n",
            "Epoch [55/100] - Learning Rate: 0.005174\n"
          ]
        },
        {
          "output_type": "stream",
          "name": "stderr",
          "text": [
            "Training: 100%|██████████| 98/98 [00:18<00:00,  5.29it/s, loss=2.05, acc=44.8]\n"
          ]
        },
        {
          "output_type": "stream",
          "name": "stdout",
          "text": [
            "Train Loss: 2.0487, Train Acc: 44.77%, Test Loss: 1.8007, Test Acc: 51.36%, Time: 18.53s\n",
            "New best model saved with accuracy: 51.36%\n",
            "\n",
            "Epoch [56/100] - Learning Rate: 0.005000\n"
          ]
        },
        {
          "output_type": "stream",
          "name": "stderr",
          "text": [
            "Training: 100%|██████████| 98/98 [00:19<00:00,  4.95it/s, loss=2.04, acc=44.6]\n"
          ]
        },
        {
          "output_type": "stream",
          "name": "stdout",
          "text": [
            "Train Loss: 2.0436, Train Acc: 44.56%, Test Loss: 1.8542, Test Acc: 50.14%, Time: 19.82s\n",
            "\n",
            "Epoch [57/100] - Learning Rate: 0.004826\n"
          ]
        },
        {
          "output_type": "stream",
          "name": "stderr",
          "text": [
            "Training: 100%|██████████| 98/98 [00:19<00:00,  5.06it/s, loss=2.03, acc=44.9]\n"
          ]
        },
        {
          "output_type": "stream",
          "name": "stdout",
          "text": [
            "Train Loss: 2.0326, Train Acc: 44.91%, Test Loss: 1.8892, Test Acc: 50.18%, Time: 19.39s\n",
            "\n",
            "Epoch [58/100] - Learning Rate: 0.004651\n"
          ]
        },
        {
          "output_type": "stream",
          "name": "stderr",
          "text": [
            "Training: 100%|██████████| 98/98 [00:18<00:00,  5.22it/s, loss=2.02, acc=45.3]\n"
          ]
        },
        {
          "output_type": "stream",
          "name": "stdout",
          "text": [
            "Train Loss: 2.0227, Train Acc: 45.26%, Test Loss: 2.0512, Test Acc: 46.19%, Time: 18.77s\n",
            "\n",
            "Epoch [59/100] - Learning Rate: 0.004477\n"
          ]
        },
        {
          "output_type": "stream",
          "name": "stderr",
          "text": [
            "Training: 100%|██████████| 98/98 [00:19<00:00,  4.95it/s, loss=2.01, acc=45.3]\n"
          ]
        },
        {
          "output_type": "stream",
          "name": "stdout",
          "text": [
            "Train Loss: 2.0131, Train Acc: 45.34%, Test Loss: 1.8267, Test Acc: 50.78%, Time: 19.79s\n",
            "\n",
            "Epoch [60/100] - Learning Rate: 0.004304\n"
          ]
        },
        {
          "output_type": "stream",
          "name": "stderr",
          "text": [
            "Training: 100%|██████████| 98/98 [00:19<00:00,  4.97it/s, loss=2.01, acc=45.5]\n"
          ]
        },
        {
          "output_type": "stream",
          "name": "stdout",
          "text": [
            "Train Loss: 2.0054, Train Acc: 45.51%, Test Loss: 1.9099, Test Acc: 49.13%, Time: 19.73s\n",
            "\n",
            "Epoch [61/100] - Learning Rate: 0.004132\n"
          ]
        },
        {
          "output_type": "stream",
          "name": "stderr",
          "text": [
            "Training: 100%|██████████| 98/98 [00:18<00:00,  5.19it/s, loss=1.99, acc=46.1]\n"
          ]
        },
        {
          "output_type": "stream",
          "name": "stdout",
          "text": [
            "Train Loss: 1.9864, Train Acc: 46.08%, Test Loss: 1.8840, Test Acc: 49.51%, Time: 18.90s\n",
            "\n",
            "Epoch [62/100] - Learning Rate: 0.003960\n"
          ]
        },
        {
          "output_type": "stream",
          "name": "stderr",
          "text": [
            "Training: 100%|██████████| 98/98 [00:19<00:00,  4.98it/s, loss=1.99, acc=45.9]\n"
          ]
        },
        {
          "output_type": "stream",
          "name": "stdout",
          "text": [
            "Train Loss: 1.9889, Train Acc: 45.91%, Test Loss: 1.8492, Test Acc: 50.25%, Time: 19.70s\n",
            "\n",
            "Epoch [63/100] - Learning Rate: 0.003790\n"
          ]
        },
        {
          "output_type": "stream",
          "name": "stderr",
          "text": [
            "Training: 100%|██████████| 98/98 [00:19<00:00,  5.14it/s, loss=1.97, acc=46.5]\n"
          ]
        },
        {
          "output_type": "stream",
          "name": "stdout",
          "text": [
            "Train Loss: 1.9654, Train Acc: 46.53%, Test Loss: 1.7940, Test Acc: 51.33%, Time: 19.09s\n",
            "\n",
            "Epoch [64/100] - Learning Rate: 0.003622\n"
          ]
        },
        {
          "output_type": "stream",
          "name": "stderr",
          "text": [
            "Training: 100%|██████████| 98/98 [00:18<00:00,  5.17it/s, loss=1.97, acc=46.7]\n"
          ]
        },
        {
          "output_type": "stream",
          "name": "stdout",
          "text": [
            "Train Loss: 1.9676, Train Acc: 46.67%, Test Loss: 1.7793, Test Acc: 52.30%, Time: 18.96s\n",
            "New best model saved with accuracy: 52.30%\n",
            "\n",
            "Epoch [65/100] - Learning Rate: 0.003455\n"
          ]
        },
        {
          "output_type": "stream",
          "name": "stderr",
          "text": [
            "Training: 100%|██████████| 98/98 [00:19<00:00,  4.97it/s, loss=1.95, acc=46.9]\n"
          ]
        },
        {
          "output_type": "stream",
          "name": "stdout",
          "text": [
            "Train Loss: 1.9528, Train Acc: 46.86%, Test Loss: 1.7736, Test Acc: 52.15%, Time: 19.73s\n",
            "\n",
            "Epoch [66/100] - Learning Rate: 0.003290\n"
          ]
        },
        {
          "output_type": "stream",
          "name": "stderr",
          "text": [
            "Training: 100%|██████████| 98/98 [00:18<00:00,  5.32it/s, loss=1.94, acc=47.2]\n"
          ]
        },
        {
          "output_type": "stream",
          "name": "stdout",
          "text": [
            "Train Loss: 1.9375, Train Acc: 47.24%, Test Loss: 1.7459, Test Acc: 52.55%, Time: 18.43s\n",
            "New best model saved with accuracy: 52.55%\n",
            "\n",
            "Epoch [67/100] - Learning Rate: 0.003127\n"
          ]
        },
        {
          "output_type": "stream",
          "name": "stderr",
          "text": [
            "Training: 100%|██████████| 98/98 [00:18<00:00,  5.21it/s, loss=1.95, acc=46.9]\n"
          ]
        },
        {
          "output_type": "stream",
          "name": "stdout",
          "text": [
            "Train Loss: 1.9470, Train Acc: 46.91%, Test Loss: 1.8612, Test Acc: 50.37%, Time: 18.81s\n",
            "\n",
            "Epoch [68/100] - Learning Rate: 0.002966\n"
          ]
        },
        {
          "output_type": "stream",
          "name": "stderr",
          "text": [
            "Training: 100%|██████████| 98/98 [00:19<00:00,  5.01it/s, loss=1.93, acc=47.2]\n"
          ]
        },
        {
          "output_type": "stream",
          "name": "stdout",
          "text": [
            "Train Loss: 1.9250, Train Acc: 47.24%, Test Loss: 1.7406, Test Acc: 53.16%, Time: 19.58s\n",
            "New best model saved with accuracy: 53.16%\n",
            "\n",
            "Epoch [69/100] - Learning Rate: 0.002808\n"
          ]
        },
        {
          "output_type": "stream",
          "name": "stderr",
          "text": [
            "Training: 100%|██████████| 98/98 [00:18<00:00,  5.22it/s, loss=1.92, acc=47.2]\n"
          ]
        },
        {
          "output_type": "stream",
          "name": "stdout",
          "text": [
            "Train Loss: 1.9236, Train Acc: 47.21%, Test Loss: 1.7301, Test Acc: 53.38%, Time: 18.77s\n",
            "New best model saved with accuracy: 53.38%\n",
            "\n",
            "Epoch [70/100] - Learning Rate: 0.002653\n"
          ]
        },
        {
          "output_type": "stream",
          "name": "stderr",
          "text": [
            "Training: 100%|██████████| 98/98 [00:18<00:00,  5.22it/s, loss=1.91, acc=47.7]\n"
          ]
        },
        {
          "output_type": "stream",
          "name": "stdout",
          "text": [
            "Train Loss: 1.9085, Train Acc: 47.68%, Test Loss: 1.7224, Test Acc: 53.37%, Time: 18.77s\n",
            "\n",
            "Epoch [71/100] - Learning Rate: 0.002500\n"
          ]
        },
        {
          "output_type": "stream",
          "name": "stderr",
          "text": [
            "Training: 100%|██████████| 98/98 [00:19<00:00,  4.94it/s, loss=1.9, acc=47.7]\n"
          ]
        },
        {
          "output_type": "stream",
          "name": "stdout",
          "text": [
            "Train Loss: 1.9001, Train Acc: 47.75%, Test Loss: 1.7501, Test Acc: 52.75%, Time: 19.83s\n",
            "\n",
            "Epoch [72/100] - Learning Rate: 0.002350\n"
          ]
        },
        {
          "output_type": "stream",
          "name": "stderr",
          "text": [
            "Training: 100%|██████████| 98/98 [00:18<00:00,  5.27it/s, loss=1.9, acc=47.9]\n"
          ]
        },
        {
          "output_type": "stream",
          "name": "stdout",
          "text": [
            "Train Loss: 1.9001, Train Acc: 47.94%, Test Loss: 1.7167, Test Acc: 53.64%, Time: 18.60s\n",
            "New best model saved with accuracy: 53.64%\n",
            "\n",
            "Epoch [73/100] - Learning Rate: 0.002204\n"
          ]
        },
        {
          "output_type": "stream",
          "name": "stderr",
          "text": [
            "Training: 100%|██████████| 98/98 [00:18<00:00,  5.30it/s, loss=1.9, acc=47.9]\n"
          ]
        },
        {
          "output_type": "stream",
          "name": "stdout",
          "text": [
            "Train Loss: 1.8968, Train Acc: 47.93%, Test Loss: 1.7109, Test Acc: 53.44%, Time: 18.48s\n",
            "\n",
            "Epoch [74/100] - Learning Rate: 0.002061\n"
          ]
        },
        {
          "output_type": "stream",
          "name": "stderr",
          "text": [
            "Training: 100%|██████████| 98/98 [00:19<00:00,  4.98it/s, loss=1.88, acc=48.2]\n"
          ]
        },
        {
          "output_type": "stream",
          "name": "stdout",
          "text": [
            "Train Loss: 1.8803, Train Acc: 48.17%, Test Loss: 1.8025, Test Acc: 51.84%, Time: 19.69s\n",
            "\n",
            "Epoch [75/100] - Learning Rate: 0.001922\n"
          ]
        },
        {
          "output_type": "stream",
          "name": "stderr",
          "text": [
            "Training: 100%|██████████| 98/98 [00:18<00:00,  5.35it/s, loss=1.88, acc=48.3]\n"
          ]
        },
        {
          "output_type": "stream",
          "name": "stdout",
          "text": [
            "Train Loss: 1.8773, Train Acc: 48.28%, Test Loss: 1.7238, Test Acc: 53.46%, Time: 18.31s\n",
            "\n",
            "Epoch [76/100] - Learning Rate: 0.001786\n"
          ]
        },
        {
          "output_type": "stream",
          "name": "stderr",
          "text": [
            "Training: 100%|██████████| 98/98 [00:18<00:00,  5.24it/s, loss=1.87, acc=48.6]\n"
          ]
        },
        {
          "output_type": "stream",
          "name": "stdout",
          "text": [
            "Train Loss: 1.8697, Train Acc: 48.60%, Test Loss: 1.6980, Test Acc: 54.29%, Time: 18.71s\n",
            "New best model saved with accuracy: 54.29%\n",
            "\n",
            "Epoch [77/100] - Learning Rate: 0.001654\n"
          ]
        },
        {
          "output_type": "stream",
          "name": "stderr",
          "text": [
            "Training: 100%|██████████| 98/98 [00:19<00:00,  4.99it/s, loss=1.86, acc=48.9]\n"
          ]
        },
        {
          "output_type": "stream",
          "name": "stdout",
          "text": [
            "Train Loss: 1.8582, Train Acc: 48.89%, Test Loss: 1.7159, Test Acc: 53.49%, Time: 19.63s\n",
            "\n",
            "Epoch [78/100] - Learning Rate: 0.001527\n"
          ]
        },
        {
          "output_type": "stream",
          "name": "stderr",
          "text": [
            "Training: 100%|██████████| 98/98 [00:18<00:00,  5.28it/s, loss=1.86, acc=48.9]\n"
          ]
        },
        {
          "output_type": "stream",
          "name": "stdout",
          "text": [
            "Train Loss: 1.8556, Train Acc: 48.87%, Test Loss: 1.7117, Test Acc: 53.34%, Time: 18.57s\n",
            "\n",
            "Epoch [79/100] - Learning Rate: 0.001403\n"
          ]
        },
        {
          "output_type": "stream",
          "name": "stderr",
          "text": [
            "Training: 100%|██████████| 98/98 [00:19<00:00,  5.09it/s, loss=1.86, acc=49.1]\n"
          ]
        },
        {
          "output_type": "stream",
          "name": "stdout",
          "text": [
            "Train Loss: 1.8564, Train Acc: 49.13%, Test Loss: 1.6837, Test Acc: 53.97%, Time: 19.27s\n",
            "\n",
            "Epoch [80/100] - Learning Rate: 0.001284\n"
          ]
        },
        {
          "output_type": "stream",
          "name": "stderr",
          "text": [
            "Training: 100%|██████████| 98/98 [00:19<00:00,  4.93it/s, loss=1.84, acc=49.3]\n"
          ]
        },
        {
          "output_type": "stream",
          "name": "stdout",
          "text": [
            "Train Loss: 1.8445, Train Acc: 49.31%, Test Loss: 1.7120, Test Acc: 54.08%, Time: 19.87s\n",
            "\n",
            "Epoch [81/100] - Learning Rate: 0.001170\n"
          ]
        },
        {
          "output_type": "stream",
          "name": "stderr",
          "text": [
            "Training: 100%|██████████| 98/98 [00:18<00:00,  5.19it/s, loss=1.84, acc=49.2]\n"
          ]
        },
        {
          "output_type": "stream",
          "name": "stdout",
          "text": [
            "Train Loss: 1.8392, Train Acc: 49.21%, Test Loss: 1.6750, Test Acc: 54.32%, Time: 18.88s\n",
            "New best model saved with accuracy: 54.32%\n",
            "\n",
            "Epoch [82/100] - Learning Rate: 0.001060\n"
          ]
        },
        {
          "output_type": "stream",
          "name": "stderr",
          "text": [
            "Training: 100%|██████████| 98/98 [00:19<00:00,  5.08it/s, loss=1.84, acc=49.2]\n"
          ]
        },
        {
          "output_type": "stream",
          "name": "stdout",
          "text": [
            "Train Loss: 1.8438, Train Acc: 49.20%, Test Loss: 1.6815, Test Acc: 54.32%, Time: 19.31s\n",
            "\n",
            "Epoch [83/100] - Learning Rate: 0.000955\n"
          ]
        },
        {
          "output_type": "stream",
          "name": "stderr",
          "text": [
            "Training: 100%|██████████| 98/98 [00:19<00:00,  4.93it/s, loss=1.83, acc=49.4]\n"
          ]
        },
        {
          "output_type": "stream",
          "name": "stdout",
          "text": [
            "Train Loss: 1.8321, Train Acc: 49.42%, Test Loss: 1.6925, Test Acc: 54.27%, Time: 19.87s\n",
            "\n",
            "Epoch [84/100] - Learning Rate: 0.000855\n"
          ]
        },
        {
          "output_type": "stream",
          "name": "stderr",
          "text": [
            "Training: 100%|██████████| 98/98 [00:18<00:00,  5.20it/s, loss=1.83, acc=49.5]\n"
          ]
        },
        {
          "output_type": "stream",
          "name": "stdout",
          "text": [
            "Train Loss: 1.8338, Train Acc: 49.45%, Test Loss: 1.6992, Test Acc: 54.02%, Time: 18.86s\n",
            "\n",
            "Epoch [85/100] - Learning Rate: 0.000760\n"
          ]
        },
        {
          "output_type": "stream",
          "name": "stderr",
          "text": [
            "Training: 100%|██████████| 98/98 [00:19<00:00,  5.10it/s, loss=1.82, acc=50]\n"
          ]
        },
        {
          "output_type": "stream",
          "name": "stdout",
          "text": [
            "Train Loss: 1.8205, Train Acc: 50.01%, Test Loss: 1.6718, Test Acc: 54.26%, Time: 19.21s\n",
            "\n",
            "Epoch [86/100] - Learning Rate: 0.000670\n"
          ]
        },
        {
          "output_type": "stream",
          "name": "stderr",
          "text": [
            "Training: 100%|██████████| 98/98 [00:19<00:00,  5.01it/s, loss=1.83, acc=49.8]\n"
          ]
        },
        {
          "output_type": "stream",
          "name": "stdout",
          "text": [
            "Train Loss: 1.8274, Train Acc: 49.83%, Test Loss: 1.6722, Test Acc: 54.72%, Time: 19.57s\n",
            "New best model saved with accuracy: 54.72%\n",
            "\n",
            "Epoch [87/100] - Learning Rate: 0.000585\n"
          ]
        },
        {
          "output_type": "stream",
          "name": "stderr",
          "text": [
            "Training: 100%|██████████| 98/98 [00:18<00:00,  5.23it/s, loss=1.82, acc=49.9]\n"
          ]
        },
        {
          "output_type": "stream",
          "name": "stdout",
          "text": [
            "Train Loss: 1.8154, Train Acc: 49.94%, Test Loss: 1.6659, Test Acc: 54.69%, Time: 18.76s\n",
            "\n",
            "Epoch [88/100] - Learning Rate: 0.000506\n"
          ]
        },
        {
          "output_type": "stream",
          "name": "stderr",
          "text": [
            "Training: 100%|██████████| 98/98 [00:19<00:00,  4.98it/s, loss=1.82, acc=49.6]\n"
          ]
        },
        {
          "output_type": "stream",
          "name": "stdout",
          "text": [
            "Train Loss: 1.8194, Train Acc: 49.55%, Test Loss: 1.6642, Test Acc: 54.60%, Time: 19.67s\n",
            "\n",
            "Epoch [89/100] - Learning Rate: 0.000432\n"
          ]
        },
        {
          "output_type": "stream",
          "name": "stderr",
          "text": [
            "Training: 100%|██████████| 98/98 [00:19<00:00,  4.92it/s, loss=1.81, acc=50]\n"
          ]
        },
        {
          "output_type": "stream",
          "name": "stdout",
          "text": [
            "Train Loss: 1.8058, Train Acc: 50.01%, Test Loss: 1.6661, Test Acc: 54.50%, Time: 19.93s\n",
            "\n",
            "Epoch [90/100] - Learning Rate: 0.000364\n"
          ]
        },
        {
          "output_type": "stream",
          "name": "stderr",
          "text": [
            "Training: 100%|██████████| 98/98 [00:19<00:00,  5.16it/s, loss=1.81, acc=49.8]\n"
          ]
        },
        {
          "output_type": "stream",
          "name": "stdout",
          "text": [
            "Train Loss: 1.8147, Train Acc: 49.81%, Test Loss: 1.6606, Test Acc: 54.68%, Time: 19.02s\n",
            "\n",
            "Epoch [91/100] - Learning Rate: 0.000302\n"
          ]
        },
        {
          "output_type": "stream",
          "name": "stderr",
          "text": [
            "Training: 100%|██████████| 98/98 [00:19<00:00,  4.93it/s, loss=1.81, acc=49.7]\n"
          ]
        },
        {
          "output_type": "stream",
          "name": "stdout",
          "text": [
            "Train Loss: 1.8131, Train Acc: 49.71%, Test Loss: 1.6640, Test Acc: 54.59%, Time: 19.89s\n",
            "\n",
            "Epoch [92/100] - Learning Rate: 0.000245\n"
          ]
        },
        {
          "output_type": "stream",
          "name": "stderr",
          "text": [
            "Training: 100%|██████████| 98/98 [00:19<00:00,  4.93it/s, loss=1.8, acc=50]\n"
          ]
        },
        {
          "output_type": "stream",
          "name": "stdout",
          "text": [
            "Train Loss: 1.8012, Train Acc: 50.01%, Test Loss: 1.6603, Test Acc: 54.61%, Time: 19.90s\n",
            "\n",
            "Epoch [93/100] - Learning Rate: 0.000194\n"
          ]
        },
        {
          "output_type": "stream",
          "name": "stderr",
          "text": [
            "Training: 100%|██████████| 98/98 [00:18<00:00,  5.23it/s, loss=1.81, acc=49.7]\n"
          ]
        },
        {
          "output_type": "stream",
          "name": "stdout",
          "text": [
            "Train Loss: 1.8115, Train Acc: 49.72%, Test Loss: 1.6593, Test Acc: 54.60%, Time: 18.73s\n",
            "\n",
            "Epoch [94/100] - Learning Rate: 0.000149\n"
          ]
        },
        {
          "output_type": "stream",
          "name": "stderr",
          "text": [
            "Training: 100%|██████████| 98/98 [00:19<00:00,  5.00it/s, loss=1.8, acc=50.2]\n"
          ]
        },
        {
          "output_type": "stream",
          "name": "stdout",
          "text": [
            "Train Loss: 1.7992, Train Acc: 50.24%, Test Loss: 1.6578, Test Acc: 54.77%, Time: 19.60s\n",
            "New best model saved with accuracy: 54.77%\n",
            "\n",
            "Epoch [95/100] - Learning Rate: 0.000109\n"
          ]
        },
        {
          "output_type": "stream",
          "name": "stderr",
          "text": [
            "Training: 100%|██████████| 98/98 [00:19<00:00,  4.90it/s, loss=1.81, acc=49.9]\n"
          ]
        },
        {
          "output_type": "stream",
          "name": "stdout",
          "text": [
            "Train Loss: 1.8070, Train Acc: 49.94%, Test Loss: 1.6602, Test Acc: 54.93%, Time: 20.00s\n",
            "New best model saved with accuracy: 54.93%\n",
            "\n",
            "Epoch [96/100] - Learning Rate: 0.000076\n"
          ]
        },
        {
          "output_type": "stream",
          "name": "stderr",
          "text": [
            "Training: 100%|██████████| 98/98 [00:18<00:00,  5.21it/s, loss=1.79, acc=50.2]\n"
          ]
        },
        {
          "output_type": "stream",
          "name": "stdout",
          "text": [
            "Train Loss: 1.7937, Train Acc: 50.25%, Test Loss: 1.6582, Test Acc: 54.75%, Time: 18.80s\n",
            "\n",
            "Epoch [97/100] - Learning Rate: 0.000049\n"
          ]
        },
        {
          "output_type": "stream",
          "name": "stderr",
          "text": [
            "Training: 100%|██████████| 98/98 [00:19<00:00,  5.03it/s, loss=1.8, acc=50]\n"
          ]
        },
        {
          "output_type": "stream",
          "name": "stdout",
          "text": [
            "Train Loss: 1.8013, Train Acc: 50.00%, Test Loss: 1.6570, Test Acc: 54.83%, Time: 19.51s\n",
            "\n",
            "Epoch [98/100] - Learning Rate: 0.000027\n"
          ]
        },
        {
          "output_type": "stream",
          "name": "stderr",
          "text": [
            "Training: 100%|██████████| 98/98 [00:19<00:00,  4.97it/s, loss=1.8, acc=50.1]\n"
          ]
        },
        {
          "output_type": "stream",
          "name": "stdout",
          "text": [
            "Train Loss: 1.7983, Train Acc: 50.12%, Test Loss: 1.6573, Test Acc: 54.80%, Time: 19.73s\n",
            "\n",
            "Epoch [99/100] - Learning Rate: 0.000012\n"
          ]
        },
        {
          "output_type": "stream",
          "name": "stderr",
          "text": [
            "Training: 100%|██████████| 98/98 [00:18<00:00,  5.22it/s, loss=1.79, acc=50.4]\n"
          ]
        },
        {
          "output_type": "stream",
          "name": "stdout",
          "text": [
            "Train Loss: 1.7917, Train Acc: 50.40%, Test Loss: 1.6569, Test Acc: 54.78%, Time: 18.78s\n",
            "\n",
            "Epoch [100/100] - Learning Rate: 0.000003\n"
          ]
        },
        {
          "output_type": "stream",
          "name": "stderr",
          "text": [
            "Training: 100%|██████████| 98/98 [00:20<00:00,  4.90it/s, loss=1.8, acc=50.2]\n"
          ]
        },
        {
          "output_type": "stream",
          "name": "stdout",
          "text": [
            "Train Loss: 1.7951, Train Acc: 50.17%, Test Loss: 1.6561, Test Acc: 54.72%, Time: 20.02s\n",
            "Best model loaded with accuracy: 54.93%\n"
          ]
        },
        {
          "output_type": "display_data",
          "data": {
            "text/plain": [
              "<Figure size 1800x500 with 3 Axes>"
            ],
            "image/png": "[encoded data removed]"
          },
          "metadata": {}
        },
        {
          "output_type": "stream",
          "name": "stdout",
          "text": [
            "LAMB benchmark completed!\n"
          ]
        }
      ],
      "source": [
        "import torch\n",
        "import torch.nn as nn\n",
        "import torchvision.transforms as transforms\n",
        "import torch.nn.functional as F\n",
        "from torchvision.datasets import CIFAR10, CIFAR100\n",
        "import torchvision.models as models\n",
        "from torch.utils.data import DataLoader\n",
        "\n",
        "from tqdm import tqdm\n",
        "import matplotlib.pyplot as plt\n",
        "import time\n",
        "import pickle\n",
        "import numpy as np\n",
        "import random\n",
        "\n",
        "# ─── Import LAMB from torch-optimizer ───────────────────────────────────────\n",
        "from torch_optimizer import Lamb\n",
        "# ───────────────────────────────────────────────────────────────────────────────\n",
        "\n",
        "import math\n",
        "\n",
        "print(\"PyTorch version:\", torch.__version__)\n",
        "device = torch.device(\"cuda:0\" if torch.cuda.is_available() else \"cpu\")\n",
        "print(f\"Using device: {device}\")\n",
        "\n",
        "# Seeding for reproducibility\n",
        "seed = 2025\n",
        "torch.manual_seed(seed)\n",
        "torch.cuda.manual_seed(seed)\n",
        "np.random.seed(seed)\n",
        "random.seed(seed)\n",
        "\n",
        "# transforms\n",
        "train_transform = transforms.Compose(\n",
        "    [\n",
        "        transforms.RandomCrop(32, padding=4),\n",
        "        transforms.RandomHorizontalFlip(),\n",
        "        transforms.ToTensor(),\n",
        "        transforms.Normalize((0.4914, 0.4822, 0.4465),\n",
        "                             (0.2023, 0.1994, 0.2010)),\n",
        "    ]\n",
        ")\n",
        "\n",
        "test_transform = transforms.Compose(\n",
        "    [\n",
        "        transforms.ToTensor(),\n",
        "        transforms.Normalize((0.4914, 0.4822, 0.4465),\n",
        "                             (0.2023, 0.1994, 0.2010)),\n",
        "    ]\n",
        ")\n",
        "\n",
        "\n",
        "# load data\n",
        "def load_data(dataset_name=\"cifar100\", batch_size=128, num_workers=2):\n",
        "    \"\"\"Enhanced data loading with stronger augmentation for CIFAR-100\"\"\"\n",
        "\n",
        "    train_transform = transforms.Compose(\n",
        "        [\n",
        "            transforms.RandomCrop(32, padding=4),\n",
        "            transforms.RandomHorizontalFlip(),\n",
        "            transforms.ToTensor(),\n",
        "            transforms.Normalize((0.4914, 0.4822, 0.4465),\n",
        "                                 (0.2023, 0.1994, 0.2010)),\n",
        "        ]\n",
        "    )\n",
        "    test_transform = transforms.Compose(\n",
        "        [\n",
        "            transforms.ToTensor(),\n",
        "            transforms.Normalize((0.4914, 0.4822, 0.4465),\n",
        "                                 (0.2023, 0.1994, 0.2010)),\n",
        "        ]\n",
        "    )\n",
        "\n",
        "    if dataset_name.lower() == \"cifar100\":\n",
        "        train_dataset = CIFAR100(\n",
        "            root=\"./data\", train=True, download=True, transform=train_transform\n",
        "        )\n",
        "        test_dataset = CIFAR100(\n",
        "            root=\"./data\", train=False, download=True, transform=test_transform\n",
        "        )\n",
        "        num_classes = 100\n",
        "    else:\n",
        "        raise ValueError(f\"Dataset {dataset_name} not supported in enhanced version\")\n",
        "\n",
        "    train_loader = DataLoader(\n",
        "        train_dataset,\n",
        "        batch_size=batch_size,\n",
        "        shuffle=True,\n",
        "        num_workers=num_workers,\n",
        "    )\n",
        "    test_loader = DataLoader(\n",
        "        test_dataset,\n",
        "        batch_size=batch_size,\n",
        "        shuffle=False,\n",
        "        num_workers=num_workers,\n",
        "    )\n",
        "    return train_loader, test_loader, num_classes\n",
        "\n",
        "\n",
        "# model - LeNet5 from the paper [11]\n",
        "class LeNet5(nn.Module):\n",
        "    def __init__(self, num_classes=10):\n",
        "        super(LeNet5, self).__init__()\n",
        "        # Input: 3x32x32 (CIFAR has 3 color channels)\n",
        "        self.conv1 = nn.Conv2d(3, 6, kernel_size=5)  # Output: 6x28x28\n",
        "        self.pool1 = nn.MaxPool2d(kernel_size=2, stride=2)  # Output: 6x14x14\n",
        "        self.conv2 = nn.Conv2d(6, 16, kernel_size=5)  # Output: 16x10x10\n",
        "        self.pool2 = nn.MaxPool2d(kernel_size=2, stride=2)  # Output: 16x5x5\n",
        "\n",
        "        # fc layers\n",
        "        self.fc1 = nn.Linear(16 * 5 * 5, 120)\n",
        "        self.fc2 = nn.Linear(120, 84)\n",
        "        self.fc3 = nn.Linear(84, num_classes)\n",
        "\n",
        "    def forward(self, x):\n",
        "        x = self.pool1(F.relu(self.conv1(x)))\n",
        "        x = self.pool2(F.relu(self.conv2(x)))\n",
        "        x = x.view(-1, 16 * 5 * 5)  # flatten\n",
        "        x = F.relu(self.fc1(x))\n",
        "        x = F.relu(self.fc2(x))\n",
        "        x = self.fc3(x)\n",
        "        return x\n",
        "\n",
        "\n",
        "class ImprovedCNN(nn.Module):\n",
        "    def __init__(self, num_classes=100):\n",
        "        super(ImprovedCNN, self).__init__()\n",
        "        # First conv block\n",
        "        self.conv1 = nn.Conv2d(3, 64, kernel_size=5, padding=2)\n",
        "        self.bn1 = nn.BatchNorm2d(64)  # using BatchNorm for better training stability\n",
        "        self.pool1 = nn.MaxPool2d(kernel_size=2, stride=2)\n",
        "\n",
        "        # Second conv block\n",
        "        self.conv2 = nn.Conv2d(64, 64, kernel_size=5, padding=2)\n",
        "        self.bn2 = nn.BatchNorm2d(64)\n",
        "        self.pool2 = nn.MaxPool2d(kernel_size=2, stride=2)\n",
        "\n",
        "        # Fully connected layers\n",
        "        self.fc1 = nn.Linear(64 * 8 * 8, 384)\n",
        "        self.dropout1 = nn.Dropout(0.5)\n",
        "        self.fc2 = nn.Linear(384, 192)\n",
        "        self.dropout2 = nn.Dropout(0.5)\n",
        "        self.fc3 = nn.Linear(192, num_classes)\n",
        "\n",
        "    def forward(self, x):\n",
        "        # First conv block\n",
        "        x = self.pool1(F.relu(self.bn1(self.conv1(x))))\n",
        "        # Second conv block\n",
        "        x = self.pool2(F.relu(self.bn2(self.conv2(x))))\n",
        "        # Flatten and FC\n",
        "        x = x.view(-1, 64 * 8 * 8)\n",
        "        x = F.relu(self.fc1(x))\n",
        "        x = self.dropout1(x)\n",
        "        x = F.relu(self.fc2(x))\n",
        "        x = self.dropout2(x)\n",
        "        x = self.fc3(x)\n",
        "        return x\n",
        "\n",
        "\n",
        "def create_model(model_name, num_classes=100):\n",
        "    if model_name.lower() == \"improved_cnn\":\n",
        "        return ImprovedCNN(num_classes=num_classes)\n",
        "    elif model_name.lower() == \"lenet5\":\n",
        "        return LeNet5(num_classes=num_classes)\n",
        "    else:\n",
        "        raise ValueError(f\"Unknown model: {model_name}\")\n",
        "\n",
        "\n",
        "# train\n",
        "def train_epoch(model, train_loader, criterion, optimizer, device):\n",
        "    model.train()\n",
        "    running_loss = 0.0\n",
        "    correct = 0\n",
        "    total = 0\n",
        "\n",
        "    pbar = tqdm(train_loader, desc=\"Training\")\n",
        "    for inputs, labels in pbar:\n",
        "        inputs, labels = inputs.to(device), labels.to(device)\n",
        "\n",
        "        optimizer.zero_grad()\n",
        "        outputs = model(inputs)\n",
        "        loss = criterion(outputs, labels)\n",
        "        loss.backward()\n",
        "        optimizer.step()\n",
        "\n",
        "        running_loss += loss.item() * inputs.size(0)\n",
        "        _, predicted = outputs.max(1)\n",
        "        total += labels.size(0)\n",
        "        correct += predicted.eq(labels).sum().item()\n",
        "        pbar.set_postfix({\"loss\": running_loss / total,\n",
        "                          \"acc\": 100.0 * correct / total})\n",
        "\n",
        "    train_loss = running_loss / total\n",
        "    train_acc = 100.0 * correct / total\n",
        "    return train_loss, train_acc\n",
        "\n",
        "\n",
        "# eval\n",
        "def evaluate(model, test_loader, criterion, device):\n",
        "    model.eval()\n",
        "    running_loss = 0.0\n",
        "    correct = 0\n",
        "    total = 0\n",
        "\n",
        "    with torch.no_grad():\n",
        "        for inputs, labels in test_loader:\n",
        "            inputs, labels = inputs.to(device), labels.to(device)\n",
        "            outputs = model(inputs)\n",
        "            loss = criterion(outputs, labels)\n",
        "\n",
        "            running_loss += loss.item() * inputs.size(0)\n",
        "            _, predicted = outputs.max(1)\n",
        "            total += labels.size(0)\n",
        "            correct += predicted.eq(labels).sum().item()\n",
        "\n",
        "    test_loss = running_loss / total\n",
        "    test_acc = 100.0 * correct / total\n",
        "    return test_loss, test_acc\n",
        "\n",
        "\n",
        "# train config\n",
        "def train_centralized_model(\n",
        "    model_name=\"improved_cnn\",\n",
        "    dataset_name=\"cifar100\",\n",
        "    batch_size=512,\n",
        "    epochs=100,\n",
        "    lr=0.01,\n",
        "    momentum=0.9,\n",
        "    weight_decay=4e-4,\n",
        "    lr_scheduler=\"lamb\",\n",
        "    save_path=\"improved_cnn_model.pth\",\n",
        "):\n",
        "    # Load data\n",
        "    train_loader, test_loader, num_classes = load_data(\n",
        "        dataset_name=dataset_name, batch_size=batch_size\n",
        "    )\n",
        "\n",
        "    # Create model\n",
        "    model = create_model(model_name, num_classes=num_classes).to(device)\n",
        "\n",
        "    # Print total parameters\n",
        "    total_params = sum(p.numel() for p in model.parameters())\n",
        "    print(f\"Total parameters: {total_params:,}\")\n",
        "\n",
        "    # Loss\n",
        "    criterion = nn.CrossEntropyLoss()\n",
        "\n",
        "    # Linear‐scaling rule for LR\n",
        "    scaled_lr = lr * (batch_size / 512)\n",
        "\n",
        "    # Separate parameters into decay vs. no‐decay groups\n",
        "    decay_params = []\n",
        "    no_decay_params = []\n",
        "    for name, param in model.named_parameters():\n",
        "        if not param.requires_grad:\n",
        "            continue\n",
        "        if param.ndim == 1:\n",
        "            no_decay_params.append(param)\n",
        "        else:\n",
        "            decay_params.append(param)\n",
        "\n",
        "    # ─── Instantiate LAMB ─────────────────────────────────────────────────────────\n",
        "    #\n",
        "    # We set global weight_decay=0.0 because we're handling it per‐group.\n",
        "    #\n",
        "    optimizer = Lamb(\n",
        "        [\n",
        "            {\"params\": decay_params,    \"weight_decay\": weight_decay},\n",
        "            {\"params\": no_decay_params, \"weight_decay\": 0.0}\n",
        "        ],\n",
        "        lr=scaled_lr,\n",
        "        betas=(0.9, 0.999),\n",
        "        eps=1e-6,\n",
        "        weight_decay=0.0  # global default; per-group overrides actual decay\n",
        "    )\n",
        "    # ────────────────────────────────────────────────────────────────────────────────\n",
        "\n",
        "    # Learning‐rate scheduler: warmup + cosine, same as LARS code\n",
        "    if lr_scheduler == \"lamb\":\n",
        "        warmup_epochs = 10\n",
        "\n",
        "        def lr_lambda(epoch):\n",
        "            if epoch < warmup_epochs:\n",
        "                return float(epoch + 1) / float(warmup_epochs)\n",
        "            return 0.5 * (\n",
        "                1.0\n",
        "                + math.cos(\n",
        "                    math.pi * (epoch - warmup_epochs) / (epochs - warmup_epochs)\n",
        "                )\n",
        "            )\n",
        "\n",
        "        scheduler = torch.optim.lr_scheduler.LambdaLR(optimizer, lr_lambda)\n",
        "\n",
        "    elif lr_scheduler == \"step\":\n",
        "        scheduler = torch.optim.lr_scheduler.MultiStepLR(\n",
        "            optimizer,\n",
        "            milestones=[int(epochs * 0.5), int(epochs * 0.75)],\n",
        "            gamma=0.1\n",
        "        )\n",
        "    else:\n",
        "        raise ValueError(f\"Unknown scheduler: {lr_scheduler}\")\n",
        "\n",
        "    # Training history\n",
        "    history = {\n",
        "        \"train_loss\": [],\n",
        "        \"train_acc\": [],\n",
        "        \"test_loss\": [],\n",
        "        \"test_acc\": [],\n",
        "        \"lr\": [],\n",
        "    }\n",
        "\n",
        "    best_acc = 0.0\n",
        "\n",
        "    # Training loop\n",
        "    for epoch in range(epochs):\n",
        "        current_lr = optimizer.param_groups[0][\"lr\"]\n",
        "        print(f\"\\nEpoch [{epoch + 1}/{epochs}] - Learning Rate: {current_lr:.6f}\")\n",
        "\n",
        "        # Train for one epoch\n",
        "        start_time = time.time()\n",
        "        train_loss, train_acc = train_epoch(\n",
        "            model, train_loader, criterion, optimizer, device\n",
        "        )\n",
        "        train_time = time.time() - start_time\n",
        "\n",
        "        # Evaluate\n",
        "        test_loss, test_acc = evaluate(model, test_loader, criterion, device)\n",
        "        scheduler.step()\n",
        "\n",
        "        print(\n",
        "            f\"Train Loss: {train_loss:.4f}, Train Acc: {train_acc:.2f}%, \"\n",
        "            f\"Test Loss: {test_loss:.4f}, Test Acc: {test_acc:.2f}%, \"\n",
        "            f\"Time: {train_time:.2f}s\"\n",
        "        )\n",
        "\n",
        "        if test_acc > best_acc:\n",
        "            best_acc = test_acc\n",
        "            torch.save(\n",
        "                {\n",
        "                    \"epoch\": epoch,\n",
        "                    \"model_state_dict\": model.state_dict(),\n",
        "                    \"optimizer_state_dict\": optimizer.state_dict(),\n",
        "                    \"test_acc\": test_acc,\n",
        "                },\n",
        "                save_path,\n",
        "            )\n",
        "            print(f\"New best model saved with accuracy: {test_acc:.2f}%\")\n",
        "\n",
        "        history[\"train_loss\"].append(train_loss)\n",
        "        history[\"train_acc\"].append(train_acc)\n",
        "        history[\"test_loss\"].append(test_loss)\n",
        "        history[\"test_acc\"].append(test_acc)\n",
        "        history[\"lr\"].append(current_lr)\n",
        "\n",
        "    # Load best model\n",
        "    checkpoint = torch.load(save_path)\n",
        "    model.load_state_dict(checkpoint[\"model_state_dict\"])\n",
        "    print(f\"Best model loaded with accuracy: {checkpoint['test_acc']:.2f}%\")\n",
        "\n",
        "    return model, history\n",
        "\n",
        "\n",
        "# visualization of model performance\n",
        "def plot_training_history(history):\n",
        "    fig, (ax1, ax2, ax3) = plt.subplots(1, 3, figsize=(18, 5))\n",
        "\n",
        "    ax1.plot(history[\"train_loss\"], label=\"Train Loss\")\n",
        "    ax1.plot(history[\"test_loss\"], label=\"Test Loss\")\n",
        "    ax1.set_xlabel(\"Epoch\")\n",
        "    ax1.set_ylabel(\"Loss\")\n",
        "    ax1.legend()\n",
        "    ax1.set_title(\"Loss Curves\")\n",
        "    ax1.grid(True)\n",
        "\n",
        "    ax2.plot(history[\"train_acc\"], label=\"Train Accuracy\")\n",
        "    ax2.plot(history[\"test_acc\"], label=\"Test Accuracy\")\n",
        "    ax2.set_xlabel(\"Epoch\")\n",
        "    ax2.set_ylabel(\"Accuracy (%)\")\n",
        "    ax2.legend()\n",
        "    ax2.set_title(\"Accuracy Curves\")\n",
        "    ax2.grid(True)\n",
        "\n",
        "    ax3.plot(history[\"lr\"])\n",
        "    ax3.set_xlabel(\"Epoch\")\n",
        "    ax3.set_ylabel(\"Learning Rate\")\n",
        "    ax3.set_title(\"Learning Rate Schedule\")\n",
        "    ax3.set_yscale(\"log\")\n",
        "    ax3.grid(True)\n",
        "\n",
        "    plt.tight_layout()\n",
        "    plt.show()\n",
        "\n",
        "\n",
        "# run benchmark\n",
        "def run_centralized_benchmark():\n",
        "    config = {\n",
        "        \"model_name\": \"improved_cnn\",\n",
        "        \"dataset_name\": \"cifar100\",\n",
        "        \"batch_size\": 512,\n",
        "        \"epochs\": 100,\n",
        "        \"lr\": 0.01,\n",
        "        \"momentum\": 0.9,\n",
        "        \"weight_decay\": 4e-4,\n",
        "        \"lr_scheduler\": \"lamb\",\n",
        "        \"save_path\": \"improved_cnn_model_lamb.pth\",\n",
        "    }\n",
        "\n",
        "    print(\n",
        "        f\"Running LAMB benchmark with {config['model_name']} on {config['dataset_name']}...\"\n",
        "    )\n",
        "\n",
        "    model, history = train_centralized_model(**config)\n",
        "    plot_training_history(history)\n",
        "\n",
        "    with open(\"history_lamb.pkl\", \"wb\") as f:\n",
        "        pickle.dump(history, f)\n",
        "\n",
        "    print(\"LAMB benchmark completed!\")\n",
        "    return model, history\n",
        "\n",
        "\n",
        "def main():\n",
        "    model, history = run_centralized_benchmark()\n",
        "    return model, history\n",
        "\n",
        "\n",
        "if __name__ == \"__main__\":\n",
        "    main()\n"
      ]
    }
  ]
}