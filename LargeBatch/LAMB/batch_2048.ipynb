{
  "nbformat": 4,
  "nbformat_minor": 0,
  "metadata": {
    "colab": {
      "provenance": [],
      "gpuType": "T4",
      "include_colab_link": true
    },
    "kernelspec": {
      "name": "python3",
      "display_name": "Python 3"
    },
    "language_info": {
      "name": "python"
    },
    "accelerator": "GPU"
  },
  "cells": [
    {
      "cell_type": "markdown",
      "metadata": {
        "id": "view-in-github",
        "colab_type": "text"
      },
      "source": [
        "<a href=\"https://colab.research.google.com/github/Zurehma/AML_Project/blob/main/LargeBatch/LAMB/batch_2048.ipynb\" target=\"_parent\"><img src=\"https://colab.research.google.com/assets/colab-badge.svg\" alt=\"Open In Colab\"/></a>"
      ]
    },
    {
      "cell_type": "code",
      "source": [
        "!pip install torch-optimizer"
      ],
      "metadata": {
        "id": "NXyk6PmVw6X8"
      },
      "execution_count": null,
      "outputs": []
    },
    {
      "cell_type": "code",
      "execution_count": null,
      "metadata": {
        "id": "HqQ4KqXLwvW_",
        "outputId": "a2602dae-4a26-45bb-f684-cdef3efca9eb",
        "colab": {
          "base_uri": "https://localhost:8080/",
          "height": 1000
        }
      },
      "outputs": [
        {
          "output_type": "stream",
          "name": "stdout",
          "text": [
            "PyTorch version: 2.6.0+cu124\n",
            "Using device: cuda:0\n",
            "Running LAMB benchmark with improved_cnn on cifar100...\n",
            "Total parameters: 1,774,052\n",
            "\n",
            "Epoch [1/100] - Learning Rate: 0.002000\n"
          ]
        },
        {
          "output_type": "stream",
          "name": "stderr",
          "text": [
            "Training: 100%|██████████| 25/25 [00:20<00:00,  1.19it/s, loss=4.6, acc=1.46]\n"
          ]
        },
        {
          "output_type": "stream",
          "name": "stdout",
          "text": [
            "Train Loss: 4.5958, Train Acc: 1.46%, Test Loss: 4.5513, Test Acc: 4.03%, Time: 20.96s\n",
            "New best model saved with accuracy: 4.03%\n",
            "\n",
            "Epoch [2/100] - Learning Rate: 0.004000\n"
          ]
        },
        {
          "output_type": "stream",
          "name": "stderr",
          "text": [
            "Training: 100%|██████████| 25/25 [00:18<00:00,  1.38it/s, loss=4.46, acc=3.22]\n"
          ]
        },
        {
          "output_type": "stream",
          "name": "stdout",
          "text": [
            "Train Loss: 4.4647, Train Acc: 3.22%, Test Loss: 4.2466, Test Acc: 5.88%, Time: 18.09s\n",
            "New best model saved with accuracy: 5.88%\n",
            "\n",
            "Epoch [3/100] - Learning Rate: 0.006000\n"
          ]
        },
        {
          "output_type": "stream",
          "name": "stderr",
          "text": [
            "Training: 100%|██████████| 25/25 [00:18<00:00,  1.34it/s, loss=4.24, acc=5.5]\n"
          ]
        },
        {
          "output_type": "stream",
          "name": "stdout",
          "text": [
            "Train Loss: 4.2410, Train Acc: 5.50%, Test Loss: 3.9345, Test Acc: 10.91%, Time: 18.61s\n",
            "New best model saved with accuracy: 10.91%\n",
            "\n",
            "Epoch [4/100] - Learning Rate: 0.008000\n"
          ]
        },
        {
          "output_type": "stream",
          "name": "stderr",
          "text": [
            "Training: 100%|██████████| 25/25 [00:18<00:00,  1.39it/s, loss=3.99, acc=8.19]\n"
          ]
        },
        {
          "output_type": "stream",
          "name": "stdout",
          "text": [
            "Train Loss: 3.9881, Train Acc: 8.19%, Test Loss: 3.6611, Test Acc: 15.11%, Time: 18.05s\n",
            "New best model saved with accuracy: 15.11%\n",
            "\n",
            "Epoch [5/100] - Learning Rate: 0.010000\n"
          ]
        },
        {
          "output_type": "stream",
          "name": "stderr",
          "text": [
            "Training: 100%|██████████| 25/25 [00:19<00:00,  1.30it/s, loss=3.78, acc=11.1]\n"
          ]
        },
        {
          "output_type": "stream",
          "name": "stdout",
          "text": [
            "Train Loss: 3.7829, Train Acc: 11.12%, Test Loss: 3.4223, Test Acc: 18.44%, Time: 19.18s\n",
            "New best model saved with accuracy: 18.44%\n",
            "\n",
            "Epoch [6/100] - Learning Rate: 0.012000\n"
          ]
        },
        {
          "output_type": "stream",
          "name": "stderr",
          "text": [
            "Training: 100%|██████████| 25/25 [00:17<00:00,  1.39it/s, loss=3.61, acc=13.8]\n"
          ]
        },
        {
          "output_type": "stream",
          "name": "stdout",
          "text": [
            "Train Loss: 3.6120, Train Acc: 13.85%, Test Loss: 3.2844, Test Acc: 19.98%, Time: 17.97s\n",
            "New best model saved with accuracy: 19.98%\n",
            "\n",
            "Epoch [7/100] - Learning Rate: 0.014000\n"
          ]
        },
        {
          "output_type": "stream",
          "name": "stderr",
          "text": [
            "Training: 100%|██████████| 25/25 [00:18<00:00,  1.38it/s, loss=3.48, acc=16]\n"
          ]
        },
        {
          "output_type": "stream",
          "name": "stdout",
          "text": [
            "Train Loss: 3.4808, Train Acc: 16.01%, Test Loss: 3.0819, Test Acc: 24.16%, Time: 18.13s\n",
            "New best model saved with accuracy: 24.16%\n",
            "\n",
            "Epoch [8/100] - Learning Rate: 0.016000\n"
          ]
        },
        {
          "output_type": "stream",
          "name": "stderr",
          "text": [
            "Training: 100%|██████████| 25/25 [00:18<00:00,  1.33it/s, loss=3.38, acc=17.7]\n"
          ]
        },
        {
          "output_type": "stream",
          "name": "stdout",
          "text": [
            "Train Loss: 3.3842, Train Acc: 17.69%, Test Loss: 3.0229, Test Acc: 24.62%, Time: 18.87s\n",
            "New best model saved with accuracy: 24.62%\n",
            "\n",
            "Epoch [9/100] - Learning Rate: 0.018000\n"
          ]
        },
        {
          "output_type": "stream",
          "name": "stderr",
          "text": [
            "Training: 100%|██████████| 25/25 [00:18<00:00,  1.38it/s, loss=3.33, acc=18.6]\n"
          ]
        },
        {
          "output_type": "stream",
          "name": "stdout",
          "text": [
            "Train Loss: 3.3339, Train Acc: 18.61%, Test Loss: 3.0378, Test Acc: 24.77%, Time: 18.17s\n",
            "New best model saved with accuracy: 24.77%\n",
            "\n",
            "Epoch [10/100] - Learning Rate: 0.020000\n"
          ]
        },
        {
          "output_type": "stream",
          "name": "stderr",
          "text": [
            "Training: 100%|██████████| 25/25 [00:18<00:00,  1.39it/s, loss=3.29, acc=19.4]\n"
          ]
        },
        {
          "output_type": "stream",
          "name": "stdout",
          "text": [
            "Train Loss: 3.2884, Train Acc: 19.43%, Test Loss: 2.9807, Test Acc: 25.33%, Time: 18.04s\n",
            "New best model saved with accuracy: 25.33%\n",
            "\n",
            "Epoch [11/100] - Learning Rate: 0.020000\n"
          ]
        },
        {
          "output_type": "stream",
          "name": "stderr",
          "text": [
            "Training: 100%|██████████| 25/25 [00:19<00:00,  1.29it/s, loss=3.25, acc=20.1]\n"
          ]
        },
        {
          "output_type": "stream",
          "name": "stdout",
          "text": [
            "Train Loss: 3.2460, Train Acc: 20.14%, Test Loss: 3.0329, Test Acc: 25.96%, Time: 19.32s\n",
            "New best model saved with accuracy: 25.96%\n",
            "\n",
            "Epoch [12/100] - Learning Rate: 0.019994\n"
          ]
        },
        {
          "output_type": "stream",
          "name": "stderr",
          "text": [
            "Training: 100%|██████████| 25/25 [00:18<00:00,  1.39it/s, loss=3.19, acc=21]\n"
          ]
        },
        {
          "output_type": "stream",
          "name": "stdout",
          "text": [
            "Train Loss: 3.1919, Train Acc: 21.03%, Test Loss: 2.9476, Test Acc: 26.77%, Time: 18.06s\n",
            "New best model saved with accuracy: 26.77%\n",
            "\n",
            "Epoch [13/100] - Learning Rate: 0.019976\n"
          ]
        },
        {
          "output_type": "stream",
          "name": "stderr",
          "text": [
            "Training: 100%|██████████| 25/25 [00:18<00:00,  1.32it/s, loss=3.13, acc=22.3]\n"
          ]
        },
        {
          "output_type": "stream",
          "name": "stdout",
          "text": [
            "Train Loss: 3.1272, Train Acc: 22.29%, Test Loss: 2.7934, Test Acc: 29.06%, Time: 18.93s\n",
            "New best model saved with accuracy: 29.06%\n",
            "\n",
            "Epoch [14/100] - Learning Rate: 0.019945\n"
          ]
        },
        {
          "output_type": "stream",
          "name": "stderr",
          "text": [
            "Training: 100%|██████████| 25/25 [00:18<00:00,  1.36it/s, loss=3.1, acc=22.7]\n"
          ]
        },
        {
          "output_type": "stream",
          "name": "stdout",
          "text": [
            "Train Loss: 3.0995, Train Acc: 22.74%, Test Loss: 2.8004, Test Acc: 29.15%, Time: 18.38s\n",
            "New best model saved with accuracy: 29.15%\n",
            "\n",
            "Epoch [15/100] - Learning Rate: 0.019903\n"
          ]
        },
        {
          "output_type": "stream",
          "name": "stderr",
          "text": [
            "Training: 100%|██████████| 25/25 [00:17<00:00,  1.40it/s, loss=3.02, acc=24.4]\n"
          ]
        },
        {
          "output_type": "stream",
          "name": "stdout",
          "text": [
            "Train Loss: 3.0229, Train Acc: 24.43%, Test Loss: 2.6655, Test Acc: 31.65%, Time: 17.90s\n",
            "New best model saved with accuracy: 31.65%\n",
            "\n",
            "Epoch [16/100] - Learning Rate: 0.019848\n"
          ]
        },
        {
          "output_type": "stream",
          "name": "stderr",
          "text": [
            "Training: 100%|██████████| 25/25 [00:19<00:00,  1.31it/s, loss=2.95, acc=25.8]\n"
          ]
        },
        {
          "output_type": "stream",
          "name": "stdout",
          "text": [
            "Train Loss: 2.9455, Train Acc: 25.84%, Test Loss: 2.5692, Test Acc: 33.60%, Time: 19.11s\n",
            "New best model saved with accuracy: 33.60%\n",
            "\n",
            "Epoch [17/100] - Learning Rate: 0.019781\n"
          ]
        },
        {
          "output_type": "stream",
          "name": "stderr",
          "text": [
            "Training: 100%|██████████| 25/25 [00:18<00:00,  1.36it/s, loss=2.91, acc=26.4]\n"
          ]
        },
        {
          "output_type": "stream",
          "name": "stdout",
          "text": [
            "Train Loss: 2.9083, Train Acc: 26.41%, Test Loss: 2.5953, Test Acc: 33.19%, Time: 18.38s\n",
            "\n",
            "Epoch [18/100] - Learning Rate: 0.019703\n"
          ]
        },
        {
          "output_type": "stream",
          "name": "stderr",
          "text": [
            "Training: 100%|██████████| 25/25 [00:18<00:00,  1.35it/s, loss=2.84, acc=27.9]\n"
          ]
        },
        {
          "output_type": "stream",
          "name": "stdout",
          "text": [
            "Train Loss: 2.8377, Train Acc: 27.91%, Test Loss: 2.6440, Test Acc: 32.61%, Time: 18.52s\n",
            "\n",
            "Epoch [19/100] - Learning Rate: 0.019613\n"
          ]
        },
        {
          "output_type": "stream",
          "name": "stderr",
          "text": [
            "Training: 100%|██████████| 25/25 [00:19<00:00,  1.29it/s, loss=2.81, acc=28.3]\n"
          ]
        },
        {
          "output_type": "stream",
          "name": "stdout",
          "text": [
            "Train Loss: 2.8112, Train Acc: 28.30%, Test Loss: 2.4815, Test Acc: 35.35%, Time: 19.34s\n",
            "New best model saved with accuracy: 35.35%\n",
            "\n",
            "Epoch [20/100] - Learning Rate: 0.019511\n"
          ]
        },
        {
          "output_type": "stream",
          "name": "stderr",
          "text": [
            "Training: 100%|██████████| 25/25 [00:17<00:00,  1.40it/s, loss=2.77, acc=29.4]\n"
          ]
        },
        {
          "output_type": "stream",
          "name": "stdout",
          "text": [
            "Train Loss: 2.7653, Train Acc: 29.39%, Test Loss: 2.4513, Test Acc: 36.50%, Time: 17.91s\n",
            "New best model saved with accuracy: 36.50%\n",
            "\n",
            "Epoch [21/100] - Learning Rate: 0.019397\n"
          ]
        },
        {
          "output_type": "stream",
          "name": "stderr",
          "text": [
            "Training: 100%|██████████| 25/25 [00:18<00:00,  1.34it/s, loss=2.74, acc=30]\n"
          ]
        },
        {
          "output_type": "stream",
          "name": "stdout",
          "text": [
            "Train Loss: 2.7415, Train Acc: 29.97%, Test Loss: 2.4328, Test Acc: 37.12%, Time: 18.66s\n",
            "New best model saved with accuracy: 37.12%\n",
            "\n",
            "Epoch [22/100] - Learning Rate: 0.019272\n"
          ]
        },
        {
          "output_type": "stream",
          "name": "stderr",
          "text": [
            "Training: 100%|██████████| 25/25 [00:18<00:00,  1.35it/s, loss=2.71, acc=30.3]\n"
          ]
        },
        {
          "output_type": "stream",
          "name": "stdout",
          "text": [
            "Train Loss: 2.7115, Train Acc: 30.30%, Test Loss: 2.3286, Test Acc: 38.84%, Time: 18.49s\n",
            "New best model saved with accuracy: 38.84%\n",
            "\n",
            "Epoch [23/100] - Learning Rate: 0.019135\n"
          ]
        },
        {
          "output_type": "stream",
          "name": "stderr",
          "text": [
            "Training: 100%|██████████| 25/25 [00:18<00:00,  1.38it/s, loss=2.67, acc=31.1]\n"
          ]
        },
        {
          "output_type": "stream",
          "name": "stdout",
          "text": [
            "Train Loss: 2.6668, Train Acc: 31.13%, Test Loss: 2.3532, Test Acc: 38.53%, Time: 18.10s\n",
            "\n",
            "Epoch [24/100] - Learning Rate: 0.018988\n"
          ]
        },
        {
          "output_type": "stream",
          "name": "stderr",
          "text": [
            "Training: 100%|██████████| 25/25 [00:18<00:00,  1.32it/s, loss=2.65, acc=31.7]\n"
          ]
        },
        {
          "output_type": "stream",
          "name": "stdout",
          "text": [
            "Train Loss: 2.6479, Train Acc: 31.68%, Test Loss: 2.2822, Test Acc: 39.63%, Time: 18.91s\n",
            "New best model saved with accuracy: 39.63%\n",
            "\n",
            "Epoch [25/100] - Learning Rate: 0.018829\n"
          ]
        },
        {
          "output_type": "stream",
          "name": "stderr",
          "text": [
            "Training: 100%|██████████| 25/25 [00:18<00:00,  1.38it/s, loss=2.62, acc=32.1]\n"
          ]
        },
        {
          "output_type": "stream",
          "name": "stdout",
          "text": [
            "Train Loss: 2.6159, Train Acc: 32.06%, Test Loss: 2.3660, Test Acc: 38.39%, Time: 18.18s\n",
            "\n",
            "Epoch [26/100] - Learning Rate: 0.018660\n"
          ]
        },
        {
          "output_type": "stream",
          "name": "stderr",
          "text": [
            "Training: 100%|██████████| 25/25 [00:17<00:00,  1.39it/s, loss=2.6, acc=32.6]\n"
          ]
        },
        {
          "output_type": "stream",
          "name": "stdout",
          "text": [
            "Train Loss: 2.6014, Train Acc: 32.56%, Test Loss: 2.3153, Test Acc: 38.67%, Time: 17.95s\n",
            "\n",
            "Epoch [27/100] - Learning Rate: 0.018480\n"
          ]
        },
        {
          "output_type": "stream",
          "name": "stderr",
          "text": [
            "Training: 100%|██████████| 25/25 [00:19<00:00,  1.32it/s, loss=2.59, acc=32.9]\n"
          ]
        },
        {
          "output_type": "stream",
          "name": "stdout",
          "text": [
            "Train Loss: 2.5914, Train Acc: 32.85%, Test Loss: 2.2803, Test Acc: 40.46%, Time: 19.02s\n",
            "New best model saved with accuracy: 40.46%\n",
            "\n",
            "Epoch [28/100] - Learning Rate: 0.018290\n"
          ]
        },
        {
          "output_type": "stream",
          "name": "stderr",
          "text": [
            "Training: 100%|██████████| 25/25 [00:18<00:00,  1.38it/s, loss=2.57, acc=33.2]\n"
          ]
        },
        {
          "output_type": "stream",
          "name": "stdout",
          "text": [
            "Train Loss: 2.5732, Train Acc: 33.22%, Test Loss: 2.2714, Test Acc: 40.56%, Time: 18.17s\n",
            "New best model saved with accuracy: 40.56%\n",
            "\n",
            "Epoch [29/100] - Learning Rate: 0.018090\n"
          ]
        },
        {
          "output_type": "stream",
          "name": "stderr",
          "text": [
            "Training: 100%|██████████| 25/25 [00:18<00:00,  1.36it/s, loss=2.55, acc=33.8]\n"
          ]
        },
        {
          "output_type": "stream",
          "name": "stdout",
          "text": [
            "Train Loss: 2.5521, Train Acc: 33.78%, Test Loss: 2.1873, Test Acc: 42.21%, Time: 18.32s\n",
            "New best model saved with accuracy: 42.21%\n",
            "\n",
            "Epoch [30/100] - Learning Rate: 0.017880\n"
          ]
        },
        {
          "output_type": "stream",
          "name": "stderr",
          "text": [
            "Training: 100%|██████████| 25/25 [00:19<00:00,  1.31it/s, loss=2.54, acc=34.2]\n"
          ]
        },
        {
          "output_type": "stream",
          "name": "stdout",
          "text": [
            "Train Loss: 2.5359, Train Acc: 34.22%, Test Loss: 2.3055, Test Acc: 39.87%, Time: 19.12s\n",
            "\n",
            "Epoch [31/100] - Learning Rate: 0.017660\n"
          ]
        },
        {
          "output_type": "stream",
          "name": "stderr",
          "text": [
            "Training: 100%|██████████| 25/25 [00:18<00:00,  1.37it/s, loss=2.51, acc=34.6]\n"
          ]
        },
        {
          "output_type": "stream",
          "name": "stdout",
          "text": [
            "Train Loss: 2.5071, Train Acc: 34.60%, Test Loss: 2.1348, Test Acc: 43.37%, Time: 18.21s\n",
            "New best model saved with accuracy: 43.37%\n",
            "\n",
            "Epoch [32/100] - Learning Rate: 0.017431\n"
          ]
        },
        {
          "output_type": "stream",
          "name": "stderr",
          "text": [
            "Training: 100%|██████████| 25/25 [00:18<00:00,  1.32it/s, loss=2.48, acc=35.3]\n"
          ]
        },
        {
          "output_type": "stream",
          "name": "stdout",
          "text": [
            "Train Loss: 2.4788, Train Acc: 35.31%, Test Loss: 2.2250, Test Acc: 41.65%, Time: 19.00s\n",
            "\n",
            "Epoch [33/100] - Learning Rate: 0.017193\n"
          ]
        },
        {
          "output_type": "stream",
          "name": "stderr",
          "text": [
            "Training: 100%|██████████| 25/25 [00:18<00:00,  1.36it/s, loss=2.47, acc=35.4]\n"
          ]
        },
        {
          "output_type": "stream",
          "name": "stdout",
          "text": [
            "Train Loss: 2.4729, Train Acc: 35.37%, Test Loss: 2.1323, Test Acc: 43.51%, Time: 18.46s\n",
            "New best model saved with accuracy: 43.51%\n",
            "\n",
            "Epoch [34/100] - Learning Rate: 0.016947\n"
          ]
        },
        {
          "output_type": "stream",
          "name": "stderr",
          "text": [
            "Training: 100%|██████████| 25/25 [00:18<00:00,  1.37it/s, loss=2.45, acc=36]\n"
          ]
        },
        {
          "output_type": "stream",
          "name": "stdout",
          "text": [
            "Train Loss: 2.4458, Train Acc: 35.96%, Test Loss: 2.1674, Test Acc: 43.12%, Time: 18.20s\n",
            "\n",
            "Epoch [35/100] - Learning Rate: 0.016691\n"
          ]
        },
        {
          "output_type": "stream",
          "name": "stderr",
          "text": [
            "Training: 100%|██████████| 25/25 [00:18<00:00,  1.32it/s, loss=2.43, acc=36.3]\n"
          ]
        },
        {
          "output_type": "stream",
          "name": "stdout",
          "text": [
            "Train Loss: 2.4316, Train Acc: 36.33%, Test Loss: 2.2746, Test Acc: 40.51%, Time: 18.96s\n",
            "\n",
            "Epoch [36/100] - Learning Rate: 0.016428\n"
          ]
        },
        {
          "output_type": "stream",
          "name": "stderr",
          "text": [
            "Training: 100%|██████████| 25/25 [00:17<00:00,  1.40it/s, loss=2.43, acc=36.4]\n"
          ]
        },
        {
          "output_type": "stream",
          "name": "stdout",
          "text": [
            "Train Loss: 2.4269, Train Acc: 36.39%, Test Loss: 2.1909, Test Acc: 42.22%, Time: 17.83s\n",
            "\n",
            "Epoch [37/100] - Learning Rate: 0.016157\n"
          ]
        },
        {
          "output_type": "stream",
          "name": "stderr",
          "text": [
            "Training: 100%|██████████| 25/25 [00:18<00:00,  1.37it/s, loss=2.41, acc=36.7]\n"
          ]
        },
        {
          "output_type": "stream",
          "name": "stdout",
          "text": [
            "Train Loss: 2.4064, Train Acc: 36.74%, Test Loss: 2.2160, Test Acc: 41.94%, Time: 18.21s\n",
            "\n",
            "Epoch [38/100] - Learning Rate: 0.015878\n"
          ]
        },
        {
          "output_type": "stream",
          "name": "stderr",
          "text": [
            "Training: 100%|██████████| 25/25 [00:18<00:00,  1.36it/s, loss=2.39, acc=37.3]\n"
          ]
        },
        {
          "output_type": "stream",
          "name": "stdout",
          "text": [
            "Train Loss: 2.3907, Train Acc: 37.30%, Test Loss: 2.0885, Test Acc: 44.75%, Time: 18.42s\n",
            "New best model saved with accuracy: 44.75%\n",
            "\n",
            "Epoch [39/100] - Learning Rate: 0.015592\n"
          ]
        },
        {
          "output_type": "stream",
          "name": "stderr",
          "text": [
            "Training: 100%|██████████| 25/25 [00:17<00:00,  1.39it/s, loss=2.36, acc=37.8]\n"
          ]
        },
        {
          "output_type": "stream",
          "name": "stdout",
          "text": [
            "Train Loss: 2.3619, Train Acc: 37.80%, Test Loss: 2.0812, Test Acc: 44.07%, Time: 17.97s\n",
            "\n",
            "Epoch [40/100] - Learning Rate: 0.015299\n"
          ]
        },
        {
          "output_type": "stream",
          "name": "stderr",
          "text": [
            "Training: 100%|██████████| 25/25 [00:18<00:00,  1.32it/s, loss=2.36, acc=38]\n"
          ]
        },
        {
          "output_type": "stream",
          "name": "stdout",
          "text": [
            "Train Loss: 2.3579, Train Acc: 37.97%, Test Loss: 2.1449, Test Acc: 43.33%, Time: 18.99s\n",
            "\n",
            "Epoch [41/100] - Learning Rate: 0.015000\n"
          ]
        },
        {
          "output_type": "stream",
          "name": "stderr",
          "text": [
            "Training: 100%|██████████| 25/25 [00:17<00:00,  1.39it/s, loss=2.35, acc=38.2]\n"
          ]
        },
        {
          "output_type": "stream",
          "name": "stdout",
          "text": [
            "Train Loss: 2.3469, Train Acc: 38.24%, Test Loss: 2.0674, Test Acc: 45.04%, Time: 18.00s\n",
            "New best model saved with accuracy: 45.04%\n",
            "\n",
            "Epoch [42/100] - Learning Rate: 0.014695\n"
          ]
        },
        {
          "output_type": "stream",
          "name": "stderr",
          "text": [
            "Training: 100%|██████████| 25/25 [00:17<00:00,  1.40it/s, loss=2.33, acc=38.5]\n"
          ]
        },
        {
          "output_type": "stream",
          "name": "stdout",
          "text": [
            "Train Loss: 2.3332, Train Acc: 38.50%, Test Loss: 2.0069, Test Acc: 46.13%, Time: 17.93s\n",
            "New best model saved with accuracy: 46.13%\n",
            "\n",
            "Epoch [43/100] - Learning Rate: 0.014384\n"
          ]
        },
        {
          "output_type": "stream",
          "name": "stderr",
          "text": [
            "Training: 100%|██████████| 25/25 [00:18<00:00,  1.33it/s, loss=2.32, acc=38.6]\n"
          ]
        },
        {
          "output_type": "stream",
          "name": "stdout",
          "text": [
            "Train Loss: 2.3244, Train Acc: 38.59%, Test Loss: 2.0406, Test Acc: 45.53%, Time: 18.87s\n",
            "\n",
            "Epoch [44/100] - Learning Rate: 0.014067\n"
          ]
        },
        {
          "output_type": "stream",
          "name": "stderr",
          "text": [
            "Training: 100%|██████████| 25/25 [00:17<00:00,  1.39it/s, loss=2.3, acc=39.1]\n"
          ]
        },
        {
          "output_type": "stream",
          "name": "stdout",
          "text": [
            "Train Loss: 2.3004, Train Acc: 39.15%, Test Loss: 1.9661, Test Acc: 47.13%, Time: 17.97s\n",
            "New best model saved with accuracy: 47.13%\n",
            "\n",
            "Epoch [45/100] - Learning Rate: 0.013746\n"
          ]
        },
        {
          "output_type": "stream",
          "name": "stderr",
          "text": [
            "Training: 100%|██████████| 25/25 [00:19<00:00,  1.32it/s, loss=2.29, acc=39.5]\n"
          ]
        },
        {
          "output_type": "stream",
          "name": "stdout",
          "text": [
            "Train Loss: 2.2875, Train Acc: 39.46%, Test Loss: 1.9655, Test Acc: 47.21%, Time: 19.01s\n",
            "New best model saved with accuracy: 47.21%\n",
            "\n",
            "Epoch [46/100] - Learning Rate: 0.013420\n"
          ]
        },
        {
          "output_type": "stream",
          "name": "stderr",
          "text": [
            "Training: 100%|██████████| 25/25 [00:18<00:00,  1.38it/s, loss=2.28, acc=39.7]\n"
          ]
        },
        {
          "output_type": "stream",
          "name": "stdout",
          "text": [
            "Train Loss: 2.2799, Train Acc: 39.66%, Test Loss: 1.9736, Test Acc: 46.83%, Time: 18.19s\n",
            "\n",
            "Epoch [47/100] - Learning Rate: 0.013090\n"
          ]
        },
        {
          "output_type": "stream",
          "name": "stderr",
          "text": [
            "Training: 100%|██████████| 25/25 [00:18<00:00,  1.38it/s, loss=2.25, acc=40.1]\n"
          ]
        },
        {
          "output_type": "stream",
          "name": "stdout",
          "text": [
            "Train Loss: 2.2470, Train Acc: 40.11%, Test Loss: 2.0317, Test Acc: 45.45%, Time: 18.06s\n",
            "\n",
            "Epoch [48/100] - Learning Rate: 0.012756\n"
          ]
        },
        {
          "output_type": "stream",
          "name": "stderr",
          "text": [
            "Training: 100%|██████████| 25/25 [00:18<00:00,  1.33it/s, loss=2.24, acc=40.5]\n"
          ]
        },
        {
          "output_type": "stream",
          "name": "stdout",
          "text": [
            "Train Loss: 2.2422, Train Acc: 40.47%, Test Loss: 2.0410, Test Acc: 45.75%, Time: 18.83s\n",
            "\n",
            "Epoch [49/100] - Learning Rate: 0.012419\n"
          ]
        },
        {
          "output_type": "stream",
          "name": "stderr",
          "text": [
            "Training: 100%|██████████| 25/25 [00:17<00:00,  1.41it/s, loss=2.23, acc=40.6]\n"
          ]
        },
        {
          "output_type": "stream",
          "name": "stdout",
          "text": [
            "Train Loss: 2.2331, Train Acc: 40.58%, Test Loss: 2.0222, Test Acc: 46.11%, Time: 17.71s\n",
            "\n",
            "Epoch [50/100] - Learning Rate: 0.012079\n"
          ]
        },
        {
          "output_type": "stream",
          "name": "stderr",
          "text": [
            "Training: 100%|██████████| 25/25 [00:18<00:00,  1.34it/s, loss=2.22, acc=40.8]\n"
          ]
        },
        {
          "output_type": "stream",
          "name": "stdout",
          "text": [
            "Train Loss: 2.2234, Train Acc: 40.80%, Test Loss: 1.9420, Test Acc: 47.93%, Time: 18.60s\n",
            "New best model saved with accuracy: 47.93%\n",
            "\n",
            "Epoch [51/100] - Learning Rate: 0.011736\n"
          ]
        },
        {
          "output_type": "stream",
          "name": "stderr",
          "text": [
            "Training: 100%|██████████| 25/25 [00:18<00:00,  1.39it/s, loss=2.2, acc=41.1]\n"
          ]
        },
        {
          "output_type": "stream",
          "name": "stdout",
          "text": [
            "Train Loss: 2.2003, Train Acc: 41.11%, Test Loss: 2.0052, Test Acc: 46.60%, Time: 18.01s\n",
            "\n",
            "Epoch [52/100] - Learning Rate: 0.011392\n"
          ]
        },
        {
          "output_type": "stream",
          "name": "stderr",
          "text": [
            "Training: 100%|██████████| 25/25 [00:18<00:00,  1.38it/s, loss=2.2, acc=41.3]\n"
          ]
        },
        {
          "output_type": "stream",
          "name": "stdout",
          "text": [
            "Train Loss: 2.1977, Train Acc: 41.28%, Test Loss: 2.0146, Test Acc: 46.38%, Time: 18.10s\n",
            "\n",
            "Epoch [53/100] - Learning Rate: 0.011045\n"
          ]
        },
        {
          "output_type": "stream",
          "name": "stderr",
          "text": [
            "Training: 100%|██████████| 25/25 [00:18<00:00,  1.32it/s, loss=2.19, acc=41.3]\n"
          ]
        },
        {
          "output_type": "stream",
          "name": "stdout",
          "text": [
            "Train Loss: 2.1882, Train Acc: 41.31%, Test Loss: 2.3750, Test Acc: 39.26%, Time: 18.98s\n",
            "\n",
            "Epoch [54/100] - Learning Rate: 0.010698\n"
          ]
        },
        {
          "output_type": "stream",
          "name": "stderr",
          "text": [
            "Training: 100%|██████████| 25/25 [00:17<00:00,  1.40it/s, loss=2.18, acc=41.7]\n"
          ]
        },
        {
          "output_type": "stream",
          "name": "stdout",
          "text": [
            "Train Loss: 2.1785, Train Acc: 41.70%, Test Loss: 1.9634, Test Acc: 47.89%, Time: 17.83s\n",
            "\n",
            "Epoch [55/100] - Learning Rate: 0.010349\n"
          ]
        },
        {
          "output_type": "stream",
          "name": "stderr",
          "text": [
            "Training: 100%|██████████| 25/25 [00:18<00:00,  1.36it/s, loss=2.16, acc=42.3]\n"
          ]
        },
        {
          "output_type": "stream",
          "name": "stdout",
          "text": [
            "Train Loss: 2.1635, Train Acc: 42.28%, Test Loss: 1.9441, Test Acc: 48.02%, Time: 18.34s\n",
            "New best model saved with accuracy: 48.02%\n",
            "\n",
            "Epoch [56/100] - Learning Rate: 0.010000\n"
          ]
        },
        {
          "output_type": "stream",
          "name": "stderr",
          "text": [
            "Training: 100%|██████████| 25/25 [00:19<00:00,  1.31it/s, loss=2.15, acc=42.1]\n"
          ]
        },
        {
          "output_type": "stream",
          "name": "stdout",
          "text": [
            "Train Loss: 2.1538, Train Acc: 42.11%, Test Loss: 1.9749, Test Acc: 47.12%, Time: 19.16s\n",
            "\n",
            "Epoch [57/100] - Learning Rate: 0.009651\n"
          ]
        },
        {
          "output_type": "stream",
          "name": "stderr",
          "text": [
            "Training: 100%|██████████| 25/25 [00:17<00:00,  1.40it/s, loss=2.15, acc=42.2]\n"
          ]
        },
        {
          "output_type": "stream",
          "name": "stdout",
          "text": [
            "Train Loss: 2.1467, Train Acc: 42.25%, Test Loss: 2.3033, Test Acc: 41.02%, Time: 17.84s\n",
            "\n",
            "Epoch [58/100] - Learning Rate: 0.009302\n"
          ]
        },
        {
          "output_type": "stream",
          "name": "stderr",
          "text": [
            "Training: 100%|██████████| 25/25 [00:18<00:00,  1.33it/s, loss=2.12, acc=43]\n"
          ]
        },
        {
          "output_type": "stream",
          "name": "stdout",
          "text": [
            "Train Loss: 2.1243, Train Acc: 42.97%, Test Loss: 2.5012, Test Acc: 38.34%, Time: 18.73s\n",
            "\n",
            "Epoch [59/100] - Learning Rate: 0.008955\n"
          ]
        },
        {
          "output_type": "stream",
          "name": "stderr",
          "text": [
            "Training: 100%|██████████| 25/25 [00:18<00:00,  1.38it/s, loss=2.11, acc=43.2]\n"
          ]
        },
        {
          "output_type": "stream",
          "name": "stdout",
          "text": [
            "Train Loss: 2.1066, Train Acc: 43.23%, Test Loss: 1.9488, Test Acc: 47.82%, Time: 18.09s\n",
            "\n",
            "Epoch [60/100] - Learning Rate: 0.008608\n"
          ]
        },
        {
          "output_type": "stream",
          "name": "stderr",
          "text": [
            "Training: 100%|██████████| 25/25 [00:17<00:00,  1.40it/s, loss=2.1, acc=43.7]\n"
          ]
        },
        {
          "output_type": "stream",
          "name": "stdout",
          "text": [
            "Train Loss: 2.0966, Train Acc: 43.71%, Test Loss: 1.8721, Test Acc: 49.22%, Time: 17.87s\n",
            "New best model saved with accuracy: 49.22%\n",
            "\n",
            "Epoch [61/100] - Learning Rate: 0.008264\n"
          ]
        },
        {
          "output_type": "stream",
          "name": "stderr",
          "text": [
            "Training: 100%|██████████| 25/25 [00:18<00:00,  1.33it/s, loss=2.09, acc=43.6]\n"
          ]
        },
        {
          "output_type": "stream",
          "name": "stdout",
          "text": [
            "Train Loss: 2.0912, Train Acc: 43.58%, Test Loss: 1.8536, Test Acc: 50.09%, Time: 18.79s\n",
            "New best model saved with accuracy: 50.09%\n",
            "\n",
            "Epoch [62/100] - Learning Rate: 0.007921\n"
          ]
        },
        {
          "output_type": "stream",
          "name": "stderr",
          "text": [
            "Training: 100%|██████████| 25/25 [00:17<00:00,  1.39it/s, loss=2.09, acc=43.6]\n"
          ]
        },
        {
          "output_type": "stream",
          "name": "stdout",
          "text": [
            "Train Loss: 2.0924, Train Acc: 43.62%, Test Loss: 1.9800, Test Acc: 47.44%, Time: 17.95s\n",
            "\n",
            "Epoch [63/100] - Learning Rate: 0.007581\n"
          ]
        },
        {
          "output_type": "stream",
          "name": "stderr",
          "text": [
            "Training: 100%|██████████| 25/25 [00:18<00:00,  1.32it/s, loss=2.08, acc=43.9]\n"
          ]
        },
        {
          "output_type": "stream",
          "name": "stdout",
          "text": [
            "Train Loss: 2.0817, Train Acc: 43.95%, Test Loss: 1.8885, Test Acc: 49.08%, Time: 18.94s\n",
            "\n",
            "Epoch [64/100] - Learning Rate: 0.007244\n"
          ]
        },
        {
          "output_type": "stream",
          "name": "stderr",
          "text": [
            "Training: 100%|██████████| 25/25 [00:18<00:00,  1.37it/s, loss=2.07, acc=44.2]\n"
          ]
        },
        {
          "output_type": "stream",
          "name": "stdout",
          "text": [
            "Train Loss: 2.0653, Train Acc: 44.16%, Test Loss: 1.9019, Test Acc: 49.08%, Time: 18.30s\n",
            "\n",
            "Epoch [65/100] - Learning Rate: 0.006910\n"
          ]
        },
        {
          "output_type": "stream",
          "name": "stderr",
          "text": [
            "Training: 100%|██████████| 25/25 [00:17<00:00,  1.39it/s, loss=2.07, acc=44.2]\n"
          ]
        },
        {
          "output_type": "stream",
          "name": "stdout",
          "text": [
            "Train Loss: 2.0656, Train Acc: 44.19%, Test Loss: 1.8644, Test Acc: 50.02%, Time: 18.00s\n",
            "\n",
            "Epoch [66/100] - Learning Rate: 0.006580\n"
          ]
        },
        {
          "output_type": "stream",
          "name": "stderr",
          "text": [
            "Training: 100%|██████████| 25/25 [00:19<00:00,  1.30it/s, loss=2.05, acc=44.5]\n"
          ]
        },
        {
          "output_type": "stream",
          "name": "stdout",
          "text": [
            "Train Loss: 2.0534, Train Acc: 44.46%, Test Loss: 1.8208, Test Acc: 50.76%, Time: 19.17s\n",
            "New best model saved with accuracy: 50.76%\n",
            "\n",
            "Epoch [67/100] - Learning Rate: 0.006254\n"
          ]
        },
        {
          "output_type": "stream",
          "name": "stderr",
          "text": [
            "Training: 100%|██████████| 25/25 [00:18<00:00,  1.37it/s, loss=2.04, acc=44.7]\n"
          ]
        },
        {
          "output_type": "stream",
          "name": "stdout",
          "text": [
            "Train Loss: 2.0424, Train Acc: 44.71%, Test Loss: 1.8291, Test Acc: 50.59%, Time: 18.25s\n",
            "\n",
            "Epoch [68/100] - Learning Rate: 0.005933\n"
          ]
        },
        {
          "output_type": "stream",
          "name": "stderr",
          "text": [
            "Training: 100%|██████████| 25/25 [00:18<00:00,  1.38it/s, loss=2.03, acc=44.9]\n"
          ]
        },
        {
          "output_type": "stream",
          "name": "stdout",
          "text": [
            "Train Loss: 2.0323, Train Acc: 44.89%, Test Loss: 1.8773, Test Acc: 49.57%, Time: 18.09s\n",
            "\n",
            "Epoch [69/100] - Learning Rate: 0.005616\n"
          ]
        },
        {
          "output_type": "stream",
          "name": "stderr",
          "text": [
            "Training: 100%|██████████| 25/25 [00:19<00:00,  1.31it/s, loss=2.02, acc=45.3]\n"
          ]
        },
        {
          "output_type": "stream",
          "name": "stdout",
          "text": [
            "Train Loss: 2.0173, Train Acc: 45.31%, Test Loss: 2.0232, Test Acc: 46.49%, Time: 19.11s\n",
            "\n",
            "Epoch [70/100] - Learning Rate: 0.005305\n"
          ]
        },
        {
          "output_type": "stream",
          "name": "stderr",
          "text": [
            "Training: 100%|██████████| 25/25 [00:17<00:00,  1.40it/s, loss=2.01, acc=45.6]\n"
          ]
        },
        {
          "output_type": "stream",
          "name": "stdout",
          "text": [
            "Train Loss: 2.0063, Train Acc: 45.61%, Test Loss: 1.8532, Test Acc: 50.27%, Time: 17.86s\n",
            "\n",
            "Epoch [71/100] - Learning Rate: 0.005000\n"
          ]
        },
        {
          "output_type": "stream",
          "name": "stderr",
          "text": [
            "Training: 100%|██████████| 25/25 [00:18<00:00,  1.36it/s, loss=2.01, acc=45.3]\n"
          ]
        },
        {
          "output_type": "stream",
          "name": "stdout",
          "text": [
            "Train Loss: 2.0080, Train Acc: 45.29%, Test Loss: 1.9169, Test Acc: 49.30%, Time: 18.36s\n",
            "\n",
            "Epoch [72/100] - Learning Rate: 0.004701\n"
          ]
        },
        {
          "output_type": "stream",
          "name": "stderr",
          "text": [
            "Training: 100%|██████████| 25/25 [00:19<00:00,  1.31it/s, loss=2, acc=45.6]\n"
          ]
        },
        {
          "output_type": "stream",
          "name": "stdout",
          "text": [
            "Train Loss: 2.0048, Train Acc: 45.60%, Test Loss: 1.7943, Test Acc: 51.82%, Time: 19.13s\n",
            "New best model saved with accuracy: 51.82%\n",
            "\n",
            "Epoch [73/100] - Learning Rate: 0.004408\n"
          ]
        },
        {
          "output_type": "stream",
          "name": "stderr",
          "text": [
            "Training: 100%|██████████| 25/25 [00:18<00:00,  1.38it/s, loss=1.99, acc=46]\n"
          ]
        },
        {
          "output_type": "stream",
          "name": "stdout",
          "text": [
            "Train Loss: 1.9891, Train Acc: 45.96%, Test Loss: 1.7656, Test Acc: 52.43%, Time: 18.07s\n",
            "New best model saved with accuracy: 52.43%\n",
            "\n",
            "Epoch [74/100] - Learning Rate: 0.004122\n"
          ]
        },
        {
          "output_type": "stream",
          "name": "stderr",
          "text": [
            "Training: 100%|██████████| 25/25 [00:18<00:00,  1.37it/s, loss=1.99, acc=46.1]\n"
          ]
        },
        {
          "output_type": "stream",
          "name": "stdout",
          "text": [
            "Train Loss: 1.9876, Train Acc: 46.08%, Test Loss: 1.7960, Test Acc: 51.70%, Time: 18.20s\n",
            "\n",
            "Epoch [75/100] - Learning Rate: 0.003843\n"
          ]
        },
        {
          "output_type": "stream",
          "name": "stderr",
          "text": [
            "Training: 100%|██████████| 25/25 [00:19<00:00,  1.31it/s, loss=1.97, acc=46.3]\n"
          ]
        },
        {
          "output_type": "stream",
          "name": "stdout",
          "text": [
            "Train Loss: 1.9725, Train Acc: 46.35%, Test Loss: 1.7768, Test Acc: 52.11%, Time: 19.08s\n",
            "\n",
            "Epoch [76/100] - Learning Rate: 0.003572\n"
          ]
        },
        {
          "output_type": "stream",
          "name": "stderr",
          "text": [
            "Training: 100%|██████████| 25/25 [00:18<00:00,  1.38it/s, loss=1.97, acc=46]\n"
          ]
        },
        {
          "output_type": "stream",
          "name": "stdout",
          "text": [
            "Train Loss: 1.9750, Train Acc: 45.97%, Test Loss: 1.8135, Test Acc: 51.48%, Time: 18.18s\n",
            "\n",
            "Epoch [77/100] - Learning Rate: 0.003309\n"
          ]
        },
        {
          "output_type": "stream",
          "name": "stderr",
          "text": [
            "Training: 100%|██████████| 25/25 [00:18<00:00,  1.32it/s, loss=1.97, acc=46]\n"
          ]
        },
        {
          "output_type": "stream",
          "name": "stdout",
          "text": [
            "Train Loss: 1.9699, Train Acc: 45.96%, Test Loss: 1.7514, Test Acc: 52.37%, Time: 18.95s\n",
            "\n",
            "Epoch [78/100] - Learning Rate: 0.003053\n"
          ]
        },
        {
          "output_type": "stream",
          "name": "stderr",
          "text": [
            "Training: 100%|██████████| 25/25 [00:18<00:00,  1.36it/s, loss=1.95, acc=46.8]\n"
          ]
        },
        {
          "output_type": "stream",
          "name": "stdout",
          "text": [
            "Train Loss: 1.9537, Train Acc: 46.80%, Test Loss: 1.7557, Test Acc: 52.80%, Time: 18.43s\n",
            "New best model saved with accuracy: 52.80%\n",
            "\n",
            "Epoch [79/100] - Learning Rate: 0.002807\n"
          ]
        },
        {
          "output_type": "stream",
          "name": "stderr",
          "text": [
            "Training: 100%|██████████| 25/25 [00:17<00:00,  1.39it/s, loss=1.95, acc=46.8]\n"
          ]
        },
        {
          "output_type": "stream",
          "name": "stdout",
          "text": [
            "Train Loss: 1.9508, Train Acc: 46.82%, Test Loss: 1.7419, Test Acc: 52.65%, Time: 18.00s\n",
            "\n",
            "Epoch [80/100] - Learning Rate: 0.002569\n"
          ]
        },
        {
          "output_type": "stream",
          "name": "stderr",
          "text": [
            "Training: 100%|██████████| 25/25 [00:19<00:00,  1.32it/s, loss=1.95, acc=46.6]\n"
          ]
        },
        {
          "output_type": "stream",
          "name": "stdout",
          "text": [
            "Train Loss: 1.9470, Train Acc: 46.61%, Test Loss: 1.8700, Test Acc: 50.16%, Time: 19.01s\n",
            "\n",
            "Epoch [81/100] - Learning Rate: 0.002340\n"
          ]
        },
        {
          "output_type": "stream",
          "name": "stderr",
          "text": [
            "Training: 100%|██████████| 25/25 [00:17<00:00,  1.42it/s, loss=1.94, acc=46.9]\n"
          ]
        },
        {
          "output_type": "stream",
          "name": "stdout",
          "text": [
            "Train Loss: 1.9409, Train Acc: 46.91%, Test Loss: 1.8436, Test Acc: 50.44%, Time: 17.64s\n",
            "\n",
            "Epoch [82/100] - Learning Rate: 0.002120\n"
          ]
        },
        {
          "output_type": "stream",
          "name": "stderr",
          "text": [
            "Training: 100%|██████████| 25/25 [00:17<00:00,  1.40it/s, loss=1.95, acc=46.7]\n"
          ]
        },
        {
          "output_type": "stream",
          "name": "stdout",
          "text": [
            "Train Loss: 1.9491, Train Acc: 46.68%, Test Loss: 1.7963, Test Acc: 51.62%, Time: 17.82s\n",
            "\n",
            "Epoch [83/100] - Learning Rate: 0.001910\n"
          ]
        },
        {
          "output_type": "stream",
          "name": "stderr",
          "text": [
            "Training: 100%|██████████| 25/25 [00:18<00:00,  1.32it/s, loss=1.94, acc=47]\n"
          ]
        },
        {
          "output_type": "stream",
          "name": "stdout",
          "text": [
            "Train Loss: 1.9385, Train Acc: 46.98%, Test Loss: 1.7387, Test Acc: 52.82%, Time: 18.98s\n",
            "New best model saved with accuracy: 52.82%\n",
            "\n",
            "Epoch [84/100] - Learning Rate: 0.001710\n"
          ]
        },
        {
          "output_type": "stream",
          "name": "stderr",
          "text": [
            "Training: 100%|██████████| 25/25 [00:18<00:00,  1.38it/s, loss=1.93, acc=47.3]\n"
          ]
        },
        {
          "output_type": "stream",
          "name": "stdout",
          "text": [
            "Train Loss: 1.9311, Train Acc: 47.33%, Test Loss: 1.7339, Test Acc: 52.81%, Time: 18.09s\n",
            "\n",
            "Epoch [85/100] - Learning Rate: 0.001520\n"
          ]
        },
        {
          "output_type": "stream",
          "name": "stderr",
          "text": [
            "Training: 100%|██████████| 25/25 [00:18<00:00,  1.34it/s, loss=1.93, acc=47.4]\n"
          ]
        },
        {
          "output_type": "stream",
          "name": "stdout",
          "text": [
            "Train Loss: 1.9251, Train Acc: 47.42%, Test Loss: 1.7495, Test Acc: 52.67%, Time: 18.64s\n",
            "\n",
            "Epoch [86/100] - Learning Rate: 0.001340\n"
          ]
        },
        {
          "output_type": "stream",
          "name": "stderr",
          "text": [
            "Training: 100%|██████████| 25/25 [00:18<00:00,  1.33it/s, loss=1.93, acc=47.2]\n"
          ]
        },
        {
          "output_type": "stream",
          "name": "stdout",
          "text": [
            "Train Loss: 1.9250, Train Acc: 47.25%, Test Loss: 1.7252, Test Acc: 53.38%, Time: 18.74s\n",
            "New best model saved with accuracy: 53.38%\n",
            "\n",
            "Epoch [87/100] - Learning Rate: 0.001171\n"
          ]
        },
        {
          "output_type": "stream",
          "name": "stderr",
          "text": [
            "Training: 100%|██████████| 25/25 [00:17<00:00,  1.39it/s, loss=1.92, acc=47.5]\n"
          ]
        },
        {
          "output_type": "stream",
          "name": "stdout",
          "text": [
            "Train Loss: 1.9191, Train Acc: 47.51%, Test Loss: 1.7238, Test Acc: 53.22%, Time: 17.95s\n",
            "\n",
            "Epoch [88/100] - Learning Rate: 0.001012\n"
          ]
        },
        {
          "output_type": "stream",
          "name": "stderr",
          "text": [
            "Training: 100%|██████████| 25/25 [00:19<00:00,  1.31it/s, loss=1.91, acc=47.7]\n"
          ]
        },
        {
          "output_type": "stream",
          "name": "stdout",
          "text": [
            "Train Loss: 1.9130, Train Acc: 47.71%, Test Loss: 1.7180, Test Acc: 53.44%, Time: 19.09s\n",
            "New best model saved with accuracy: 53.44%\n",
            "\n",
            "Epoch [89/100] - Learning Rate: 0.000865\n"
          ]
        },
        {
          "output_type": "stream",
          "name": "stderr",
          "text": [
            "Training: 100%|██████████| 25/25 [00:18<00:00,  1.39it/s, loss=1.92, acc=47.7]\n"
          ]
        },
        {
          "output_type": "stream",
          "name": "stdout",
          "text": [
            "Train Loss: 1.9176, Train Acc: 47.65%, Test Loss: 1.7134, Test Acc: 53.43%, Time: 18.01s\n",
            "\n",
            "Epoch [90/100] - Learning Rate: 0.000728\n"
          ]
        },
        {
          "output_type": "stream",
          "name": "stderr",
          "text": [
            "Training: 100%|██████████| 25/25 [00:18<00:00,  1.38it/s, loss=1.91, acc=47.7]\n"
          ]
        },
        {
          "output_type": "stream",
          "name": "stdout",
          "text": [
            "Train Loss: 1.9135, Train Acc: 47.67%, Test Loss: 1.7170, Test Acc: 53.50%, Time: 18.09s\n",
            "New best model saved with accuracy: 53.50%\n",
            "\n",
            "Epoch [91/100] - Learning Rate: 0.000603\n"
          ]
        },
        {
          "output_type": "stream",
          "name": "stderr",
          "text": [
            "Training: 100%|██████████| 25/25 [00:19<00:00,  1.30it/s, loss=1.91, acc=47.9]\n"
          ]
        },
        {
          "output_type": "stream",
          "name": "stdout",
          "text": [
            "Train Loss: 1.9134, Train Acc: 47.89%, Test Loss: 1.7123, Test Acc: 53.47%, Time: 19.19s\n",
            "\n",
            "Epoch [92/100] - Learning Rate: 0.000489\n"
          ]
        },
        {
          "output_type": "stream",
          "name": "stderr",
          "text": [
            "Training: 100%|██████████| 25/25 [00:18<00:00,  1.38it/s, loss=1.91, acc=47.8]\n"
          ]
        },
        {
          "output_type": "stream",
          "name": "stdout",
          "text": [
            "Train Loss: 1.9099, Train Acc: 47.83%, Test Loss: 1.7103, Test Acc: 53.61%, Time: 18.10s\n",
            "New best model saved with accuracy: 53.61%\n",
            "\n",
            "Epoch [93/100] - Learning Rate: 0.000387\n"
          ]
        },
        {
          "output_type": "stream",
          "name": "stderr",
          "text": [
            "Training: 100%|██████████| 25/25 [00:18<00:00,  1.34it/s, loss=1.9, acc=47.9]\n"
          ]
        },
        {
          "output_type": "stream",
          "name": "stdout",
          "text": [
            "Train Loss: 1.9046, Train Acc: 47.94%, Test Loss: 1.7132, Test Acc: 53.38%, Time: 18.60s\n",
            "\n",
            "Epoch [94/100] - Learning Rate: 0.000297\n"
          ]
        },
        {
          "output_type": "stream",
          "name": "stderr",
          "text": [
            "Training: 100%|██████████| 25/25 [00:19<00:00,  1.30it/s, loss=1.9, acc=47.8]\n"
          ]
        },
        {
          "output_type": "stream",
          "name": "stdout",
          "text": [
            "Train Loss: 1.9013, Train Acc: 47.85%, Test Loss: 1.7108, Test Acc: 53.44%, Time: 19.20s\n",
            "\n",
            "Epoch [95/100] - Learning Rate: 0.000219\n"
          ]
        },
        {
          "output_type": "stream",
          "name": "stderr",
          "text": [
            "Training: 100%|██████████| 25/25 [00:18<00:00,  1.38it/s, loss=1.91, acc=47.7]\n"
          ]
        },
        {
          "output_type": "stream",
          "name": "stdout",
          "text": [
            "Train Loss: 1.9067, Train Acc: 47.66%, Test Loss: 1.7094, Test Acc: 53.43%, Time: 18.09s\n",
            "\n",
            "Epoch [96/100] - Learning Rate: 0.000152\n"
          ]
        },
        {
          "output_type": "stream",
          "name": "stderr",
          "text": [
            "Training: 100%|██████████| 25/25 [00:18<00:00,  1.35it/s, loss=1.9, acc=48]\n"
          ]
        },
        {
          "output_type": "stream",
          "name": "stdout",
          "text": [
            "Train Loss: 1.9025, Train Acc: 47.97%, Test Loss: 1.7093, Test Acc: 53.53%, Time: 18.49s\n",
            "\n",
            "Epoch [97/100] - Learning Rate: 0.000097\n"
          ]
        },
        {
          "output_type": "stream",
          "name": "stderr",
          "text": [
            "Training: 100%|██████████| 25/25 [00:18<00:00,  1.33it/s, loss=1.9, acc=47.9]\n"
          ]
        },
        {
          "output_type": "stream",
          "name": "stdout",
          "text": [
            "Train Loss: 1.8985, Train Acc: 47.94%, Test Loss: 1.7091, Test Acc: 53.68%, Time: 18.87s\n",
            "New best model saved with accuracy: 53.68%\n",
            "\n",
            "Epoch [98/100] - Learning Rate: 0.000055\n"
          ]
        },
        {
          "output_type": "stream",
          "name": "stderr",
          "text": [
            "Training: 100%|██████████| 25/25 [00:18<00:00,  1.38it/s, loss=1.9, acc=48]\n"
          ]
        },
        {
          "output_type": "stream",
          "name": "stdout",
          "text": [
            "Train Loss: 1.8991, Train Acc: 47.97%, Test Loss: 1.7098, Test Acc: 53.54%, Time: 18.08s\n",
            "\n",
            "Epoch [99/100] - Learning Rate: 0.000024\n"
          ]
        },
        {
          "output_type": "stream",
          "name": "stderr",
          "text": [
            "Training: 100%|██████████| 25/25 [00:18<00:00,  1.33it/s, loss=1.9, acc=47.5]\n"
          ]
        },
        {
          "output_type": "stream",
          "name": "stdout",
          "text": [
            "Train Loss: 1.9046, Train Acc: 47.46%, Test Loss: 1.7094, Test Acc: 53.60%, Time: 18.84s\n",
            "\n",
            "Epoch [100/100] - Learning Rate: 0.000006\n"
          ]
        },
        {
          "output_type": "stream",
          "name": "stderr",
          "text": [
            "Training: 100%|██████████| 25/25 [00:18<00:00,  1.34it/s, loss=1.89, acc=48.2]\n"
          ]
        },
        {
          "output_type": "stream",
          "name": "stdout",
          "text": [
            "Train Loss: 1.8893, Train Acc: 48.18%, Test Loss: 1.7092, Test Acc: 53.56%, Time: 18.68s\n",
            "Best model loaded with accuracy: 53.68%\n"
          ]
        },
        {
          "output_type": "display_data",
          "data": {
            "text/plain": [
              "<Figure size 1800x500 with 3 Axes>"
            ],
            "image/png": "[encoded data removed]"
          },
          "metadata": {}
        },
        {
          "output_type": "stream",
          "name": "stdout",
          "text": [
            "LAMB benchmark completed!\n"
          ]
        }
      ],
      "source": [
        "import torch\n",
        "import torch.nn as nn\n",
        "import torchvision.transforms as transforms\n",
        "import torch.nn.functional as F\n",
        "from torchvision.datasets import CIFAR10, CIFAR100\n",
        "import torchvision.models as models\n",
        "from torch.utils.data import DataLoader\n",
        "\n",
        "from tqdm import tqdm\n",
        "import matplotlib.pyplot as plt\n",
        "import time\n",
        "import pickle\n",
        "import numpy as np\n",
        "import random\n",
        "\n",
        "from torch_optimizer import Lamb\n",
        "import math\n",
        "\n",
        "print(\"PyTorch version:\", torch.__version__)\n",
        "device = torch.device(\"cuda:0\" if torch.cuda.is_available() else \"cpu\")\n",
        "print(f\"Using device: {device}\")\n",
        "\n",
        "# Seeding for reproducibility\n",
        "seed = 2025\n",
        "torch.manual_seed(seed)\n",
        "torch.cuda.manual_seed(seed)\n",
        "np.random.seed(seed)\n",
        "random.seed(seed)\n",
        "\n",
        "# transforms\n",
        "train_transform = transforms.Compose(\n",
        "    [\n",
        "        transforms.RandomCrop(32, padding=4),\n",
        "        transforms.RandomHorizontalFlip(),\n",
        "        transforms.ToTensor(),\n",
        "        transforms.Normalize((0.4914, 0.4822, 0.4465),\n",
        "                             (0.2023, 0.1994, 0.2010)),\n",
        "    ]\n",
        ")\n",
        "\n",
        "test_transform = transforms.Compose(\n",
        "    [\n",
        "        transforms.ToTensor(),\n",
        "        transforms.Normalize((0.4914, 0.4822, 0.4465),\n",
        "                             (0.2023, 0.1994, 0.2010)),\n",
        "    ]\n",
        ")\n",
        "\n",
        "\n",
        "# load data\n",
        "def load_data(dataset_name=\"cifar100\", batch_size=128, num_workers=2):\n",
        "    \"\"\"Enhanced data loading with stronger augmentation for CIFAR-100\"\"\"\n",
        "\n",
        "    train_transform = transforms.Compose(\n",
        "        [\n",
        "            transforms.RandomCrop(32, padding=4),\n",
        "            transforms.RandomHorizontalFlip(),\n",
        "            transforms.ToTensor(),\n",
        "            transforms.Normalize((0.4914, 0.4822, 0.4465),\n",
        "                                 (0.2023, 0.1994, 0.2010)),\n",
        "        ]\n",
        "    )\n",
        "    test_transform = transforms.Compose(\n",
        "        [\n",
        "            transforms.ToTensor(),\n",
        "            transforms.Normalize((0.4914, 0.4822, 0.4465),\n",
        "                                 (0.2023, 0.1994, 0.2010)),\n",
        "        ]\n",
        "    )\n",
        "\n",
        "    if dataset_name.lower() == \"cifar100\":\n",
        "        train_dataset = CIFAR100(\n",
        "            root=\"./data\", train=True, download=True, transform=train_transform\n",
        "        )\n",
        "        test_dataset = CIFAR100(\n",
        "            root=\"./data\", train=False, download=True, transform=test_transform\n",
        "        )\n",
        "        num_classes = 100\n",
        "    else:\n",
        "        raise ValueError(f\"Dataset {dataset_name} not supported in enhanced version\")\n",
        "\n",
        "    train_loader = DataLoader(\n",
        "        train_dataset,\n",
        "        batch_size=batch_size,\n",
        "        shuffle=True,\n",
        "        num_workers=num_workers,\n",
        "    )\n",
        "    test_loader = DataLoader(\n",
        "        test_dataset,\n",
        "        batch_size=batch_size,\n",
        "        shuffle=False,\n",
        "        num_workers=num_workers,\n",
        "    )\n",
        "    return train_loader, test_loader, num_classes\n",
        "\n",
        "\n",
        "# model - LeNet5 from the paper [11]\n",
        "class LeNet5(nn.Module):\n",
        "    def __init__(self, num_classes=10):\n",
        "        super(LeNet5, self).__init__()\n",
        "        # Input: 3x32x32 (CIFAR has 3 color channels)\n",
        "        self.conv1 = nn.Conv2d(3, 6, kernel_size=5)  # Output: 6x28x28\n",
        "        self.pool1 = nn.MaxPool2d(kernel_size=2, stride=2)  # Output: 6x14x14\n",
        "        self.conv2 = nn.Conv2d(6, 16, kernel_size=5)  # Output: 16x10x10\n",
        "        self.pool2 = nn.MaxPool2d(kernel_size=2, stride=2)  # Output: 16x5x5\n",
        "\n",
        "        # fc layers\n",
        "        self.fc1 = nn.Linear(16 * 5 * 5, 120)\n",
        "        self.fc2 = nn.Linear(120, 84)\n",
        "        self.fc3 = nn.Linear(84, num_classes)\n",
        "\n",
        "    def forward(self, x):\n",
        "        x = self.pool1(F.relu(self.conv1(x)))\n",
        "        x = self.pool2(F.relu(self.conv2(x)))\n",
        "        x = x.view(-1, 16 * 5 * 5)  # flatten\n",
        "        x = F.relu(self.fc1(x))\n",
        "        x = F.relu(self.fc2(x))\n",
        "        x = self.fc3(x)\n",
        "        return x\n",
        "\n",
        "\n",
        "class ImprovedCNN(nn.Module):\n",
        "    def __init__(self, num_classes=100):\n",
        "        super(ImprovedCNN, self).__init__()\n",
        "        # First conv block\n",
        "        self.conv1 = nn.Conv2d(3, 64, kernel_size=5, padding=2)\n",
        "        self.bn1 = nn.BatchNorm2d(64)  # using BatchNorm for better training stability\n",
        "        self.pool1 = nn.MaxPool2d(kernel_size=2, stride=2)\n",
        "\n",
        "        # Second conv block\n",
        "        self.conv2 = nn.Conv2d(64, 64, kernel_size=5, padding=2)\n",
        "        self.bn2 = nn.BatchNorm2d(64)\n",
        "        self.pool2 = nn.MaxPool2d(kernel_size=2, stride=2)\n",
        "\n",
        "        # Fully connected layers\n",
        "        self.fc1 = nn.Linear(64 * 8 * 8, 384)\n",
        "        self.dropout1 = nn.Dropout(0.5)\n",
        "        self.fc2 = nn.Linear(384, 192)\n",
        "        self.dropout2 = nn.Dropout(0.5)\n",
        "        self.fc3 = nn.Linear(192, num_classes)\n",
        "\n",
        "    def forward(self, x):\n",
        "        # First conv block\n",
        "        x = self.pool1(F.relu(self.bn1(self.conv1(x))))\n",
        "        # Second conv block\n",
        "        x = self.pool2(F.relu(self.bn2(self.conv2(x))))\n",
        "        # Flatten and FC\n",
        "        x = x.view(-1, 64 * 8 * 8)\n",
        "        x = F.relu(self.fc1(x))\n",
        "        x = self.dropout1(x)\n",
        "        x = F.relu(self.fc2(x))\n",
        "        x = self.dropout2(x)\n",
        "        x = self.fc3(x)\n",
        "        return x\n",
        "\n",
        "\n",
        "def create_model(model_name, num_classes=100):\n",
        "    if model_name.lower() == \"improved_cnn\":\n",
        "        return ImprovedCNN(num_classes=num_classes)\n",
        "    elif model_name.lower() == \"lenet5\":\n",
        "        return LeNet5(num_classes=num_classes)\n",
        "    else:\n",
        "        raise ValueError(f\"Unknown model: {model_name}\")\n",
        "\n",
        "\n",
        "# train\n",
        "def train_epoch(model, train_loader, criterion, optimizer, device):\n",
        "    model.train()\n",
        "    running_loss = 0.0\n",
        "    correct = 0\n",
        "    total = 0\n",
        "\n",
        "    pbar = tqdm(train_loader, desc=\"Training\")\n",
        "    for inputs, labels in pbar:\n",
        "        inputs, labels = inputs.to(device), labels.to(device)\n",
        "\n",
        "        optimizer.zero_grad()\n",
        "        outputs = model(inputs)\n",
        "        loss = criterion(outputs, labels)\n",
        "        loss.backward()\n",
        "        optimizer.step()\n",
        "\n",
        "        running_loss += loss.item() * inputs.size(0)\n",
        "        _, predicted = outputs.max(1)\n",
        "        total += labels.size(0)\n",
        "        correct += predicted.eq(labels).sum().item()\n",
        "        pbar.set_postfix({\"loss\": running_loss / total,\n",
        "                          \"acc\": 100.0 * correct / total})\n",
        "\n",
        "    train_loss = running_loss / total\n",
        "    train_acc = 100.0 * correct / total\n",
        "    return train_loss, train_acc\n",
        "\n",
        "\n",
        "# eval\n",
        "def evaluate(model, test_loader, criterion, device):\n",
        "    model.eval()\n",
        "    running_loss = 0.0\n",
        "    correct = 0\n",
        "    total = 0\n",
        "\n",
        "    with torch.no_grad():\n",
        "        for inputs, labels in test_loader:\n",
        "            inputs, labels = inputs.to(device), labels.to(device)\n",
        "            outputs = model(inputs)\n",
        "            loss = criterion(outputs, labels)\n",
        "\n",
        "            running_loss += loss.item() * inputs.size(0)\n",
        "            _, predicted = outputs.max(1)\n",
        "            total += labels.size(0)\n",
        "            correct += predicted.eq(labels).sum().item()\n",
        "\n",
        "    test_loss = running_loss / total\n",
        "    test_acc = 100.0 * correct / total\n",
        "    return test_loss, test_acc\n",
        "\n",
        "\n",
        "# train config\n",
        "def train_centralized_model(\n",
        "    model_name=\"improved_cnn\",\n",
        "    dataset_name=\"cifar100\",\n",
        "    batch_size=2048,\n",
        "    epochs=100,\n",
        "    lr=0.01,\n",
        "    momentum=0.9,\n",
        "    weight_decay=4e-4,\n",
        "    lr_scheduler=\"lamb\",\n",
        "    save_path=\"improved_cnn_model.pth\",\n",
        "):\n",
        "    # Load data\n",
        "    train_loader, test_loader, num_classes = load_data(\n",
        "        dataset_name=dataset_name, batch_size=batch_size\n",
        "    )\n",
        "\n",
        "    # Create model\n",
        "    model = create_model(model_name, num_classes=num_classes).to(device)\n",
        "\n",
        "    # Print total parameters\n",
        "    total_params = sum(p.numel() for p in model.parameters())\n",
        "    print(f\"Total parameters: {total_params:,}\")\n",
        "\n",
        "    # Loss\n",
        "    criterion = nn.CrossEntropyLoss()\n",
        "\n",
        "    # Linear‐scaling rule for LR\n",
        "    scaled_lr = lr * (batch_size / 1024)\n",
        "\n",
        "    # Separate parameters into decay vs. no‐decay groups\n",
        "    decay_params = []\n",
        "    no_decay_params = []\n",
        "    for name, param in model.named_parameters():\n",
        "        if not param.requires_grad:\n",
        "            continue\n",
        "        if param.ndim == 1:\n",
        "            no_decay_params.append(param)\n",
        "        else:\n",
        "            decay_params.append(param)\n",
        "\n",
        "    # ─── Instantiate LAMB ─────────────────────────────────────────────────────────\n",
        "    #\n",
        "    # We set global weight_decay=0.0 because we're handling it per‐group.\n",
        "    #\n",
        "    optimizer = Lamb(\n",
        "        [\n",
        "            {\"params\": decay_params,    \"weight_decay\": weight_decay},\n",
        "            {\"params\": no_decay_params, \"weight_decay\": 0.0}\n",
        "        ],\n",
        "        lr=scaled_lr,\n",
        "        betas=(0.9, 0.999),\n",
        "        eps=1e-6,\n",
        "        weight_decay=0.0  # global default; per-group overrides actual decay\n",
        "    )\n",
        "    # ────────────────────────────────────────────────────────────────────────────────\n",
        "\n",
        "    # Learning‐rate scheduler: warmup + cosine, same as LARS code\n",
        "    if lr_scheduler == \"lamb\":\n",
        "        warmup_epochs = 10\n",
        "\n",
        "        def lr_lambda(epoch):\n",
        "            if epoch < warmup_epochs:\n",
        "                return float(epoch + 1) / float(warmup_epochs)\n",
        "            return 0.5 * (\n",
        "                1.0\n",
        "                + math.cos(\n",
        "                    math.pi * (epoch - warmup_epochs) / (epochs - warmup_epochs)\n",
        "                )\n",
        "            )\n",
        "\n",
        "        scheduler = torch.optim.lr_scheduler.LambdaLR(optimizer, lr_lambda)\n",
        "\n",
        "    elif lr_scheduler == \"step\":\n",
        "        scheduler = torch.optim.lr_scheduler.MultiStepLR(\n",
        "            optimizer,\n",
        "            milestones=[int(epochs * 0.5), int(epochs * 0.75)],\n",
        "            gamma=0.1\n",
        "        )\n",
        "    else:\n",
        "        raise ValueError(f\"Unknown scheduler: {lr_scheduler}\")\n",
        "\n",
        "    # Training history\n",
        "    history = {\n",
        "        \"train_loss\": [],\n",
        "        \"train_acc\": [],\n",
        "        \"test_loss\": [],\n",
        "        \"test_acc\": [],\n",
        "        \"lr\": [],\n",
        "    }\n",
        "\n",
        "    best_acc = 0.0\n",
        "\n",
        "    # Training loop\n",
        "    for epoch in range(epochs):\n",
        "        current_lr = optimizer.param_groups[0][\"lr\"]\n",
        "        print(f\"\\nEpoch [{epoch + 1}/{epochs}] - Learning Rate: {current_lr:.6f}\")\n",
        "\n",
        "        # Train for one epoch\n",
        "        start_time = time.time()\n",
        "        train_loss, train_acc = train_epoch(\n",
        "            model, train_loader, criterion, optimizer, device\n",
        "        )\n",
        "        train_time = time.time() - start_time\n",
        "\n",
        "        # Evaluate\n",
        "        test_loss, test_acc = evaluate(model, test_loader, criterion, device)\n",
        "        scheduler.step()\n",
        "\n",
        "        print(\n",
        "            f\"Train Loss: {train_loss:.4f}, Train Acc: {train_acc:.2f}%, \"\n",
        "            f\"Test Loss: {test_loss:.4f}, Test Acc: {test_acc:.2f}%, \"\n",
        "            f\"Time: {train_time:.2f}s\"\n",
        "        )\n",
        "\n",
        "        if test_acc > best_acc:\n",
        "            best_acc = test_acc\n",
        "            torch.save(\n",
        "                {\n",
        "                    \"epoch\": epoch,\n",
        "                    \"model_state_dict\": model.state_dict(),\n",
        "                    \"optimizer_state_dict\": optimizer.state_dict(),\n",
        "                    \"test_acc\": test_acc,\n",
        "                },\n",
        "                save_path,\n",
        "            )\n",
        "            print(f\"New best model saved with accuracy: {test_acc:.2f}%\")\n",
        "\n",
        "        history[\"train_loss\"].append(train_loss)\n",
        "        history[\"train_acc\"].append(train_acc)\n",
        "        history[\"test_loss\"].append(test_loss)\n",
        "        history[\"test_acc\"].append(test_acc)\n",
        "        history[\"lr\"].append(current_lr)\n",
        "\n",
        "    # Load best model\n",
        "    checkpoint = torch.load(save_path)\n",
        "    model.load_state_dict(checkpoint[\"model_state_dict\"])\n",
        "    print(f\"Best model loaded with accuracy: {checkpoint['test_acc']:.2f}%\")\n",
        "\n",
        "    return model, history\n",
        "\n",
        "\n",
        "# visualization of model performance\n",
        "def plot_training_history(history):\n",
        "    fig, (ax1, ax2, ax3) = plt.subplots(1, 3, figsize=(18, 5))\n",
        "\n",
        "    ax1.plot(history[\"train_loss\"], label=\"Train Loss\")\n",
        "    ax1.plot(history[\"test_loss\"], label=\"Test Loss\")\n",
        "    ax1.set_xlabel(\"Epoch\")\n",
        "    ax1.set_ylabel(\"Loss\")\n",
        "    ax1.legend()\n",
        "    ax1.set_title(\"Loss Curves\")\n",
        "    ax1.grid(True)\n",
        "\n",
        "    ax2.plot(history[\"train_acc\"], label=\"Train Accuracy\")\n",
        "    ax2.plot(history[\"test_acc\"], label=\"Test Accuracy\")\n",
        "    ax2.set_xlabel(\"Epoch\")\n",
        "    ax2.set_ylabel(\"Accuracy (%)\")\n",
        "    ax2.legend()\n",
        "    ax2.set_title(\"Accuracy Curves\")\n",
        "    ax2.grid(True)\n",
        "\n",
        "    ax3.plot(history[\"lr\"])\n",
        "    ax3.set_xlabel(\"Epoch\")\n",
        "    ax3.set_ylabel(\"Learning Rate\")\n",
        "    ax3.set_title(\"Learning Rate Schedule\")\n",
        "    ax3.set_yscale(\"log\")\n",
        "    ax3.grid(True)\n",
        "\n",
        "    plt.tight_layout()\n",
        "    plt.show()\n",
        "\n",
        "\n",
        "# run benchmark\n",
        "def run_centralized_benchmark():\n",
        "    config = {\n",
        "        \"model_name\": \"improved_cnn\",\n",
        "        \"dataset_name\": \"cifar100\",\n",
        "        \"batch_size\": 2048,\n",
        "        \"epochs\": 100,\n",
        "        \"lr\": 0.01,\n",
        "        \"momentum\": 0.9,\n",
        "        \"weight_decay\": 4e-4,\n",
        "        \"lr_scheduler\": \"lamb\",\n",
        "        \"save_path\": \"improved_cnn_model_lamb.pth\",\n",
        "    }\n",
        "\n",
        "    print(\n",
        "        f\"Running LAMB benchmark with {config['model_name']} on {config['dataset_name']}...\"\n",
        "    )\n",
        "\n",
        "    model, history = train_centralized_model(**config)\n",
        "    plot_training_history(history)\n",
        "\n",
        "    with open(\"history_lamb.pkl\", \"wb\") as f:\n",
        "        pickle.dump(history, f)\n",
        "\n",
        "    print(\"LAMB benchmark completed!\")\n",
        "    return model, history\n",
        "\n",
        "\n",
        "def main():\n",
        "    model, history = run_centralized_benchmark()\n",
        "    return model, history\n",
        "\n",
        "\n",
        "if __name__ == \"__main__\":\n",
        "    main()\n"
      ]
    }
  ]
}