{
  "nbformat": 4,
  "nbformat_minor": 0,
  "metadata": {
    "colab": {
      "provenance": [],
      "gpuType": "T4",
      "authorship_tag": "ABX9TyNNin0NDWq5ba9oa1l9Yy9l",
      "include_colab_link": true
    },
    "kernelspec": {
      "name": "python3",
      "display_name": "Python 3"
    },
    "language_info": {
      "name": "python"
    },
    "accelerator": "GPU"
  },
  "cells": [
    {
      "cell_type": "markdown",
      "metadata": {
        "id": "view-in-github",
        "colab_type": "text"
      },
      "source": [
        "<a href=\"https://colab.research.google.com/github/Zurehma/AML_Project/blob/main/LargeBatch/LAMB/batch_256.ipynb\" target=\"_parent\"><img src=\"https://colab.research.google.com/assets/colab-badge.svg\" alt=\"Open In Colab\"/></a>"
      ]
    },
    {
      "cell_type": "code",
      "execution_count": null,
      "metadata": {
        "id": "TVNT8mgH0h-t"
      },
      "outputs": [],
      "source": [
        "!pip install torch-optimizer"
      ]
    },
    {
      "cell_type": "code",
      "source": [
        "import torch\n",
        "import torch.nn as nn\n",
        "import torchvision.transforms as transforms\n",
        "import torch.nn.functional as F\n",
        "from torchvision.datasets import CIFAR10, CIFAR100\n",
        "import torchvision.models as models\n",
        "from torch.utils.data import DataLoader\n",
        "\n",
        "from tqdm import tqdm\n",
        "import matplotlib.pyplot as plt\n",
        "import time\n",
        "import pickle\n",
        "import numpy as np\n",
        "import random\n",
        "\n",
        "# ─── Import LAMB from torch-optimizer ───────────────────────────────────────\n",
        "from torch_optimizer import Lamb\n",
        "# ───────────────────────────────────────────────────────────────────────────────\n",
        "\n",
        "import math\n",
        "\n",
        "print(\"PyTorch version:\", torch.__version__)\n",
        "device = torch.device(\"cuda:0\" if torch.cuda.is_available() else \"cpu\")\n",
        "print(f\"Using device: {device}\")\n",
        "\n",
        "# Seeding for reproducibility\n",
        "seed = 2025\n",
        "torch.manual_seed(seed)\n",
        "torch.cuda.manual_seed(seed)\n",
        "np.random.seed(seed)\n",
        "random.seed(seed)\n",
        "\n",
        "# transforms\n",
        "train_transform = transforms.Compose(\n",
        "    [\n",
        "        transforms.RandomCrop(32, padding=4),\n",
        "        transforms.RandomHorizontalFlip(),\n",
        "        transforms.ToTensor(),\n",
        "        transforms.Normalize((0.4914, 0.4822, 0.4465),\n",
        "                             (0.2023, 0.1994, 0.2010)),\n",
        "    ]\n",
        ")\n",
        "\n",
        "test_transform = transforms.Compose(\n",
        "    [\n",
        "        transforms.ToTensor(),\n",
        "        transforms.Normalize((0.4914, 0.4822, 0.4465),\n",
        "                             (0.2023, 0.1994, 0.2010)),\n",
        "    ]\n",
        ")\n",
        "\n",
        "\n",
        "# load data\n",
        "def load_data(dataset_name=\"cifar100\", batch_size=128, num_workers=2):\n",
        "    \"\"\"Enhanced data loading with stronger augmentation for CIFAR-100\"\"\"\n",
        "\n",
        "    train_transform = transforms.Compose(\n",
        "        [\n",
        "            transforms.RandomCrop(32, padding=4),\n",
        "            transforms.RandomHorizontalFlip(),\n",
        "            transforms.ToTensor(),\n",
        "            transforms.Normalize((0.4914, 0.4822, 0.4465),\n",
        "                                 (0.2023, 0.1994, 0.2010)),\n",
        "        ]\n",
        "    )\n",
        "    test_transform = transforms.Compose(\n",
        "        [\n",
        "            transforms.ToTensor(),\n",
        "            transforms.Normalize((0.4914, 0.4822, 0.4465),\n",
        "                                 (0.2023, 0.1994, 0.2010)),\n",
        "        ]\n",
        "    )\n",
        "\n",
        "    if dataset_name.lower() == \"cifar100\":\n",
        "        train_dataset = CIFAR100(\n",
        "            root=\"./data\", train=True, download=True, transform=train_transform\n",
        "        )\n",
        "        test_dataset = CIFAR100(\n",
        "            root=\"./data\", train=False, download=True, transform=test_transform\n",
        "        )\n",
        "        num_classes = 100\n",
        "    else:\n",
        "        raise ValueError(f\"Dataset {dataset_name} not supported in enhanced version\")\n",
        "\n",
        "    train_loader = DataLoader(\n",
        "        train_dataset,\n",
        "        batch_size=batch_size,\n",
        "        shuffle=True,\n",
        "        num_workers=num_workers,\n",
        "    )\n",
        "    test_loader = DataLoader(\n",
        "        test_dataset,\n",
        "        batch_size=batch_size,\n",
        "        shuffle=False,\n",
        "        num_workers=num_workers,\n",
        "    )\n",
        "    return train_loader, test_loader, num_classes\n",
        "\n",
        "\n",
        "# model - LeNet5 from the paper [11]\n",
        "class LeNet5(nn.Module):\n",
        "    def __init__(self, num_classes=10):\n",
        "        super(LeNet5, self).__init__()\n",
        "        # Input: 3x32x32 (CIFAR has 3 color channels)\n",
        "        self.conv1 = nn.Conv2d(3, 6, kernel_size=5)  # Output: 6x28x28\n",
        "        self.pool1 = nn.MaxPool2d(kernel_size=2, stride=2)  # Output: 6x14x14\n",
        "        self.conv2 = nn.Conv2d(6, 16, kernel_size=5)  # Output: 16x10x10\n",
        "        self.pool2 = nn.MaxPool2d(kernel_size=2, stride=2)  # Output: 16x5x5\n",
        "\n",
        "        # fc layers\n",
        "        self.fc1 = nn.Linear(16 * 5 * 5, 120)\n",
        "        self.fc2 = nn.Linear(120, 84)\n",
        "        self.fc3 = nn.Linear(84, num_classes)\n",
        "\n",
        "    def forward(self, x):\n",
        "        x = self.pool1(F.relu(self.conv1(x)))\n",
        "        x = self.pool2(F.relu(self.conv2(x)))\n",
        "        x = x.view(-1, 16 * 5 * 5)  # flatten\n",
        "        x = F.relu(self.fc1(x))\n",
        "        x = F.relu(self.fc2(x))\n",
        "        x = self.fc3(x)\n",
        "        return x\n",
        "\n",
        "\n",
        "class ImprovedCNN(nn.Module):\n",
        "    def __init__(self, num_classes=100):\n",
        "        super(ImprovedCNN, self).__init__()\n",
        "        # First conv block\n",
        "        self.conv1 = nn.Conv2d(3, 64, kernel_size=5, padding=2)\n",
        "        self.bn1 = nn.BatchNorm2d(64)  # using BatchNorm for better training stability\n",
        "        self.pool1 = nn.MaxPool2d(kernel_size=2, stride=2)\n",
        "\n",
        "        # Second conv block\n",
        "        self.conv2 = nn.Conv2d(64, 64, kernel_size=5, padding=2)\n",
        "        self.bn2 = nn.BatchNorm2d(64)\n",
        "        self.pool2 = nn.MaxPool2d(kernel_size=2, stride=2)\n",
        "\n",
        "        # Fully connected layers\n",
        "        self.fc1 = nn.Linear(64 * 8 * 8, 384)\n",
        "        self.dropout1 = nn.Dropout(0.5)\n",
        "        self.fc2 = nn.Linear(384, 192)\n",
        "        self.dropout2 = nn.Dropout(0.5)\n",
        "        self.fc3 = nn.Linear(192, num_classes)\n",
        "\n",
        "    def forward(self, x):\n",
        "        # First conv block\n",
        "        x = self.pool1(F.relu(self.bn1(self.conv1(x))))\n",
        "        # Second conv block\n",
        "        x = self.pool2(F.relu(self.bn2(self.conv2(x))))\n",
        "        # Flatten and FC\n",
        "        x = x.view(-1, 64 * 8 * 8)\n",
        "        x = F.relu(self.fc1(x))\n",
        "        x = self.dropout1(x)\n",
        "        x = F.relu(self.fc2(x))\n",
        "        x = self.dropout2(x)\n",
        "        x = self.fc3(x)\n",
        "        return x\n",
        "\n",
        "\n",
        "def create_model(model_name, num_classes=100):\n",
        "    if model_name.lower() == \"improved_cnn\":\n",
        "        return ImprovedCNN(num_classes=num_classes)\n",
        "    elif model_name.lower() == \"lenet5\":\n",
        "        return LeNet5(num_classes=num_classes)\n",
        "    else:\n",
        "        raise ValueError(f\"Unknown model: {model_name}\")\n",
        "\n",
        "\n",
        "# train\n",
        "def train_epoch(model, train_loader, criterion, optimizer, device):\n",
        "    model.train()\n",
        "    running_loss = 0.0\n",
        "    correct = 0\n",
        "    total = 0\n",
        "\n",
        "    pbar = tqdm(train_loader, desc=\"Training\")\n",
        "    for inputs, labels in pbar:\n",
        "        inputs, labels = inputs.to(device), labels.to(device)\n",
        "\n",
        "        optimizer.zero_grad()\n",
        "        outputs = model(inputs)\n",
        "        loss = criterion(outputs, labels)\n",
        "        loss.backward()\n",
        "        optimizer.step()\n",
        "\n",
        "        running_loss += loss.item() * inputs.size(0)\n",
        "        _, predicted = outputs.max(1)\n",
        "        total += labels.size(0)\n",
        "        correct += predicted.eq(labels).sum().item()\n",
        "        pbar.set_postfix({\"loss\": running_loss / total,\n",
        "                          \"acc\": 100.0 * correct / total})\n",
        "\n",
        "    train_loss = running_loss / total\n",
        "    train_acc = 100.0 * correct / total\n",
        "    return train_loss, train_acc\n",
        "\n",
        "\n",
        "# eval\n",
        "def evaluate(model, test_loader, criterion, device):\n",
        "    model.eval()\n",
        "    running_loss = 0.0\n",
        "    correct = 0\n",
        "    total = 0\n",
        "\n",
        "    with torch.no_grad():\n",
        "        for inputs, labels in test_loader:\n",
        "            inputs, labels = inputs.to(device), labels.to(device)\n",
        "            outputs = model(inputs)\n",
        "            loss = criterion(outputs, labels)\n",
        "\n",
        "            running_loss += loss.item() * inputs.size(0)\n",
        "            _, predicted = outputs.max(1)\n",
        "            total += labels.size(0)\n",
        "            correct += predicted.eq(labels).sum().item()\n",
        "\n",
        "    test_loss = running_loss / total\n",
        "    test_acc = 100.0 * correct / total\n",
        "    return test_loss, test_acc\n",
        "\n",
        "\n",
        "# train config\n",
        "def train_centralized_model(\n",
        "    model_name=\"improved_cnn\",\n",
        "    dataset_name=\"cifar100\",\n",
        "    batch_size=256,\n",
        "    epochs=100,\n",
        "    lr=0.01,\n",
        "    momentum=0.9,\n",
        "    weight_decay=4e-4,\n",
        "    lr_scheduler=\"lamb\",\n",
        "    save_path=\"improved_cnn_model.pth\",\n",
        "):\n",
        "    # Load data\n",
        "    train_loader, test_loader, num_classes = load_data(\n",
        "        dataset_name=dataset_name, batch_size=batch_size\n",
        "    )\n",
        "\n",
        "    # Create model\n",
        "    model = create_model(model_name, num_classes=num_classes).to(device)\n",
        "\n",
        "    # Print total parameters\n",
        "    total_params = sum(p.numel() for p in model.parameters())\n",
        "    print(f\"Total parameters: {total_params:,}\")\n",
        "\n",
        "    # Loss\n",
        "    criterion = nn.CrossEntropyLoss()\n",
        "\n",
        "    # Linear‐scaling rule for LR\n",
        "    scaled_lr = lr * (batch_size / 256)\n",
        "\n",
        "    # Separate parameters into decay vs. no‐decay groups\n",
        "    decay_params = []\n",
        "    no_decay_params = []\n",
        "    for name, param in model.named_parameters():\n",
        "        if not param.requires_grad:\n",
        "            continue\n",
        "        if param.ndim == 1:\n",
        "            no_decay_params.append(param)\n",
        "        else:\n",
        "            decay_params.append(param)\n",
        "\n",
        "    # ─── Instantiate LAMB ─────────────────────────────────────────────────────────\n",
        "    #\n",
        "    # We set global weight_decay=0.0 because we're handling it per‐group.\n",
        "    #\n",
        "    optimizer = Lamb(\n",
        "        [\n",
        "            {\"params\": decay_params,    \"weight_decay\": weight_decay},\n",
        "            {\"params\": no_decay_params, \"weight_decay\": 0.0}\n",
        "        ],\n",
        "        lr=scaled_lr,\n",
        "        betas=(0.9, 0.999),\n",
        "        eps=1e-6,\n",
        "        weight_decay=0.0  # global default; per-group overrides actual decay\n",
        "    )\n",
        "    # ────────────────────────────────────────────────────────────────────────────────\n",
        "\n",
        "    # Learning‐rate scheduler: warmup + cosine, same as LARS code\n",
        "    if lr_scheduler == \"lamb\":\n",
        "        warmup_epochs = 10\n",
        "\n",
        "        def lr_lambda(epoch):\n",
        "            if epoch < warmup_epochs:\n",
        "                return float(epoch + 1) / float(warmup_epochs)\n",
        "            return 0.5 * (\n",
        "                1.0\n",
        "                + math.cos(\n",
        "                    math.pi * (epoch - warmup_epochs) / (epochs - warmup_epochs)\n",
        "                )\n",
        "            )\n",
        "\n",
        "        scheduler = torch.optim.lr_scheduler.LambdaLR(optimizer, lr_lambda)\n",
        "\n",
        "    elif lr_scheduler == \"step\":\n",
        "        scheduler = torch.optim.lr_scheduler.MultiStepLR(\n",
        "            optimizer,\n",
        "            milestones=[int(epochs * 0.5), int(epochs * 0.75)],\n",
        "            gamma=0.1\n",
        "        )\n",
        "    else:\n",
        "        raise ValueError(f\"Unknown scheduler: {lr_scheduler}\")\n",
        "\n",
        "    # Training history\n",
        "    history = {\n",
        "        \"train_loss\": [],\n",
        "        \"train_acc\": [],\n",
        "        \"test_loss\": [],\n",
        "        \"test_acc\": [],\n",
        "        \"lr\": [],\n",
        "    }\n",
        "\n",
        "    best_acc = 0.0\n",
        "\n",
        "    # Training loop\n",
        "    for epoch in range(epochs):\n",
        "        current_lr = optimizer.param_groups[0][\"lr\"]\n",
        "        print(f\"\\nEpoch [{epoch + 1}/{epochs}] - Learning Rate: {current_lr:.6f}\")\n",
        "\n",
        "        # Train for one epoch\n",
        "        start_time = time.time()\n",
        "        train_loss, train_acc = train_epoch(\n",
        "            model, train_loader, criterion, optimizer, device\n",
        "        )\n",
        "        train_time = time.time() - start_time\n",
        "\n",
        "        # Evaluate\n",
        "        test_loss, test_acc = evaluate(model, test_loader, criterion, device)\n",
        "        scheduler.step()\n",
        "\n",
        "        print(\n",
        "            f\"Train Loss: {train_loss:.4f}, Train Acc: {train_acc:.2f}%, \"\n",
        "            f\"Test Loss: {test_loss:.4f}, Test Acc: {test_acc:.2f}%, \"\n",
        "            f\"Time: {train_time:.2f}s\"\n",
        "        )\n",
        "\n",
        "        if test_acc > best_acc:\n",
        "            best_acc = test_acc\n",
        "            torch.save(\n",
        "                {\n",
        "                    \"epoch\": epoch,\n",
        "                    \"model_state_dict\": model.state_dict(),\n",
        "                    \"optimizer_state_dict\": optimizer.state_dict(),\n",
        "                    \"test_acc\": test_acc,\n",
        "                },\n",
        "                save_path,\n",
        "            )\n",
        "            print(f\"New best model saved with accuracy: {test_acc:.2f}%\")\n",
        "\n",
        "        history[\"train_loss\"].append(train_loss)\n",
        "        history[\"train_acc\"].append(train_acc)\n",
        "        history[\"test_loss\"].append(test_loss)\n",
        "        history[\"test_acc\"].append(test_acc)\n",
        "        history[\"lr\"].append(current_lr)\n",
        "\n",
        "    # Load best model\n",
        "    checkpoint = torch.load(save_path)\n",
        "    model.load_state_dict(checkpoint[\"model_state_dict\"])\n",
        "    print(f\"Best model loaded with accuracy: {checkpoint['test_acc']:.2f}%\")\n",
        "\n",
        "    return model, history\n",
        "\n",
        "\n",
        "# visualization of model performance\n",
        "def plot_training_history(history):\n",
        "    fig, (ax1, ax2, ax3) = plt.subplots(1, 3, figsize=(18, 5))\n",
        "\n",
        "    ax1.plot(history[\"train_loss\"], label=\"Train Loss\")\n",
        "    ax1.plot(history[\"test_loss\"], label=\"Test Loss\")\n",
        "    ax1.set_xlabel(\"Epoch\")\n",
        "    ax1.set_ylabel(\"Loss\")\n",
        "    ax1.legend()\n",
        "    ax1.set_title(\"Loss Curves\")\n",
        "    ax1.grid(True)\n",
        "\n",
        "    ax2.plot(history[\"train_acc\"], label=\"Train Accuracy\")\n",
        "    ax2.plot(history[\"test_acc\"], label=\"Test Accuracy\")\n",
        "    ax2.set_xlabel(\"Epoch\")\n",
        "    ax2.set_ylabel(\"Accuracy (%)\")\n",
        "    ax2.legend()\n",
        "    ax2.set_title(\"Accuracy Curves\")\n",
        "    ax2.grid(True)\n",
        "\n",
        "    ax3.plot(history[\"lr\"])\n",
        "    ax3.set_xlabel(\"Epoch\")\n",
        "    ax3.set_ylabel(\"Learning Rate\")\n",
        "    ax3.set_title(\"Learning Rate Schedule\")\n",
        "    ax3.set_yscale(\"log\")\n",
        "    ax3.grid(True)\n",
        "\n",
        "    plt.tight_layout()\n",
        "    plt.show()\n",
        "\n",
        "\n",
        "# run benchmark\n",
        "def run_centralized_benchmark():\n",
        "    config = {\n",
        "        \"model_name\": \"improved_cnn\",\n",
        "        \"dataset_name\": \"cifar100\",\n",
        "        \"batch_size\": 256,\n",
        "        \"epochs\": 100,\n",
        "        \"lr\": 0.01,\n",
        "        \"momentum\": 0.9,\n",
        "        \"weight_decay\": 4e-4,\n",
        "        \"lr_scheduler\": \"lamb\",\n",
        "        \"save_path\": \"improved_cnn_model_lamb.pth\",\n",
        "    }\n",
        "\n",
        "    print(\n",
        "        f\"Running LAMB benchmark with {config['model_name']} on {config['dataset_name']}...\"\n",
        "    )\n",
        "\n",
        "    model, history = train_centralized_model(**config)\n",
        "    plot_training_history(history)\n",
        "\n",
        "    with open(\"history_lamb.pkl\", \"wb\") as f:\n",
        "        pickle.dump(history, f)\n",
        "\n",
        "    print(\"LAMB benchmark completed!\")\n",
        "    return model, history\n",
        "\n",
        "\n",
        "def main():\n",
        "    model, history = run_centralized_benchmark()\n",
        "    return model, history\n",
        "\n",
        "\n",
        "if __name__ == \"__main__\":\n",
        "    main()\n"
      ],
      "metadata": {
        "colab": {
          "base_uri": "https://localhost:8080/",
          "height": 1000
        },
        "id": "8F8FNuUj0nGV",
        "outputId": "4949b792-8f79-4220-ee0d-7ae1a82023c5"
      },
      "execution_count": 5,
      "outputs": [
        {
          "output_type": "stream",
          "name": "stdout",
          "text": [
            "PyTorch version: 2.6.0+cu124\n",
            "Using device: cuda:0\n",
            "Running LAMB benchmark with improved_cnn on cifar100...\n",
            "Total parameters: 1,774,052\n",
            "\n",
            "Epoch [1/100] - Learning Rate: 0.001000\n"
          ]
        },
        {
          "output_type": "stream",
          "name": "stderr",
          "text": [
            "Training: 100%|██████████| 196/196 [00:21<00:00,  9.20it/s, loss=4.52, acc=2.5]\n"
          ]
        },
        {
          "output_type": "stream",
          "name": "stdout",
          "text": [
            "Train Loss: 4.5190, Train Acc: 2.50%, Test Loss: 4.2834, Test Acc: 6.08%, Time: 21.32s\n",
            "New best model saved with accuracy: 6.08%\n",
            "\n",
            "Epoch [2/100] - Learning Rate: 0.002000\n"
          ]
        },
        {
          "output_type": "stream",
          "name": "stderr",
          "text": [
            "Training: 100%|██████████| 196/196 [00:20<00:00,  9.37it/s, loss=4.19, acc=5.64]\n"
          ]
        },
        {
          "output_type": "stream",
          "name": "stdout",
          "text": [
            "Train Loss: 4.1920, Train Acc: 5.64%, Test Loss: 3.7876, Test Acc: 12.53%, Time: 20.92s\n",
            "New best model saved with accuracy: 12.53%\n",
            "\n",
            "Epoch [3/100] - Learning Rate: 0.003000\n"
          ]
        },
        {
          "output_type": "stream",
          "name": "stderr",
          "text": [
            "Training: 100%|██████████| 196/196 [00:20<00:00,  9.39it/s, loss=3.87, acc=9.43]\n"
          ]
        },
        {
          "output_type": "stream",
          "name": "stdout",
          "text": [
            "Train Loss: 3.8724, Train Acc: 9.43%, Test Loss: 3.4782, Test Acc: 17.62%, Time: 20.87s\n",
            "New best model saved with accuracy: 17.62%\n",
            "\n",
            "Epoch [4/100] - Learning Rate: 0.004000\n"
          ]
        },
        {
          "output_type": "stream",
          "name": "stderr",
          "text": [
            "Training: 100%|██████████| 196/196 [00:20<00:00,  9.77it/s, loss=3.65, acc=12.9]\n"
          ]
        },
        {
          "output_type": "stream",
          "name": "stdout",
          "text": [
            "Train Loss: 3.6529, Train Acc: 12.90%, Test Loss: 3.2642, Test Acc: 21.30%, Time: 20.06s\n",
            "New best model saved with accuracy: 21.30%\n",
            "\n",
            "Epoch [5/100] - Learning Rate: 0.005000\n"
          ]
        },
        {
          "output_type": "stream",
          "name": "stderr",
          "text": [
            "Training: 100%|██████████| 196/196 [00:20<00:00,  9.78it/s, loss=3.47, acc=16.3]\n"
          ]
        },
        {
          "output_type": "stream",
          "name": "stdout",
          "text": [
            "Train Loss: 3.4688, Train Acc: 16.28%, Test Loss: 3.0424, Test Acc: 24.61%, Time: 20.05s\n",
            "New best model saved with accuracy: 24.61%\n",
            "\n",
            "Epoch [6/100] - Learning Rate: 0.006000\n"
          ]
        },
        {
          "output_type": "stream",
          "name": "stderr",
          "text": [
            "Training: 100%|██████████| 196/196 [00:21<00:00,  9.17it/s, loss=3.34, acc=18.2]\n"
          ]
        },
        {
          "output_type": "stream",
          "name": "stdout",
          "text": [
            "Train Loss: 3.3415, Train Acc: 18.21%, Test Loss: 2.9604, Test Acc: 26.01%, Time: 21.37s\n",
            "New best model saved with accuracy: 26.01%\n",
            "\n",
            "Epoch [7/100] - Learning Rate: 0.007000\n"
          ]
        },
        {
          "output_type": "stream",
          "name": "stderr",
          "text": [
            "Training: 100%|██████████| 196/196 [00:20<00:00,  9.46it/s, loss=3.27, acc=19.6]\n"
          ]
        },
        {
          "output_type": "stream",
          "name": "stdout",
          "text": [
            "Train Loss: 3.2689, Train Acc: 19.56%, Test Loss: 2.8722, Test Acc: 27.48%, Time: 20.71s\n",
            "New best model saved with accuracy: 27.48%\n",
            "\n",
            "Epoch [8/100] - Learning Rate: 0.008000\n"
          ]
        },
        {
          "output_type": "stream",
          "name": "stderr",
          "text": [
            "Training: 100%|██████████| 196/196 [00:20<00:00,  9.47it/s, loss=3.22, acc=20.7]\n"
          ]
        },
        {
          "output_type": "stream",
          "name": "stdout",
          "text": [
            "Train Loss: 3.2152, Train Acc: 20.65%, Test Loss: 2.8064, Test Acc: 28.64%, Time: 20.71s\n",
            "New best model saved with accuracy: 28.64%\n",
            "\n",
            "Epoch [9/100] - Learning Rate: 0.009000\n"
          ]
        },
        {
          "output_type": "stream",
          "name": "stderr",
          "text": [
            "Training: 100%|██████████| 196/196 [00:20<00:00,  9.79it/s, loss=3.18, acc=21.2]\n"
          ]
        },
        {
          "output_type": "stream",
          "name": "stdout",
          "text": [
            "Train Loss: 3.1750, Train Acc: 21.23%, Test Loss: 2.8254, Test Acc: 28.65%, Time: 20.03s\n",
            "New best model saved with accuracy: 28.65%\n",
            "\n",
            "Epoch [10/100] - Learning Rate: 0.010000\n"
          ]
        },
        {
          "output_type": "stream",
          "name": "stderr",
          "text": [
            "Training: 100%|██████████| 196/196 [00:19<00:00,  9.82it/s, loss=3.11, acc=22.6]\n"
          ]
        },
        {
          "output_type": "stream",
          "name": "stdout",
          "text": [
            "Train Loss: 3.1070, Train Acc: 22.56%, Test Loss: 2.8758, Test Acc: 28.06%, Time: 19.96s\n",
            "\n",
            "Epoch [11/100] - Learning Rate: 0.010000\n"
          ]
        },
        {
          "output_type": "stream",
          "name": "stderr",
          "text": [
            "Training: 100%|██████████| 196/196 [00:20<00:00,  9.54it/s, loss=3.02, acc=24.4]\n"
          ]
        },
        {
          "output_type": "stream",
          "name": "stdout",
          "text": [
            "Train Loss: 3.0152, Train Acc: 24.39%, Test Loss: 2.6444, Test Acc: 31.87%, Time: 20.54s\n",
            "New best model saved with accuracy: 31.87%\n",
            "\n",
            "Epoch [12/100] - Learning Rate: 0.009997\n"
          ]
        },
        {
          "output_type": "stream",
          "name": "stderr",
          "text": [
            "Training: 100%|██████████| 196/196 [00:20<00:00,  9.68it/s, loss=2.95, acc=25.7]\n"
          ]
        },
        {
          "output_type": "stream",
          "name": "stdout",
          "text": [
            "Train Loss: 2.9501, Train Acc: 25.75%, Test Loss: 2.5626, Test Acc: 34.17%, Time: 20.25s\n",
            "New best model saved with accuracy: 34.17%\n",
            "\n",
            "Epoch [13/100] - Learning Rate: 0.009988\n"
          ]
        },
        {
          "output_type": "stream",
          "name": "stderr",
          "text": [
            "Training: 100%|██████████| 196/196 [00:19<00:00,  9.93it/s, loss=2.89, acc=26.9]\n"
          ]
        },
        {
          "output_type": "stream",
          "name": "stdout",
          "text": [
            "Train Loss: 2.8877, Train Acc: 26.94%, Test Loss: 2.6176, Test Acc: 32.40%, Time: 19.74s\n",
            "\n",
            "Epoch [14/100] - Learning Rate: 0.009973\n"
          ]
        },
        {
          "output_type": "stream",
          "name": "stderr",
          "text": [
            "Training: 100%|██████████| 196/196 [00:21<00:00,  9.19it/s, loss=2.83, acc=28.1]\n"
          ]
        },
        {
          "output_type": "stream",
          "name": "stdout",
          "text": [
            "Train Loss: 2.8329, Train Acc: 28.14%, Test Loss: 2.5129, Test Acc: 34.22%, Time: 21.33s\n",
            "New best model saved with accuracy: 34.22%\n",
            "\n",
            "Epoch [15/100] - Learning Rate: 0.009951\n"
          ]
        },
        {
          "output_type": "stream",
          "name": "stderr",
          "text": [
            "Training: 100%|██████████| 196/196 [00:22<00:00,  8.90it/s, loss=2.79, acc=28.7]\n"
          ]
        },
        {
          "output_type": "stream",
          "name": "stdout",
          "text": [
            "Train Loss: 2.7878, Train Acc: 28.74%, Test Loss: 2.4308, Test Acc: 36.65%, Time: 22.02s\n",
            "New best model saved with accuracy: 36.65%\n",
            "\n",
            "Epoch [16/100] - Learning Rate: 0.009924\n"
          ]
        },
        {
          "output_type": "stream",
          "name": "stderr",
          "text": [
            "Training: 100%|██████████| 196/196 [00:21<00:00,  8.99it/s, loss=2.75, acc=29.6]\n"
          ]
        },
        {
          "output_type": "stream",
          "name": "stdout",
          "text": [
            "Train Loss: 2.7479, Train Acc: 29.56%, Test Loss: 2.4163, Test Acc: 36.57%, Time: 21.81s\n",
            "\n",
            "Epoch [17/100] - Learning Rate: 0.009891\n"
          ]
        },
        {
          "output_type": "stream",
          "name": "stderr",
          "text": [
            "Training: 100%|██████████| 196/196 [00:21<00:00,  9.09it/s, loss=2.71, acc=30.5]\n"
          ]
        },
        {
          "output_type": "stream",
          "name": "stdout",
          "text": [
            "Train Loss: 2.7143, Train Acc: 30.52%, Test Loss: 2.3266, Test Acc: 39.39%, Time: 21.56s\n",
            "New best model saved with accuracy: 39.39%\n",
            "\n",
            "Epoch [18/100] - Learning Rate: 0.009851\n"
          ]
        },
        {
          "output_type": "stream",
          "name": "stderr",
          "text": [
            "Training: 100%|██████████| 196/196 [00:20<00:00,  9.52it/s, loss=2.7, acc=30.7]\n"
          ]
        },
        {
          "output_type": "stream",
          "name": "stdout",
          "text": [
            "Train Loss: 2.6987, Train Acc: 30.72%, Test Loss: 2.2793, Test Acc: 39.78%, Time: 20.58s\n",
            "New best model saved with accuracy: 39.78%\n",
            "\n",
            "Epoch [19/100] - Learning Rate: 0.009806\n"
          ]
        },
        {
          "output_type": "stream",
          "name": "stderr",
          "text": [
            "Training: 100%|██████████| 196/196 [00:20<00:00,  9.59it/s, loss=2.67, acc=31.4]\n"
          ]
        },
        {
          "output_type": "stream",
          "name": "stdout",
          "text": [
            "Train Loss: 2.6672, Train Acc: 31.41%, Test Loss: 2.3214, Test Acc: 39.14%, Time: 20.44s\n",
            "\n",
            "Epoch [20/100] - Learning Rate: 0.009755\n"
          ]
        },
        {
          "output_type": "stream",
          "name": "stderr",
          "text": [
            "Training: 100%|██████████| 196/196 [00:21<00:00,  9.28it/s, loss=2.64, acc=32.2]\n"
          ]
        },
        {
          "output_type": "stream",
          "name": "stdout",
          "text": [
            "Train Loss: 2.6364, Train Acc: 32.16%, Test Loss: 2.2440, Test Acc: 40.39%, Time: 21.14s\n",
            "New best model saved with accuracy: 40.39%\n",
            "\n",
            "Epoch [21/100] - Learning Rate: 0.009698\n"
          ]
        },
        {
          "output_type": "stream",
          "name": "stderr",
          "text": [
            "Training: 100%|██████████| 196/196 [00:21<00:00,  9.11it/s, loss=2.62, acc=32.7]\n"
          ]
        },
        {
          "output_type": "stream",
          "name": "stdout",
          "text": [
            "Train Loss: 2.6150, Train Acc: 32.70%, Test Loss: 2.2060, Test Acc: 41.12%, Time: 21.51s\n",
            "New best model saved with accuracy: 41.12%\n",
            "\n",
            "Epoch [22/100] - Learning Rate: 0.009636\n"
          ]
        },
        {
          "output_type": "stream",
          "name": "stderr",
          "text": [
            "Training: 100%|██████████| 196/196 [00:21<00:00,  8.98it/s, loss=2.59, acc=32.8]\n"
          ]
        },
        {
          "output_type": "stream",
          "name": "stdout",
          "text": [
            "Train Loss: 2.5925, Train Acc: 32.84%, Test Loss: 2.3038, Test Acc: 39.24%, Time: 21.82s\n",
            "\n",
            "Epoch [23/100] - Learning Rate: 0.009568\n"
          ]
        },
        {
          "output_type": "stream",
          "name": "stderr",
          "text": [
            "Training: 100%|██████████| 196/196 [00:20<00:00,  9.47it/s, loss=2.57, acc=33.5]\n"
          ]
        },
        {
          "output_type": "stream",
          "name": "stdout",
          "text": [
            "Train Loss: 2.5688, Train Acc: 33.46%, Test Loss: 2.4006, Test Acc: 38.42%, Time: 20.71s\n",
            "\n",
            "Epoch [24/100] - Learning Rate: 0.009494\n"
          ]
        },
        {
          "output_type": "stream",
          "name": "stderr",
          "text": [
            "Training: 100%|██████████| 196/196 [00:20<00:00,  9.52it/s, loss=2.53, acc=34.2]\n"
          ]
        },
        {
          "output_type": "stream",
          "name": "stdout",
          "text": [
            "Train Loss: 2.5331, Train Acc: 34.18%, Test Loss: 2.1437, Test Acc: 43.08%, Time: 20.58s\n",
            "New best model saved with accuracy: 43.08%\n",
            "\n",
            "Epoch [25/100] - Learning Rate: 0.009415\n"
          ]
        },
        {
          "output_type": "stream",
          "name": "stderr",
          "text": [
            "Training: 100%|██████████| 196/196 [00:21<00:00,  9.29it/s, loss=2.52, acc=34.7]\n"
          ]
        },
        {
          "output_type": "stream",
          "name": "stdout",
          "text": [
            "Train Loss: 2.5173, Train Acc: 34.65%, Test Loss: 2.4587, Test Acc: 36.94%, Time: 21.11s\n",
            "\n",
            "Epoch [26/100] - Learning Rate: 0.009330\n"
          ]
        },
        {
          "output_type": "stream",
          "name": "stderr",
          "text": [
            "Training: 100%|██████████| 196/196 [00:21<00:00,  9.09it/s, loss=2.51, acc=34.9]\n"
          ]
        },
        {
          "output_type": "stream",
          "name": "stdout",
          "text": [
            "Train Loss: 2.5068, Train Acc: 34.86%, Test Loss: 2.3955, Test Acc: 38.04%, Time: 21.56s\n",
            "\n",
            "Epoch [27/100] - Learning Rate: 0.009240\n"
          ]
        },
        {
          "output_type": "stream",
          "name": "stderr",
          "text": [
            "Training: 100%|██████████| 196/196 [00:21<00:00,  9.03it/s, loss=2.49, acc=35.4]\n"
          ]
        },
        {
          "output_type": "stream",
          "name": "stdout",
          "text": [
            "Train Loss: 2.4874, Train Acc: 35.41%, Test Loss: 2.1693, Test Acc: 42.26%, Time: 21.70s\n",
            "\n",
            "Epoch [28/100] - Learning Rate: 0.009145\n"
          ]
        },
        {
          "output_type": "stream",
          "name": "stderr",
          "text": [
            "Training: 100%|██████████| 196/196 [00:19<00:00,  9.89it/s, loss=2.47, acc=35.8]\n"
          ]
        },
        {
          "output_type": "stream",
          "name": "stdout",
          "text": [
            "Train Loss: 2.4663, Train Acc: 35.83%, Test Loss: 2.2084, Test Acc: 41.55%, Time: 19.83s\n",
            "\n",
            "Epoch [29/100] - Learning Rate: 0.009045\n"
          ]
        },
        {
          "output_type": "stream",
          "name": "stderr",
          "text": [
            "Training: 100%|██████████| 196/196 [00:19<00:00,  9.86it/s, loss=2.45, acc=36]\n"
          ]
        },
        {
          "output_type": "stream",
          "name": "stdout",
          "text": [
            "Train Loss: 2.4523, Train Acc: 36.02%, Test Loss: 2.1668, Test Acc: 42.17%, Time: 19.88s\n",
            "\n",
            "Epoch [30/100] - Learning Rate: 0.008940\n"
          ]
        },
        {
          "output_type": "stream",
          "name": "stderr",
          "text": [
            "Training: 100%|██████████| 196/196 [00:20<00:00,  9.57it/s, loss=2.44, acc=36.4]\n"
          ]
        },
        {
          "output_type": "stream",
          "name": "stdout",
          "text": [
            "Train Loss: 2.4381, Train Acc: 36.35%, Test Loss: 2.1219, Test Acc: 43.83%, Time: 20.49s\n",
            "New best model saved with accuracy: 43.83%\n",
            "\n",
            "Epoch [31/100] - Learning Rate: 0.008830\n"
          ]
        },
        {
          "output_type": "stream",
          "name": "stderr",
          "text": [
            "Training: 100%|██████████| 196/196 [00:20<00:00,  9.58it/s, loss=2.41, acc=37]\n"
          ]
        },
        {
          "output_type": "stream",
          "name": "stdout",
          "text": [
            "Train Loss: 2.4135, Train Acc: 36.98%, Test Loss: 2.1849, Test Acc: 42.72%, Time: 20.45s\n",
            "\n",
            "Epoch [32/100] - Learning Rate: 0.008716\n"
          ]
        },
        {
          "output_type": "stream",
          "name": "stderr",
          "text": [
            "Training: 100%|██████████| 196/196 [00:19<00:00, 10.02it/s, loss=2.4, acc=37.5]\n"
          ]
        },
        {
          "output_type": "stream",
          "name": "stdout",
          "text": [
            "Train Loss: 2.4006, Train Acc: 37.51%, Test Loss: 2.0559, Test Acc: 45.23%, Time: 19.57s\n",
            "New best model saved with accuracy: 45.23%\n",
            "\n",
            "Epoch [33/100] - Learning Rate: 0.008597\n"
          ]
        },
        {
          "output_type": "stream",
          "name": "stderr",
          "text": [
            "Training: 100%|██████████| 196/196 [00:19<00:00, 10.08it/s, loss=2.38, acc=37.7]\n"
          ]
        },
        {
          "output_type": "stream",
          "name": "stdout",
          "text": [
            "Train Loss: 2.3819, Train Acc: 37.71%, Test Loss: 2.2022, Test Acc: 42.24%, Time: 19.44s\n",
            "\n",
            "Epoch [34/100] - Learning Rate: 0.008473\n"
          ]
        },
        {
          "output_type": "stream",
          "name": "stderr",
          "text": [
            "Training: 100%|██████████| 196/196 [00:19<00:00,  9.82it/s, loss=2.37, acc=38]\n"
          ]
        },
        {
          "output_type": "stream",
          "name": "stdout",
          "text": [
            "Train Loss: 2.3664, Train Acc: 38.04%, Test Loss: 2.6266, Test Acc: 35.23%, Time: 19.96s\n",
            "\n",
            "Epoch [35/100] - Learning Rate: 0.008346\n"
          ]
        },
        {
          "output_type": "stream",
          "name": "stderr",
          "text": [
            "Training: 100%|██████████| 196/196 [00:20<00:00,  9.62it/s, loss=2.34, acc=38.4]\n"
          ]
        },
        {
          "output_type": "stream",
          "name": "stdout",
          "text": [
            "Train Loss: 2.3412, Train Acc: 38.43%, Test Loss: 2.4995, Test Acc: 37.49%, Time: 20.39s\n",
            "\n",
            "Epoch [36/100] - Learning Rate: 0.008214\n"
          ]
        },
        {
          "output_type": "stream",
          "name": "stderr",
          "text": [
            "Training: 100%|██████████| 196/196 [00:18<00:00, 10.39it/s, loss=2.34, acc=38.3]\n"
          ]
        },
        {
          "output_type": "stream",
          "name": "stdout",
          "text": [
            "Train Loss: 2.3413, Train Acc: 38.29%, Test Loss: 2.1528, Test Acc: 43.24%, Time: 18.87s\n",
            "\n",
            "Epoch [37/100] - Learning Rate: 0.008078\n"
          ]
        },
        {
          "output_type": "stream",
          "name": "stderr",
          "text": [
            "Training: 100%|██████████| 196/196 [00:19<00:00,  9.99it/s, loss=2.33, acc=38.9]\n"
          ]
        },
        {
          "output_type": "stream",
          "name": "stdout",
          "text": [
            "Train Loss: 2.3296, Train Acc: 38.94%, Test Loss: 2.1576, Test Acc: 43.35%, Time: 19.63s\n",
            "\n",
            "Epoch [38/100] - Learning Rate: 0.007939\n"
          ]
        },
        {
          "output_type": "stream",
          "name": "stderr",
          "text": [
            "Training: 100%|██████████| 196/196 [00:19<00:00,  9.84it/s, loss=2.31, acc=39]\n"
          ]
        },
        {
          "output_type": "stream",
          "name": "stdout",
          "text": [
            "Train Loss: 2.3096, Train Acc: 38.99%, Test Loss: 2.3735, Test Acc: 39.39%, Time: 19.93s\n",
            "\n",
            "Epoch [39/100] - Learning Rate: 0.007796\n"
          ]
        },
        {
          "output_type": "stream",
          "name": "stderr",
          "text": [
            "Training: 100%|██████████| 196/196 [00:18<00:00, 10.50it/s, loss=2.3, acc=39.5]\n"
          ]
        },
        {
          "output_type": "stream",
          "name": "stdout",
          "text": [
            "Train Loss: 2.2967, Train Acc: 39.51%, Test Loss: 2.1089, Test Acc: 44.40%, Time: 18.67s\n",
            "\n",
            "Epoch [40/100] - Learning Rate: 0.007650\n"
          ]
        },
        {
          "output_type": "stream",
          "name": "stderr",
          "text": [
            "Training: 100%|██████████| 196/196 [00:19<00:00, 10.13it/s, loss=2.29, acc=39.6]\n"
          ]
        },
        {
          "output_type": "stream",
          "name": "stdout",
          "text": [
            "Train Loss: 2.2936, Train Acc: 39.62%, Test Loss: 1.9770, Test Acc: 47.37%, Time: 19.36s\n",
            "New best model saved with accuracy: 47.37%\n",
            "\n",
            "Epoch [41/100] - Learning Rate: 0.007500\n"
          ]
        },
        {
          "output_type": "stream",
          "name": "stderr",
          "text": [
            "Training: 100%|██████████| 196/196 [00:19<00:00,  9.88it/s, loss=2.27, acc=40.1]\n"
          ]
        },
        {
          "output_type": "stream",
          "name": "stdout",
          "text": [
            "Train Loss: 2.2652, Train Acc: 40.12%, Test Loss: 2.2053, Test Acc: 42.59%, Time: 19.84s\n",
            "\n",
            "Epoch [42/100] - Learning Rate: 0.007347\n"
          ]
        },
        {
          "output_type": "stream",
          "name": "stderr",
          "text": [
            "Training: 100%|██████████| 196/196 [00:19<00:00, 10.27it/s, loss=2.26, acc=40.3]\n"
          ]
        },
        {
          "output_type": "stream",
          "name": "stdout",
          "text": [
            "Train Loss: 2.2613, Train Acc: 40.28%, Test Loss: 1.9424, Test Acc: 48.58%, Time: 19.08s\n",
            "New best model saved with accuracy: 48.58%\n",
            "\n",
            "Epoch [43/100] - Learning Rate: 0.007192\n"
          ]
        },
        {
          "output_type": "stream",
          "name": "stderr",
          "text": [
            "Training: 100%|██████████| 196/196 [00:19<00:00, 10.31it/s, loss=2.24, acc=40.7]\n"
          ]
        },
        {
          "output_type": "stream",
          "name": "stdout",
          "text": [
            "Train Loss: 2.2450, Train Acc: 40.68%, Test Loss: 2.0251, Test Acc: 45.95%, Time: 19.02s\n",
            "\n",
            "Epoch [44/100] - Learning Rate: 0.007034\n"
          ]
        },
        {
          "output_type": "stream",
          "name": "stderr",
          "text": [
            "Training: 100%|██████████| 196/196 [00:20<00:00,  9.75it/s, loss=2.23, acc=40.6]\n"
          ]
        },
        {
          "output_type": "stream",
          "name": "stdout",
          "text": [
            "Train Loss: 2.2329, Train Acc: 40.65%, Test Loss: 1.9891, Test Acc: 47.03%, Time: 20.10s\n",
            "\n",
            "Epoch [45/100] - Learning Rate: 0.006873\n"
          ]
        },
        {
          "output_type": "stream",
          "name": "stderr",
          "text": [
            "Training: 100%|██████████| 196/196 [00:19<00:00, 10.09it/s, loss=2.21, acc=41.3]\n"
          ]
        },
        {
          "output_type": "stream",
          "name": "stdout",
          "text": [
            "Train Loss: 2.2150, Train Acc: 41.25%, Test Loss: 1.9159, Test Acc: 48.56%, Time: 19.43s\n",
            "\n",
            "Epoch [46/100] - Learning Rate: 0.006710\n"
          ]
        },
        {
          "output_type": "stream",
          "name": "stderr",
          "text": [
            "Training: 100%|██████████| 196/196 [00:18<00:00, 10.41it/s, loss=2.21, acc=41.4]\n"
          ]
        },
        {
          "output_type": "stream",
          "name": "stdout",
          "text": [
            "Train Loss: 2.2066, Train Acc: 41.42%, Test Loss: 1.9145, Test Acc: 48.82%, Time: 18.83s\n",
            "New best model saved with accuracy: 48.82%\n",
            "\n",
            "Epoch [47/100] - Learning Rate: 0.006545\n"
          ]
        },
        {
          "output_type": "stream",
          "name": "stderr",
          "text": [
            "Training: 100%|██████████| 196/196 [00:20<00:00,  9.75it/s, loss=2.19, acc=41.8]\n"
          ]
        },
        {
          "output_type": "stream",
          "name": "stdout",
          "text": [
            "Train Loss: 2.1947, Train Acc: 41.79%, Test Loss: 2.1204, Test Acc: 44.66%, Time: 20.11s\n",
            "\n",
            "Epoch [48/100] - Learning Rate: 0.006378\n"
          ]
        },
        {
          "output_type": "stream",
          "name": "stderr",
          "text": [
            "Training: 100%|██████████| 196/196 [00:20<00:00,  9.79it/s, loss=2.18, acc=42.1]\n"
          ]
        },
        {
          "output_type": "stream",
          "name": "stdout",
          "text": [
            "Train Loss: 2.1761, Train Acc: 42.12%, Test Loss: 1.9286, Test Acc: 48.37%, Time: 20.02s\n",
            "\n",
            "Epoch [49/100] - Learning Rate: 0.006210\n"
          ]
        },
        {
          "output_type": "stream",
          "name": "stderr",
          "text": [
            "Training: 100%|██████████| 196/196 [00:19<00:00, 10.31it/s, loss=2.17, acc=42.2]\n"
          ]
        },
        {
          "output_type": "stream",
          "name": "stdout",
          "text": [
            "Train Loss: 2.1729, Train Acc: 42.18%, Test Loss: 1.9890, Test Acc: 46.97%, Time: 19.01s\n",
            "\n",
            "Epoch [50/100] - Learning Rate: 0.006040\n"
          ]
        },
        {
          "output_type": "stream",
          "name": "stderr",
          "text": [
            "Training: 100%|██████████| 196/196 [00:19<00:00,  9.93it/s, loss=2.17, acc=42.8]\n"
          ]
        },
        {
          "output_type": "stream",
          "name": "stdout",
          "text": [
            "Train Loss: 2.1660, Train Acc: 42.79%, Test Loss: 1.8862, Test Acc: 49.50%, Time: 19.74s\n",
            "New best model saved with accuracy: 49.50%\n",
            "\n",
            "Epoch [51/100] - Learning Rate: 0.005868\n"
          ]
        },
        {
          "output_type": "stream",
          "name": "stderr",
          "text": [
            "Training: 100%|██████████| 196/196 [00:20<00:00,  9.69it/s, loss=2.13, acc=43.1]\n"
          ]
        },
        {
          "output_type": "stream",
          "name": "stdout",
          "text": [
            "Train Loss: 2.1323, Train Acc: 43.08%, Test Loss: 1.8874, Test Acc: 49.64%, Time: 20.22s\n",
            "New best model saved with accuracy: 49.64%\n",
            "\n",
            "Epoch [52/100] - Learning Rate: 0.005696\n"
          ]
        },
        {
          "output_type": "stream",
          "name": "stderr",
          "text": [
            "Training: 100%|██████████| 196/196 [00:19<00:00, 10.12it/s, loss=2.14, acc=42.9]\n"
          ]
        },
        {
          "output_type": "stream",
          "name": "stdout",
          "text": [
            "Train Loss: 2.1354, Train Acc: 42.91%, Test Loss: 1.9078, Test Acc: 48.89%, Time: 19.37s\n",
            "\n",
            "Epoch [53/100] - Learning Rate: 0.005523\n"
          ]
        },
        {
          "output_type": "stream",
          "name": "stderr",
          "text": [
            "Training: 100%|██████████| 196/196 [00:19<00:00, 10.05it/s, loss=2.12, acc=43]\n"
          ]
        },
        {
          "output_type": "stream",
          "name": "stdout",
          "text": [
            "Train Loss: 2.1226, Train Acc: 43.02%, Test Loss: 1.9571, Test Acc: 47.97%, Time: 19.51s\n",
            "\n",
            "Epoch [54/100] - Learning Rate: 0.005349\n"
          ]
        },
        {
          "output_type": "stream",
          "name": "stderr",
          "text": [
            "Training: 100%|██████████| 196/196 [00:20<00:00,  9.54it/s, loss=2.1, acc=43.5]\n"
          ]
        },
        {
          "output_type": "stream",
          "name": "stdout",
          "text": [
            "Train Loss: 2.0980, Train Acc: 43.51%, Test Loss: 1.8462, Test Acc: 50.51%, Time: 20.54s\n",
            "New best model saved with accuracy: 50.51%\n",
            "\n",
            "Epoch [55/100] - Learning Rate: 0.005174\n"
          ]
        },
        {
          "output_type": "stream",
          "name": "stderr",
          "text": [
            "Training: 100%|██████████| 196/196 [00:20<00:00,  9.72it/s, loss=2.09, acc=43.9]\n"
          ]
        },
        {
          "output_type": "stream",
          "name": "stdout",
          "text": [
            "Train Loss: 2.0942, Train Acc: 43.90%, Test Loss: 1.8473, Test Acc: 50.39%, Time: 20.17s\n",
            "\n",
            "Epoch [56/100] - Learning Rate: 0.005000\n"
          ]
        },
        {
          "output_type": "stream",
          "name": "stderr",
          "text": [
            "Training: 100%|██████████| 196/196 [00:19<00:00, 10.24it/s, loss=2.07, acc=44.5]\n"
          ]
        },
        {
          "output_type": "stream",
          "name": "stdout",
          "text": [
            "Train Loss: 2.0714, Train Acc: 44.46%, Test Loss: 1.8216, Test Acc: 50.45%, Time: 19.15s\n",
            "\n",
            "Epoch [57/100] - Learning Rate: 0.004826\n"
          ]
        },
        {
          "output_type": "stream",
          "name": "stderr",
          "text": [
            "Training: 100%|██████████| 196/196 [00:19<00:00, 10.29it/s, loss=2.07, acc=44.2]\n"
          ]
        },
        {
          "output_type": "stream",
          "name": "stdout",
          "text": [
            "Train Loss: 2.0700, Train Acc: 44.22%, Test Loss: 1.8171, Test Acc: 50.76%, Time: 19.06s\n",
            "New best model saved with accuracy: 50.76%\n",
            "\n",
            "Epoch [58/100] - Learning Rate: 0.004651\n"
          ]
        },
        {
          "output_type": "stream",
          "name": "stderr",
          "text": [
            "Training: 100%|██████████| 196/196 [00:20<00:00,  9.68it/s, loss=2.05, acc=44.8]\n"
          ]
        },
        {
          "output_type": "stream",
          "name": "stdout",
          "text": [
            "Train Loss: 2.0537, Train Acc: 44.82%, Test Loss: 2.0259, Test Acc: 46.30%, Time: 20.26s\n",
            "\n",
            "Epoch [59/100] - Learning Rate: 0.004477\n"
          ]
        },
        {
          "output_type": "stream",
          "name": "stderr",
          "text": [
            "Training: 100%|██████████| 196/196 [00:20<00:00,  9.66it/s, loss=2.04, acc=45]\n"
          ]
        },
        {
          "output_type": "stream",
          "name": "stdout",
          "text": [
            "Train Loss: 2.0355, Train Acc: 44.99%, Test Loss: 1.8129, Test Acc: 50.70%, Time: 20.29s\n",
            "\n",
            "Epoch [60/100] - Learning Rate: 0.004304\n"
          ]
        },
        {
          "output_type": "stream",
          "name": "stderr",
          "text": [
            "Training: 100%|██████████| 196/196 [00:19<00:00, 10.16it/s, loss=2.04, acc=45]\n"
          ]
        },
        {
          "output_type": "stream",
          "name": "stdout",
          "text": [
            "Train Loss: 2.0416, Train Acc: 45.02%, Test Loss: 1.7959, Test Acc: 51.32%, Time: 19.30s\n",
            "New best model saved with accuracy: 51.32%\n",
            "\n",
            "Epoch [61/100] - Learning Rate: 0.004132\n"
          ]
        },
        {
          "output_type": "stream",
          "name": "stderr",
          "text": [
            "Training: 100%|██████████| 196/196 [00:20<00:00,  9.63it/s, loss=2.03, acc=45.4]\n"
          ]
        },
        {
          "output_type": "stream",
          "name": "stdout",
          "text": [
            "Train Loss: 2.0285, Train Acc: 45.37%, Test Loss: 1.8458, Test Acc: 50.29%, Time: 20.37s\n",
            "\n",
            "Epoch [62/100] - Learning Rate: 0.003960\n"
          ]
        },
        {
          "output_type": "stream",
          "name": "stderr",
          "text": [
            "Training: 100%|██████████| 196/196 [00:20<00:00,  9.55it/s, loss=2.01, acc=45.9]\n"
          ]
        },
        {
          "output_type": "stream",
          "name": "stdout",
          "text": [
            "Train Loss: 2.0120, Train Acc: 45.95%, Test Loss: 1.7727, Test Acc: 51.52%, Time: 20.53s\n",
            "New best model saved with accuracy: 51.52%\n",
            "\n",
            "Epoch [63/100] - Learning Rate: 0.003790\n"
          ]
        },
        {
          "output_type": "stream",
          "name": "stderr",
          "text": [
            "Training: 100%|██████████| 196/196 [00:20<00:00,  9.68it/s, loss=2, acc=45.9]\n"
          ]
        },
        {
          "output_type": "stream",
          "name": "stdout",
          "text": [
            "Train Loss: 2.0024, Train Acc: 45.86%, Test Loss: 1.8610, Test Acc: 50.20%, Time: 20.26s\n",
            "\n",
            "Epoch [64/100] - Learning Rate: 0.003622\n"
          ]
        },
        {
          "output_type": "stream",
          "name": "stderr",
          "text": [
            "Training: 100%|██████████| 196/196 [00:19<00:00, 10.22it/s, loss=2, acc=46.1]\n"
          ]
        },
        {
          "output_type": "stream",
          "name": "stdout",
          "text": [
            "Train Loss: 1.9961, Train Acc: 46.13%, Test Loss: 1.7663, Test Acc: 51.93%, Time: 19.18s\n",
            "New best model saved with accuracy: 51.93%\n",
            "\n",
            "Epoch [65/100] - Learning Rate: 0.003455\n"
          ]
        },
        {
          "output_type": "stream",
          "name": "stderr",
          "text": [
            "Training: 100%|██████████| 196/196 [00:20<00:00,  9.56it/s, loss=1.99, acc=46.2]\n"
          ]
        },
        {
          "output_type": "stream",
          "name": "stdout",
          "text": [
            "Train Loss: 1.9873, Train Acc: 46.23%, Test Loss: 1.7828, Test Acc: 51.58%, Time: 20.50s\n",
            "\n",
            "Epoch [66/100] - Learning Rate: 0.003290\n"
          ]
        },
        {
          "output_type": "stream",
          "name": "stderr",
          "text": [
            "Training: 100%|██████████| 196/196 [00:19<00:00,  9.85it/s, loss=1.97, acc=46.4]\n"
          ]
        },
        {
          "output_type": "stream",
          "name": "stdout",
          "text": [
            "Train Loss: 1.9743, Train Acc: 46.43%, Test Loss: 1.7681, Test Acc: 51.94%, Time: 19.90s\n",
            "New best model saved with accuracy: 51.94%\n",
            "\n",
            "Epoch [67/100] - Learning Rate: 0.003127\n"
          ]
        },
        {
          "output_type": "stream",
          "name": "stderr",
          "text": [
            "Training: 100%|██████████| 196/196 [00:19<00:00, 10.16it/s, loss=1.97, acc=46.8]\n"
          ]
        },
        {
          "output_type": "stream",
          "name": "stdout",
          "text": [
            "Train Loss: 1.9720, Train Acc: 46.84%, Test Loss: 1.7634, Test Acc: 52.17%, Time: 19.29s\n",
            "New best model saved with accuracy: 52.17%\n",
            "\n",
            "Epoch [68/100] - Learning Rate: 0.002966\n"
          ]
        },
        {
          "output_type": "stream",
          "name": "stderr",
          "text": [
            "Training: 100%|██████████| 196/196 [00:19<00:00, 10.23it/s, loss=1.96, acc=46.9]\n"
          ]
        },
        {
          "output_type": "stream",
          "name": "stdout",
          "text": [
            "Train Loss: 1.9559, Train Acc: 46.91%, Test Loss: 1.7443, Test Acc: 52.44%, Time: 19.17s\n",
            "New best model saved with accuracy: 52.44%\n",
            "\n",
            "Epoch [69/100] - Learning Rate: 0.002808\n"
          ]
        },
        {
          "output_type": "stream",
          "name": "stderr",
          "text": [
            "Training: 100%|██████████| 196/196 [00:19<00:00,  9.84it/s, loss=1.95, acc=47.3]\n"
          ]
        },
        {
          "output_type": "stream",
          "name": "stdout",
          "text": [
            "Train Loss: 1.9501, Train Acc: 47.26%, Test Loss: 1.7481, Test Acc: 52.69%, Time: 19.92s\n",
            "New best model saved with accuracy: 52.69%\n",
            "\n",
            "Epoch [70/100] - Learning Rate: 0.002653\n"
          ]
        },
        {
          "output_type": "stream",
          "name": "stderr",
          "text": [
            "Training: 100%|██████████| 196/196 [00:19<00:00, 10.09it/s, loss=1.93, acc=47.2]\n"
          ]
        },
        {
          "output_type": "stream",
          "name": "stdout",
          "text": [
            "Train Loss: 1.9327, Train Acc: 47.25%, Test Loss: 1.7601, Test Acc: 52.58%, Time: 19.43s\n",
            "\n",
            "Epoch [71/100] - Learning Rate: 0.002500\n"
          ]
        },
        {
          "output_type": "stream",
          "name": "stderr",
          "text": [
            "Training: 100%|██████████| 196/196 [00:19<00:00, 10.28it/s, loss=1.94, acc=47.1]\n"
          ]
        },
        {
          "output_type": "stream",
          "name": "stdout",
          "text": [
            "Train Loss: 1.9361, Train Acc: 47.13%, Test Loss: 1.7390, Test Acc: 52.60%, Time: 19.06s\n",
            "\n",
            "Epoch [72/100] - Learning Rate: 0.002350\n"
          ]
        },
        {
          "output_type": "stream",
          "name": "stderr",
          "text": [
            "Training: 100%|██████████| 196/196 [00:20<00:00,  9.78it/s, loss=1.93, acc=47.4]\n"
          ]
        },
        {
          "output_type": "stream",
          "name": "stdout",
          "text": [
            "Train Loss: 1.9288, Train Acc: 47.44%, Test Loss: 1.7249, Test Acc: 52.91%, Time: 20.05s\n",
            "New best model saved with accuracy: 52.91%\n",
            "\n",
            "Epoch [73/100] - Learning Rate: 0.002204\n"
          ]
        },
        {
          "output_type": "stream",
          "name": "stderr",
          "text": [
            "Training: 100%|██████████| 196/196 [00:19<00:00,  9.85it/s, loss=1.92, acc=47.7]\n"
          ]
        },
        {
          "output_type": "stream",
          "name": "stdout",
          "text": [
            "Train Loss: 1.9224, Train Acc: 47.74%, Test Loss: 1.7340, Test Acc: 52.85%, Time: 19.90s\n",
            "\n",
            "Epoch [74/100] - Learning Rate: 0.002061\n"
          ]
        },
        {
          "output_type": "stream",
          "name": "stderr",
          "text": [
            "Training: 100%|██████████| 196/196 [00:19<00:00, 10.09it/s, loss=1.91, acc=47.9]\n"
          ]
        },
        {
          "output_type": "stream",
          "name": "stdout",
          "text": [
            "Train Loss: 1.9082, Train Acc: 47.86%, Test Loss: 1.7366, Test Acc: 52.75%, Time: 19.43s\n",
            "\n",
            "Epoch [75/100] - Learning Rate: 0.001922\n"
          ]
        },
        {
          "output_type": "stream",
          "name": "stderr",
          "text": [
            "Training: 100%|██████████| 196/196 [00:19<00:00,  9.86it/s, loss=1.89, acc=48.3]\n"
          ]
        },
        {
          "output_type": "stream",
          "name": "stdout",
          "text": [
            "Train Loss: 1.8892, Train Acc: 48.29%, Test Loss: 1.7321, Test Acc: 52.72%, Time: 19.88s\n",
            "\n",
            "Epoch [76/100] - Learning Rate: 0.001786\n"
          ]
        },
        {
          "output_type": "stream",
          "name": "stderr",
          "text": [
            "Training: 100%|██████████| 196/196 [00:20<00:00,  9.69it/s, loss=1.89, acc=48.4]\n"
          ]
        },
        {
          "output_type": "stream",
          "name": "stdout",
          "text": [
            "Train Loss: 1.8930, Train Acc: 48.40%, Test Loss: 1.7168, Test Acc: 53.15%, Time: 20.23s\n",
            "New best model saved with accuracy: 53.15%\n",
            "\n",
            "Epoch [77/100] - Learning Rate: 0.001654\n"
          ]
        },
        {
          "output_type": "stream",
          "name": "stderr",
          "text": [
            "Training: 100%|██████████| 196/196 [00:19<00:00, 10.27it/s, loss=1.89, acc=48.6]\n"
          ]
        },
        {
          "output_type": "stream",
          "name": "stdout",
          "text": [
            "Train Loss: 1.8857, Train Acc: 48.63%, Test Loss: 1.7138, Test Acc: 52.94%, Time: 19.10s\n",
            "\n",
            "Epoch [78/100] - Learning Rate: 0.001527\n"
          ]
        },
        {
          "output_type": "stream",
          "name": "stderr",
          "text": [
            "Training: 100%|██████████| 196/196 [00:19<00:00, 10.18it/s, loss=1.87, acc=48.6]\n"
          ]
        },
        {
          "output_type": "stream",
          "name": "stdout",
          "text": [
            "Train Loss: 1.8716, Train Acc: 48.62%, Test Loss: 1.7056, Test Acc: 53.41%, Time: 19.25s\n",
            "New best model saved with accuracy: 53.41%\n",
            "\n",
            "Epoch [79/100] - Learning Rate: 0.001403\n"
          ]
        },
        {
          "output_type": "stream",
          "name": "stderr",
          "text": [
            "Training: 100%|██████████| 196/196 [00:20<00:00,  9.53it/s, loss=1.87, acc=48.8]\n"
          ]
        },
        {
          "output_type": "stream",
          "name": "stdout",
          "text": [
            "Train Loss: 1.8694, Train Acc: 48.83%, Test Loss: 1.7007, Test Acc: 53.83%, Time: 20.57s\n",
            "New best model saved with accuracy: 53.83%\n",
            "\n",
            "Epoch [80/100] - Learning Rate: 0.001284\n"
          ]
        },
        {
          "output_type": "stream",
          "name": "stderr",
          "text": [
            "Training: 100%|██████████| 196/196 [00:20<00:00,  9.60it/s, loss=1.87, acc=48.9]\n"
          ]
        },
        {
          "output_type": "stream",
          "name": "stdout",
          "text": [
            "Train Loss: 1.8734, Train Acc: 48.91%, Test Loss: 1.6998, Test Acc: 53.29%, Time: 20.42s\n",
            "\n",
            "Epoch [81/100] - Learning Rate: 0.001170\n"
          ]
        },
        {
          "output_type": "stream",
          "name": "stderr",
          "text": [
            "Training: 100%|██████████| 196/196 [00:19<00:00, 10.23it/s, loss=1.85, acc=49.2]\n"
          ]
        },
        {
          "output_type": "stream",
          "name": "stdout",
          "text": [
            "Train Loss: 1.8531, Train Acc: 49.16%, Test Loss: 1.6937, Test Acc: 53.31%, Time: 19.16s\n",
            "\n",
            "Epoch [82/100] - Learning Rate: 0.001060\n"
          ]
        },
        {
          "output_type": "stream",
          "name": "stderr",
          "text": [
            "Training: 100%|██████████| 196/196 [00:20<00:00,  9.79it/s, loss=1.86, acc=49.1]\n"
          ]
        },
        {
          "output_type": "stream",
          "name": "stdout",
          "text": [
            "Train Loss: 1.8596, Train Acc: 49.07%, Test Loss: 1.6919, Test Acc: 53.71%, Time: 20.04s\n",
            "\n",
            "Epoch [83/100] - Learning Rate: 0.000955\n"
          ]
        },
        {
          "output_type": "stream",
          "name": "stderr",
          "text": [
            "Training: 100%|██████████| 196/196 [00:20<00:00,  9.60it/s, loss=1.85, acc=49.6]\n"
          ]
        },
        {
          "output_type": "stream",
          "name": "stdout",
          "text": [
            "Train Loss: 1.8491, Train Acc: 49.62%, Test Loss: 1.6932, Test Acc: 54.04%, Time: 20.42s\n",
            "New best model saved with accuracy: 54.04%\n",
            "\n",
            "Epoch [84/100] - Learning Rate: 0.000855\n"
          ]
        },
        {
          "output_type": "stream",
          "name": "stderr",
          "text": [
            "Training: 100%|██████████| 196/196 [00:20<00:00,  9.78it/s, loss=1.84, acc=49.4]\n"
          ]
        },
        {
          "output_type": "stream",
          "name": "stdout",
          "text": [
            "Train Loss: 1.8439, Train Acc: 49.37%, Test Loss: 1.6845, Test Acc: 54.01%, Time: 20.05s\n",
            "\n",
            "Epoch [85/100] - Learning Rate: 0.000760\n"
          ]
        },
        {
          "output_type": "stream",
          "name": "stderr",
          "text": [
            "Training: 100%|██████████| 196/196 [00:19<00:00, 10.18it/s, loss=1.84, acc=49.9]\n"
          ]
        },
        {
          "output_type": "stream",
          "name": "stdout",
          "text": [
            "Train Loss: 1.8378, Train Acc: 49.85%, Test Loss: 1.6875, Test Acc: 54.02%, Time: 19.26s\n",
            "\n",
            "Epoch [86/100] - Learning Rate: 0.000670\n"
          ]
        },
        {
          "output_type": "stream",
          "name": "stderr",
          "text": [
            "Training: 100%|██████████| 196/196 [00:20<00:00,  9.69it/s, loss=1.85, acc=49.4]\n"
          ]
        },
        {
          "output_type": "stream",
          "name": "stdout",
          "text": [
            "Train Loss: 1.8465, Train Acc: 49.45%, Test Loss: 1.6845, Test Acc: 53.82%, Time: 20.24s\n",
            "\n",
            "Epoch [87/100] - Learning Rate: 0.000585\n"
          ]
        },
        {
          "output_type": "stream",
          "name": "stderr",
          "text": [
            "Training: 100%|██████████| 196/196 [00:20<00:00,  9.76it/s, loss=1.84, acc=49.5]\n"
          ]
        },
        {
          "output_type": "stream",
          "name": "stdout",
          "text": [
            "Train Loss: 1.8373, Train Acc: 49.55%, Test Loss: 1.6812, Test Acc: 54.06%, Time: 20.08s\n",
            "New best model saved with accuracy: 54.06%\n",
            "\n",
            "Epoch [88/100] - Learning Rate: 0.000506\n"
          ]
        },
        {
          "output_type": "stream",
          "name": "stderr",
          "text": [
            "Training: 100%|██████████| 196/196 [00:19<00:00, 10.19it/s, loss=1.84, acc=49.4]\n"
          ]
        },
        {
          "output_type": "stream",
          "name": "stdout",
          "text": [
            "Train Loss: 1.8368, Train Acc: 49.42%, Test Loss: 1.6807, Test Acc: 53.75%, Time: 19.24s\n",
            "\n",
            "Epoch [89/100] - Learning Rate: 0.000432\n"
          ]
        },
        {
          "output_type": "stream",
          "name": "stderr",
          "text": [
            "Training: 100%|██████████| 196/196 [00:19<00:00, 10.28it/s, loss=1.83, acc=50.2]\n"
          ]
        },
        {
          "output_type": "stream",
          "name": "stdout",
          "text": [
            "Train Loss: 1.8261, Train Acc: 50.24%, Test Loss: 1.6780, Test Acc: 53.96%, Time: 19.07s\n",
            "\n",
            "Epoch [90/100] - Learning Rate: 0.000364\n"
          ]
        },
        {
          "output_type": "stream",
          "name": "stderr",
          "text": [
            "Training: 100%|██████████| 196/196 [00:20<00:00,  9.71it/s, loss=1.83, acc=49.9]\n"
          ]
        },
        {
          "output_type": "stream",
          "name": "stdout",
          "text": [
            "Train Loss: 1.8262, Train Acc: 49.95%, Test Loss: 1.6751, Test Acc: 54.01%, Time: 20.18s\n",
            "\n",
            "Epoch [91/100] - Learning Rate: 0.000302\n"
          ]
        },
        {
          "output_type": "stream",
          "name": "stderr",
          "text": [
            "Training: 100%|██████████| 196/196 [00:19<00:00,  9.83it/s, loss=1.82, acc=50.2]\n"
          ]
        },
        {
          "output_type": "stream",
          "name": "stdout",
          "text": [
            "Train Loss: 1.8151, Train Acc: 50.18%, Test Loss: 1.6725, Test Acc: 53.98%, Time: 19.95s\n",
            "\n",
            "Epoch [92/100] - Learning Rate: 0.000245\n"
          ]
        },
        {
          "output_type": "stream",
          "name": "stderr",
          "text": [
            "Training: 100%|██████████| 196/196 [00:19<00:00, 10.22it/s, loss=1.82, acc=50]\n"
          ]
        },
        {
          "output_type": "stream",
          "name": "stdout",
          "text": [
            "Train Loss: 1.8178, Train Acc: 50.03%, Test Loss: 1.6717, Test Acc: 54.00%, Time: 19.19s\n",
            "\n",
            "Epoch [93/100] - Learning Rate: 0.000194\n"
          ]
        },
        {
          "output_type": "stream",
          "name": "stderr",
          "text": [
            "Training: 100%|██████████| 196/196 [00:19<00:00,  9.95it/s, loss=1.82, acc=49.8]\n"
          ]
        },
        {
          "output_type": "stream",
          "name": "stdout",
          "text": [
            "Train Loss: 1.8235, Train Acc: 49.84%, Test Loss: 1.6735, Test Acc: 54.22%, Time: 19.70s\n",
            "New best model saved with accuracy: 54.22%\n",
            "\n",
            "Epoch [94/100] - Learning Rate: 0.000149\n"
          ]
        },
        {
          "output_type": "stream",
          "name": "stderr",
          "text": [
            "Training: 100%|██████████| 196/196 [00:20<00:00,  9.71it/s, loss=1.82, acc=49.8]\n"
          ]
        },
        {
          "output_type": "stream",
          "name": "stdout",
          "text": [
            "Train Loss: 1.8238, Train Acc: 49.76%, Test Loss: 1.6710, Test Acc: 54.06%, Time: 20.18s\n",
            "\n",
            "Epoch [95/100] - Learning Rate: 0.000109\n"
          ]
        },
        {
          "output_type": "stream",
          "name": "stderr",
          "text": [
            "Training: 100%|██████████| 196/196 [00:19<00:00, 10.29it/s, loss=1.82, acc=50]\n"
          ]
        },
        {
          "output_type": "stream",
          "name": "stdout",
          "text": [
            "Train Loss: 1.8186, Train Acc: 49.99%, Test Loss: 1.6709, Test Acc: 54.19%, Time: 19.05s\n",
            "\n",
            "Epoch [96/100] - Learning Rate: 0.000076\n"
          ]
        },
        {
          "output_type": "stream",
          "name": "stderr",
          "text": [
            "Training: 100%|██████████| 196/196 [00:19<00:00, 10.07it/s, loss=1.81, acc=50]\n"
          ]
        },
        {
          "output_type": "stream",
          "name": "stdout",
          "text": [
            "Train Loss: 1.8148, Train Acc: 50.04%, Test Loss: 1.6693, Test Acc: 54.11%, Time: 19.47s\n",
            "\n",
            "Epoch [97/100] - Learning Rate: 0.000049\n"
          ]
        },
        {
          "output_type": "stream",
          "name": "stderr",
          "text": [
            "Training: 100%|██████████| 196/196 [00:20<00:00,  9.64it/s, loss=1.81, acc=49.8]\n"
          ]
        },
        {
          "output_type": "stream",
          "name": "stdout",
          "text": [
            "Train Loss: 1.8072, Train Acc: 49.83%, Test Loss: 1.6683, Test Acc: 54.13%, Time: 20.33s\n",
            "\n",
            "Epoch [98/100] - Learning Rate: 0.000027\n"
          ]
        },
        {
          "output_type": "stream",
          "name": "stderr",
          "text": [
            "Training: 100%|██████████| 196/196 [00:20<00:00,  9.62it/s, loss=1.81, acc=50.2]\n"
          ]
        },
        {
          "output_type": "stream",
          "name": "stdout",
          "text": [
            "Train Loss: 1.8053, Train Acc: 50.23%, Test Loss: 1.6705, Test Acc: 54.22%, Time: 20.37s\n",
            "\n",
            "Epoch [99/100] - Learning Rate: 0.000012\n"
          ]
        },
        {
          "output_type": "stream",
          "name": "stderr",
          "text": [
            "Training: 100%|██████████| 196/196 [00:19<00:00, 10.01it/s, loss=1.82, acc=49.8]\n"
          ]
        },
        {
          "output_type": "stream",
          "name": "stdout",
          "text": [
            "Train Loss: 1.8190, Train Acc: 49.84%, Test Loss: 1.6704, Test Acc: 54.09%, Time: 19.59s\n",
            "\n",
            "Epoch [100/100] - Learning Rate: 0.000003\n"
          ]
        },
        {
          "output_type": "stream",
          "name": "stderr",
          "text": [
            "Training: 100%|██████████| 196/196 [00:19<00:00,  9.82it/s, loss=1.81, acc=50.2]\n"
          ]
        },
        {
          "output_type": "stream",
          "name": "stdout",
          "text": [
            "Train Loss: 1.8133, Train Acc: 50.22%, Test Loss: 1.6674, Test Acc: 54.22%, Time: 19.97s\n",
            "Best model loaded with accuracy: 54.22%\n"
          ]
        },
        {
          "output_type": "display_data",
          "data": {
            "text/plain": [
              "<Figure size 1800x500 with 3 Axes>"
            ],
            "image/png": "[encoded data removed]"
          },
          "metadata": {}
        },
        {
          "output_type": "stream",
          "name": "stdout",
          "text": [
            "LAMB benchmark completed!\n"
          ]
        }
      ]
    }
  ]
}