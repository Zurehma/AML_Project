{
  "nbformat": 4,
  "nbformat_minor": 0,
  "metadata": {
    "colab": {
      "provenance": [],
      "gpuType": "T4",
      "include_colab_link": true
    },
    "kernelspec": {
      "name": "python3",
      "display_name": "Python 3"
    },
    "language_info": {
      "name": "python"
    },
    "accelerator": "GPU"
  },
  "cells": [
    {
      "cell_type": "markdown",
      "metadata": {
        "id": "view-in-github",
        "colab_type": "text"
      },
      "source": [
        "<a href=\"https://colab.research.google.com/github/Zurehma/AML_Project/blob/main/LargeBatch/LAMB/batch_256.ipynb\" target=\"_parent\"><img src=\"https://colab.research.google.com/assets/colab-badge.svg\" alt=\"Open In Colab\"/></a>"
      ]
    },
    {
      "cell_type": "code",
      "source": [
        "!pip install torch-optimizer"
      ],
      "metadata": {
        "id": "NXyk6PmVw6X8"
      },
      "execution_count": null,
      "outputs": []
    },
    {
      "cell_type": "code",
      "execution_count": 5,
      "metadata": {
        "id": "HqQ4KqXLwvW_",
        "colab": {
          "base_uri": "https://localhost:8080/",
          "height": 1000
        },
        "outputId": "01c527a5-00b7-4a0c-c155-dbde25ead356"
      },
      "outputs": [
        {
          "output_type": "stream",
          "name": "stdout",
          "text": [
            "PyTorch version: 2.6.0+cu124\n",
            "Using device: cuda:0\n",
            "Running LAMB benchmark with improved_cnn on cifar100...\n",
            "Total parameters: 1,774,052\n",
            "\n",
            "Epoch [1/100] - Learning Rate: 0.002000\n"
          ]
        },
        {
          "output_type": "stream",
          "name": "stderr",
          "text": [
            "Training: 100%|██████████| 196/196 [00:20<00:00,  9.79it/s, loss=4.43, acc=3.31]\n"
          ]
        },
        {
          "output_type": "stream",
          "name": "stdout",
          "text": [
            "Train Loss: 4.4292, Train Acc: 3.31%, Test Loss: 4.0727, Test Acc: 8.67%, Time: 20.03s\n",
            "New best model saved with accuracy: 8.67%\n",
            "\n",
            "Epoch [2/100] - Learning Rate: 0.004000\n"
          ]
        },
        {
          "output_type": "stream",
          "name": "stderr",
          "text": [
            "Training: 100%|██████████| 196/196 [00:19<00:00,  9.94it/s, loss=4, acc=7.9]\n"
          ]
        },
        {
          "output_type": "stream",
          "name": "stdout",
          "text": [
            "Train Loss: 4.0015, Train Acc: 7.90%, Test Loss: 3.5998, Test Acc: 15.02%, Time: 19.71s\n",
            "New best model saved with accuracy: 15.02%\n",
            "\n",
            "Epoch [3/100] - Learning Rate: 0.006000\n"
          ]
        },
        {
          "output_type": "stream",
          "name": "stderr",
          "text": [
            "Training: 100%|██████████| 196/196 [00:20<00:00,  9.71it/s, loss=3.7, acc=12.2]\n"
          ]
        },
        {
          "output_type": "stream",
          "name": "stdout",
          "text": [
            "Train Loss: 3.6981, Train Acc: 12.19%, Test Loss: 3.2624, Test Acc: 21.05%, Time: 20.19s\n",
            "New best model saved with accuracy: 21.05%\n",
            "\n",
            "Epoch [4/100] - Learning Rate: 0.008000\n"
          ]
        },
        {
          "output_type": "stream",
          "name": "stderr",
          "text": [
            "Training: 100%|██████████| 196/196 [00:20<00:00,  9.47it/s, loss=3.52, acc=15.1]\n"
          ]
        },
        {
          "output_type": "stream",
          "name": "stdout",
          "text": [
            "Train Loss: 3.5206, Train Acc: 15.14%, Test Loss: 3.2447, Test Acc: 20.20%, Time: 20.71s\n",
            "\n",
            "Epoch [5/100] - Learning Rate: 0.010000\n"
          ]
        },
        {
          "output_type": "stream",
          "name": "stderr",
          "text": [
            "Training: 100%|██████████| 196/196 [00:20<00:00,  9.65it/s, loss=3.42, acc=16.9]\n"
          ]
        },
        {
          "output_type": "stream",
          "name": "stdout",
          "text": [
            "Train Loss: 3.4233, Train Acc: 16.88%, Test Loss: 3.0327, Test Acc: 24.28%, Time: 20.32s\n",
            "New best model saved with accuracy: 24.28%\n",
            "\n",
            "Epoch [6/100] - Learning Rate: 0.012000\n"
          ]
        },
        {
          "output_type": "stream",
          "name": "stderr",
          "text": [
            "Training: 100%|██████████| 196/196 [00:19<00:00,  9.95it/s, loss=3.34, acc=18.1]\n"
          ]
        },
        {
          "output_type": "stream",
          "name": "stdout",
          "text": [
            "Train Loss: 3.3443, Train Acc: 18.09%, Test Loss: 3.0098, Test Acc: 23.83%, Time: 19.69s\n",
            "\n",
            "Epoch [7/100] - Learning Rate: 0.014000\n"
          ]
        },
        {
          "output_type": "stream",
          "name": "stderr",
          "text": [
            "Training: 100%|██████████| 196/196 [00:20<00:00,  9.53it/s, loss=3.24, acc=19.9]\n"
          ]
        },
        {
          "output_type": "stream",
          "name": "stdout",
          "text": [
            "Train Loss: 3.2444, Train Acc: 19.92%, Test Loss: 2.8883, Test Acc: 26.28%, Time: 20.57s\n",
            "New best model saved with accuracy: 26.28%\n",
            "\n",
            "Epoch [8/100] - Learning Rate: 0.016000\n"
          ]
        },
        {
          "output_type": "stream",
          "name": "stderr",
          "text": [
            "Training: 100%|██████████| 196/196 [00:20<00:00,  9.52it/s, loss=3.19, acc=21.1]\n"
          ]
        },
        {
          "output_type": "stream",
          "name": "stdout",
          "text": [
            "Train Loss: 3.1910, Train Acc: 21.13%, Test Loss: 2.8153, Test Acc: 29.07%, Time: 20.60s\n",
            "New best model saved with accuracy: 29.07%\n",
            "\n",
            "Epoch [9/100] - Learning Rate: 0.018000\n"
          ]
        },
        {
          "output_type": "stream",
          "name": "stderr",
          "text": [
            "Training: 100%|██████████| 196/196 [00:19<00:00,  9.98it/s, loss=3.18, acc=21.4]\n"
          ]
        },
        {
          "output_type": "stream",
          "name": "stdout",
          "text": [
            "Train Loss: 3.1767, Train Acc: 21.36%, Test Loss: 2.8193, Test Acc: 28.44%, Time: 19.64s\n",
            "\n",
            "Epoch [10/100] - Learning Rate: 0.020000\n"
          ]
        },
        {
          "output_type": "stream",
          "name": "stderr",
          "text": [
            "Training: 100%|██████████| 196/196 [00:19<00:00,  9.98it/s, loss=3.2, acc=21.4]\n"
          ]
        },
        {
          "output_type": "stream",
          "name": "stdout",
          "text": [
            "Train Loss: 3.1997, Train Acc: 21.36%, Test Loss: 3.0687, Test Acc: 24.70%, Time: 19.63s\n",
            "\n",
            "Epoch [11/100] - Learning Rate: 0.020000\n"
          ]
        },
        {
          "output_type": "stream",
          "name": "stderr",
          "text": [
            "Training: 100%|██████████| 196/196 [00:20<00:00,  9.35it/s, loss=3.2, acc=21.4]\n"
          ]
        },
        {
          "output_type": "stream",
          "name": "stdout",
          "text": [
            "Train Loss: 3.1953, Train Acc: 21.42%, Test Loss: 3.0519, Test Acc: 25.15%, Time: 20.97s\n",
            "\n",
            "Epoch [12/100] - Learning Rate: 0.019994\n"
          ]
        },
        {
          "output_type": "stream",
          "name": "stderr",
          "text": [
            "Training: 100%|██████████| 196/196 [00:20<00:00,  9.44it/s, loss=3.17, acc=22]\n"
          ]
        },
        {
          "output_type": "stream",
          "name": "stdout",
          "text": [
            "Train Loss: 3.1701, Train Acc: 21.97%, Test Loss: 2.9855, Test Acc: 25.97%, Time: 20.76s\n",
            "\n",
            "Epoch [13/100] - Learning Rate: 0.019976\n"
          ]
        },
        {
          "output_type": "stream",
          "name": "stderr",
          "text": [
            "Training: 100%|██████████| 196/196 [00:20<00:00,  9.79it/s, loss=3.17, acc=22]\n"
          ]
        },
        {
          "output_type": "stream",
          "name": "stdout",
          "text": [
            "Train Loss: 3.1663, Train Acc: 22.02%, Test Loss: 2.9563, Test Acc: 26.58%, Time: 20.03s\n",
            "\n",
            "Epoch [14/100] - Learning Rate: 0.019945\n"
          ]
        },
        {
          "output_type": "stream",
          "name": "stderr",
          "text": [
            "Training: 100%|██████████| 196/196 [00:20<00:00,  9.68it/s, loss=3.18, acc=21.9]\n"
          ]
        },
        {
          "output_type": "stream",
          "name": "stdout",
          "text": [
            "Train Loss: 3.1774, Train Acc: 21.94%, Test Loss: 2.8100, Test Acc: 28.78%, Time: 20.25s\n",
            "\n",
            "Epoch [15/100] - Learning Rate: 0.019903\n"
          ]
        },
        {
          "output_type": "stream",
          "name": "stderr",
          "text": [
            "Training: 100%|██████████| 196/196 [00:20<00:00,  9.49it/s, loss=3.17, acc=22.1]\n"
          ]
        },
        {
          "output_type": "stream",
          "name": "stdout",
          "text": [
            "Train Loss: 3.1660, Train Acc: 22.11%, Test Loss: 2.8574, Test Acc: 27.48%, Time: 20.66s\n",
            "\n",
            "Epoch [16/100] - Learning Rate: 0.019848\n"
          ]
        },
        {
          "output_type": "stream",
          "name": "stderr",
          "text": [
            "Training: 100%|██████████| 196/196 [00:20<00:00,  9.44it/s, loss=3.17, acc=22.2]\n"
          ]
        },
        {
          "output_type": "stream",
          "name": "stdout",
          "text": [
            "Train Loss: 3.1694, Train Acc: 22.18%, Test Loss: 2.7293, Test Acc: 30.29%, Time: 20.78s\n",
            "New best model saved with accuracy: 30.29%\n",
            "\n",
            "Epoch [17/100] - Learning Rate: 0.019781\n"
          ]
        },
        {
          "output_type": "stream",
          "name": "stderr",
          "text": [
            "Training: 100%|██████████| 196/196 [00:20<00:00,  9.65it/s, loss=3.17, acc=22.2]\n"
          ]
        },
        {
          "output_type": "stream",
          "name": "stdout",
          "text": [
            "Train Loss: 3.1683, Train Acc: 22.19%, Test Loss: 2.9295, Test Acc: 26.76%, Time: 20.32s\n",
            "\n",
            "Epoch [18/100] - Learning Rate: 0.019703\n"
          ]
        },
        {
          "output_type": "stream",
          "name": "stderr",
          "text": [
            "Training: 100%|██████████| 196/196 [00:19<00:00,  9.85it/s, loss=3.15, acc=22.2]\n"
          ]
        },
        {
          "output_type": "stream",
          "name": "stdout",
          "text": [
            "Train Loss: 3.1538, Train Acc: 22.25%, Test Loss: 3.0402, Test Acc: 26.13%, Time: 19.90s\n",
            "\n",
            "Epoch [19/100] - Learning Rate: 0.019613\n"
          ]
        },
        {
          "output_type": "stream",
          "name": "stderr",
          "text": [
            "Training: 100%|██████████| 196/196 [00:20<00:00,  9.55it/s, loss=3.13, acc=23]\n"
          ]
        },
        {
          "output_type": "stream",
          "name": "stdout",
          "text": [
            "Train Loss: 3.1261, Train Acc: 22.99%, Test Loss: 2.8342, Test Acc: 29.46%, Time: 20.54s\n",
            "\n",
            "Epoch [20/100] - Learning Rate: 0.019511\n"
          ]
        },
        {
          "output_type": "stream",
          "name": "stderr",
          "text": [
            "Training: 100%|██████████| 196/196 [00:20<00:00,  9.46it/s, loss=3.11, acc=23.4]\n"
          ]
        },
        {
          "output_type": "stream",
          "name": "stdout",
          "text": [
            "Train Loss: 3.1132, Train Acc: 23.37%, Test Loss: 3.4624, Test Acc: 20.62%, Time: 20.71s\n",
            "\n",
            "Epoch [21/100] - Learning Rate: 0.019397\n"
          ]
        },
        {
          "output_type": "stream",
          "name": "stderr",
          "text": [
            "Training: 100%|██████████| 196/196 [00:19<00:00,  9.80it/s, loss=3.12, acc=23.2]\n"
          ]
        },
        {
          "output_type": "stream",
          "name": "stdout",
          "text": [
            "Train Loss: 3.1177, Train Acc: 23.23%, Test Loss: 2.6955, Test Acc: 32.12%, Time: 20.00s\n",
            "New best model saved with accuracy: 32.12%\n",
            "\n",
            "Epoch [22/100] - Learning Rate: 0.019272\n"
          ]
        },
        {
          "output_type": "stream",
          "name": "stderr",
          "text": [
            "Training: 100%|██████████| 196/196 [00:19<00:00,  9.88it/s, loss=3.1, acc=23.6]\n"
          ]
        },
        {
          "output_type": "stream",
          "name": "stdout",
          "text": [
            "Train Loss: 3.0951, Train Acc: 23.65%, Test Loss: 2.9922, Test Acc: 26.54%, Time: 19.84s\n",
            "\n",
            "Epoch [23/100] - Learning Rate: 0.019135\n"
          ]
        },
        {
          "output_type": "stream",
          "name": "stderr",
          "text": [
            "Training: 100%|██████████| 196/196 [00:20<00:00,  9.46it/s, loss=3.1, acc=23.3]\n"
          ]
        },
        {
          "output_type": "stream",
          "name": "stdout",
          "text": [
            "Train Loss: 3.1014, Train Acc: 23.31%, Test Loss: 2.8344, Test Acc: 29.29%, Time: 20.73s\n",
            "\n",
            "Epoch [24/100] - Learning Rate: 0.018988\n"
          ]
        },
        {
          "output_type": "stream",
          "name": "stderr",
          "text": [
            "Training: 100%|██████████| 196/196 [00:20<00:00,  9.35it/s, loss=3.07, acc=24]\n"
          ]
        },
        {
          "output_type": "stream",
          "name": "stdout",
          "text": [
            "Train Loss: 3.0705, Train Acc: 23.96%, Test Loss: 2.8051, Test Acc: 30.40%, Time: 20.98s\n",
            "\n",
            "Epoch [25/100] - Learning Rate: 0.018829\n"
          ]
        },
        {
          "output_type": "stream",
          "name": "stderr",
          "text": [
            "Training: 100%|██████████| 196/196 [00:20<00:00,  9.50it/s, loss=3.08, acc=24.5]\n"
          ]
        },
        {
          "output_type": "stream",
          "name": "stdout",
          "text": [
            "Train Loss: 3.0755, Train Acc: 24.46%, Test Loss: 2.7805, Test Acc: 30.13%, Time: 20.64s\n",
            "\n",
            "Epoch [26/100] - Learning Rate: 0.018660\n"
          ]
        },
        {
          "output_type": "stream",
          "name": "stderr",
          "text": [
            "Training: 100%|██████████| 196/196 [00:19<00:00,  9.89it/s, loss=3.08, acc=23.7]\n"
          ]
        },
        {
          "output_type": "stream",
          "name": "stdout",
          "text": [
            "Train Loss: 3.0809, Train Acc: 23.73%, Test Loss: 2.6903, Test Acc: 31.94%, Time: 19.82s\n",
            "\n",
            "Epoch [27/100] - Learning Rate: 0.018480\n"
          ]
        },
        {
          "output_type": "stream",
          "name": "stderr",
          "text": [
            "Training: 100%|██████████| 196/196 [00:20<00:00,  9.68it/s, loss=3.06, acc=24.6]\n"
          ]
        },
        {
          "output_type": "stream",
          "name": "stdout",
          "text": [
            "Train Loss: 3.0577, Train Acc: 24.58%, Test Loss: 2.7872, Test Acc: 30.36%, Time: 20.26s\n",
            "\n",
            "Epoch [28/100] - Learning Rate: 0.018290\n"
          ]
        },
        {
          "output_type": "stream",
          "name": "stderr",
          "text": [
            "Training: 100%|██████████| 196/196 [00:20<00:00,  9.39it/s, loss=3.05, acc=24.7]\n"
          ]
        },
        {
          "output_type": "stream",
          "name": "stdout",
          "text": [
            "Train Loss: 3.0452, Train Acc: 24.73%, Test Loss: 2.6186, Test Acc: 33.61%, Time: 20.88s\n",
            "New best model saved with accuracy: 33.61%\n",
            "\n",
            "Epoch [29/100] - Learning Rate: 0.018090\n"
          ]
        },
        {
          "output_type": "stream",
          "name": "stderr",
          "text": [
            "Training: 100%|██████████| 196/196 [00:20<00:00,  9.44it/s, loss=3.04, acc=24.8]\n"
          ]
        },
        {
          "output_type": "stream",
          "name": "stdout",
          "text": [
            "Train Loss: 3.0355, Train Acc: 24.76%, Test Loss: 2.6527, Test Acc: 33.09%, Time: 20.76s\n",
            "\n",
            "Epoch [30/100] - Learning Rate: 0.017880\n"
          ]
        },
        {
          "output_type": "stream",
          "name": "stderr",
          "text": [
            "Training: 100%|██████████| 196/196 [00:19<00:00,  9.88it/s, loss=3.03, acc=25]\n"
          ]
        },
        {
          "output_type": "stream",
          "name": "stdout",
          "text": [
            "Train Loss: 3.0276, Train Acc: 25.05%, Test Loss: 2.6188, Test Acc: 34.23%, Time: 19.85s\n",
            "New best model saved with accuracy: 34.23%\n",
            "\n",
            "Epoch [31/100] - Learning Rate: 0.017660\n"
          ]
        },
        {
          "output_type": "stream",
          "name": "stderr",
          "text": [
            "Training: 100%|██████████| 196/196 [00:19<00:00,  9.81it/s, loss=3, acc=25.4]\n"
          ]
        },
        {
          "output_type": "stream",
          "name": "stdout",
          "text": [
            "Train Loss: 2.9972, Train Acc: 25.45%, Test Loss: 2.6924, Test Acc: 32.21%, Time: 19.98s\n",
            "\n",
            "Epoch [32/100] - Learning Rate: 0.017431\n"
          ]
        },
        {
          "output_type": "stream",
          "name": "stderr",
          "text": [
            "Training: 100%|██████████| 196/196 [00:20<00:00,  9.48it/s, loss=3, acc=25.5]\n"
          ]
        },
        {
          "output_type": "stream",
          "name": "stdout",
          "text": [
            "Train Loss: 2.9996, Train Acc: 25.52%, Test Loss: 2.6243, Test Acc: 33.23%, Time: 20.69s\n",
            "\n",
            "Epoch [33/100] - Learning Rate: 0.017193\n"
          ]
        },
        {
          "output_type": "stream",
          "name": "stderr",
          "text": [
            "Training: 100%|██████████| 196/196 [00:20<00:00,  9.49it/s, loss=2.98, acc=26]\n"
          ]
        },
        {
          "output_type": "stream",
          "name": "stdout",
          "text": [
            "Train Loss: 2.9772, Train Acc: 26.04%, Test Loss: 2.5618, Test Acc: 34.35%, Time: 20.65s\n",
            "New best model saved with accuracy: 34.35%\n",
            "\n",
            "Epoch [34/100] - Learning Rate: 0.016947\n"
          ]
        },
        {
          "output_type": "stream",
          "name": "stderr",
          "text": [
            "Training: 100%|██████████| 196/196 [00:20<00:00,  9.80it/s, loss=2.97, acc=26.3]\n"
          ]
        },
        {
          "output_type": "stream",
          "name": "stdout",
          "text": [
            "Train Loss: 2.9704, Train Acc: 26.32%, Test Loss: 2.5644, Test Acc: 35.42%, Time: 20.01s\n",
            "New best model saved with accuracy: 35.42%\n",
            "\n",
            "Epoch [35/100] - Learning Rate: 0.016691\n"
          ]
        },
        {
          "output_type": "stream",
          "name": "stderr",
          "text": [
            "Training: 100%|██████████| 196/196 [00:20<00:00,  9.71it/s, loss=2.94, acc=26.5]\n"
          ]
        },
        {
          "output_type": "stream",
          "name": "stdout",
          "text": [
            "Train Loss: 2.9419, Train Acc: 26.54%, Test Loss: 2.6235, Test Acc: 34.36%, Time: 20.19s\n",
            "\n",
            "Epoch [36/100] - Learning Rate: 0.016428\n"
          ]
        },
        {
          "output_type": "stream",
          "name": "stderr",
          "text": [
            "Training: 100%|██████████| 196/196 [00:20<00:00,  9.35it/s, loss=2.94, acc=26.5]\n"
          ]
        },
        {
          "output_type": "stream",
          "name": "stdout",
          "text": [
            "Train Loss: 2.9431, Train Acc: 26.50%, Test Loss: 2.5181, Test Acc: 35.40%, Time: 20.96s\n",
            "\n",
            "Epoch [37/100] - Learning Rate: 0.016157\n"
          ]
        },
        {
          "output_type": "stream",
          "name": "stderr",
          "text": [
            "Training: 100%|██████████| 196/196 [00:20<00:00,  9.34it/s, loss=2.93, acc=27.2]\n"
          ]
        },
        {
          "output_type": "stream",
          "name": "stdout",
          "text": [
            "Train Loss: 2.9269, Train Acc: 27.23%, Test Loss: 2.7071, Test Acc: 31.80%, Time: 21.00s\n",
            "\n",
            "Epoch [38/100] - Learning Rate: 0.015878\n"
          ]
        },
        {
          "output_type": "stream",
          "name": "stderr",
          "text": [
            "Training: 100%|██████████| 196/196 [00:19<00:00,  9.83it/s, loss=2.9, acc=27.5]\n"
          ]
        },
        {
          "output_type": "stream",
          "name": "stdout",
          "text": [
            "Train Loss: 2.9049, Train Acc: 27.49%, Test Loss: 2.5019, Test Acc: 36.38%, Time: 19.96s\n",
            "New best model saved with accuracy: 36.38%\n",
            "\n",
            "Epoch [39/100] - Learning Rate: 0.015592\n"
          ]
        },
        {
          "output_type": "stream",
          "name": "stderr",
          "text": [
            "Training: 100%|██████████| 196/196 [00:20<00:00,  9.71it/s, loss=2.91, acc=27.4]\n"
          ]
        },
        {
          "output_type": "stream",
          "name": "stdout",
          "text": [
            "Train Loss: 2.9089, Train Acc: 27.39%, Test Loss: 2.4837, Test Acc: 35.96%, Time: 20.18s\n",
            "\n",
            "Epoch [40/100] - Learning Rate: 0.015299\n"
          ]
        },
        {
          "output_type": "stream",
          "name": "stderr",
          "text": [
            "Training: 100%|██████████| 196/196 [00:20<00:00,  9.44it/s, loss=2.89, acc=27.9]\n"
          ]
        },
        {
          "output_type": "stream",
          "name": "stdout",
          "text": [
            "Train Loss: 2.8860, Train Acc: 27.89%, Test Loss: 2.4953, Test Acc: 35.44%, Time: 20.78s\n",
            "\n",
            "Epoch [41/100] - Learning Rate: 0.015000\n"
          ]
        },
        {
          "output_type": "stream",
          "name": "stderr",
          "text": [
            "Training: 100%|██████████| 196/196 [00:20<00:00,  9.48it/s, loss=2.88, acc=28.1]\n"
          ]
        },
        {
          "output_type": "stream",
          "name": "stdout",
          "text": [
            "Train Loss: 2.8789, Train Acc: 28.14%, Test Loss: 2.5449, Test Acc: 35.94%, Time: 20.69s\n",
            "\n",
            "Epoch [42/100] - Learning Rate: 0.014695\n"
          ]
        },
        {
          "output_type": "stream",
          "name": "stderr",
          "text": [
            "Training: 100%|██████████| 196/196 [00:19<00:00,  9.86it/s, loss=2.86, acc=28.2]\n"
          ]
        },
        {
          "output_type": "stream",
          "name": "stdout",
          "text": [
            "Train Loss: 2.8600, Train Acc: 28.20%, Test Loss: 2.7335, Test Acc: 31.81%, Time: 19.89s\n",
            "\n",
            "Epoch [43/100] - Learning Rate: 0.014384\n"
          ]
        },
        {
          "output_type": "stream",
          "name": "stderr",
          "text": [
            "Training: 100%|██████████| 196/196 [00:19<00:00, 10.00it/s, loss=2.85, acc=28.2]\n"
          ]
        },
        {
          "output_type": "stream",
          "name": "stdout",
          "text": [
            "Train Loss: 2.8542, Train Acc: 28.20%, Test Loss: 2.4977, Test Acc: 36.17%, Time: 19.61s\n",
            "\n",
            "Epoch [44/100] - Learning Rate: 0.014067\n"
          ]
        },
        {
          "output_type": "stream",
          "name": "stderr",
          "text": [
            "Training: 100%|██████████| 196/196 [00:20<00:00,  9.48it/s, loss=2.83, acc=28.7]\n"
          ]
        },
        {
          "output_type": "stream",
          "name": "stdout",
          "text": [
            "Train Loss: 2.8313, Train Acc: 28.66%, Test Loss: 2.4404, Test Acc: 37.53%, Time: 20.68s\n",
            "New best model saved with accuracy: 37.53%\n",
            "\n",
            "Epoch [45/100] - Learning Rate: 0.013746\n"
          ]
        },
        {
          "output_type": "stream",
          "name": "stderr",
          "text": [
            "Training: 100%|██████████| 196/196 [00:20<00:00,  9.48it/s, loss=2.83, acc=29.1]\n"
          ]
        },
        {
          "output_type": "stream",
          "name": "stdout",
          "text": [
            "Train Loss: 2.8276, Train Acc: 29.13%, Test Loss: 2.4220, Test Acc: 36.92%, Time: 20.68s\n",
            "\n",
            "Epoch [46/100] - Learning Rate: 0.013420\n"
          ]
        },
        {
          "output_type": "stream",
          "name": "stderr",
          "text": [
            "Training: 100%|██████████| 196/196 [00:20<00:00,  9.55it/s, loss=2.8, acc=29.3]\n"
          ]
        },
        {
          "output_type": "stream",
          "name": "stdout",
          "text": [
            "Train Loss: 2.8000, Train Acc: 29.31%, Test Loss: 2.4266, Test Acc: 37.88%, Time: 20.53s\n",
            "New best model saved with accuracy: 37.88%\n",
            "\n",
            "Epoch [47/100] - Learning Rate: 0.013090\n"
          ]
        },
        {
          "output_type": "stream",
          "name": "stderr",
          "text": [
            "Training: 100%|██████████| 196/196 [00:20<00:00,  9.77it/s, loss=2.78, acc=29.8]\n"
          ]
        },
        {
          "output_type": "stream",
          "name": "stdout",
          "text": [
            "Train Loss: 2.7835, Train Acc: 29.76%, Test Loss: 2.4699, Test Acc: 36.39%, Time: 20.07s\n",
            "\n",
            "Epoch [48/100] - Learning Rate: 0.012756\n"
          ]
        },
        {
          "output_type": "stream",
          "name": "stderr",
          "text": [
            "Training: 100%|██████████| 196/196 [00:20<00:00,  9.37it/s, loss=2.76, acc=30.1]\n"
          ]
        },
        {
          "output_type": "stream",
          "name": "stdout",
          "text": [
            "Train Loss: 2.7614, Train Acc: 30.08%, Test Loss: 2.3551, Test Acc: 38.36%, Time: 20.93s\n",
            "New best model saved with accuracy: 38.36%\n",
            "\n",
            "Epoch [49/100] - Learning Rate: 0.012419\n"
          ]
        },
        {
          "output_type": "stream",
          "name": "stderr",
          "text": [
            "Training: 100%|██████████| 196/196 [00:22<00:00,  8.70it/s, loss=2.76, acc=30.2]\n"
          ]
        },
        {
          "output_type": "stream",
          "name": "stdout",
          "text": [
            "Train Loss: 2.7612, Train Acc: 30.21%, Test Loss: 2.4993, Test Acc: 36.39%, Time: 22.54s\n",
            "\n",
            "Epoch [50/100] - Learning Rate: 0.012079\n"
          ]
        },
        {
          "output_type": "stream",
          "name": "stderr",
          "text": [
            "Training: 100%|██████████| 196/196 [00:20<00:00,  9.36it/s, loss=2.74, acc=30.3]\n"
          ]
        },
        {
          "output_type": "stream",
          "name": "stdout",
          "text": [
            "Train Loss: 2.7443, Train Acc: 30.32%, Test Loss: 2.3626, Test Acc: 38.46%, Time: 20.94s\n",
            "New best model saved with accuracy: 38.46%\n",
            "\n",
            "Epoch [51/100] - Learning Rate: 0.011736\n"
          ]
        },
        {
          "output_type": "stream",
          "name": "stderr",
          "text": [
            "Training: 100%|██████████| 196/196 [00:19<00:00,  9.85it/s, loss=2.73, acc=30.8]\n"
          ]
        },
        {
          "output_type": "stream",
          "name": "stdout",
          "text": [
            "Train Loss: 2.7311, Train Acc: 30.81%, Test Loss: 2.3272, Test Acc: 39.59%, Time: 19.91s\n",
            "New best model saved with accuracy: 39.59%\n",
            "\n",
            "Epoch [52/100] - Learning Rate: 0.011392\n"
          ]
        },
        {
          "output_type": "stream",
          "name": "stderr",
          "text": [
            "Training: 100%|██████████| 196/196 [00:20<00:00,  9.69it/s, loss=2.73, acc=30.9]\n"
          ]
        },
        {
          "output_type": "stream",
          "name": "stdout",
          "text": [
            "Train Loss: 2.7286, Train Acc: 30.87%, Test Loss: 2.3125, Test Acc: 40.02%, Time: 20.22s\n",
            "New best model saved with accuracy: 40.02%\n",
            "\n",
            "Epoch [53/100] - Learning Rate: 0.011045\n"
          ]
        },
        {
          "output_type": "stream",
          "name": "stderr",
          "text": [
            "Training: 100%|██████████| 196/196 [00:20<00:00,  9.37it/s, loss=2.71, acc=31.1]\n"
          ]
        },
        {
          "output_type": "stream",
          "name": "stdout",
          "text": [
            "Train Loss: 2.7068, Train Acc: 31.08%, Test Loss: 2.2949, Test Acc: 40.09%, Time: 20.91s\n",
            "New best model saved with accuracy: 40.09%\n",
            "\n",
            "Epoch [54/100] - Learning Rate: 0.010698\n"
          ]
        },
        {
          "output_type": "stream",
          "name": "stderr",
          "text": [
            "Training: 100%|██████████| 196/196 [00:21<00:00,  9.09it/s, loss=2.68, acc=31.5]\n"
          ]
        },
        {
          "output_type": "stream",
          "name": "stdout",
          "text": [
            "Train Loss: 2.6815, Train Acc: 31.53%, Test Loss: 2.3713, Test Acc: 38.99%, Time: 21.57s\n",
            "\n",
            "Epoch [55/100] - Learning Rate: 0.010349\n"
          ]
        },
        {
          "output_type": "stream",
          "name": "stderr",
          "text": [
            "Training: 100%|██████████| 196/196 [00:20<00:00,  9.61it/s, loss=2.68, acc=31.6]\n"
          ]
        },
        {
          "output_type": "stream",
          "name": "stdout",
          "text": [
            "Train Loss: 2.6798, Train Acc: 31.62%, Test Loss: 2.3257, Test Acc: 39.94%, Time: 20.40s\n",
            "\n",
            "Epoch [56/100] - Learning Rate: 0.010000\n"
          ]
        },
        {
          "output_type": "stream",
          "name": "stderr",
          "text": [
            "Training: 100%|██████████| 196/196 [00:19<00:00,  9.88it/s, loss=2.64, acc=32.2]\n"
          ]
        },
        {
          "output_type": "stream",
          "name": "stdout",
          "text": [
            "Train Loss: 2.6440, Train Acc: 32.21%, Test Loss: 2.3123, Test Acc: 39.75%, Time: 19.85s\n",
            "\n",
            "Epoch [57/100] - Learning Rate: 0.009651\n"
          ]
        },
        {
          "output_type": "stream",
          "name": "stderr",
          "text": [
            "Training: 100%|██████████| 196/196 [00:21<00:00,  9.30it/s, loss=2.64, acc=32.2]\n"
          ]
        },
        {
          "output_type": "stream",
          "name": "stdout",
          "text": [
            "Train Loss: 2.6435, Train Acc: 32.23%, Test Loss: 2.2644, Test Acc: 41.09%, Time: 21.09s\n",
            "New best model saved with accuracy: 41.09%\n",
            "\n",
            "Epoch [58/100] - Learning Rate: 0.009302\n"
          ]
        },
        {
          "output_type": "stream",
          "name": "stderr",
          "text": [
            "Training: 100%|██████████| 196/196 [00:21<00:00,  9.30it/s, loss=2.62, acc=32.9]\n"
          ]
        },
        {
          "output_type": "stream",
          "name": "stdout",
          "text": [
            "Train Loss: 2.6185, Train Acc: 32.88%, Test Loss: 2.3818, Test Acc: 38.72%, Time: 21.09s\n",
            "\n",
            "Epoch [59/100] - Learning Rate: 0.008955\n"
          ]
        },
        {
          "output_type": "stream",
          "name": "stderr",
          "text": [
            "Training: 100%|██████████| 196/196 [00:20<00:00,  9.64it/s, loss=2.6, acc=33]\n"
          ]
        },
        {
          "output_type": "stream",
          "name": "stdout",
          "text": [
            "Train Loss: 2.6010, Train Acc: 33.04%, Test Loss: 2.2432, Test Acc: 41.72%, Time: 20.34s\n",
            "New best model saved with accuracy: 41.72%\n",
            "\n",
            "Epoch [60/100] - Learning Rate: 0.008608\n"
          ]
        },
        {
          "output_type": "stream",
          "name": "stderr",
          "text": [
            "Training: 100%|██████████| 196/196 [00:19<00:00,  9.88it/s, loss=2.59, acc=33.3]\n"
          ]
        },
        {
          "output_type": "stream",
          "name": "stdout",
          "text": [
            "Train Loss: 2.5941, Train Acc: 33.31%, Test Loss: 2.2226, Test Acc: 41.90%, Time: 19.85s\n",
            "New best model saved with accuracy: 41.90%\n",
            "\n",
            "Epoch [61/100] - Learning Rate: 0.008264\n"
          ]
        },
        {
          "output_type": "stream",
          "name": "stderr",
          "text": [
            "Training: 100%|██████████| 196/196 [00:20<00:00,  9.55it/s, loss=2.59, acc=33.7]\n"
          ]
        },
        {
          "output_type": "stream",
          "name": "stdout",
          "text": [
            "Train Loss: 2.5864, Train Acc: 33.69%, Test Loss: 2.2335, Test Acc: 41.64%, Time: 20.53s\n",
            "\n",
            "Epoch [62/100] - Learning Rate: 0.007921\n"
          ]
        },
        {
          "output_type": "stream",
          "name": "stderr",
          "text": [
            "Training: 100%|██████████| 196/196 [00:20<00:00,  9.41it/s, loss=2.57, acc=34]\n"
          ]
        },
        {
          "output_type": "stream",
          "name": "stdout",
          "text": [
            "Train Loss: 2.5735, Train Acc: 34.05%, Test Loss: 2.1872, Test Acc: 42.75%, Time: 20.83s\n",
            "New best model saved with accuracy: 42.75%\n",
            "\n",
            "Epoch [63/100] - Learning Rate: 0.007581\n"
          ]
        },
        {
          "output_type": "stream",
          "name": "stderr",
          "text": [
            "Training: 100%|██████████| 196/196 [00:20<00:00,  9.71it/s, loss=2.55, acc=34.1]\n"
          ]
        },
        {
          "output_type": "stream",
          "name": "stdout",
          "text": [
            "Train Loss: 2.5528, Train Acc: 34.10%, Test Loss: 2.2975, Test Acc: 40.04%, Time: 20.19s\n",
            "\n",
            "Epoch [64/100] - Learning Rate: 0.007244\n"
          ]
        },
        {
          "output_type": "stream",
          "name": "stderr",
          "text": [
            "Training: 100%|██████████| 196/196 [00:19<00:00,  9.88it/s, loss=2.54, acc=34.6]\n"
          ]
        },
        {
          "output_type": "stream",
          "name": "stdout",
          "text": [
            "Train Loss: 2.5365, Train Acc: 34.58%, Test Loss: 2.2107, Test Acc: 42.22%, Time: 19.84s\n",
            "\n",
            "Epoch [65/100] - Learning Rate: 0.006910\n"
          ]
        },
        {
          "output_type": "stream",
          "name": "stderr",
          "text": [
            "Training: 100%|██████████| 196/196 [00:20<00:00,  9.43it/s, loss=2.53, acc=34.8]\n"
          ]
        },
        {
          "output_type": "stream",
          "name": "stdout",
          "text": [
            "Train Loss: 2.5262, Train Acc: 34.81%, Test Loss: 2.1586, Test Acc: 43.71%, Time: 20.78s\n",
            "New best model saved with accuracy: 43.71%\n",
            "\n",
            "Epoch [66/100] - Learning Rate: 0.006580\n"
          ]
        },
        {
          "output_type": "stream",
          "name": "stderr",
          "text": [
            "Training: 100%|██████████| 196/196 [00:21<00:00,  9.30it/s, loss=2.51, acc=34.7]\n"
          ]
        },
        {
          "output_type": "stream",
          "name": "stdout",
          "text": [
            "Train Loss: 2.5141, Train Acc: 34.69%, Test Loss: 2.1653, Test Acc: 42.62%, Time: 21.09s\n",
            "\n",
            "Epoch [67/100] - Learning Rate: 0.006254\n"
          ]
        },
        {
          "output_type": "stream",
          "name": "stderr",
          "text": [
            "Training: 100%|██████████| 196/196 [00:20<00:00,  9.58it/s, loss=2.49, acc=35.5]\n"
          ]
        },
        {
          "output_type": "stream",
          "name": "stdout",
          "text": [
            "Train Loss: 2.4939, Train Acc: 35.54%, Test Loss: 2.1973, Test Acc: 42.31%, Time: 20.47s\n",
            "\n",
            "Epoch [68/100] - Learning Rate: 0.005933\n"
          ]
        },
        {
          "output_type": "stream",
          "name": "stderr",
          "text": [
            "Training: 100%|██████████| 196/196 [00:19<00:00,  9.94it/s, loss=2.49, acc=35.4]\n"
          ]
        },
        {
          "output_type": "stream",
          "name": "stdout",
          "text": [
            "Train Loss: 2.4884, Train Acc: 35.40%, Test Loss: 2.1763, Test Acc: 43.08%, Time: 19.72s\n",
            "\n",
            "Epoch [69/100] - Learning Rate: 0.005616\n"
          ]
        },
        {
          "output_type": "stream",
          "name": "stderr",
          "text": [
            "Training: 100%|██████████| 196/196 [00:20<00:00,  9.57it/s, loss=2.48, acc=35.6]\n"
          ]
        },
        {
          "output_type": "stream",
          "name": "stdout",
          "text": [
            "Train Loss: 2.4828, Train Acc: 35.61%, Test Loss: 2.1488, Test Acc: 43.48%, Time: 20.49s\n",
            "\n",
            "Epoch [70/100] - Learning Rate: 0.005305\n"
          ]
        },
        {
          "output_type": "stream",
          "name": "stderr",
          "text": [
            "Training: 100%|██████████| 196/196 [00:20<00:00,  9.36it/s, loss=2.46, acc=35.8]\n"
          ]
        },
        {
          "output_type": "stream",
          "name": "stdout",
          "text": [
            "Train Loss: 2.4634, Train Acc: 35.78%, Test Loss: 2.1313, Test Acc: 43.60%, Time: 20.93s\n",
            "\n",
            "Epoch [71/100] - Learning Rate: 0.005000\n"
          ]
        },
        {
          "output_type": "stream",
          "name": "stderr",
          "text": [
            "Training: 100%|██████████| 196/196 [00:19<00:00,  9.91it/s, loss=2.45, acc=36]\n"
          ]
        },
        {
          "output_type": "stream",
          "name": "stdout",
          "text": [
            "Train Loss: 2.4504, Train Acc: 35.99%, Test Loss: 2.1421, Test Acc: 43.66%, Time: 19.78s\n",
            "\n",
            "Epoch [72/100] - Learning Rate: 0.004701\n"
          ]
        },
        {
          "output_type": "stream",
          "name": "stderr",
          "text": [
            "Training: 100%|██████████| 196/196 [00:19<00:00,  9.97it/s, loss=2.44, acc=36.3]\n"
          ]
        },
        {
          "output_type": "stream",
          "name": "stdout",
          "text": [
            "Train Loss: 2.4414, Train Acc: 36.31%, Test Loss: 2.0926, Test Acc: 44.53%, Time: 19.66s\n",
            "New best model saved with accuracy: 44.53%\n",
            "\n",
            "Epoch [73/100] - Learning Rate: 0.004408\n"
          ]
        },
        {
          "output_type": "stream",
          "name": "stderr",
          "text": [
            "Training: 100%|██████████| 196/196 [00:20<00:00,  9.52it/s, loss=2.43, acc=36.4]\n"
          ]
        },
        {
          "output_type": "stream",
          "name": "stdout",
          "text": [
            "Train Loss: 2.4330, Train Acc: 36.39%, Test Loss: 2.1213, Test Acc: 43.74%, Time: 20.60s\n",
            "\n",
            "Epoch [74/100] - Learning Rate: 0.004122\n"
          ]
        },
        {
          "output_type": "stream",
          "name": "stderr",
          "text": [
            "Training: 100%|██████████| 196/196 [00:20<00:00,  9.45it/s, loss=2.42, acc=36.7]\n"
          ]
        },
        {
          "output_type": "stream",
          "name": "stdout",
          "text": [
            "Train Loss: 2.4250, Train Acc: 36.65%, Test Loss: 2.0824, Test Acc: 44.92%, Time: 20.75s\n",
            "New best model saved with accuracy: 44.92%\n",
            "\n",
            "Epoch [75/100] - Learning Rate: 0.003843\n"
          ]
        },
        {
          "output_type": "stream",
          "name": "stderr",
          "text": [
            "Training: 100%|██████████| 196/196 [00:19<00:00,  9.86it/s, loss=2.41, acc=37.3]\n"
          ]
        },
        {
          "output_type": "stream",
          "name": "stdout",
          "text": [
            "Train Loss: 2.4092, Train Acc: 37.32%, Test Loss: 2.1039, Test Acc: 43.99%, Time: 19.87s\n",
            "\n",
            "Epoch [76/100] - Learning Rate: 0.003572\n"
          ]
        },
        {
          "output_type": "stream",
          "name": "stderr",
          "text": [
            "Training: 100%|██████████| 196/196 [00:19<00:00,  9.94it/s, loss=2.39, acc=37.4]\n"
          ]
        },
        {
          "output_type": "stream",
          "name": "stdout",
          "text": [
            "Train Loss: 2.3852, Train Acc: 37.37%, Test Loss: 2.0863, Test Acc: 44.40%, Time: 19.72s\n",
            "\n",
            "Epoch [77/100] - Learning Rate: 0.003309\n"
          ]
        },
        {
          "output_type": "stream",
          "name": "stderr",
          "text": [
            "Training: 100%|██████████| 196/196 [00:20<00:00,  9.44it/s, loss=2.39, acc=37.3]\n"
          ]
        },
        {
          "output_type": "stream",
          "name": "stdout",
          "text": [
            "Train Loss: 2.3881, Train Acc: 37.28%, Test Loss: 2.1049, Test Acc: 44.26%, Time: 20.76s\n",
            "\n",
            "Epoch [78/100] - Learning Rate: 0.003053\n"
          ]
        },
        {
          "output_type": "stream",
          "name": "stderr",
          "text": [
            "Training: 100%|██████████| 196/196 [00:21<00:00,  9.27it/s, loss=2.37, acc=37.8]\n"
          ]
        },
        {
          "output_type": "stream",
          "name": "stdout",
          "text": [
            "Train Loss: 2.3747, Train Acc: 37.76%, Test Loss: 2.0620, Test Acc: 45.04%, Time: 21.14s\n",
            "New best model saved with accuracy: 45.04%\n",
            "\n",
            "Epoch [79/100] - Learning Rate: 0.002807\n"
          ]
        },
        {
          "output_type": "stream",
          "name": "stderr",
          "text": [
            "Training: 100%|██████████| 196/196 [00:20<00:00,  9.77it/s, loss=2.36, acc=37.8]\n"
          ]
        },
        {
          "output_type": "stream",
          "name": "stdout",
          "text": [
            "Train Loss: 2.3649, Train Acc: 37.76%, Test Loss: 2.0489, Test Acc: 46.08%, Time: 20.07s\n",
            "New best model saved with accuracy: 46.08%\n",
            "\n",
            "Epoch [80/100] - Learning Rate: 0.002569\n"
          ]
        },
        {
          "output_type": "stream",
          "name": "stderr",
          "text": [
            "Training: 100%|██████████| 196/196 [00:19<00:00,  9.83it/s, loss=2.36, acc=37.8]\n"
          ]
        },
        {
          "output_type": "stream",
          "name": "stdout",
          "text": [
            "Train Loss: 2.3563, Train Acc: 37.77%, Test Loss: 2.0507, Test Acc: 45.01%, Time: 19.94s\n",
            "\n",
            "Epoch [81/100] - Learning Rate: 0.002340\n"
          ]
        },
        {
          "output_type": "stream",
          "name": "stderr",
          "text": [
            "Training: 100%|██████████| 196/196 [00:20<00:00,  9.34it/s, loss=2.35, acc=38.3]\n"
          ]
        },
        {
          "output_type": "stream",
          "name": "stdout",
          "text": [
            "Train Loss: 2.3460, Train Acc: 38.26%, Test Loss: 2.0527, Test Acc: 45.06%, Time: 20.99s\n",
            "\n",
            "Epoch [82/100] - Learning Rate: 0.002120\n"
          ]
        },
        {
          "output_type": "stream",
          "name": "stderr",
          "text": [
            "Training: 100%|██████████| 196/196 [00:20<00:00,  9.46it/s, loss=2.35, acc=38.4]\n"
          ]
        },
        {
          "output_type": "stream",
          "name": "stdout",
          "text": [
            "Train Loss: 2.3491, Train Acc: 38.40%, Test Loss: 2.0305, Test Acc: 45.76%, Time: 20.73s\n",
            "\n",
            "Epoch [83/100] - Learning Rate: 0.001910\n"
          ]
        },
        {
          "output_type": "stream",
          "name": "stderr",
          "text": [
            "Training: 100%|██████████| 196/196 [00:19<00:00,  9.82it/s, loss=2.34, acc=38.4]\n"
          ]
        },
        {
          "output_type": "stream",
          "name": "stdout",
          "text": [
            "Train Loss: 2.3392, Train Acc: 38.44%, Test Loss: 2.0371, Test Acc: 45.56%, Time: 19.95s\n",
            "\n",
            "Epoch [84/100] - Learning Rate: 0.001710\n"
          ]
        },
        {
          "output_type": "stream",
          "name": "stderr",
          "text": [
            "Training: 100%|██████████| 196/196 [00:19<00:00, 10.05it/s, loss=2.34, acc=38.6]\n"
          ]
        },
        {
          "output_type": "stream",
          "name": "stdout",
          "text": [
            "Train Loss: 2.3386, Train Acc: 38.58%, Test Loss: 2.0355, Test Acc: 46.11%, Time: 19.50s\n",
            "New best model saved with accuracy: 46.11%\n",
            "\n",
            "Epoch [85/100] - Learning Rate: 0.001520\n"
          ]
        },
        {
          "output_type": "stream",
          "name": "stderr",
          "text": [
            "Training: 100%|██████████| 196/196 [00:20<00:00,  9.54it/s, loss=2.33, acc=38.7]\n"
          ]
        },
        {
          "output_type": "stream",
          "name": "stdout",
          "text": [
            "Train Loss: 2.3274, Train Acc: 38.71%, Test Loss: 2.0261, Test Acc: 46.28%, Time: 20.55s\n",
            "New best model saved with accuracy: 46.28%\n",
            "\n",
            "Epoch [86/100] - Learning Rate: 0.001340\n"
          ]
        },
        {
          "output_type": "stream",
          "name": "stderr",
          "text": [
            "Training: 100%|██████████| 196/196 [00:20<00:00,  9.49it/s, loss=2.32, acc=38.8]\n"
          ]
        },
        {
          "output_type": "stream",
          "name": "stdout",
          "text": [
            "Train Loss: 2.3210, Train Acc: 38.84%, Test Loss: 2.0319, Test Acc: 45.91%, Time: 20.67s\n",
            "\n",
            "Epoch [87/100] - Learning Rate: 0.001171\n"
          ]
        },
        {
          "output_type": "stream",
          "name": "stderr",
          "text": [
            "Training: 100%|██████████| 196/196 [00:19<00:00,  9.99it/s, loss=2.31, acc=39.2]\n"
          ]
        },
        {
          "output_type": "stream",
          "name": "stdout",
          "text": [
            "Train Loss: 2.3135, Train Acc: 39.22%, Test Loss: 2.0197, Test Acc: 46.36%, Time: 19.62s\n",
            "New best model saved with accuracy: 46.36%\n",
            "\n",
            "Epoch [88/100] - Learning Rate: 0.001012\n"
          ]
        },
        {
          "output_type": "stream",
          "name": "stderr",
          "text": [
            "Training: 100%|██████████| 196/196 [00:19<00:00,  9.94it/s, loss=2.31, acc=39.1]\n"
          ]
        },
        {
          "output_type": "stream",
          "name": "stdout",
          "text": [
            "Train Loss: 2.3123, Train Acc: 39.08%, Test Loss: 2.0178, Test Acc: 46.48%, Time: 19.72s\n",
            "New best model saved with accuracy: 46.48%\n",
            "\n",
            "Epoch [89/100] - Learning Rate: 0.000865\n"
          ]
        },
        {
          "output_type": "stream",
          "name": "stderr",
          "text": [
            "Training: 100%|██████████| 196/196 [00:20<00:00,  9.56it/s, loss=2.3, acc=39.5]\n"
          ]
        },
        {
          "output_type": "stream",
          "name": "stdout",
          "text": [
            "Train Loss: 2.3005, Train Acc: 39.50%, Test Loss: 2.0140, Test Acc: 46.59%, Time: 20.50s\n",
            "New best model saved with accuracy: 46.59%\n",
            "\n",
            "Epoch [90/100] - Learning Rate: 0.000728\n"
          ]
        },
        {
          "output_type": "stream",
          "name": "stderr",
          "text": [
            "Training: 100%|██████████| 196/196 [00:20<00:00,  9.50it/s, loss=2.3, acc=39.3]\n"
          ]
        },
        {
          "output_type": "stream",
          "name": "stdout",
          "text": [
            "Train Loss: 2.2995, Train Acc: 39.29%, Test Loss: 2.0153, Test Acc: 46.44%, Time: 20.63s\n",
            "\n",
            "Epoch [91/100] - Learning Rate: 0.000603\n"
          ]
        },
        {
          "output_type": "stream",
          "name": "stderr",
          "text": [
            "Training: 100%|██████████| 196/196 [00:19<00:00, 10.00it/s, loss=2.3, acc=39.5]\n"
          ]
        },
        {
          "output_type": "stream",
          "name": "stdout",
          "text": [
            "Train Loss: 2.2964, Train Acc: 39.47%, Test Loss: 2.0071, Test Acc: 46.33%, Time: 19.60s\n",
            "\n",
            "Epoch [92/100] - Learning Rate: 0.000489\n"
          ]
        },
        {
          "output_type": "stream",
          "name": "stderr",
          "text": [
            "Training: 100%|██████████| 196/196 [00:20<00:00,  9.71it/s, loss=2.29, acc=39.6]\n"
          ]
        },
        {
          "output_type": "stream",
          "name": "stdout",
          "text": [
            "Train Loss: 2.2891, Train Acc: 39.59%, Test Loss: 2.0050, Test Acc: 46.41%, Time: 20.20s\n",
            "\n",
            "Epoch [93/100] - Learning Rate: 0.000387\n"
          ]
        },
        {
          "output_type": "stream",
          "name": "stderr",
          "text": [
            "Training: 100%|██████████| 196/196 [00:20<00:00,  9.45it/s, loss=2.29, acc=39.4]\n"
          ]
        },
        {
          "output_type": "stream",
          "name": "stdout",
          "text": [
            "Train Loss: 2.2860, Train Acc: 39.44%, Test Loss: 2.0084, Test Acc: 46.41%, Time: 20.73s\n",
            "\n",
            "Epoch [94/100] - Learning Rate: 0.000297\n"
          ]
        },
        {
          "output_type": "stream",
          "name": "stderr",
          "text": [
            "Training: 100%|██████████| 196/196 [00:20<00:00,  9.65it/s, loss=2.29, acc=39.4]\n"
          ]
        },
        {
          "output_type": "stream",
          "name": "stdout",
          "text": [
            "Train Loss: 2.2900, Train Acc: 39.36%, Test Loss: 2.0047, Test Acc: 46.47%, Time: 20.32s\n",
            "\n",
            "Epoch [95/100] - Learning Rate: 0.000219\n"
          ]
        },
        {
          "output_type": "stream",
          "name": "stderr",
          "text": [
            "Training: 100%|██████████| 196/196 [00:20<00:00,  9.78it/s, loss=2.29, acc=39.5]\n"
          ]
        },
        {
          "output_type": "stream",
          "name": "stdout",
          "text": [
            "Train Loss: 2.2905, Train Acc: 39.45%, Test Loss: 2.0043, Test Acc: 46.50%, Time: 20.04s\n",
            "\n",
            "Epoch [96/100] - Learning Rate: 0.000152\n"
          ]
        },
        {
          "output_type": "stream",
          "name": "stderr",
          "text": [
            "Training: 100%|██████████| 196/196 [00:20<00:00,  9.52it/s, loss=2.28, acc=39.7]\n"
          ]
        },
        {
          "output_type": "stream",
          "name": "stdout",
          "text": [
            "Train Loss: 2.2839, Train Acc: 39.70%, Test Loss: 2.0012, Test Acc: 46.50%, Time: 20.60s\n",
            "\n",
            "Epoch [97/100] - Learning Rate: 0.000097\n"
          ]
        },
        {
          "output_type": "stream",
          "name": "stderr",
          "text": [
            "Training: 100%|██████████| 196/196 [00:20<00:00,  9.34it/s, loss=2.28, acc=39.7]\n"
          ]
        },
        {
          "output_type": "stream",
          "name": "stdout",
          "text": [
            "Train Loss: 2.2799, Train Acc: 39.73%, Test Loss: 2.0021, Test Acc: 46.46%, Time: 20.99s\n",
            "\n",
            "Epoch [98/100] - Learning Rate: 0.000055\n"
          ]
        },
        {
          "output_type": "stream",
          "name": "stderr",
          "text": [
            "Training: 100%|██████████| 196/196 [00:20<00:00,  9.66it/s, loss=2.28, acc=39.7]\n"
          ]
        },
        {
          "output_type": "stream",
          "name": "stdout",
          "text": [
            "Train Loss: 2.2754, Train Acc: 39.66%, Test Loss: 2.0026, Test Acc: 46.54%, Time: 20.30s\n",
            "\n",
            "Epoch [99/100] - Learning Rate: 0.000024\n"
          ]
        },
        {
          "output_type": "stream",
          "name": "stderr",
          "text": [
            "Training: 100%|██████████| 196/196 [00:19<00:00,  9.89it/s, loss=2.29, acc=39.4]\n"
          ]
        },
        {
          "output_type": "stream",
          "name": "stdout",
          "text": [
            "Train Loss: 2.2852, Train Acc: 39.43%, Test Loss: 2.0036, Test Acc: 46.52%, Time: 19.83s\n",
            "\n",
            "Epoch [100/100] - Learning Rate: 0.000006\n"
          ]
        },
        {
          "output_type": "stream",
          "name": "stderr",
          "text": [
            "Training: 100%|██████████| 196/196 [00:20<00:00,  9.49it/s, loss=2.28, acc=39.6]\n"
          ]
        },
        {
          "output_type": "stream",
          "name": "stdout",
          "text": [
            "Train Loss: 2.2827, Train Acc: 39.65%, Test Loss: 2.0021, Test Acc: 46.50%, Time: 20.65s\n",
            "Best model loaded with accuracy: 46.59%\n"
          ]
        },
        {
          "output_type": "display_data",
          "data": {
            "text/plain": [
              "<Figure size 1800x500 with 3 Axes>"
            ],
            "image/png": "[encoded data removed]"
          },
          "metadata": {}
        },
        {
          "output_type": "stream",
          "name": "stdout",
          "text": [
            "LAMB benchmark completed!\n"
          ]
        }
      ],
      "source": [
        "import torch\n",
        "import torch.nn as nn\n",
        "import torchvision.transforms as transforms\n",
        "import torch.nn.functional as F\n",
        "from torchvision.datasets import CIFAR10, CIFAR100\n",
        "import torchvision.models as models\n",
        "from torch.utils.data import DataLoader\n",
        "\n",
        "from tqdm import tqdm\n",
        "import matplotlib.pyplot as plt\n",
        "import time\n",
        "import pickle\n",
        "import numpy as np\n",
        "import random\n",
        "\n",
        "# ─── Import LAMB from torch-optimizer ───────────────────────────────────────\n",
        "from torch_optimizer import Lamb\n",
        "# ───────────────────────────────────────────────────────────────────────────────\n",
        "\n",
        "import math\n",
        "\n",
        "print(\"PyTorch version:\", torch.__version__)\n",
        "device = torch.device(\"cuda:0\" if torch.cuda.is_available() else \"cpu\")\n",
        "print(f\"Using device: {device}\")\n",
        "\n",
        "# Seeding for reproducibility\n",
        "seed = 2025\n",
        "torch.manual_seed(seed)\n",
        "torch.cuda.manual_seed(seed)\n",
        "np.random.seed(seed)\n",
        "random.seed(seed)\n",
        "\n",
        "# transforms\n",
        "train_transform = transforms.Compose(\n",
        "    [\n",
        "        transforms.RandomCrop(32, padding=4),\n",
        "        transforms.RandomHorizontalFlip(),\n",
        "        transforms.ToTensor(),\n",
        "        transforms.Normalize((0.4914, 0.4822, 0.4465),\n",
        "                             (0.2023, 0.1994, 0.2010)),\n",
        "    ]\n",
        ")\n",
        "\n",
        "test_transform = transforms.Compose(\n",
        "    [\n",
        "        transforms.ToTensor(),\n",
        "        transforms.Normalize((0.4914, 0.4822, 0.4465),\n",
        "                             (0.2023, 0.1994, 0.2010)),\n",
        "    ]\n",
        ")\n",
        "\n",
        "\n",
        "# load data\n",
        "def load_data(dataset_name=\"cifar100\", batch_size=128, num_workers=2):\n",
        "    \"\"\"Enhanced data loading with stronger augmentation for CIFAR-100\"\"\"\n",
        "\n",
        "    train_transform = transforms.Compose(\n",
        "        [\n",
        "            transforms.RandomCrop(32, padding=4),\n",
        "            transforms.RandomHorizontalFlip(),\n",
        "            transforms.ToTensor(),\n",
        "            transforms.Normalize((0.4914, 0.4822, 0.4465),\n",
        "                                 (0.2023, 0.1994, 0.2010)),\n",
        "        ]\n",
        "    )\n",
        "    test_transform = transforms.Compose(\n",
        "        [\n",
        "            transforms.ToTensor(),\n",
        "            transforms.Normalize((0.4914, 0.4822, 0.4465),\n",
        "                                 (0.2023, 0.1994, 0.2010)),\n",
        "        ]\n",
        "    )\n",
        "\n",
        "    if dataset_name.lower() == \"cifar100\":\n",
        "        train_dataset = CIFAR100(\n",
        "            root=\"./data\", train=True, download=True, transform=train_transform\n",
        "        )\n",
        "        test_dataset = CIFAR100(\n",
        "            root=\"./data\", train=False, download=True, transform=test_transform\n",
        "        )\n",
        "        num_classes = 100\n",
        "    else:\n",
        "        raise ValueError(f\"Dataset {dataset_name} not supported in enhanced version\")\n",
        "\n",
        "    train_loader = DataLoader(\n",
        "        train_dataset,\n",
        "        batch_size=batch_size,\n",
        "        shuffle=True,\n",
        "        num_workers=num_workers,\n",
        "    )\n",
        "    test_loader = DataLoader(\n",
        "        test_dataset,\n",
        "        batch_size=batch_size,\n",
        "        shuffle=False,\n",
        "        num_workers=num_workers,\n",
        "    )\n",
        "    return train_loader, test_loader, num_classes\n",
        "\n",
        "\n",
        "# model - LeNet5 from the paper [11]\n",
        "class LeNet5(nn.Module):\n",
        "    def __init__(self, num_classes=10):\n",
        "        super(LeNet5, self).__init__()\n",
        "        # Input: 3x32x32 (CIFAR has 3 color channels)\n",
        "        self.conv1 = nn.Conv2d(3, 6, kernel_size=5)  # Output: 6x28x28\n",
        "        self.pool1 = nn.MaxPool2d(kernel_size=2, stride=2)  # Output: 6x14x14\n",
        "        self.conv2 = nn.Conv2d(6, 16, kernel_size=5)  # Output: 16x10x10\n",
        "        self.pool2 = nn.MaxPool2d(kernel_size=2, stride=2)  # Output: 16x5x5\n",
        "\n",
        "        # fc layers\n",
        "        self.fc1 = nn.Linear(16 * 5 * 5, 120)\n",
        "        self.fc2 = nn.Linear(120, 84)\n",
        "        self.fc3 = nn.Linear(84, num_classes)\n",
        "\n",
        "    def forward(self, x):\n",
        "        x = self.pool1(F.relu(self.conv1(x)))\n",
        "        x = self.pool2(F.relu(self.conv2(x)))\n",
        "        x = x.view(-1, 16 * 5 * 5)  # flatten\n",
        "        x = F.relu(self.fc1(x))\n",
        "        x = F.relu(self.fc2(x))\n",
        "        x = self.fc3(x)\n",
        "        return x\n",
        "\n",
        "\n",
        "class ImprovedCNN(nn.Module):\n",
        "    def __init__(self, num_classes=100):\n",
        "        super(ImprovedCNN, self).__init__()\n",
        "        # First conv block\n",
        "        self.conv1 = nn.Conv2d(3, 64, kernel_size=5, padding=2)\n",
        "        self.bn1 = nn.BatchNorm2d(64)  # using BatchNorm for better training stability\n",
        "        self.pool1 = nn.MaxPool2d(kernel_size=2, stride=2)\n",
        "\n",
        "        # Second conv block\n",
        "        self.conv2 = nn.Conv2d(64, 64, kernel_size=5, padding=2)\n",
        "        self.bn2 = nn.BatchNorm2d(64)\n",
        "        self.pool2 = nn.MaxPool2d(kernel_size=2, stride=2)\n",
        "\n",
        "        # Fully connected layers\n",
        "        self.fc1 = nn.Linear(64 * 8 * 8, 384)\n",
        "        self.dropout1 = nn.Dropout(0.5)\n",
        "        self.fc2 = nn.Linear(384, 192)\n",
        "        self.dropout2 = nn.Dropout(0.5)\n",
        "        self.fc3 = nn.Linear(192, num_classes)\n",
        "\n",
        "    def forward(self, x):\n",
        "        # First conv block\n",
        "        x = self.pool1(F.relu(self.bn1(self.conv1(x))))\n",
        "        # Second conv block\n",
        "        x = self.pool2(F.relu(self.bn2(self.conv2(x))))\n",
        "        # Flatten and FC\n",
        "        x = x.view(-1, 64 * 8 * 8)\n",
        "        x = F.relu(self.fc1(x))\n",
        "        x = self.dropout1(x)\n",
        "        x = F.relu(self.fc2(x))\n",
        "        x = self.dropout2(x)\n",
        "        x = self.fc3(x)\n",
        "        return x\n",
        "\n",
        "\n",
        "def create_model(model_name, num_classes=100):\n",
        "    if model_name.lower() == \"improved_cnn\":\n",
        "        return ImprovedCNN(num_classes=num_classes)\n",
        "    elif model_name.lower() == \"lenet5\":\n",
        "        return LeNet5(num_classes=num_classes)\n",
        "    else:\n",
        "        raise ValueError(f\"Unknown model: {model_name}\")\n",
        "\n",
        "\n",
        "# train\n",
        "def train_epoch(model, train_loader, criterion, optimizer, device):\n",
        "    model.train()\n",
        "    running_loss = 0.0\n",
        "    correct = 0\n",
        "    total = 0\n",
        "\n",
        "    pbar = tqdm(train_loader, desc=\"Training\")\n",
        "    for inputs, labels in pbar:\n",
        "        inputs, labels = inputs.to(device), labels.to(device)\n",
        "\n",
        "        optimizer.zero_grad()\n",
        "        outputs = model(inputs)\n",
        "        loss = criterion(outputs, labels)\n",
        "        loss.backward()\n",
        "        optimizer.step()\n",
        "\n",
        "        running_loss += loss.item() * inputs.size(0)\n",
        "        _, predicted = outputs.max(1)\n",
        "        total += labels.size(0)\n",
        "        correct += predicted.eq(labels).sum().item()\n",
        "        pbar.set_postfix({\"loss\": running_loss / total,\n",
        "                          \"acc\": 100.0 * correct / total})\n",
        "\n",
        "    train_loss = running_loss / total\n",
        "    train_acc = 100.0 * correct / total\n",
        "    return train_loss, train_acc\n",
        "\n",
        "\n",
        "# eval\n",
        "def evaluate(model, test_loader, criterion, device):\n",
        "    model.eval()\n",
        "    running_loss = 0.0\n",
        "    correct = 0\n",
        "    total = 0\n",
        "\n",
        "    with torch.no_grad():\n",
        "        for inputs, labels in test_loader:\n",
        "            inputs, labels = inputs.to(device), labels.to(device)\n",
        "            outputs = model(inputs)\n",
        "            loss = criterion(outputs, labels)\n",
        "\n",
        "            running_loss += loss.item() * inputs.size(0)\n",
        "            _, predicted = outputs.max(1)\n",
        "            total += labels.size(0)\n",
        "            correct += predicted.eq(labels).sum().item()\n",
        "\n",
        "    test_loss = running_loss / total\n",
        "    test_acc = 100.0 * correct / total\n",
        "    return test_loss, test_acc\n",
        "\n",
        "\n",
        "# train config\n",
        "def train_centralized_model(\n",
        "    model_name=\"improved_cnn\",\n",
        "    dataset_name=\"cifar100\",\n",
        "    batch_size=256,\n",
        "    epochs=100,\n",
        "    lr=0.01,\n",
        "    momentum=0.9,\n",
        "    weight_decay=4e-4,\n",
        "    lr_scheduler=\"lamb\",\n",
        "    save_path=\"improved_cnn_model.pth\",\n",
        "):\n",
        "    # Load data\n",
        "    train_loader, test_loader, num_classes = load_data(\n",
        "        dataset_name=dataset_name, batch_size=batch_size\n",
        "    )\n",
        "\n",
        "    # Create model\n",
        "    model = create_model(model_name, num_classes=num_classes).to(device)\n",
        "\n",
        "    # Print total parameters\n",
        "    total_params = sum(p.numel() for p in model.parameters())\n",
        "    print(f\"Total parameters: {total_params:,}\")\n",
        "\n",
        "    # Loss\n",
        "    criterion = nn.CrossEntropyLoss()\n",
        "\n",
        "    # Linear‐scaling rule for LR\n",
        "    scaled_lr = lr * (batch_size / 128)\n",
        "\n",
        "    # Separate parameters into decay vs. no‐decay groups\n",
        "    decay_params = []\n",
        "    no_decay_params = []\n",
        "    for name, param in model.named_parameters():\n",
        "        if not param.requires_grad:\n",
        "            continue\n",
        "        if param.ndim == 1:\n",
        "            no_decay_params.append(param)\n",
        "        else:\n",
        "            decay_params.append(param)\n",
        "\n",
        "    # ─── Instantiate LAMB ─────────────────────────────────────────────────────────\n",
        "    #\n",
        "    # We set global weight_decay=0.0 because we're handling it per‐group.\n",
        "    #\n",
        "    optimizer = Lamb(\n",
        "        [\n",
        "            {\"params\": decay_params,    \"weight_decay\": weight_decay},\n",
        "            {\"params\": no_decay_params, \"weight_decay\": 0.0}\n",
        "        ],\n",
        "        lr=scaled_lr,\n",
        "        betas=(0.9, 0.999),\n",
        "        eps=1e-6,\n",
        "        weight_decay=0.0  # global default; per-group overrides actual decay\n",
        "    )\n",
        "    # ────────────────────────────────────────────────────────────────────────────────\n",
        "\n",
        "    # Learning‐rate scheduler: warmup + cosine, same as LARS code\n",
        "    if lr_scheduler == \"lamb\":\n",
        "        warmup_epochs = 10\n",
        "\n",
        "        def lr_lambda(epoch):\n",
        "            if epoch < warmup_epochs:\n",
        "                return float(epoch + 1) / float(warmup_epochs)\n",
        "            return 0.5 * (\n",
        "                1.0\n",
        "                + math.cos(\n",
        "                    math.pi * (epoch - warmup_epochs) / (epochs - warmup_epochs)\n",
        "                )\n",
        "            )\n",
        "\n",
        "        scheduler = torch.optim.lr_scheduler.LambdaLR(optimizer, lr_lambda)\n",
        "\n",
        "    elif lr_scheduler == \"step\":\n",
        "        scheduler = torch.optim.lr_scheduler.MultiStepLR(\n",
        "            optimizer,\n",
        "            milestones=[int(epochs * 0.5), int(epochs * 0.75)],\n",
        "            gamma=0.1\n",
        "        )\n",
        "    else:\n",
        "        raise ValueError(f\"Unknown scheduler: {lr_scheduler}\")\n",
        "\n",
        "    # Training history\n",
        "    history = {\n",
        "        \"train_loss\": [],\n",
        "        \"train_acc\": [],\n",
        "        \"test_loss\": [],\n",
        "        \"test_acc\": [],\n",
        "        \"lr\": [],\n",
        "    }\n",
        "\n",
        "    best_acc = 0.0\n",
        "\n",
        "    # Training loop\n",
        "    for epoch in range(epochs):\n",
        "        current_lr = optimizer.param_groups[0][\"lr\"]\n",
        "        print(f\"\\nEpoch [{epoch + 1}/{epochs}] - Learning Rate: {current_lr:.6f}\")\n",
        "\n",
        "        # Train for one epoch\n",
        "        start_time = time.time()\n",
        "        train_loss, train_acc = train_epoch(\n",
        "            model, train_loader, criterion, optimizer, device\n",
        "        )\n",
        "        train_time = time.time() - start_time\n",
        "\n",
        "        # Evaluate\n",
        "        test_loss, test_acc = evaluate(model, test_loader, criterion, device)\n",
        "        scheduler.step()\n",
        "\n",
        "        print(\n",
        "            f\"Train Loss: {train_loss:.4f}, Train Acc: {train_acc:.2f}%, \"\n",
        "            f\"Test Loss: {test_loss:.4f}, Test Acc: {test_acc:.2f}%, \"\n",
        "            f\"Time: {train_time:.2f}s\"\n",
        "        )\n",
        "\n",
        "        if test_acc > best_acc:\n",
        "            best_acc = test_acc\n",
        "            torch.save(\n",
        "                {\n",
        "                    \"epoch\": epoch,\n",
        "                    \"model_state_dict\": model.state_dict(),\n",
        "                    \"optimizer_state_dict\": optimizer.state_dict(),\n",
        "                    \"test_acc\": test_acc,\n",
        "                },\n",
        "                save_path,\n",
        "            )\n",
        "            print(f\"New best model saved with accuracy: {test_acc:.2f}%\")\n",
        "\n",
        "        history[\"train_loss\"].append(train_loss)\n",
        "        history[\"train_acc\"].append(train_acc)\n",
        "        history[\"test_loss\"].append(test_loss)\n",
        "        history[\"test_acc\"].append(test_acc)\n",
        "        history[\"lr\"].append(current_lr)\n",
        "\n",
        "    # Load best model\n",
        "    checkpoint = torch.load(save_path)\n",
        "    model.load_state_dict(checkpoint[\"model_state_dict\"])\n",
        "    print(f\"Best model loaded with accuracy: {checkpoint['test_acc']:.2f}%\")\n",
        "\n",
        "    return model, history\n",
        "\n",
        "\n",
        "# visualization of model performance\n",
        "def plot_training_history(history):\n",
        "    fig, (ax1, ax2, ax3) = plt.subplots(1, 3, figsize=(18, 5))\n",
        "\n",
        "    ax1.plot(history[\"train_loss\"], label=\"Train Loss\")\n",
        "    ax1.plot(history[\"test_loss\"], label=\"Test Loss\")\n",
        "    ax1.set_xlabel(\"Epoch\")\n",
        "    ax1.set_ylabel(\"Loss\")\n",
        "    ax1.legend()\n",
        "    ax1.set_title(\"Loss Curves\")\n",
        "    ax1.grid(True)\n",
        "\n",
        "    ax2.plot(history[\"train_acc\"], label=\"Train Accuracy\")\n",
        "    ax2.plot(history[\"test_acc\"], label=\"Test Accuracy\")\n",
        "    ax2.set_xlabel(\"Epoch\")\n",
        "    ax2.set_ylabel(\"Accuracy (%)\")\n",
        "    ax2.legend()\n",
        "    ax2.set_title(\"Accuracy Curves\")\n",
        "    ax2.grid(True)\n",
        "\n",
        "    ax3.plot(history[\"lr\"])\n",
        "    ax3.set_xlabel(\"Epoch\")\n",
        "    ax3.set_ylabel(\"Learning Rate\")\n",
        "    ax3.set_title(\"Learning Rate Schedule\")\n",
        "    ax3.set_yscale(\"log\")\n",
        "    ax3.grid(True)\n",
        "\n",
        "    plt.tight_layout()\n",
        "    plt.show()\n",
        "\n",
        "\n",
        "# run benchmark\n",
        "def run_centralized_benchmark():\n",
        "    config = {\n",
        "        \"model_name\": \"improved_cnn\",\n",
        "        \"dataset_name\": \"cifar100\",\n",
        "        \"batch_size\": 256,\n",
        "        \"epochs\": 100,\n",
        "        \"lr\": 0.01,\n",
        "        \"momentum\": 0.9,\n",
        "        \"weight_decay\": 4e-4,\n",
        "        \"lr_scheduler\": \"lamb\",\n",
        "        \"save_path\": \"improved_cnn_model_lamb.pth\",\n",
        "    }\n",
        "\n",
        "    print(\n",
        "        f\"Running LAMB benchmark with {config['model_name']} on {config['dataset_name']}...\"\n",
        "    )\n",
        "\n",
        "    model, history = train_centralized_model(**config)\n",
        "    plot_training_history(history)\n",
        "\n",
        "    with open(\"history_lamb.pkl\", \"wb\") as f:\n",
        "        pickle.dump(history, f)\n",
        "\n",
        "    print(\"LAMB benchmark completed!\")\n",
        "    return model, history\n",
        "\n",
        "\n",
        "def main():\n",
        "    model, history = run_centralized_benchmark()\n",
        "    return model, history\n",
        "\n",
        "\n",
        "if __name__ == \"__main__\":\n",
        "    main()\n"
      ]
    }
  ]
}